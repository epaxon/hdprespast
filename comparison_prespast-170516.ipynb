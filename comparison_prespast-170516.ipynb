{
 "cells": [
  {
   "cell_type": "code",
   "execution_count": 141,
   "metadata": {
    "collapsed": true
   },
   "outputs": [],
   "source": [
    "from pylab import *\n",
    "import matplotlib.patches as patches\n",
    "import time\n",
    "\n",
    "%matplotlib inline\n",
    "\n",
    "\n",
    "plt.rcParams.update({'axes.titlesize': 'xx-large'})\n",
    "plt.rcParams.update({'axes.labelsize': 'xx-large'})\n",
    "plt.rcParams.update({'xtick.labelsize': 'x-large', 'ytick.labelsize': 'x-large'})\n",
    "plt.rcParams.update({'legend.fontsize': 'x-large'})\n"
   ]
  },
  {
   "cell_type": "code",
   "execution_count": 49,
   "metadata": {
    "collapsed": false
   },
   "outputs": [],
   "source": [
    "data_files = []\n",
    "data_N = []\n",
    "data_type = []\n",
    "#data_files.append('data/regression_similarity-N=100-W=1700-rc=1e-15-170517.npz')\n",
    "#data_files.append('data/regression_similarity-N=1000-W=1700-rc=1e-15-170517.npz')\n",
    "data_files.append('data/regression_similarity-N=100-W=1700-rc=0.05-170517.npz')\n",
    "data_N.append(100*100)\n",
    "data_type.append(0)\n",
    "\n",
    "data_files.append('data/regression_similarity-N=1000-W=1700-rc=0.05-170517.npz')\n",
    "data_N.append(1000*1000)\n",
    "data_type.append(0)\n",
    "\n",
    "\n",
    "data_files.append('data/reg_outer_similarity-N=100-W=1700-rc=1e-15-170517.npz')\n",
    "data_N.append(100*100)\n",
    "data_type.append(2)\n",
    "\n",
    "data_files.append('data/reg_outer_similarity-N=1000-W=1700-rc=1e-15-170517.npz')\n",
    "data_N.append(1000*1000)\n",
    "data_type.append(2)\n",
    "\n",
    "\n",
    "\n",
    "data_files.append('data/reg_binding_similarity-N=1000-W=1700-170517.npz')\n",
    "data_N.append(1000)\n",
    "data_type.append(4)\n",
    "\n",
    "data_files.append('data/reg_binding_similarity-N=10000-W=1700-170517.npz')\n",
    "data_N.append(10000)\n",
    "data_type.append(4)\n",
    "\n",
    "data_files.append('data/reg_binding_similarity-N=100000-W=1700-170517.npz')\n",
    "data_N.append(100000)\n",
    "data_type.append(4)\n",
    "\n",
    "\n",
    "#data_files.append('data/regression_diff_similarity-N=100-W=1700-rc=1e-15-170517.npz')\n",
    "#data_files.append('data/regression_diff_similarity-N=1000-W=1700-rc=1e-15-170517.npz')\n",
    "data_files.append('data/regression_diff_similarity-N=100-W=1700-rc=0.05-170517.npz')\n",
    "data_N.append(100*100)\n",
    "data_type.append(1)\n",
    "\n",
    "data_files.append('data/regression_diff_similarity-N=1000-W=1700-rc=0.05-170517.npz')\n",
    "data_N.append(1000*1000)\n",
    "data_type.append(1)\n",
    "\n",
    "\n",
    "data_files.append('data/reg_outer_diff_similarity-N=100-W=1700-rc=1e-15-170517.npz')\n",
    "data_N.append(100*100)\n",
    "data_type.append(3)\n",
    "\n",
    "data_files.append('data/reg_outer_diff_similarity-N=1000-W=1700-rc=1e-15-170517.npz')\n",
    "data_N.append(1000*1000)\n",
    "data_type.append(3)\n",
    "\n",
    "\n",
    "data_files.append('data/reg_binding_diff_similarity-N=1000-W=1700-170518.npz')\n",
    "data_N.append(1000)\n",
    "data_type.append(5)\n",
    "\n",
    "data_files.append('data/reg_binding_diff_similarity-N=10000-W=1700-170517.npz')\n",
    "data_N.append(10000)\n",
    "data_type.append(5)\n",
    "\n",
    "data_files.append('data/reg_binding_diff_similarity-N=100000-W=1700-170517.npz')\n",
    "data_N.append(100000)\n",
    "data_type.append(5)\n",
    "\n",
    "\n"
   ]
  },
  {
   "cell_type": "code",
   "execution_count": 50,
   "metadata": {
    "collapsed": false
   },
   "outputs": [],
   "source": [
    "h = []\n",
    "\n",
    "for f in data_files:\n",
    "    h.append(np.load(f))\n",
    "    \n"
   ]
  },
  {
   "cell_type": "code",
   "execution_count": 128,
   "metadata": {
    "collapsed": true
   },
   "outputs": [],
   "source": [
    "\n",
    "uN = unique(data_N)\n",
    "udt = unique(data_type)\n",
    "\n",
    "cols_N = get_cmap('coolwarm', len(uN))\n",
    "\n",
    "udt = unique(data_type)\n",
    "cols_dt = get_cmap('Paired', 12)\n"
   ]
  },
  {
   "cell_type": "code",
   "execution_count": 129,
   "metadata": {
    "collapsed": false
   },
   "outputs": [
    {
     "data": {
      "text/plain": [
       "6"
      ]
     },
     "execution_count": 129,
     "metadata": {},
     "output_type": "execute_result"
    }
   ],
   "source": [
    "len(udt)"
   ]
  },
  {
   "cell_type": "code",
   "execution_count": 142,
   "metadata": {
    "collapsed": false
   },
   "outputs": [
    {
     "name": "stdout",
     "output_type": "stream",
     "text": [
      "0\n",
      "2\n",
      "4\n",
      "1\n",
      "3\n",
      "figures/algorithm_comparison-nA=14-170518\n"
     ]
    },
    {
     "data": {
      "image/png": "[encoded data removed]",
      "text/plain": [
       "<matplotlib.figure.Figure at 0x7f587fd586d0>"
      ]
     },
     "metadata": {},
     "output_type": "display_data"
    }
   ],
   "source": [
    "figure(figsize=(4,3))\n",
    "\n",
    "c = 1\n",
    "tt = 0\n",
    "rx = 0\n",
    "\n",
    "\n",
    "\n",
    "for i in range(len(h)):\n",
    "    Nidx = np.nonzero(data_N[i] == uN)[0]\n",
    "    if not tt == data_type[i]: \n",
    "        print tt\n",
    "        rect_p = patches.Rectangle((rx, -0.5), c-rx, 3,\n",
    "                                   facecolor=cols_dt(tt), \n",
    "                                   edgecolor=\"none\",\n",
    "                                   alpha=0.3)\n",
    "        gca().add_patch(rect_p)\n",
    "        \n",
    "        tt = data_type[i]        \n",
    "        rx=c\n",
    "        c += 1\n",
    "\n",
    "    \n",
    "    plot([c, c], \n",
    "         [h[i]['test_mean'][-1] - h[i]['test_std'][-1], h[i]['test_mean'][-1] + h[i]['test_std'][-1]], \n",
    "          '-sk')\n",
    "    plot([c, c], [h[i]['test_mean'][-1], h[i]['test_mean'][-1]], 'o', c=cols_N(Nidx)[0])#, mfc=cols_N(Nidx))\n",
    "\n",
    "    c+= 1\n",
    "    \n",
    "rect_p = patches.Rectangle((rx, -0.5), c-rx, 3, \n",
    "                           facecolor=cols_dt(data_type[i]), \n",
    "                           edgecolor=\"none\",\n",
    "                           alpha=0.3)\n",
    "gca().add_patch(rect_p)\n",
    "rx=c\n",
    "    \n",
    "plot([0, c], [0, 0], 'k')\n",
    "plot([0, c], [1, 1], ':k')\n",
    "\n",
    "ylim([-0.3, 2.2])\n",
    "yticks([0, 1, 2])\n",
    "xticks([])\n",
    "\n",
    "fname =  ('figures/algorithm_comparison-nA=' + str(len(h))\n",
    "          + '-' + time.strftime('%y%m%d'))\n",
    "print fname\n",
    "\n",
    "plt.savefig(fname + '.png', transparent=True)\n",
    "plt.savefig(fname + '.eps', transparent=True)"
   ]
  },
  {
   "cell_type": "code",
   "execution_count": 147,
   "metadata": {
    "collapsed": false
   },
   "outputs": [
    {
     "name": "stdout",
     "output_type": "stream",
     "text": [
      "figures/comparison_legend-nA=14-170519\n"
     ]
    },
    {
     "data": {
      "image/png": "[encoded data removed]",
      "text/plain": [
       "<matplotlib.figure.Figure at 0x7f587fe55ad0>"
      ]
     },
     "metadata": {},
     "output_type": "display_data"
    }
   ],
   "source": [
    "figure(figsize=(4,3))\n",
    "\n",
    "for iN,N in enumerate(uN):\n",
    "    plot(iN, 'o', mfc=cols_N(iN), label=\"$N=%i$\" % N)\n",
    "    \n",
    "legend(numpoints=1)\n",
    "\n",
    "fname =  ('figures/comparison_legend-nA=' + str(len(h))\n",
    "          + '-' + time.strftime('%y%m%d'))\n",
    "print fname\n",
    "\n",
    "plt.savefig(fname + '.png', transparent=True)\n",
    "plt.savefig(fname + '.eps', transparent=True)"
   ]
  },
  {
   "cell_type": "code",
   "execution_count": 107,
   "metadata": {
    "collapsed": false
   },
   "outputs": [
    {
     "data": {
      "image/png": "[encoded data removed]",
      "text/plain": [
       "<matplotlib.figure.Figure at 0x7f587fc5c050>"
      ]
     },
     "metadata": {},
     "output_type": "display_data"
    }
   ],
   "source": [
    "for i in range(len(h)):\n",
    "    ttm = h[i]['test_mean'][-1] / h[i]['train_mean'][-1]\n",
    "    Nidx = np.nonzero(data_N[i] == uN)[0]\n",
    "\n",
    "    plot(i, ttm, 'o', c=cols_N(Nidx)[0])\n",
    "    plot([i, i], \n",
    "         [ttm - h[i]['test_std'][-1], ttm + h[i]['test_std'][-1]], \n",
    "          '-sk')"
   ]
  },
  {
   "cell_type": "code",
   "execution_count": null,
   "metadata": {
    "collapsed": true
   },
   "outputs": [],
   "source": []
  }
 ],
 "metadata": {
  "kernelspec": {
   "display_name": "Python 2",
   "language": "python",
   "name": "python2"
  },
  "language_info": {
   "codemirror_mode": {
    "name": "ipython",
    "version": 2
   },
   "file_extension": ".py",
   "mimetype": "text/x-python",
   "name": "python",
   "nbconvert_exporter": "python",
   "pygments_lexer": "ipython2",
   "version": "2.7.11"
  }
 },
 "nbformat": 4,
 "nbformat_minor": 0
}
