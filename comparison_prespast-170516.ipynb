{
 "cells": [
  {
   "cell_type": "code",
   "execution_count": 20,
   "metadata": {
    "collapsed": true
   },
   "outputs": [],
   "source": [
    "from pylab import *\n",
    "\n",
    "%matplotlib inline"
   ]
  },
  {
   "cell_type": "code",
   "execution_count": 11,
   "metadata": {
    "collapsed": true
   },
   "outputs": [],
   "source": [
    "data_files = []\n",
    "\n",
    "data_files.append('data/regression_similarity-N=100-W=1700-rc=1e-15-170517.npz')\n",
    "data_files.append('data/regression_similarity-N=1000-W=1700-rc=1e-15-170517.npz')\n",
    "data_files.append('data/regression_similarity-N=100-W=1700-rc=0.05-170517.npz')\n",
    "data_files.append('data/regression_similarity-N=1000-W=1700-rc=0.05-170517.npz')\n",
    "\n",
    "data_files.append('data/regression_diff_similarity-N=100-W=1700-rc=1e-15-170517.npz')\n",
    "data_files.append('data/regression_diff_similarity-N=1000-W=1700-rc=1e-15-170517.npz')\n",
    "data_files.append('data/regression_diff_similarity-N=100-W=1700-rc=0.05-170517.npz')\n",
    "data_files.append('data/regression_diff_similarity-N=1000-W=1700-rc=0.05-170517.npz')\n",
    "\n",
    "data_files.append('data/reg_outer_similarity-N=100-W=1700-rc=1e-15-170517.npz')\n",
    "data_files.append('data/reg_outer_similarity-N=1000-W=1700-rc=1e-15-170517.npz')\n",
    "\n",
    "data_files.append('data/reg_outer_diff_similarity-N=100-W=1700-rc=1e-15-170517.npz')\n",
    "data_files.append('data/reg_outer_diff_similarity-N=1000-W=1700-rc=1e-15-170517.npz')\n",
    "\n"
   ]
  },
  {
   "cell_type": "code",
   "execution_count": 12,
   "metadata": {
    "collapsed": false
   },
   "outputs": [],
   "source": [
    "h = []\n",
    "\n",
    "for f in data_files:\n",
    "    h.append(np.load(f))\n",
    "    \n"
   ]
  },
  {
   "cell_type": "code",
   "execution_count": 22,
   "metadata": {
    "collapsed": false
   },
   "outputs": [
    {
     "data": {
      "image/png": "[encoded data removed]",
      "text/plain": [
       "<matplotlib.figure.Figure at 0x7f58800f9fd0>"
      ]
     },
     "metadata": {},
     "output_type": "display_data"
    }
   ],
   "source": [
    "for i in range(len(h)):\n",
    "    plot(i, h[i]['test_mean'][-1], 'o')\n",
    "    plot([i, i], \n",
    "         [h[i]['test_mean'][-1] - h[i]['test_std'][-1], h[i]['test_mean'][-1] + h[i]['test_std'][-1]], \n",
    "          '-sk')"
   ]
  },
  {
   "cell_type": "code",
   "execution_count": 23,
   "metadata": {
    "collapsed": false
   },
   "outputs": [
    {
     "data": {
      "image/png": "[encoded data removed]",
      "text/plain": [
       "<matplotlib.figure.Figure at 0x7f587ff45210>"
      ]
     },
     "metadata": {},
     "output_type": "display_data"
    }
   ],
   "source": [
    "for i in range(len(h)):\n",
    "    ttm = h[i]['test_mean'][-1] / h[i]['train_mean'][-1]\n",
    "    plot(i, ttm, 'o')\n",
    "    plot([i, i], \n",
    "         [ttm - h[i]['test_std'][-1], ttm + h[i]['test_std'][-1]], \n",
    "          '-sk')"
   ]
  },
  {
   "cell_type": "code",
   "execution_count": null,
   "metadata": {
    "collapsed": true
   },
   "outputs": [],
   "source": []
  }
 ],
 "metadata": {
  "kernelspec": {
   "display_name": "Python 2",
   "language": "python",
   "name": "python2"
  },
  "language_info": {
   "codemirror_mode": {
    "name": "ipython",
    "version": 2
   },
   "file_extension": ".py",
   "mimetype": "text/x-python",
   "name": "python",
   "nbconvert_exporter": "python",
   "pygments_lexer": "ipython2",
   "version": "2.7.11"
  }
 },
 "nbformat": 4,
 "nbformat_minor": 0
}
