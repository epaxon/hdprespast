{
 "cells": [
  {
   "cell_type": "code",
   "execution_count": 1,
   "metadata": {
    "collapsed": true
   },
   "outputs": [],
   "source": [
    "import numpy as np\n",
    "from sklearn.decomposition import IncrementalPCA"
   ]
  },
  {
   "cell_type": "code",
   "execution_count": 15,
   "metadata": {
    "collapsed": false
   },
   "outputs": [
    {
     "name": "stdout",
     "output_type": "stream",
     "text": [
      "A\n",
      "((3, 3), (2,), (2, 2))\n",
      "[[-0.26216515  0.34789293  0.90013329]\n",
      " [-0.11536183 -0.93736771  0.32868437]\n",
      " [ 0.95810286 -0.01767143  0.28587871]]\n",
      "[ 0.23449579  0.23325198]\n",
      "[[-0.23820378 -0.9712152 ]\n",
      " [ 0.9712152  -0.23820378]]\n",
      "Aprime\n",
      "((4, 4), (2,), (2, 2))\n",
      "[[-0.40548394  0.03675054  0.8214416   0.39933178]\n",
      " [ 0.57721926 -0.71116075  0.37979784 -0.12969932]\n",
      " [ 0.61308045  0.70193071  0.33663516 -0.1345452 ]\n",
      " [ 0.35571486 -0.01389472 -0.26012319  0.89755769]]\n",
      "[ 0.25017216  0.23396246]\n",
      "[[-0.88120577 -0.4727329 ]\n",
      " [ 0.4727329  -0.88120577]]\n"
     ]
    }
   ],
   "source": [
    "mu, sigma = 0, 0.1 # mean and standard deviation\n",
    "A = np.random.normal(mu, sigma, (3,2))\n",
    "print \"A\"\n",
    "u, s, v = np.linalg.svd(A)\n",
    "print (u.shape, s.shape, v.shape)\n",
    "print u\n",
    "print s\n",
    "print v\n",
    "\n",
    "newrow = np.random.normal(mu, sigma, 2)\n",
    "Aprime = np.vstack((A, newrow))\n",
    "print \"Aprime\"\n",
    "u, s, v = np.linalg.svd(Aprime)\n",
    "print(u.shape, s.shape, v.shape)\n",
    "print u\n",
    "print s\n",
    "print v"
   ]
  },
  {
   "cell_type": "code",
   "execution_count": 20,
   "metadata": {
    "collapsed": false
   },
   "outputs": [
    {
     "name": "stdout",
     "output_type": "stream",
     "text": [
      "((4, 4), array([[ -3.45036790e-03,  -4.31237120e-02,  -1.73472348e-18,\n",
      "          3.46944695e-18],\n",
      "       [  3.97744728e-02,   1.67957684e-02,   1.73472348e-18,\n",
      "          0.00000000e+00],\n",
      "       [ -3.74366994e-02,   2.19492433e-02,   1.73472348e-18,\n",
      "          1.73472348e-18],\n",
      "       [  1.11259448e-03,   4.37870026e-03,   1.08420217e-18,\n",
      "          1.08420217e-19]]))\n",
      "((2, 2), array([[  3.91988995e-02,   6.77746870e-18],\n",
      "       [ -3.91988995e-02,  -9.32489280e-18]]))\n"
     ]
    }
   ],
   "source": [
    "#V = A.TA\n",
    "#U = AA.T\n",
    "\n",
    "ipca = IncrementalPCA(n_components=2, batch_size=4)\n",
    "ipca.fit(Aprime.T.dot(Aprime))\n",
    "V = ipca.transform(Aprime.T.dot(Aprime))\n",
    "\n",
    "\n",
    "ipca = IncrementalPCA(n_components=4, batch_size=4)\n",
    "ipca.fit(Aprime.dot(Aprime.T))\n",
    "U = ipca.transform(Aprime.dot(Aprime.T))\n",
    "\n",
    "print (U.shape, U)\n",
    "print (V.shape, V)"
   ]
  },
  {
   "cell_type": "code",
   "execution_count": null,
   "metadata": {
    "collapsed": true
   },
   "outputs": [],
   "source": [
    "\"\"\"\n",
    "Did not work for now. so sad\n",
    "\n",
    "incremental svd. our version of incremental svd seems to be different bc it’s not just addition. sounds lik eadding an extra row.\n",
    "https://core.ac.uk/download/pdf/287126.pdf\n",
    "https://github.com/andrewssobral/imtsl/blob/master/libs/IncPACK2/seqkl.m\n",
    "http://www.stat.osu.edu/~dmsl/thinSVDtracking.pdf\n",
    "https://stats.stackexchange.com/questions/177007/updating-svd-decomposition-after-adding-one-new-row-to-the-matrix\n",
    "\n",
    "so my plan was to fix incremental pca. where you take the pca of A, A^T. bc svd is from A^TA, AA^T\n",
    "\n",
    "\n",
    "https://github.com/jbencook/am205\n",
    "https://github.com/aaw/IncrementalSVD.jl\n",
    "http://scikit-learn.org/stable/modules/generated/sklearn.decomposition.IncrementalPCA.html\n",
    "https://stats.stackexchange.com/questions/134282/relationship-between-svd-and-pca-how-to-use-svd-to-perform-pca\n",
    "https://scicomp.stackexchange.com/questions/2678/updatable-svd-implementation-in-python-c-or-fortran\n",
    "\n",
    "A^TA => V\n",
    "AA^T => U\n",
    "\"\"\""
   ]
  }
 ],
 "metadata": {
  "kernelspec": {
   "display_name": "Python 2",
   "language": "python",
   "name": "python2"
  },
  "language_info": {
   "codemirror_mode": {
    "name": "ipython",
    "version": 2
   },
   "file_extension": ".py",
   "mimetype": "text/x-python",
   "name": "python",
   "nbconvert_exporter": "python",
   "pygments_lexer": "ipython2",
   "version": "2.7.11"
  }
 },
 "nbformat": 4,
 "nbformat_minor": 0
}
