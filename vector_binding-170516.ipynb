{
 "cells": [
  {
   "cell_type": "code",
   "execution_count": 48,
   "metadata": {
    "collapsed": false
   },
   "outputs": [],
   "source": [
    "import csv\n",
    "import numpy as np\n",
    "import utils\n",
    "import hrr_utils\n",
    "import time\n",
    "import random\n",
    "\n",
    "from scipy import spatial\n",
    "\n",
    "from matplotlib import pyplot as plt\n",
    "from matplotlib.collections import LineCollection\n",
    "%matplotlib inline\n",
    "\n",
    "\n",
    "N=1000\n",
    "\n",
    "def genX(verbs, indices):\n",
    "    X = np.zeros((len(verbs), N)) # Exclusively difference PAST1-PRES1\n",
    "    PRES1 = np.zeros((len(verbs), N))\n",
    "    PRES2 = np.zeros((len(verbs), N))\n",
    "    PAST1 = np.zeros((len(verbs), N))\n",
    "    PAST2 = np.zeros((len(verbs), N))\n",
    "    \n",
    "    for m in range(len(indices)):\n",
    "        pair = verbs[indices[m]]\n",
    "        past1 = hrr_utils.GetRVClipHash(pair[1], dic1, 3)\n",
    "        past2 = hrr_utils.GetRVClipHash(pair[1], dic2, 3)\n",
    "        pres1 = hrr_utils.GetRVClipHash(pair[0], dic1, 3)\n",
    "        pres2 = hrr_utils.GetRVClipHash(pair[0], dic2, 3)\n",
    "        PRES1[m] = pres1\n",
    "        PRES2[m] = pres2\n",
    "        PAST1[m] = past1\n",
    "        PAST2[m] = past2\n",
    "\n",
    "    #X = np.where(PAST1-PRES1 > 0, 1, -1)\n",
    "    X = PAST1-PRES1\n",
    "    return X, PRES1, PRES2, PAST1, PAST2\n",
    "\n",
    "def train(tv, past, present):\n",
    "    tv += np.multiply(past, present)\n",
    "    return tv\n",
    "\n",
    "def reg_train(tv, past, present):\n",
    "    pred = np.multiply(tv, present)\n",
    "    #pred = np.where(pred>0, 1, -1)\n",
    "    #print (sim(pred, past)),\n",
    "    tv += ((N-sim(pred, past))/float(N)) * np.multiply(past, present)\n",
    "    return tv\n",
    "\n",
    "def train_diff(tv, past2, present1, present2):\n",
    "    tv += np.multiply(present1, past2-present2)\n",
    "    return tv\n",
    "\n",
    "def reg_train_diff(tv, past2, present1, present2):\n",
    "    pred = np.multiply(tv, present1) + present2\n",
    "    #pred = np.where(pred>0, 1, -1)\n",
    "    #print (sim(pred, past)),\n",
    "    tv += ((N-sim(pred, past2))/float(N)) * np.multiply(past2-present2, present1)\n",
    "    return tv\n",
    "\n",
    "def sim(x, y):\n",
    "    if len(x.shape) == 1 or len(y.shape)==1:\n",
    "        return np.dot(x, y)\n",
    "    return np.sum(np.multiply(x, y), axis=1)\n",
    "\n",
    "def round_to_tick(number):\n",
    "    \"\"\"Round a number to the closest half integer.\"\"\"\n",
    "    return round(number * 2) / 2\n",
    "\n",
    "def graph(x, y1, y2, y1std, y2std, title=None, xlabel='number of words', ylabel='average dot product', legend='upper left'):   \n",
    "    fig = plt.figure(figsize=(4,3))\n",
    "    plt.tick_params(axis='both', which='major', labelsize=12)\n",
    "    plt.tick_params(axis='both', which='minor', labelsize=12)\n",
    "    plt.xticks(np.arange(0, 1701, 400))\n",
    "    \n",
    "    start = round_to_tick(min(min(y1), min(y2)) - max(max(y1std),max(y2std)))\n",
    "    end = round_to_tick(max(max(y1), max(y2)) + max(max(y1std),max(y2std)))\n",
    "    \n",
    "    plt.yticks(np.arange(start-.5, end+.5, .5))\n",
    "    plt.plot([0, 1700], [0, 0], 'k')\n",
    "\n",
    "    plt.plot(x, y1, c='b', lw=2, label='Train')\n",
    "    plt.plot(x, y2, c='g', lw=2, label='Test')\n",
    "\n",
    "    plt.fill_between(x, y1-y1std, y1+y1std, facecolor='b', alpha=0.1)\n",
    "    plt.fill_between(x, y2-y2std, y2+y2std, facecolor='g', alpha=0.1)\n",
    "\n",
    "    plt.legend(loc=legend,fontsize=12)\n",
    "\n",
    "    plt.xlabel('Number Training Examples',fontsize=16)\n",
    "    plt.ylabel('Feature Similarity',fontsize=16)\n",
    "    #plt.title(title,fontsize=16)\n",
    "\n",
    "    plt.xlim([0, 1700])\n",
    "\n",
    "    plt.tight_layout()\n",
    "# https://matplotlib.org/api/lines_api.html\n",
    "def graph_separate(x, y1, y2, y1std, y2std, \\\n",
    "                   y1irregular, y2irregular, \\\n",
    "                   title=None, xlabel='number of words', ylabel='average dot product', legend='upper left'):   \n",
    "\n",
    "    fig = plt.figure(figsize=(4,3))\n",
    "    plt.tick_params(axis='both', which='major', labelsize=12)\n",
    "    plt.tick_params(axis='both', which='minor', labelsize=12)\n",
    "    plt.xticks(np.arange(0, 1701, 400))\n",
    "    start = round_to_tick(min(min(y1), min(y2)) - max(max(y1std),max(y2std)))\n",
    "    end = round_to_tick(max(max(y1), max(y2)) + max(max(y1std),max(y2std)))\n",
    "    \n",
    "    plt.yticks(np.arange(start-.5, end+.5, .5))\n",
    "    plt.plot([0, 1700], [0, 0], 'k')\n",
    "\n",
    "    plt.plot(x, y1, c='b', lw=2, label='Train')\n",
    "    plt.plot(x, y2, c='g', lw=2, label='Test')\n",
    "    plt.plot(x, y1irregular, ':', c='b', lw=2, label='Train')\n",
    "    plt.plot(x, y2irregular, ':', c='g', lw=2, label='Test')\n",
    "\n",
    "    plt.fill_between(x, y1-y1std, y1+y1std, facecolor='b', alpha=0.1)\n",
    "    plt.fill_between(x, y2-y2std, y2+y2std, facecolor='g', alpha=0.1)\n",
    "\n",
    "    plt.legend(loc=legend,fontsize=12)\n",
    "\n",
    "    plt.xlabel('Number Training Examples',fontsize=16)\n",
    "    plt.ylabel('Feature Similarity',fontsize=16)\n",
    "    plt.title(title,fontsize=16)\n",
    "\n",
    "    plt.xlim([0, 1700])\n",
    "\n",
    "    plt.tight_layout()\n"
   ]
  },
  {
   "cell_type": "code",
   "execution_count": 49,
   "metadata": {
    "collapsed": false
   },
   "outputs": [
    {
     "data": {
      "text/plain": [
       "<module 'utils' from 'utils.py'>"
      ]
     },
     "execution_count": 49,
     "metadata": {},
     "output_type": "execute_result"
    }
   ],
   "source": [
    "reload(utils)"
   ]
  },
  {
   "cell_type": "code",
   "execution_count": 50,
   "metadata": {
    "collapsed": false
   },
   "outputs": [],
   "source": [
    "reg_pres, reg_past, reg_freq = utils.GetRegularVerbs(frequency=1)\n",
    "irreg_pres, irreg_past, irreg_freq = utils.GetIrregularVerbs(frequency=1)\n",
    "\n",
    "\n",
    "regular = zip(reg_pres, reg_past, reg_freq)\n",
    "irregular = zip(irreg_pres, irreg_past, irreg_freq)\n",
    "\n",
    "train_frac = 2/3.0\n",
    "\n",
    "irregular_train_idx = int(train_frac*len(irreg_pres))\n",
    "train_irreg = irregular[0:irregular_train_idx]\n",
    "\n",
    "regular_train_idx = 1700 - len(train_irreg) \n",
    "train_reg = regular[0:regular_train_idx]\n",
    "\n",
    "test_reg = regular[regular_train_idx:]\n",
    "test_irreg = irregular[irregular_train_idx:]\n",
    "\n",
    "dic1 = hrr_utils.GenerateDefaultDictionary(N)\n",
    "dic2 = hrr_utils.GenerateDefaultDictionary(N)\n",
    "\n",
    "train_all = train_reg + train_irreg\n",
    "test_all = test_reg + test_irreg\n",
    "\n",
    "train_all_indices = [i for i in range(len(train_all))]\n",
    "test_all_indices = [i for i in range(len(test_all))]\n",
    "random.shuffle(train_all_indices)\n",
    "random.shuffle(test_all_indices)"
   ]
  },
  {
   "cell_type": "code",
   "execution_count": 51,
   "metadata": {
    "collapsed": false
   },
   "outputs": [
    {
     "name": "stdout",
     "output_type": "stream",
     "text": [
      "('training set size', 1574, 126)\n",
      "('test set size', 874, 63)\n"
     ]
    }
   ],
   "source": [
    "print(\"training set size\", len(train_reg), len(train_irreg))\n",
    "print (\"test set size\", len(test_reg), len(test_irreg))\n"
   ]
  },
  {
   "cell_type": "code",
   "execution_count": 52,
   "metadata": {
    "collapsed": false
   },
   "outputs": [],
   "source": [
    "trainX, trainpres1, trainpres2, trainpast1, trainpast2 = genX(train_all,train_all_indices)\n",
    "testX, testpres1, testpres2, testpast1, testpast2 = genX(test_all, test_all_indices)"
   ]
  },
  {
   "cell_type": "code",
   "execution_count": 38,
   "metadata": {
    "collapsed": false
   },
   "outputs": [
    {
     "name": "stdout",
     "output_type": "stream",
     "text": [
      "Elapsed: 2477.865345\n"
     ]
    }
   ],
   "source": [
    "psi = np.zeros(N)\n",
    "psi = train(psi, trainpast2[0], trainpres1[0])\n",
    "random_vecs = np.random.randn(testpast2.shape[0], N)\n",
    "x = np.arange(1, trainpres1.shape[0]+1, 1)\n",
    "y1 = np.zeros(trainpres1.shape[0])\n",
    "y2 = np.zeros(trainpres1.shape[0])\n",
    "y1std = np.zeros(trainpres1.shape[0])\n",
    "y2std = np.zeros(trainpres1.shape[0])\n",
    "\n",
    "y1irregular = np.zeros(trainpres1.shape[0])\n",
    "y2irregular = np.zeros(trainpres1.shape[0])\n",
    "\n",
    "sim2indices = [i for i in range(testpres1.shape[0]) if test_all_indices[i] >= len(test_reg)]\n",
    "\n",
    "tst = time.time()\n",
    "for k in range(1,len(trainpres1)):#trainpres1.shape[0]):\n",
    "    train_pred = np.multiply(psi, trainpres1[:k])\n",
    "    #train_pred = np.where(train_pred>0, 1, -1)\n",
    "    test_pred = np.multiply(psi, testpres1)\n",
    "    #test_pred = np.where(test_pred>0, 1, -1)\n",
    "    \n",
    "    sim1 = sim(train_pred, trainpast2[:k])\n",
    "    sim2 = sim(test_pred, testpast2)\n",
    "    \n",
    "    sim1indices = [i for i in range(sim1.shape[0]) if train_all_indices[i] >= len(train_reg)]\n",
    "\n",
    "    irregularsim1 = sim1[sim1indices]\n",
    "    irregularsim2 = sim2[sim2indices]\n",
    "    \n",
    "    y1[k] = sim1.mean()/N\n",
    "    y1std[k] = np.nanstd(sim1, axis=0)/N #/ (arange(len(train_mean))+1) ** 0.5\n",
    "    y2[k] = sim2.mean()/N\n",
    "    y2std[k] = sim2.std(axis=0)/N #/ testpast2.shape[0]**0.5\n",
    "    \n",
    "    y1irregular[k] = irregularsim1.mean()/N\n",
    "    y2irregular[k] = irregularsim2.mean()/N\n",
    "\n",
    "    psi = train(psi, trainpast2[k], trainpres1[k])\n",
    "    \n",
    "print 'Elapsed:', time.time() - tst"
   ]
  },
  {
   "cell_type": "code",
   "execution_count": 39,
   "metadata": {
    "collapsed": false
   },
   "outputs": [
    {
     "name": "stdout",
     "output_type": "stream",
     "text": [
      "figures/unregularized_binding-N=100000-W=1700-170517\n"
     ]
    },
    {
     "data": {
      "image/png": "[encoded data removed]",
      "text/plain": [
       "<matplotlib.figure.Figure at 0x7f8371bfc450>"
      ]
     },
     "metadata": {},
     "output_type": "display_data"
    }
   ],
   "source": [
    "graph(x,y1,y2,y1std,y2std,title=\"unregularized\",legend=\"upper left\")\n",
    "plt.ylim([-0.1, 5.1])\n",
    "plt.yticks(np.arange(6))\n",
    "\n",
    "fname =  ('figures/unregularized_binding-N=' + str(N) + '-W=' + str(len(trainpres1)) \n",
    "          + '-' + time.strftime('%y%m%d'))\n",
    "print fname\n",
    "\n",
    "plt.savefig(fname + '.png', transparent=True)\n",
    "plt.savefig(fname + '.eps', transparent=True)"
   ]
  },
  {
   "cell_type": "code",
   "execution_count": 40,
   "metadata": {
    "collapsed": false
   },
   "outputs": [
    {
     "name": "stdout",
     "output_type": "stream",
     "text": [
      "Elapsed: 2257.10436893\n"
     ]
    }
   ],
   "source": [
    "psi = np.zeros(N)\n",
    "psi = reg_train(psi, trainpast2[0], trainpres1[0])\n",
    "random_vecs = np.random.randn(testpast2.shape[0], N)\n",
    "x = np.arange(1, trainpres1.shape[0]+1, 1)\n",
    "y1 = np.zeros(trainpres1.shape[0])\n",
    "y2 = np.zeros(trainpres1.shape[0])\n",
    "y1std = np.zeros(trainpres1.shape[0])\n",
    "y2std = np.zeros(trainpres1.shape[0])\n",
    "\n",
    "y1irregular = np.zeros(trainpres1.shape[0])\n",
    "y2irregular = np.zeros(trainpres1.shape[0])\n",
    "\n",
    "sim2indices = [i for i in range(testpres1.shape[0]) if test_all_indices[i] >= len(test_reg)]\n",
    "\n",
    "tst = time.time()\n",
    "\n",
    "for k in range(1,len(trainpres1)):#trainpres1.shape[0]):\n",
    "    train_pred = np.multiply(psi, trainpres1[:k])\n",
    "    #train_pred = np.where(train_pred>0, 1, -1)\n",
    "    test_pred = np.multiply(psi, testpres1)\n",
    "    #test_pred = np.where(test_pred>0, 1, -1)\n",
    "\n",
    "    sim1 = sim(train_pred, trainpast2[:k])\n",
    "    sim2 = sim(test_pred, testpast2)\n",
    "    \n",
    "    sim1indices = [i for i in range(sim1.shape[0]) if train_all_indices[i] >= len(train_reg)]\n",
    "\n",
    "    irregularsim1 = sim1[sim1indices]\n",
    "    irregularsim2 = sim2[sim2indices]\n",
    "    \n",
    "    y1[k] = sim1.mean()/N\n",
    "    y1std[k] = np.nanstd(sim1, axis=0)/N #/ (arange(len(train_mean))+1) ** 0.5\n",
    "    y2[k] = sim2.mean()/N\n",
    "    y2std[k] = sim2.std(axis=0)/N #/ testpast2.shape[0]**0.5\n",
    "    \n",
    "    y1irregular[k] = irregularsim1.mean()/N\n",
    "    y2irregular[k] = irregularsim2.mean()/N\n",
    "    \n",
    "    \n",
    "    psi = reg_train(psi, trainpast2[k], trainpres1[k])\n",
    "    \n",
    "print 'Elapsed:', time.time() - tst"
   ]
  },
  {
   "cell_type": "code",
   "execution_count": 41,
   "metadata": {
    "collapsed": false
   },
   "outputs": [
    {
     "name": "stdout",
     "output_type": "stream",
     "text": [
      "figures/regularized_binding-N=100000-W=1700-170517\n"
     ]
    },
    {
     "data": {
      "image/png": "[encoded data removed]",
      "text/plain": [
       "<matplotlib.figure.Figure at 0x7f8371a3f110>"
      ]
     },
     "metadata": {},
     "output_type": "display_data"
    }
   ],
   "source": [
    "graph(x,y1,y2,y1std,y2std,title=\"regularized\",legend=\"lower right\")\n",
    "\n",
    "plt.ylim([-0.1, 1.45])\n",
    "\n",
    "fname =  ('figures/regularized_binding-N=' + str(N) + '-W=' + str(len(trainpres1)) \n",
    "          + '-' + time.strftime('%y%m%d'))\n",
    "print fname\n",
    "\n",
    "plt.savefig(fname + '.png', transparent=True)\n",
    "plt.savefig(fname + '.eps', transparent=True)"
   ]
  },
  {
   "cell_type": "code",
   "execution_count": 42,
   "metadata": {
    "collapsed": false
   },
   "outputs": [
    {
     "name": "stdout",
     "output_type": "stream",
     "text": [
      "data/reg_binding_similarity-N=100000-W=1700-170517\n"
     ]
    }
   ],
   "source": [
    "fname = (\"data/reg_binding_similarity-N=\" + str(N) + '-W=' + str(len(trainpres1))\n",
    "        + '-' + time.strftime('%y%m%d'))\n",
    "\n",
    "print fname\n",
    "\n",
    "np.savez(fname + '.npz', train_mean=y1, train_std=y1std, test_mean=y2, test_std=y2std)"
   ]
  },
  {
   "cell_type": "code",
   "execution_count": 43,
   "metadata": {
    "collapsed": false
   },
   "outputs": [
    {
     "name": "stdout",
     "output_type": "stream",
     "text": [
      "Elapsed: 3358.06592512\n"
     ]
    }
   ],
   "source": [
    "psi = np.zeros(N)\n",
    "psi = train_diff(psi, trainpast2[0], trainpres1[0], trainpres2[0])\n",
    "random_vecs = np.random.randn(testpast2.shape[0], N)\n",
    "x = np.arange(1, trainpres1.shape[0]+1, 1)\n",
    "y1 = np.zeros(trainpres1.shape[0])\n",
    "y2 = np.zeros(trainpres1.shape[0])\n",
    "y1std = np.zeros(trainpres1.shape[0])\n",
    "y2std = np.zeros(trainpres1.shape[0])\n",
    "\n",
    "y1irregular = np.zeros(trainpres1.shape[0])\n",
    "y2irregular = np.zeros(trainpres1.shape[0])\n",
    "\n",
    "sim2indices = [i for i in range(testpres1.shape[0]) if test_all_indices[i] >= len(test_reg)]\n",
    "\n",
    "tst = time.time()\n",
    "\n",
    "for k in range(1,len(trainpres1)):#trainpres1.shape[0]):\n",
    "    train_pred = np.multiply(psi, trainpres1[:k]) + trainpres2[:k]\n",
    "    #train_pred = np.where(train_pred>0, 1, -1)\n",
    "    test_pred = np.multiply(psi, testpres1) + testpres2\n",
    "    #test_pred = np.where(test_pred>0, 1, -1)\n",
    "\n",
    "    sim1 = sim(train_pred, trainpast2[:k])\n",
    "    sim2 = sim(test_pred, testpast2)\n",
    "    \n",
    "    sim1indices = [i for i in range(sim1.shape[0]) if train_all_indices[i] >= len(train_reg)]\n",
    "\n",
    "    irregularsim1 = sim1[sim1indices]\n",
    "    irregularsim2 = sim2[sim2indices]\n",
    "    \n",
    "    y1[k] = sim1.mean()/N\n",
    "    y1std[k] = np.nanstd(sim1, axis=0)/N #/ (arange(len(train_mean))+1) ** 0.5\n",
    "    y2[k] = sim2.mean()/N\n",
    "    y2std[k] = sim2.std(axis=0)/N #/ testpast2.shape[0]**0.5\n",
    "    \n",
    "    y1irregular[k] = irregularsim1.mean()/N\n",
    "    y2irregular[k] = irregularsim2.mean()/N\n",
    "    \n",
    "    psi = train_diff(psi, trainpast2[k], trainpres1[k], trainpres2[k])\n",
    "    \n",
    "print 'Elapsed:', time.time() - tst"
   ]
  },
  {
   "cell_type": "code",
   "execution_count": 44,
   "metadata": {
    "collapsed": false
   },
   "outputs": [
    {
     "name": "stdout",
     "output_type": "stream",
     "text": [
      "figures/unregularized_binding_diff-N=100000-W=1700-170517\n"
     ]
    },
    {
     "data": {
      "image/png": "[encoded data removed]",
      "text/plain": [
       "<matplotlib.figure.Figure at 0x7f8371a34710>"
      ]
     },
     "metadata": {},
     "output_type": "display_data"
    }
   ],
   "source": [
    "graph(x,y1,y2,y1std,y2std,\"diff-unregularized\")\n",
    "plt.ylim([-0.1, 5.1])\n",
    "plt.yticks(np.arange(6))\n",
    "\n",
    "fname =  ('figures/unregularized_binding_diff-N=' + str(N) + '-W=' + str(len(trainpres1)) \n",
    "          + '-' + time.strftime('%y%m%d'))\n",
    "print fname\n",
    "\n",
    "plt.savefig(fname + '.png', transparent=True)\n",
    "plt.savefig(fname + '.eps', transparent=True)"
   ]
  },
  {
   "cell_type": "code",
   "execution_count": 53,
   "metadata": {
    "collapsed": false
   },
   "outputs": [
    {
     "name": "stdout",
     "output_type": "stream",
     "text": [
      "Elapsed: 19.5160410404\n"
     ]
    }
   ],
   "source": [
    "psi = np.zeros(N)\n",
    "psi = reg_train_diff(psi, trainpast2[0], trainpres1[0], trainpres2[0])\n",
    "random_vecs = np.random.randn(testpast2.shape[0], N)\n",
    "x = np.arange(1, trainpres1.shape[0]+1, 1)\n",
    "y1 = np.zeros(trainpres1.shape[0])\n",
    "y2 = np.zeros(trainpres1.shape[0])\n",
    "y1std = np.zeros(trainpres1.shape[0])\n",
    "y2std = np.zeros(trainpres1.shape[0])\n",
    "\n",
    "y1irregular = np.zeros(trainpres1.shape[0])\n",
    "y2irregular = np.zeros(trainpres1.shape[0])\n",
    "\n",
    "sim2indices = [i for i in range(testpres1.shape[0]) if test_all_indices[i] >= len(test_reg)]\n",
    "\n",
    "tst = time.time()\n",
    "\n",
    "for k in range(1,len(trainpres1)):#trainpres1.shape[0]):\n",
    "    train_pred = np.multiply(psi, trainpres1[:k]) + trainpres2[:k]\n",
    "    #train_pred = np.where(train_pred>0, 1, -1)\n",
    "    test_pred = np.multiply(psi, testpres1) + testpres2\n",
    "    #test_pred = np.where(test_pred>0, 1, -1)\n",
    "\n",
    "    sim1 = sim(train_pred, trainpast2[:k])\n",
    "    sim2 = sim(test_pred, testpast2)\n",
    "    \n",
    "    sim1indices = [i for i in range(sim1.shape[0]) if train_all_indices[i] >= len(train_reg)]\n",
    "\n",
    "    irregularsim1 = sim1[sim1indices]\n",
    "    irregularsim2 = sim2[sim2indices]\n",
    "    \n",
    "    y1[k] = sim1.mean()/N\n",
    "    y1std[k] = np.nanstd(sim1, axis=0)/N #/ (arange(len(train_mean))+1) ** 0.5\n",
    "    y2[k] = sim2.mean()/N\n",
    "    y2std[k] = sim2.std(axis=0)/N #/ testpast2.shape[0]**0.5\n",
    "    \n",
    "    y1irregular[k] = irregularsim1.mean()/N\n",
    "    y2irregular[k] = irregularsim2.mean()/N\n",
    "    \n",
    "    psi = reg_train_diff(psi, trainpast2[k], trainpres1[k], trainpres2[k])\n",
    "    \n",
    "print 'Elapsed:', time.time() - tst"
   ]
  },
  {
   "cell_type": "code",
   "execution_count": 54,
   "metadata": {
    "collapsed": false
   },
   "outputs": [
    {
     "name": "stdout",
     "output_type": "stream",
     "text": [
      "figures/regularized_binding_diff-N=1000-W=1700-170518\n"
     ]
    },
    {
     "data": {
      "image/png": "[encoded data removed]",
      "text/plain": [
       "<matplotlib.figure.Figure at 0x7f8371e6ff10>"
      ]
     },
     "metadata": {},
     "output_type": "display_data"
    }
   ],
   "source": [
    "graph(x,y1,y2,y1std,y2std,\"diff-regularized\")\n",
    "\n",
    "plt.ylim([-0.1, 1.45])\n",
    "\n",
    "fname =  ('figures/regularized_binding_diff-N=' + str(N) + '-W=' + str(len(trainpres1)) \n",
    "          + '-' + time.strftime('%y%m%d'))\n",
    "print fname\n",
    "\n",
    "plt.savefig(fname + '.png', transparent=True)\n",
    "plt.savefig(fname + '.eps', transparent=True)"
   ]
  },
  {
   "cell_type": "code",
   "execution_count": 55,
   "metadata": {
    "collapsed": false
   },
   "outputs": [
    {
     "name": "stdout",
     "output_type": "stream",
     "text": [
      "data/reg_binding_diff_similarity-N=1000-W=1700-170518\n"
     ]
    }
   ],
   "source": [
    "fname = (\"data/reg_binding_diff_similarity-N=\" + str(N) + '-W=' + str(len(trainpres1))\n",
    "        + '-' + time.strftime('%y%m%d'))\n",
    "\n",
    "print fname\n",
    "\n",
    "np.savez(fname + '.npz', train_mean=y1, train_std=y1std, test_mean=y2, test_std=y2std)"
   ]
  },
  {
   "cell_type": "code",
   "execution_count": null,
   "metadata": {
    "collapsed": true
   },
   "outputs": [],
   "source": []
  },
  {
   "cell_type": "code",
   "execution_count": null,
   "metadata": {
    "collapsed": true
   },
   "outputs": [],
   "source": []
  }
 ],
 "metadata": {
  "kernelspec": {
   "display_name": "Python 2",
   "language": "python",
   "name": "python2"
  },
  "language_info": {
   "codemirror_mode": {
    "name": "ipython",
    "version": 2
   },
   "file_extension": ".py",
   "mimetype": "text/x-python",
   "name": "python",
   "nbconvert_exporter": "python",
   "pygments_lexer": "ipython2",
   "version": "2.7.11"
  }
 },
 "nbformat": 4,
 "nbformat_minor": 0
}
