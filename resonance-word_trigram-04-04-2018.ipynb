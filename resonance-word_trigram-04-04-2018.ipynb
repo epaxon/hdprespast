{
 "cells": [
  {
   "cell_type": "code",
   "execution_count": 143,
   "metadata": {
    "collapsed": true
   },
   "outputs": [],
   "source": [
    "from __future__ import division\n",
    "\n",
    "from pylab import *\n",
    "import scipy\n",
    "import time\n",
    "import utils\n",
    "import hrr_utils\n",
    "import RM_utils\n",
    "import utilities.colormaps\n",
    "\n",
    "#import imnet_utils as imut\n",
    "import sklearn\n",
    "from sklearn.decomposition import PCA, FastICA, TruncatedSVD, NMF\n",
    "from scipy import stats\n",
    "\n",
    "%matplotlib inline\n",
    "\n",
    "plt.rcParams.update({'axes.titlesize': 'xx-large'})\n",
    "plt.rcParams.update({'axes.labelsize': 'xx-large'})\n",
    "plt.rcParams.update({'xtick.labelsize': 'x-large', 'ytick.labelsize': 'x-large'})\n",
    "plt.rcParams.update({'legend.fontsize': 'x-large'})\n",
    "plt.rcParams.update({'text.usetex': True})"
   ]
  },
  {
   "cell_type": "code",
   "execution_count": 144,
   "metadata": {
    "collapsed": true
   },
   "outputs": [],
   "source": [
    "def ngram_encode(ngram_str, letter_vecs, alph):\n",
    "    vec = np.zeros(letter_vecs.shape[1])\n",
    "    \n",
    "    full_str = '#' + ngram_str + '.'\n",
    "    \n",
    "    \n",
    "    for il, l in enumerate(full_str[:-2]):\n",
    "        trivec = letter_vecs[alph.find(full_str[il]), :]\n",
    "        for c3 in range(1, 3):\n",
    "            trivec = trivec * np.roll(letter_vecs[alph.find(full_str[il+c3]), :], c3)\n",
    "            \n",
    "        vec += trivec\n",
    "    return vec\n",
    "\n",
    "def ngram_encode_cl(ngram_str, letter_vecs, alph):\n",
    "    vec = ngram_encode(ngram_str, letter_vecs, alph)\n",
    "    return 2* (vec + 0.1*(np.random.rand(letter_vecs.shape[1])-0.5) > 0) - 1\n",
    "\n",
    "def sim(x, y):\n",
    "    if len(x.shape) == 1 or len(y.shape)==1:\n",
    "        return np.dot(x, y)\n",
    "    return np.sum(np.multiply(x, y), axis=1)\n",
    "\n",
    "def initialize(letter_vecs, N, D, state_length=5, n_steps=500):\n",
    "    states = []\n",
    "    coef_hists = []\n",
    "    \n",
    "    for i in range(state_length):\n",
    "        states.append(np.random.randn(N))\n",
    "    \n",
    "    for i in range(1, state_length-1):\n",
    "        states[i] = np.dot(letter_vecs.T, np.dot(states[i], letter_vecs.T))\n",
    "\n",
    "    for i in range(1, state_length-1):\n",
    "        states[i] = states[i]/norm(states[i])\n",
    "\n",
    "    states[0] = letter_vecs[alph.find('#'), :]\n",
    "    states[state_length-1] = letter_vecs[alph.find('.'), :]\n",
    "    \n",
    "    for i in range(1, state_length-1):\n",
    "        coef_hists.append(np.zeros((n_steps, D)))\n",
    "    \n",
    "    return states, coef_hists\n",
    "\n",
    "def explain_away(bound_vec, states, coef_hists, state_length, letter_vecs, N, D, max_steps=500):\n",
    "    th_vec = bound_vec.copy()\n",
    "\n",
    "    for i in range(max_steps):\n",
    "\n",
    "        for j in range(1, state_length-1):\n",
    "            coef_hists[j-1][i, :] = np.dot(letter_vecs, states[j])\n",
    "        \n",
    "        for j in range(1, state_length-1):\n",
    "            mxidx = np.argmax(np.abs(coef_hists[j-1][i,:]))\n",
    "            states[j] *= np.sign(coef_hists[j-1][i, mxidx])\n",
    "        ljds = []\n",
    "        for j in range(1, state_length-1):\n",
    "            if j == 1:\n",
    "                ljds.append(\n",
    "                    (np.roll(th_vec * states[0] * np.roll(states[2], 2), -1) +\n",
    "                    th_vec * np.roll(states[2], 1) * np.roll(states[3], 2)) / 2\n",
    "                )\n",
    "            elif 1 < j < state_length-2:\n",
    "                ljds.append(\n",
    "                    (np.roll(th_vec * states[j-2] * np.roll(states[j-1], 1), -2) +\n",
    "                    np.roll(th_vec * states[j-1] * np.roll(states[j+1], 2), -1) +\n",
    "                      th_vec * np.roll(states[j+1], 1) * np.roll(states[j+2], 2)) / 3\n",
    "                )\n",
    "            else:\n",
    "                ljds.append(\n",
    "                    (np.roll(th_vec * states[j-1] * np.roll(states[j+1], 2), -1) +\n",
    "                   np.roll(th_vec * states[j-2] * np.roll(states[j-1], 1), -2)) / 2\n",
    "                )\n",
    "\n",
    "        for j in range(1, state_length-1):    \n",
    "            states[j] = np.dot(letter_vecs.T, np.dot(ljds[j-1], letter_vecs.T)/N) + 1.0*states[j]\n",
    "        \n",
    "        bv = states[0] * np.roll(states[1],1) * np.roll(states[2],2)  \n",
    "        for j in range(1, state_length-2):\n",
    "            bv += states[j] * np.roll(states[j+1],1) * np.roll(states[j+2],2) \n",
    "         \n",
    "        th_vec = bound_vec - bv\n",
    "\n",
    "    return states, coef_hists\n",
    "\n",
    "def spell(coef_hists):\n",
    "    pred = ''\n",
    "    alphis = []\n",
    "\n",
    "    for i in range(len(coef_hists)):\n",
    "        x, alphi = np.unravel_index(coef_hists[i].argmax(), coef_hists[i].shape)\n",
    "        pred += alph[alphi]\n",
    "        alphis.append(alphi)\n",
    "\n",
    "    return pred, alphis\n",
    "    \n",
    "def resplot(word_length, states, coef_hists, N, nsteps, start):\n",
    "    \n",
    "    pred, alphis = spell(coef_hists)\n",
    "    print pred\n",
    "    rows = 1\n",
    "    columns = word_length\n",
    "\n",
    "    fig, axes = plt.subplots(rows, columns, sharex='all', squeeze=True, figsize=(25,5))\n",
    "    cols = get_cmap('copper', min(500,n_steps))\n",
    "    x = np.linspace(0,len(alph)-2,len(alph)-2)\n",
    "    labels = list(alph)\n",
    "    plt.xticks(x, labels)\n",
    "    \n",
    "    for j in range(word_length):\n",
    "        for i in range(start, min(500,n_steps)):\n",
    "            # graphing the max positive at every iteration is not intuitive, since we should\n",
    "            # be focusing on how our predicted letter's probability increases over time\n",
    "            coef_hists[j][i,alphis[j]] = np.abs(coef_hists[j][i,alphis[j]])\n",
    "            axes[j].plot(coef_hists[j][i,:], lw=1.7, c=cols(i))\n",
    "            \n",
    "        step, alphi = np.unravel_index(coef_hists[j].argmax(), coef_hists[j].shape)\n",
    "        axes[j].plot(alphi, coef_hists[j][step, alphi], '+')\n",
    "\n",
    "    #plt.savefig('figures/'+title+pred+'-N='+str(N)+'-steps='+str(nsteps)+'-reg='+reg+'.svg')\n",
    "    \n",
    "def accuracy(pred, actual):\n",
    "    acc = 0\n",
    "    for i in range(len(pred)):\n",
    "        if pred[i] == actual[i]:\n",
    "            acc += 1\n",
    "    return acc / float(len(pred))\n"
   ]
  },
  {
   "cell_type": "code",
   "execution_count": 146,
   "metadata": {},
   "outputs": [
    {
     "name": "stdout",
     "output_type": "stream",
     "text": [
      "('sigma', 0.0)\n",
      "('N', 1000)\n"
     ]
    },
    {
     "name": "stderr",
     "output_type": "stream",
     "text": [
      "/home/quinn/miniconda2/lib/python2.7/site-packages/ipykernel_launcher.py:78: RuntimeWarning: overflow encountered in multiply\n",
      "/home/quinn/miniconda2/lib/python2.7/site-packages/ipykernel_launcher.py:80: RuntimeWarning: overflow encountered in multiply\n",
      "/home/quinn/miniconda2/lib/python2.7/site-packages/ipykernel_launcher.py:80: RuntimeWarning: invalid value encountered in add\n"
     ]
    },
    {
     "ename": "KeyboardInterrupt",
     "evalue": "",
     "output_type": "error",
     "traceback": [
      "\u001b[0;31m---------------------------------------------------------------------------\u001b[0m",
      "\u001b[0;31mKeyboardInterrupt\u001b[0m                         Traceback (most recent call last)",
      "\u001b[0;32m<ipython-input-146-03c43811e88c>\u001b[0m in \u001b[0;36m<module>\u001b[0;34m()\u001b[0m\n\u001b[1;32m     36\u001b[0m                 \u001b[0mstates\u001b[0m\u001b[0;34m,\u001b[0m \u001b[0mcoef_hists\u001b[0m \u001b[0;34m=\u001b[0m \u001b[0minitialize\u001b[0m\u001b[0;34m(\u001b[0m\u001b[0mdic1\u001b[0m\u001b[0;34m,\u001b[0m \u001b[0mN\u001b[0m\u001b[0;34m,\u001b[0m \u001b[0mD\u001b[0m\u001b[0;34m,\u001b[0m \u001b[0mword_length\u001b[0m\u001b[0;34m+\u001b[0m\u001b[0;36m2\u001b[0m\u001b[0;34m,\u001b[0m \u001b[0mn_steps\u001b[0m\u001b[0;34m)\u001b[0m\u001b[0;34m\u001b[0m\u001b[0m\n\u001b[1;32m     37\u001b[0m                 states, coef_hists = explain_away(\n\u001b[0;32m---> 38\u001b[0;31m                     word_vec, states, coef_hists, word_length+2, dic1, N, D, n_steps)\n\u001b[0m\u001b[1;32m     39\u001b[0m \u001b[0;34m\u001b[0m\u001b[0m\n\u001b[1;32m     40\u001b[0m                 \u001b[0mpred\u001b[0m\u001b[0;34m,\u001b[0m \u001b[0malphis\u001b[0m \u001b[0;34m=\u001b[0m \u001b[0mspell\u001b[0m\u001b[0;34m(\u001b[0m\u001b[0mcoef_hists\u001b[0m\u001b[0;34m)\u001b[0m\u001b[0;34m\u001b[0m\u001b[0m\n",
      "\u001b[0;32m<ipython-input-144-31f9401ca07c>\u001b[0m in \u001b[0;36mexplain_away\u001b[0;34m(bound_vec, states, coef_hists, state_length, letter_vecs, N, D, max_steps)\u001b[0m\n\u001b[1;32m     64\u001b[0m                 ljds.append(\n\u001b[1;32m     65\u001b[0m                     (np.roll(th_vec * states[j-2] * np.roll(states[j-1], 1), -2) +\n\u001b[0;32m---> 66\u001b[0;31m                     \u001b[0mnp\u001b[0m\u001b[0;34m.\u001b[0m\u001b[0mroll\u001b[0m\u001b[0;34m(\u001b[0m\u001b[0mth_vec\u001b[0m \u001b[0;34m*\u001b[0m \u001b[0mstates\u001b[0m\u001b[0;34m[\u001b[0m\u001b[0mj\u001b[0m\u001b[0;34m-\u001b[0m\u001b[0;36m1\u001b[0m\u001b[0;34m]\u001b[0m \u001b[0;34m*\u001b[0m \u001b[0mnp\u001b[0m\u001b[0;34m.\u001b[0m\u001b[0mroll\u001b[0m\u001b[0;34m(\u001b[0m\u001b[0mstates\u001b[0m\u001b[0;34m[\u001b[0m\u001b[0mj\u001b[0m\u001b[0;34m+\u001b[0m\u001b[0;36m1\u001b[0m\u001b[0;34m]\u001b[0m\u001b[0;34m,\u001b[0m \u001b[0;36m2\u001b[0m\u001b[0;34m)\u001b[0m\u001b[0;34m,\u001b[0m \u001b[0;34m-\u001b[0m\u001b[0;36m1\u001b[0m\u001b[0;34m)\u001b[0m \u001b[0;34m+\u001b[0m\u001b[0;34m\u001b[0m\u001b[0m\n\u001b[0m\u001b[1;32m     67\u001b[0m                       th_vec * np.roll(states[j+1], 1) * np.roll(states[j+2], 2)) / 3\n\u001b[1;32m     68\u001b[0m                 )\n",
      "\u001b[0;32m/home/quinn/miniconda2/lib/python2.7/site-packages/numpy/core/numeric.pyc\u001b[0m in \u001b[0;36mroll\u001b[0;34m(a, shift, axis)\u001b[0m\n\u001b[1;32m   1402\u001b[0m     \u001b[0ma\u001b[0m \u001b[0;34m=\u001b[0m \u001b[0masanyarray\u001b[0m\u001b[0;34m(\u001b[0m\u001b[0ma\u001b[0m\u001b[0;34m)\u001b[0m\u001b[0;34m\u001b[0m\u001b[0m\n\u001b[1;32m   1403\u001b[0m     \u001b[0;32mif\u001b[0m \u001b[0maxis\u001b[0m \u001b[0;32mis\u001b[0m \u001b[0mNone\u001b[0m\u001b[0;34m:\u001b[0m\u001b[0;34m\u001b[0m\u001b[0m\n\u001b[0;32m-> 1404\u001b[0;31m         \u001b[0;32mreturn\u001b[0m \u001b[0mroll\u001b[0m\u001b[0;34m(\u001b[0m\u001b[0ma\u001b[0m\u001b[0;34m.\u001b[0m\u001b[0mravel\u001b[0m\u001b[0;34m(\u001b[0m\u001b[0;34m)\u001b[0m\u001b[0;34m,\u001b[0m \u001b[0mshift\u001b[0m\u001b[0;34m,\u001b[0m \u001b[0;36m0\u001b[0m\u001b[0;34m)\u001b[0m\u001b[0;34m.\u001b[0m\u001b[0mreshape\u001b[0m\u001b[0;34m(\u001b[0m\u001b[0ma\u001b[0m\u001b[0;34m.\u001b[0m\u001b[0mshape\u001b[0m\u001b[0;34m)\u001b[0m\u001b[0;34m\u001b[0m\u001b[0m\n\u001b[0m\u001b[1;32m   1405\u001b[0m \u001b[0;34m\u001b[0m\u001b[0m\n\u001b[1;32m   1406\u001b[0m     \u001b[0;32melse\u001b[0m\u001b[0;34m:\u001b[0m\u001b[0;34m\u001b[0m\u001b[0m\n",
      "\u001b[0;32m/home/quinn/miniconda2/lib/python2.7/site-packages/numpy/core/numeric.pyc\u001b[0m in \u001b[0;36mroll\u001b[0;34m(a, shift, axis)\u001b[0m\n\u001b[1;32m   1415\u001b[0m \u001b[0;34m\u001b[0m\u001b[0m\n\u001b[1;32m   1416\u001b[0m         \u001b[0mrolls\u001b[0m \u001b[0;34m=\u001b[0m \u001b[0;34m[\u001b[0m\u001b[0;34m(\u001b[0m\u001b[0;34m(\u001b[0m\u001b[0mslice\u001b[0m\u001b[0;34m(\u001b[0m\u001b[0mNone\u001b[0m\u001b[0;34m)\u001b[0m\u001b[0;34m,\u001b[0m \u001b[0mslice\u001b[0m\u001b[0;34m(\u001b[0m\u001b[0mNone\u001b[0m\u001b[0;34m)\u001b[0m\u001b[0;34m)\u001b[0m\u001b[0;34m,\u001b[0m\u001b[0;34m)\u001b[0m\u001b[0;34m]\u001b[0m \u001b[0;34m*\u001b[0m \u001b[0ma\u001b[0m\u001b[0;34m.\u001b[0m\u001b[0mndim\u001b[0m\u001b[0;34m\u001b[0m\u001b[0m\n\u001b[0;32m-> 1417\u001b[0;31m         \u001b[0;32mfor\u001b[0m \u001b[0max\u001b[0m\u001b[0;34m,\u001b[0m \u001b[0moffset\u001b[0m \u001b[0;32min\u001b[0m \u001b[0mshifts\u001b[0m\u001b[0;34m.\u001b[0m\u001b[0mitems\u001b[0m\u001b[0;34m(\u001b[0m\u001b[0;34m)\u001b[0m\u001b[0;34m:\u001b[0m\u001b[0;34m\u001b[0m\u001b[0m\n\u001b[0m\u001b[1;32m   1418\u001b[0m             \u001b[0moffset\u001b[0m \u001b[0;34m%=\u001b[0m \u001b[0ma\u001b[0m\u001b[0;34m.\u001b[0m\u001b[0mshape\u001b[0m\u001b[0;34m[\u001b[0m\u001b[0max\u001b[0m\u001b[0;34m]\u001b[0m \u001b[0;32mor\u001b[0m \u001b[0;36m1\u001b[0m  \u001b[0;31m# If `a` is empty, nothing matters.\u001b[0m\u001b[0;34m\u001b[0m\u001b[0m\n\u001b[1;32m   1419\u001b[0m             \u001b[0;32mif\u001b[0m \u001b[0moffset\u001b[0m\u001b[0;34m:\u001b[0m\u001b[0;34m\u001b[0m\u001b[0m\n",
      "\u001b[0;31mKeyboardInterrupt\u001b[0m: "
     ]
    }
   ],
   "source": [
    "alph = 'abcdefghijklmnopqrstuvwxyz#.'\n",
    "D = len(alph)\n",
    "\n",
    "accs = []\n",
    "binaccs = []\n",
    "\n",
    "N = 1000\n",
    "n_steps = 500\n",
    "trials = 10\n",
    "word = 'pneumonoultramicroscopicsilicovolcanoconiosis'\n",
    "# noise \n",
    "for sigma in range(5):\n",
    "    accs.append([])\n",
    "    binaccs.append([])\n",
    "    print ('sigma', sigma*.01)\n",
    "\n",
    "    # N-neurons\n",
    "    for i in range(11):\n",
    "        N = 1000*(2**i)\n",
    "        noise = np.random.normal(0, sigma*.01, N)\n",
    "        dic1 = 2 * (np.random.randn(D, N) < 0) - 1\n",
    "        accs[sigma].append([])\n",
    "        binaccs[sigma].append([])\n",
    "        convsteps[sigma].append([])\n",
    "        print ('N', N)\n",
    "        \n",
    "        # M-letter word\n",
    "        for word_length in range(2,len(word),3):\n",
    "            print ('word_length', word_length)\n",
    "            avg_per_acc = np.zeros(trials)\n",
    "            avg_bin_acc = np.zeros(trials)\n",
    "            \n",
    "            # average results\n",
    "            for trial in range(trials):\n",
    "                word_vec = ngram_encode_cl(word[:word_length], dic1, alph) + noise\n",
    "\n",
    "                states, coef_hists = initialize(dic1, N, D, word_length+2, n_steps)\n",
    "                states, coef_hists = explain_away(\n",
    "                    word_vec, states, coef_hists, word_length+2, dic1, N, D, n_steps)\n",
    "\n",
    "                pred, alphis = spell(coef_hists)\n",
    "                actual = word[:word_length]\n",
    "                # print (pred, actual)\n",
    "                \n",
    "                avg_per_acc[trial] = accuracy(pred, actual)\n",
    "                avg_bin_acc[trial] = 1 if pred == actual else 0\n",
    "                \n",
    "            accs[sigma][i].append( np.average(avg_per_acc))\n",
    "            binaccs[sigma][i].append( np.average(avg_bin_acc))\n"
   ]
  },
  {
   "cell_type": "code",
   "execution_count": 20,
   "metadata": {
    "collapsed": true
   },
   "outputs": [],
   "source": [
    "fname = ('data/res_word_trigram-04-04-2018-N=' + str(N) + '-D=' + str(D) + \n",
    "         '-n' + time.strftime('%y%m%d') + '.npz')\n",
    "\n",
    "np.savez(fname, accs=accs, binaccs=binaccs, N=N, D=D)\n"
   ]
  },
  {
   "cell_type": "code",
   "execution_count": 21,
   "metadata": {
    "collapsed": true
   },
   "outputs": [],
   "source": [
    "f = np.load('data/res_word_trigram-04-04-2018-N=2000-D=28-n180404.npz')\n"
   ]
  },
  {
   "cell_type": "code",
   "execution_count": 142,
   "metadata": {},
   "outputs": [
    {
     "name": "stdout",
     "output_type": "stream",
     "text": [
      "<matplotlib.colors.LinearSegmentedColormap object at 0x7fec4b428050>\n"
     ]
    },
    {
     "data": {
      "image/png": "[encoded data removed]",
      "text/plain": [
       "<matplotlib.figure.Figure at 0x7fec4b4281d0>"
      ]
     },
     "metadata": {},
     "output_type": "display_data"
    }
   ],
   "source": [
    "def sinus2d(x, y):\n",
    "    return np.sin(x) + np.sin(y)\n",
    "\n",
    "rows = len(f['accs'])\n",
    "\n",
    "columns = 2\n",
    "test_N = [1000*(2**i) for i in range(2)]\n",
    "numN = len(test_N)\n",
    "\n",
    "cols = get_cmap(\"jet\", numN)\n",
    "print cols\n",
    "xaxis = [i for i in range(2,len(word),3)]\n",
    "    \n",
    "fig, axes = plt.subplots(rows, columns, sharex='all', squeeze=True, figsize=(20,5))\n",
    "\n",
    "# x, y = [], []\n",
    "# for k in range(numN):\n",
    "#     x.append(xaxis)\n",
    "#     y.append(list(f['accs'][0][k][:len(xaxis)]))\n",
    "    \n",
    "# sc = plt.scatter(x, y, cmap=cols)\n",
    "# plt.colorbar(sc)\n",
    "# plt.show()\n",
    "\n",
    "for k in range(numN):\n",
    "    axes[0].plot(xaxis, f['accs'][0][k][:len(xaxis)], c=cols(k))\n",
    "    axes[1].plot(xaxis, f['binaccs'][0][k][:len(xaxis)], c=cols(k))\n",
    "\n",
    "\n",
    "sm = plt.cm.ScalarMappable(cmap=cols)#, norm=plt.Normalize(vmin=0, vmax=1))\n",
    "sm._A = []\n",
    "cbar = fig.colorbar(sm, boundaries=[0] + test_N)\n",
    "\n",
    "\n",
    "# m0=int(np.floor(test_N.min()))            # colorbar min value\n",
    "# m4=int(np.ceil(test_N.max()))             # colorbar max value\n",
    "# m1=int(1*(m4-m0)/4.0 + m0)               # colorbar mid value 1\n",
    "# m2=int(2*(m4-m0)/4.0 + m0)               # colorbar mid value 2\n",
    "# m3=int(3*(m4-m0)/4.0 + m0)               # colorbar mid value 3\n",
    "# cbar.set_ticks([m0,m1,m2,m3,m4])\n",
    "# cbar.set_ticklabels([m0,m1,m2,m3,m4])\n",
    "\n",
    "plt.show()"
   ]
  },
  {
   "cell_type": "code",
   "execution_count": null,
   "metadata": {
    "collapsed": true
   },
   "outputs": [],
   "source": [
    "x, y = [], []\n",
    "for k in range(numN):\n",
    "    x += xaxis\n",
    "    y += list(f['accs'][0][k][:len(xaxis)])\n",
    "    \n",
    "    \n",
    "X, Y = np.meshgrid(x, y)\n",
    "\n",
    "ax = plt.subplot(111)\n",
    "im = ax.imshow(Y)\n",
    "\n",
    "cax = divider.append_axes(\"right\", size=\"5%\", pad=0.05)\n",
    "\n",
    "plt.colorbar(im, cax=cax)\n"
   ]
  },
  {
   "cell_type": "code",
   "execution_count": 29,
   "metadata": {},
   "outputs": [
    {
     "ename": "NameError",
     "evalue": "name 'LinearSegmentedColormap' is not defined",
     "output_type": "error",
     "traceback": [
      "\u001b[0;31m---------------------------------------------------------------------------\u001b[0m",
      "\u001b[0;31mNameError\u001b[0m                                 Traceback (most recent call last)",
      "\u001b[0;32m<ipython-input-29-264a8dc07ea7>\u001b[0m in \u001b[0;36m<module>\u001b[0;34m()\u001b[0m\n\u001b[1;32m     11\u001b[0m \u001b[0;32mfor\u001b[0m \u001b[0mn_bin\u001b[0m\u001b[0;34m,\u001b[0m \u001b[0max\u001b[0m \u001b[0;32min\u001b[0m \u001b[0mzip\u001b[0m\u001b[0;34m(\u001b[0m\u001b[0mn_bins\u001b[0m\u001b[0;34m,\u001b[0m \u001b[0maxs\u001b[0m\u001b[0;34m.\u001b[0m\u001b[0mravel\u001b[0m\u001b[0;34m(\u001b[0m\u001b[0;34m)\u001b[0m\u001b[0;34m)\u001b[0m\u001b[0;34m:\u001b[0m\u001b[0;34m\u001b[0m\u001b[0m\n\u001b[1;32m     12\u001b[0m     \u001b[0;31m# Create the colormap\u001b[0m\u001b[0;34m\u001b[0m\u001b[0;34m\u001b[0m\u001b[0m\n\u001b[0;32m---> 13\u001b[0;31m     cm = LinearSegmentedColormap.from_list(\n\u001b[0m\u001b[1;32m     14\u001b[0m         cmap_name, colors, N=n_bin)\n\u001b[1;32m     15\u001b[0m     \u001b[0;31m# Fewer bins will result in \"coarser\" colomap interpolation\u001b[0m\u001b[0;34m\u001b[0m\u001b[0;34m\u001b[0m\u001b[0m\n",
      "\u001b[0;31mNameError\u001b[0m: name 'LinearSegmentedColormap' is not defined"
     ]
    },
    {
     "data": {
      "image/png": "[encoded data removed]",
      "text/plain": [
       "<matplotlib.figure.Figure at 0x7fec784b6610>"
      ]
     },
     "metadata": {},
     "output_type": "display_data"
    }
   ],
   "source": [
    "def resplot_im(coef_hists, nsteps=None):\n",
    "    \n",
    "    alphis = []\n",
    "    for i in range(len(coef_hists)):\n",
    "        if nsteps is None:\n",
    "            alphis.append(np.argmax(np.abs(coef_hists[i][-1,:])))\n",
    "        else:\n",
    "            alphis.append(np.argmax(np.abs(coef_hists[i][nsteps,:])))\n",
    "    \n",
    "    rows = 1\n",
    "    columns = len(coef_hists)\n",
    "    \n",
    "    fig = gcf();\n",
    "    \n",
    "    #fig, axes = plt.subplots(rows, columns, squeeze=True, figsize=(12,3))\n",
    "    cols = get_cmap('copper', min(500,n_steps))\n",
    "    \n",
    "    for j in range(columns):\n",
    "        ax = fig.add_subplot(rows, columns, j+1)\n",
    "        if nsteps is not None:\n",
    "            a = np.sign(coef_hists[j][nsteps,alphis[j]])\n",
    "            coef_hists[j][:,alphis[j]] *= a\n",
    "        \n",
    "            x_h = coef_hists[j][:nsteps, :]    \n",
    "        else:\n",
    "            a = np.sign(coef_hists[j][-1,alphis[j]])\n",
    "            coef_hists[j][:,alphis[j]] *= a\n",
    "        \n",
    "            x_h = coef_hists[j][:,:]\n",
    "        \n",
    "        ax.imshow(x_h, interpolation='none', aspect='auto', cmap=colormaps.viridis)\n",
    "        \n",
    "        #ax.invert_yaxis()\n",
    "        \n",
    "        #y_idxs = np.round(np.linspace(0, coef_hists[j].shape[1], 10))\n",
    "        #y_labels = np.array(list(alph))[y_idxs]\n",
    "        #ax.set_yticks(y_idxs)\n",
    "        #axes[j].set_yticklabels(y_labels)\n",
    "        if j == 0:\n",
    "            ax.set_ylabel('Iterations')\n",
    "        else:\n",
    "            ax.set_yticks([])\n",
    "            \n",
    "        ax.set_title(alphis[j])\n",
    "        #step, alphi = np.unravel_index(coef_hists[j].argmax(), coef_hists[j].shape)\n",
    "        #axes[j].plot(alphi, coef_hists[j][step, alphi], '+')\n",
    "    \n",
    "    plt.tight_layout()\n",
    "    "
   ]
  },
  {
   "cell_type": "code",
   "execution_count": 52,
   "metadata": {},
   "outputs": [
    {
     "data": {
      "image/png": "[encoded data removed]",
      "text/plain": [
       "<matplotlib.figure.Figure at 0x7fec78597b50>"
      ]
     },
     "metadata": {},
     "output_type": "display_data"
    }
   ],
   "source": [
    "x = np.arange(-5, 5)#, 0.1)\n",
    "y = np.arange(-5, 5)#, 0.1)\n",
    "xx, yy = np.meshgrid(x, y, sparse=True)\n",
    "z = np.cos(xx) * np.sin(yy)\n",
    "h = plt.contourf(x,y,z)"
   ]
  },
  {
   "cell_type": "code",
   "execution_count": 58,
   "metadata": {},
   "outputs": [
    {
     "name": "stdout",
     "output_type": "stream",
     "text": [
      "(array([ 0. ,  0.5,  1. ]), array([ 0.,  1.]))\n"
     ]
    },
    {
     "data": {
      "text/plain": [
       "array([[ 0. ,  0.5,  1. ],\n",
       "       [ 0. ,  0.5,  1. ]])"
      ]
     },
     "execution_count": 58,
     "metadata": {},
     "output_type": "execute_result"
    }
   ],
   "source": [
    "nx, ny = (3, 2)\n",
    "x = np.linspace(0, 1, nx)\n",
    "y = np.linspace(0, 1, ny)\n",
    "xv, yv = np.meshgrid(x, y)\n",
    "print (x, y)\n",
    "\n",
    "plt.contourf(x,y,z)"
   ]
  },
  {
   "cell_type": "code",
   "execution_count": 76,
   "metadata": {},
   "outputs": [
    {
     "name": "stdout",
     "output_type": "stream",
     "text": [
      "2\n",
      "[2, 5, 8, 11, 14, 17, 20, 23, 26, 29, 32, 35, 38, 41, 44, 2, 5, 8, 11, 14, 17, 20, 23, 26, 29, 32, 35, 38, 41, 44]\n",
      "[1.0, 0.91999999999999993, 0.625, 0.23636363636363633, 0.27857142857142858, 0.070588235294117646, 0.065000000000000002, 0.039130434782608692, 0.046153846153846156, 0.034482758620689655, 0.025000000000000001, 0.054285714285714284, 0.055263157894736833, 0.04878048780487805, 0.045454545454545456, 0.80000000000000004, 0.69999999999999996, 0.5, 0.41818181818181815, 0.40714285714285714, 0.15294117647058825, 0.255, 0.052173913043478258, 0.050000000000000003, 0.07586206896551724, 0.040625000000000001, 0.054285714285714284, 0.052631578947368418, 0.063414634146341478, 0.038636363636363635]\n"
     ]
    },
    {
     "data": {
      "image/png": "[encoded data removed]",
      "text/plain": [
       "<matplotlib.figure.Figure at 0x7fec4bc5b950>"
      ]
     },
     "metadata": {},
     "output_type": "display_data"
    }
   ],
   "source": [
    "test_N = f['accs'][0]\n",
    "numN = len(test_N)\n",
    "xaxis = [i for i in range(2,len(word),3)]\n",
    "\n",
    "x, y = [], []\n",
    "\n",
    "for k in range(numN):\n",
    "    x += xaxis\n",
    "    y += list(f['accs'][0][k][:len(xaxis)])\n",
    "#x, y = np.zeros(30), np.zeros(30)\n",
    "heatmap, xedges, yedges = np.histogram2d(x, y, bins=3)\n",
    "extent = [xedges[0], xedges[-1], yedges[0], yedges[-1]]\n",
    "print numN\n",
    "print x\n",
    "print y\n",
    "plt.clf()\n",
    "plt.imshow(heatmap.T, extent=extent, origin='lower')\n",
    "plt.show()"
   ]
  },
  {
   "cell_type": "code",
   "execution_count": null,
   "metadata": {
    "collapsed": true
   },
   "outputs": [],
   "source": []
  }
 ],
 "metadata": {
  "kernelspec": {
   "display_name": "Python 2",
   "language": "python",
   "name": "python2"
  },
  "language_info": {
   "codemirror_mode": {
    "name": "ipython",
    "version": 2
   },
   "file_extension": ".py",
   "mimetype": "text/x-python",
   "name": "python",
   "nbconvert_exporter": "python",
   "pygments_lexer": "ipython2",
   "version": "2.7.13"
  }
 },
 "nbformat": 4,
 "nbformat_minor": 2
}
