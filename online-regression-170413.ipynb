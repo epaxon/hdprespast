{
 "cells": [
  {
   "cell_type": "code",
   "execution_count": 7,
   "metadata": {
    "collapsed": true
   },
   "outputs": [],
   "source": [
    "import csv\n",
    "import numpy as np\n",
    "import utils\n",
    "import hrr_utils\n",
    "import time\n",
    "\n",
    "import scipy\n",
    "\n",
    "from sklearn import linear_model\n",
    "from sklearn.linear_model import SGDRegressor\n",
    "from matplotlib import pyplot as plt\n",
    "from matplotlib.collections import LineCollection\n",
    "%matplotlib inline\n",
    "\n",
    "\n",
    "N=1000\n",
    "\n",
    "def genX(verbs):\n",
    "    X = np.zeros((len(verbs), N)) # Exclusively difference PAST1-PRES1\n",
    "    PRES1 = np.zeros((len(verbs), N))\n",
    "    PRES2 = np.zeros((len(verbs), N))\n",
    "    PAST1 = np.zeros((len(verbs), N))\n",
    "    PAST2 = np.zeros((len(verbs), N))\n",
    "\n",
    "    for m, pair in enumerate(verbs):\n",
    "        past1 = hrr_utils.GetRVClipHash(pair[1], dic1, 3)\n",
    "        past2 = hrr_utils.GetRVClipHash(pair[1], dic2, 3)\n",
    "        pres1 = hrr_utils.GetRVClipHash(pair[0], dic1, 3)\n",
    "        pres2 = hrr_utils.GetRVClipHash(pair[0], dic2, 3)\n",
    "        PRES1[m] = pres1\n",
    "        PRES2[m] = pres2\n",
    "        PAST1[m] = past1\n",
    "        PAST2[m] = past2\n",
    "\n",
    "    #X = np.where(PAST1-PRES1 > 0, 1, -1)\n",
    "    X = PAST1-PRES1\n",
    "    return X, PRES1, PRES2, PAST1, PAST2\n",
    "\n",
    "\n",
    "def closed_train(Past, Present):\n",
    "    return np.dot(np.linalg.pinv(Present), Past)\n",
    "\n",
    "def loss(W, X_train, y_train, lnum=1):\n",
    "    lost = norm(np.dot(X_train,W) - y_train, lnum)\n",
    "    return lost\n",
    "\n",
    "def train(X_train, y_train, reg=0):\n",
    "    ''' Build a model from X_train -> y_train '''\n",
    "    xtx = X_train.T.dot(X_train)\n",
    "    return scipy.linalg.solve(xtx + reg*np.eye(xtx.shape[0]), X_train.T.dot(y_train), sym_pos=True)\n",
    "\n",
    "# no regularization yet\n",
    "def train_gd(X_train, y_train, model, alpha=0.1, reg=0):\n",
    "    ''' Build a model from X_train -> y_train using batch gradient descent \n",
    "        Gradient update equation: W = W.T(X.TX) - y.TX + 2alphaW.T\n",
    "    '''\n",
    "    \n",
    "    gradient = 2*np.dot(model.T, np.dot(X_train.T,X_train))\n",
    "    gradient -= 2*np.dot(y_train.T,X_train)\n",
    "    gradient += 2*reg*model.T\n",
    "    gradient = gradient.T/X_train.shape[0]\n",
    "    model = model - alpha * gradient\n",
    "    return model\n",
    "\n",
    "def train_sgd(X_train, y_train, model, i, alpha=0.1, reg=0):\n",
    "    ''' Build a model from X_train -> y_train using stochastic gradient descent \n",
    "        Gradient update equation: W = W.T(X[i].TX[i]) - y[i].TX[i] + 2alphaW.T\n",
    "    '''\n",
    "    #i = int(np.random.uniform(low=0,high=X_train.shape[0]))\n",
    "    gradient = 2*np.dot(model.T, np.outer(X_train[i,:].T, X_train[i,:]))\n",
    "    gradient -= 2*np.outer(y_train[i,:].T, X_train[i,:].T)\n",
    "    gradient += 2*reg*model.T\n",
    "    gradient = gradient.T/X_train.shape[0]\n",
    "    model += model - alpha * gradient\n",
    "    \n",
    "    return model\n",
    "\n",
    "def predict(model, X):\n",
    "    ''' From model and data points, output prediction vectors '''\n",
    "    return X.dot(model)\n",
    "\n",
    "def sim(x, y):\n",
    "    if len(x.shape) == 1 or len(y.shape)==1:\n",
    "        return np.dot(x, y)\n",
    "    return np.sum(np.multiply(x, y), axis=1)\n",
    "\n",
    "def graph(x, y1, y2, title=None, xlabel='number of words', ylabel='average dot product', legend='upper right'):\n",
    "\n",
    "    fig = plt.figure(figsize=(4,3))\n",
    "    plt.plot(x, y1, label=\"train\")\n",
    "    plt.plot(x, y2, label=\"test\")\n",
    "    fig.suptitle(title, fontsize=20)\n",
    "    plt.xlabel(xlabel, fontsize=18)\n",
    "    plt.ylabel(ylabel, fontsize=16)\n",
    "    plt.legend(loc=legend)\n",
    "    plt.show()\n",
    "    #fig.savefig('test.jpg')"
   ]
  },
  {
   "cell_type": "code",
   "execution_count": 2,
   "metadata": {
    "collapsed": true
   },
   "outputs": [],
   "source": [
    "reg_pres, reg_past, reg_freq = utils.GetRegularVerbs(frequency=1)\n",
    "irreg_pres, irreg_past, irreg_freq = utils.GetIrregularVerbs(frequency=1)\n",
    "\n",
    "data_size = 100\n",
    "reg_pres, reg_past, reg_freq = reg_pres[:data_size], reg_past[:data_size], reg_freq[:data_size]\n",
    "irreg_pres, irreg_past, irreg_freq = irreg_pres[:data_size], irreg_past[:data_size], irreg_freq[:data_size]\n",
    "\n",
    "regular = zip(reg_pres, reg_past, reg_freq)\n",
    "irregular = zip(irreg_pres, irreg_past, irreg_freq)\n",
    "\n",
    "#train_cutoff = 1700\n",
    "train_cutoff = 70\n",
    "\n",
    "train_reg = regular[0:train_cutoff]\n",
    "train_irreg = irregular[0:train_cutoff]\n",
    "\n",
    "\n",
    "test_reg = regular[train_cutoff:]\n",
    "test_irreg = irregular[train_cutoff:]\n",
    "\n",
    "dic1 = hrr_utils.GenerateDefaultDictionary(N)\n",
    "dic2 = hrr_utils.GenerateDefaultDictionary(N)\n",
    "\n",
    "regular.extend(irregular)\n",
    "verbs = regular"
   ]
  },
  {
   "cell_type": "code",
   "execution_count": 3,
   "metadata": {
    "collapsed": false
   },
   "outputs": [],
   "source": [
    "trainX, trainpres1, trainpres2, trainpast1, trainpast2 = genX(train_reg + train_irreg)\n",
    "testX, testpres1, testpres2, testpast1, testpast2 = genX(test_reg + test_irreg)"
   ]
  },
  {
   "cell_type": "code",
   "execution_count": 43,
   "metadata": {
    "collapsed": false
   },
   "outputs": [
    {
     "name": "stdout",
     "output_type": "stream",
     "text": [
      "Stochastic gradient descent\n"
     ]
    },
    {
     "data": {
      "image/png": "[encoded data removed]",
      "text/plain": [
       "<matplotlib.figure.Figure at 0x112d5af90>"
      ]
     },
     "metadata": {},
     "output_type": "display_data"
    },
    {
     "name": "stdout",
     "output_type": "stream",
     "text": [
      "figures/unregularized_trigam_regression-170409\n"
     ]
    },
    {
     "data": {
      "text/plain": [
       "<matplotlib.figure.Figure at 0x10ac74510>"
      ]
     },
     "metadata": {},
     "output_type": "display_data"
    }
   ],
   "source": [
    "p = N\n",
    "p_var = 0.015\n",
    "alpha=1e-3\n",
    "reg=0.1\n",
    "\n",
    "x = np.arange(1, trainpres1.shape[0], 1)\n",
    "x = np.arange(0, num_iter, 1)\n",
    "y1 = np.zeros(x.shape[0])\n",
    "y2 = np.zeros(x.shape[0])\n",
    "\n",
    "print(\"Stochastic gradient descent\")\n",
    "W = np.zeros((N,N))\n",
    "for i in range(x.shape[0]):\n",
    "    k = x[i]\n",
    "    W = train_sgd(trainpres1, trainpast2, W, i, alpha, reg)\n",
    "    train_pred = predict(W, trainpres1)\n",
    "    test_pred = predict(W, testpres1)\n",
    "    \n",
    "    \n",
    "    y1[i] = sim(train_pred, trainpast2).mean()\n",
    "    y2[i] = sim(test_pred, testpast2).mean()\n",
    "    \n",
    "    \n",
    "graph(x,y1,y2,title='unregularized',legend='upper right')\n",
    "\n",
    "fname =  ('figures/unregularized_trigam_regression') + '-' + time.strftime('%y%m%d')\n",
    "print fname\n",
    "\n",
    "plt.savefig(fname + '.png', transparent=True)\n",
    "plt.savefig(fname + '.eps', transparent=True)"
   ]
  },
  {
   "cell_type": "code",
   "execution_count": 4,
   "metadata": {
    "collapsed": false
   },
   "outputs": [
    {
     "name": "stdout",
     "output_type": "stream",
     "text": [
      "Batch gradient descent\n"
     ]
    },
    {
     "data": {
      "image/png": "[encoded data removed]",
      "text/plain": [
       "<matplotlib.figure.Figure at 0x7fec8d9beb10>"
      ]
     },
     "metadata": {},
     "output_type": "display_data"
    },
    {
     "name": "stdout",
     "output_type": "stream",
     "text": [
      "figures/unregularized_trigam_regression-170413\n"
     ]
    },
    {
     "data": {
      "text/plain": [
       "<matplotlib.figure.Figure at 0x7fec92c37650>"
      ]
     },
     "metadata": {},
     "output_type": "display_data"
    }
   ],
   "source": [
    "p = N\n",
    "p_var = 0.015\n",
    "alpha=1e-3\n",
    "reg=0.1\n",
    "\n",
    "x = np.arange(1, trainpres1.shape[0], 1)\n",
    "y1 = np.zeros(x.shape[0])\n",
    "y2 = np.zeros(x.shape[0])\n",
    "\n",
    "print(\"Batch gradient descent\")\n",
    "W = np.zeros((N,N))\n",
    "for i in range(x.shape[0]):\n",
    "    k = x[i]\n",
    "    W = train_gd(trainpres1, trainpast2, W, alpha, reg)\n",
    "    train_pred = predict(W, trainpres1)\n",
    "    test_pred = predict(W, testpres1)\n",
    "    \n",
    "    \n",
    "    y1[i] = sim(train_pred, trainpast2).mean()\n",
    "    y2[i] = sim(test_pred, testpast2).mean()\n",
    "    \n",
    "    \n",
    "graph(x,y1,y2,title='unregularized',legend='upper right')\n",
    "\n",
    "fname =  ('figures/unregularized_trigam_regression') + '-' + time.strftime('%y%m%d')\n",
    "print fname\n",
    "\n",
    "plt.savefig(fname + '.png', transparent=True)\n",
    "plt.savefig(fname + '.eps', transparent=True)"
   ]
  },
  {
   "cell_type": "code",
   "execution_count": 10,
   "metadata": {
    "collapsed": false
   },
   "outputs": [
    {
     "name": "stdout",
     "output_type": "stream",
     "text": [
      "Batch gradient descent\n"
     ]
    },
    {
     "data": {
      "image/png": "[encoded data removed]",
      "text/plain": [
       "<matplotlib.figure.Figure at 0x7fed322e4190>"
      ]
     },
     "metadata": {},
     "output_type": "display_data"
    },
    {
     "name": "stdout",
     "output_type": "stream",
     "text": [
      "figures/unregularized_trigam_regression-170413\n"
     ]
    },
    {
     "data": {
      "text/plain": [
       "<matplotlib.figure.Figure at 0x7fec8d9d09d0>"
      ]
     },
     "metadata": {},
     "output_type": "display_data"
    }
   ],
   "source": [
    "p = N\n",
    "p_var = 0.015\n",
    "alpha=1e-3\n",
    "reg=0\n",
    "\n",
    "x = np.arange(1, trainpres1.shape[0], 1)\n",
    "y1 = np.zeros(x.shape[0])\n",
    "y2 = np.zeros(x.shape[0])\n",
    "\n",
    "print(\"Batch gradient descent\")\n",
    "W = np.zeros((N,N))\n",
    "for i in range(x.shape[0]):\n",
    "    k = x[i]\n",
    "    W = closed_train(trainpres1, trainpast2)\n",
    "    train_pred = predict(W, trainpres1)\n",
    "    test_pred = predict(W, testpres1)\n",
    "    \n",
    "    \n",
    "    y1[i] = sim(train_pred, trainpast2).mean()\n",
    "    y2[i] = sim(test_pred, testpast2).mean()\n",
    "    \n",
    "    \n",
    "graph(x,y1,y2,title='unregularized',legend='upper right')\n",
    "\n",
    "fname =  ('figures/unregularized_trigam_regression') + '-' + time.strftime('%y%m%d')\n",
    "print fname\n",
    "\n",
    "plt.savefig(fname + '.png', transparent=True)\n",
    "plt.savefig(fname + '.eps', transparent=True)"
   ]
  },
  {
   "cell_type": "code",
   "execution_count": null,
   "metadata": {
    "collapsed": true
   },
   "outputs": [],
   "source": []
  },
  {
   "cell_type": "code",
   "execution_count": null,
   "metadata": {
    "collapsed": true
   },
   "outputs": [],
   "source": []
  }
 ],
 "metadata": {
  "kernelspec": {
   "display_name": "Python 2",
   "language": "python",
   "name": "python2"
  },
  "language_info": {
   "codemirror_mode": {
    "name": "ipython",
    "version": 2
   },
   "file_extension": ".py",
   "mimetype": "text/x-python",
   "name": "python",
   "nbconvert_exporter": "python",
   "pygments_lexer": "ipython2",
   "version": "2.7.11"
  }
 },
 "nbformat": 4,
 "nbformat_minor": 0
}
