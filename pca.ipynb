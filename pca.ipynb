{
 "cells": [
  {
   "cell_type": "code",
   "execution_count": 1,
   "metadata": {
    "collapsed": true
   },
   "outputs": [],
   "source": [
    "import utils\n",
    "import hrr_utils\n",
    "import numpy as np\n",
    "import mpl_toolkits.mplot3d\n",
    "import matplotlib.pyplot as plt\n",
    "%matplotlib inline"
   ]
  },
  {
   "cell_type": "code",
   "execution_count": 3,
   "metadata": {
    "collapsed": false
   },
   "outputs": [
    {
     "name": "stdout",
     "output_type": "stream",
     "text": [
      "['alight,alighted,1', 'arise,arose,1', 'awake,awoke,5', 'be,was,10', 'bear,bore,1', 'beat,beat,1', 'become,became,5', 'beget,begot,1', 'begin,began,5', 'bend,bent,3', 'bereave,bereaved,1', 'beseech,besought,1', 'bet,bet,5', 'bid,bade,3', 'bide,bade,1', 'bind,bound,3', 'bite,bit,3', 'bleed,bled,3', 'bless,blessed,3', 'blow,blew,5', 'break,broke,5', 'breed,bred,3', 'bring,brought,7', 'broadcast,broadcast,3', 'build,built,5', 'burn,burnt,3', 'burst,burst,3', 'bust,bust,3', 'buy,bought,5', 'can,could,8', 'cast,cast,3', 'catch,caught,3', 'choose,chose,5', 'cleave,cleft,1', 'cling,clung,2', 'clothe,clothed,1', 'come,came,5', 'cost,cost,5', 'creep,crept,3', 'crow,crowed,5', 'cut,cut,5', 'deal,dealt,5', 'dig,dug,5', 'do,did,9', 'draw,drew,5', 'dream,dreamt,3', 'drink,drank,5', 'drive,drove,5', 'dwell,dwelt,3', 'eat,ate,7', 'fall,fell,6', 'feed,fed,5', 'feel,felt,5', 'fight,fought,6', 'find,found,5', 'flee,fled,3', 'fling,flung,2', 'forbid,forbad,1', 'forecast,forecast,3', 'forget,forgot,4', 'forsake,forsook,1', 'freeze,froze,3', 'geld,gelded,1', 'get,got,9', 'gild,gilded,2', 'give,gave,7', 'gnaw,gnawed,3', 'go,went,10', 'grind,ground,3', 'grip,gripped,3', 'grow,grew,3', 'hang,hung,3', 'have,had,10', 'hear,heard,5', 'heave,heaved,2', 'hew,hewed,1', 'hide,hid,3', 'hit,hit,5', 'hold,held,5', 'hurt,hurt,5', 'keep,kept,5', 'kneel,knelt,3', 'knit,knitted,3', 'know,knew,5', 'lay,laid,5', 'lead,led,3', 'lean,leant,3', 'leap,leapt,3', 'learn,learnt,3', 'leave,left,5', 'lend,lent,3', 'let,let,9', 'lie,lay,5', 'light,lit,3', 'lose,lost,3', 'make,made,3', 'may,might,5', 'mean,meant,3', 'meet,met,6', 'melt,melted,3', 'mow,mowed,2', 'pay,paid,4', 'pen,pent,2', 'plead,pled,2', 'prove,proved,3', 'put,put,8', 'quit,quit,3', 'read,read,3', 'rid,rid,2', 'ride,rode,3', 'ring,rang,5', 'run,ran,3', 'saw,sawed,3', 'say,said,5', 'see,saw,7', 'seek,sought,2', 'sell,sold,3', 'send,sent,5', 'set,set,3', 'sew,sewed,3', 'shake,shook,3', 'shall,should,4', 'shear,sheared,1', 'shed,shed,2', 'shine,shone,2', 'shit,shit,4', 'shoe,shod,2', 'shoot,shot,3', 'show,showed,4', 'shred,shred,4', 'shrink,shrank,4', 'shut,shut,4', 'sing,sang,3', 'sink,sank,3', 'sit,sat,5', 'slay,slew,2', 'sleep,slept,4', 'slide,slid,2', 'sling,slung,1', 'slink,slunk,1', 'slit,slit,1', 'smell,smelt,2', 'smite,smote,3', 'sow,sowed,4', 'speak,spoke,6', 'speed,sped,8', 'spell,spelt,4', 'spend,spent,6', 'spill,spilt,2', 'spin,spun,1', 'spit,spat,2', 'split,split,2', 'spoil,spoilt,3', 'spread,spread,4', 'spring,sprang,3', 'stand,stood,6', 'steal,stole,5', 'stick,stuck,8', 'sting,stung,6', 'stink,stank,3', 'stride,strode,4', 'strike,struck,7', 'string,strung,7', 'strive,strove,5', 'swear,swore,6', 'sweat,sweat,3', 'sweep,swept,3', 'swell,swelled,4', 'swim,swam,4', 'take,took,7', 'teach,taught,6', 'tear,tore,5', 'telecast,telecast,2', 'tell,told,8', 'think,thought,7', 'throw,threw,8', 'thrust,thrust,5', 'tread,trod,4', 'understand,understood,8', 'wake,woke,10', 'wear,wore,9', 'weave,wove,4', 'wed,wed,8', 'weep,wept,5', 'wet,wet,7', 'win,won,7', 'wind,wound,5', 'wring,wrung,5', 'write,wrote,6']\n"
     ]
    }
   ],
   "source": [
    "irregular = open('data/cleaned/irregular_verbs_clean.csv').read().strip().split()\n",
    "print irregular"
   ]
  },
  {
   "cell_type": "code",
   "execution_count": 4,
   "metadata": {
    "collapsed": false
   },
   "outputs": [
    {
     "ename": "IOError",
     "evalue": "[Errno 2] No such file or directory: 'past-ed10000.txt'",
     "output_type": "error",
     "traceback": [
      "\u001b[0;31m---------------------------------------------------------------------------\u001b[0m",
      "\u001b[0;31mIOError\u001b[0m                                   Traceback (most recent call last)",
      "\u001b[0;32m<ipython-input-4-1eda18328514>\u001b[0m in \u001b[0;36m<module>\u001b[0;34m()\u001b[0m\n\u001b[0;32m----> 1\u001b[0;31m \u001b[0mf1\u001b[0m \u001b[0;34m=\u001b[0m \u001b[0mopen\u001b[0m\u001b[0;34m(\u001b[0m\u001b[0;34m'past-ed10000.txt'\u001b[0m\u001b[0;34m)\u001b[0m\u001b[0;34m.\u001b[0m\u001b[0mread\u001b[0m\u001b[0;34m(\u001b[0m\u001b[0;34m)\u001b[0m\u001b[0;34m.\u001b[0m\u001b[0mstrip\u001b[0m\u001b[0;34m(\u001b[0m\u001b[0;34m)\u001b[0m\u001b[0;34m.\u001b[0m\u001b[0msplit\u001b[0m\u001b[0;34m(\u001b[0m\u001b[0;34m\" \"\u001b[0m\u001b[0;34m)\u001b[0m\u001b[0;34m\u001b[0m\u001b[0m\n\u001b[0m\u001b[1;32m      2\u001b[0m \u001b[0mf2\u001b[0m \u001b[0;34m=\u001b[0m \u001b[0mopen\u001b[0m\u001b[0;34m(\u001b[0m\u001b[0;34m'present-ed10000.txt'\u001b[0m\u001b[0;34m)\u001b[0m\u001b[0;34m.\u001b[0m\u001b[0mread\u001b[0m\u001b[0;34m(\u001b[0m\u001b[0;34m)\u001b[0m\u001b[0;34m.\u001b[0m\u001b[0mstrip\u001b[0m\u001b[0;34m(\u001b[0m\u001b[0;34m)\u001b[0m\u001b[0;34m.\u001b[0m\u001b[0msplit\u001b[0m\u001b[0;34m(\u001b[0m\u001b[0;34m\" \"\u001b[0m\u001b[0;34m)\u001b[0m\u001b[0;34m\u001b[0m\u001b[0m\n\u001b[1;32m      3\u001b[0m \u001b[0mw\u001b[0m \u001b[0;34m=\u001b[0m \u001b[0mopen\u001b[0m\u001b[0;34m(\u001b[0m\u001b[0;34m\"regular_verbs_clean.csv\"\u001b[0m\u001b[0;34m,\u001b[0m \u001b[0;34m'w'\u001b[0m\u001b[0;34m)\u001b[0m\u001b[0;34m\u001b[0m\u001b[0m\n\u001b[1;32m      4\u001b[0m \u001b[0;34m\u001b[0m\u001b[0m\n\u001b[1;32m      5\u001b[0m \u001b[0mset1\u001b[0m \u001b[0;34m=\u001b[0m \u001b[0mset\u001b[0m\u001b[0;34m(\u001b[0m\u001b[0;34m)\u001b[0m\u001b[0;34m\u001b[0m\u001b[0m\n",
      "\u001b[0;31mIOError\u001b[0m: [Errno 2] No such file or directory: 'past-ed10000.txt'"
     ]
    }
   ],
   "source": [
    "f1 = open('past-ed10000.txt').read().strip().split(\" \")\n",
    "f2 = open('present-ed10000.txt').read().strip().split(\" \")\n",
    "w = open(\"regular_verbs_clean.csv\", 'w')\n",
    "\n",
    "set1 = set()\n",
    "set2 = set()\n",
    "\n",
    "def check_in_set(string, sett):\n",
    "    for i in range(len(string)-2):\n",
    "        s = string[i:i+3]\n",
    "        if s in sett:\n",
    "            return True\n",
    "    return False\n",
    "\n",
    "def add_to_set(string, sett):\n",
    "    for i in range(len(string)-2):\n",
    "        s = string[i:i+3]\n",
    "        sett.add(s)\n",
    "        if s in sett:\n",
    "            return True\n",
    "    return False\n",
    "        \n",
    "\n",
    "for i in range(len(f1)):\n",
    "    present = f2[i]\n",
    "    past = f1[i]\n",
    "    \n",
    "    if not check_in_set(present, set1) and not check_in_set(past, set2):\n",
    "        add_to_set(present, set1)\n",
    "        add_to_set(past, set2)\n",
    "        w.write(present+\",\"+past+\"\\n\")\n",
    "        continue\n",
    "    "
   ]
  },
  {
   "cell_type": "code",
   "execution_count": 4,
   "metadata": {
    "collapsed": false
   },
   "outputs": [],
   "source": [
    "words = utils.LoadLatentSpace()\n",
    "N = 20000"
   ]
  },
  {
   "cell_type": "code",
   "execution_count": 5,
   "metadata": {
    "collapsed": false
   },
   "outputs": [
    {
     "name": "stdout",
     "output_type": "stream",
     "text": [
      "['jump', 'thump', 'clump', 'break', 'streak', 'peak', 'creak', 'some', 'become', 'google', 'toggle', 'boggle', 'was', 'were', 'been']\n"
     ]
    }
   ],
   "source": [
    "print words"
   ]
  },
  {
   "cell_type": "code",
   "execution_count": 6,
   "metadata": {
    "collapsed": false
   },
   "outputs": [],
   "source": [
    "dic = hrr_utils.GenerateDefaultDictionary(n=N)"
   ]
  },
  {
   "cell_type": "code",
   "execution_count": 7,
   "metadata": {
    "collapsed": false
   },
   "outputs": [],
   "source": [
    "n = np.zeros((len(words), N))\n",
    "\n",
    "for i in np.arange(len(words)):\n",
    "    n[i, :] = hrr_utils.GetRVClip(words[i], dic, 3, fn=hrr_utils.GetAllRVGrams)"
   ]
  },
  {
   "cell_type": "code",
   "execution_count": 8,
   "metadata": {
    "collapsed": false
   },
   "outputs": [],
   "source": [
    "u, s, v = np.linalg.svd(n, full_matrices=False)"
   ]
  },
  {
   "cell_type": "code",
   "execution_count": 9,
   "metadata": {
    "collapsed": false
   },
   "outputs": [],
   "source": [
    "data = v[:2, :].dot(n.T)"
   ]
  },
  {
   "cell_type": "code",
   "execution_count": 10,
   "metadata": {
    "collapsed": false
   },
   "outputs": [
    {
     "name": "stderr",
     "output_type": "stream",
     "text": [
      "//anaconda/lib/python2.7/site-packages/matplotlib/collections.py:590: FutureWarning: elementwise comparison failed; returning scalar instead, but in the future will perform elementwise comparison\n",
      "  if self._edgecolors == str('face'):\n"
     ]
    },
    {
     "data": {
      "image/png": "[encoded data removed]",
      "text/plain": [
       "<matplotlib.figure.Figure at 0x10941edd0>"
      ]
     },
     "metadata": {},
     "output_type": "display_data"
    }
   ],
   "source": [
    "fig, ax = plt.subplots()\n",
    "ax.scatter(data[0], data[1])\n",
    "\n",
    "for i, txt in enumerate(words):\n",
    "    ax.annotate(txt, (data[0, i],data[1, i]))"
   ]
  },
  {
   "cell_type": "code",
   "execution_count": 17,
   "metadata": {
    "collapsed": false
   },
   "outputs": [],
   "source": [
    "dic1 = hrr_utils.GenerateDefaultDictionary(n=N)\n",
    "dic2 = dic1# hrr_utils.GenerateDefaultDictionary(n=N)\n",
    "word_groupings = utils.LoadLatentSpaceGroups()"
   ]
  },
  {
   "cell_type": "code",
   "execution_count": 18,
   "metadata": {
    "collapsed": false
   },
   "outputs": [],
   "source": [
    "k1 = []\n",
    "k2 = []\n",
    "colors = []\n",
    "\n",
    "available_colors = ['green', 'red', 'blue', 'yellow', 'black']\n",
    "\n",
    "for i in range(len(word_groupings)):\n",
    "    for pair in word_groupings[i]:\n",
    "        colors.append(available_colors[i])\n",
    "        wpresent = pair[0]\n",
    "        wpast = pair[1]\n",
    "\n",
    "        past_enc = hrr_utils.GetRVClip(wpast, dic1, 3, fn=hrr_utils.GetAllRVGrams)\n",
    "        present_enc = hrr_utils.GetRVClip(wpresent, dic2, 3, fn=hrr_utils.GetAllRVGrams)\n",
    "\n",
    "        diff = past_enc - present_enc\n",
    "        k1.append(diff)\n",
    "        k2.append(wpresent)"
   ]
  },
  {
   "cell_type": "code",
   "execution_count": 19,
   "metadata": {
    "collapsed": true
   },
   "outputs": [],
   "source": [
    "k = np.array(k1)"
   ]
  },
  {
   "cell_type": "code",
   "execution_count": 20,
   "metadata": {
    "collapsed": false
   },
   "outputs": [],
   "source": [
    "u, s, v = np.linalg.svd(k, full_matrices=False)"
   ]
  },
  {
   "cell_type": "code",
   "execution_count": 24,
   "metadata": {
    "collapsed": false
   },
   "outputs": [],
   "source": [
    "data = v[:3, ].dot(k.T)"
   ]
  },
  {
   "cell_type": "code",
   "execution_count": 28,
   "metadata": {
    "collapsed": false
   },
   "outputs": [
    {
     "data": {
      "image/png": "[encoded data removed]",
      "text/plain": [
       "<matplotlib.figure.Figure at 0x106fd4ed0>"
      ]
     },
     "metadata": {},
     "output_type": "display_data"
    }
   ],
   "source": [
    "axis1 = 1\n",
    "axis2 = 2\n",
    "\n",
    "#2d\n",
    "fig, ax = plt.subplots()\n",
    "ax.scatter(data[axis1], data[axis2], color=colors)\n",
    "\n",
    "for i, txt in enumerate(k2):\n",
    "    ax.annotate(txt, (data[axis1, i],data[axis2, i]))\n",
    "    \n",
    "data = v[:3, ].dot(k.T)\n",
    "\n",
    "#3d\n",
    "fig = plt.figure(figsize=(15,15))\n",
    "ax = mpl_toolkits.mplot3d.Axes3D(fig)\n",
    "\n",
    "ax.scatter(data[0], data[1], data[2], color=colors)\n",
    "\n",
    "ax.set_xlabel('x')\n",
    "ax.set_ylabel('y')\n",
    "ax.set_zlabel('z')\n",
    "plt.show()\n",
    "\n",
    "fig = plt.figure(figsize=(5,5))\n",
    "ax = fig.add_subplot(111, projection='3d')\n",
    "    \n",
    "plt.show()"
   ]
  },
  {
   "cell_type": "code",
   "execution_count": null,
   "metadata": {
    "collapsed": true
   },
   "outputs": [],
   "source": []
  }
 ],
 "metadata": {
  "kernelspec": {
   "display_name": "Python 2",
   "language": "python",
   "name": "python2"
  },
  "language_info": {
   "codemirror_mode": {
    "name": "ipython",
    "version": 2
   },
   "file_extension": ".py",
   "mimetype": "text/x-python",
   "name": "python",
   "nbconvert_exporter": "python",
   "pygments_lexer": "ipython2",
   "version": "2.7.11"
  }
 },
 "nbformat": 4,
 "nbformat_minor": 0
}
