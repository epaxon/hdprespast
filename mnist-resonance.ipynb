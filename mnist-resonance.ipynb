{
 "cells": [
  {
   "cell_type": "markdown",
   "metadata": {},
   "source": [
    "Imagine we have a tile of locations, say \"cortical columns\" that tile the visual field. \n",
    "\n",
    "Each column represents a patch of the full visual space. And each patch encodes the visual features with the same set of sparse filters and code words.\n",
    "\n"
   ]
  },
  {
   "cell_type": "code",
   "execution_count": 610,
   "metadata": {
    "collapsed": true
   },
   "outputs": [],
   "source": [
    "from __future__ import division\n",
    "\n",
    "import scipy\n",
    "import time\n",
    "import utils\n",
    "import hrr_utils\n",
    "import sklearn\n",
    "import sklearn.metrics as metrics\n",
    "import numpy as np\n",
    "import imnet_utils as imut\n",
    "\n",
    "from pylab import *\n",
    "from sklearn.decomposition import PCA, FastICA, TruncatedSVD, NMF\n",
    "from sklearn.datasets import load_digits\n",
    "from sklearn.feature_extraction import image\n",
    "from mnist import MNIST\n",
    "import matplotlib.pyplot as plt \n",
    "\n",
    "%matplotlib inline\n",
    "\n",
    "plt.rcParams.update({'axes.titlesize': 'xx-large'})\n",
    "plt.rcParams.update({'axes.labelsize': 'xx-large'})\n",
    "plt.rcParams.update({'xtick.labelsize': 'x-large', 'ytick.labelsize': 'x-large'})\n",
    "plt.rcParams.update({'legend.fontsize': 'x-large'})\n",
    "plt.rcParams.update({'text.usetex': True})\n"
   ]
  },
  {
   "cell_type": "code",
   "execution_count": 245,
   "metadata": {
    "collapsed": true
   },
   "outputs": [],
   "source": [
    "NUM_CLASSES = 10\n",
    "\n",
    "def load_dataset():\n",
    "    mndata = MNIST('data/mnist/')\n",
    "    X_train, labels_train = map(np.array, mndata.load_training())\n",
    "    X_test, labels_test = map(np.array, mndata.load_testing())\n",
    "    X_train = X_train/255.0\n",
    "    X_test = X_test/255.0\n",
    "    X_train = np.resize(X_train, (X_train.shape[0], 28, 28))\n",
    "    X_test = np.resize(X_test, (X_test.shape[0], 28, 28))\n",
    "    return (X_train, labels_train), (X_test, labels_test)\n",
    "\n",
    "def load_patches(imgs, num_imgs, labels, patch_size=(5,5)):\n",
    "    im_patches = np.zeros((patch_size[0], patch_size[1], num_imgs))\n",
    "#     indices = np.random.choice(imgs.shape[0], num_imgs, replace=False)\n",
    "    indices = np.random.choice(imgs.shape[0], num_imgs, replace=True)\n",
    "    new_labels = []\n",
    "    for i in range(num_imgs):\n",
    "        new_labels.append(labels[indices[i]])\n",
    "        im = imgs[indices[i]]\n",
    "        randr_st = np.random.randint(im.shape[0] - patch_size[0]-1)\n",
    "        randc_st = np.random.randint(im.shape[1] - patch_size[1]-1)\n",
    "        im_patches[:,:,i] = im[randr_st:(randr_st + patch_size[0]), \n",
    "                                    randc_st:(randc_st + patch_size[1])]\n",
    "    return im_patches+1, np.array(new_labels)\n",
    "    \n",
    "def load_random_patches(train, test, train_labels, test_labels, num_imgs=10, patch_size=(5,5)):\n",
    "    train_patches, train_is = load_patches(train, int(num_imgs*.8), train_labels, patch_size)\n",
    "    test_patches, test_is = load_patches(test, int(num_imgs*.2), test_labels, patch_size)\n",
    "    return train_patches, test_patches, train_is, test_is\n",
    "\n",
    "def clip(img):\n",
    "    cimg = img.copy()\n",
    "    cimg[cimg > 1] = 1\n",
    "    cimg[cimg < 1] = -1\n",
    "    return cimg\n",
    "\n",
    "def norm_range(v):\n",
    "    return (v-v.min())/(v.max()-v.min())"
   ]
  },
  {
   "cell_type": "code",
   "execution_count": 246,
   "metadata": {
    "collapsed": true
   },
   "outputs": [],
   "source": [
    "(X_train, labels_train), (X_test, labels_test) = load_dataset()"
   ]
  },
  {
   "cell_type": "code",
   "execution_count": 247,
   "metadata": {},
   "outputs": [
    {
     "name": "stdout",
     "output_type": "stream",
     "text": [
      "(60000, 28, 28)\n"
     ]
    }
   ],
   "source": [
    "print X_train.shape"
   ]
  },
  {
   "cell_type": "code",
   "execution_count": 350,
   "metadata": {},
   "outputs": [
    {
     "name": "stdout",
     "output_type": "stream",
     "text": [
      "Duration:  0.60910987854\n"
     ]
    }
   ],
   "source": [
    "reload(imut)\n",
    "patch_size=(5,5)\n",
    "num_imgs=100000\n",
    "tstart = time.time()\n",
    "\n",
    "train_impatches, test_impatches, _, _ = load_random_patches(X_train, X_test, labels_train, labels_test, num_imgs, patch_size=patch_size)\n",
    "\n",
    "# take a random number, then take a random patch in the number, then do that 100k times\n",
    "\n",
    "print \"Duration: \", time.time() - tstart\n"
   ]
  },
  {
   "cell_type": "code",
   "execution_count": 351,
   "metadata": {
    "collapsed": true
   },
   "outputs": [],
   "source": [
    "# for i in range(test_impatches.shape[2]):\n",
    "#     plt.figure()\n",
    "#     plt.imshow((test_impatches[:,:,i]-1)/255)\n",
    "#     plt.show()"
   ]
  },
  {
   "cell_type": "code",
   "execution_count": 352,
   "metadata": {},
   "outputs": [
    {
     "data": {
      "text/plain": [
       "<matplotlib.image.AxesImage at 0x7f25ff79fed0>"
      ]
     },
     "execution_count": 352,
     "metadata": {},
     "output_type": "execute_result"
    },
    {
     "data": {
      "image/png": "[encoded data removed]",
      "text/plain": [
       "<matplotlib.figure.Figure at 0x7f25ed3c64d0>"
      ]
     },
     "metadata": {},
     "output_type": "display_data"
    }
   ],
   "source": [
    "tims = train_impatches-1\n",
    "\n",
    "imshow(tims[:,:,0])\n"
   ]
  },
  {
   "cell_type": "code",
   "execution_count": 353,
   "metadata": {},
   "outputs": [
    {
     "name": "stdout",
     "output_type": "stream",
     "text": [
      "(25, 80000)\n"
     ]
    },
    {
     "data": {
      "text/plain": [
       "<matplotlib.image.AxesImage at 0x7f25fabb3410>"
      ]
     },
     "execution_count": 353,
     "metadata": {},
     "output_type": "execute_result"
    },
    {
     "data": {
      "image/png": "[encoded data removed]",
      "text/plain": [
       "<matplotlib.figure.Figure at 0x7f25ff98ec90>"
      ]
     },
     "metadata": {},
     "output_type": "display_data"
    }
   ],
   "source": [
    "impatchr = train_impatches.copy().reshape((-1, train_impatches.shape[2]))\n",
    "print impatchr.shape\n",
    "impatchr -= 1\n",
    "#impatchr /= 255\n",
    "\n",
    "im_show = 16\n",
    "\n",
    "irec = impatchr[:,im_show].reshape((train_impatches.shape[0], train_impatches.shape[1]))\n",
    "\n",
    "subplot(121)\n",
    "imshow((train_impatches[:,:,im_show]-1))\n",
    "subplot(122)\n",
    "imshow(irec)"
   ]
  },
  {
   "cell_type": "code",
   "execution_count": 354,
   "metadata": {
    "collapsed": true
   },
   "outputs": [],
   "source": [
    "mean01 = impatchr.mean()\n",
    "impatchr -= mean01\n"
   ]
  },
  {
   "cell_type": "code",
   "execution_count": 355,
   "metadata": {
    "collapsed": true
   },
   "outputs": [],
   "source": [
    "ncomponents = min(25, patch_size[0]*patch_size[1])\n",
    "\n",
    "#pca_encoder = TruncatedSVD(ncomponents)\n",
    "pca_encoder = PCA(ncomponents)\n",
    "fica_encoder = FastICA(ncomponents)"
   ]
  },
  {
   "cell_type": "code",
   "execution_count": 356,
   "metadata": {},
   "outputs": [
    {
     "name": "stdout",
     "output_type": "stream",
     "text": [
      "Duration:  0.132597923279\n"
     ]
    }
   ],
   "source": [
    "tstart = time.time()\n",
    "pca_encoder.fit(impatchr.T)\n",
    "print 'Duration: ', time.time() - tstart"
   ]
  },
  {
   "cell_type": "code",
   "execution_count": 357,
   "metadata": {
    "collapsed": true
   },
   "outputs": [],
   "source": [
    "scores = pca_encoder.transform(impatchr.T)"
   ]
  },
  {
   "cell_type": "code",
   "execution_count": 358,
   "metadata": {},
   "outputs": [
    {
     "name": "stdout",
     "output_type": "stream",
     "text": [
      "(25, 25)\n"
     ]
    }
   ],
   "source": [
    "pc_comp = pca_encoder.components_\n",
    "\n",
    "print pc_comp.shape\n",
    "\n",
    "pc_comp_ims = pc_comp.T.reshape((train_impatches.shape[0], train_impatches.shape[1], -1))\n",
    "\n"
   ]
  },
  {
   "cell_type": "code",
   "execution_count": 359,
   "metadata": {},
   "outputs": [
    {
     "data": {
      "image/png": "[encoded data removed]",
      "text/plain": [
       "<matplotlib.figure.Figure at 0x7f25ff2ca110>"
      ]
     },
     "metadata": {},
     "output_type": "display_data"
    }
   ],
   "source": [
    "plt.rcParams['figure.subplot.hspace'] = 0.1\n",
    "plt.rcParams['figure.subplot.wspace'] = 0.1\n",
    "\n",
    "figure(figsize=(8,3))\n",
    "\n",
    "nshow = 25\n",
    "maxrow = 10\n",
    "for i in range(nshow):\n",
    "    ax=subplot(nshow//(maxrow-1)+1,maxrow,i+1)\n",
    "    imshow(norm_range(pc_comp_ims[:,:,i]))\n",
    "    ax.set_xticks([])\n",
    "    ax.set_yticks([])\n",
    "    ax.set_frame_on(False)\n"
   ]
  },
  {
   "cell_type": "code",
   "execution_count": 360,
   "metadata": {},
   "outputs": [
    {
     "name": "stdout",
     "output_type": "stream",
     "text": [
      "Duration:  3.06976985931\n"
     ]
    }
   ],
   "source": [
    "tstart = time.time()\n",
    "which_pcs = arange(20) #np.arange(scores.shape[1])\n",
    "fica_encoder.fit(scores[:,which_pcs])\n",
    "print 'Duration: ', time.time() - tstart\n"
   ]
  },
  {
   "cell_type": "code",
   "execution_count": 361,
   "metadata": {
    "collapsed": true
   },
   "outputs": [],
   "source": [
    "ic_scores = fica_encoder.transform(scores[:,which_pcs])"
   ]
  },
  {
   "cell_type": "code",
   "execution_count": 362,
   "metadata": {
    "collapsed": true
   },
   "outputs": [],
   "source": [
    "pc_scores = scores[:ic_scores.shape[0], :ic_scores.shape[1]]\n"
   ]
  },
  {
   "cell_type": "code",
   "execution_count": 363,
   "metadata": {},
   "outputs": [
    {
     "name": "stdout",
     "output_type": "stream",
     "text": [
      "(20, 25)\n"
     ]
    }
   ],
   "source": [
    "ic_comp = fica_encoder.components_\n",
    "ic_comp /= ic_comp.std(axis=0)\n",
    "ic_comp = np.dot(ic_comp, pc_comp[which_pcs,:])\n",
    "print ic_comp.shape"
   ]
  },
  {
   "cell_type": "code",
   "execution_count": 364,
   "metadata": {},
   "outputs": [
    {
     "data": {
      "image/png": "[encoded data removed]",
      "text/plain": [
       "<matplotlib.figure.Figure at 0x7f25ffb85c90>"
      ]
     },
     "metadata": {},
     "output_type": "display_data"
    }
   ],
   "source": [
    "ic_comp_ims = ic_comp.T.reshape((train_impatches.shape[0], train_impatches.shape[1], -1))\n",
    "figure(figsize=(7,2))\n",
    "nshow = len(which_pcs) #min(len(which_pcs), 240)\n",
    "maxrow = 8\n",
    "for i in range(nshow):\n",
    "    ax=subplot(nshow//maxrow+1,maxrow,i+1)\n",
    "    imshow(norm_range(ic_comp_ims[:,:,i+0]))\n",
    "    ax.set_xticks([])\n",
    "    ax.set_yticks([])\n",
    "    ax.set_frame_on(False)"
   ]
  },
  {
   "cell_type": "code",
   "execution_count": 365,
   "metadata": {
    "collapsed": true
   },
   "outputs": [],
   "source": [
    "reload(imut)\n",
    "nrecon = 16\n",
    "ic_c = linalg.lstsq(ic_comp.T, impatchr)\n",
    "pc_c = linalg.lstsq(pc_comp[which_pcs,:].T, impatchr)\n",
    "ic_code = ic_c[0].T\n",
    "pc_code = pc_c[0].T"
   ]
  },
  {
   "cell_type": "code",
   "execution_count": 366,
   "metadata": {},
   "outputs": [
    {
     "name": "stdout",
     "output_type": "stream",
     "text": [
      "((20, 25), (25, 80000), (80000, 20), (80000, 20))\n"
     ]
    }
   ],
   "source": [
    "print (ic_comp.shape, impatchr.shape, ic_code.shape, pc_code.shape)"
   ]
  },
  {
   "cell_type": "code",
   "execution_count": 370,
   "metadata": {},
   "outputs": [
    {
     "data": {
      "image/png": "[encoded data removed]",
      "text/plain": [
       "<matplotlib.figure.Figure at 0x7f25fe3ed110>"
      ]
     },
     "metadata": {},
     "output_type": "display_data"
    }
   ],
   "source": [
    "\n",
    "\n",
    "figure(figsize=(32, 10))\n",
    "\n",
    "for imx in range(nrecon):\n",
    "    \n",
    "    ax = subplot(5, nrecon, imx + 1)\n",
    "    imp = impatchr[:,imx].reshape(patch_size[0], patch_size[1])\n",
    "    imshow(imp)\n",
    "    ax.set_xticks([])\n",
    "    ax.set_yticks([])\n",
    "    \n",
    "    ax = subplot(5, nrecon, imx + 1 + nrecon)\n",
    "    ic_recon = np.dot(ic_code[imx,:], ic_comp) \n",
    "    ic_reconr = ic_recon.reshape(patch_size[0], patch_size[1])\n",
    "    ic_reconr += mean01\n",
    "    #ic_reconr[ic_reconr<0] = 0\n",
    "    #ic_reconr[ic_reconr>1] = 1\n",
    "    imshow(ic_reconr)\n",
    "    ax.set_xticks([])\n",
    "    ax.set_yticks([])\n",
    "    \n",
    "    \n",
    "    ax = subplot(5, nrecon, imx + 1 + 2*nrecon)\n",
    "    plot(ic_code[imx,:].T/norm(ic_code[imx, :]))\n",
    "    ax.set_xticks([])\n",
    "    #ax.set_ylim([-0.5, 0.5])\n",
    "    if imx > 0:\n",
    "        ax.set_yticks([])\n",
    "\n",
    "    ax = subplot(5, nrecon, imx + 1 + 3*nrecon)\n",
    "    pc_recon = np.dot(pc_code[imx,:], pc_comp[which_pcs,:])\n",
    "    pc_reconr = pc_recon.reshape(patch_size[0], patch_size[1])\n",
    "    pc_reconr += mean01\n",
    "    pc_reconr[pc_reconr<0] = 0\n",
    "    pc_reconr[pc_reconr>1] = 1\n",
    "    \n",
    "    imshow(norm_range(pc_reconr))\n",
    "    ax.set_xticks([])\n",
    "    ax.set_yticks([])\n",
    "    \n",
    "    ax = subplot(5, nrecon, imx + 1 + 4*nrecon)\n",
    "    plot(pc_code[imx,:].T/norm(pc_code[imx, :]))\n",
    "    ax.set_xticks([])\n",
    "    ax.set_ylim([-0.5, 0.5])\n",
    "    if imx > 0:\n",
    "        ax.set_yticks([])\n"
   ]
  },
  {
   "cell_type": "code",
   "execution_count": 372,
   "metadata": {},
   "outputs": [
    {
     "data": {
      "text/plain": [
       "-0.032856418347450844"
      ]
     },
     "execution_count": 372,
     "metadata": {},
     "output_type": "execute_result"
    }
   ],
   "source": [
    "ic_reconr.min()"
   ]
  },
  {
   "cell_type": "code",
   "execution_count": 369,
   "metadata": {},
   "outputs": [
    {
     "data": {
      "image/png": "[encoded data removed]",
      "text/plain": [
       "<matplotlib.figure.Figure at 0x7f25fe34ab10>"
      ]
     },
     "metadata": {},
     "output_type": "display_data"
    }
   ],
   "source": [
    "figure(figsize=(16, 8))\n",
    "\n",
    "ic_ex = 2*arange(5)+1\n",
    "nrows = 3 + len(ic_ex)\n",
    "for imx in range(nrecon):\n",
    "    \n",
    "    ax = subplot(nrows, nrecon, imx + 1)\n",
    "    imp = impatchr[:,imx].reshape(patch_size[0], patch_size[1])\n",
    "    imshow(imp)\n",
    "    ax.set_xticks([])\n",
    "    ax.set_yticks([])\n",
    "    \n",
    "    ax = subplot(nrows, nrecon, imx + 1 + nrecon)\n",
    "    ic_recon = np.dot(ic_code[imx,:], ic_comp)\n",
    "    ic_reconr = ic_recon.reshape(patch_size[0], patch_size[1])\n",
    "    imshow(norm_range(ic_reconr))\n",
    "    ax.set_xticks([])\n",
    "    ax.set_yticks([])\n",
    "    \n",
    "    \n",
    "    ax = subplot(nrows, nrecon, imx + 1 + 2*nrecon)\n",
    "    plot(ic_code[imx,:].T/norm(ic_code[imx, :]))\n",
    "    ax.set_xticks([])\n",
    "    ax.set_ylim([-0.5, 0.5])\n",
    "    if imx > 0:\n",
    "        ax.set_yticks([])\n",
    "\n",
    "          \n",
    "    idx_max = np.argsort(abs(ic_code[imx,:]))\n",
    "  \n",
    "    for ici,icx in enumerate(ic_ex):\n",
    "        ax = subplot(nrows, nrecon, imx + 1 + (3+ici)*nrecon)\n",
    "        ic_compr = ic_comp[idx_max[-icx],:].reshape(patch_size[0], patch_size[1]) \n",
    "        ic_compr = ic_compr * ic_code[imx, idx_max[-icx]] # this just flips it if its negative\n",
    "        imshow(norm_range(ic_compr))\n",
    "        ax.set_xticks([])\n",
    "        ax.set_yticks([])\n",
    "    \n"
   ]
  },
  {
   "cell_type": "code",
   "execution_count": 137,
   "metadata": {
    "collapsed": true
   },
   "outputs": [],
   "source": [
    "def svd_whiten(X):\n",
    "\n",
    "    U, s, Vt = np.linalg.svd(X, full_matrices=False)\n",
    "\n",
    "    # U and Vt are the singular matrices, and s contains the singular values.\n",
    "    # Since the rows of both U and Vt are orthonormal vectors, then U * Vt\n",
    "    # will be white\n",
    "    X_white = np.dot(U, Vt)\n",
    "\n",
    "    return X_white"
   ]
  },
  {
   "cell_type": "code",
   "execution_count": 193,
   "metadata": {},
   "outputs": [
    {
     "name": "stdout",
     "output_type": "stream",
     "text": [
      "Duration:  0.0077691078186\n"
     ]
    }
   ],
   "source": [
    "reload(imut)\n",
    "patch_size=(5,5)\n",
    "num_imgs=1000\n",
    "tstart = time.time()\n",
    "\n",
    "train_impatches, test_impatches, train_patchlabels, test_patchlabels = load_random_patches(X_train, X_test, labels_train, labels_test, num_imgs, patch_size=patch_size)\n",
    "\n",
    "# take a random number, then take a random patch in the number, then do that 100k times\n",
    "\n",
    "print \"Duration: \", time.time() - tstart"
   ]
  },
  {
   "cell_type": "code",
   "execution_count": 194,
   "metadata": {},
   "outputs": [
    {
     "name": "stdout",
     "output_type": "stream",
     "text": [
      "(5, 5, 800)\n"
     ]
    }
   ],
   "source": [
    "print train_impatches.shape"
   ]
  },
  {
   "cell_type": "code",
   "execution_count": 776,
   "metadata": {
    "collapsed": true
   },
   "outputs": [],
   "source": [
    "def window_patches_disjoint(img, patch_size=(5,5)):\n",
    "    patches = []\n",
    "    patch_positions = []\n",
    "    nn0 = img.shape[0] // patch_size[0] + 1\n",
    "    nn1 = img.shape[1] // patch_size[1] + 1\n",
    "    \n",
    "    img_pad = np.zeros((nn0*patch_size[0], nn1*patch_size[1]))\n",
    "    \n",
    "    img_pad[:img.shape[0], :img.shape[1]] = img\n",
    "    \n",
    "    patches = np.zeros((patch_size[0] * patch_size[1],  nn0*nn1))\n",
    "            \n",
    "    for i in range(nn0):\n",
    "        for j in range(nn1):\n",
    "            \n",
    "            patch = img_pad[i*patch_size[0]:i*patch_size[0]+patch_size[0], \n",
    "                            j*patch_size[1]:j*patch_size[1]+patch_size[1]]\n",
    "            \n",
    "            patches[:, i*nn0 + j] = patch.ravel()\n",
    "            patch_positions.append([i*patch_size[0], j*patch_size[1]])\n",
    "    return patches, img_pad.shape, patch_positions\n",
    "\n",
    "def window_patches(img, stride=5, patch_size=(5,5)):\n",
    "    # slide a window across the image\n",
    "    windows = []\n",
    "    \n",
    "    nn0 = img.shape[0] + patch_size[0]-(img.shape[0]%patch_size[0])\n",
    "    nn1 = img.shape[1] + patch_size[1]-(img.shape[1]%patch_size[1])\n",
    "    img_pad = np.zeros((nn1, nn0))\n",
    "    print ('window_patches', img.shape, img_pad.shape)\n",
    "    img_pad[:img.shape[0], :img.shape[1]] = img\n",
    "    for y in range(0, img_pad.shape[0], stride):\n",
    "        for x in range(0, img_pad.shape[1], stride):\n",
    "            if y+patch_size[1] <= img_pad.shape[0] and x+patch_size[0] <= img_pad.shape[1]:\n",
    "                patch = img_pad[y:y + patch_size[0], x:x + patch_size[1]]\n",
    "                if patch.shape != (5,5):\n",
    "                    print patch.shape\n",
    "                # yield the current window\n",
    "                windows.append(patch)\n",
    "                \n",
    "    output = np.zeros((patch_size[0]*patch_size[1], len(windows)))\n",
    "    print len(windows)\n",
    "    for i in range(len(windows)):\n",
    "        output[:,i] = windows[i].ravel()\n",
    "#         print windows[i].shape\n",
    "\n",
    "    return output, img_pad"
   ]
  },
  {
   "cell_type": "code",
   "execution_count": 875,
   "metadata": {
    "collapsed": true
   },
   "outputs": [],
   "source": [
    "def draw_ic_im_disjoint(ic_coef, ic_comps, nx, ny, patch_size):\n",
    "    im = np.zeros((int(ny*patch_size[1]), int(nx*patch_size[0])))\n",
    "    \n",
    "    cfx = 0\n",
    "    for ix in range(nx):\n",
    "        for iy in range(ny):\n",
    "            ic_recon = np.dot(ic_coef[cfx], ic_comps)\n",
    "            ic_reconr = ic_recon.reshape((patch_size[0], patch_size[1]))\n",
    "            \n",
    "            ic_reconr = (ic_reconr + mean01)\n",
    "            \n",
    "            ic_reconr[ic_reconr<0] = 0 \n",
    "            ic_reconr[ic_reconr>1] = 1\n",
    "            \n",
    "            \n",
    "            im[ix*patch_size[0]:(ix+1)*patch_size[0], \n",
    "               iy*patch_size[1]:(iy+1)*patch_size[1]] = ic_reconr #norm_range(ic_reconr)\n",
    "            cfx+=1\n",
    "            \n",
    "    return im\n",
    "\n",
    "def draw_ic_im(ic_coef, ic_comps, mean01, shape, stride, patch_size):\n",
    "    im = np.zeros(shape)\n",
    "    \n",
    "    cfx = 0\n",
    "    for y in xrange(0, shape[0], stride):\n",
    "        for x in xrange(0, shape[1], stride):\n",
    "            if y+patch_size[1] <= shape[0] and x+patch_size[0] <= shape[1]:\n",
    "                ic_recon = np.dot(ic_coef[cfx], ic_comps)\n",
    "                ic_reconr = ic_recon.reshape((patch_size[1], patch_size[0]))\n",
    "\n",
    "                ic_reconr = (ic_reconr + mean01)\n",
    "\n",
    "                ic_reconr[ic_reconr<0] = 0 \n",
    "                ic_reconr[ic_reconr>1] = 1\n",
    "\n",
    "                im[y:y+patch_size[1],x:x+patch_size[0]] += ic_reconr\n",
    "                cfx+=1\n",
    "            \n",
    "    return im"
   ]
  },
  {
   "cell_type": "code",
   "execution_count": 892,
   "metadata": {},
   "outputs": [
    {
     "name": "stdout",
     "output_type": "stream",
     "text": [
      "(28, 28)\n",
      "('window_patches', (28, 28), (30, 30))\n",
      "169\n",
      "('nx ny', 6, 6, (169, 20))\n"
     ]
    },
    {
     "data": {
      "image/png": "[encoded data removed]",
      "text/plain": [
       "<matplotlib.figure.Figure at 0x7f25ff98eb10>"
      ]
     },
     "metadata": {},
     "output_type": "display_data"
    },
    {
     "data": {
      "image/png": "[encoded data removed]",
      "text/plain": [
       "<matplotlib.figure.Figure at 0x7f25ff98ee90>"
      ]
     },
     "metadata": {},
     "output_type": "display_data"
    }
   ],
   "source": [
    "stride = 2\n",
    "patch_size = (5,5)\n",
    "index = np.random.choice(labels_train.shape[0])\n",
    "img, label = X_train[index], labels_train[index]\n",
    "\n",
    "plt.imshow(img)\n",
    "print img.shape\n",
    "# impatches1, img_pad, patch_positions = window_patches_disjoint(img)\n",
    "impatches, img_pad = window_patches(img,stride,patch_size)\n",
    "\n",
    "ic_c = linalg.lstsq(ic_comp.T, impatches)\n",
    "ic_code = ic_c[0].T\n",
    "\n",
    "nx_patch = pad_shape[0] // patch_size[0]\n",
    "ny_patch = pad_shape[1] // patch_size[1]\n",
    "print ('nx ny', nx_patch, ny_patch, ic_code.shape)\n",
    "\n",
    "image_recon = draw_ic_im(ic_code, ic_comp, mean01, img_pad.shape, stride, patch_size)\n",
    "plt.figure()\n",
    "plt.imshow(image_recon)\n",
    "plt.show()\n"
   ]
  },
  {
   "cell_type": "code",
   "execution_count": 894,
   "metadata": {
    "collapsed": true
   },
   "outputs": [],
   "source": [
    "def fhrr_vec(D, N):\n",
    "    if D == 1:\n",
    "        # pick a random phase\n",
    "        rphase = 2 * np.pi * np.random.rand(N // 2)\n",
    "        fhrrv = np.zeros(2 * (N//2))\n",
    "        fhrrv[:(N//2)] = np.cos(rphase)\n",
    "        fhrrv[(N//2):] = np.sin(rphase)\n",
    "        return fhrrv\n",
    "    \n",
    "    # pick a random phase\n",
    "    rphase = 2 * np.pi * np.random.rand(D, N // 2)\n",
    "\n",
    "    fhrrv = np.zeros((D, 2 * (N//2)))\n",
    "    fhrrv[:, :(N//2)] = np.cos(rphase)\n",
    "    fhrrv[:, (N//2):] = np.sin(rphase)\n",
    "    \n",
    "    return fhrrv"
   ]
  },
  {
   "cell_type": "code",
   "execution_count": 895,
   "metadata": {
    "collapsed": true
   },
   "outputs": [],
   "source": [
    "def cdot(v1, v2):\n",
    "    return np.dot(np.real(v1), np.real(v2)) + np.dot(np.imag(v1), np.imag(v2))\n",
    "\n",
    "def cvec(N, D):\n",
    "    rphase = 2 * np.pi * np.random.rand(N, D)\n",
    "    return np.cos(rphase) + 1.0j * np.sin(rphase)\n",
    "\n",
    "def cvecff(N,D,iff=1, iNf=None):\n",
    "    if iNf is None:\n",
    "        iNf = N\n",
    "        \n",
    "    rphase = 2 * np.pi * np.random.randint(N//iff, size=(N,D)) / iNf\n",
    "    return np.cos(rphase) + 1.0j * np.sin(rphase)"
   ]
  },
  {
   "cell_type": "code",
   "execution_count": 896,
   "metadata": {},
   "outputs": [
    {
     "name": "stdout",
     "output_type": "stream",
     "text": [
      "((5000, 20), (5000, 1), (5000, 1))\n"
     ]
    }
   ],
   "source": [
    "N=5000\n",
    "icD = len(which_pcs)\n",
    "\n",
    "ic_comp_hyperpatch = cvec(N, icD)\n",
    "X_hyperpos = cvec(N, 1)\n",
    "Y_hyperpos = cvec(N, 1)\n",
    "\n",
    "print (ic_comp_hyperpatch.shape, X_hyperpos.shape, Y_hyperpos.shape)\n",
    "\n",
    "hyper_iccomp = np.dot(ic_comp_hyperpatch, ic_comp)"
   ]
  },
  {
   "cell_type": "code",
   "execution_count": 897,
   "metadata": {
    "collapsed": true
   },
   "outputs": [],
   "source": [
    "cfx=0\n",
    "a = np.dot(ic_comp_hyperpatch, ic_code[(cfx,), :].T)"
   ]
  },
  {
   "cell_type": "code",
   "execution_count": 898,
   "metadata": {
    "collapsed": true
   },
   "outputs": [],
   "source": [
    "hyper_imcode = 0*cvec(N,1)\n",
    "\n",
    "for y in xrange(0, img_pad.shape[0], stride):\n",
    "    for x in xrange(0, img_pad.shape[1], stride):\n",
    "        if y+patch_size[1] <= img_pad.shape[0] and x+patch_size[0] <= img_pad.shape[1]:\n",
    "            hyper_imcode += X_hyperpos**(x/float(patch_size[0])) * Y_hyperpos ** (y/float(patch_size[1])) * np.dot(ic_comp_hyperpatch, ic_code[cfx:(cfx+1), :].T)\n",
    "            cfx += 1"
   ]
  },
  {
   "cell_type": "code",
   "execution_count": 899,
   "metadata": {
    "collapsed": true
   },
   "outputs": [],
   "source": [
    "def inv_hyper_imcode_disjoint(hypercode, X_hyp, Y_hyp, code_hyp, nx_patch, ny_patch):\n",
    "    \n",
    "    ic_code = np.zeros((nx_patch*ny_patch, icD))\n",
    "    \n",
    "    for nx in range(nx_patch):\n",
    "        for ny in range(ny_patch):\n",
    "            cfx = nx*ny_patch + ny\n",
    "            deref_hyp = np.conj(X_hyp**nx) * np.conj(Y_hyp**ny) * hypercode\n",
    "            ic_code[(cfx,), :] = np.real(np.dot(np.conj(code_hyp).T, deref_hyp)).T / N\n",
    "            #ic_code[cfx, :] = cdot(deref_hyp, code_hyp)\n",
    "            \n",
    "    return ic_code\n",
    "\n",
    "def inv_hyper_imcode(hypercode, X_hyp, Y_hyp, code_hyp, im_shape, stride, patch_size):\n",
    "    \n",
    "    #ic_code = np.zeros((nx_patch*ny_patch, icD))\n",
    "    ic_code = []\n",
    "    cfx = 0\n",
    "    for y in xrange(0, im_shape[0], stride):\n",
    "        for x in xrange(0, im_shape[1], stride):\n",
    "            if y+patch_size[1] <= im_shape[0] and x+patch_size[0] <= im_shape[1]:\n",
    "                deref_hyp = np.conj(X_hyp**(x/float(patch_size[0]))) * np.conj(Y_hyp**(y/float(patch_size[1]))) * hypercode\n",
    "                ic_code.append(np.real(np.dot(np.conj(code_hyp).T, deref_hyp)).T / N)\n",
    "    return np.array(ic_code)"
   ]
  },
  {
   "cell_type": "code",
   "execution_count": 900,
   "metadata": {},
   "outputs": [
    {
     "data": {
      "text/plain": [
       "<matplotlib.image.AxesImage at 0x7f25fa0fd150>"
      ]
     },
     "execution_count": 900,
     "metadata": {},
     "output_type": "execute_result"
    },
    {
     "data": {
      "image/png": "[encoded data removed]",
      "text/plain": [
       "<matplotlib.figure.Figure at 0x7f25fc1b4b90>"
      ]
     },
     "metadata": {},
     "output_type": "display_data"
    }
   ],
   "source": [
    "hyper_imcode2 = hyper_imcode * X_hyperpos**(0.25) * Y_hyperpos ** (0)\n",
    "\n",
    "ic_code = inv_hyper_imcode(hyper_imcode2, X_hyperpos, Y_hyperpos, ic_comp_hyperpatch, img_pad.shape, stride, patch_size)\n",
    "ic_im = draw_ic_im(ic_code, ic_comp, mean01, img_pad.shape, stride, patch_size)\n",
    "imshow(ic_im)"
   ]
  },
  {
   "cell_type": "code",
   "execution_count": 901,
   "metadata": {
    "collapsed": true
   },
   "outputs": [],
   "source": [
    "from tempfile import NamedTemporaryFile\n",
    "from matplotlib import animation\n",
    "\n",
    "from matplotlib.collections import LineCollection, CircleCollection\n",
    "\n",
    "\n",
    "VIDEO_TAG = \"\"\"<video controls>\n",
    " <source src=\"data:video/x-m4v;base64,{0}\" type=\"video/mp4\">\n",
    " Your browser does not support the video tag.\n",
    "</video>\"\"\"\n",
    "\n",
    "def anim_to_html(anim):\n",
    "    if not hasattr(anim, '_encoded_video'):\n",
    "        with NamedTemporaryFile(suffix='.mp4') as f:\n",
    "            anim.save(f.name, fps=20, extra_args=['-vcodec', 'libx264'])\n",
    "            video = open(f.name, \"rb\").read()\n",
    "        anim._encoded_video = video.encode(\"base64\")\n",
    "    \n",
    "    return VIDEO_TAG.format(anim._encoded_video)\n",
    "\n",
    "from IPython.display import HTML\n",
    "\n",
    "def display_animation(anim):\n",
    "    plt.close(anim._fig)\n",
    "    return HTML(anim_to_html(anim))"
   ]
  },
  {
   "cell_type": "code",
   "execution_count": 902,
   "metadata": {
    "scrolled": true
   },
   "outputs": [
    {
     "data": {
      "text/html": [
       "<video controls>\n",
       " <source src=\"data:video/x-m4v;base64,AAAAIGZ0eXBpc29tAAACAGlzb21pc28yYXZjMW1wNDEAAAAIZnJlZQAAsChtZGF0AAACrwYF//+r\n",
       "3EXpvebZSLeWLNgg2SPu73gyNjQgLSBjb3JlIDE0MiByMjM4OSA5NTZjOGQ4IC0gSC4yNjQvTVBF\n",
       "Ry00IEFWQyBjb2RlYyAtIENvcHlsZWZ0IDIwMDMtMjAxNCAtIGh0dHA6Ly93d3cudmlkZW9sYW4u\n",
       "b3JnL3gyNjQuaHRtbCAtIG9wdGlvbnM6IGNhYmFjPTEgcmVmPTMgZGVibG9jaz0xOjA6MCBhbmFs\n",
       "eXNlPTB4MzoweDExMyBtZT1oZXggc3VibWU9NyBwc3k9MSBwc3lfcmQ9MS4wMDowLjAwIG1peGVk\n",
       "X3JlZj0xIG1lX3JhbmdlPTE2IGNocm9tYV9tZT0xIHRyZWxsaXM9MSA4eDhkY3Q9MSBjcW09MCBk\n",
       "ZWFkem9uZT0yMSwxMSBmYXN0X3Bza2lwPTEgY2hyb21hX3FwX29mZnNldD0tMiB0aHJlYWRzPTM2\n",
       "IGxvb2thaGVhZF90aHJlYWRzPTIgc2xpY2VkX3RocmVhZHM9MCBucj0wIGRlY2ltYXRlPTEgaW50\n",
       "ZXJsYWNlZD0wIGJsdXJheV9jb21wYXQ9MCBjb25zdHJhaW5lZF9pbnRyYT0wIGJmcmFtZXM9MyBi\n",
       "X3B5cmFtaWQ9MiBiX2FkYXB0PTEgYl9iaWFzPTAgZGlyZWN0PTEgd2VpZ2h0Yj0xIG9wZW5fZ29w\n",
       "PTAgd2VpZ2h0cD0yIGtleWludD0yNTAga2V5aW50X21pbj0yMCBzY2VuZWN1dD00MCBpbnRyYV9y\n",
       "ZWZyZXNoPTAgcmNfbG9va2FoZWFkPTQwIHJjPWNyZiBtYnRyZWU9MSBjcmY9MjMuMCBxY29tcD0w\n",
       "LjYwIHFwbWluPTAgcXBtYXg9NjkgcXBzdGVwPTQgaXBfcmF0aW89MS40MCBhcT0xOjEuMDAAgAAA\n",
       "GjFliIQAO//+906/AptFl2oDklcK9sqkJlm5UmsB8qYAAAMAABGwbnyXDXmr0iQAAK2+mN6YXKb3\n",
       "2IBbF+GUU84Gc0bLOp7qNXxmRVuqZNdRg8xvquhx2qNfpmd6/11rC/cc3iUDmnPr+Qa5bGPYAyyo\n",
       "bPA7tCN2qtwArhWWUuGhPyJrW//4QO8QppLUSFInoPen2DRQopdoncDK3vGlAVR73O5NXCevuoK1\n",
       "Ewyfr3tms7dXDQvesPT5GxCAuld0PGOHKIN9V7vYOv2yd8gKflROP6ANyXisFzSlDwV6hGVT5Fgs\n",
       "hKc0mVYK0q4/Ih7DElJvUdO68lv2CApOYi3cAoEZABHiuNJ4nUBU8tWlWHN3Y9ekA1UPiwyzADsf\n",
       "YaIcun3rxqk4byls+UsK+pHV5s0qPmalqETNn0w1+LemP7/RbobBSVot3Ixd02PBUBdvUYcfEsbE\n",
       "wyOZw6VSWj0DdtUGqFXonl1TiRHnpad4F7pR+LBkioGDxroJNiotcvmDom0exe8TzQB6lFNgEVpC\n",
       "Kj6+5ondD4Nuevh7sr1pdwzv54rfnuAII+IzyScsLrG3/fu2VqBI2RpW8Ren1rfe4Zs9a8uf0aM4\n",
       "cXFUdaCMeeO1GAPY7loQeyJbNw9AuvGJIw/ETS5kOMKu3Z4xwhDoKtYPMDgzRscQVFd3FfKe3H+g\n",
       "LeayxoFxQKdAV65dTQb6yVryUBZO48YNsUvzeqcU5oFKDFISN5SYrRdn3J3xnkaGZ+QZfgZsmMrQ\n",
       "Xv6ntDXyEVUvV6EUkQ+JP6695foss+C8zn16jjxJPJowlnnTs2NPpKdG7WUsLZHV5kA1Yarw9J65\n",
       "HaouGwfU7uPM4qerZcQueWLZsyafzHIY6Z2XJZ39C2P47c2985HvrItazdubRo8e008SRYix8mxR\n",
       "AUl+Aqy2ZFyPVpRhijaYBhOZ6FsuXcspy2+eD7b7cH+8Ax18QC96iZZjrHO9o/hjworwt/NV9VMg\n",
       "1S8h5i7TMcWzt34gLCQMxZ9eXsBbywExBhJuOj803rq2mfs28JLtmsMWL+Bajrg1L5BXo1l9nzkg\n",
       "YwIm31uhBEb9DeyBJapdvmpEeJX8VsuRR469zWqfixKh+PxddIy9+uXYanEsxAbidDtfdu+/KonL\n",
       "wVTUVUajraE+t9A4rWsF/roqDwzj1Z6qDRF/zMmFrcbyk+ARJkHlEhIZYVBriWwqpSFAYNyp7Uuv\n",
       "ci1r4ympYcbLRhRpXTQwtam9ETgz8i2oj/i9ATTU2xoQoG0hWq/CkCgHkr5lIr9J7x6dQWWXs+8l\n",
       "xG8JBypKqy5KsfLq6UmKiv2m+XGqsQ7aN4GwyeIbSS8sQNVAugLD1zfHdJhR1VxPOoi5kn+1sucx\n",
       "4IJyScfjF+lfG43Q4v3H5PuPwIvmESnujj63AR2sRhyP7RKbJLytufTaj3xnIYcrDth57OxK2sKz\n",
       "t2O8Oj1kBrk7/YDgaxv09KcaAcHK8AGKb7PuWKFm3OhPejJj1j7bpP3KdnrBWw9h2mqGb36kcr9u\n",
       "s3SY8Lf3OsRpH1y1saUGWke3m1R/cbNAv+pQBJkND2tLvRXCUfyzAfeEDeG6JUGBpKn/Vc97HVsH\n",
       "jzW3zIQbr51NseKluKHmGP94J/RGH+kfj9E+OlQbs9x+4Jzdo1vMPNAwyPOaXQkb4qPL/VeR1E9A\n",
       "zEHjLgNqJalA5W9wJQx1fLdDg/0tTY6+lne66K6SVVpA7AATadz0zQg2uV+jK9CrTdy6BMWsUixr\n",
       "31LYi/cH7F8EAvCeWREpb3Jr76cdq9WEhrCYc5BAq2fZXJoxGcTOYIJJMGZv4sH+uk3EDFd2vnex\n",
       "aMqF1/CVfbMR//zDLMW9jRO7crLoks5xi9RvQEf+i/pgRP+oMVzqg4jAsaz5GmMDmri1AxfM9t8d\n",
       "wvqNBNqs+hylEh/AhrYclCQ9wUKySwKNhVlEflEs5CUby5N5dfERLWdzGD6PSTRv0+1GZQnU6nRR\n",
       "TciIlAtjHoYxmYvqe328mcQ1sKmtlv6su+xd/BKoUXcLrlQdONnvju5q0JqMdkDsXUrSU8r4srAw\n",
       "M+RdC0ywbEz2dSQEjrxNb/zivbJcbLIDZlpwyfY7Pa1hJeHsNQ3WkTQ0Ncg8oWX50nMit+UXhNi7\n",
       "IEAGoloAs+4wPsXD/U8cUBfxMd/tZS7loDxfMC01Mv/SnEyFHNBHgl1tM4e305es0pUalPvrBPhR\n",
       "IzpYe/eYP+mcWdqmGNjuVgBfQtO8GUEb/lN6Hi5cRrMU8ZtqTpGO7rc7zW+O99Aqskv6w9ckj5gl\n",
       "6FJlIjwOwxbvpjeAJ5oLAQMni8xxw7mWYczhYGU/Dp1V6SfCcCkxWZt5YRYVR3o4yJHjL/ix3SYQ\n",
       "A9pn5GXVoYhtV0cDEUl6tdkKXeywJTwTG7Rh7EVfrAAJHDH/kASmwrD5614+SO8cPN5K/yuffkVW\n",
       "ngbe3SD4pQIA9QOtXgHKkjpbvPUdLQTk041yqfod4K/CEVUumImyoId9ZuaV2QXch5HgRMBrs7nJ\n",
       "ZqnjpdfWSrrAYlQrI6FwrlnSoS+N2K5Uf2wwFJOa9DjVvdhSjoaCFkGTJZx65fWaW3E67Oo9Mwc3\n",
       "upodrPS6a/Dq6MSCSPYIxG+nVbyjqajqBvnCCDK+ekzoJA2pWMo3UEhFoSL2SCeYTmfSoirgISnt\n",
       "06c6wZYryisjc/g1Tdk9fxIL3qHaj5lLe9jeDbO0t5Ry18fF8HbMl50IBTnzeuhqp/KidzqeKC4j\n",
       "zIQMSejvwXA5ogbuyx62dkf7/lVkFTqV/A25VMvxZg4UvVqLTPHThJ/fm7u1HFG33WeZG1ApR/NZ\n",
       "aeizT87MiS8xnO6tR6f5SE7VgwKSKZ24XTNPCTfjTDLBO6eBy/N8R9jB801EMJcXTAOft95cYGWG\n",
       "z+WEJTUAjJHWyNIVfCrtpJCDIIcPRe8nrUcDZdyz2Uu1+klLmlUKG6cVG0EH6Qu66S7/zOBVehoU\n",
       "AHulKI84PCJS5RGJQBNPtHt/sRo9AoqGD/DyNTpZVKm3ozZguTw+EhblOUGf17xjgEl0/9ATainp\n",
       "yQMobVGsYbIxO1NqxELbu65jQdlMmSKa/v5w+kdCHHb3NPtCOUrfxD006M25ZgUexe70PopJADuM\n",
       "v1T+ks0mpu3kf/u7GT5vy99CF1a4yoSk48A59zpckG4RKRxwkJtE7kD5BJ/wa138krvDv/XIkZp5\n",
       "HB/CskEtMn0/E5XLXYh13tr1Qo2KH93LE7ERwYRJjTEdP7WXGcgxMA/Ds3SSaPZQZqsD+jldU+NI\n",
       "7C83LKmtzsehj7g5cI3BTdxVoMWW0+ZLb/J69EpktQUuqe5vZE1LECdyNlpbYQNfiyW/aS+WSN4v\n",
       "dNQ/dORQnkLd74oeC9FatPHUA+KwJY7IiTQwi8t/B4yvGfiHRa58S3auXCV+wRpN9fKnVMzH6I4S\n",
       "WZ2OuMptca6v+mXZrKyYSSkvLRSeqyXmO+yxd9S1uwFNRa2kpK63CAn221/Zk3ASKnGWdSCXrYVC\n",
       "Qv6ngebmVX/+1qs90YEBXftfk3yI+2kBUMRF4yjG+IKNUpXcUzbMgNKPnHGfK4Iy5MEjbT7sdFUE\n",
       "x8Eqf2ACGBhCNRVN0/Ko9VsnQv2RPpXlNcHxanlpqLlOu+nTmwXliY9x78j7O/0LHAPCNHLRkXgH\n",
       "dCOswP1kfpzQ63+HHyL4f1hIT/XvIDuYbXrLMW9h3cTWHwrdc5RPLBeBC5rD+qjizYh8lxgQDmqB\n",
       "W+nTJgjz2na7qB0RIe5LYdPj2q0Q9b+EJSicUePGXx9WZ60V81U7CS2v2dKa0Zb8EqZC5tYq6cbR\n",
       "miJeWDJhNnp39ysOU/FvYYpnXnpyZyj09j/bAMxcBTdG/e7Yfk8YXY6jXIgn7e5WfN6WQH2kmlpW\n",
       "cCvWrsgyMDcIweaNVIPpoLdPbiWsdlq1m1T8AsXBmqzd+UZdKcuNSgvxkil9Ia5yY6vX/aiYJWO7\n",
       "4+JCd2UjGCKARjfAq5bKYATJE6tyWB3Vyf+8ZevX448i94njXbazTit9xACNVWDiml5lkk9KlVjZ\n",
       "t8F+soe9hMxPM4EnYaevrHSmV5umoJ4Tr2WPm5LSnlheEl/HYgmOh8SPsxEuAaXVu43d+KS3QzyG\n",
       "RdtnhWSwufiPsFFu5F/wu1wJP8NFfe1rpQ/pUx/JWAXYMvg7sVfCmhh1cU+xOT2I+MUmt01dJRH5\n",
       "Hguffe7wBpkIeRjnBauVqrSNVinSUYD83z+TJ5+qcQTwpp7saOwtP4pNRgONV79m1JpwCmrCb3eO\n",
       "vh9UGeJx3wixt1C2vBNj/R3+qqp0x02M4eiTkKuvzLueONvP5tAeovkCqy7PQ7lSckVuJ3Jibsk9\n",
       "taflar1X4GseE+VLmYyeistACJQ6mxMCxnU8u6YzlbSpovwkl10Zx/oZLJz9qUhIKQ2b/Aw9vXrb\n",
       "OTGBXeJ33cjDml/D6rAO/Uut42Dp72f0EE1BHD9uZ1/GlnRyEEkACLNRh9j5WHlVzds4tbHirXsb\n",
       "NYYIAsWJ5d1jbENjjU/ZhWgkvK++hBxnBw4rrXiD/gaAGn4EwhFJA76M0XLVhGa97f1k2UXlOy/D\n",
       "l+120Ig39ExB/iy2qqWXPZbCsF4rQWoLo7DIu68xqfmfHKLlNU6g/ojobcgHlNWAqzsj92Qu+Ghq\n",
       "4fqbWY0zzot2C9RFWhpkCDRcgrX9Xv6efFh9KAlV9weJZXUofMDxT2L5obVrGzWIOXdTb6ysJ32d\n",
       "2Qj4OeqEsqadrKIfqsbAlGS+rAeif6pCyiE1Le2iQYih6X7ctuhup/8NUkYukb9taMiSz3IiGCCi\n",
       "LYG7s9YnrI9H1lFYcJmcUGmI06QJspS2HKazoCDz3FLkVCbGxFhYMtQUsCO6abYuwaKEsQpzB2x4\n",
       "CjiZ7hVrlr0jiPaDMSztlukcpFMcl1lPjmZ5nMcjZ1UKHOycYYkNXYzR63UB9K2zgxQYxNAjv2bQ\n",
       "onzeQ6eGyQd8dwVd14nnYQ6+raILpEkii9jhysDWK+dl44xIGqjv4d/XXF8sppRT8Opi/cqRltHw\n",
       "IfKDg7yWhnwJDg4h7EZasCf01oKq35UZwmbulyKKdKzYh8nsn/w1k1VmS2qV1RKpg3ZavZPesHqm\n",
       "SU6hD9phs/mydB4t70RA2RoBs1p9pRdQZCPixJG/5iKtFIEnS2nkuw/ClIjt/1C9ANIZw0dp6yob\n",
       "mKNJITEWemZsqOd6j6M6OhsnMoOAELjAjStX4WoPn6vNg0DcMd23HTG6zdRFk3GJ0Q4yUdcgzPJw\n",
       "UYiiTXT8l8O3bJdvSgmplX7ABa5Mprhzfhm7xaa0f/8T5hOQLxt8POpP5bcHMnPfI8eaUc2OaMVF\n",
       "nM6EK2ix1QHKM5O9DoTAKSvhTAdICtkimPROi1DjWB7FN56d/TUezWZPtuk69s4vwftQXITmok4p\n",
       "knDEjR4g6o6fG7LyZmsaIuG/B1PQOyQCKk4YBpuWJt661iDKC3ba5tRsWMq22voDYyjP9lOJZ/z6\n",
       "jfgH8J4S55G/45reXU0+Uu9nyG2Doh5f6rjO4y3gvj1++k6hDKku39JIkvy9Lvvd5+XumFG7eCtN\n",
       "VmrxgLzaz5AqNGXeDl8VVPQBjOFQ5kiT136nASgARtHO2H3AmlWHUMXSNDGWgoe5wYDiS9BtP1gV\n",
       "Wt+6jkolQvJCT1doJ23BIoEuLZN74ghqLpmsQm8GVWryQ6WGWXchRAck6qMZXEXUltVL7yuM7Wv+\n",
       "DB9ldljOu5yTAUn8u9zkMRa2dqXqZwX2ATTXFavScn4nqBHAaS9Gy7VYNHaBrYXJqdeSxVoDnbNQ\n",
       "Z0OIaJdUci/tcm5y1k/mokoWwxLbLi8WVGFBvnNJSOtk6zNdOHb++/Je/BPXHX8JEP+/ZYQ5Ib90\n",
       "EE097MIWx4AoIJ80cUHTzV2pHpOjGnBVHL4QtRMvSlxZmE51cur0PzfkO7h4ACOEY1iBAXkVBKCf\n",
       "scpT9JkAbFjWVadFJriucImiWLxtcsYxEGK+uTmv/+W8151607AcRvd1KmDj3GTB5hIZtDRIJBii\n",
       "Q6bSvZqDjuQld6xUQdLYxYa3+Ez0UZleHlUE2CiAJUpC0b55yazBZROpIWZobuvt+HrFz7X+oY/g\n",
       "mPjLO1X/o4MT86fDlSgRI9wrgaTgzOyEOTEsybz/nIJCBPlml6CLq/yuLAjgQ2xawH8wVk5MXraj\n",
       "Ya71jMUi1XoT5ABa8Gd+XMHzqQx1OhuHmC7m6yRhI2dhGSx8AErMpfIbwZJ7BCCQfcqqOe405tJ+\n",
       "duejj1mwxOxGwheTtIu7koNeHmBSlrwD4zFER+y3BIQ+92SBDKtbbLGvqarWV1M4V8vIx1i8Ynhv\n",
       "VY6BbYZhEcB4y0PB8h/86eHiWBOJ9hAhTUwQFQnDglzCjxWmrvCIxCeFa0PnPgVAxS/EREPRoW4H\n",
       "tNp44H4cFVXoxPldoIFRi4JzF5MMIq7aviGPLIcctlG2O9THpbG++w/QtvsF6I8+9vwLk7bkB9WP\n",
       "fpxGkYjChwTBn990Y9C8+q/K5A3NZXMv7WzqrD5M8baTWske/kWoZneFwjfDmSuAzFZVTmon/0BM\n",
       "3B/RfOyzd/vVZmm3Ob8ygCY47AZalEuq8scAm5FzQldkenDEMPlOob4454gP/+vXU3STGmCcHQmd\n",
       "f0OP3UppMImQ2AuXgbM8L9ICglfCJTh7dF0b8xxOXsvOlWOfejE3l4Xh6fTYkiRQEcVNSfRBO1a2\n",
       "eHRSgvq9LXonZbzQyj6De3yrDL8ngp+oAFYszf4P22JTw4+Im4I64PLUnGBmMboBUQla5vlmQRAD\n",
       "b0EjtYOe+PnL6zM8MCY+FqNtGqcYS/ogJGmufL/NnQ3Ydx80bhKIMBreHUUWKMiYPjjY/CLJ/+MU\n",
       "umivPJvw3svOI1e/HsTlc2fdCFe1PFw86/gmvXxX2oPLY6AZCd7EcDkcvRy2drelE5QoyWxbUbwH\n",
       "PnskYeqcScOQVcrS6+dT9cyZ/cKxMxdSXQFez0VMJ/GQ3MRo2IL858jDOxTsPs49zkDFCDw05/al\n",
       "vqDNEUaMS6NAfDnJdg/3uqGEoDSXr3hyRyFdBWVu0xKqUtGfP374lLVbrY+3kVaXk1bZW65e9Iov\n",
       "pKs6JN1zVJ3Pr7nP3hsfAlgNXA+PfZFGFtRPyCzDkoEwQAWPUDB5agbZL4YvQKPNg2ekpga/5m6c\n",
       "oHFfZk8nG7zuQxHevdz7NSQdN7Bw10OGnNnpSMJ9CRpL5hVFd8SDwmv9MNCzotAvMW7Dte4cUukC\n",
       "PMETaqjLVTnscr4+8AzvAN7upvJYJ/QPmGeZ6qP9oWmIk1WTNSao4hv4C1VoTA0rX5donlPVRTvV\n",
       "6BjGeRfsxPjvpc7rm2byI4SFsXmSSpsMJec9VvWbuWTG8rCTeiipnb1I1EGsXEcXWRVsFh7SgnCp\n",
       "Z+Tg7qVu/aU0g8Xaw6BIvvYq/u+By7Wz31Ex6rxvR5Lc5fR8P9jasMRgIK8KWaSyuc2KW/AchgFW\n",
       "bz2DKP2INmONu8xmqLAwEUuIhDMvAq2J7LFEleGK5qmKkAlKbSE2zbZ9BavBv4r727UMF9SUnH6y\n",
       "9qc1OKVsxGAgM4mx4sqIq4DRwvH/z2V31l5C4bhVn5UBD8T/42JfER+TfU3aHVzcTlk+rkpt4LXW\n",
       "67DVe0WzyoBcOk1rqXle/2z8rWVkOkPvNL1RLGXYY9+ec2z1yir7uRyjMOQR0TE72lrSbrzFCrVm\n",
       "Mrjw7355KQDernmB3dhAjI1D4dl2N0q7+a3Il32xVogAHQeQ2xHs7ePuBDPUXgomPXowssE1pJ8a\n",
       "SpnOTkaxSuPFLXZEOz6YuBSPT8AMBQf4DCgzJJhV5x41Al1OyhrpbZz8EfsohRIT9IKW/mNm3afI\n",
       "f4tin1Y+I7MEK9OaYqn48Wj9txxYXIJwuS6mS1oFS/OZ6BW1jflpI12IVblPAAL0IqnVUcZpAEHZ\n",
       "12HeEPdCP0NmWKfHgm1KESmUk/DgzAVOdsbs8c4Z8nH0y6uWZLThNJTYpvv00mMViDXWWoSbGj6j\n",
       "SO2UD9Exim4OqGCtsvjnnWEotN+e16iER5mK3p5LBTM34KET3AxMOQTR7OBqhsRaHiCAKztoQsSY\n",
       "6FbZ2MtAq3XTKfeDKZ6hyB7V6ef+Qmcm67Oa8V3puc/iuON4vcEG1DkPGbiq55sOtTsv4QLCAfVH\n",
       "Zo0lIXDaJXx+cD8g4ZauYP72w/wRBA9ov6J8ABHFPNuWA0j+cU5nU4i1vx7wqmuKrHIDU8O0LOX7\n",
       "Wrip0bLTRwG/JwvyR59kHxjFsaGu09n9GkOtU11fo5KML6zJq/BqrAAxnT5ZR5RpmUSzdIsSOvvd\n",
       "/ytYQOAt4A4rorBPCiRqQWPrQ5i4iqN8UXUjyYyWcIhF/i90Cdj1Qvjnxm9JhasxhcyMiwhnqxfP\n",
       "DXTh14i2HrHGGj2+IeA/jMF0NlIzyn9MTzVH8pusszGc4dxaYmiOdrF83dvCYfntzxX0bQTaR5wM\n",
       "G982u5y18lCdd1xFNIAMdDKWsYrYzzP2zwEl0tUNQ7ygv8DQCvSSF77PNDl9k8spXR69TZxQS/gD\n",
       "VdbtTEC1Du650ZKDaLfvO6BC8aZp3dN7QKgi6hGN1xfi5XyeVQAjGkXXQwrgpaTF4LNt0WTRdkzq\n",
       "8vb5fBRnY5jcXkfx/eWDBIERi2phaQxCHhJNSRyiQ6z+vV+gI2YyZcdJDlTQFkmVTUnwnR6b0KQw\n",
       "juK1jCeHDnWwDlYH80bnAAzdko3ono1ktakG6BtFNXIIuX614aW/J9lhm+azZuyXtkXbqIruBa7i\n",
       "J6V/zX7OlYfiv9xPdfXFqY2sDmcMm+b3JDNiNpDXirc1AZlm9Z4ziY2y9DWIy6uTUVnB9izoLNbI\n",
       "yYM/FhHiwKw9sUX2aL4tYGjU4I/ApWLoeabFI6LdMdLk62QPfyJLAqEEUbMNj8dAeSU8czpL5XSr\n",
       "xNRsN3lFWQEV/geA0dHFbogPgg3enOwQm+tW5bkZAA42pJwsY0EAAAe6QZohbEO//qmWANphtgAF\n",
       "SzKg/hi1PfxfdA9aL5/ZAlc3HbuY2RYPNc/4bZsGlxmkBzGBNLKxcHygA4Vcgt7eeqx+YWQNAUP0\n",
       "YGwchOSzsABDP++sI+YAsP6NX6eFHqtxmBF2YfiM/hX84MlUyKO6L/l9fQjavgOqzN831Aj2msWS\n",
       "OXyXDKyYxAIRvID5oVOVgQSjjuByMLmyA+yiIub8I7h6X1Fx0iLgQSqlg0JpSKShrpniFJVacdOY\n",
       "q8akeW2nXxswzaxDyIljSWjzRxVag3kbEMeHPsmgJLlWmdD4y9s7C2J6KtYIB1jbkv2i0rB052ND\n",
       "yFfUGZkI0a9cw75haN0zmoijMWmeC5gXwXdkY5uybZY6itlE4VMHR6n4KMXVB59JE+oCl/0+HOUz\n",
       "l/NKmdu3EjMwEXRi9WUaH6xhQTMW7cS04iSk+Zku8pSt3wnG+CwRfPPCQPfzzewlwa9HHFEBdccx\n",
       "g5EXPSkZcMeyl3fB7SCdAtNuZyULcpT8LUf8DU64LWBsnjidkK+qzVHHRFpV1eo/LucmzB5N36AM\n",
       "yCVD/RvbFG3AKAIgcCbuhJ6efvPO49SImorFH/h9GZ54I1hQqJedM+KBvLyokfKtbn0yZLjkQK7B\n",
       "Bh9C/ugnKNabBDIrBibsaX9ZD4kmSwDEIPnO3PEhmwUbQZMw72uMZN8LcidFe/lqvRKQ12UQ2igA\n",
       "UhACStqhu++2RpjemFdtVvg6/96y7eEzNbftVYFxv7MtOfQBeEues/ociKgTNM4E17BVh7RxJrKM\n",
       "RqA4jgM0JmGAEcQ6ECa9Gg0D/pVy6Pkh3rBLaKyMMflS6c2wXAToBhFsFtIYjGrD9IbLfLhodqAf\n",
       "VSmNyS/h337BnVYKUrev62plvdhXmNjBXvpC6onuwvdgv8kXKZM5dbo4ieG9XDbk4eQL79WbLDrm\n",
       "vqYb1B07eH6d0D/0CWg/5xQ0odAXwSxBQNUMMI+pMYmUzuPhOSLLqujVQVMnmpRRFWw7/NDq8ADY\n",
       "N66CRPm3mCU2S0enQm5cPYuGSjO8iZQgZVgU3wB9QMA0iPzW8wv7yhOiQ5Lq0d8Ibvp5J0mSgEy7\n",
       "7OMh/1Gu77VY24+vdl1aUnBeXm0aVR24x9+pluE/gN/U9YwnHrC22FVD+idGMQc91abNvwmK3wAv\n",
       "9i357bu5suxD2t6Qoo5MuhVwW78b+UjWTmjH2aT0NNjcSa97lKoujugDR60MfSUy3fX2Mf1J37lr\n",
       "ercxtLx8WCstXBMoEbsMwtra6Palo18F5OXAR2RSbgxKt6/S3GMSg6UuLPutQ+W6RrrbYKd5Fn4M\n",
       "R9ydwRKoNUxN3VVsAPX3k83a65dzKl55wxLM9VepLEHCpf2+wnZN6PTKWg7rTr7kpAqPD9ld3ADs\n",
       "isB8dmEOC12XkNiv5ByCYU6U9EKcovKObxSwDqDk8voQ80qttdm66G36elBhRXSPeMbJUcaVO/83\n",
       "sBMJEHtZhVtTE+oL2ND+8GUJ19+QKQkGv0cPzNXe0c8DIY/thF9+9kqqbU9wcNhr1RWmES9NM6HY\n",
       "DRKWqQYgjy2DsKjZwb/6PE0vp0eyeTkYyZd5v+nhj5NR4mvrc0BlfQqYffFj5mIyInhXEvCTMacW\n",
       "Glr3d/IYEyrYb11cyVFbEV+4SVFGnutkCVY/4w5PqcoqlPxjPRgzfGseGEr0u2mwo0Dob/CA7OrK\n",
       "7mDtcpw+URdNaTomtocTrAaBDHHxpXKbXwyNB3/in8i1BRxlmrpImCXGVzzBqadhFO+CdzjoTYZ0\n",
       "Mkeu2sCN1+vOAy3EpD6HVJ7vSMELHMJIBPIZWzASyAIMg4slARBk8ClX82hX3dgAKBUrv64PZEWE\n",
       "9ldmxELuAm8PBgV9pRHt+7/u98Ye3kqrJDkqXL3Ph0QzYP+CID6iEWp9EFCnRoVXXKRTrzzTHGvP\n",
       "tHvA35ZsxmJhXleE47bL9LSf9E/b2IuVqj3sL1Kq94FgFCr2SXY63oLSDGEkWaEKRJEqRCSwtOOt\n",
       "SKK980eWOqe5JhRh54Mdh/OkShQ6a8rrD2tzecrqbTeU1UZjIH5sx5Q3hFcDsT+bocoTwOZ0xyOi\n",
       "7N3CC4Kd/y6YLN2Ca/HcsjKJKt7/AVQfn428XhWwzjecHnOARPJKYMNpStApoIrM7ufInyfbiG0x\n",
       "0aYhD4C8PATMkFwL3pdpWdj860c8iU7nD8yfY04Q2YuOw4W6j+LivfDelohF1FE5c9rx0dfNFs9Z\n",
       "MavOziFVjxdjSSmQN6tKxBvw/eLtUuMRuW032tgmPSx5wwyolwiRRD8aWvE8St/6Yuy3urP05lx7\n",
       "aPA09Alkz+t+J+d4U8SVpQkfPBcZ5rNuKkcQfKsbdcF0y6Z8xmV+/LpIpPZXSrYE32PPMGqO7B0d\n",
       "DygQM7E+J1+fWXO8we26Wg8JMkagSz/LxW+BJ1htURBUXg/qJlPJ3/b0lexhT9fUl1Igxcyxbava\n",
       "sFQ8pO8iydRNI60iVkG3i75/3okE6meVGdKoY+FXSWLTjZqPVBeHGBJynf7idPSKzDyDaMoLfA1b\n",
       "zFzZnGoOcZ3zHYsKTQmOFQGzEq60sUewXKsXlI55/Jbivl9G83giP4Qb0/K6IIV9e2j1EpJvrL7I\n",
       "NdTtmTXz+i7MXsK/PO9PZhAsON2kGTW5oAAABg1BmkU8IZMphDv//qmWAuXANm7T2ZxOPSqAIeMJ\n",
       "J/PBdo09BViEU/8M7HFAj4I9lmCx7q02GQogpYwRk67UvIq+9nhM+L2vUncuj4Xt/qllxEm2V6Ia\n",
       "M4kUHBuUwg0PFqb/26C+Vy73/7Fn9HXH/tB9XwKIV6MkJPHW1r5GE7Vzm10vLkfvQNGT0tJzEoJe\n",
       "gc0Ew/Olj2j55BIJHqo2iXEvGwoP+n50EGNufTu3Q9h98sJZjKvv6WvS8qvNrMYbtFAirwyfT1yJ\n",
       "fAyG5wOjptFeCrRuBZLLxIOEKaYFZSllwVyif8EDYhP/qOaMByQcta8wLYzD1RgM8UfH8IoJRk7g\n",
       "g7k6cx3Yv+0T16E4KvgwSDdfEBoTpXR6VRs0XS8HvXZownnm77RyiH5oDPZkTx1S3YQDz0AV9Ba9\n",
       "pObdp5OClP85Zrxi6LmTPjCzFTvsLW1tXzU8DIxOL7OmGC/EYWvqAWurqY3GJ/tsxN1p6fMy298N\n",
       "uaDFym7209nTPiDR8si7nYtacqqkADBY6dlYeNdL+8MOYqBfo3IJ10azwBW3mUMfxgeic5olBThs\n",
       "mHC04wDSWDJM12ms4OYbR5xyOZ3WyNrcK6h7a4cLwavUFGmhrz9VMtM82i+18awHZfi6YILhZNyG\n",
       "vXvNBF4jE2bjx0ygaMFqD4aJg7oEA4uK8aR4nJvIgkKQ5vv22cVINrEiMp3DJk+Oh4zGfXXlCdHd\n",
       "2S/FzEdVtfaRHmjET+lWsDhaPMxbcqDfrQoUP9VwrlB3TTaAqfXxQMuo9vsg4P9fYB+ykfMG+kHa\n",
       "J7zZYjtW4ENGtWi2jlLi1vpRfr28wOWPT1miFBxZHo3mlnGalIyf25imViAekC6HwtVMvIIYPNPK\n",
       "Vn6NLCKXvaOaTP/bK03ruxR795hbvfJUsQLtRyk8N3Ga3dhkOF9Ge5J+lqETTvG7vjVGJJkFOhU3\n",
       "/vi6Q6O2xU1bQqdjj3T8IkIAiPajsYw4gCmup3l6RFFHuY9sxvvdQ90ZdOjfMbkktjTjpVP+JAvw\n",
       "JCz27mqK4a+5t/c0KEsrG3LwG4JQVeliKvxICIgXwdWB/i3/XuD4Dj/i6078nM8+tLoY2zHGApBB\n",
       "oY0IZjfxGU3ZtNttZO3hkoQjyp2vEHrIaJrkdsfvtcaA+uG6Y+CF3MhOltWDuDsHlqxXlWrTXpWE\n",
       "0THGFPcojFh/xF10TDfdjycmdy80S68Sj2nzKqiSjcgMTfSjNyDv4XUxhUet1J+PG81Tit2YlnJw\n",
       "KIbgoYPjlwPeWul5adHRIN62v385xjMhyr693zX0azw57UVcOtjz4svPd+M4M4nyTtFQX4M0/dSC\n",
       "1y2QPk0vDKROl/Al1RXAesVtvok9uufIbOJOQgjRzrn3LKuOqecLuNtp0uXb/mxrt50TPCU9aqOn\n",
       "/guGEWTqiZsJHHwj1bq1Oxh5Nmd0Cl4tf01H++eK0HruU0xbkkqjJtuinnMl5XRbM5EUb7tyJ/B9\n",
       "c99eV/iBppvG+fAdHq11eAh84jwoIfEaAmqqnJtXogyN5D82zXEFA9NbpyC8B8efqqvByk3UgUI3\n",
       "Wr0npmqx5nQ5SUXgeBE1yd8+kP/DL0p/QnsB2vA4iY4g2mt8cwwKkosSLqAnDj+/hRF4K7psC33s\n",
       "U3uFNT0E8Ga79Rkp59kKNunxDhMKtxeFAlT/QJgoTIy2dAy0IClihypHWDjUMrK5Wkusypbn1mg1\n",
       "Dh87Up0EESfBlZcukGt0l+HhlC0P1EUPHcaTqMUxZWmJutMglBQ+P4+Egbas35bPLRUJqRPGbAys\n",
       "syFwVXkRQ+2OLzb5dFL/XKq9S/9nQr9akSQ6LzcVK/BCBkeey6EtJGGrnUo4AN94aep9dxHj6s/Y\n",
       "xrUmWejN7kEq/eJMsVgJxEBEYU6LHuG6G2omUuU5kM0Bvr8WhS61o3/IT8ucMizX1axzOXKTx5Xn\n",
       "WO431FhedN2JgPX+MJtKYO5x3jel9qFGfLkdjtWpbrgfbYuwNMDD+ErCe6SixPg+OYxauwL1NzCV\n",
       "a24+pZD6TNzTpMg4PDwqeGCbBNSnHeOIAuHvfdsVpDTaAvyKZIAVAAACcUGeY2pTwz8BqljJccwR\n",
       "6/N4IW15O4fD8QAalgXpcTuKeJabMxflNbWzTvDtP+2l0u63D+e2YkInjmNbb9eHiUDDqLvPO4Ha\n",
       "u0xZkdLLZwlmeyi4kJWCtiOGYSAnhym30E01e/cf2cH5tG7QV36z3tdRkYugJS0Fa+XYCPdp4JFv\n",
       "yAfFkadDGgrHrrOBpu5XylMfOKFZrNBTR7aoAuvyaHw8Nm74LygHV+9OGkDIZCuYHiVK4esHgzCr\n",
       "JyxRM2G0PFI2tAtrt28qrY09L7azOmFsyuYPcm3PGd+X3ZM37tLwTRmCznFl63J+a+45Q2/R6jT4\n",
       "2FbkDn8gzFDlXrXw890t+KyExba4XAj3aiA+w0vi+kALaAXdHfTIyLsz3bd/mb+YNN+QCvM/A/7p\n",
       "TbMfavjw6GW9boZHsH/+zHBxdjQPDioHSteTzC+p4PLUstUoWLaT7xm+UvwRR9cZZ9/EqBoTMET8\n",
       "TDBFRcDpqIadxxrhOG7hrX28sqTkCBZT5k6F7R2z48eayF3+o7K8bmi/EDTTKUEx0S1YABDnMPiu\n",
       "PL24DFrt4aKMR0dLMO9lwdYMLf/AW56BnEBAdTw2RAO/b1mmoBqfKGGSRvT1rxXe+EDIvyg8V9Rh\n",
       "c0fQBPBDaprYb7B6pOdNdKXiui0a+c3UFCqhOXtllIZpuKkzBufWrC+EJLYbc92BeSpYLKnJ9xOb\n",
       "keY8OB0st6FaGIFLAQwZpVBamA0k8fxMwW+AoK/lLyu81EF6ibY3XIrPlooc8a+h8F3ifnkSTeZ/\n",
       "rjkOpm9sEmDfECaOx3IRrGQZ/pwLzh8L6fov0RqaCKJ/2Y5Pz4ZsB4AAAACJAZ6CdEK/As8oxFmN\n",
       "jpxxRzl+woSEAIJbIvJ/LQT7AN16oJON1/LN/PrDjAQ6MKwc4wLyKuxUGlz6zqAn8aXSMOgpmi8T\n",
       "jwgVH23bkeS6kW9KTjU3u2itPXVU4I71DPx8ubVoAyN/Bz9BOlmKeRoLwuEve767OIDR21QNAJz1\n",
       "RLmE46R4jzjA++EAAABxAZ6EakK/Au69Lhwsav+WnrxG+XoANOx3x9+LNM6zvcptaTr76/LhLOZ8\n",
       "KZ1o7Qe2gC5V6IDFPgiRT+06rFPvjCYVC6/m9yKKgfYMhaqBjEFT9ktBNAXTicdbA7wBOmBQfnxu\n",
       "ThsG1blBS1Udef2jAokAAARBQZqJSahBaJlMCG///qeEBS94S3gjDH9xKdcAX5b576c+pAe8UjIx\n",
       "JY64Da8F39PDVDyOQ8AOcBOXnuMhlXog1j/2/p7P6sfkODLcJjaE3cmp6ye5s8ICJ7NAiHknHkX2\n",
       "OSTi8Y5vgSGsWna/visDyJoqdm6bANVLVsMJYZVz9OQ8Q1wFOKrA1ZgdpFf6N4OchFfWWtJ46e/J\n",
       "Lqlem5JE5wN9219zZdwzbW6xdDEeyea2uKTffcO/BXs9Kwk557Yrl4WuMhaZq+HBhyjP9haXoVCb\n",
       "sir18ojzs54bERJEkOYJqJoXcAQhXTtYuRubMfqyQJA6givOECmKAZQ2fmGQNcpDdCzknL5/cPxs\n",
       "ZzZAFzSjc1hhaQB2ZB8r3xaKGoc/9pGq1RolychdNVcVuhLuloaud1X2kg/pl0/gteMiYKjDPY4B\n",
       "xlS09RUiBVDTNHi58M47ZEPH2kAa4nE0xAoV4wufbHAZQe55+1IKDkchCGssb+COLncVkOogYzxi\n",
       "oLddCOoYkRsYzgrXd/SL5I6z9b/BZInXkoml35uJLRqzrsI6mgQCV3XOE+kSc2GCldSRH8C5NS8H\n",
       "uuYP5Wa8SZ27LkFPEjvXQ7GpKQ9N+LNgtC6kJY6HGpPgDJz6sMNLXZB1cxLzDaARPx1VLQwAokoY\n",
       "UC2iR3DsoK6HBH8/bclxiF8LocsYiPKrVbOFWN2A4aCIKnDR7uNVTjoDHp9oFAnFOl5Tbr+wPy/u\n",
       "JD3jmTSQnlx5exj99MFppsbOji5Qd1ST2YqDm3CAIEWZSFB+Pfl6Ki4MPLKOJnzW+W5ObCcjfWjV\n",
       "G7V+NW7ugYRbOlgbpHs2wDKZrpWa+HwA/DgzycQ/uNUIYTthK1p7tFrdDo6UtCicWeebEnRUk9iJ\n",
       "tCtc7ehNY6Xgm/7hLdY9O3W8agYuwLPfxFW6vY0YNafKeCLR6fFF6d1KUmIpLTXC7xzWU4IT66BM\n",
       "JP+fICRY5GuDopidFZOHvfwvK8kROVIzo5rk66nK+lkBlTK0jGnvK1+OHHjMauxgxQjI0GdH7f4l\n",
       "SFn/whc9AgQD05SfDTL1MOch+Pap2IWkD+FdZPxlGH9ZPW6xkLle4IzKzgMS9alZIivvQAxp8KoX\n",
       "/pgghJV8Ht+LMPhiJD5R+t5+KB7Ppg/CVuNsQ3+slsjScSsocK34tSLehUiB5jZ8qdv8AgYM966f\n",
       "ue+dgGN3HcAxFBGXXNKVPzbE3BFHNngKmaJFYTEWp39Sa5i2zp5/oON1t4TF3Pv9qJ/AQW6PGume\n",
       "M7+tO/0AgVYDDjdMCP1uPhTXPjqoxRRQwG6Jj9V8UPuyorjBqGD87CMsqwts3oluvw9O+KNfptPR\n",
       "RPUbPVLDinXxJ1lI8BE6Sd/FsomlFMFWMB+stpEWuJUscV+OsBd7PRWkzTy+YD5YeGOkubzsraCg\n",
       "yOKfDf1NDnmuu/CerjxYdODk0w3GswqBAAABdkGep0URLDP/AarBb7axof8iLwt2yfmt9TcXOw9O\n",
       "oANSyHopTf75SuLskNq7bu80FoL3Hl5HdaY605miQOQn8tC7w/gdjN8enKDyRRr+0wmw86yGZyp0\n",
       "ZZEIIrf6bMRvhRY197Q0H7ZdEDn37Nkp5L1XahOUw3Cr1EKs51V4+bthgcWMrQT7NmwQfWXyi8J4\n",
       "zd610Mhw46w/DZBFs1shFZQVFVMvbmXfAvjkOzvELYzXEyLwCU41depinPaXliQ9cnyzlFXHNJFZ\n",
       "Hd3DqnfUhjBweCyNzPXEQOpkJyV1KOCxLC8aBPflGz4jTLGt8rNUFK64mufatzvJ7CWUBbTZQspF\n",
       "qiFwTCibZN+U4U58tk7QA3jg3402ZGwdZ/kdZ82PmR/uoNESd35nUfXx/U1cs3YI4C1CvBcgh4J7\n",
       "+v5sBkrIPv4glD73fm1eDQSQbzBLoRPM9GRDwC8z3+M353bUr3AgKIGjX5/B9FP12UR/Ry27UGAp\n",
       "yEcHAAAAgAGexnRCvwLtMYDsjwUqjfX4gfa1rdJYy11z74vu7oASZsiFf0XhspuKlJDe///igcr5\n",
       "LbMm9jlKBVsBKjy8Mh9aaQqv1DzjL0s+LC+I037d2omP4ifph+e8+F819d6MU9QxZiMSsuskQsqg\n",
       "BNIiGtThXK49ftK7PSoFMnnaC99gAAAAcQGeyGpCvwLuwhsD8oXo6xX5e66ENQAadl0qB+NZ+SLw\n",
       "2on/FjK0oYJ9zBRaR3SAHb0m9q9OYyogqq9SvViSRhuSkKoo8LPSnvKnssJZZdDfGKuYoxRs7QVN\n",
       "oxlUof0/fUOSE/1Zd4920cc9Hae9cH9KAAAFk0GaykmoQWyZTAhv//6nhAfvI2cTuq8Rnn1AEFcs\n",
       "v2K3JTYlJsXCgohkGjclC0ikh43p2d4/9Iyc3V3EIDwNn9C+AQI5BNL0IbfOjq8oTmPNRbr2fiLm\n",
       "UfudhD4r06YncwiJiqouPPV8AKHN0Qc9nnmTt+mmAXiA4xka/1rf96wjdwzdFL1bX/Kop+dD1TOb\n",
       "gUTe8plWXViGHHjmN/AF3VZ0kKA46RZk6RXnJtjdXLx56mCokAUwi0SQKdSY1ACXLxxT9Zb1+UY4\n",
       "GWF+V0wX4i/9mf2HNpkrQ2w3YXFx6m4XuJqShVR6bTTzqRDlH7NwaRNr2suGUfaProt17cFMBCMv\n",
       "sxDzJvZYPOtc3kFfN/YxTf1yTU4rXLtNXskwxm4CS10n0C/8yYu27KeoxwQZZFh3PuW/VAdZ0nCT\n",
       "wYAmphCUAQVceec5n1IzhS+EzbJCqiGdmPXg1isCAVrjPRMsg1pOD1q4TrjwRFPA+LVTw+hKJjow\n",
       "K/8VAyBw5Jx32TMr2XyJTU1FBwOz9kWhbdYrKTxR6QSJF+Prw5u/v41gwDh1OAQMqzFO3Oyxkilk\n",
       "1S/Yz6jehrRa2TDQ0yZEpub29hDLxVK5d/O1IfUlapjiwvC1At+f5d1zPeAaKBYAbzwDfkBYJO41\n",
       "X2tuf2C4nqWdXykojZLl+q6ziAGrr9bZaZ/g/W24F+wixkxRhx5Qkm1QNucfGhWAT2QVYtZH88ut\n",
       "TY5XkCIaBOUqQtFJOhRw4HmBigRtuddT5dG0wkCx5v/F2YLzo0pI10xB1X/Tr5j3Rf8s3OOsolgx\n",
       "JXMAClUdgMG00kcY60kW6I+4cUBk0Va1dZT/EIXG1jXzYiw3/UuNcnhPduIDzlviWeqDOPJWy5bo\n",
       "T3rH1rY7U2rdjM68V3vsrbZUeKwcUpqKPdvf9r+1BUyFWeL1Fu2GRH9/Pon/0poqMY25A85lVF1t\n",
       "H1Zk9evczEMD5cE5v/VanKHpCs19Mxls+m9CAFjh4Gu6vHuTQp3/zv7NaBmfkNHAgjAFg8Hn/MKi\n",
       "fj1F9btiPQRARCreXDWmOJ55GyQ2knib2wcYphW4u28uyl92U2gEnhk+spHBRkXAKJ/I5FJNCZ5Z\n",
       "XANfXzGe9mdgK4MEnsgskTVoIF8dyoNTiI+M3pLF2+1bwch1n+3j6kdcg/I51ZNJOhsi65krEFD2\n",
       "tHshaPsI3rL1+yBkkhwB+L1bZTyWhqO5zF/682Vn+xc3tzxqORfzyhYyNevt1AkQkihkjDEBOUrD\n",
       "s4iURsaPZSrXxp7mlexmuN9mVahfpovhqkwH/I0fuRR+y78q+SC7B32P5U5QN4+XSeMgR/wolHjf\n",
       "lBb9001EI3bM3SjgJoZMYVT5rnCZ3jcAi9cHx6PUgVUpPeIicPzhM44hGymMd8eZhHOxNM3pVRpW\n",
       "Zlp/Zd1JJ9DwBfzXefb0ocDO5Cn6pF2UGmmgQSFyYn/VhHJeMscIgMeO3ymYPpEwN+AL8kWftk3V\n",
       "RdLBvWsz7/cYetUuEiAMTEKfFbqNeIFugzPaPUDyTj63O9pwIDqQBtXgMnAdQ5VhvNOv1F97K1Wu\n",
       "dD7MVjcUifrH/gxo+9bNzGtGQeoK2jzE4jvJsOu00Ujojfo3b2ZgjAXai1HD890MkrM72qxWLbx4\n",
       "73rATKPO3k15KbIW5ixERV/MAuJDJOfbZqFEZgjGrPadVTxb9zakt5R/u2t60tLpsswFWBYvxeE0\n",
       "fkdSbm0zTp1QYglDyrYvW6bfcAnt9ghd5z01Tc0Lk3nedkrmHAEEu0XKdk9Sx0RbL9GLmJq65kWO\n",
       "oVSL0Y1AV1Y6Mm1QCaoUtOJW9UscA9kluzVPyGn916OfNQI27hcVGuTS2XAzUODcq8XocVFb1NoR\n",
       "/qba5s18mPLyETBzbZEfA7/giW0Rsy/WTIVYmEclAAAD5EGa60nhClJlMCHf/qmWANGi48KEAR4o\n",
       "2PBCxrGu+t8VrhC7Drn50uvUDFRK4T7qtMMjPWW0ZRNIEE+/8uzbT8dsFpYEgccNG25mDt6USzDL\n",
       "13b3SlE+xjTnKN24su+e+CJnUn0g/y3iUNw+MALilyx2GqARW57Cx2lGDgsELG3644LD2HdA69eY\n",
       "ck0zVnB1glXa9ssQcnrdHBLiXcKYKVInBr1QSc4M64+hGgcOShzR5qmtc2kACxncGKY8g7K3cJ4o\n",
       "9eFPGh0xrnS/2IxhAN+io8pH9cAwB1597n5JnTkszCO5TJJRhkzpNEBxpPn0pHg9ABMNgAnlbRHt\n",
       "xh5w7NdY1DjY6P0W78iSUtqwWyXiLysRufIcRgCbkVBbo9HUSNUR9OCu3izazJ2uZ/70lf8U3tRf\n",
       "U6KR+z1gVhJJsbSIWAgP6CST+cO3PywVdKf66/n6XGDhMenghqI2VLEBgdSwVl0W+H2noZSrGf12\n",
       "Plohm1XLfAduBCoDrqrqqeOzibt2FwC5Vi8hv0dVhe3tDc2KKHhFv+VKlK59GBUbkzZJzp5ze2fT\n",
       "uyL2XD5szb+CdU9//wSS5SUsA57ZcdRofE7bdvKgG4ZSbTBaux9tVXoy83zrSTyUNJzpZsg7R2r1\n",
       "6gKbxPHEOmsPLjYPi2MGmR5PTIcCsIb0LhIDbNQOy3Ak1rNmBT+Sd864DLfwIe400ycGJUO0ndTz\n",
       "m1eB3Of/8cAYQd8rmT1Ljc5ARyKP+7QKYATtautApr5w56ywfxilYP9MmPsKHIImS5AcsESpuDb7\n",
       "SBbAJmSIS2XcNg19CWhNtkLi6qQl4opO+IN3IfBsF2wK2HiAyjbirq4dQyuKJqaax2cqJii560Zn\n",
       "NMfD8HNxqhqXzfDXVr5sVcJchQMTc2Gnqsb6B1Zwunxsy1Y/PHeez6o9ADyNWElwemoM4yjxaIyu\n",
       "/FhQnosUrxpbJhSTchK3N0ybbwXxg3xgLV/njt3A1mDmM1NPKPVxrHFZfzNDFmQpyWOHHzpRYQFP\n",
       "ibURjIChBzGjXu+liuhS7hkWLr+38276wzhMNLaP/UazqXFir5YZFYYTQPJkpq//oCHkI7xGDteH\n",
       "HYRwMPqU1WmtRzuLk7+d42k4a/t4z+SyZ/VWO8XOCU9X20E/eCvQDLVgq79hKbGOn7jHtrjBeLG+\n",
       "K7/Fh06utkIKbjjv8XUw08dtcI88k9YSfPW3DU3/NZM0Kj4Ib6IqvfzLJ2Fb104R0WQ6GewDgBgu\n",
       "8IpcrgYd9xOonLYv7m6NFRJ2rRrCK8AoysiHMGTYq2etiFNAXfaenmcsWILKo/vZydeNf71E7Vjg\n",
       "9U9kDgAABoZBmwxJ4Q6JlMCH//6plgIx1KINp74AELFgoZTSv69QAyjDiq5nyR3ukw38qw9OVaDM\n",
       "KZfYrAj94E5nbYyYAix3AYHcY+d/z8CbRLYuteOnI2vpzVfwXDeQjKI7g2KoH2ZqzvKq05Kz1OsQ\n",
       "ruX2IuJXUu0zKBop+D/n41oco3OUf9CK1Ay1bDjxp2EGOL5NFRoawy6uALCpdnBrKnWZJvaGKhBx\n",
       "TTs2e6zdcAGm4Sx4KDTp+Hb8KHBDMAn//8Fcf1WzCeTtLV0TO6NCMJvJ/5ImVtrwgLsnzqbf3BJY\n",
       "rRaN0yiXSWoxBYE/ky0PeaJZycj5hWU7O8iCzSJxXKwqGstb//uzMLVIQt1N/gTiT7LyfadDOKbn\n",
       "H6wWoiNWTXpWIuKsHsPvL2vgn55r7DsQbrB43fAO7Vf23u5yOoHvOiCMOjMWjYXx6FggR+N28eSN\n",
       "2jbUnlAI+Ogp62W0k+iPL/le1qJdFk0CYc8kYG/5X4d/iwTLbA2gQLCEwKH7i27HDl9z363iwZIu\n",
       "34IA0BMptNWqnmWQw5k2ZumVH2nTDU0jdlVLBH4O6E5Nq06SumoNGVT0MVLhm+aiNwGieGzD8NBF\n",
       "xFshwOEMjdpfv0c1+KPpj20T8FMAn8givmnnz/1eA0mlwHkLy+EyCn49gi7+9XeoaRkohGxzVrwF\n",
       "KoW47U8r/onIMZSgPA7mou5/SUB48C/NTFkuwCnb87DBf5NTBItT/o7JcWjJgzOzY3J2iWd3BYb4\n",
       "o3xeEABpcvPgSg2EyQNWaF8HQaD629VUaOrfpXKPUxQcJ+kg9dETDpW4kxt+zgoGHq75cNIFqtRk\n",
       "U9XB7wRSKvVAtS0Q0tKmUjp0GSrCzifB+Cme+aY5GulrXa7CM5A0PZNg4pwfWiZgVnQvSrMp5DUo\n",
       "xjyQgkuPYEuWFH+Ov7KMNc2oDBhkkPOpeK8j1BNcIKPQGosBtiWcKeor+T/cVvnizF0E48eqLux4\n",
       "faZG9ui78fKsgN+6KJd0tqrNRqdwjRtFxbjA/mUN1O40j7sOKPEa86lmEJWTfEvb9cZsq0GZLXaS\n",
       "jAmmJo7eduAObdQLucUKJbVFGqDpzb8xH+pJsHAcexRwGCURi5zuzyoAtqbOEmiovcKFzzxJ1Htz\n",
       "z9DBmBq+5Kc6cFApZVkrT48QdbbUDIaHb0c7A6F3eHzOBjV9IK1vyifzyBWpA2RBAtBcySFXI/+y\n",
       "V4nQW3AhV2qTzLtEVigAGQpGcqsGZsQpVF2kVQprRqHZXFb4fr+M+nHgm5meK2BbpOeRLQmOk/6i\n",
       "SdQ4sBvMwxrV7fqwRnpjCRuSUhR2fXwyXtHh7nHouah1ZXkCJ7+pzMREFoyZTJQukup6DAVbKbx8\n",
       "B3GJ7BsFiTZYgoRSmcp8CtINJBLj5KatX72zex3Tmqsq9hI1e3Ew+O79lHCPuB45vjvR5gJ7p5g9\n",
       "10C0KGIildDpaobEX1a9sMuPfhif7OqGsuwXK+JbpSN4Hw006ovEGCgJREoyW5lm/ZwDhuH4asLx\n",
       "UcbZDfXhpduzqO6k3b9SfLsiGPRBq+/CIcSG/BVeJUNGoYBd9tOxljgHdiljtrrez0GSFfPdOW+I\n",
       "v6tpNaah+pDredmZD+0MAPqVg3ogdJLX/KvnC7JV7NUQyRhVWBaETixGl4Km8KvDvw4CeqAkVC64\n",
       "pHJNtXe/ezOodClSkBXi3T6A/A+FDhV8qrX0eWjfhEbKoKaXJXBbBziaC5kVoE3I1XVb0KzJ/dMu\n",
       "gmTDLUfcicza2Cr2NFr/ppRGODfCmFrlaHMDoyAAAMNrqA7ojmeOc3QSOK5W9c6Na5KOI2TLXGiu\n",
       "FH/xmRlegb1mIA0NSI9YyLVg6SdSb8lOC0OiJ0ACE6Hl7hLs+j/9rXD2Vh2dEMKV4ISMGBLBEDe5\n",
       "x9QZvEzBWIMTkbgG1qyGMzCH74jBTF5/+KtW0g6fepn349OWqk0wheYvRSjK1p3NFFfEYEw7kTyn\n",
       "f5TG0JreyRjQiGtHXGqUZidW5hULvgL8opha2S3xa1vz9kPloBop7C5NoXiRBghwzwjysMzq64mJ\n",
       "g/vjx2iiI8TSW2dF9nLTibdN4yd7WaExQtHv8UAtjhwit81q0sklsvHycm71rWAWBJ6mLX1J4GXt\n",
       "r0Hke69Uot4B/LTvbHyiK3mtWciTJhBd/BIqPqTMdmB1YAnFkPYCPwqb89U1e7DNDOjX3wpxuPaz\n",
       "m2KP6OUd3l+XklVIgn46CYASSpNtvl4jmgAABPFBmzBJ4Q8mUwId//6plgDac7zNQBFfncg5t6o9\n",
       "Z85yZ9FbKVePn35JMVK1LaRTKxZAwMP06Uw5YvXaXJpTfILw4CCTypBLcEkLIbwA+63crYcWzBwv\n",
       "vHn8bqitrtCtpyCvoFcGSU4xMwjc+Wy1T4XMDy9J1YoZ//4xEId2oLS2Z/9bSvN9mqstQjIrlmoz\n",
       "E70IbyFu7zuX6PxBdZ4FJJDqiWct0LC8mkpdB+cBFo6Io9ZB0ZYuPEGP1/aZfvhvullZHpggQujT\n",
       "lMon6Zjax4S4Yp7WbuBheHC+MmTzu1+N+f146RBbCShMZ+KVRGfR9Swy93D/6DVMGgs9GXeXP/hX\n",
       "9QZ6cqclOTI96bO9vF9BtXO50DIej0XSUj2BooROGRJRQ9Q51DuysyBH38ZD2CLi9YGD7XNcjrr6\n",
       "q0drgivblUfDsVqtiwaAhH9pozHcFR0zapPZsLUUshzkY/N3mj9XyPiSSDbudnDyedNE6d6AxknC\n",
       "46Up63pHqwoz/Z54RcleofGDPmwehpQn5xi2Io3dIW2Lp0ET0dXyZ8xLGPiuhe7xzoCqJmKd3yd5\n",
       "4exgZnqlVO2PxVyp45KmoB34YAv+g6iplICMeAQ/A0GnO7hRe4yhWqXfG3ODZM5HbpoVeWS6Jy18\n",
       "kKpQzGPdXms3cL+EZ4cnmDk8zhbSNP5zOvzyNOkpgEygMkY86TbfsduMQZutKCDr4pJyvmXzu0Ve\n",
       "IGCjPRqe6B7yED79P/7ip3AADeUgHLjdEyDSbAPKzaWNtNNAiszWCHxYOy2iJdB3/a4rZaTKvmeO\n",
       "jZSoMtyMIQwSm6rSBanOPDwHTKW+MyFsTPrg+fZfTH5BkqMDwy1VSH9+QyjWxna2FBL6/Z6DgVxS\n",
       "f1D/HGNYSsXxTGItlabWeTci4rk338mYhmxjygTTn7lf1VhHLBt7aAqwY+lpDWBRmk/1xndWfrFG\n",
       "xMQz9cOJHrIxeCRW3siUq3X8RILpmvpXug97hxfzggQtf7HY1brmZ0b+hulrUoRBxACwLKLVUjMV\n",
       "Zg79qrrn55TTSDoT3soy1yvoR8itEKp2LqXQ/HN4iZZdhd5p+8vX/SovZ9u9osBPmgGUBQQBh8H8\n",
       "Gh7nnXz5b9xP/HG0pjgEKcI/CROQyHuBhH1VYH5c+C7E60/iYa3l3MGd6zG5duNlZ7sDbs1SrFyX\n",
       "FW4ZSknnP6UZuIi0RatQxonWug+mHtFh9HrOwQjJFhT2cuR0dIf4vT0AZKDboyzPa4a/z5Ah+4HB\n",
       "AoOTcOjaL4o4UoJTgzULemI1kZYOgeCpQuwfd8uyGVHuKx5zomUvRtxjpoVwAEDHnLvCPnFjJ4Zb\n",
       "aQyawHMJgFyTmS/3cNCCSanV8K2jNln3rXzljEIGMI+4k7UuaqVo9oxYFD04c/kviud3CxIoi2hG\n",
       "Loa38/H/2SqIsc5FFnKy9alNEde8QFjFLVWK6ZNvkwdslwv/TGTRnxL3jEpvvSxOKUTbS7briX5Y\n",
       "G5+LXiN17esBKtrsx2F6Q0rqtZqi3joWenCxMSFfCFJ1ST34iNUwBgMu71Q42o9koOwTSGDEyHNQ\n",
       "fDdqKBv0VFEedp8zZxWHr13AgAQC/6eASeMAUpgu+F8DEDHbxDnqdvxQYevCd//N+WNyMSmmlaQR\n",
       "5aBghCUhq+hzDzeAFKwmXe3x0nJ0edWlCJ0sqC6vV25NUlPmZWawFQAAAWxBn05FETwz/wFKByew\n",
       "xZ8Ot0fWLc8rgaRUyjgBCeO/Dqzbtg4fE9cfGnRhW045SSPncKQ24y4tz6juwXEKMbeTqoQDBpBQ\n",
       "fIyRo0CDifOTGESVmT+EhpjH42tY6sJuuI5UxBxw9DcOvOaUnAXFfKv13uV5ZHOCvvuLHq3nVWPF\n",
       "6jDI9F9OF2g27FeXxSCq7k1Vysz28+gzMrKmF8P2R6oBSyiGzSEgUf1sts5G/gQkfoD2Jc2RqrFv\n",
       "B+gTwZX0R9gGpty+dutV/+GVS+9i+McnuDfhX3ssXpq0h+1fUTXz1hyAH134P0AqARc1+ts7JVZM\n",
       "FNIFABFQh771PNIR4FQQpmDNcbDNLdfT0NPexOn0mLxvfl8b3rc9I96dl2o8mAOs5LAfOI3BTLiD\n",
       "lGOy+bXfCb2hdZ9hRA4WgZOOcbRJdMeSSmZYTR96Se0a1iGYvQVMX5b0B+WktKTMOxmYKw7nZoJN\n",
       "NyVDBMGgrO1TAAAAaQGfbXRCvwJdwXkZDoudw4TSWAEFclQXEpMdKam28c5WsFCVralePyFeUcbe\n",
       "l5EyoFQgDWl+tNvKEVzEJAFK7GSqV3Fc0Z1LgZ+O/7Y/YlXqn5p7UdgUnflIC/L4Yuz2oPNteRgJ\n",
       "hlOUaQAAAJUBn29qQr8CXst7DdeZ7X6h1QWAEFflgLgNEWbOfFOCCkzT4XDSmX4U0f09wF0T9j4P\n",
       "IWcTFgKeM8zd5sgsNkqQ5sx5pDhlD3OC/uPfH/42QvSVuycZdOM240fLhc9As7enM+0QC+s9y/l/\n",
       "UrfH1gVie8pO+FrjI2ORbj6bzE5ubDwYPLi6ZiHRI2DDf7K4afMJqmHfvQAABeBBm3RJqEFomUwI\n",
       "d//+qZYEn20JzoKwPBM64Q6sAVqznLFBIg0E9PUWxtnB8Fmj2RVNkeoqKJg1otCq+7gmKC5ShksL\n",
       "biG1JchHgx6/Vialnu/VHqoepRRroEZnT4a3FJsj5/j6p+w7/qEJ9NAnF+g/qT/7i1Qjaq950ez+\n",
       "OoLRolYGSU/IqM1KMS8rvhNttdt176J2X8wr6PzaD6di1goHgVvwtgTj8vUoRWPCiASgbkhAtwTn\n",
       "gUJDZIEE6ZgQ42llIv4Uj/RZ8IHmdLsJmxZ/FVSxkYkBnPNISa9VkEM9EN9fubN9LRuZ0JpZyAU7\n",
       "nnXX+aRapqm8IhaW0Z/Q5CV4j7kXkOY9aEzTmpqfu4xme30bbVzJwuBQIcT4UqgxdDfaW2Rkug0H\n",
       "QTW9lAnPCXoLWtHdsSpYzlvuZk6L2Ie4Xs0TPurkKxmZpIXa0EHNmUUiH/ixAYZPLi3jlVzRD258\n",
       "s4h6jXJ4xg9fjQ0WHx1H0CGFGYXJxL2I7Jkubha5frK8OB2NprEPpFro+9U5qKVjaxUSnbW10a/H\n",
       "GRO+kApqgyCt5KV0wyW/nJy4O8Ba7lbOUp2SvPBbkAn/tYi7NpVvaMxRuTiENfyGiWwswfMeXV4m\n",
       "PnzRD8nzJW0xvQR/UPl27BwQ9tFnbuCEld/BzqbmNYC5HfS1LE9A0/ExSB1BGP9gsD7TOhgNiu1Z\n",
       "oiGX0/dCm5XaeTr3q2Md+M5zrgBD6tk6tCPCjFz9FTJLoBxQbWzq+xFWpPyAAhHbH/lzzvH/3DhX\n",
       "jxgBt1S7ivWyuSP8VK9/zhCZREgz4Dmpix0puQkfKV9SvSuQJRV54mnZOoFg+8kk+wp7DnKhcNrg\n",
       "a5xkx3XHB4c/m1I/TKqeOeQ1aOCHCbmCyx7YP97ibzzr/w/wKg+pG1nokcsn4FTIgciV79aFBnRE\n",
       "ONBdpgS/+XEllbMujHHmS7IM6Im3v28VReAR+5nGANOyD/5IkXsd7NN95cRrccPLvb2SLQSqMIZF\n",
       "Qz6EdpQ12jpRfJwWayY5pWG4OyyO5kxpJCHWul9a10omG/G0/Gtll4XKVj4+29Km/ViprUTPEuNJ\n",
       "mIa1AbCsyLxcFpceWcPjlc8LrB9S1+9kS7CMTAaNzZUzbjnnOaWzxHEgs8zGrwvyLp9tvaF2VH3R\n",
       "Piv56lMFWtP+8tgeDoRIEOMfUfcBToirphWGVhZlnNdYU6HEaWXVtuPQWYAMEglWSZvstZjsb6/+\n",
       "AbWI0a9OIj9eA5cn0vW/rfjaxi8Qqm5UDWuvqerZ4iPQCgOhCAo9sxUJzh4b5Skdzw16ynLnXIyq\n",
       "1NOcKgxO4hTlkc61zYvZ6yKFdws6ghB9Fp89nhDKKPdm49KcMVMsZRSA+PCgvtVi73Cy7l2vqA+/\n",
       "GQdD4cWlfQLvQTmCojV4zjFDKJfzvSmfJFJyR7CAbNJbIIKFuk+61cDJuqEe1jacFsZjeU7TvIIM\n",
       "e7nd3pcAzVm0RoeKEEQ0k+ordgB+QjCejuwGFkG6VSdc9Bilv8BUZjGMXY5TIU2GfrcIwaPjIY65\n",
       "fGyJWZFuIGxV918RNgcjFzOTRGD+kQY4Tm3eK8a1KoMgMERUsUPCI0qXItfkTrkpbdZ4c9CISlwT\n",
       "kwY8aMh56TRen+bw2Mj7gKSqS2jof6lJEkK4ts+tTyJLeMuCrkJ1HlKrid2lGE7/hTRmjWK9H1dp\n",
       "MhmnU4GFI203xkSULJDZESIRB2VHtHWRiu2HbtJ/M6y3kOF4GXWFUTFqwrlBg7OpWF1U9H7Z9I/n\n",
       "05wI2TVxrcN+AybrFEetPKusy12FJT2h3Z8YhgzsMvPuUJxOS51U9hWfYW29m8tcGGEva4jobWNK\n",
       "fnHYk65fK5ddS5MuRmqw3HoGY0sdcAeyOD5ckWbkWS0IosJ0bMfh3cPrjsIOKMBSCQdV2uqq+YCd\n",
       "Y6uQN8GBF2Z71TIftzidJG9NGORaopUaooENgufcUEdqJ1aaJEQ6gGtljbQYa3Wo0VIJyL30lvCB\n",
       "Ze4ok/DRzrWyxzQgAAABb0GfkkURLDP/AVAVpcU3Dp6LEUbAjUWDW6biZgBq023A9/+C9ZzR0Qpb\n",
       "hys617UJRWfOwa12aV9Ad9WKm9j6WZekVp6bALhSz92Y4FJRjbyXa4bOx/gV0FiCe6NnRLogUnDe\n",
       "x1nGJMFZb4EmLkMGfA9eUatvfdJ3yDvaxmj9Rmo6Gjl5EjVsg4b0pdCMNipB56jCwYpYj9wgNIXd\n",
       "RlbnUcGKGBi27XadWT3SV409fhSwDnL8YwIRKOySbJqbpMDSgOyL1F1MnC6F7ErkGUxX83Wptwaq\n",
       "wRRjxUAcpid3EcONb2lZYeTuZuNiAtFXYYJ9pEFoVqPuPTUYUhVx5b6T9T8Ng40xiwvKWp6yOh6m\n",
       "NV6YhY7u0une9CNPThxPy8kXPgGVFIsn1Pt4zoMRH2n497S1oV9kPOSPGJpJ/gxopa9iaTYFNwaM\n",
       "3exRD332ZYlv+poFjd+Xdvp4b5hFI++K0af9eedgjyjKmLyFlB/kN/EAAAB4AZ+xdEK/Al3BeSOq\n",
       "4AnP/p3PUAfsV+x7hR7SFaytoYKMGIBYnv7NxI6HMFvPZQ+TYvPVSrBvuChsC0UkMNT4z6Y5N3YN\n",
       "A/w8wf6UP0ReEDp1kQr7amyNfjAwMWaUo57oEOQ8oDoAy8Af1VDrvSPFJtFo3N7/ZKzgAAAAlAGf\n",
       "s2pCvwHfHSZgBLKhToA/YpvppK18tL325UGoP6DzZCW8EOByV7Lag8RJCgExVI/oxgtgXS2NHsmj\n",
       "Jn5sLyzamRK6kxtwtcFFR0gJitvilQeIpM9DQaZyenDqhVhlxCxFk4xUT1mc9g2ixc4q5NxvtYT5\n",
       "tcxL7FrteLQEJ2gefnfyzFhly9hWsa/Sl34yWBuAb0AAAAdIQZu1SahBbJlMCH///qmWANnv22r/\n",
       "1ADVsqc47aPrb56Tk5xtGOrAfS74OKIn7ntaWiydRlWpF3A/Bs0RYRcnmaa2gBFGyUT8DzZsiHbC\n",
       "+augv2DjZZu5VrdCISlDxCUg/u6wcDmIMwe+WUoF171Kt/zsS48e/3UcTzO/yfqhkhrj+Hm1lLhq\n",
       "DtTLQwPwnRYDjaEPpvRbNbGaV5iwCpPqO04ClEmr1UOxk9EWOrw1caQYomZSQeWx/qRBA800nvfn\n",
       "iSRs9CEcJQp7dKZtXIolGOGAAn8Lgj1TaQecEJrgzjWneZfVxFSlMIChy7x18KY5w6cWqt85v69X\n",
       "d7+lvwgJeEJTrwhZ92szssX4xWQuTJLgB4djylxM4DU1fv1zGRE0YXzD0J4tsnptKpV+7Ok1U5E2\n",
       "xfmAFD7fvcUAf85BjimU4N1mWnPjZGW0+9G+ARnp9FmJgSq7lEBmoGaiB5VelKXLBTlZPrsQ0N30\n",
       "63aIGn2IbXBVrvmiEwg1Ei8SBMNDm1ZNThqrH6K/tH7QbRxeD6xyuJRZrBlN1PEnRtLMecYroKqD\n",
       "ilLrduP7rovzantyj2bQKx7h/yOkOPYsP5u7oK+8671TYUh4SHCb2vR+Q+/dRlIIJrkhKKWYgABf\n",
       "xBxkTJNr/S2wi7hjvtoOHaVa8MiNslV77B0+vPTmqO3eTSOI2sfvf/L8o4RdjnjeKUvoi5AZFrlY\n",
       "1U4+Wk8m1WRB2GrAaq1HyejA4rRJcrAYooHCcFDBXorXsXYG/Feac/ccVnOjdzZupq9q+yNxiUMy\n",
       "DgNplt4YHS4BRRoDb1QwxHIsz72ahHfVFSMarKAtFEkDMgJkgzzTibDHWeNWJo/UIlBhO4MwZ6fu\n",
       "U7Wi3if9OAyDU19xiKh2GLHoPA0+9uUCQpAfxDVSk1WseKP/zdP+RY9JKlJgok8NZ4TtCIgQx9aE\n",
       "3oJogbFJFTo8ZbS0UQgwk8T0vo5VkYkYiKOku1X11ukJ4Rx1GHNDiuIBQ0+PbSs6Z0pzebNT4W16\n",
       "bDCMox1w+uBfd9mH1T3fZY3SeiwW61nyrgaGmh0pNoo6nbmIWdDwfuJnyDIca7OodJxPPeuQrwUq\n",
       "V9p/Jn9iTEizNFi21hyh5qWHcSRGzvsxPa7GLiRWscuz5JC8cBxrZxwwX1UB/t+6npkNgkxzl3qZ\n",
       "n/vWowafzNAkJ+rNN+JTG0tBHGl63+PPblmy8gwHdMB3yUebLvviT9gm57GoQsysWU845nEFjaAl\n",
       "GwiZAItv0BAMlwZmv20QKBADX5GSrvd9vSxBmJDIjg19u+IOd7KCma66UEIEnSTAiSVoElqp6gmY\n",
       "zkTTTr5I61vpqTxBqYND8T1/EtiXG+wndjf5bqi8jzDPc85cKJn4F0/NO5mKXqRLUjDeASeus2gH\n",
       "aSW/9SvfDhHVN+yQIrAYQcYVzQ1uzzF4xqbEqA3BI0Gy8YsfBbFkZ8Rk2f72cC97cEpMvkL4ono4\n",
       "Ugts1tPkxX8DYe39XZ0GIA4fGuxjgUr2q7xRqxYdiFRo85BU0m6RYHpyxtTM0Rrw3/7Q0BwrXzQp\n",
       "lQsRDc8Q5f7vLGx646qhY0cK4+my4QuoGfkFt340VSbJ/h4mjqhDsphWwiSUd2QMXoBC4ZgQvWx9\n",
       "5/uY0Jw1GRiaiTgVQvV19EKdktT0vX68vCL9M8i9zPEMNunOs/2ziq+IWYlA5gaka5873L8LLnLs\n",
       "jpoc0Gs2atbhllwFeRx292HEUacFy3iah4XuU6oyxDEQ4UFQLR9tXmeEknQYoLoL2vMHJFOqYX0Z\n",
       "9R+FkPm22/j5RUFD+6xKkSu9vj979sQFNqdpSqUz8JeH75pBzi93FILq9qeyqlyicuUZdtV/jkHt\n",
       "rOtCdtv/4yS0zHeCvQEpqygJYPjhXNTXtdkWF7BviuOk1MCAUvnCZm9/2WbCOe0Nrwm53ukyh/hA\n",
       "yiGNlk0wq5DGMIAjqji2HhrnhnZFqPalw5KW69g/i3OCzAhNRFCf+brkoMJNYsxcKLmd4XB0a3GJ\n",
       "5ojleH+mbqNi6FItuuevHrIreDnwITo1jrW4epk1iPZj4mybANGODn0cUjppFaAcnwrBT8FaYf5h\n",
       "0HRSAjCxl49D2WMKtGH2//z3KMi/MkYEk1Q2kxd97mpFFgayJ3TBNN1XEOeBB2meMcYLO3BrIFjT\n",
       "Dov2RwoNcgqKuOFHpgzvWDnhhvk3zLQA6qORbbL6sOCwFiHnYpekZTMZ44qvUPia6+cD3TXOT056\n",
       "Zxoz6U0frf3PUx0Z+sF/6V1T5W446wuRwdUedmTgg0ZE1PiGB3yoIypIX8bgjZ+zuIH9wvazXSX4\n",
       "88ao9Rs81+brO2j+QzP9/kIaPj2bL49Wd4WZHrcAIBcXYk1GP9aNSf7Bjxg1OMDoEbdsTR96GMO0\n",
       "Oa19P6KgER/R7oSppwLe0Ww3uttEfdpW9VaTbBUydmfxXBbmrlbPnGGKmRUFn2N2omEWnQwtnIGd\n",
       "VSgrGHIbP5+l46yt1YvAjozRHwAABwRBm9lJ4QpSZTAh3/6plgDZ7sP0kUYsABUJp0DUbon5f2PY\n",
       "DiniaLw/HvLBDhIh0p8/I3GB5Nh5ot9JGn4t/atXe6fvULaxe5E58OVtOAfgfwDutIrL9Ozq7/Jf\n",
       "gaEdW15Op4bRMCWqLmqzOdlGsBO7y6hePN96tOyaiqe4RJ4F3crAaAKUDI/B0yocqNhUL5etcZD0\n",
       "dE77Sb6lNMW27wlD8jjvc6in+mA/rCbZIhBxu0b+nswR6KoWPZap0pNIAPPMY7IkHSSkGw07uTuz\n",
       "LAeMlWVUGCXuItqXkW8EHJaguX5jLLnqiBIZ2QxEUb/f0gOrVlq+pQdXgBhMBbq3/Rn8vG021HcQ\n",
       "Yu0yjsmnROtNB3byTGmUomOX3gYJc8Wa2lbVMOr4b9/buPbSKedvFX+stbdUFUbUdeJdAscf/K3K\n",
       "EInnA8NXqvwEfc37Mm0ZrRh0bmM7d9vYBCSE52Tm56FaxP4aljiPEApWEHZq3xkIsUG+ZtY2V5be\n",
       "qR2iF0QKzyAtD79F/Z1YpfTOPCAH2bdsjqdW4YCrh7bKh96ChXZ6QqYyELcyjTQsga0gYdghSGVf\n",
       "Uv/v/BZImZQ/IALorj1mXjnuW4aIWWqFprTpXZAJ/C2kPnFYSnPPPwm+hI5cNyXRKg5sToP4OIFt\n",
       "rZpf7Nh54mfxbUbAr27/06IngIh5wd2lX6SGxVUn2YAEGNmHw9M2e8Vpy66eoK64tYjzBX1k8LgK\n",
       "4wjAcrUrh8M4ExRfkIUIqRevT6aiAMWjyC0MPTcZb1eHP7NmAMAMusMoqxIfuxr8LrHqCrwAmfj/\n",
       "iTJ0VevV6eujcLKMJXTHunt60zSEYICz/5C0e310rG6r2ZacX/n7ckwwZe1c5MQtfC+e4j5Zev8w\n",
       "x3czLE6w65SUHsF37pynG2enSJwCfMeOT+blHZh7RktNXqEAkAayCJWPV+0AE7gxvp8Eu9WjQl6R\n",
       "XG347JjuPiZz4TFaRT9sKinfytpGwlon/YDaJaJBYjc5BA3xaww46sfG0LdPCNLMkWzSFuS/fuls\n",
       "N33GLqb1TiNPIWeejsO9tIKPVBf84gqvTbOjBlMkhDoS7cEYvAo75SnaFxCyxKrSuiWV0XXJCmt+\n",
       "CpFNHeheFOkXqpwzjEUQlb7P6tNpS+/mM2M5h4UVfSAgXpNWRWwRdogmvZg0DAjTZfETRzrJxAzR\n",
       "DLg7A7Eo7Fr/tpf/QPyb7oqHC9N1OiXb5S2OGGCZ/osjBMzvU3vOT1/5Kto0NQP3ffgbrBJzPYO2\n",
       "PL/mAp1p6AIp4vz3c4PvoDJz14IPqCE+7EmIQMYi2wyScOLB8Z/c74br+DoQi8X57CgF1YVO49CR\n",
       "rrGb4i1BQ+LOD2MFmpE2O0IdRX2Wc6NA0j1D7bD1wDpiRrQRDLq0K262Ltrl8WIvUwkzTU78sn8u\n",
       "QluxOH/HTy1dsHECeK5e3eeuAyRguHtCgIETPMB3CD86QPQ3EL2VEuA0DPNCcrEnbFIBflPofHnc\n",
       "Xg6dZck4pAUafUWE+3RjaahP+/miZJ4VdRkCjimuCjAa6qDIRmegHC/OnqoOrA2ZNqG1Iq4AR053\n",
       "zX/Y7/NXuZfafQdn3IVMA51WqV8gRO9zhioKAmYG8B6nBbft7puqOqmyuvCWnTzJtWPtFLO3ZGKe\n",
       "4O+GY6+q4tZWX3pIUAnftqlpooC9RzFe/UlmjdOx47wJhahgrmfpatOxfmXI90Jh6/GcvR3hkI0h\n",
       "Q8ebC5UGkX8yCeYbY8ewSvZkI0c6OGJXqvQlm76qAKNgIxKBeAtoDoUWh8MVMQP/ORB4ToFHByT7\n",
       "LyUEIY4gy0UtP5IJubfc3niOLSm3yeGOGkEGJ65upfVORns2IvljwzI2afR0s9gxnMZcTkZUaLk6\n",
       "C2whSt9d6Y5YH47CwbRcOq4UoxA3R4+5BBGDhEfk58zgJfwprqVRCOb9jxmALlNcAOyw4VZjSc7I\n",
       "ltDwAShXdqNVhp78Mv9dMTsN0P2kFlLP6hS+fK6WoPyOS10smJ4crD02iEsyY+w8O/RoEGipR52D\n",
       "OnwPJqfxZu+Cwb099h/+HZzjj7jJaro0jnaRDxHedlw1iQs9qeHfqqaCsN9JdXaKLlZtt1hXvyHk\n",
       "zDt4yNjUk51vacRW2PSUzzHU99xEKbN7DhhyaFSc6O76zoSrZcIFHT/XDJz+Pq1zSeWfh7W4ESUF\n",
       "weTQyGm1/p3XB06qddsiHewTwP3hNkEYl84ZsxKA9XTKwtFCR6Wy1Fmad8Z3jwtryELV1F1hB46B\n",
       "WraffiSonqxELFni6G3FT318/FKBsMDGq2Gtg0E+tIWofJuvKEBUWL2UvSqbeQZSebciouQR4sAg\n",
       "lAs9AGXqPZF86AXccnGiaiWmmlNaUogumKNCrlMvxxG5R6aIQJeB3s5NsSzK6NQYRg+6cAAAA1JB\n",
       "n/dFNEwz/wGpym3MR1+h57nHUasb9cgA+iaetYZzuTsQRK6S2RHbWdOtukT/9HhdfVucxkDx0WaY\n",
       "JiOHGjUdTAYtCqz8BP91l1xvekfDhgCTtXZshtaR1GhfNjpiWbQjAeW4jhQmvRl5Q5aTgLyWhMeh\n",
       "Hh649YQUh1IMnNG557m0PtT0copZyRrSv+PT+/RAtYPUv4d0S6PywElnOAR8NvF8SNEQWUHnCf08\n",
       "g6IeuFZ7FoEt3R+cpOCNPNg5osyY4MWNJPdsUkhBWMxIIDzDEz253PiVyZ2NIsl2jCw/qe+685p+\n",
       "AuVkOnWspdlDy17b/7xCMhj0pOzDr0Y44Yl2CQmK9WqDZB9I4a8IVml4893pDiyctjnhuzIiiWrO\n",
       "AkCpxgBf1u+ZVmWOrQR9uy1gAG77jk/2Kk1cMjPx/qplWjD9hR6959mK7niQcxokr7aA9IiUJ2an\n",
       "dT6+YS574jqS9A/KYL2h/YKb3Ccmvf6a8yoDlKUkcxf/jTn0gDY0GrCP2oM7KJfbMT5qFx3UCmCH\n",
       "arvtvE2fKCnMDflBYSmtI4YkGdlPD7FwU9/z8HQINH9LXX0Pewh6zMOrx9IGYoFaHS590yEoYFkl\n",
       "CcLMJUAeRjTqX40n6oeOOQaAtl6Irg/fpgHHOHzo8DCmKqRT0jGyO3gd4OyxqPbr4gq3Ux0UKqVf\n",
       "sefrP3q/15nPSm7ru+TmOLCbwjwVchGdfu0WN/DPFnmQsGWiFx3vBUjNt8n3mBT6E0HT2I0uz6mx\n",
       "aTHYGYh/M5mH//6H1rCEgKOsipUDUqUiSqm4Gkv4isPcR4yS/GsOd2uSPMOYxfKKTkpHGvh/IS+Q\n",
       "ytFxFsiBgu5nOMgWcF/iFOBjE68b1isdiLtjdJnGYJYgTCrfiPXXMcPBrx7FWfxTV+M2G+bqf2X+\n",
       "5jLCvjmIeSdVK4pjnunIAR+4lUWMBSNF3i7tUz/k3WUTGUT+xEgZNPjewzoihJrAQrlKpYVoMn2p\n",
       "Vnj6K2/gMTYg+g46rGZZylvlyVkpy6tGhnmOhlWAw6F4mHU4gMySJcYSgAjkRT03fmRbVGj2vckY\n",
       "B+j6ssZoFb2yFqGRty/05n1IfDAL7Q1xvBX3BcQmkiv+2raC4lUQaV6CzAB1zs5aF1KnAAAAlgGe\n",
       "FnRCvwLtMwWBX98guatUS5Rp6gD9c3WMN6qZPccI0J3F8XcA9UVVqSse+cue/8yI454qrA3mutsY\n",
       "8jBeTwvaKEx9stoz8l3uD5jT0zjscMutbBItH5J1OfRQoa6RluzXGuUvv1a09FQJTRX/YwB8w8QL\n",
       "8GW+eFV8zRwnFBjr+vzq8ExAmFPZPfO0O50FRKJdqRhbwQAAAIkBnhhqQr8Cr2K8IVQHilCIn/ZU\n",
       "+0ALZ/yeJ2tBZKwUdzpz3oa/hWvAwWiRZC6LPcdWmzosuq3Jhb/TaF5JYgyqXx9hQ9cqZVLPeUl5\n",
       "1DrGerTVAmyMWxxCUtWNT3Ij4F7aAZa6Az0NaGdqrlTgm1ZM/fnJ69GTYM+tJd383N96dTBRTNJl\n",
       "Zy9DgAAABZBBmh1JqEFomUwId//+qZYDm5HWgsd41sQA2YAqFM3rciahE+gqTDRu6QGIc38NCKK0\n",
       "higlRze06cyXsxT8bETI/e1+XFprpRozQtnDwOdfyaZ3Ln8QX+9/zqOunEzjS9B9B+ei1EmKYLY8\n",
       "FSlz86o9+JaZcgH8y6QHvrT6WsjX1ru7SRz2yvEIYK5EPCTA/p+rkErtaZMZIH3jnu/+jhP7YEA8\n",
       "DG1ipuE38UhyULjtQMOjsluQSqPxceTZiCSKWiGuuDW9kxS2vMU0EmXPDoOdkoIchYnqYG51Iu48\n",
       "9y79GHW/CvKtg4IojywD//gd43krEyUeg8r4pZtKdXfRz5a3eXAoin8mk6HLxZ/FNO8SzTaX+4pL\n",
       "qs5JyruHFKvTP2CSXWKcB3eJAwkSMqyK74LaCVy+CoqDBMHhq/1dDo2mKVuWWdybt6WWb4pvKMKo\n",
       "4yKz1xdpAoN6mw+eml03O4ufOfX7UK/bLHyg/ZhD2bhPlOxaqCFEISMjBlVgu5QSUlSpu0TL0eu/\n",
       "7zd5ZBzf6US4CMC8AE7Fr4Cqggsv4IAUhElJcCCam8lk3h4uao5ADK+Sye71evKjtRCa6dL+DkVh\n",
       "G4yiHj0ghn8qt7MGj66IlpFKGI7buJW03oaRMbSUs7VnHrMR/QZzPEBxKkcgh+PlgXNccqOx/xVe\n",
       "9ue3FgkXbZ597HgoNfoIqdHp1Mz3XBYFBmP0Qn3sAuzgUSvN+ABU35wX8sr5DqHKsUoaqQE8HKKX\n",
       "Mv/xLO8m1jaPe2T57UAfMAflncVi8HYZfTlfpubsKToHepk/Cl2cRGlPeOw+Qg7/GcAOUS7L8w2Z\n",
       "PlnNaoNbauJ8SbU4ZonNvgrvTq26ddkpn0NcKJQd72t9cuVyB+mTrYidx0ARgBHE2vo9+LfDinBA\n",
       "ZGNQCWdN4Q0ip64LMnNQP9yEGRB8R16kEett+HZOLbEEL9/yqPEHAkCP/svw2FIK9oGOji1o42zV\n",
       "6ErLgnQczOVjxceet3IzjIeooJKqLeCjaN+AicIu8p5u/SLfN29Q0QWfvEBEnGqqbKu3e7EjmJnu\n",
       "grkvNidYI58kYfJL0Eb72TOXbX2DE9+ahS+FGHSm5gZRvbbOpnssiJNn/BmcnkZsTApWO/LfNyHQ\n",
       "iciJKXgINvMz/woUqX9wbMqhaeVbF4PuzhpZOdHjQawq5Ebimj4byu+rbEepg6KCU4/W2IT9QEro\n",
       "ETjopwqlrFdMtI1QpzzqA+sI0RMc7DBu25afVE8URE/9cphV9BjaRR2fCqAOQWOOGk44Cp2YDsv5\n",
       "m5lbstaZUYmHY6u0t/60xqQYHSvnCuTjAIoF0IO25lD34JcraNdR2o65aK8mja9xjF8uKlva3glj\n",
       "y2JKHzLZajgWObsmoUyQFnlULNHzIZGRUHSHjKWfM+gFbZngFasIb6+/fNGUgiW3xFdhuTauWS5H\n",
       "c/TpMzmRKjC7PUKR3X2Nz/xLoJeCxs3s9RY59rw05ScE55P8PH8h674PRsuOmakeHnuxHZycZgv7\n",
       "GxrzOK40iOiM8PsdYlh0+hEh22GmsPz/23OZav6ui1kIbnEZB6GP07dBCZzG46QcbkvaY1Or3Kw9\n",
       "hPBH3H/7L9pKnxps2UrxIyACc3sp8MOl/9jcfXJjfu9aQPcn/dryp3wL+TXV5K4cLOyq3i8hdL/H\n",
       "sygSt66tLD2o6/hz/mM6syIBNEYQS6ve8xX/mjbo3x0XTGVnnZufEgtjXMLNYjQtGWxnsL9BIDVP\n",
       "+D12i7bD0PY3epPXpbSDIHkGZ2fYbFMfG5Ln5A8rxAAnLQsEH+OIGSTnznlhX0xCraZDxJcWzS7e\n",
       "RRTwUD6jus8hTh+v8QyJU8eIu+OBPuyu6JJMVB5ROTFf5OzSe4IaLTg2n1ykUu+102pjypzJBsGk\n",
       "CbInwUsQGQAAAedBnjtFESwz/wGBw2Ma5sQ7grwcL+hJs9f4dUANUSOFRK/dnBk/UepTpn4mP/+B\n",
       "DvId0QynpexNjx2Agpl5Br4IlC7+KGJvBOvoP06zzy/RghOBAnLjz3I7WFCHKtxro0SOluVc0+3Y\n",
       "/hIqM52jMuDG07C4KGQEnJ4yRb2ZMdevbItegpsM+4VxVtw4OpeBZg8ikxPkNPe7SgLYy20xBqkf\n",
       "kjK534wYEHFZ9rtgRipJx5o5uAuGbF2Rd2b03UNS4TuiEm8RU+98kZckhs/U42l/31gE9X50Tbqj\n",
       "jlPaX98DbizmBHvYzJqAyERWhh/tcMRZ3EFIuVLwTPocCwD4EJLtEsKaGhdBBRnCxzSm7E+3jzGN\n",
       "59+ctebo/8qpddBO1wYCvvlVr/ac0dWzUQYwDbJ9sLimFecvGhnO9ydF63WGeuviHv8HltUVRPLo\n",
       "dk921OIxI/Pi1tzBMbN7brEW8qIYKO1sacyJT5McuCfoiSINVUYIGUwF8Yj+r9PG8pazfihhckc3\n",
       "M55/Ku7Ik5T37bO4QkUDUHVXDtvLkSM7B5ixRmNLnoXQFD9KO7Cz8SUFRg9TqXvdxS7EM2nbbklf\n",
       "H8rbBBHcls1TpTTumUbyjyiKMBR4gNYUF9rLHLFQpN/EpYVmGfHq9TYgAAAAcwGeWnRCvwKt06XG\n",
       "jfw7H7ek22J7Js6QAAbtnadpgbulOytmUneighNiRRO/u9B0qvJr8SxP8F5e8V0zerudD5aEv8q4\n",
       "9/x8qT8q9kWCYPNpqlGlj2R8Y/k0EMGIhUMgaDVtI8Np0gO0aDbbjzzdpiEJqH0AAAB2AZ5cakK/\n",
       "Aq9ivBtmzInP9F7IKX/zuQBvMhhyszf8lAY/bSNONI0pKNMmnjnpYlAYduYQO92K6NEzeNnTWeWj\n",
       "h89BVlEsviyI54THu6dUKJFg4e2WC3x3DJg3mDLNGaLXmBH1dz41QhegbUVlahwuW8rfFzeBQQAA\n",
       "B9VBml5JqEFsmUwIf//+qZYFS1KG3VTVACLUhIeoeBCwX2NyuWb6hccqw1jmQktBTbQGwLp26Lmu\n",
       "pa5VJFqx8U0bQ1Z6RqckoMaeAf1GdqxphfDW5+fA37yU8VgAWsaQRE24BHSDT3fL/6MFdLcXFoqm\n",
       "8g7n5bElHqAK96sBGBTpugHGpTq2hYMOz1nh4ssmiKsmVeLpKG3YQioBVOaEqi+QKZNlLNKC37OB\n",
       "mRXx0dsSerQWfimM8bWDszZ8fpYyioMBV7RrvcdmacG89RU9kvYHgowQwMkej6FPXaMZ0SpWLtR4\n",
       "uvUlOnCOcqQ9Huz0Tx7AG4sU0duPNKwiOjNIqDAoAsmJExbl00u513PnlZOCqEGU3Ccl5qPgQrTz\n",
       "RlsLgdJ+cA23a73VpayMTfwvLZBkw+/LM4tcBSOWVXAlFcLUauiKosA3t7uYFsZm/ydppkdg6R66\n",
       "H96i+UVu+DG2136ThIbD99530kXHRgygcgTZTYc3nNBM1PyB6NdLee/IybrID2kJhRvhfwyS/Td3\n",
       "9qVyMjWBQJhAsj0OX5dPwF2XeStASlAJc9mSjf2DOro0+Y2jHHiHtCKRgiiNm50p65fXgsoB/IwE\n",
       "9jS4Wo/jeO8Nhmwk6zo5aF2z+JsCZbLbV9Ke0CegqjBijIpuNDLkAm86Ta6hIpxaifPp44D6pFg1\n",
       "LqEntVm1LUzFH/nlNrCGJcQIpaWrf1jF/9e6gUJZMZKTn5p3Z6m/30q/0RF/1lPyTk/E16fYD8F3\n",
       "7LmaNu4RV8sq4nXQGIypfXxfr0qaUt6FwGlstveu9loEX4Mm0L0OV7GFq4XTGWd/ra1cd/iF9J3k\n",
       "rruGCT1f8tUp+OvpwBstzPg9Ajgy5TrBQJyCYwg3235624katfsHXI/mmFoiZp5SaoBx0hH9pTMb\n",
       "2/4Sg2MtT10+wOOyEI73P5fWX65rfA2JHHG1Kb6SiLcL5Cx32kr4UJs1OEG8mk0/60ooNXdc+KQB\n",
       "/KdnwYHgj0J81wbLYoyCJuZug+z5wwsbWBbp6sFtAhEg6wOD24OFlEtUdzgXeOfJvmCY2JDXUcS1\n",
       "GKewGZLYNSVfqN0/flbo9UgzcTiZDCd4er0+z/uKh4RoEd8qsu/Owfr3wPprxCuyLzXGst46k61/\n",
       "bJcS13X2BAFyJtu3l7K2uhTDJET6jGzTIi8Kh1D7500ir7BHNsJJUnsenYciuzc60FMXkA02mDY0\n",
       "Kfwj+bHZiBmbyRUzzZGr6kMwSeBn+ESYQMzjxNu9I6tyefXoblkFQDgn/lZY0kVa4q4dP3BdmmL+\n",
       "o+HRcIrguQPcZLTYJLQA/gsiAHmMWMPq/etGAI9qGeaMuXfx0IB9R7qrD1F/dRzmszomA4RD+M1X\n",
       "HvzchIr2zf1v9k2N3NAbunCKQHtvpHa49+36YXokcxpZ5rzKzWtZ8+FseCxw6U18kVpiOHxw/73n\n",
       "BirIKRmmIfzUhM8HeWEcBB7rjazgGk0+0rHQ1B7T8r4W99lm/QLiIXjPNDJnllisMJO39fdXtuCL\n",
       "BHlKA8yYVop5G3ROwwZE47CjJKafUoiP8dxIBOzJ/7uA7VfBEsyfba7oikoOrDZHOO+Z8NvTlpAM\n",
       "ryE8sx8ppgCXvS91QYosl+5taX0h4ONGJO2oHWsVJJ5oxAqb71nMGnmkQVazpgXmFZ6uC9vbnlLI\n",
       "FXAQX9DZ1PqJL70Ml35F/LDHDMWRQ+V5qyufWGJVyNJ6AVDqtXRHKq7iSGbk0A9ey0hnz132aG7M\n",
       "Kgr/vj23HoJNLfZg6opoNcKwc0cTPQ+k0sMme0+de9OA7klnF/tjJYkvXd7p3/j8XBkUCKyo6QEz\n",
       "vsxDIiWpEXS5FA83UiGeTNVuv+kyHevoziSvGtIv36siWjQ0iA3elYKeCUMsUgsEMxvZAzf1XHUU\n",
       "l2WaKhD/njO+x42mBJoTAUrepRPuymQcsV3CDx03Jqu6qw8dKDcKkAHqKRp1f4MxHHwICEJCYGbW\n",
       "OWZbXq5liXWVAbNEQmU8YnYcWQ12HMUDU4qk9TX8+X4GWafQkyYHpkFgywViebsI0vwqLtkLm6Qu\n",
       "zrTKGuqBkRlMxx6/BZujsz6ymU+P2qr2dugrEcj8D6SnPqg1Sl0PaNF7J/pUnjFXzQ5ZDXBr2Q0w\n",
       "dBPS570tx/H5L/Kij5VczTQoWcqGI8223FtYc/f91ke9pYTjDcruZ78TcASyYfUeNtpLzcnpim91\n",
       "uGPTuTFpFhEqy+kA9JhbTnI6lCPUE5E3Q53YIB7Lc+4K5Lwht+lbEkOVkuwHo2MeSKvg3+z1JGBR\n",
       "cjcMnxEPq4Zzf7MF9qEjHoSEe+OwwRbV4fjSMLuSnPlbLCaZxqWRM/D1sk6BoO5praiD2XszXQM6\n",
       "fTkFLwMu21s8+FFOYqBe5KAWKk87F2Zh3//kuvdV/IGezpAxQvtn8qp4gSzCuzcIb/pk6JRzXR9i\n",
       "yui4pYUof3AbKyoKJTMXlfkdvxAyIAk1iURG2PpIYi87pNVkUfnAt6yG7+anLCyQETkRwZ1dh5t0\n",
       "5FQkJczExna18WApnVX0plPtnyLUQS5sh1Z4Dyb/WLxvepf5rqkdZM4GmFXMPwITKwD5pUc7gaqp\n",
       "215BKRzlehLSDi9NCaUQ0LpwcwFEH8lvLhE8IUT7P7JYPrby2z7iTC1dARVB1lD2qYdmtwick8An\n",
       "xJBHNOCckx64ecLAAAAGzUGaYknhClJlMCH//qmWBh8xMgSVugtwmAIWeaYMqB9QCz9v/umKOKc3\n",
       "K6tPv6dGUPm6HC2Tv+EOGd2ZbiWtBq9GVtFobxufnLoETFmbGHP1eZ7jpjO4Lg3s8RPiFcWQxvzB\n",
       "BtZ4rXuZkQkjGP3PG/44spxLRM6JKmYySsEfxZiblTmGuVWouzvCwO7/5CJnhG0gMyFbk32fWBc9\n",
       "Gp4PmVKwe1GjdCL4NPfGqT+JwA4Kv1KPhg4mIUU4oZ3ANp91XWlp7+/MhaQTyMJLlMh5VVkCxHhj\n",
       "qqDIQ9PfOWJEaSOD/QeQ2vtW1BT0/qchkYWVdKHYQYbS1Cq83ajwCaxUSCvvfYxygwPEog6KeSMN\n",
       "tCe3hYgmebKie3SPvHMj/zsPmRtDTlmVPzu0nZ5YxgTGooIuEWA6uL1Bni4Is3BU8RlXMdH9Q8Ri\n",
       "m59tpTeLBOFv0MH4pSvr4JM9IjYAOmARYd0Vo/7Sd8knJfOuCy4uatAFQQ3sZobBjteszb9+vlKT\n",
       "mQLJ8VZBxPqpC/SU0YNG706VyENkg8a7sHEmst8Y6rH5IXGgmtKdSH3J0VsMUFhxH3+Amf2J4H/o\n",
       "r76DdhwwtKUUIR0xlzQNOC4VObUyD7XIMO/Hi2+7pYLAf02a7TDB7b7vDpLMyvWO4T6dAWosnXJz\n",
       "UGmp6NzJKqjeph9jzTThRPLsnGz3lRIyOsUzufN+lsELAou0oDWkdGjipAAU2cw58uoQA/8timO9\n",
       "Gtn136Rhf79V4kHjHcAdlgZblApfzhU/5oqTFytiIu0AoefVT6OxhENdb5KDwkRxeZ2NfEz0DBJW\n",
       "GRnPgNUKjxt7d2DnXuavWynlx7XRxf8GogH/RsOB+yKUQ6PoDRWuZg6SIPZ75olzvlExCrDNQS8k\n",
       "ylWpQN73OkaCX3WLMspjQMh67emUtIzPIxFT9fISxCltg2+lNPPth8cd0IodsJXkstmzD04bhAJc\n",
       "XvfmCf/laNjJGimXflRYy8L7A40Pj0Z4KbSL5sRAUdr0laViUdUIsBPc5AkfvsHspa/MJFbAwO+S\n",
       "oPxd9pbC90mK9/uI6JE7Ayb5ShNHju47KuU3Pbft16ksDiLC7EDh7RzlUnnnsQUSW48oVE9Gzw0K\n",
       "hUqL43EVN99MJ+Yu3eVqvrxaJL5cm2qwfGlD/GRPwoYGpknDlpXw5m6VmgvfFtrSR9GaFXAql+xO\n",
       "FOh84YWOBJFl4ntpaeYTXARRdvAKfPSAEFtMfn4cBDdX7Svj4jb0oAOXOmkwb/5rEu6+hP/nwrE8\n",
       "/JFaadzCy1dBKmyuVW9FPjTdVhBQkB4P6DvXLGk4VzrrdUrNZXloabaAa0Hr7CBN0vIxpOx74dLI\n",
       "5+e2X/PA1PXF7ATqFlHSaCA8l8No0XGQz3fWgi+8/ehHBzZA01gIun1P4opyfYrBOkj4a1PLhyPB\n",
       "7cIFiV6WyAheHjDKU5SoZ4LF07KQwl705qXrZWdHh/KiaPxwiom8wBNYA9n+K+5QUAs7uxb+7tri\n",
       "Jqxf/MmAD1/vOG3LCP8zVKONzFqrAluQyIlexhErOFyjNlFb6mgZ5cTyCgfAb+pRwfC9hV23pXjH\n",
       "P4NjYRGOmsLRfa4htjnWVZJaIVUn0hW9/fIBAvimOf7P0MXeDaLMmVw2+rPKin+9X/omgNZQGP+f\n",
       "ZeH8TpIn2iiC9KwPc/HmZ+AnZQaIWq9NhK62Micj0MO5wrP9HL89Unj5fw7mA7Nf/eLIULKBOv27\n",
       "TpxZyyCJqTR11Y9b5xbOE790sJIDtuyklguQCGpKpejzYgKDhC8vEt2hCbncUOdCnQV2sUfZ/rzl\n",
       "3vyrKVLOMezb3CfFIMlWrRe9NHkyiyJNka9ulHlMFP+SO3gwBeJltvvFoEquMVz67UlZHPE21DY8\n",
       "afonnF43iLv6aqMLjCdHLNP8WlVoEtJBR3be/3XKSVUAypxzJsU8/syAMqw0jBbdM/R2gTV/5ajQ\n",
       "XrkmioeARW3qtECVOs05B38CEBtTNNNKYBRFKDhSFpFHdx/PMFboEXE3w6PgOl6U+Y6xHyiRMncK\n",
       "hqH1iwmrd7cVLfWH8seNvu5O+RvoUOneSWYiPRgXsR1AUiWGfm+Hkxlcjhj0pLFEgo4kUByLVUO7\n",
       "i77FwOIAI3Ifv7UWeHHtPBzwlctfnyaPE0D0hLS0rHpV2ZcjlYeTd8jO+X6zDPtIFEykE99ZkN0h\n",
       "7XFXhN1QuFUreGuXHCpctcB/fOnOwQET+3wYUWX+yo6aJZ6iHeWYU8gG9gq4ejftf4WrmItCGOn/\n",
       "II5VhPoJJph/eiYPLqoSmkQOHUsx6OEvYQCWjPhKXikKIdEXU80s0o1BAICOlP0AAAN+QZ6ARTRM\n",
       "M/8BqoxhXcSqIX/lKLW+KfgPISL/R3uz8YYBNO8uxWTNOyXlTKy7nBE2/0C/ZnSgr7BXH5jGoPXT\n",
       "N2LV3dxqu4mZc2Bfi+a/G8/+X1XFKVnfVAs+5kWjiWWVD7g8zhH1AivR17fQItlm8+xOMINg7x5A\n",
       "4ZL4ddBh1r1kgCTVeSppUmZ4SfL4tLJCOVUpxtqL12sQGeq1KcbyXrmWAF4IVjr5T9iS0X5R1XG3\n",
       "aPUQfaApRhta56h6Qft2P3C8unArjhiYcbZq+HgXQ9g4dM8jaedRgTcnaa5x8aP9bw5dQ5ghnRHv\n",
       "gVlTCxRwE7JmmRDgRK9dL3ecCPh1OisQC2NNYvYcfhj95XVZVJVYnm3A7+aGXU1afu80rfNOSnSz\n",
       "GxMNZpxPyEnONb5R3I8rT/YWpirbyOhBn/WxORY4Yj3sk9TS2IU4/VLiWDUIEds1ugPfOiBa/50l\n",
       "1JsLmGvfCmhWaLB8o94bY2C5T8bFKKuM4eCOihlHmIfo7T4ohoxetmwoBSnxrdvtlNzOZMzAZ/+i\n",
       "7GDXWMZ65ZgAAPuY1uzCHFnbROHqfDcwlekau6FNt2R6AXG8i0q5sFVu78Weg5KgtjZGicOW1B2D\n",
       "lJCEPLbenGfnT9SyqyoW9MksgBoF879WqumTzJoPHFMIyOx98cDqBTW3IcwtGby2AMCqrlmT5pEi\n",
       "i+ZWaMY972VJ9EsgHxA3FM6XJcDkX40XSjjv/JoKyT9/kp7zSpKjzENcgHjOrfbDLUOAvlwxmhpj\n",
       "T0qhYDqdWXyp6AjbF0GX8tS+z4E2JOVhCZ+XjeSLxv/NU1jB2D6f2qLIF6zrvvAighH5CqjzSQey\n",
       "/b52DnxPsfhM+n5Wi4rp+wz2WNR9bgkIbKoneRAo5815TdNNgOdPe5HocguFZTD2a/iVdnF60/2i\n",
       "6Yq/XZxnT4/RHzUsta5Nk/Sx81bnS6oqoOuQw51Ckn7JFFCpwt1TeKzVWpV+MmOKf7itvcWcaE0O\n",
       "K1ct6ddTEzm6WbkkZ/8sjatRar22esCpSrEIsdIZQT+imE1aV5umpZkrQswhKK1CUBeYm3pWthLO\n",
       "F0tqGaRQDHuCcXmXAUVMQgRyxcU+e3k7BDVM69kjOqrNcIagaMm6mT6f8fVGXQ9NS04y67Z16J+X\n",
       "foJjAUQ8SqWVplDBjX44ZDZFSIY/dNoJdTVr0cQhN3SxAAAAyAGev3RCvwLNLY6N4vGvd4gA/21i\n",
       "nr2MhQaMqZW4ErrSd5TcBBt5mqdtQGjnpQvzpJ8lTwXbAFLd2HuuO/Al/cTbyulDfyLP7fouRtvM\n",
       "MRauV6qmzjcHFFSUnvL+uOC4Ag4HXsKSE9/e0bZ24tfkMpWRzcuJwUiLoIbcEtrhtbFeaI7hDHxv\n",
       "Yi4c1mGnA+22MYoN0id3HPYZUOvKae7FWWujhNB5BhCd9YL9/5obzSGNS25uKDj6+X5fGkwyy3Nb\n",
       "QPzuRZV/oa9AAAAAZwGeoWpCvwLOvcyJhEymADZryv+oASaSw2ar/l3+bDWvBeBznD6LLT7HQud9\n",
       "IjHMzWhsjwZX7pQyEmHnzYm9Mk9esbtF7D8+6uv0hdaglJOD3v8qgh8AQzDCfi/xrLRuSUBr9tI9\n",
       "xoEAAAY+QZqmSahBaJlMCH///qmWCF7pUeGaVnnTq1SYrewAEO/hS45AOl2B2ivmFVBihZ1mJKJN\n",
       "Pv4FrafhhBVDM+rfIli4OVFXvHgT+Zvr+ivMUZgHKroT8jaaUvoyMb1MQC4ABSsEvc1JTxDtTya5\n",
       "3l3Uh475V+k1iDXhmGKnx87vkRPJcBkwu/6R63OO5UnHFF8nXcabQBcoWDng4t4oMfSZAsqlEk0s\n",
       "BNFzW0aSHE5CX+8AyUd9CVxwGB8bgEwakRYmof0QzofFuTkwhEXibcge5ltAtAD6jLeKt/I7buy/\n",
       "uHOJ9shIuChyVwWjU6XVE8xvt3f39KBBQbXGr/wDDXl/0edKTE2MHKPo6YUweUues1pEr6QC3aSi\n",
       "Iax7B1mUOt/rnpqDU7hPSo/YxsMSoe7GDMW7l8HJQuktxe3okZdlWwiimg9ra7ZnO47oFC2cDqTR\n",
       "54qh3eVCljvbUwi4ee89FpsDsGzCF7YL7pCo8aPC64nnhdiwtq7JwrNqIh+/kUgV5BRKCjbQUIrf\n",
       "Lh2eKmfqvVSbRN86YSqBjUv6YhYK0S1fQY1wID740EwlmKYbdDYk+UmNvkO/Sydc1oGfoLviEdje\n",
       "IN40475MR/1kbkKyPCIbnBHaiEhvUVrESTq/aCQFlwgGdvpYBaXT1Mw4jfmyf2HBp22g25JGbtXI\n",
       "a+1lVegxQ+Rpqj0Z4xGnmfJmAbXKTzawX+2IoTvUYyz2NoHn+AaBOY/ocGFej9im+Vs9euETK4cm\n",
       "0Y5eUzRDr0AoMHfqKKgkC+HV9MmwUUVhRO9vb/MwYXswii6JJg1kMSkyM9eAYK8bK8EJCyFy5wH9\n",
       "pUfAMfomAvtS7D4pwb9t0+d9aZWonRPI3NcOWFGOw4QTSMGt4YSD6EZSLZiDtGP0IvDfM3auMyjt\n",
       "vlI3O0YX18hHlh6Z4OVHYcWOBa59YxFaXPscjfA+G5aVQeBV4ABoCvtl913s6cQLahutF+A6mvp9\n",
       "gQryb8webb6NwIO0BBBDx0OMcllFutQqaZslFIELDUsiwz1WQt2imOfpFk40Gu3f94xV1t78IfQI\n",
       "No8Mpk/7eE2OqwNQngg/Jll/+UzTDk6kxiQXAOWFP1HiV/JSy2Ssy1TgjvVd+S8sLB1NF/XsDun3\n",
       "1c0bxGXBaYDQF/ejwIGPbSZR+2tdTTu5B/8+L5F4f+pDzs3Q/EZ26ze7CMjeF27CYEUfXQKrgZ0U\n",
       "BGicoas1LJMeUxgE6AQVwcCX/CNCgIsfXhAlRS7OmXbQegb91+hhh2OE+VzF9bEtZ3Wpx3OmrSqG\n",
       "dRYt6ws3iawN56eQz2JqMag1jsYqYdgFyNP3wg6+swmy1p7V5prtF9XB1j90l4GUNDahuV0Xxzau\n",
       "JVMltl1B9ljD/xGvUJa/DsSZjt+wyGFBeNU52EVxnOy7iv4bWRBza9yILbRxmn76Py80PmL35jlz\n",
       "Ko87Shnx/x7U2lSLbZBRE7jOo6QyX27QbFwqL9I5j6GW+Nee9ef3+EOwvRzaWpNIzS7SG4HIkK+8\n",
       "K4spkjTmBQuu7JBM1G78gLS/SxIcxfAh1hA74RpiKu9PWQAiuO8P7in/dL8U7gnccBXCazheSQyS\n",
       "OvY6nW7GJAFNtP/Q+MUkrryEnbwTVrpRM36EFNDObLos9IOBGV6i7cPOI06+Gh5+Mhzoe+y6gjwj\n",
       "m1oJ2ElE89P9pUTP+DhhRXwF2hPue6/e5FXztXhM5ZeKCm9gnCUp7CWBawGmzdFc7LjV32x4L7sV\n",
       "ofot9i1kVYSIXNvdLvTfXkC3kT3XB+MtxK6J47ImrsFhtqbLYPg4n5eCu/yx1zWRoYZH1fKF2gsy\n",
       "ZjYVlb3XdwSV9paw4ocKryWEx/D0xn/xMxg46tylKHQHPXIeE0Ff2FYDHWIEKIvb+Ur0yPCTYupN\n",
       "DiHxt5U9/tTayIjhnCXI2sg7TmU3lWxSFPXNq5kRm6BZbDebBZv2IQUoa2vu1/OfP7f/0iXqKUVU\n",
       "cCE/xrGg8aSgSdSql3pLtP39I5JbmaCIdBI9Fz/SElXCiwNqQ3Odxhaw1V9p81kxRRpMZ/Lsjmm2\n",
       "mQ4hNhdl5CL9pWy7dYsWkUE2eobZ1BbInAXiWDDv9rrBVMYrhSeaFk4k3FpfTNh/34+jIBfZr5bZ\n",
       "u+uStiYa1kQAAAGXQZ7ERREsM/8BqsECDWIG0r7RB/RK6flQazNzr3+iu+cFPaIJYa4AGgt2BdYa\n",
       "/sNtqCbWbh8j3nNxQN/y+jqP4fbrQBtFKVuCxWCP5lWsZ8PM5Z6mNAPDsWl7PSSC0soHawcBPwrP\n",
       "lRjUR3mflMK89rkS1Fl00FyCvuk07kXWQw2X3utgFCH7hApDVEbrzbRAv3CAhM6RTIgzg31TTTEC\n",
       "phQAmx8VYxLSO2p7uh0QCRIZX1hp2H3M2GbvK51zf4I8mEMrux3QrdbL33RX4lNmJnPR23Sh6IpV\n",
       "MO/g7a/HT2wsRcCHj/VgoAXeM/Aj5T6fUSW73A0C2VU6xbQ8wKOVasZN1RX00x5ZFvNsLebpQZpB\n",
       "iZuZgff7ZHh6YTMBOTGvNEQRdL3ZpZjkuYStUqlHz145su3IyapG1PKwjbrm5jZxcsNzHm67SU/a\n",
       "QWKNc6gZTZmdLGELGp4ahkFj+xzE+kmFL+jQGiIS7OfPWVBSihivOkSl+lmUrgWTuLyD1qqhJBDX\n",
       "En7K1IAMMz635iDST64FK44Yhd0AAABuAZ7jdEK/As0tjo3yisH+5AAG7dpb1LLC5yPP91CgQQWZ\n",
       "tln2gujxguODC3UpP6OjKOhEnk3t1F5v9HL9RS6ni5W1Im1OJGUM5UMawM5GRjCBNCwaAER7Q+sF\n",
       "C/p4fuUAkWfj8ZFwdXzyHedleIEAAABbAZ7lakK/As69yo/k6NlCTWjj5CADWsEkaZECkQlv/iCW\n",
       "poQPmXdF/fcVo7zqVJxey89+9b6QM9r+6T5PBvwrTbjYBRVmNUDj3Ya6O+rp1FiO3rsIK0uzMu/m\n",
       "MQAABiNBmupJqEFsmUwIf//+qZYHHwrjCpG2lqSielM1CqAF0wZ5S9SYRhH+4c5GLirNG7EqARqB\n",
       "uERWbmqJbhQx4IUpXIxVcO7E5cL+zDwOc06Sx4mTT6mksdLsXLlwL4yBb1Vv/zSHclW6zdsJMBMo\n",
       "AEmv5VW2IuYwc6UrmuA4j7t3PHxvtUpch3u1Eurp8de0JNbqXlqZJU9KmvhthNt5/nDSbKDLY13L\n",
       "Pw2ejFToM4RK2iOHhpXbArScAOfv4SmTh767qCzge62QHneadfCJZiwFGCnNjr4pEBxermd70jKV\n",
       "WSp9pYGZH7AaoZ2QnPzrinezpl1Mzi8tojuuuOAn1TLloanlLukgJ0gsUPjcEic5VCBU8z3xggFZ\n",
       "xGcCBLKEkQhDeI8imQumaXaAQdUM9sPoukkYZmIuNKYCo8FOdYu7iLqmsdxvwG+wTW4Gtuy61kzH\n",
       "cBg1pX48rFcmm6PSFarthbyw+BOhnKu4ZyXNQvylizYKBGGwfhyGXWNkjt9nx5COY0K5gynmKFJX\n",
       "nzAYtbIHHgo93e5bo9tHTGYvIYjVM4Qj0IhNhzKJmO/R8SbZv27hD2x2gHxSzs3CY0qQQoXQKlr9\n",
       "k6hjSSA4rXUAI2DKwdnGCkMalsFSRRJ8oSH7FBIcTOTpX8xvbYfvObWZHUG8tijgTxpGKHXgIb9K\n",
       "soGzU1AhDcmqaUFPG0jWhk8piiAYBRYnCqpTrH/nLZqRQfouvOshQBgbGm4GfmNqjGKS5Qj+h/+x\n",
       "HqIvxhlcvoPCXcKmjqfqqZdHFcM7RBA9BWnkGC5XZZ2ecTvSq1gDj91UfUkA17pCEsTUMzeEclqQ\n",
       "AbE9FTbxbpkUiA7Jl0aPfAc2XI8QvIboGoXq7QLrKN7LtfG2fb1sdRgdUgEgdb0DwhZMb5dy9eRd\n",
       "Cy5UCNZ9ZYurhJEL6o+pkbFdCUWP1VzycknVY374dEmtkSxJnz9ukoUc/fRzrbNdCpnjEod/Nu7a\n",
       "MWkrWv8rphjHU+TAoLhuK35rs+r8MVGU0n8ilBnLLr88crwXvumB+c7JNtahqS+QJ+r0S0A7ntLQ\n",
       "cRQow+AA61dR9469gPfgBOfyfU+LMQymAxdRDTIBPG3nnuc3FI/lpYWhZMNy8suL9cjyuvi9/W/h\n",
       "5xf3NuSzlq5+jFQegslSXJ+gcYc/1kgJ3jZANq5dgp52GEUIe7fa31/h5XRvAJ5KNxS9ffphlZic\n",
       "OJArrY5mpk3N6aG5Ei5MfztJgCuwbiWAzZR9KIt3ttaaeEvkx4Q4J1NGPWQnwxRw1zMqe5OJnbJ4\n",
       "+br8waL1D5eeGcK3G7DlaQmBqIDVMghAfhbvr+i2J5mKXOaN9Tki/JgtqS0BaQBBbaygPLPYLVDS\n",
       "4aE3BYs7ImhAkvA4LOvrEP52c34UaFgoUeNr/d3+wOoiT5sZuO7nE+ZGA4ygNtNszx3AKdizxMs3\n",
       "Plp6SXVBVhNflDz+YsoMjGlaX3S6V7mHTk9KgO0ikO9XZZiVPqRA7mleSKPLkaxGHO2z9f2JwqU/\n",
       "SOJDPPmUwfoooSBycdnbX9ukK+fmu37CP9bM6S88jcJaDpCm2AigZoLOMw0Ou/NVSwclCSVRlAhW\n",
       "ylLvbw0KvxC8uSjz6LT1h1IJUOC1Fzeoi/kj3SwFOAwK2MQu0tfVtxWIMCSYuUMUkKQpkmDIc6QR\n",
       "OvbyfXYFKDoeGYwAAS1G4O0yEbsLHPCSaZqrKU1kryFlolxchygHue63i3O+XQ/L0n36B+7Ggqhi\n",
       "iNniAs0nrHB6CWi16VMgm3/7Tnd4zrXGgc6u6UssYT+eUkZPLno3sGZ8A/fi4GlB9bSARkZ4ZQAW\n",
       "sDzvd80rVs2rlMFheh+aChB3yRe/pRVcD3bRU7OqhuIbjTE8DlE7c9v1SqSexTWg2hXeFB4PE6Yd\n",
       "M+rpmAfjUwRyM87FwfF9T06WoRT1YkOkZchbVfH2Lrt8dneVEOFwHjqV91tRj63SDKpVjXcOkE3X\n",
       "EMwiHkaDt9kdf7nJwGw7bys1ztyaliKs/dkuxBh+uyGYGXn7mYl2BqUo6jY4XTTk5Xmz1f6h7NUS\n",
       "wHvFHk9jxaULpMVYQhVtvO/nj0f7b8JJ870H0ZrhQxjcaO/UrwAAAVtBnwhFFSwz/wGqwQIIYWSO\n",
       "8Eiv9hEFJOuCkuyGIwBx5eAAIWKqFwnY883oG5QN+rIe85W5BxbNnClXxvkG7VC9I9OahfTp/Fvw\n",
       "jByNjoFOOJ3K/KSswoA9iO36E7ymUcaAh35lUF3GgK0fihPwr29gEC2kbxCEgrFuV/fKq8WVMEyZ\n",
       "qbE7VOrnnqyed02ZAJDTilG3pfVDOWx8o5Vpwds/fFMWpGplcHSElRHRVK+AlfZIupY5qz5XLzlv\n",
       "2LH737VkyVQ8dQpXqBorHOZrXRjXgpEMwrsigVWEpCCJjUCzzcvqW1rhYtaetZIaUCM8lqvx43lT\n",
       "eehPWd7zGJCOIgB9dcQmPUzF1NF/9EkSe0z2YnCijmgxjKLMmg8Y9ycXjAM0hEYga1SotHPZR/tm\n",
       "h7lLHJZGBvvnDScoabgR9J2TVSZzhIg+xn73Z1OW3P8+UGKOlcEL3sH0B32DAgAAAHcBnyd0Qr8C\n",
       "zS2KFVH4VXGPF3PnqG9GaUQAa1/mBgJf+smRxGsSsJ0vJNY/hKQQPsFYO9ZqglWCqFuuA5ZNL4b0\n",
       "gp7tZ1/noXK7c6SIhgJ+Lcanx63sb1ZELsh7mGwh/ePkjzn1eSNq+9FHM2ST7b18ka/Ljw1EwAAA\n",
       "AGIBnylqQr8CzsK8II5YY9e1nEAH/CkmkITSKd8jRGkIbV7x5gE/1gryqlPw0/ee/gX/aZ3x1+Lg\n",
       "EVTt/eGu01qLfnU463aF47SjwEHyf/uJKN8TMHEVr2A80uDZAjnA9VSZgQAABilBmy5JqEFsmUwI\n",
       "d//+qZYGHyOxHaIDWAIWf1WMHjf0M63tNNFMTfNIrz4TCzlpnGkW2rk0Mda08Wg7uK7IXxPXRPKR\n",
       "C1e/R0mkWtSUr2ictFLhWwNMzXPMCsKSt/wTlcGbd3UDTNX/ua/KGlddfxtjZ40rJ1jz3Z5/rGqE\n",
       "rQZPREeliPNCIWxfQI7bexShdTJIPBEFymExR1t5S7FcZ0F7HZNYIjDFZpje0ZBmLfM0Su1OFUBy\n",
       "NqJeD7CqKbC5CHLzhT+TM71vynLTyZdXm4GaL25XPbwJCJsuM4UBPcjoiKVw7rsmnkKGE4u2jbpX\n",
       "2Lvl8VGtGCBPeZqj4C5923OwJuXRBbH0EmijB6whb6MGMnjIWfq/Uhqu80ztwuuIOrGrTTE0V3hj\n",
       "ujIkYtWv5oZD568e7tirPJmTEqQZ42qBk9A5W8a9OrpNS/6KmMkRQQFhvdD/SobC3saFPZuU70a/\n",
       "CbDcfFLh8f3uQlbqf7xkF4n8A2FYsUvfy7HFglAQdo6jafKQt1epwUEallzMtc4pBcuqeOe93Zc1\n",
       "r6wjzDR1oV9m8LzvdD0zKEHPRHpI/2HxMdw8N8QNX0Qb/mz2I6zcWwZlNvMAnwcJRLIj7vHjSais\n",
       "LIHnIQKhuRyfIotkNQn9fuEhQ5gGCaM9LCDwTl8oHE3tyfgEQmSaTas9JZgiqH6TB9HKR1EdIiXZ\n",
       "6mvpr7neKDz05HQL1OKdvW5X9LwrNrvKZYm14owQcE7v6SyhThLawY9L9vC2oonfUxU1Sv3YOAy0\n",
       "uWKyPXtgO66Y9KOOKWe8ErYfFueN27V0j8M8sKOCvMQwUMBHHjZ4cfn632546Bgz2xVzJg/2a9nH\n",
       "Yr8ZbpY53EoUcHa5quu7JsByP1MUa03geHWnelCsolHk5nueiKNp7PxOq9ThMjHmyX/x0QsoCdwD\n",
       "IWj5IdGTBFK3mmSybRGSBKCnSVs222IDZXJdGheOItbvOuYSnkO54HmBlr+pk6MUX8Rtb6V6W21x\n",
       "i64CXHRert6apZ7kNX25ljn+Qw0FUsKFJ+1Uh1L1iLY07Wg74A9KYhYpfJ8resdQotg/Dypfei9S\n",
       "/AhlX/8o4bMKSb+DXcbn1DyLnTgYz85Zi5ezNF0kJh15C+3iM06p7xpEBbNzWB5rwlqOCPQaEaIk\n",
       "qf0UkFkvUr/iR8leAP7fSZr+3HiBb2SskZ9k3OZbyXrsXIXImKsxuGQHY6KqSTe9QYvXatbe/A+m\n",
       "uhy4mT52fwTJgMd3HEdqmoTn6aUbX0xYGMwehdBFCc5V7esBSkwHgzwcb545t9Ar0aL7a0L7EpUl\n",
       "37tM8NlaqfND0t2/koS1JO9Y3ukAomHw2PqnnFcZX1Kh/35BdaGeUjX4vQdaaoyKUj4T8H71B1uW\n",
       "D4Wpp6Kk+AnHhTwGhpR6sxMDd9Z6uB6+PFdIe1sE1WBLCWBt988PHQeh3kl+u8XcLg6K5HE7roYR\n",
       "oaHcRSvSAffiQcdUo1DROViKuHovB//E51gOz67mTVjuVs06WDi8eyPDcmS25+/59aR5sOtJx075\n",
       "H+erK3mXoyALd8ZIG3XI92kbz7ptb4PODFTQNK+c0mLeQFodpFVrugE9ooL3HLx0n5JAvUIbI6LP\n",
       "2qrlQeVykobm/Wy9p1Wa8bG+H3t529DpgitJ81iDeWQm3jnWOMlOJasV8t2wJs9SO9jTsGegG2Fr\n",
       "nShdEMHhVkCIR73xZIdTUrmGu61m4jPk0warxXjpeZOL3R7BVNmVMVg/1dMDu5TCfqVuyH9shW4l\n",
       "VW8zNEJbGdIjUEcUlnaj/ahQdYLSuE0kKaZ5+v1iHoHImksno7LzSY8B7JywIPH4aKpBzK76YRXP\n",
       "5T1ChKeqsrinS0tXZSTp4bXHnN+q+s5UOraRIsDLhbmbDNg2Ffm8rC8rzokoknVUbXGyHf7oyjUD\n",
       "3tkirBUlyU+QY7u0IntK6Jpxmsi/mg4yQ6yCLS3GmZ3aH6MsPxh6n3koIPRNO69WrLt6w2L4W4Me\n",
       "IugbsyoKnzxqXtJeUwv2n0HjfqyYj12nWwsX1TLcORJv0bW6KOOLH64mhHGDjN23zFhX44QVoElb\n",
       "dVKteFuY2VA4hrk+SogIOyV5ptZqN1UeSsC94AAAASxBn0xFFSwz/wGqwQIPKv13dREyfM25KhvR\n",
       "A8IJmMaBcwjmsYgHXADMPW51ygV0MIFTTdiRyLIHqxDwZAIEI3QkpcedxSCyqPGEML+go8diCSSY\n",
       "CjGMCizYkGj0HsOqkRmBD3dkcMaEiOjGO3HBEvfoxJVlnRMPNInzgyhdeBoLWEUBHpl5LQoSJljf\n",
       "vH4FZrb/Uu60BGbc8adQFGsCDqYRofgB//t9TArNSN3e9w7DuqU4cIf2O0SMX0VVhm1+VXh3U6Nv\n",
       "TdNaa+LBYwoNxje8Et1KSNTPHjKSJJaCGupqmPVqja4LD/VbScGHWbur/RRgvoFItiVaZ34wnO8U\n",
       "36FX610WY+qIxwJQOdVqQOF7FOj8Ig1WaiHKI7Q5ERqeFcmSQjOwVvEPCkL/gmoAAABTAZ9rdEK/\n",
       "As0zpcy8/ypRMoDAAEFYqqmTWnKaGhHmU9lFfk+LGeh9kp8t370Nv7vRIhJFKKJqHkWsGIIc4BPv\n",
       "Lsefu7sc35lJieKjOqb5YvyEhMEAAABPAZ9takK/As69zZGB/4bnKoTLwHrmw8MqRAAcvIrpuAZ0\n",
       "hHYe47aP+d0Npa2U2DnZoklX5nVv/99daqUvwaupcMAIFNIz7S7EFCbXh9l/VQAABTNBm3JJqEFs\n",
       "mUwId//+qZYIXtoad3dZbo9evjL261EAJf9rxioqZu3Gk/CDjMxb+8IyNtnmXTgMIifYYHy2F522\n",
       "GzuEgpvCVbLktNIuX41jfCOUwcUc+Koa1xtLb6yqyJI3fKbe/TTsvLVpIyeYB5iOAi/kgJpQqbhD\n",
       "teA/g2sfkBSj/Pf5+pfcBb3E9VX2sRntt6E9FQz8VFf9oLj2X3JFuLqlMBK8O3JcYfhEYa1eZ3LN\n",
       "h8f/w4FSdYOxwyVTS+Uzfux3L7ni7Sq1bZnYyMItI3sR72FInLOb+G5t4ek/815LuHbKsjKeqyEi\n",
       "L+BZBHMQiY620i36Y5ud4ByOjWnqfqhZDKz1nXnZLQ07mmPIC2j3Mg68vJjxEKR3NBYfkXuI2yKL\n",
       "4iGlhjzjRtm1phb8DjVzEmAc/ZUM2s9R/4+AhrxxdowHlUhT6Y7ePVfXkeo+grSW3VaH0xh4LLrk\n",
       "hPvYADmfQpGMCFK+pLeLmcK2e8M9XPQ4Ni0CLeyQKwJk7A+eVCxpv4FJTk4FDefdTQIeQkiNIkvR\n",
       "zv9aH/ZZ1KkdBP+z4loctZNoHX4zj3ownqG/8IZzfRfcQPplTgK+o8nnPGDTgkTeB/VWQ7a2hXuM\n",
       "L8+2XMuUt04Oqq/PqUT4RhegQIsZDlLx58CftkIh3pPnPnKI0NRKqaLqTMIOkTsQyMlFTW8WPmaw\n",
       "URYnSSs4Ytwj8+V5nLVEte4sTY2O3U1Nh36bplpdwnoFjzjZhUCOA/vaelAtfCLMS9d3D1TcIjGI\n",
       "VB6Fd7HnscZ4D31HmkdP5ugVC/uS2cJKWOwfbnsSlw9DZs7QMGmdXyH/HS882DYRxXQEDxomf+t1\n",
       "ltptD4CeUo2m6pUyjfMXZGVullMUq3iJnWqBlEZj4OiX+UqkFnG18PG2CCCQsvQTGfmNIEqyYiif\n",
       "U5LtbF/su9wkMEyf/rfvfAwYNol9DKoYjbW2hj/XdE10gzACnT82/ij79wGqYgE0igwnnwYW08d9\n",
       "F7b2WSfXuE4hN8nfD9hsRiMR8Ym3Pdlo6l9AVnirZz7fER6sbr/332y2xdTkOfFgqkBJdLpaj45K\n",
       "dQpDq9BNo+rkO+ftVT71xCC+g6MMqa2qk204FrmCmD0/Qq5267huZLwRV17SBDgrdi3Rcn+HxBMg\n",
       "cmlx5IY2Ugqvbc5Hb7qvNnV3bYGpAHTBhk8U9GYtI9TdAnewKvBUN2HnjoA15XZaadwkyOsn3Z2H\n",
       "W/pGQ9iXVMAS5NYrsgNM76AMOwd7MnHUIT0PTkw3gXzsI2ncw8GHVhAgYRaifT2N5zhJnfThnrxz\n",
       "bmuPHZB9DIzQh1ScKwH0r4kBhzFhBoX3mOlS3G4wmxRNfX00/6isYpXQ9OduzPFBWey7Fscn9rlj\n",
       "rrQOwiqHZjmU8YX+hGQCawEhjVpqo5id9NOo2Q5FOnDTKnoX+6r43ut4+5tohEfim9lOHcUiCWVI\n",
       "UU56iRoHBXB6kaMoaVAmVhJHG1ndmA/uO+sZBnUbDMsOn17OAH6MDtTIihvTUOJ4WaI2etRyG/sm\n",
       "DWpiFl8C/jbULUZOXX7uQBzj+xVgeH3dPTZ356zXqh2H2Laj9In0XQMZHLIUlCyFckxPRLqtRuRc\n",
       "Zum83N2JiUllEycNF4vsmHJiyFZ2Dc47QjqVc6PaQ4bkYCeUxGXXN3XgXdYdeY7va2tqVbKVo9cO\n",
       "/QSiLavo8+g1s12Mz0y46xyC4jJswd5HkGJXlUHZDypP34c9dVeWEZoozgu+mkxyPrlWVFG5GPe3\n",
       "+FJ434qsqqLJS6/HmwAAATFBn5BFFSwz/wGqwQINbVa+q6On1OBA4ZKM1M84poIRuUAGq+50O/1v\n",
       "EKoCB658Da6f9UWV8p1D5qMce//QBM6oiOTi6PGBDZTpOWaKa8JLnfP7vEoSS/DmHnL21DjpFaFH\n",
       "KEHZeT3X8zR5qqQgc9e5KvkxSL9+VJ9N55PnCVTxUntaAWlLwoTdV2j4VLu8zAgfFkh+sPIAaELs\n",
       "VagWnHfdhl9uJ5Wn9EUDwb+OxEwttaGVTRs9KQPRdeYxGO/S7/frkkmWxUY32t9KhOFLCSSfMdmF\n",
       "WiEkT45snWzqNX+2aWmPAVKcD68+c9NQcCbZAz5uwTzl/Ti4+uiN/4YY8p3GbRUCUvZiKzzFfi50\n",
       "Uz8ZZNZhe7PnkZxyZ3rWW5eYfg6C/Vz/XoeZU5p36hvWJ8ph7wAAAFcBn690Qr8CzS2QQ0j7p+3m\n",
       "z2np8Qu80C6N9T4gCFj+5HZwx9exVLNPRH2A3IfQp4DYAbIOwCq0nEKw4TSI5gCZeY5eQrZI05mo\n",
       "YGj29HZNTZSTSw4+EyEAAAA6AZ+xakK/As69zZFeaEbOdDonaqyKYu6jopyTRagAOFwYremQKfnp\n",
       "Q2Wg0YNs8P/3DfU5ayiSHzUiNwAAA8dBm7ZJqEFsmUwId//+qZYIXtoL9AYH+oAPdiwxWdMNs22R\n",
       "PW6sH8HjgqvnHt6rl5ZH0+GaKF6Y2wkyd5R3ZLx1ttmSIIF1lM5LZxhE7f42S2nSbumWZRAovVcp\n",
       "WFAAAAMAeg4zCGRo2ucZGPICciRy4Sa2ZIxMfMx9mww0K4AIfcX38ORbfj/4AxVbPd6BtHIrF272\n",
       "L6KeVt6WTsOX85/ySWJEoaIh64X7ztNCmoHNvUK6D92uZSCWkLOzWG27LZy1YcmucSkuzVU2Pexb\n",
       "T8lFC98R1HF3Hx5LzErKGVed4ho6uzHhrZZggtbv/5vOXDsTfpXjTkQhm+JhF9tzBNZDMk2Hqu26\n",
       "Bs9BXnIT1UyItW40QfTK+dn3VtTWrrMGiqrLTJm5IexP84smltdY1a3dYcm0RuqFa0XuvV8FjuHq\n",
       "MKHimrRhZLQr17jf6C/vHtT5g/TFc+UK2csk6y/vckO8L/62M2iRHWzGV1QTvdAUtdKNlnKPROa0\n",
       "8t5mgZvqX6ewiawQSYZ6MWfBG2tizKMyYE9sUHj8reGS8DjRiALVNB74HbqFMYQsBhjoKKlR41Im\n",
       "vSdu0Obo08jBMifMR7fhWNtRZpcy7ZYdb0pN2iJilIGA3YcYJj82ZAKU9KjOrN7vb7oQNaEPHjID\n",
       "6I9yXxRo8tM0oDf0AjuSA0dA0tFoE+hzFPBFp6BZnyXGB+FO143l6/4eY9+sPmJLLiWCCUspKeZt\n",
       "OqMNfWki9RcemzYJMEhvTuef5+drpIDt4jN3hcq5eKpt3diWTuHeShOXBerOggwIJmcik9IY/w6d\n",
       "3Rrs1h1Idg3sQ8ips/1blRUMGqq5rAWG7N60dOby7bnHpMxYH2hjrfgn96wRPmLOAAofnU0EZvNu\n",
       "XmCJwUMNuxUXXHEkvl+SZZYNdgX07/Ibn1K68rSCsvD1Dw8MuAGP32qqLX87KMqOFbAk0W2UQy9H\n",
       "V6eUaMwG47Ix25MFrPnZWM0h3bSobXnZccbvvcjovurrAZzeyskTunUdX58udzrvIgS0LkUaiezs\n",
       "U+O8iXZIyYCYuZ64PLj4NrctmREkhHequrd3SuTroEwERUUJeeKp8hPyqHrS+E0byhTXkN2ILtiY\n",
       "dNRo2RPIv43lX8HhHgu1iL8U9mimzFLHI/82OViYS384wjdKj+UcHsqIOcGJj+K2vTKR5MtqEW42\n",
       "E8BbmBsfHJkEqoPg9qlCsY+O8O1s/GtFDP12+BIA95e228SeX3bbXeyTpopIP4HlOI8Bj4Ay776l\n",
       "IzVXMLxIFbqq6QoN+vRWw2eSXjGAAAAA+kGf1EUVLDP/AarBAg1i9vx1yOdgFm3o6h4ycS2gcVjO\n",
       "nn6MxunL035Q5ADVDkI9NqmXBr7PktlcENDBn/mFYmuSJO1luKAywsqa4xBHdDSVS7hUPBsWCdiR\n",
       "V4PS2FtAkk3XOQvJ1TKPjt0gi0sRjbDZEblnjjahr5WnaDq7sWk1Xd7v3KP+0/TgHIFI0GCZ9qhg\n",
       "3GiXGmOWcuaYOyhst5k1PIOUxrHDSf7XyVCCTDZOB/u6dC6PAJkKPffXaw8FMsVdMpGsfQq1SMVy\n",
       "cyMtb4UrcmTG8MJNAIlwif4Wi5ZyVEczH1q5hrIlVr35K3QAsLbPZmYwsQcvNeAAAABqAZ/zdEK/\n",
       "As0tkEMBXbPlE8ets+JsAAIRCmegB4XT6gOvYeXgDzttT8S40pPZbvxiZSHjyscCBZNyVlx3dNxM\n",
       "6SK7TbBDrZ9ENU1p+vh59jV/YznJNGwX5Nyvl0UT87AOAquU5+IIPPYtwQAAADwBn/VqQr8C7r3K\n",
       "jGMTrx0/FfObbQgU8AQRUNqozpXg4qgBYhlkc//eJ4wOZNvxZ1mCxHAEOA1GvC37nxAAAALCQZv6\n",
       "SahBbJlMCGf//p4QNdixikwwfPDkVOWAEIHDs/djpYUODvOX63gb2M6mg/zIu8S/2ArxgEqa4vM7\n",
       "2N41pf/IX8dsywdzk1kjsesLpIEWKeBunhE4CC8tl4AeymxlPlqc1D/OrFerTXiogB2a6rKYWLW9\n",
       "DCVVvgklb1f4JJB4056kX4xmsNOf+x02dI5uKq7CVethedr/XeRxJeRHXE7OfBPyrOhCOQlQ2dzl\n",
       "LxiA07KXy3sbu9mEXZqsuXC7x50sja02zGst7kG7DukJVO4spdSrzt7Ihvkf3UKFxwevWEkng7ML\n",
       "9SL+L4s1DuQLGaC1sZ/8nPmIrOmf3dJ59DG8r7oHOiG1+flQHHroZ9e3sbNQVWPE7iCk5vRYa1Ga\n",
       "i3W1iZ6ecl/rkkd0geaH3JpStJ/UlY/lzagSANSBx6WzM0VSe6KqzqS0GiSRq0vrNKkVZj8Tjzgl\n",
       "GhR518curSILX9s03JE1DGfkAQ56WGV/OkJfY10ZJxBnJtZFMIyA7exRCFpu2DJOs26B3RT5xKgW\n",
       "/RbYcnOZS3Apxq9WIDfFygEdgVSLY5fk9IM7iMYlF3lTg7xbRcJYwbZCBFIvS+GtlLYoSu578oSa\n",
       "JTRWXnrDOID1V4wLt37bPq/CIv66huyQCZL05nQnP2Z20s7CWddMlfPwgWEtYIAJ4I6m52+E9KJg\n",
       "5/iO1I0szrNLAuxa0nPBK9D28DBnZPWVe9NkYXQJeG0Fds77cJh3Z+1rzhBoDZUySjGOjNV1/qnT\n",
       "roLA+/428j5vVv5JSBk83dKOOMEBRG3j3l047mb/cSqbjawT34Zdz/bCiqmDEHju9jMFveDkMrHZ\n",
       "KkrgQ6Lm5VjUgFwMAGCPAkWTuN6tdBZQAFz2OiHpkpLrA3aI7JsqgpMB+yI5WyiRt3UK8HfUpDK5\n",
       "nMLik3Ui3N//3Qg8TxjGuj9t+QAAARVBnhhFFSwz/wGqwQINYgbCQkMcYo/Aj5VqbaYZACCdqjEb\n",
       "rW4EJcEULeu1HBxa5IYd4QizKOKwyDUFJfMpF6lHKNc9sSkB89InWu/Jr7xdkNmS/kMcBnaII4lq\n",
       "gWphPuJVHw5SEIbHH6zCwObgb2mEa4x1YSjB1xmh1mJ0Rn3GH0fvtz823BeNkId3S1FSs7QcrT5I\n",
       "G1LjT9jNs9m5O/vo1AhbKklNzWVmOYSq+0D+DwJIWKQK2iWUXi0Lf5zyJHCxo3XTCVt99bWqxXDt\n",
       "c5Jw8kb/qKg96YMZuBFQ1wceezgIblFbDCakyxiCJz2dQQ26RllmG/Q/4zJBnrNywmg3hqBPlJcz\n",
       "XAvF8Ga8PE/OCpDNFryBAAAARwGeN3RCvwLtLYoKk9Zzbhf5BXy3EFFuP5gQ15mNf/wAFWZZed1k\n",
       "8XYONLJrR72/rwJ3vnexnUFenJZbhXd8V9boP+myhJaAAAAATQGeOWpCvwLuvcqMYxOvOPpiEqTj\n",
       "zwACDlnaXSmIV/yo5vkNDd0xWBpUPQWbVk0slZ+MdoRlajh4mjWqrU+MMjTgafEZXBOmfBugMDbD\n",
       "AAACoEGaO0moQWyZTAhX//44QLtmaxxYpGJocsp41vfUAGiWNs70ctfot2najtWAP1n1rX4vLXeI\n",
       "Cv+4AhES1k8ZYYUlG+T70MsfSpHsGu/hc7WCYSDaftJCYfx0k6I+Pz6lpNRDeG9wZULUslZD69iB\n",
       "IC57Q8DjkFHRu8PvM94J2MtDMFeHqaHPbMeq0Q/+Bd/nfV9NKG84OzPLVadXHA/KT3xmfCh2401W\n",
       "okFY4TXbEIv/jQsEZ6WzxeLYl/SbVpb4jjXgDSIhv0cZ8SnD+1cfHDnYFvBzNNVgYLAqOIDhtc4d\n",
       "fJCkZoUIlqJ9UABArgfgMmuhW9G/xDvHj8D5pqCBfSDtqSOuhzbkz8qIr3E4ENdHvcmguV+cQ1SS\n",
       "deBQLPzG6tOTEAbAEwknYLKwE78L6uGVWb0XQ5rVL0w9nSHg2+ncQEF99+HgHuXBWcnCmXFg23Xr\n",
       "zemiv6XapJlQ0nT9lyGJMuOcwIRXZ8C18Rr8palZy95T3YvOA7LxSr+gxek21iKcNi+lEbiI0EKL\n",
       "/pPq9QuLgYCQ2xkevMKa9X9SCaeavAmeD4T0ns7Fj1EQjjLFlVGyJjdhXralsBWm+NuCW3CpiVHW\n",
       "8sDb7ZUuuXecMtHMPgcsNllauwDILRvaf2Yv8jJKhs0ehMnYG8GHrVjxMN+g0C23+lpPw4SS1dnu\n",
       "KIChyaTnCZHi/1ttI21k1oVsFgBf6HFoV2eB8F8vI+8f7JsqSFSSSFxLejj2Cg8ZqUahq2JLpTBQ\n",
       "bH/BqRUgaFixNNC6v+E21RVEfZ300YYU8Z5C5gIjDtjejlXoWe7is3Sr+qbT8XcI9ejRiNnHQOEY\n",
       "0jzfSJfezi/C1WbuIVGRlU3H+4kLimgdVxGqP3IOiFrpIzcDrsarhy1CWDiWEbM6QAAABcltb292\n",
       "AAAAbG12aGQAAAAAAAAAAAAAAAAAAAPoAAALuAABAAABAAAAAAAAAAAAAAAAAQAAAAAAAAAAAAAA\n",
       "AAAAAAEAAAAAAAAAAAAAAAAAAEAAAAAAAAAAAAAAAAAAAAAAAAAAAAAAAAAAAAAAAAACAAAE9HRy\n",
       "YWsAAABcdGtoZAAAAAMAAAAAAAAAAAAAAAEAAAAAAAALuAAAAAAAAAAAAAAAAAAAAAAAAQAAAAAA\n",
       "AAAAAAAAAAAAAAEAAAAAAAAAAAAAAAAAAEAAAAABsAAAASAAAAAAACRlZHRzAAAAHGVsc3QAAAAA\n",
       "AAAAAQAAC7gAAAQAAAEAAAAABGxtZGlhAAAAIG1kaGQAAAAAAAAAAAAAAAAAACgAAAB4AFXEAAAA\n",
       "AAAtaGRscgAAAAAAAAAAdmlkZQAAAAAAAAAAAAAAAFZpZGVvSGFuZGxlcgAAAAQXbWluZgAAABR2\n",
       "bWhkAAAAAQAAAAAAAAAAAAAAJGRpbmYAAAAcZHJlZgAAAAAAAAABAAAADHVybCAAAAABAAAD13N0\n",
       "YmwAAACXc3RzZAAAAAAAAAABAAAAh2F2YzEAAAAAAAAAAQAAAAAAAAAAAAAAAAAAAAABsAEgAEgA\n",
       "AABIAAAAAAAAAAEAAAAAAAAAAAAAAAAAAAAAAAAAAAAAAAAAAAAAAAAAAAAY//8AAAAxYXZjQwFk\n",
       "ABX/4QAYZ2QAFazZQbCWhAAAAwAEAAADAKA8WLZYAQAGaOvjyyLAAAAAGHN0dHMAAAAAAAAAAQAA\n",
       "ADwAAAIAAAAAFHN0c3MAAAAAAAAAAQAAAAEAAAHYY3R0cwAAAAAAAAA5AAAAAgAABAAAAAABAAAK\n",
       "AAAAAAEAAAQAAAAAAQAAAAAAAAABAAACAAAAAAEAAAoAAAAAAQAABAAAAAABAAAAAAAAAAEAAAIA\n",
       "AAAAAwAABAAAAAABAAAKAAAAAAEAAAQAAAAAAQAAAAAAAAABAAACAAAAAAEAAAoAAAAAAQAABAAA\n",
       "AAABAAAAAAAAAAEAAAIAAAAAAQAABAAAAAABAAAKAAAAAAEAAAQAAAAAAQAAAAAAAAABAAACAAAA\n",
       "AAEAAAoAAAAAAQAABAAAAAABAAAAAAAAAAEAAAIAAAAAAQAABAAAAAABAAAKAAAAAAEAAAQAAAAA\n",
       "AQAAAAAAAAABAAACAAAAAAEAAAoAAAAAAQAABAAAAAABAAAAAAAAAAEAAAIAAAAAAQAACgAAAAAB\n",
       "AAAEAAAAAAEAAAAAAAAAAQAAAgAAAAABAAAKAAAAAAEAAAQAAAAAAQAAAAAAAAABAAACAAAAAAEA\n",
       "AAoAAAAAAQAABAAAAAABAAAAAAAAAAEAAAIAAAAAAQAACgAAAAABAAAEAAAAAAEAAAAAAAAAAQAA\n",
       "AgAAAAABAAAKAAAAAAEAAAQAAAAAAQAAAAAAAAABAAACAAAAAAEAAAQAAAAAHHN0c2MAAAAAAAAA\n",
       "AQAAAAEAAAA8AAAAAQAAAQRzdHN6AAAAAAAAAAAAAAA8AAAc6AAAB74AAAYRAAACdQAAAI0AAAB1\n",
       "AAAERQAAAXoAAACEAAAAdQAABZcAAAPoAAAGigAABPUAAAFwAAAAbQAAAJkAAAXkAAABcwAAAHwA\n",
       "AACYAAAHTAAABwgAAANWAAAAmgAAAI0AAAWUAAAB6wAAAHcAAAB6AAAH2QAABtEAAAOCAAAAzAAA\n",
       "AGsAAAZCAAABmwAAAHIAAABfAAAGJwAAAV8AAAB7AAAAZgAABi0AAAEwAAAAVwAAAFMAAAU3AAAB\n",
       "NQAAAFsAAAA+AAADywAAAP4AAABuAAAAQAAAAsYAAAEZAAAASwAAAFEAAAKkAAAAFHN0Y28AAAAA\n",
       "AAAAAQAAADAAAABhdWR0YQAAAFltZXRhAAAAAAAAACFoZGxyAAAAAAAAAABtZGlyYXBwbAAAAAAA\n",
       "AAAAAAAAACxpbHN0AAAAJKl0b28AAAAcZGF0YQAAAAEAAAAATGF2ZjU2LjQuMTAx\n",
       "\" type=\"video/mp4\">\n",
       " Your browser does not support the video tag.\n",
       "</video>"
      ],
      "text/plain": [
       "<IPython.core.display.HTML object>"
      ]
     },
     "execution_count": 902,
     "metadata": {},
     "output_type": "execute_result"
    }
   ],
   "source": [
    "fh=figure()\n",
    "ax=gca()\n",
    "def animate_tr(i):\n",
    "    \n",
    "    x = 0.1*i - 3\n",
    "    y = 0\n",
    "    \n",
    "    hyper_imcode2 = hyper_imcode * X_hyperpos**(x) * Y_hyperpos ** (y)\n",
    "\n",
    "    ic_code = inv_hyper_imcode(hyper_imcode2, X_hyperpos, Y_hyperpos, ic_comp_hyperpatch, img_pad.shape, stride, patch_size)\n",
    "    ic_im = draw_ic_im(ic_code, ic_comp, mean01, img_pad.shape, stride, patch_size)\n",
    "    \n",
    "    ax.cla()\n",
    "    ax.imshow(ic_im)\n",
    "\n",
    "tanim = time.time()\n",
    "anim = animation.FuncAnimation(fh, animate_tr, frames=60, blit=False)\n",
    "display_animation(anim)"
   ]
  },
  {
   "cell_type": "code",
   "execution_count": null,
   "metadata": {},
   "outputs": [
    {
     "name": "stdout",
     "output_type": "stream",
     "text": [
      "mnist_resonance-resonance_animation-clear_stride=2-N=5000171027.mp4\n"
     ]
    }
   ],
   "source": [
    "fname = 'mnist_resonance-resonance_animation-clear_stride='+str(stride)+'-N='  + str(N) + time.strftime('%y%m%d') + '.mp4'\n",
    "print fname\n",
    "anim.save(fname, fps=10, extra_args=['-vcodec', 'libx264'])\n",
    "print ('\\ntotal time: %2.2f ms' % (1000*(time.time() - tanim)))"
   ]
  },
  {
   "cell_type": "markdown",
   "metadata": {},
   "source": [
    "In[937]\n",
    "http://128.32.158.211:8888/notebooks/HDlanguageDetection/resonance_hdmsc-decorr-170131.ipynb"
   ]
  }
 ],
 "metadata": {
  "kernelspec": {
   "display_name": "Python 2",
   "language": "python",
   "name": "python2"
  },
  "language_info": {
   "codemirror_mode": {
    "name": "ipython",
    "version": 2
   },
   "file_extension": ".py",
   "mimetype": "text/x-python",
   "name": "python",
   "nbconvert_exporter": "python",
   "pygments_lexer": "ipython2",
   "version": "2.7.13"
  }
 },
 "nbformat": 4,
 "nbformat_minor": 2
}
