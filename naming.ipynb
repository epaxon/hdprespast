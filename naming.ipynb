{
 "cells": [
  {
   "cell_type": "code",
   "execution_count": 16,
   "metadata": {
    "collapsed": false
   },
   "outputs": [],
   "source": [
    "import numpy as np\n",
    "import string\n",
    "N = 10000\n",
    "alphabet = string.ascii_lowercase\n",
    "D = len(alphabet)\n",
    "z = np.ones(N)\n",
    "RI = np.random.rand(D, N)\n",
    "RI = np.where(RI>0.5, 1, -1)\n",
    "\n",
    "def load_dataset():\n",
    "    with open(\"names/popular-female-first.txt\") as f:\n",
    "        fnames = f.readlines()\n",
    "    with open(\"names/popular-male-first.txt\") as f:\n",
    "        mnames = f.readlines()\n",
    "    fnames = [x.lower().strip(\"\\n\") for x in fnames]\n",
    "    mnames = [x.lower().strip(\"\\n\") for x in mnames]\n",
    "    return fnames, mnames\n",
    "\n",
    "def letter_combos(names, windows=[2, 3, 4]):\n",
    "    letters = [set(), set(), set()]\n",
    "    for name in names:\n",
    "        length = len(name)\n",
    "        for w in windows:\n",
    "            for j in range(length-w):\n",
    "                letters[w-2].add(name[j:j+w])\n",
    "    letters = [list(x) for x in letters]\n",
    "    return letters\n",
    "#sketchy\n",
    "def ngram_encode(ngram_str, letter_vecs, windows=[2,3,4]):\n",
    "    vec = np.zeros(letter_vecs.shape[1])\n",
    "    full_str = ngram_str\n",
    "    for window in windows:\n",
    "        for il, l in enumerate(full_str[:-(window-1)]):\n",
    "            trivec = letter_vecs[alphabet.find(full_str[il]), :]\n",
    "            for c3 in range(1, window):\n",
    "                trivec = trivec * np.roll(letter_vecs[alphabet.find(full_str[il+c3]), :], c3)\n",
    "\n",
    "            vec += trivec\n",
    "    return vec\n",
    "\n",
    "def names_vec(names):\n",
    "    vec = np.zeros(RI.shape[1])\n",
    "    for name in names:\n",
    "        vec += ngram_encode(name, RI)\n",
    "    return vec\n",
    "        \n",
    "def encodes(ngrams, windows=[2,3,4]):\n",
    "    matrix = np.zeros((len(ngrams), N))\n",
    "    for i in range(matrix.shape[0]):\n",
    "        matrix[i] = ngram_encode(ngrams[i], RI, windows)\n",
    "    return matrix\n",
    "\n",
    "#complete up to additional tetragram?\n",
    "def autocomplete(prefix, vec, combos, combos_vec, windows=[2,3,4]):\n",
    "    length = len(prefix)\n",
    "    num_suffixes = len(combos)\n",
    "    for i in range(length):\n",
    "        pref = ngram_encode(prefix[:i+1], RI, windows)\n",
    "        est = pref * vec\n",
    "        suf = np.roll(pref, i)\n",
    "        for j in range(num_suffixes):\n",
    "            max_i = np.argmax(combos_vec[j].dot(suf))\n",
    "            print prefix[:i+1] + combos[j][max_i]"
   ]
  },
  {
   "cell_type": "code",
   "execution_count": 10,
   "metadata": {
    "collapsed": false
   },
   "outputs": [],
   "source": [
    "f, m = load_dataset()\n",
    "fvec = names_vec(f)\n",
    "mvec = names_vec(m)\n",
    "\n",
    "fngram_combos = letter_combos(f)\n",
    "mngram_combos = letter_combos(m)\n",
    "\n",
    "prefix = \"pax\""
   ]
  },
  {
   "cell_type": "code",
   "execution_count": 11,
   "metadata": {
    "collapsed": false
   },
   "outputs": [
    {
     "name": "stdout",
     "output_type": "stream",
     "text": [
      "pck\n",
      "palo\n",
      "pmyro\n",
      "pack\n",
      "paalo\n",
      "pamyro\n",
      "paxck\n",
      "paxlor\n",
      "paxrove\n"
     ]
    }
   ],
   "source": [
    "fngram_combos_vec = [encodes(x, [3, 3, 3]) for x in fngram_combos]\n",
    "mngram_combos_vec = [encodes(x, [3, 3, 3]) for x in mngram_combos]\n",
    "autocomplete(prefix, mvec, mngram_combos, mngram_combos_vec, [3, 3, 3])"
   ]
  },
  {
   "cell_type": "code",
   "execution_count": 17,
   "metadata": {
    "collapsed": false
   },
   "outputs": [
    {
     "name": "stdout",
     "output_type": "stream",
     "text": [
      "pck\n",
      "palo\n",
      "pmyro\n",
      "paoh\n",
      "panci\n",
      "papedr\n",
      "paxli\n",
      "paxeli\n",
      "paxfeli\n"
     ]
    }
   ],
   "source": [
    "fngram_combos_vec = [encodes(x, [2, 3, 4]) for x in fngram_combos]\n",
    "mngram_combos_vec = [encodes(x, [2, 3, 4]) for x in mngram_combos]\n",
    "autocomplete(prefix, mvec, mngram_combos, mngram_combos_vec, [2, 3, 4])"
   ]
  },
  {
   "cell_type": "code",
   "execution_count": null,
   "metadata": {
    "collapsed": true
   },
   "outputs": [],
   "source": []
  }
 ],
 "metadata": {
  "kernelspec": {
   "display_name": "Python 2",
   "language": "python",
   "name": "python2"
  },
  "language_info": {
   "codemirror_mode": {
    "name": "ipython",
    "version": 2
   },
   "file_extension": ".py",
   "mimetype": "text/x-python",
   "name": "python",
   "nbconvert_exporter": "python",
   "pygments_lexer": "ipython2",
   "version": "2.7.11"
  }
 },
 "nbformat": 4,
 "nbformat_minor": 0
}
