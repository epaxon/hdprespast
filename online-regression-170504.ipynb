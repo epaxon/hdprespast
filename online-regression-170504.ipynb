{
 "cells": [
  {
   "cell_type": "code",
   "execution_count": 7,
   "metadata": {
    "collapsed": true
   },
   "outputs": [],
   "source": [
    "import csv\n",
    "import numpy as np\n",
    "import utils\n",
    "import hrr_utils\n",
    "import time\n",
    "import scipy\n",
    "import random\n",
    "\n",
    "from sklearn import linear_model\n",
    "from sklearn.kernel_ridge import KernelRidge\n",
    "from sklearn.linear_model import SGDRegressor\n",
    "from matplotlib import pyplot as plt\n",
    "from matplotlib.collections import LineCollection\n",
    "%matplotlib inline \n",
    "\n",
    "plt.rcParams.update({'axes.titlesize': 'xx-large'})\n",
    "plt.rcParams.update({'axes.labelsize': 'xx-large'})\n",
    "plt.rcParams.update({'xtick.labelsize': 'x-large', 'ytick.labelsize': 'x-large'})\n",
    "plt.rcParams.update({'legend.fontsize': 'x-large'})\n",
    "plt.rcParams.update({'text.usetex': True})"
   ]
  },
  {
   "cell_type": "code",
   "execution_count": 1,
   "metadata": {
    "collapsed": true
   },
   "outputs": [],
   "source": [
    "N=1000\n",
    "\n",
    "def genX(verbs, indices):\n",
    "    X = np.zeros((len(verbs), N)) # Exclusively difference PAST1-PRES1\n",
    "    PRES1 = np.zeros((len(verbs), N))\n",
    "    PRES2 = np.zeros((len(verbs), N))\n",
    "    PAST1 = np.zeros((len(verbs), N))\n",
    "    PAST2 = np.zeros((len(verbs), N))\n",
    "    \n",
    "    for m in range(len(indices)):\n",
    "        pair = verbs[indices[m]]\n",
    "        past1 = hrr_utils.GetRVClipHash(pair[1], dic1, 3)\n",
    "        past2 = hrr_utils.GetRVClipHash(pair[1], dic2, 3)\n",
    "        pres1 = hrr_utils.GetRVClipHash(pair[0], dic1, 3)\n",
    "        pres2 = hrr_utils.GetRVClipHash(pair[0], dic2, 3)\n",
    "        PRES1[m] = pres1\n",
    "        PRES2[m] = pres2\n",
    "        PAST1[m] = past1\n",
    "        PAST2[m] = past2\n",
    "\n",
    "    #X = np.where(PAST1-PRES1 > 0, 1, -1)\n",
    "    X = PAST1-PRES1\n",
    "    return X, PRES1, PRES2, PAST1, PAST2\n",
    "\n",
    "\n",
    "def closed_train(Past, Present):\n",
    "    return np.dot(np.linalg.pinv(Present,rcond=5e-2), Past)\n",
    "\n",
    "def loss(W, X_train, y_train, lnum=1):\n",
    "    lost = norm(np.dot(X_train,W) - y_train, lnum)\n",
    "    return lost\n",
    "\n",
    "def train(X_train, y_train, reg=0):\n",
    "    ''' Build a model from X_train -> y_train '''\n",
    "    xtx = X_train.T.dot(X_train)\n",
    "    return scipy.linalg.solve(xtx + reg*np.eye(xtx.shape[0]), X_train.T.dot(y_train), sym_pos=True)\n",
    "\n",
    "# no regularization yet\n",
    "def train_gd(X_train, y_train, model, alpha=0.1, reg=0):\n",
    "    ''' Build a model from X_train -> y_train using batch gradient descent \n",
    "        Gradient update equation: W = W.T(X.TX) - y.TX + 2alphaW.T\n",
    "    '''\n",
    "    \n",
    "    gradient = 2*np.dot(model.T, np.dot(X_train.T,X_train))\n",
    "    gradient -= 2*np.dot(y_train.T,X_train)\n",
    "    gradient += 2*reg*model.T\n",
    "    gradient = gradient.T/X_train.shape[0]\n",
    "    model = model - alpha * gradient\n",
    "    return model\n",
    "\n",
    "def train_sgd(X_train, y_train, model, i, alpha=0.1, reg=0):\n",
    "    ''' Build a model from X_train -> y_train using stochastic gradient descent \n",
    "        Gradient update equation: W = W.T(X[i].TX[i]) - y[i].TX[i] + 2alphaW.T\n",
    "    '''\n",
    "    #i = int(np.random.uniform(low=0,high=X_train.shape[0]))\n",
    "    gradient = 2*np.dot(model.T, np.outer(X_train[i,:].T, X_train[i,:]))\n",
    "    gradient -= 2*np.outer(y_train[i,:].T, X_train[i,:].T)\n",
    "    gradient += 2*reg*model.T\n",
    "    gradient = gradient.T/X_train.shape[0]\n",
    "    model += model - alpha * gradient\n",
    "    \n",
    "    return model\n",
    "\n",
    "def predict(model, X):\n",
    "    ''' From model and data points, output prediction vectors '''\n",
    "    return X.dot(model)\n",
    "\n",
    "def sim(x, y):\n",
    "    if len(x.shape) == 1 or len(y.shape)==1:\n",
    "        return np.dot(x, y)\n",
    "    return np.sum(np.multiply(x, y), axis=1)\n",
    "\n",
    "def round_to_tick(number):\n",
    "    \"\"\"Round a number to the closest half integer.\"\"\"\n",
    "    return round(number * 2) / 2\n",
    "\n",
    "def graph(x, y1, y2, y1std, y2std, title=None, xlabel='number of words', ylabel='average dot product', legend='upper left'):   \n",
    "    fig = plt.figure(figsize=(4,3))\n",
    "    plt.tick_params(axis='both', which='major', labelsize=12)\n",
    "    plt.tick_params(axis='both', which='minor', labelsize=12)\n",
    "    plt.xticks(np.arange(0, 1701, 400))\n",
    "    \n",
    "    start = round_to_tick(min(min(y1), min(y2)) - max(max(y1std),max(y2std)))\n",
    "    end = round_to_tick(max(max(y1), max(y2)) + max(max(y1std),max(y2std)))\n",
    "    \n",
    "    plt.yticks(np.arange(start-.5, end+.5, .5))\n",
    "    plt.plot([0, 1700], [0, 0], 'k')\n",
    "\n",
    "    plt.plot(x, y1, c='b', lw=2, label='Train')\n",
    "    plt.plot(x, y2, c='g', lw=2, label='Test')\n",
    "\n",
    "    plt.fill_between(x, y1-y1std, y1+y1std, facecolor='b', alpha=0.1)\n",
    "    plt.fill_between(x, y2-y2std, y2+y2std, facecolor='g', alpha=0.1)\n",
    "\n",
    "    plt.legend(loc=legend,fontsize=12)\n",
    "\n",
    "    plt.xlabel('Number Training Examples',fontsize=16)\n",
    "    plt.ylabel('Feature Similarity',fontsize=16)\n",
    "    plt.title(title,fontsize=16)\n",
    "\n",
    "    plt.xlim([0, 1700])\n",
    "\n",
    "    plt.tight_layout()\n",
    "# https://matplotlib.org/api/lines_api.html\n",
    "def graph_separate(x, y1, y2, y1std, y2std, \\\n",
    "                   y1irregular, y2irregular, \\\n",
    "                   title=None, xlabel='number of words', ylabel='average dot product', legend='upper left'):   \n",
    "\n",
    "    fig = plt.figure(figsize=(4,3))\n",
    "    plt.tick_params(axis='both', which='major', labelsize=12)\n",
    "    plt.tick_params(axis='both', which='minor', labelsize=12)\n",
    "    plt.xticks(np.arange(0, 1701, 400))\n",
    "    start = round_to_tick(min(min(y1), min(y2)) - max(max(y1std),max(y2std)))\n",
    "    end = round_to_tick(max(max(y1), max(y2)) + max(max(y1std),max(y2std)))\n",
    "    \n",
    "    plt.yticks(np.arange(start-.5, end+.5, .5))\n",
    "    plt.plot([0, 1700], [0, 0], 'k')\n",
    "\n",
    "    plt.plot(x, y1, c='b', lw=2, label='Train')\n",
    "    plt.plot(x, y2, c='g', lw=2, label='Test')\n",
    "    plt.plot(x, y1irregular, ':', c='b', lw=2, label='Train')\n",
    "    plt.plot(x, y2irregular, ':', c='g', lw=2, label='Test')\n",
    "\n",
    "    plt.fill_between(x, y1-y1std, y1+y1std, facecolor='b', alpha=0.1)\n",
    "    plt.fill_between(x, y2-y2std, y2+y2std, facecolor='g', alpha=0.1)\n",
    "\n",
    "    plt.legend(loc=legend,fontsize=12)\n",
    "\n",
    "    plt.xlabel('Number Training Examples',fontsize=16)\n",
    "    plt.ylabel('Feature Similarity',fontsize=16)\n",
    "    plt.title(title,fontsize=16)\n",
    "\n",
    "    plt.xlim([0, 1700])\n",
    "\n",
    "    plt.tight_layout()"
   ]
  },
  {
   "cell_type": "code",
   "execution_count": 2,
   "metadata": {
    "collapsed": true
   },
   "outputs": [],
   "source": [
    "reg_pres, reg_past, reg_freq = utils.GetRegularVerbs(frequency=1)\n",
    "irreg_pres, irreg_past, irreg_freq = utils.GetIrregularVerbs(frequency=1)\n",
    "\n",
    "\n",
    "regular = zip(reg_pres, reg_past, reg_freq)\n",
    "irregular = zip(irreg_pres, irreg_past, irreg_freq)\n",
    "\n",
    "train_frac = 2/3.0\n",
    "\n",
    "irregular_train_idx = int(train_frac*len(irreg_pres))\n",
    "train_irreg = irregular[0:irregular_train_idx]\n",
    "\n",
    "regular_train_idx = 1700 - len(train_irreg) \n",
    "train_reg = regular[0:regular_train_idx]\n",
    "\n",
    "test_reg = regular[regular_train_idx:]\n",
    "test_irreg = irregular[irregular_train_idx:]\n",
    "\n",
    "dic1 = hrr_utils.GenerateDefaultDictionary(N)\n",
    "dic2 = hrr_utils.GenerateDefaultDictionary(N)\n",
    "\n",
    "train_all = train_reg + train_irreg\n",
    "test_all = test_reg + test_irreg\n",
    "\n",
    "train_all_indices = [i for i in range(len(train_all))]\n",
    "test_all_indices = [i for i in range(len(test_all))]\n",
    "random.shuffle(train_all_indices)\n",
    "random.shuffle(test_all_indices)"
   ]
  },
  {
   "cell_type": "code",
   "execution_count": 3,
   "metadata": {
    "collapsed": false
   },
   "outputs": [],
   "source": [
    "trainX, trainpres1, trainpres2, trainpast1, trainpast2 = genX(train_all,train_all_indices)\n",
    "testX, testpres1, testpres2, testpast1, testpast2 = genX(test_all, test_all_indices)"
   ]
  },
  {
   "cell_type": "code",
   "execution_count": 4,
   "metadata": {
    "collapsed": true
   },
   "outputs": [],
   "source": [
    "# first tried correlation matrix of X, X\n",
    "def online_regression(Past, Present, reg=1):\n",
    "    corr = np.linalg.inv(np.outer(Present, Present) + reg*np.eye(N))\n",
    "    return corr * np.outer(Present, Past)\n",
    "\n",
    "# try correlation matrix of W, W instead?\n",
    "def online_regression_covW(W, Past, Present, reg=1):\n",
    "    corr = np.linalg.inv(W.dot(W.T) + reg*np.eye(N))\n",
    "    return corr * np.outer(Present, Past)\n",
    "\n",
    "def online_regression_covWX(W, Past, Present, reg=1):\n",
    "    pred = Present.dot(W)\n",
    "    corr = np.linalg.inv(np.outer(pred, Present) + reg*np.eye(N))\n",
    "    return corr * np.outer(Present, Past)"
   ]
  },
  {
   "cell_type": "code",
   "execution_count": 17,
   "metadata": {
    "collapsed": false
   },
   "outputs": [
    {
     "name": "stdout",
     "output_type": "stream",
     "text": [
      "figures/online_regression-regularized_trigam-N=1000-W=1889-reg=1-170429\n"
     ]
    },
    {
     "data": {
      "image/png": "[encoded data removed]",
      "text/plain": [
       "<matplotlib.figure.Figure at 0x103e31990>"
      ]
     },
     "metadata": {},
     "output_type": "display_data"
    }
   ],
   "source": [
    "W = np.zeros((N,N))\n",
    "\n",
    "x = np.arange(1, trainpres1.shape[0], 1)\n",
    "y1 = np.zeros(x.shape[0])\n",
    "y2 = np.zeros(x.shape[0])\n",
    "y1std = np.zeros(x.shape[0])\n",
    "y2std = np.zeros(x.shape[0])\n",
    "reg = 1\n",
    "\n",
    "y1irregular = np.zeros(x.shape[0])\n",
    "y2irregular = np.zeros(x.shape[0])\n",
    "\n",
    "sim2indices = [j for j in range(testpres1.shape[0]) if test_all_indices[j] >= len(test_reg)]\n",
    "\n",
    "for i in range(x.shape[0]):#trainpres1.shape[0]):\n",
    "    k = x[i]\n",
    "    \n",
    "    train_pred = trainpres1[:k].dot(W)\n",
    "    test_pred = testpres1.dot(W)\n",
    "\n",
    "    sim1 = sim(train_pred, trainpast2[:k])\n",
    "    sim2 = sim(test_pred, testpast2)\n",
    "    \n",
    "    sim1indices = [j for j in range(sim1.shape[0]) if train_all_indices[j] >= len(train_reg)]\n",
    "\n",
    "    irregularsim1 = sim1[sim1indices]\n",
    "    irregularsim2 = sim2[sim2indices]\n",
    "    \n",
    "    y1[i] = sim1.mean()/N\n",
    "    y1std[i] = np.nanstd(sim1, axis=0)/N\n",
    "    y2[i] = sim2.mean()/N\n",
    "    y2std[i] = np.nanstd(sim2, axis=0)/N\n",
    "    \n",
    "    y1irregular[i] = irregularsim1.mean()/N\n",
    "    y2irregular[i] = irregularsim2.mean()/N\n",
    "    \n",
    "    W += online_regression(trainpast2[k], trainpres1[k])\n",
    "    \n",
    "graph(x,y1,y2,y1std,y2std,title='regularized',legend='upper left')\n",
    "\n",
    "fname =  ('figures/online_regression-regularized_trigam-N=' + str(N)\n",
    "          + '-W=' + str(len(trainpres1)) + \"-reg=\" + str(reg)\n",
    "          + '-' + time.strftime('%y%m%d'))\n",
    "print fname\n",
    "\n",
    "plt.savefig(fname + '.png', transparent=True)\n",
    "plt.savefig(fname + '.eps', transparent=True)"
   ]
  },
  {
   "cell_type": "code",
   "execution_count": null,
   "metadata": {
    "collapsed": true
   },
   "outputs": [],
   "source": [
    "graph_separate(x, y1, y2, y1std, y2std, \\\n",
    "                   y1irregular, y2irregular, \\\n",
    "                   title=\"regularized\",legend=\"upper left\") \n",
    "\n",
    "fname =  ('figures/online_regression-separate-regularized_trigam-N=' + str(N)\n",
    "          + '-W=' + str(len(trainpres1)) + \"-reg=\" + str(reg)\n",
    "          + '-' + time.strftime('%y%m%d'))\n",
    "print fname\n",
    "\n",
    "plt.savefig(fname + '.png', transparent=True)\n",
    "plt.savefig(fname + '.eps', transparent=True)"
   ]
  },
  {
   "cell_type": "code",
   "execution_count": 5,
   "metadata": {
    "collapsed": false
   },
   "outputs": [
    {
     "name": "stdout",
     "output_type": "stream",
     "text": [
      "figures/online_regressionW-regularized_trigam-N=1000-W=1700-reg=1-170503\n"
     ]
    },
    {
     "name": "stderr",
     "output_type": "stream",
     "text": [
      "/Users/quinntran/anaconda/lib/python2.7/site-packages/ipykernel/__main__.py:34: RuntimeWarning: Mean of empty slice.\n",
      "/Users/quinntran/anaconda/lib/python2.7/site-packages/numpy/core/_methods.py:80: RuntimeWarning: invalid value encountered in double_scalars\n",
      "  ret = ret.dtype.type(ret / rcount)\n"
     ]
    },
    {
     "data": {
      "image/png": "[encoded data removed]",
      "text/plain": [
       "<matplotlib.figure.Figure at 0x115fd5f90>"
      ]
     },
     "metadata": {},
     "output_type": "display_data"
    }
   ],
   "source": [
    "W = online_regression(trainpast2[0], trainpres1[0])\n",
    "\n",
    "x = np.arange(1, trainpres1.shape[0], 1)\n",
    "y1 = np.zeros(x.shape[0])\n",
    "y2 = np.zeros(x.shape[0])\n",
    "y1std = np.zeros(x.shape[0])\n",
    "y2std = np.zeros(x.shape[0])\n",
    "reg = 1\n",
    "\n",
    "y1irregular = np.zeros(x.shape[0])\n",
    "y2irregular = np.zeros(x.shape[0])\n",
    "\n",
    "sim2indices = [j for j in range(testpres1.shape[0]) if test_all_indices[j] >= len(test_reg)]\n",
    "\n",
    "for i in range(x.shape[0]):#trainpres1.shape[0]):\n",
    "    k = x[i]\n",
    "    \n",
    "    train_pred = trainpres1[:k].dot(W)\n",
    "    test_pred = testpres1.dot(W)\n",
    "\n",
    "    sim1 = sim(train_pred, trainpast2[:k])\n",
    "    sim2 = sim(test_pred, testpast2)\n",
    "\n",
    "    sim1indices = [j for j in range(sim1.shape[0]) if train_all_indices[j] >= len(train_reg)]\n",
    "\n",
    "    irregularsim1 = sim1[sim1indices]\n",
    "    irregularsim2 = sim2[sim2indices]\n",
    "    \n",
    "    y1[i] = sim1.mean()/N\n",
    "    y1std[i] = np.nanstd(sim1, axis=0)/N\n",
    "    y2[i] = sim2.mean()/N\n",
    "    y2std[i] = np.nanstd(sim2, axis=0)/N\n",
    "    \n",
    "    y1irregular[i] = irregularsim1.mean()/N\n",
    "    y2irregular[i] = irregularsim2.mean()/N\n",
    "    \n",
    "        \n",
    "    W += online_regression_covW(W, trainpast2[k], trainpres1[k])\n",
    "\n",
    "graph(x,y1,y2,y1std,y2std,title='regularized',legend='upper right')\n",
    "\n",
    "fname =  ('figures/online_regressionW-regularized_trigam-N=' + str(N)\n",
    "          + '-W=' + str(len(trainpres1)) + \"-reg=\" + str(reg)\n",
    "          + '-' + time.strftime('%y%m%d'))\n",
    "print fname\n",
    "\n",
    "plt.savefig(fname + '.png', transparent=True)\n",
    "plt.savefig(fname + '.eps', transparent=True)"
   ]
  },
  {
   "cell_type": "code",
   "execution_count": 16,
   "metadata": {
    "collapsed": false
   },
   "outputs": [
    {
     "name": "stdout",
     "output_type": "stream",
     "text": [
      "figures/online_regressionW-regularized_trigam-N=1000-W=1889-reg=1-170429\n"
     ]
    },
    {
     "data": {
      "image/png": "[encoded data removed]",
      "text/plain": [
       "<matplotlib.figure.Figure at 0x10c5a0cd0>"
      ]
     },
     "metadata": {},
     "output_type": "display_data"
    }
   ],
   "source": [
    "graph_separate(x, y1, y2, y1std, y2std, \\\n",
    "                   y1irregular, y2irregular, \\\n",
    "                   title=\"regularized\",legend=\"upper left\")  \n",
    "\n",
    "fname =  ('figures/online_regressionW-separate-regularized_trigam-N=' + str(N)\n",
    "          + '-W=' + str(len(trainpres1)) + \"-reg=\" + str(reg)\n",
    "          + '-' + time.strftime('%y%m%d'))\n",
    "print fname\n",
    "\n",
    "plt.savefig(fname + '.png', transparent=True)\n",
    "plt.savefig(fname + '.eps', transparent=True)"
   ]
  },
  {
   "cell_type": "code",
   "execution_count": 21,
   "metadata": {
    "collapsed": false
   },
   "outputs": [
    {
     "name": "stdout",
     "output_type": "stream",
     "text": [
      "figures/online_regressionWX-regularized_trigam_regression-N=1000-W=1889-reg=1-170429\n"
     ]
    },
    {
     "data": {
      "image/png": "[encoded data removed]",
      "text/plain": [
       "<matplotlib.figure.Figure at 0x10f22f090>"
      ]
     },
     "metadata": {},
     "output_type": "display_data"
    }
   ],
   "source": [
    "W = online_regression(trainpast2[0], trainpres1[0])\n",
    "\n",
    "x = np.arange(1, trainpres1.shape[0], 1)\n",
    "y1 = np.zeros(x.shape[0])\n",
    "y2 = np.zeros(x.shape[0])\n",
    "y1std = np.zeros(x.shape[0])\n",
    "y2std = np.zeros(x.shape[0])\n",
    "reg = 1\n",
    "\n",
    "y1irregular = np.zeros(x.shape[0])\n",
    "y2irregular = np.zeros(x.shape[0])\n",
    "\n",
    "sim2indices = [j for j in range(testpres1.shape[0]) if test_all_indices[j] >= len(test_reg)]\n",
    "\n",
    "for i in range(x.shape[0]):#trainpres1.shape[0]):\n",
    "    k = x[i]\n",
    "    \n",
    "    train_pred = trainpres1[:k].dot(W)\n",
    "    test_pred = testpres1.dot(W)\n",
    "\n",
    "    sim1 = sim(train_pred, trainpast2[:k])\n",
    "    sim2 = sim(test_pred, testpast2)\n",
    "    \n",
    "    sim1indices = [j for j in range(sim1.shape[0]) if train_all_indices[j] >= len(train_reg)]\n",
    "\n",
    "    irregularsim1 = sim1[sim1indices]\n",
    "    irregularsim2 = sim2[sim2indices]\n",
    "    \n",
    "    y1[i] = sim1.mean()/N\n",
    "    y1std[i] = np.nanstd(sim1, axis=0)/N\n",
    "    y2[i] = sim2.mean()/N\n",
    "    y2std[i] = np.nanstd(sim2, axis=0)/N\n",
    "    \n",
    "    y1irregular[i] = irregularsim1.mean()/N\n",
    "    y2irregular[i] = irregularsim2.mean()/N\n",
    "    \n",
    "    \n",
    "    W += online_regression_covWX(W, trainpast2[k], trainpres1[k])\n",
    "    \n",
    "graph(x,y1,y2,y1std,y2std,title='regularized',legend='upper left')\n",
    "\n",
    "fname =  ('figures/online_regressionWX-regularized_trigam_regression-N=' + str(N)\n",
    "          + '-W=' + str(len(trainpres1)) + \"-reg=\" + str(reg)\n",
    "          + '-' + time.strftime('%y%m%d'))\n",
    "print fname\n",
    "\n",
    "plt.savefig(fname + '.png', transparent=True)\n",
    "plt.savefig(fname + '.eps', transparent=True)"
   ]
  },
  {
   "cell_type": "code",
   "execution_count": null,
   "metadata": {
    "collapsed": true
   },
   "outputs": [],
   "source": [
    "graph_separate(x, y1, y2, y1std, y2std, \\\n",
    "                   y1irregular, y2irregular, \\\n",
    "                   title=\"regularized\",legend=\"upper left\")  \n",
    "\n",
    "fname =  ('figures/online_regressionWX-separate-regularized_trigam_regression-N=' + str(N)\n",
    "          + '-W=' + str(len(trainpres1)) + \"-reg=\" + str(reg)\n",
    "          + '-' + time.strftime('%y%m%d'))\n",
    "print fname\n",
    "\n",
    "plt.savefig(fname + '.png', transparent=True)\n",
    "plt.savefig(fname + '.eps', transparent=True)"
   ]
  },
  {
   "cell_type": "code",
   "execution_count": 23,
   "metadata": {
    "collapsed": false
   },
   "outputs": [
    {
     "ename": "TypeError",
     "evalue": "graph() got multiple values for keyword argument 'title'",
     "output_type": "error",
     "traceback": [
      "\u001b[0;31m---------------------------------------------------------------------------\u001b[0m",
      "\u001b[0;31mTypeError\u001b[0m                                 Traceback (most recent call last)",
      "\u001b[0;32m<ipython-input-23-fbd765d6c9ed>\u001b[0m in \u001b[0;36m<module>\u001b[0;34m()\u001b[0m\n\u001b[1;32m     28\u001b[0m         \u001b[0my2std\u001b[0m\u001b[0;34m[\u001b[0m\u001b[0mi\u001b[0m\u001b[0;34m]\u001b[0m \u001b[0;34m=\u001b[0m \u001b[0mnp\u001b[0m\u001b[0;34m.\u001b[0m\u001b[0mnanstd\u001b[0m\u001b[0;34m(\u001b[0m\u001b[0msim2\u001b[0m\u001b[0;34m,\u001b[0m \u001b[0maxis\u001b[0m\u001b[0;34m=\u001b[0m\u001b[0;36m0\u001b[0m\u001b[0;34m)\u001b[0m\u001b[0;34m/\u001b[0m\u001b[0mN\u001b[0m\u001b[0;34m\u001b[0m\u001b[0m\n\u001b[1;32m     29\u001b[0m \u001b[0;34m\u001b[0m\u001b[0m\n\u001b[0;32m---> 30\u001b[0;31m     \u001b[0mgraph\u001b[0m\u001b[0;34m(\u001b[0m\u001b[0mx\u001b[0m\u001b[0;34m,\u001b[0m\u001b[0my1\u001b[0m\u001b[0;34m,\u001b[0m\u001b[0my2\u001b[0m\u001b[0;34m,\u001b[0m\u001b[0my1std\u001b[0m\u001b[0;34m,\u001b[0m\u001b[0my2std\u001b[0m\u001b[0;34m,\u001b[0m\u001b[0mtitle\u001b[0m\u001b[0;34m=\u001b[0m\u001b[0;34m'ridge_regression_alpha='\u001b[0m\u001b[0;34m+\u001b[0m\u001b[0mstr\u001b[0m\u001b[0;34m(\u001b[0m\u001b[0malpha\u001b[0m\u001b[0;34m)\u001b[0m\u001b[0;34m,\u001b[0m \u001b[0mlegend\u001b[0m\u001b[0;34m=\u001b[0m\u001b[0;34m'upper right'\u001b[0m\u001b[0;34m)\u001b[0m\u001b[0;34m\u001b[0m\u001b[0m\n\u001b[0m\u001b[1;32m     31\u001b[0m \u001b[0;34m\u001b[0m\u001b[0m\n\u001b[1;32m     32\u001b[0m     fname =  ('figures/online-regression-kernel_ridge_regression_trigam-N=' + str(N) \n",
      "\u001b[0;31mTypeError\u001b[0m: graph() got multiple values for keyword argument 'title'"
     ]
    }
   ],
   "source": [
    "alpha=1e-3\n",
    "kernels = [\"linear\", \"laplacian\", \"polynomial\", \"sigmoid\"]\n",
    "clf = KernelRidge(alpha=alpha,kernel=\"polynomial\")\n",
    "# KernelRidge(alpha=1.0, coef0=1, degree=3, gamma=None, kernel='linear', kernel_params=None)\n",
    "\n",
    "for ad in range(1):\n",
    "    alpha += ad*1e-3\n",
    "    x = np.arange(1, trainpres1.shape[0], 50)\n",
    "    y1 = np.zeros(x.shape[0])\n",
    "    y2 = np.zeros(x.shape[0])\n",
    "    y1std = np.zeros(x.shape[0])\n",
    "    y2std = np.zeros(x.shape[0])\n",
    "    \n",
    "    y1irregular = np.zeros(x.shape[0])\n",
    "    y2irregular = np.zeros(x.shape[0])\n",
    "\n",
    "    sim2indices = [j for j in range(testpres1.shape[0]) if test_all_indices[j] >= len(test_reg)]\n",
    "\n",
    "\n",
    "    for i in range(x.shape[0]):\n",
    "        k = x[i]\n",
    "        \n",
    "        clf.fit(trainpres1[:k], trainpast2[:k]) \n",
    "        \n",
    "        train_pred = clf.predict(trainpres1[:k])\n",
    "        test_pred = clf.predict(testpres1)\n",
    "\n",
    "        sim1 = sim(train_pred, trainpast2[:k])\n",
    "        sim2 = sim(test_pred, testpast2)\n",
    "        \n",
    "        sim1indices = [j for j in range(sim1.shape[0]) if train_all_indices[j] >= len(train_reg)]\n",
    "\n",
    "        irregularsim1 = sim1[sim1indices]\n",
    "        irregularsim2 = sim2[sim2indices]\n",
    "\n",
    "        y1[i] = sim1.mean()/N\n",
    "        y1std[i] = np.nanstd(sim1, axis=0)/N\n",
    "        y2[i] = sim2.mean()/N\n",
    "        y2std[i] = np.nanstd(sim2, axis=0)/N\n",
    "\n",
    "        y1irregular[i] = irregularsim1.mean()/N\n",
    "        y2irregular[i] = irregularsim2.mean()/N\n",
    "    \n",
    "\n",
    "    graph(x,y1,y2,y1std,y2std,title='ridge_regression_alpha='+str(alpha), legend='lower right')    \n",
    "\n",
    "    fname =  ('figures/online-regression-kernel_ridge_regression_trigam-N=' + str(N) \n",
    "              + '-W=' + str(len(trainpres1))\n",
    "              + '-alpha=' + str(alpha)\n",
    "              + '-' + time.strftime('%y%m%d'))\n",
    "    print fname\n",
    "\n",
    "    plt.savefig(fname + '.png', transparent=True)\n",
    "    plt.savefig(fname + '.eps', transparent=True)\n",
    "    \n",
    "    graph_separate(x, y1, y2, y1std, y2std, \\\n",
    "                   y1irregular, y2irregular, \\\n",
    "                   title='ridge_regression_alpha='+str(alpha),legend='lower right')     \n",
    "\n",
    "    fname =  ('figures/online-regression-seperate-kernel_ridge_regression_trigam-N=' + str(N) \n",
    "              + '-W=' + str(len(trainpres1))\n",
    "              + '-alpha=' + str(alpha)\n",
    "              + '-' + time.strftime('%y%m%d'))\n",
    "    print fname\n",
    "\n",
    "    plt.savefig(fname + '.png', transparent=True)\n",
    "    plt.savefig(fname + '.eps', transparent=True)"
   ]
  },
  {
   "cell_type": "code",
   "execution_count": 7,
   "metadata": {
    "collapsed": true
   },
   "outputs": [],
   "source": [
    "# alternative idea: add leastsquares soln by getting singular values from the soln. bc the directions will be generalized?\n",
    "# online svd where the singular values is the regularization. u, v are the binding\n",
    "# seems like another iteration of the paper then. another time....\n",
    "# def pcaw_train(past, present, num_pc=20):\n",
    "#     pp_pair = np.multiply(past, present)\n",
    "#     tst = time.time()\n",
    "#     pp_u, pp_s, pp_v = np.linalg.svd(pp_pair)\n",
    "#     #print 'Elapsed: ', time.time() - tst\n",
    "    \n",
    "#     cidx = min(num_pc, pp_u.shape[1])\n",
    "#     return np.dot(pp_u[:, :cidx], pp_v[:cidx, :]).sum(axis=0)\n",
    "\n",
    "# def regression_train(past, present):\n",
    "#     w = np.linalg.lstsq(present, past)[0]\n",
    "#     return w\n",
    "\n"
   ]
  },
  {
   "cell_type": "code",
   "execution_count": 43,
   "metadata": {
    "collapsed": false
   },
   "outputs": [
    {
     "name": "stdout",
     "output_type": "stream",
     "text": [
      "Stochastic gradient descent\n"
     ]
    },
    {
     "data": {
      "image/png": "[encoded data removed]",
      "text/plain": [
       "<matplotlib.figure.Figure at 0x112d5af90>"
      ]
     },
     "metadata": {},
     "output_type": "display_data"
    },
    {
     "name": "stdout",
     "output_type": "stream",
     "text": [
      "figures/unregularized_trigam_regression-170409\n"
     ]
    },
    {
     "data": {
      "text/plain": [
       "<matplotlib.figure.Figure at 0x10ac74510>"
      ]
     },
     "metadata": {},
     "output_type": "display_data"
    }
   ],
   "source": [
    "p = N\n",
    "p_var = 0.015\n",
    "alpha=1e-3\n",
    "reg=0.1\n",
    "\n",
    "x = np.arange(1, trainpres1.shape[0], 1)\n",
    "x = np.arange(0, num_iter, 1)\n",
    "y1 = np.zeros(x.shape[0])\n",
    "y2 = np.zeros(x.shape[0])\n",
    "\n",
    "print(\"Stochastic gradient descent\")\n",
    "W = np.zeros((N,N))\n",
    "for i in range(x.shape[0]):\n",
    "    k = x[i]\n",
    "    W = train_sgd(trainpres1, trainpast2, W, i, alpha, reg)\n",
    "    train_pred = predict(W, trainpres1)\n",
    "    test_pred = predict(W, testpres1)\n",
    "    \n",
    "    \n",
    "    y1[i] = sim(train_pred, trainpast2).mean()\n",
    "    y2[i] = sim(test_pred, testpast2).mean()\n",
    "    \n",
    "    \n",
    "graph(x,y1,y2,title='unregularized',legend='upper right')\n",
    "\n",
    "fname =  ('figures/unregularized_trigam_regression') + '-' + time.strftime('%y%m%d')\n",
    "print fname\n",
    "\n",
    "plt.savefig(fname + '.png', transparent=True)\n",
    "plt.savefig(fname + '.eps', transparent=True)"
   ]
  },
  {
   "cell_type": "code",
   "execution_count": 47,
   "metadata": {
    "collapsed": false
   },
   "outputs": [
    {
     "name": "stdout",
     "output_type": "stream",
     "text": [
      "Batch gradient descent\n"
     ]
    },
    {
     "data": {
      "image/png": "[encoded data removed]",
      "text/plain": [
       "<matplotlib.figure.Figure at 0x10fb0fcd0>"
      ]
     },
     "metadata": {},
     "output_type": "display_data"
    },
    {
     "name": "stdout",
     "output_type": "stream",
     "text": [
      "figures/unregularized_trigam_regression-170409\n"
     ]
    },
    {
     "data": {
      "text/plain": [
       "<matplotlib.figure.Figure at 0x10f20be50>"
      ]
     },
     "metadata": {},
     "output_type": "display_data"
    }
   ],
   "source": [
    "p = N\n",
    "p_var = 0.015\n",
    "alpha=1e-3\n",
    "reg=0.1\n",
    "\n",
    "x = np.arange(1, trainpres1.shape[0], 1)\n",
    "y1 = np.zeros(x.shape[0])\n",
    "y2 = np.zeros(x.shape[0])\n",
    "\n",
    "print(\"Batch gradient descent\")\n",
    "W = np.zeros((N,N))\n",
    "for i in range(x.shape[0]):\n",
    "    k = x[i]\n",
    "    W = train_gd(trainpres1, trainpast2, W, alpha, reg)\n",
    "    train_pred = predict(W, trainpres1)\n",
    "    test_pred = predict(W, testpres1)\n",
    "    \n",
    "    \n",
    "    y1[i] = sim(train_pred, trainpast2).mean()\n",
    "    y2[i] = sim(test_pred, testpast2).mean()\n",
    "    \n",
    "    \n",
    "graph(x,y1,y2,title='unregularized',legend='upper right')\n",
    "\n",
    "fname =  ('figures/unregularized_trigam_regression') + '-' + time.strftime('%y%m%d')\n",
    "print fname\n",
    "\n",
    "plt.savefig(fname + '.png', transparent=True)\n",
    "plt.savefig(fname + '.eps', transparent=True)"
   ]
  },
  {
   "cell_type": "code",
   "execution_count": null,
   "metadata": {
    "collapsed": true
   },
   "outputs": [],
   "source": []
  },
  {
   "cell_type": "code",
   "execution_count": null,
   "metadata": {
    "collapsed": true
   },
   "outputs": [],
   "source": []
  }
 ],
 "metadata": {
  "kernelspec": {
   "display_name": "Python 2",
   "language": "python",
   "name": "python2"
  },
  "language_info": {
   "codemirror_mode": {
    "name": "ipython",
    "version": 2
   },
   "file_extension": ".py",
   "mimetype": "text/x-python",
   "name": "python",
   "nbconvert_exporter": "python",
   "pygments_lexer": "ipython2",
   "version": "2.7.11"
  }
 },
 "nbformat": 4,
 "nbformat_minor": 0
}
