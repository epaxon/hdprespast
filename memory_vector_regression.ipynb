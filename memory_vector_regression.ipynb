{
 "cells": [
  {
   "cell_type": "code",
   "execution_count": 20,
   "metadata": {
    "collapsed": true
   },
   "outputs": [],
   "source": [
    "import csv\n",
    "import numpy as np\n",
    "import utils\n",
    "import hrr_utils\n",
    "import time\n",
    "import scipy\n",
    "import random\n",
    "\n",
    "from sklearn import linear_model\n",
    "from sklearn.kernel_ridge import KernelRidge\n",
    "from sklearn.linear_model import SGDRegressor\n",
    "from matplotlib import pyplot as plt\n",
    "from matplotlib.collections import LineCollection\n",
    "%matplotlib inline \n",
    "\n",
    "\n",
    "N=1000\n",
    "\n",
    "def genX(verbs, indices):\n",
    "    X = np.zeros((len(verbs), N)) # Exclusively difference PAST1-PRES1\n",
    "    PRES1 = np.zeros((len(verbs), N))\n",
    "    PRES2 = np.zeros((len(verbs), N))\n",
    "    PAST1 = np.zeros((len(verbs), N))\n",
    "    PAST2 = np.zeros((len(verbs), N))\n",
    "    \n",
    "    for m in range(len(indices)):\n",
    "        pair = verbs[indices[m]]\n",
    "        past1 = hrr_utils.GetRVClipHash(pair[1], dic1, 3)\n",
    "        past2 = hrr_utils.GetRVClipHash(pair[1], dic2, 3)\n",
    "        pres1 = hrr_utils.GetRVClipHash(pair[0], dic1, 3)\n",
    "        pres2 = hrr_utils.GetRVClipHash(pair[0], dic2, 3)\n",
    "        PRES1[m] = pres1\n",
    "        PRES2[m] = pres2\n",
    "        PAST1[m] = past1\n",
    "        PAST2[m] = past2\n",
    "\n",
    "    #X = np.where(PAST1-PRES1 > 0, 1, -1)\n",
    "    X = PAST1-PRES1\n",
    "    return X, PRES1, PRES2, PAST1, PAST2\n",
    "\n",
    "def pcaw_train(past, present, num_pc=20):\n",
    "    pp_pair = np.multiply(past, present)\n",
    "    tst = time.time()\n",
    "    pp_u, pp_s, pp_v = np.linalg.svd(pp_pair)\n",
    "    #print 'Elapsed: ', time.time() - tst\n",
    "    \n",
    "    cidx = min(num_pc, pp_u.shape[1])\n",
    "    return np.dot(pp_u[:, :cidx], pp_v[:cidx, :]).sum(axis=0)\n",
    "\n",
    "def svd_regression_train(past, present):\n",
    "    # past svd\n",
    "    print past.shape\n",
    "    past_u, past_s, past_v = np.linalg.svd(past)\n",
    "    print (past_u.shape, past_s.shape, past_v.shape)\n",
    "    past_side = past_u.dot(np.dot(np.diag(np.reciprocal(past_s)), past_v)) \n",
    "    # present svd\n",
    "    pres_u, pres_s, pres_v = np.linalg.svd(present)\n",
    "    present_side = pres_u.dot(np.dot(np.diag(pres_s), pres_v))\n",
    "    w = past_side.dot(present_side)\n",
    "    print w.shape\n",
    "    return w\n",
    "    \n",
    "def regression_train(past, present):\n",
    "    w = np.linalg.lstsq(present, past, rcond=5e-2)[0]\n",
    "    return w\n",
    "\n",
    "def predict(model, X):\n",
    "    ''' From model and data points, output prediction vectors '''\n",
    "    return X.dot(model)\n",
    "\n",
    "def sim(x, y):\n",
    "    if len(x.shape) == 1 or len(y.shape)==1:\n",
    "        return np.dot(x, y)\n",
    "    return np.sum(np.multiply(x, y), axis=1)\n",
    "\n",
    "def round_to_tick(number):\n",
    "    \"\"\"Round a number to the closest half integer.\"\"\"\n",
    "    return round(number * 2) / 2\n",
    "\n",
    "def graph(x, y1, y2, y1std, y2std, title=None, xlabel='number of words', ylabel='average dot product', legend='upper left'):   \n",
    "    fig = plt.figure(figsize=(4,3))\n",
    "    plt.tick_params(axis='both', which='major', labelsize=12)\n",
    "    plt.tick_params(axis='both', which='minor', labelsize=12)\n",
    "    plt.xticks(np.arange(0, 1701, 400))\n",
    "    \n",
    "    start = round_to_tick(min(min(y1), min(y2)) - max(max(y1std),max(y2std)))\n",
    "    end = round_to_tick(max(max(y1), max(y2)) + max(max(y1std),max(y2std)))\n",
    "    \n",
    "    plt.yticks(np.arange(start-.5, end+.5, .5))\n",
    "    plt.plot([0, 1700], [0, 0], 'k')\n",
    "\n",
    "    plt.plot(x, y1, c='b', lw=2, label='Train')\n",
    "    plt.plot(x, y2, c='g', lw=2, label='Test')\n",
    "\n",
    "    plt.fill_between(x, y1-y1std, y1+y1std, facecolor='b', alpha=0.1)\n",
    "    plt.fill_between(x, y2-y2std, y2+y2std, facecolor='g', alpha=0.1)\n",
    "\n",
    "    plt.legend(loc=legend,fontsize=12)\n",
    "\n",
    "    plt.xlabel('Number Training Examples',fontsize=16)\n",
    "    plt.ylabel('Feature Similarity',fontsize=16)\n",
    "    plt.title(title,fontsize=16)\n",
    "\n",
    "    plt.xlim([0, 1700])\n",
    "\n",
    "    plt.tight_layout()\n",
    "    \n",
    "# https://matplotlib.org/api/lines_api.html\n",
    "def graph_separate(x, y1, y2, y1std, y2std, \\\n",
    "                   y1irregular, y2irregular, \\\n",
    "                   title=None, xlabel='number of words', ylabel='average dot product', legend='upper left'):   \n",
    "\n",
    "    fig = plt.figure(figsize=(4,3))\n",
    "    plt.tick_params(axis='both', which='major', labelsize=12)\n",
    "    plt.tick_params(axis='both', which='minor', labelsize=12)\n",
    "    plt.xticks(np.arange(0, 1701, 400))\n",
    "    start = round_to_tick(min(min(y1), min(y2)) - max(max(y1std),max(y2std)))\n",
    "    end = round_to_tick(max(max(y1), max(y2)) + max(max(y1std),max(y2std)))\n",
    "    \n",
    "    plt.yticks(np.arange(start-.5, end+.5, .5))\n",
    "    plt.plot([0, 1700], [0, 0], 'k')\n",
    "\n",
    "    plt.plot(x, y1, c='b', lw=2, label='Train')\n",
    "    plt.plot(x, y2, c='g', lw=2, label='Test')\n",
    "    plt.plot(x, y1irregular, ':', c='b', lw=2, label='Train')\n",
    "    plt.plot(x, y2irregular, ':', c='g', lw=2, label='Test')\n",
    "\n",
    "    plt.fill_between(x, y1-y1std, y1+y1std, facecolor='b', alpha=0.1)\n",
    "    plt.fill_between(x, y2-y2std, y2+y2std, facecolor='g', alpha=0.1)\n",
    "\n",
    "    plt.legend(loc=legend,fontsize=12)\n",
    "\n",
    "    plt.xlabel('Number Training Examples',fontsize=16)\n",
    "    plt.ylabel('Feature Similarity',fontsize=16)\n",
    "    plt.title(title,fontsize=16)\n",
    "\n",
    "    plt.xlim([0, 1700])\n",
    "\n",
    "    plt.tight_layout()"
   ]
  },
  {
   "cell_type": "code",
   "execution_count": 6,
   "metadata": {
    "collapsed": true
   },
   "outputs": [],
   "source": [
    "reg_pres, reg_past, reg_freq = utils.GetRegularVerbs(frequency=1)\n",
    "irreg_pres, irreg_past, irreg_freq = utils.GetIrregularVerbs(frequency=1)\n",
    "\n",
    "\n",
    "regular = zip(reg_pres, reg_past, reg_freq)\n",
    "irregular = zip(irreg_pres, irreg_past, irreg_freq)\n",
    "\n",
    "train_frac = 2/3.0\n",
    "\n",
    "irregular_train_idx = int(train_frac*len(irreg_pres))\n",
    "train_irreg = irregular[0:irregular_train_idx]\n",
    "\n",
    "regular_train_idx = 1700 - len(train_irreg) \n",
    "train_reg = regular[0:regular_train_idx]\n",
    "\n",
    "test_reg = regular[regular_train_idx:]\n",
    "test_irreg = irregular[irregular_train_idx:]\n",
    "\n",
    "dic1 = hrr_utils.GenerateDefaultDictionary(N)\n",
    "dic2 = hrr_utils.GenerateDefaultDictionary(N)\n",
    "\n",
    "train_all = train_reg + train_irreg\n",
    "test_all = test_reg + test_irreg\n",
    "\n",
    "train_all_indices = [i for i in range(len(train_all))]\n",
    "test_all_indices = [i for i in range(len(test_all))]\n",
    "random.shuffle(train_all_indices)\n",
    "random.shuffle(test_all_indices)"
   ]
  },
  {
   "cell_type": "code",
   "execution_count": 7,
   "metadata": {
    "collapsed": true
   },
   "outputs": [],
   "source": [
    "trainX, trainpres1, trainpres2, trainpast1, trainpast2 = genX(train_all,train_all_indices)\n",
    "testX, testpres1, testpres2, testpast1, testpast2 = genX(test_all, test_all_indices)"
   ]
  },
  {
   "cell_type": "code",
   "execution_count": 21,
   "metadata": {
    "collapsed": false
   },
   "outputs": [
    {
     "name": "stdout",
     "output_type": "stream",
     "text": [
      "(1, 1000)\n",
      "((1, 1), (1,), (1000, 1000))\n"
     ]
    },
    {
     "ename": "ValueError",
     "evalue": "shapes (1,1) and (1000,1000) not aligned: 1 (dim 1) != 1000 (dim 0)",
     "output_type": "error",
     "traceback": [
      "\u001b[0;31m---------------------------------------------------------------------------\u001b[0m",
      "\u001b[0;31mValueError\u001b[0m                                Traceback (most recent call last)",
      "\u001b[0;32m<ipython-input-21-ee289d73b5ec>\u001b[0m in \u001b[0;36m<module>\u001b[0;34m()\u001b[0m\n\u001b[1;32m     13\u001b[0m \u001b[0;32mfor\u001b[0m \u001b[0mi\u001b[0m \u001b[0;32min\u001b[0m \u001b[0mrange\u001b[0m\u001b[0;34m(\u001b[0m\u001b[0mx\u001b[0m\u001b[0;34m.\u001b[0m\u001b[0mshape\u001b[0m\u001b[0;34m[\u001b[0m\u001b[0;36m0\u001b[0m\u001b[0;34m]\u001b[0m\u001b[0;34m)\u001b[0m\u001b[0;34m:\u001b[0m\u001b[0;31m#trainpres1.shape[0]):\u001b[0m\u001b[0;34m\u001b[0m\u001b[0m\n\u001b[1;32m     14\u001b[0m     \u001b[0mk\u001b[0m \u001b[0;34m=\u001b[0m \u001b[0mx\u001b[0m\u001b[0;34m[\u001b[0m\u001b[0mi\u001b[0m\u001b[0;34m]\u001b[0m\u001b[0;34m\u001b[0m\u001b[0m\n\u001b[0;32m---> 15\u001b[0;31m     \u001b[0mW\u001b[0m \u001b[0;34m=\u001b[0m \u001b[0msvd_regression_train\u001b[0m\u001b[0;34m(\u001b[0m\u001b[0mtrainpast2\u001b[0m\u001b[0;34m[\u001b[0m\u001b[0;34m:\u001b[0m\u001b[0mk\u001b[0m\u001b[0;34m]\u001b[0m\u001b[0;34m,\u001b[0m \u001b[0mtrainpres1\u001b[0m\u001b[0;34m[\u001b[0m\u001b[0;34m:\u001b[0m\u001b[0mk\u001b[0m\u001b[0;34m]\u001b[0m\u001b[0;34m)\u001b[0m\u001b[0;34m\u001b[0m\u001b[0m\n\u001b[0m\u001b[1;32m     16\u001b[0m     \u001b[0mtrain_pred\u001b[0m \u001b[0;34m=\u001b[0m \u001b[0mtrainpres1\u001b[0m\u001b[0;34m[\u001b[0m\u001b[0;34m:\u001b[0m\u001b[0mk\u001b[0m\u001b[0;34m]\u001b[0m\u001b[0;34m.\u001b[0m\u001b[0mdot\u001b[0m\u001b[0;34m(\u001b[0m\u001b[0mW\u001b[0m\u001b[0;34m)\u001b[0m\u001b[0;34m\u001b[0m\u001b[0m\n\u001b[1;32m     17\u001b[0m     \u001b[0mtest_pred\u001b[0m \u001b[0;34m=\u001b[0m \u001b[0mtestpres1\u001b[0m\u001b[0;34m.\u001b[0m\u001b[0mdot\u001b[0m\u001b[0;34m(\u001b[0m\u001b[0mW\u001b[0m\u001b[0;34m)\u001b[0m\u001b[0;34m\u001b[0m\u001b[0m\n",
      "\u001b[0;32m<ipython-input-20-e78ad506f3ad>\u001b[0m in \u001b[0;36msvd_regression_train\u001b[0;34m(past, present)\u001b[0m\n\u001b[1;32m     53\u001b[0m     \u001b[0mpast_u\u001b[0m\u001b[0;34m,\u001b[0m \u001b[0mpast_s\u001b[0m\u001b[0;34m,\u001b[0m \u001b[0mpast_v\u001b[0m \u001b[0;34m=\u001b[0m \u001b[0mnp\u001b[0m\u001b[0;34m.\u001b[0m\u001b[0mlinalg\u001b[0m\u001b[0;34m.\u001b[0m\u001b[0msvd\u001b[0m\u001b[0;34m(\u001b[0m\u001b[0mpast\u001b[0m\u001b[0;34m)\u001b[0m\u001b[0;34m\u001b[0m\u001b[0m\n\u001b[1;32m     54\u001b[0m     \u001b[0;32mprint\u001b[0m \u001b[0;34m(\u001b[0m\u001b[0mpast_u\u001b[0m\u001b[0;34m.\u001b[0m\u001b[0mshape\u001b[0m\u001b[0;34m,\u001b[0m \u001b[0mpast_s\u001b[0m\u001b[0;34m.\u001b[0m\u001b[0mshape\u001b[0m\u001b[0;34m,\u001b[0m \u001b[0mpast_v\u001b[0m\u001b[0;34m.\u001b[0m\u001b[0mshape\u001b[0m\u001b[0;34m)\u001b[0m\u001b[0;34m\u001b[0m\u001b[0m\n\u001b[0;32m---> 55\u001b[0;31m     \u001b[0mpast_side\u001b[0m \u001b[0;34m=\u001b[0m \u001b[0mpast_u\u001b[0m\u001b[0;34m.\u001b[0m\u001b[0mdot\u001b[0m\u001b[0;34m(\u001b[0m\u001b[0mnp\u001b[0m\u001b[0;34m.\u001b[0m\u001b[0mdot\u001b[0m\u001b[0;34m(\u001b[0m\u001b[0mnp\u001b[0m\u001b[0;34m.\u001b[0m\u001b[0mdiag\u001b[0m\u001b[0;34m(\u001b[0m\u001b[0mnp\u001b[0m\u001b[0;34m.\u001b[0m\u001b[0mreciprocal\u001b[0m\u001b[0;34m(\u001b[0m\u001b[0mpast_s\u001b[0m\u001b[0;34m)\u001b[0m\u001b[0;34m)\u001b[0m\u001b[0;34m,\u001b[0m \u001b[0mpast_v\u001b[0m\u001b[0;34m)\u001b[0m\u001b[0;34m)\u001b[0m\u001b[0;34m\u001b[0m\u001b[0m\n\u001b[0m\u001b[1;32m     56\u001b[0m     \u001b[0;31m# present svd\u001b[0m\u001b[0;34m\u001b[0m\u001b[0;34m\u001b[0m\u001b[0m\n\u001b[1;32m     57\u001b[0m     \u001b[0mpres_u\u001b[0m\u001b[0;34m,\u001b[0m \u001b[0mpres_s\u001b[0m\u001b[0;34m,\u001b[0m \u001b[0mpres_v\u001b[0m \u001b[0;34m=\u001b[0m \u001b[0mnp\u001b[0m\u001b[0;34m.\u001b[0m\u001b[0mlinalg\u001b[0m\u001b[0;34m.\u001b[0m\u001b[0msvd\u001b[0m\u001b[0;34m(\u001b[0m\u001b[0mpresent\u001b[0m\u001b[0;34m)\u001b[0m\u001b[0;34m\u001b[0m\u001b[0m\n",
      "\u001b[0;31mValueError\u001b[0m: shapes (1,1) and (1000,1000) not aligned: 1 (dim 1) != 1000 (dim 0)"
     ]
    }
   ],
   "source": [
    "x = np.arange(1, trainpres1.shape[0], 10)\n",
    "y1 = np.zeros(x.shape[0])\n",
    "y2 = np.zeros(x.shape[0])\n",
    "y1std = np.zeros(x.shape[0])\n",
    "y2std = np.zeros(x.shape[0])\n",
    "\n",
    "y1irregular = np.zeros(x.shape[0])\n",
    "y2irregular = np.zeros(x.shape[0])\n",
    "\n",
    "sim2indices = [j for j in range(testpres1.shape[0]) if test_all_indices[j] >= len(test_reg)]\n",
    "\n",
    "\n",
    "for i in range(x.shape[0]):#trainpres1.shape[0]):\n",
    "    k = x[i]\n",
    "    W = svd_regression_train(trainpast2[:k], trainpres1[:k])\n",
    "    train_pred = trainpres1[:k].dot(W)\n",
    "    test_pred = testpres1.dot(W)\n",
    "\n",
    "    sim1 = sim(train_pred, trainpast2[:k])\n",
    "    sim2 = sim(test_pred, testpast2)\n",
    "    \n",
    "    sim1indices = [j for j in range(sim1.shape[0]) if train_all_indices[j] >= len(train_reg)]\n",
    "\n",
    "    irregularsim1 = sim1[sim1indices]\n",
    "    irregularsim2 = sim2[sim2indices]\n",
    "    \n",
    "    y1[i] = sim1.mean()/N\n",
    "    y1std[i] = np.nanstd(sim1, axis=0)/N\n",
    "    y2[i] = sim2.mean()/N\n",
    "    y2std[i] = np.nanstd(sim2, axis=0)/N\n",
    "    \n",
    "    y1irregular[i] = irregularsim1.mean()/N\n",
    "    y2irregular[i] = irregularsim2.mean()/N\n",
    "    \n",
    "graph(x,y1,y2,y1std,y2std,title=\"unregularized\", legend=\"lower right\")\n",
    "\n",
    "fname =  ('figures/memory_vector_regression-svd-trigram-N=' + str(N) + '-W=' + str(len(trainpres1)) \n",
    "          + '-' + time.strftime('%y%m%d'))\n",
    "print fname\n",
    "\n",
    "plt.savefig(fname + '.png', transparent=True)\n",
    "plt.savefig(fname + '.eps', transparent=True)\n"
   ]
  },
  {
   "cell_type": "code",
   "execution_count": null,
   "metadata": {
    "collapsed": true
   },
   "outputs": [],
   "source": [
    "graph_separate(x, y1, y2, y1std, y2std, \\\n",
    "                   y1irregular, y2irregular, \\\n",
    "                   title=\"unregularized\",legend=\"upper left\")  \n",
    "\n",
    "fname =  ('figures/memory_vector_regression-svd-trigram-N=' + str(N) + '-W=' + str(len(trainpres1)) \n",
    "      + '-' + time.strftime('%y%m%d'))\n",
    "print fname\n",
    "\n",
    "plt.savefig(fname + '.png', transparent=True)\n",
    "plt.savefig(fname + '.eps', transparent=True)"
   ]
  },
  {
   "cell_type": "code",
   "execution_count": 9,
   "metadata": {
    "collapsed": false
   },
   "outputs": [
    {
     "name": "stdout",
     "output_type": "stream",
     "text": [
      "figures/memory_vector_regression-pcaw-trigram-N=1000-W=1700-170516\n"
     ]
    },
    {
     "data": {
      "image/png": "[encoded data removed]",
      "text/plain": [
       "<matplotlib.figure.Figure at 0x103c14d10>"
      ]
     },
     "metadata": {},
     "output_type": "display_data"
    }
   ],
   "source": [
    "x = np.arange(1, trainpres1.shape[0], 10)\n",
    "y1 = np.zeros(x.shape[0])\n",
    "y2 = np.zeros(x.shape[0])\n",
    "y1std = np.zeros(x.shape[0])\n",
    "y2std = np.zeros(x.shape[0])\n",
    "\n",
    "y1irregular = np.zeros(x.shape[0])\n",
    "y2irregular = np.zeros(x.shape[0])\n",
    "\n",
    "sim2indices = [j for j in range(testpres1.shape[0]) if test_all_indices[j] >= len(test_reg)]\n",
    "\n",
    "\n",
    "for i in range(x.shape[0]):#trainpres1.shape[0]):\n",
    "    k = x[i]\n",
    "    W = pcaw_train(trainpast2[:k], trainpres1[:k])\n",
    "    train_pred = trainpres1[:k].dot(W)\n",
    "    test_pred = testpres1.dot(W)\n",
    "\n",
    "    sim1 = sim(train_pred, trainpast2[:k])\n",
    "    sim2 = sim(test_pred, testpast2)\n",
    "    \n",
    "    sim1indices = [j for j in range(sim1.shape[0]) if train_all_indices[j] >= len(train_reg)]\n",
    "\n",
    "    irregularsim1 = sim1[sim1indices]\n",
    "    irregularsim2 = sim2[sim2indices]\n",
    "    \n",
    "    y1[i] = sim1.mean()/N\n",
    "    y1std[i] = np.nanstd(sim1, axis=0)/N\n",
    "    y2[i] = sim2.mean()/N\n",
    "    y2std[i] = np.nanstd(sim2, axis=0)/N\n",
    "    \n",
    "    y1irregular[i] = irregularsim1.mean()/N\n",
    "    y2irregular[i] = irregularsim2.mean()/N\n",
    "    \n",
    "graph(x,y1,y2,y1std,y2std,title=\"unregularized\", legend=\"lower right\")\n",
    "\n",
    "fname =  ('figures/memory_vector_regression-pcaw-trigram-N=' + str(N) + '-W=' + str(len(trainpres1)) \n",
    "          + '-' + time.strftime('%y%m%d'))\n",
    "print fname\n",
    "\n",
    "plt.savefig(fname + '.png', transparent=True)\n",
    "plt.savefig(fname + '.eps', transparent=True)\n"
   ]
  },
  {
   "cell_type": "code",
   "execution_count": 10,
   "metadata": {
    "collapsed": false
   },
   "outputs": [
    {
     "name": "stdout",
     "output_type": "stream",
     "text": [
      "figures/memory_vector_regression-pcaw-trigram-N=1000-W=1700-170516\n"
     ]
    },
    {
     "data": {
      "image/png": "[encoded data removed]",
      "text/plain": [
       "<matplotlib.figure.Figure at 0x10402dc10>"
      ]
     },
     "metadata": {},
     "output_type": "display_data"
    }
   ],
   "source": [
    "graph_separate(x, y1, y2, y1std, y2std, \\\n",
    "                   y1irregular, y2irregular, \\\n",
    "                   title=\"unregularized\",legend=\"upper left\")  \n",
    "\n",
    "fname =  ('figures/memory_vector_regression-pcaw-trigram-N=' + str(N) + '-W=' + str(len(trainpres1)) \n",
    "      + '-' + time.strftime('%y%m%d'))\n",
    "print fname\n",
    "\n",
    "plt.savefig(fname + '.png', transparent=True)\n",
    "plt.savefig(fname + '.eps', transparent=True)"
   ]
  }
 ],
 "metadata": {
  "kernelspec": {
   "display_name": "Python 2",
   "language": "python",
   "name": "python2"
  },
  "language_info": {
   "codemirror_mode": {
    "name": "ipython",
    "version": 2
   },
   "file_extension": ".py",
   "mimetype": "text/x-python",
   "name": "python",
   "nbconvert_exporter": "python",
   "pygments_lexer": "ipython2",
   "version": "2.7.11"
  }
 },
 "nbformat": 4,
 "nbformat_minor": 0
}
