{
 "cells": [
  {
   "cell_type": "code",
   "execution_count": 1,
   "metadata": {
    "collapsed": true
   },
   "outputs": [],
   "source": [
    "from __future__ import division\n",
    "\n",
    "from pylab import *\n",
    "\n",
    "import csv\n",
    "import numpy as np\n",
    "import math\n",
    "import matplotlib.pyplot as plt\n",
    "import string\n",
    "import random\n",
    "import scipy\n",
    "import time\n",
    "\n",
    "import utils\n",
    "import hrr_utils\n",
    "\n",
    "\n",
    "from matplotlib import pyplot as plt\n",
    "from matplotlib.collections import LineCollection\n",
    "%matplotlib inline\n",
    "\n",
    "from sklearn import linear_model\n",
    "from sklearn.metrics import accuracy_score\n",
    "\n",
    "\n",
    "plt.rcParams.update({'axes.titlesize': 'xx-large'})\n",
    "plt.rcParams.update({'axes.labelsize': 'xx-large'})\n",
    "plt.rcParams.update({'xtick.labelsize': 'x-large', 'ytick.labelsize': 'x-large'})\n",
    "plt.rcParams.update({'legend.fontsize': 'x-large'})\n",
    "plt.rcParams.update({'text.usetex': True})"
   ]
  },
  {
   "cell_type": "code",
   "execution_count": 2,
   "metadata": {
    "collapsed": true
   },
   "outputs": [],
   "source": [
    "N = 1000"
   ]
  },
  {
   "cell_type": "code",
   "execution_count": 3,
   "metadata": {
    "collapsed": false
   },
   "outputs": [],
   "source": [
    "alphabet = string.ascii_lowercase + '#' + '.'\n",
    "D = len(alphabet)\n",
    "\n",
    "\n",
    "def ngram_encode_cl(ngram_str, letter_vecs, window=3):\n",
    "    vec = np.zeros(letter_vecs.shape[1])\n",
    "    full_str = '#' + ngram_str + '.' \n",
    "    for il, l in enumerate(full_str[:-(window-1)]):\n",
    "        trivec = letter_vecs[alphabet.find(full_str[il]), :]\n",
    "        for c3 in range(1, window):\n",
    "            trivec = trivec * np.roll(letter_vecs[alphabet.find(full_str[il+c3]), :], c3)\n",
    "        vec += trivec\n",
    "    return 2* (vec + 0.1*(np.random.rand(letter_vecs.shape[1])-0.5) < 0) - 1\n",
    "\n",
    "def genX(verbs):\n",
    "    X = np.zeros((len(verbs), N)) # Exclusively difference PAST1-PRES1\n",
    "    PRES1 = np.zeros((len(verbs), N))\n",
    "    PRES2 = np.zeros((len(verbs), N))\n",
    "    PAST1 = np.zeros((len(verbs), N))\n",
    "    PAST2 = np.zeros((len(verbs), N))\n",
    "\n",
    "    for m, pair in enumerate(verbs):\n",
    "        past1 = ngram_encode_cl(pair[1], dic1, 3)\n",
    "        past2 = ngram_encode_cl(pair[1], dic2, 3)\n",
    "        pres1 = ngram_encode_cl(pair[0], dic1, 3)\n",
    "        pres2 = ngram_encode_cl(pair[0], dic2, 3)\n",
    "        PRES1[m] = pres1\n",
    "        PRES2[m] = pres2\n",
    "        PAST1[m] = past1\n",
    "        PAST2[m] = past2\n",
    "\n",
    "    #X = np.where(PAST1-PRES1 > 0, 1, -1)\n",
    "    X = PAST1-PRES1\n",
    "    return X, PRES1, PRES2, PAST1, PAST2\n",
    "\n",
    "def train(tv, past, present):\n",
    "    tv += np.multiply(past, present)\n",
    "    return tv\n",
    "\n",
    "def train_full(trainpast, trainpres):\n",
    "    psi = np.zeros(N)\n",
    "    tst = time.time()\n",
    "    \n",
    "    for k in range(len(trainpast)):\n",
    "        psi = train(psi, trainpast[k], trainpres[k])\n",
    "\n",
    "    print 'Elapsed: ', time.time()-tst\n",
    "    return psi\n",
    "   \n",
    "def reg_train(tv, past, present):\n",
    "    pred = np.multiply(tv, present)\n",
    "    #pred = np.where(pred>0, 1, -1)\n",
    "    #print (sim(pred, past)),\n",
    "    tv += ((N-sim(pred, past))/float(N)) * np.multiply(past, present)\n",
    "    return tv\n",
    "\n",
    "def reg_train_full(trainpast, trainpres):\n",
    "    psi = np.zeros(N)\n",
    "    tst = time.time()\n",
    "    for k in range(len(trainpast)):\n",
    "        psi = reg_train(psi, trainpast[k], trainpres[k])\n",
    "    print 'Elapsed: ', time.time()-tst\n",
    "    return psi\n",
    "\n",
    "def train_diff(tv, past2, present1, present2):\n",
    "    tv += np.multiply(present1, past2-present2)\n",
    "    return tv\n",
    "\n",
    "def train_diff_full(trainpast2, trainpres1, trainpres2):\n",
    "    psi = np.zeros(N)\n",
    "    tst = time.time()\n",
    "    \n",
    "    for k in range(len(trainpast2)):\n",
    "        psi = train_diff(psi, trainpast2[k], trainpres1[k], trainpres2[k])\n",
    "\n",
    "    print 'Elapsed: ', time.time()-tst\n",
    "    return psi\n",
    "\n",
    "\n",
    "def reg_train_diff(tv, past2, present1, present2):\n",
    "    pred = np.multiply(tv, present1) + present2\n",
    "    #pred = np.where(pred>0, 1, -1)\n",
    "    #print (sim(pred, past)),\n",
    "    tv += ((N-sim(pred, past2))/float(N)) * np.multiply(past2-present2, present1)\n",
    "    return tv\n",
    "\n",
    "def reg_train_diff_full(trainpast2, trainpres1, trainpres2):\n",
    "    psi = np.zeros(N)\n",
    "    tst = time.time()\n",
    "    \n",
    "    for k in range(len(trainpast2)):\n",
    "        psi = reg_train_diff(psi, trainpast2[k], trainpres1[k], trainpres2[k])\n",
    "\n",
    "    print 'Elapsed: ', time.time()-tst\n",
    "    return psi\n",
    "\n",
    "def sim(x, y):\n",
    "    if len(x.shape) == 1 or len(y.shape)==1:\n",
    "        return np.dot(x, y)\n",
    "    return np.sum(np.multiply(x, y), axis=1)\n"
   ]
  },
  {
   "cell_type": "code",
   "execution_count": 4,
   "metadata": {
    "collapsed": false
   },
   "outputs": [],
   "source": [
    "reg_pres, reg_past, reg_freq = utils.GetRegularVerbs(frequency=1)\n",
    "irreg_pres, irreg_past, irreg_freq = utils.GetIrregularVerbs(frequency=1)\n",
    "\n",
    "\n",
    "regular = zip(reg_pres, reg_past, reg_freq)\n",
    "irregular = zip(irreg_pres, irreg_past, irreg_freq)\n",
    "\n",
    "train_frac = 2/3.0\n",
    "\n",
    "irregular_train_idx = int(train_frac*len(irreg_pres))\n",
    "train_irreg = irregular[0:irregular_train_idx]\n",
    "\n",
    "regular_train_idx = 1700 - len(train_irreg) \n",
    "train_reg = regular[0:regular_train_idx]\n",
    "\n",
    "test_reg = regular[regular_train_idx:]\n",
    "test_irreg = irregular[irregular_train_idx:]\n",
    "\n",
    "#dic1 = hrr_utils.GenerateDefaultDictionary(N)\n",
    "#dic2 = hrr_utils.GenerateDefaultDictionary(N)\n",
    "\n",
    "D = len(alphabet)\n",
    "\n",
    "dic1 = 2 * (np.random.randn(D, N) < 0) - 1\n",
    "dic2 = 2 * (np.random.randn(D, N) < 0) - 1\n",
    "\n",
    "regular.extend(irregular)\n",
    "verbs = regular"
   ]
  },
  {
   "cell_type": "code",
   "execution_count": 5,
   "metadata": {
    "collapsed": false
   },
   "outputs": [],
   "source": [
    "trainX, trainpres1, trainpres2, trainpast1, trainpast2 = genX(train_reg + train_irreg)\n",
    "testX, testpres1, testpres2, testpast1, testpast2 = genX(test_reg + test_irreg)"
   ]
  },
  {
   "cell_type": "code",
   "execution_count": 6,
   "metadata": {
    "collapsed": false
   },
   "outputs": [],
   "source": [
    "trainpres1.shape\n",
    "\n",
    "M = trainpres1.shape[0]"
   ]
  },
  {
   "cell_type": "code",
   "execution_count": 7,
   "metadata": {
    "collapsed": false
   },
   "outputs": [
    {
     "name": "stdout",
     "output_type": "stream",
     "text": [
      "Elapsed:  0.0236849784851\n"
     ]
    }
   ],
   "source": [
    "psi = reg_train_full(trainpast2, trainpres1)\n",
    "tag='reg'"
   ]
  },
  {
   "cell_type": "code",
   "execution_count": 8,
   "metadata": {
    "collapsed": false,
    "scrolled": true
   },
   "outputs": [
    {
     "name": "stdout",
     "output_type": "stream",
     "text": [
      "('use', 'used', 228)\n",
      "935.505870617\n"
     ]
    }
   ],
   "source": [
    "word_idx = 18\n",
    "print train_reg[word_idx]\n",
    "\n",
    "bound_vec = trainpres1[word_idx, :] * psi\n",
    "\n",
    "print np.dot(bound_vec, trainpast2[word_idx, :])"
   ]
  },
  {
   "cell_type": "code",
   "execution_count": 9,
   "metadata": {
    "collapsed": false
   },
   "outputs": [
    {
     "name": "stdout",
     "output_type": "stream",
     "text": [
      "Elapsed:  0.0277168750763\n"
     ]
    }
   ],
   "source": [
    "psi = reg_train_diff_full(trainpast2, trainpres1, trainpres2)\n"
   ]
  },
  {
   "cell_type": "code",
   "execution_count": 10,
   "metadata": {
    "collapsed": false
   },
   "outputs": [
    {
     "name": "stdout",
     "output_type": "stream",
     "text": [
      "('need', 'needed', 160)\n",
      "699.558269022\n"
     ]
    }
   ],
   "source": [
    "word_idx = 28\n",
    "print train_reg[word_idx]\n",
    "\n",
    "bound_vec = trainpres1[word_idx, :] * psi + trainpres2[word_idx, :]\n",
    "tag='reg_diff'\n",
    "print np.dot(bound_vec, trainpast2[word_idx, :])"
   ]
  },
  {
   "cell_type": "code",
   "execution_count": 11,
   "metadata": {
    "collapsed": true
   },
   "outputs": [],
   "source": [
    "bound_vec = trainpast2[word_idx, :]\n",
    "tag='direct'"
   ]
  },
  {
   "cell_type": "code",
   "execution_count": 12,
   "metadata": {
    "collapsed": false
   },
   "outputs": [],
   "source": [
    "letter_vecs = dic2\n",
    "#letter_vecs = 2 * (np.random.randn(D, N) < 0) - 1\n",
    "\n",
    "\n",
    "#ngram_str = 'powers'\n",
    "#bound_vec = ngram_encode(ngram_str, letter_vecs, alph)\n",
    "#bound_vec = ngram_encode_cl(ngram_str, letter_vecs, alph)\n",
    "\n",
    "# initializing the states as random works just as well as the intention, which\n",
    "# is to initialize as the superposition of all D states.\n",
    "l0_state = np.random.randn(N)\n",
    "l1_state = np.random.randn(N)\n",
    "l2_state = np.random.randn(N)\n",
    "l3_state = np.random.randn(N)\n",
    "l4_state = np.random.randn(N)\n",
    "l5_state = np.random.randn(N)\n",
    "l6_state = np.random.randn(N)\n",
    "l7_state = np.random.randn(N)\n",
    "\n",
    "l1_state = np.dot(letter_vecs.T, np.dot(l1_state, letter_vecs.T))\n",
    "l2_state = np.dot(letter_vecs.T, np.dot(l2_state, letter_vecs.T))\n",
    "l3_state = np.dot(letter_vecs.T, np.dot(l3_state, letter_vecs.T))\n",
    "l4_state = np.dot(letter_vecs.T, np.dot(l4_state, letter_vecs.T))\n",
    "l5_state = np.dot(letter_vecs.T, np.dot(l5_state, letter_vecs.T))\n",
    "l6_state = np.dot(letter_vecs.T, np.dot(l6_state, letter_vecs.T))\n",
    "l7_state = np.dot(letter_vecs.T, np.dot(l7_state, letter_vecs.T))\n",
    "\n",
    "# the clipping non-linearity will lead to arbitrary norms, so need to keep vector normalized\n",
    "l1_state = l1_state/norm(l1_state)\n",
    "l2_state = l2_state/norm(l2_state)\n",
    "l3_state = l3_state/norm(l3_state)\n",
    "l4_state = l4_state/norm(l4_state)\n",
    "l5_state = l5_state/norm(l5_state)\n",
    "l6_state = l6_state/norm(l6_state)\n",
    "l7_state = l7_state/norm(l7_state)\n",
    "\n",
    "# we know the first letter\n",
    "l0_state = letter_vecs[alphabet.find('#'), :]\n",
    "\n",
    "\n",
    "n_steps = 100\n",
    "\n",
    "l1_coef_hist = np.zeros((n_steps, D))\n",
    "l2_coef_hist = np.zeros((n_steps, D))\n",
    "l3_coef_hist = np.zeros((n_steps, D))\n",
    "l4_coef_hist = np.zeros((n_steps, D))\n",
    "l5_coef_hist = np.zeros((n_steps, D))\n",
    "l6_coef_hist = np.zeros((n_steps, D))\n",
    "l7_coef_hist = np.zeros((n_steps, D))"
   ]
  },
  {
   "cell_type": "code",
   "execution_count": 13,
   "metadata": {
    "collapsed": false
   },
   "outputs": [
    {
     "name": "stdout",
     "output_type": "stream",
     "text": [
      "Elapsed: 0.233097076416\n"
     ]
    }
   ],
   "source": [
    "tst = time.time()\n",
    "for i in range(n_steps):\n",
    "    l1_coef_hist[i, :] = np.dot(letter_vecs, l1_state)\n",
    "    l2_coef_hist[i, :] = np.dot(letter_vecs, l2_state)\n",
    "    l3_coef_hist[i, :] = np.dot(letter_vecs, l3_state)\n",
    "    l4_coef_hist[i, :] = np.dot(letter_vecs, l4_state)\n",
    "    l5_coef_hist[i, :] = np.dot(letter_vecs, l5_state)\n",
    "    l6_coef_hist[i, :] = np.dot(letter_vecs, l6_state)\n",
    "    l7_coef_hist[i, :] = np.dot(letter_vecs, l7_state)\n",
    "\n",
    "    ## Need to make sure that the largest absolute value is always positive,\n",
    "    ## because the unbinding inference can flip 2 and be the same\n",
    "    \n",
    "    mx1idx = np.argmax(np.abs(l1_coef_hist[i,:]))\n",
    "    l1_state = l1_state * np.sign(l1_coef_hist[i, mx1idx])\n",
    "    #l1_coef_hist[i, :] *= np.sign(l1_coef_hist[i, mx1idx])\n",
    "    \n",
    "    mx2idx = np.argmax(np.abs(l2_coef_hist[i,:]))\n",
    "    l2_state = l2_state *  np.sign(l2_coef_hist[i, mx2idx])\n",
    "    #l2_coef_hist[i, :] *= np.sign(l2_coef_hist[i, mx1idx])\n",
    "    \n",
    "    mx3idx = np.argmax(np.abs(l3_coef_hist[i,:]))\n",
    "    l3_state = l3_state * np.sign(l3_coef_hist[i, mx3idx])\n",
    "    #l3_coef_hist[i, :] *= np.sign(l3_coef_hist[i, mx1idx])\n",
    "    \n",
    "    mx4idx = np.argmax(np.abs(l4_coef_hist[i,:]))\n",
    "    l4_state = l4_state * np.sign(l4_coef_hist[i, mx4idx])\n",
    "    #l4_coef_hist[i, :] *= np.sign(l4_coef_hist[i, mx1idx])\n",
    "    \n",
    "    mx5idx = np.argmax(np.abs(l5_coef_hist[i,:]))\n",
    "    l5_state = l5_state * np.sign(l5_coef_hist[i, mx5idx])\n",
    "    #l5_coef_hist[i, :] *= np.sign(l5_coef_hist[i, mx1idx])\n",
    "    \n",
    "    mx6idx = np.argmax(np.abs(l6_coef_hist[i,:]))\n",
    "    l6_state = l6_state * np.sign(l6_coef_hist[i, mx6idx])\n",
    "    #l6_coef_hist[i, :] *= np.sign(l6_coef_hist[i, mx1idx])\n",
    "    \n",
    "    mx7idx = np.argmax(np.abs(l7_coef_hist[i,:]))\n",
    "    l7_state = l7_state * np.sign(l7_coef_hist[i, mx7idx])\n",
    "    #l7_coef_hist[i, :] *= np.sign(l7_coef_hist[i, mx1idx])\n",
    "    \n",
    "    \n",
    "    l1d = (np.roll(bound_vec * l0_state * np.roll(l2_state, 2), -1) +\n",
    "          bound_vec * np.roll(l2_state, 1) * np.roll(l3_state, 2)) / 2\n",
    "\n",
    "    l2d = (np.roll(bound_vec * l0_state * np.roll(l1_state, 1), -2) +\n",
    "            np.roll(bound_vec * l1_state * np.roll(l3_state, 2), -1) +\n",
    "              bound_vec * np.roll(l3_state, 1) * np.roll(l4_state, 2)) / 3\n",
    "\n",
    "    l3d = (np.roll(bound_vec * l2_state * np.roll(l4_state, 2), -1) +\n",
    "           np.roll(bound_vec * l1_state * np.roll(l2_state, 1), -2) +\n",
    "              bound_vec * np.roll(l4_state, 1) * np.roll(l5_state, 2)) / 3\n",
    "    \n",
    "    l4d = (np.roll(bound_vec * l2_state * np.roll(l3_state, 1), -2) +\n",
    "            np.roll(bound_vec * l3_state * np.roll(l5_state, 2), -1) +\n",
    "              bound_vec * np.roll(l5_state, 1) * np.roll(l6_state, 2)) / 3\n",
    "\n",
    "    l5d = (np.roll(bound_vec * l4_state * np.roll(l6_state, 2), -1) +\n",
    "           np.roll(bound_vec * l3_state * np.roll(l4_state, 1), -2) +\n",
    "              bound_vec * np.roll(l6_state, 1) * np.roll(l7_state, 2)) / 3\n",
    "    \n",
    "    l6d = (np.roll(bound_vec * l5_state * np.roll(l7_state, 2), -1) +\n",
    "           np.roll(bound_vec * l4_state * np.roll(l5_state, 1), -2)) / 2\n",
    "    \n",
    "    l7d = (np.roll(bound_vec * l5_state * np.roll(l6_state, 1), -2))\n",
    "\n",
    "    l1_state = np.dot(letter_vecs.T, np.dot(l1d, letter_vecs.T)/N)\n",
    "    l2_state = np.dot(letter_vecs.T, np.dot(l2d, letter_vecs.T)/N)\n",
    "    l3_state = np.dot(letter_vecs.T, np.dot(l3d, letter_vecs.T)/N)\n",
    "    l4_state = np.dot(letter_vecs.T, np.dot(l4d, letter_vecs.T)/N)\n",
    "    l5_state = np.dot(letter_vecs.T, np.dot(l5d, letter_vecs.T)/N)\n",
    "    l6_state = np.dot(letter_vecs.T, np.dot(l6d, letter_vecs.T)/N)\n",
    "    l7_state = np.dot(letter_vecs.T, np.dot(l7d, letter_vecs.T)/N)\n",
    "\n",
    "\n",
    "    l1_state = l1_state/norm(l1_state)\n",
    "    l2_state = l2_state/norm(l2_state)\n",
    "    l3_state = l3_state/norm(l3_state)\n",
    "    l4_state = l4_state/norm(l4_state)\n",
    "    l5_state = l5_state/norm(l5_state)\n",
    "    l6_state = l6_state/norm(l6_state)\n",
    "    l7_state = l7_state/norm(l7_state)\n",
    "\n",
    "print 'Elapsed:', time.time() - tst"
   ]
  },
  {
   "cell_type": "code",
   "execution_count": 14,
   "metadata": {
    "collapsed": false
   },
   "outputs": [
    {
     "name": "stdout",
     "output_type": "stream",
     "text": [
      "needede\n",
      "encoding_resonance_170314-res_example-need-N=1000-direct-M=1700-n170516\n"
     ]
    },
    {
     "data": {
      "image/png": "[encoded data removed]",
      "text/plain": [
       "<matplotlib.figure.Figure at 0x1040e4e90>"
      ]
     },
     "metadata": {},
     "output_type": "display_data"
    }
   ],
   "source": [
    "figure(figsize=(16,3))\n",
    "cols = get_cmap('copper', n_steps)\n",
    "alph = np.array(list(alphabet))\n",
    "xv = arange(0, len(alph), 3)\n",
    "\n",
    "lv = alph[xv]\n",
    "\n",
    "for i in range(n_steps):\n",
    "    ax=subplot(171)\n",
    "    plot(-l1_coef_hist[i,:], lw=3, c=cols(i))\n",
    "    ax.set_xticks(xv)\n",
    "    ax.set_xticklabels(lv)\n",
    "    \n",
    "    ax=subplot(172)\n",
    "    plot(-l2_coef_hist[i,:], lw=3, c=cols(i))\n",
    "    ax.set_xticks(xv)\n",
    "    ax.set_xticklabels(lv)\n",
    "\n",
    "    ax=subplot(173)\n",
    "    plot(-l3_coef_hist[i,:], lw=3, c=cols(i))\n",
    "    ax.set_xticks(xv)\n",
    "    ax.set_xticklabels(lv)\n",
    "    \n",
    "    ax=subplot(174)\n",
    "    plot(-l4_coef_hist[i,:], lw=3, c=cols(i))\n",
    "    ax.set_xticks(xv)\n",
    "    ax.set_xticklabels(lv)\n",
    "\n",
    "    ax=subplot(175)\n",
    "    plot(-l5_coef_hist[i,:], lw=3, c=cols(i))\n",
    "    ax.set_xticks(xv)\n",
    "    ax.set_xticklabels(lv)\n",
    "    \n",
    "    ax=subplot(176)\n",
    "    plot(-l6_coef_hist[i,:], lw=3, c=cols(i))\n",
    "    ax.set_xticks(xv)\n",
    "    ax.set_xticklabels(lv)\n",
    "\n",
    "    ax=subplot(177)\n",
    "    plot(-l7_coef_hist[i,:], lw=3, c=cols(i))\n",
    "    ax.set_xticks(xv)\n",
    "    ax.set_xticklabels(lv)\n",
    "    \n",
    "    \n",
    "    \n",
    "l1 = alph[np.argmax(np.abs(l1_coef_hist[-1,:]))]\n",
    "l2 = alph[np.argmax(np.abs(l2_coef_hist[-1,:]))]\n",
    "l3 = alph[np.argmax(np.abs(l3_coef_hist[-1,:]))]\n",
    "l4 = alph[np.argmax(np.abs(l4_coef_hist[-1,:]))]\n",
    "l5 = alph[np.argmax(np.abs(l5_coef_hist[-1,:]))]\n",
    "l6 = alph[np.argmax(np.abs(l6_coef_hist[-1,:]))]\n",
    "l7 = alph[np.argmax(np.abs(l7_coef_hist[-1,:]))]\n",
    "\n",
    "result = l1+l2+l3+l4+l5+l6+l7\n",
    "print result\n",
    "\n",
    "subplot(174)\n",
    "title(result)\n",
    "\n",
    "fname = ('encoding_resonance_170314-res_example-' + train_reg[word_idx][0] + '-N='  + str(N) \n",
    "         + '-' + tag + '-M=' + str(M) + '-n' + time.strftime('%y%m%d'))\n",
    "\n",
    "print fname\n",
    "\n",
    "savefig(fname + '.eps', format='eps', transparent=True)\n",
    "savefig(fname + '.png', format='png', transparent=True)\n"
   ]
  },
  {
   "cell_type": "code",
   "execution_count": 15,
   "metadata": {
    "collapsed": false
   },
   "outputs": [
    {
     "name": "stdout",
     "output_type": "stream",
     "text": [
      "Elapsed:  29.2808189392\n",
      "data/encoding_resonance_170314-trigram_dict-unreg-N=1000-W=1700-170516.npz\n"
     ]
    }
   ],
   "source": [
    "tst = time.time()\n",
    "\n",
    "psi = np.zeros(N)\n",
    "psi = train(psi, trainpast2[0], trainpres1[0])\n",
    "\n",
    "random_vecs = np.random.randn(testpast2.shape[0], N)\n",
    "\n",
    "train_hist = np.nan* np.zeros((trainpres1.shape[0], trainpres1.shape[0]))\n",
    "test_hist = np.zeros((trainpres1.shape[0], testpast2.shape[0]))\n",
    "#random_hist = np.zeros((trainpres1.shape[0], testpast2.shape[0]))\n",
    "\n",
    "\n",
    "y1 = np.zeros(trainpres1.shape[0])\n",
    "y2 = np.zeros(trainpres1.shape[0])\n",
    "#y3 = np.zeros(trainpres1.shape[0])\n",
    "for k in range(1,len(trainpres1)):#trainpres1.shape[0]):\n",
    "    train_pred = np.multiply(psi, trainpres1[:k])\n",
    "    #train_pred = np.where(train_pred>0, 1, -1)\n",
    "    test_pred = np.multiply(psi, testpres1)\n",
    "    #test_pred = np.where(test_pred>0, 1, -1)\n",
    "\n",
    "    train_hist[k, :k] = sim(train_pred, trainpast2[:k])\n",
    "    test_hist[k, :] = sim(test_pred, testpast2)\n",
    "    #random_hist[k, :] = sim(random_vecs, testpast2)\n",
    "    \n",
    "    psi = train(psi, trainpast2[k], trainpres1[k])\n",
    "\n",
    "    \n",
    "print 'Elapsed: ', time.time() - tst\n",
    "\n",
    "fname = ('data/encoding_resonance_170314-trigram_dict-unreg-N=' + str(N) + '-W=' + str(len(trainpres1))\n",
    "        + '-' + time.strftime('%y%m%d') +'.npz')\n",
    "\n",
    "print fname\n",
    "#np.savez(fname,N=N, train_hist=train_hist, test_hist=test_hist, random_hist=random_hist)\n",
    "np.savez(fname,N=N, train_hist=train_hist, test_hist=test_hist)"
   ]
  },
  {
   "cell_type": "code",
   "execution_count": 17,
   "metadata": {
    "collapsed": false
   },
   "outputs": [
    {
     "name": "stdout",
     "output_type": "stream",
     "text": [
      "figures/encoding_resonance_170314-trigram_dict-unreg-N=1000-W=1700-170516\n"
     ]
    },
    {
     "name": "stderr",
     "output_type": "stream",
     "text": [
      "/Users/quinntran/anaconda/lib/python2.7/site-packages/ipykernel/__main__.py:3: RuntimeWarning: Mean of empty slice\n",
      "  app.launch_new_instance()\n"
     ]
    },
    {
     "data": {
      "image/png": "[encoded data removed]",
      "text/plain": [
       "<matplotlib.figure.Figure at 0x10eed8c90>"
      ]
     },
     "metadata": {},
     "output_type": "display_data"
    }
   ],
   "source": [
    "figure(figsize=(4,3))\n",
    "\n",
    "train_mean = np.nanmean(train_hist, axis=1)/N\n",
    "test_mean = test_hist.mean(axis=1)/N\n",
    "#random_mean = random_hist.mean(axis=1)/N\n",
    "\n",
    "train_std = np.nanstd(train_hist, axis=1)/N #/ (arange(len(train_mean))+1) ** 0.5\n",
    "test_std = test_hist.std(axis=1)/N #/ testpast2.shape[0]**0.5\n",
    "#random_std = random_hist.std(axis=1)/N #/ testpast2.shape[0]**0.5\n",
    "\n",
    "ntrain_x = arange(len(train_mean))+1\n",
    "\n",
    "plot([0, 1700], [0, 0], 'k')\n",
    "\n",
    "plot(ntrain_x, train_mean, c='b', lw=2, label='Train')\n",
    "plot(ntrain_x, test_mean, c='g', lw=2, label='Test')\n",
    "#plot(ntrain_x, random_mean, c='r', lw=2, label='Random')\n",
    "\n",
    "fill_between(ntrain_x, train_mean-train_std, train_mean+train_std, facecolor='b', alpha=0.1)\n",
    "fill_between(ntrain_x, test_mean-test_std, test_mean+test_std, facecolor='g', alpha=0.1)\n",
    "#fill_between(ntrain_x, random_mean-random_std, random_mean+random_std, facecolor='r', alpha=0.2)\n",
    "\n",
    "legend(loc='upper left')\n",
    "\n",
    "xlabel('Number Training Examples')\n",
    "ylabel('Feature Similarity')\n",
    "title('Dictionary, Unregularized')\n",
    "\n",
    "xlim([0, 1700])\n",
    "\n",
    "plt.tight_layout()\n",
    "\n",
    "fname =  ('figures/encoding_resonance_170314-trigram_dict-unreg-N=' + str(N) + '-W=' + str(len(trainpres1)) \n",
    "          + '-' + time.strftime('%y%m%d'))\n",
    "print fname\n",
    "\n",
    "plt.savefig(fname + '.png', transparent=True)\n",
    "plt.savefig(fname + '.eps', transparent=True)"
   ]
  },
  {
   "cell_type": "code",
   "execution_count": 18,
   "metadata": {
    "collapsed": false
   },
   "outputs": [
    {
     "name": "stdout",
     "output_type": "stream",
     "text": [
      "Elapsed:  27.8603599072\n",
      "data/encoding_resonance_170314-trigram_dict-reg-N=1000-W=1700-170516.npz\n"
     ]
    }
   ],
   "source": [
    "tst = time.time()\n",
    "\n",
    "cycle=1\n",
    "psi = np.zeros(N)\n",
    "psi = reg_train(psi, trainpast2[0], trainpres1[0])\n",
    "\n",
    "#random_vecs = np.random.randn(testpast2.shape[0], N)\n",
    "\n",
    "train_hist = np.nan* np.zeros((trainpres1.shape[0], trainpres1.shape[0]))\n",
    "test_hist = np.zeros((trainpres1.shape[0], testpast2.shape[0]))\n",
    "#random_hist = np.zeros((trainpres1.shape[0], testpast2.shape[0]))\n",
    "\n",
    "\n",
    "for k in range(1,len(trainpres1)):#trainpres1.shape[0]):\n",
    "    train_pred = np.multiply(psi, trainpres1[:k])\n",
    "    #train_pred = np.where(train_pred>0, 1, -1)\n",
    "    test_pred = np.multiply(psi, testpres1)\n",
    "    #test_pred = np.where(test_pred>0, 1, -1)\n",
    "\n",
    "    train_hist[k, :k] = sim(train_pred, trainpast2[:k])\n",
    "    test_hist[k, :] = sim(test_pred, testpast2)\n",
    "    #random_hist[k, :] = sim(random_vecs, testpast2)\n",
    "    \n",
    "    psi = reg_train(psi, trainpast2[k], trainpres1[k])\n",
    "\n",
    "    \n",
    "print 'Elapsed: ', time.time() - tst\n",
    "\n",
    "fname = ('data/encoding_resonance_170314-trigram_dict-reg-N=' + str(N) + '-W=' + str(len(trainpres1))\n",
    "        + '-' + time.strftime('%y%m%d') +'.npz')\n",
    "\n",
    "print fname\n",
    "#np.savez(fname,N=N, train_hist=train_hist, test_hist=test_hist, random_hist=random_hist)\n",
    "np.savez(fname,N=N, train_hist=train_hist, test_hist=test_hist)"
   ]
  },
  {
   "cell_type": "code",
   "execution_count": 19,
   "metadata": {
    "collapsed": false
   },
   "outputs": [
    {
     "name": "stdout",
     "output_type": "stream",
     "text": [
      "figures/encoding_resonance_170314-trigram_dict-reg-N=1000-W=1700-170516\n"
     ]
    },
    {
     "name": "stderr",
     "output_type": "stream",
     "text": [
      "/Users/quinntran/anaconda/lib/python2.7/site-packages/ipykernel/__main__.py:6: RuntimeWarning: Mean of empty slice\n"
     ]
    },
    {
     "ename": "AssertionError",
     "evalue": "",
     "output_type": "error",
     "traceback": [
      "\u001b[0;31m---------------------------------------------------------------------------\u001b[0m",
      "\u001b[0;31mAssertionError\u001b[0m                            Traceback (most recent call last)",
      "\u001b[0;32m<ipython-input-19-ebbda6a346c0>\u001b[0m in \u001b[0;36m<module>\u001b[0;34m()\u001b[0m\n\u001b[1;32m     39\u001b[0m \u001b[0;32mprint\u001b[0m \u001b[0mfname\u001b[0m\u001b[0;34m\u001b[0m\u001b[0m\n\u001b[1;32m     40\u001b[0m \u001b[0;34m\u001b[0m\u001b[0m\n\u001b[0;32m---> 41\u001b[0;31m \u001b[0mplt\u001b[0m\u001b[0;34m.\u001b[0m\u001b[0msavefig\u001b[0m\u001b[0;34m(\u001b[0m\u001b[0mfname\u001b[0m \u001b[0;34m+\u001b[0m \u001b[0;34m'.png'\u001b[0m\u001b[0;34m,\u001b[0m \u001b[0mtransparent\u001b[0m\u001b[0;34m=\u001b[0m\u001b[0mTrue\u001b[0m\u001b[0;34m)\u001b[0m\u001b[0;34m\u001b[0m\u001b[0m\n\u001b[0m\u001b[1;32m     42\u001b[0m \u001b[0mplt\u001b[0m\u001b[0;34m.\u001b[0m\u001b[0msavefig\u001b[0m\u001b[0;34m(\u001b[0m\u001b[0mfname\u001b[0m \u001b[0;34m+\u001b[0m \u001b[0;34m'.eps'\u001b[0m\u001b[0;34m,\u001b[0m \u001b[0mtransparent\u001b[0m\u001b[0;34m=\u001b[0m\u001b[0mTrue\u001b[0m\u001b[0;34m)\u001b[0m\u001b[0;34m\u001b[0m\u001b[0m\n",
      "\u001b[0;32m/Users/quinntran/anaconda/lib/python2.7/site-packages/matplotlib/pyplot.pyc\u001b[0m in \u001b[0;36msavefig\u001b[0;34m(*args, **kwargs)\u001b[0m\n\u001b[1;32m    686\u001b[0m \u001b[0;32mdef\u001b[0m \u001b[0msavefig\u001b[0m\u001b[0;34m(\u001b[0m\u001b[0;34m*\u001b[0m\u001b[0margs\u001b[0m\u001b[0;34m,\u001b[0m \u001b[0;34m**\u001b[0m\u001b[0mkwargs\u001b[0m\u001b[0;34m)\u001b[0m\u001b[0;34m:\u001b[0m\u001b[0;34m\u001b[0m\u001b[0m\n\u001b[1;32m    687\u001b[0m     \u001b[0mfig\u001b[0m \u001b[0;34m=\u001b[0m \u001b[0mgcf\u001b[0m\u001b[0;34m(\u001b[0m\u001b[0;34m)\u001b[0m\u001b[0;34m\u001b[0m\u001b[0m\n\u001b[0;32m--> 688\u001b[0;31m     \u001b[0mres\u001b[0m \u001b[0;34m=\u001b[0m \u001b[0mfig\u001b[0m\u001b[0;34m.\u001b[0m\u001b[0msavefig\u001b[0m\u001b[0;34m(\u001b[0m\u001b[0;34m*\u001b[0m\u001b[0margs\u001b[0m\u001b[0;34m,\u001b[0m \u001b[0;34m**\u001b[0m\u001b[0mkwargs\u001b[0m\u001b[0;34m)\u001b[0m\u001b[0;34m\u001b[0m\u001b[0m\n\u001b[0m\u001b[1;32m    689\u001b[0m     \u001b[0mfig\u001b[0m\u001b[0;34m.\u001b[0m\u001b[0mcanvas\u001b[0m\u001b[0;34m.\u001b[0m\u001b[0mdraw_idle\u001b[0m\u001b[0;34m(\u001b[0m\u001b[0;34m)\u001b[0m   \u001b[0;31m# need this if 'transparent=True' to reset colors\u001b[0m\u001b[0;34m\u001b[0m\u001b[0m\n\u001b[1;32m    690\u001b[0m     \u001b[0;32mreturn\u001b[0m \u001b[0mres\u001b[0m\u001b[0;34m\u001b[0m\u001b[0m\n",
      "\u001b[0;32m/Users/quinntran/anaconda/lib/python2.7/site-packages/matplotlib/figure.pyc\u001b[0m in \u001b[0;36msavefig\u001b[0;34m(self, *args, **kwargs)\u001b[0m\n\u001b[1;32m   1563\u001b[0m             \u001b[0mself\u001b[0m\u001b[0;34m.\u001b[0m\u001b[0mset_frameon\u001b[0m\u001b[0;34m(\u001b[0m\u001b[0mframeon\u001b[0m\u001b[0;34m)\u001b[0m\u001b[0;34m\u001b[0m\u001b[0m\n\u001b[1;32m   1564\u001b[0m \u001b[0;34m\u001b[0m\u001b[0m\n\u001b[0;32m-> 1565\u001b[0;31m         \u001b[0mself\u001b[0m\u001b[0;34m.\u001b[0m\u001b[0mcanvas\u001b[0m\u001b[0;34m.\u001b[0m\u001b[0mprint_figure\u001b[0m\u001b[0;34m(\u001b[0m\u001b[0;34m*\u001b[0m\u001b[0margs\u001b[0m\u001b[0;34m,\u001b[0m \u001b[0;34m**\u001b[0m\u001b[0mkwargs\u001b[0m\u001b[0;34m)\u001b[0m\u001b[0;34m\u001b[0m\u001b[0m\n\u001b[0m\u001b[1;32m   1566\u001b[0m \u001b[0;34m\u001b[0m\u001b[0m\n\u001b[1;32m   1567\u001b[0m         \u001b[0;32mif\u001b[0m \u001b[0mframeon\u001b[0m\u001b[0;34m:\u001b[0m\u001b[0;34m\u001b[0m\u001b[0m\n",
      "\u001b[0;32m/Users/quinntran/anaconda/lib/python2.7/site-packages/matplotlib/backend_bases.pyc\u001b[0m in \u001b[0;36mprint_figure\u001b[0;34m(self, filename, dpi, facecolor, edgecolor, orientation, format, **kwargs)\u001b[0m\n\u001b[1;32m   2230\u001b[0m                 \u001b[0morientation\u001b[0m\u001b[0;34m=\u001b[0m\u001b[0morientation\u001b[0m\u001b[0;34m,\u001b[0m\u001b[0;34m\u001b[0m\u001b[0m\n\u001b[1;32m   2231\u001b[0m                 \u001b[0mbbox_inches_restore\u001b[0m\u001b[0;34m=\u001b[0m\u001b[0m_bbox_inches_restore\u001b[0m\u001b[0;34m,\u001b[0m\u001b[0;34m\u001b[0m\u001b[0m\n\u001b[0;32m-> 2232\u001b[0;31m                 **kwargs)\n\u001b[0m\u001b[1;32m   2233\u001b[0m         \u001b[0;32mfinally\u001b[0m\u001b[0;34m:\u001b[0m\u001b[0;34m\u001b[0m\u001b[0m\n\u001b[1;32m   2234\u001b[0m             \u001b[0;32mif\u001b[0m \u001b[0mbbox_inches\u001b[0m \u001b[0;32mand\u001b[0m \u001b[0mrestore_bbox\u001b[0m\u001b[0;34m:\u001b[0m\u001b[0;34m\u001b[0m\u001b[0m\n",
      "\u001b[0;32m/Users/quinntran/anaconda/lib/python2.7/site-packages/matplotlib/backends/backend_agg.pyc\u001b[0m in \u001b[0;36mprint_png\u001b[0;34m(self, filename_or_obj, *args, **kwargs)\u001b[0m\n\u001b[1;32m    525\u001b[0m \u001b[0;34m\u001b[0m\u001b[0m\n\u001b[1;32m    526\u001b[0m     \u001b[0;32mdef\u001b[0m \u001b[0mprint_png\u001b[0m\u001b[0;34m(\u001b[0m\u001b[0mself\u001b[0m\u001b[0;34m,\u001b[0m \u001b[0mfilename_or_obj\u001b[0m\u001b[0;34m,\u001b[0m \u001b[0;34m*\u001b[0m\u001b[0margs\u001b[0m\u001b[0;34m,\u001b[0m \u001b[0;34m**\u001b[0m\u001b[0mkwargs\u001b[0m\u001b[0;34m)\u001b[0m\u001b[0;34m:\u001b[0m\u001b[0;34m\u001b[0m\u001b[0m\n\u001b[0;32m--> 527\u001b[0;31m         \u001b[0mFigureCanvasAgg\u001b[0m\u001b[0;34m.\u001b[0m\u001b[0mdraw\u001b[0m\u001b[0;34m(\u001b[0m\u001b[0mself\u001b[0m\u001b[0;34m)\u001b[0m\u001b[0;34m\u001b[0m\u001b[0m\n\u001b[0m\u001b[1;32m    528\u001b[0m         \u001b[0mrenderer\u001b[0m \u001b[0;34m=\u001b[0m \u001b[0mself\u001b[0m\u001b[0;34m.\u001b[0m\u001b[0mget_renderer\u001b[0m\u001b[0;34m(\u001b[0m\u001b[0;34m)\u001b[0m\u001b[0;34m\u001b[0m\u001b[0m\n\u001b[1;32m    529\u001b[0m         \u001b[0moriginal_dpi\u001b[0m \u001b[0;34m=\u001b[0m \u001b[0mrenderer\u001b[0m\u001b[0;34m.\u001b[0m\u001b[0mdpi\u001b[0m\u001b[0;34m\u001b[0m\u001b[0m\n",
      "\u001b[0;32m/Users/quinntran/anaconda/lib/python2.7/site-packages/matplotlib/backends/backend_agg.pyc\u001b[0m in \u001b[0;36mdraw\u001b[0;34m(self)\u001b[0m\n\u001b[1;32m    472\u001b[0m \u001b[0;34m\u001b[0m\u001b[0m\n\u001b[1;32m    473\u001b[0m         \u001b[0;32mtry\u001b[0m\u001b[0;34m:\u001b[0m\u001b[0;34m\u001b[0m\u001b[0m\n\u001b[0;32m--> 474\u001b[0;31m             \u001b[0mself\u001b[0m\u001b[0;34m.\u001b[0m\u001b[0mfigure\u001b[0m\u001b[0;34m.\u001b[0m\u001b[0mdraw\u001b[0m\u001b[0;34m(\u001b[0m\u001b[0mself\u001b[0m\u001b[0;34m.\u001b[0m\u001b[0mrenderer\u001b[0m\u001b[0;34m)\u001b[0m\u001b[0;34m\u001b[0m\u001b[0m\n\u001b[0m\u001b[1;32m    475\u001b[0m         \u001b[0;32mfinally\u001b[0m\u001b[0;34m:\u001b[0m\u001b[0;34m\u001b[0m\u001b[0m\n\u001b[1;32m    476\u001b[0m             \u001b[0mRendererAgg\u001b[0m\u001b[0;34m.\u001b[0m\u001b[0mlock\u001b[0m\u001b[0;34m.\u001b[0m\u001b[0mrelease\u001b[0m\u001b[0;34m(\u001b[0m\u001b[0;34m)\u001b[0m\u001b[0;34m\u001b[0m\u001b[0m\n",
      "\u001b[0;32m/Users/quinntran/anaconda/lib/python2.7/site-packages/matplotlib/artist.pyc\u001b[0m in \u001b[0;36mdraw_wrapper\u001b[0;34m(artist, renderer, *args, **kwargs)\u001b[0m\n\u001b[1;32m     59\u001b[0m     \u001b[0;32mdef\u001b[0m \u001b[0mdraw_wrapper\u001b[0m\u001b[0;34m(\u001b[0m\u001b[0martist\u001b[0m\u001b[0;34m,\u001b[0m \u001b[0mrenderer\u001b[0m\u001b[0;34m,\u001b[0m \u001b[0;34m*\u001b[0m\u001b[0margs\u001b[0m\u001b[0;34m,\u001b[0m \u001b[0;34m**\u001b[0m\u001b[0mkwargs\u001b[0m\u001b[0;34m)\u001b[0m\u001b[0;34m:\u001b[0m\u001b[0;34m\u001b[0m\u001b[0m\n\u001b[1;32m     60\u001b[0m         \u001b[0mbefore\u001b[0m\u001b[0;34m(\u001b[0m\u001b[0martist\u001b[0m\u001b[0;34m,\u001b[0m \u001b[0mrenderer\u001b[0m\u001b[0;34m)\u001b[0m\u001b[0;34m\u001b[0m\u001b[0m\n\u001b[0;32m---> 61\u001b[0;31m         \u001b[0mdraw\u001b[0m\u001b[0;34m(\u001b[0m\u001b[0martist\u001b[0m\u001b[0;34m,\u001b[0m \u001b[0mrenderer\u001b[0m\u001b[0;34m,\u001b[0m \u001b[0;34m*\u001b[0m\u001b[0margs\u001b[0m\u001b[0;34m,\u001b[0m \u001b[0;34m**\u001b[0m\u001b[0mkwargs\u001b[0m\u001b[0;34m)\u001b[0m\u001b[0;34m\u001b[0m\u001b[0m\n\u001b[0m\u001b[1;32m     62\u001b[0m         \u001b[0mafter\u001b[0m\u001b[0;34m(\u001b[0m\u001b[0martist\u001b[0m\u001b[0;34m,\u001b[0m \u001b[0mrenderer\u001b[0m\u001b[0;34m)\u001b[0m\u001b[0;34m\u001b[0m\u001b[0m\n\u001b[1;32m     63\u001b[0m \u001b[0;34m\u001b[0m\u001b[0m\n",
      "\u001b[0;32m/Users/quinntran/anaconda/lib/python2.7/site-packages/matplotlib/figure.pyc\u001b[0m in \u001b[0;36mdraw\u001b[0;34m(self, renderer)\u001b[0m\n\u001b[1;32m   1157\u001b[0m         \u001b[0mdsu\u001b[0m\u001b[0;34m.\u001b[0m\u001b[0msort\u001b[0m\u001b[0;34m(\u001b[0m\u001b[0mkey\u001b[0m\u001b[0;34m=\u001b[0m\u001b[0mitemgetter\u001b[0m\u001b[0;34m(\u001b[0m\u001b[0;36m0\u001b[0m\u001b[0;34m)\u001b[0m\u001b[0;34m)\u001b[0m\u001b[0;34m\u001b[0m\u001b[0m\n\u001b[1;32m   1158\u001b[0m         \u001b[0;32mfor\u001b[0m \u001b[0mzorder\u001b[0m\u001b[0;34m,\u001b[0m \u001b[0ma\u001b[0m\u001b[0;34m,\u001b[0m \u001b[0mfunc\u001b[0m\u001b[0;34m,\u001b[0m \u001b[0margs\u001b[0m \u001b[0;32min\u001b[0m \u001b[0mdsu\u001b[0m\u001b[0;34m:\u001b[0m\u001b[0;34m\u001b[0m\u001b[0m\n\u001b[0;32m-> 1159\u001b[0;31m             \u001b[0mfunc\u001b[0m\u001b[0;34m(\u001b[0m\u001b[0;34m*\u001b[0m\u001b[0margs\u001b[0m\u001b[0;34m)\u001b[0m\u001b[0;34m\u001b[0m\u001b[0m\n\u001b[0m\u001b[1;32m   1160\u001b[0m \u001b[0;34m\u001b[0m\u001b[0m\n\u001b[1;32m   1161\u001b[0m         \u001b[0mrenderer\u001b[0m\u001b[0;34m.\u001b[0m\u001b[0mclose_group\u001b[0m\u001b[0;34m(\u001b[0m\u001b[0;34m'figure'\u001b[0m\u001b[0;34m)\u001b[0m\u001b[0;34m\u001b[0m\u001b[0m\n",
      "\u001b[0;32m/Users/quinntran/anaconda/lib/python2.7/site-packages/matplotlib/artist.pyc\u001b[0m in \u001b[0;36mdraw_wrapper\u001b[0;34m(artist, renderer, *args, **kwargs)\u001b[0m\n\u001b[1;32m     59\u001b[0m     \u001b[0;32mdef\u001b[0m \u001b[0mdraw_wrapper\u001b[0m\u001b[0;34m(\u001b[0m\u001b[0martist\u001b[0m\u001b[0;34m,\u001b[0m \u001b[0mrenderer\u001b[0m\u001b[0;34m,\u001b[0m \u001b[0;34m*\u001b[0m\u001b[0margs\u001b[0m\u001b[0;34m,\u001b[0m \u001b[0;34m**\u001b[0m\u001b[0mkwargs\u001b[0m\u001b[0;34m)\u001b[0m\u001b[0;34m:\u001b[0m\u001b[0;34m\u001b[0m\u001b[0m\n\u001b[1;32m     60\u001b[0m         \u001b[0mbefore\u001b[0m\u001b[0;34m(\u001b[0m\u001b[0martist\u001b[0m\u001b[0;34m,\u001b[0m \u001b[0mrenderer\u001b[0m\u001b[0;34m)\u001b[0m\u001b[0;34m\u001b[0m\u001b[0m\n\u001b[0;32m---> 61\u001b[0;31m         \u001b[0mdraw\u001b[0m\u001b[0;34m(\u001b[0m\u001b[0martist\u001b[0m\u001b[0;34m,\u001b[0m \u001b[0mrenderer\u001b[0m\u001b[0;34m,\u001b[0m \u001b[0;34m*\u001b[0m\u001b[0margs\u001b[0m\u001b[0;34m,\u001b[0m \u001b[0;34m**\u001b[0m\u001b[0mkwargs\u001b[0m\u001b[0;34m)\u001b[0m\u001b[0;34m\u001b[0m\u001b[0m\n\u001b[0m\u001b[1;32m     62\u001b[0m         \u001b[0mafter\u001b[0m\u001b[0;34m(\u001b[0m\u001b[0martist\u001b[0m\u001b[0;34m,\u001b[0m \u001b[0mrenderer\u001b[0m\u001b[0;34m)\u001b[0m\u001b[0;34m\u001b[0m\u001b[0m\n\u001b[1;32m     63\u001b[0m \u001b[0;34m\u001b[0m\u001b[0m\n",
      "\u001b[0;32m/Users/quinntran/anaconda/lib/python2.7/site-packages/matplotlib/axes/_base.pyc\u001b[0m in \u001b[0;36mdraw\u001b[0;34m(self, renderer, inframe)\u001b[0m\n\u001b[1;32m   2322\u001b[0m \u001b[0;34m\u001b[0m\u001b[0m\n\u001b[1;32m   2323\u001b[0m         \u001b[0;32mfor\u001b[0m \u001b[0mzorder\u001b[0m\u001b[0;34m,\u001b[0m \u001b[0ma\u001b[0m \u001b[0;32min\u001b[0m \u001b[0mdsu\u001b[0m\u001b[0;34m:\u001b[0m\u001b[0;34m\u001b[0m\u001b[0m\n\u001b[0;32m-> 2324\u001b[0;31m             \u001b[0ma\u001b[0m\u001b[0;34m.\u001b[0m\u001b[0mdraw\u001b[0m\u001b[0;34m(\u001b[0m\u001b[0mrenderer\u001b[0m\u001b[0;34m)\u001b[0m\u001b[0;34m\u001b[0m\u001b[0m\n\u001b[0m\u001b[1;32m   2325\u001b[0m \u001b[0;34m\u001b[0m\u001b[0m\n\u001b[1;32m   2326\u001b[0m         \u001b[0mrenderer\u001b[0m\u001b[0;34m.\u001b[0m\u001b[0mclose_group\u001b[0m\u001b[0;34m(\u001b[0m\u001b[0;34m'axes'\u001b[0m\u001b[0;34m)\u001b[0m\u001b[0;34m\u001b[0m\u001b[0m\n",
      "\u001b[0;32m/Users/quinntran/anaconda/lib/python2.7/site-packages/matplotlib/artist.pyc\u001b[0m in \u001b[0;36mdraw_wrapper\u001b[0;34m(artist, renderer, *args, **kwargs)\u001b[0m\n\u001b[1;32m     59\u001b[0m     \u001b[0;32mdef\u001b[0m \u001b[0mdraw_wrapper\u001b[0m\u001b[0;34m(\u001b[0m\u001b[0martist\u001b[0m\u001b[0;34m,\u001b[0m \u001b[0mrenderer\u001b[0m\u001b[0;34m,\u001b[0m \u001b[0;34m*\u001b[0m\u001b[0margs\u001b[0m\u001b[0;34m,\u001b[0m \u001b[0;34m**\u001b[0m\u001b[0mkwargs\u001b[0m\u001b[0;34m)\u001b[0m\u001b[0;34m:\u001b[0m\u001b[0;34m\u001b[0m\u001b[0m\n\u001b[1;32m     60\u001b[0m         \u001b[0mbefore\u001b[0m\u001b[0;34m(\u001b[0m\u001b[0martist\u001b[0m\u001b[0;34m,\u001b[0m \u001b[0mrenderer\u001b[0m\u001b[0;34m)\u001b[0m\u001b[0;34m\u001b[0m\u001b[0m\n\u001b[0;32m---> 61\u001b[0;31m         \u001b[0mdraw\u001b[0m\u001b[0;34m(\u001b[0m\u001b[0martist\u001b[0m\u001b[0;34m,\u001b[0m \u001b[0mrenderer\u001b[0m\u001b[0;34m,\u001b[0m \u001b[0;34m*\u001b[0m\u001b[0margs\u001b[0m\u001b[0;34m,\u001b[0m \u001b[0;34m**\u001b[0m\u001b[0mkwargs\u001b[0m\u001b[0;34m)\u001b[0m\u001b[0;34m\u001b[0m\u001b[0m\n\u001b[0m\u001b[1;32m     62\u001b[0m         \u001b[0mafter\u001b[0m\u001b[0;34m(\u001b[0m\u001b[0martist\u001b[0m\u001b[0;34m,\u001b[0m \u001b[0mrenderer\u001b[0m\u001b[0;34m)\u001b[0m\u001b[0;34m\u001b[0m\u001b[0m\n\u001b[1;32m     63\u001b[0m \u001b[0;34m\u001b[0m\u001b[0m\n",
      "\u001b[0;32m/Users/quinntran/anaconda/lib/python2.7/site-packages/matplotlib/legend.pyc\u001b[0m in \u001b[0;36mdraw\u001b[0;34m(self, renderer)\u001b[0m\n\u001b[1;32m    468\u001b[0m         \u001b[0;31m# update the location and size of the legend. This needs to\u001b[0m\u001b[0;34m\u001b[0m\u001b[0;34m\u001b[0m\u001b[0m\n\u001b[1;32m    469\u001b[0m         \u001b[0;31m# be done in any case to clip the figure right.\u001b[0m\u001b[0;34m\u001b[0m\u001b[0;34m\u001b[0m\u001b[0m\n\u001b[0;32m--> 470\u001b[0;31m         \u001b[0mbbox\u001b[0m \u001b[0;34m=\u001b[0m \u001b[0mself\u001b[0m\u001b[0;34m.\u001b[0m\u001b[0m_legend_box\u001b[0m\u001b[0;34m.\u001b[0m\u001b[0mget_window_extent\u001b[0m\u001b[0;34m(\u001b[0m\u001b[0mrenderer\u001b[0m\u001b[0;34m)\u001b[0m\u001b[0;34m\u001b[0m\u001b[0m\n\u001b[0m\u001b[1;32m    471\u001b[0m         self.legendPatch.set_bounds(bbox.x0, bbox.y0,\n\u001b[1;32m    472\u001b[0m                                     bbox.width, bbox.height)\n",
      "\u001b[0;32m/Users/quinntran/anaconda/lib/python2.7/site-packages/matplotlib/offsetbox.pyc\u001b[0m in \u001b[0;36mget_window_extent\u001b[0;34m(self, renderer)\u001b[0m\n\u001b[1;32m    268\u001b[0m         '''\n\u001b[1;32m    269\u001b[0m         \u001b[0mw\u001b[0m\u001b[0;34m,\u001b[0m \u001b[0mh\u001b[0m\u001b[0;34m,\u001b[0m \u001b[0mxd\u001b[0m\u001b[0;34m,\u001b[0m \u001b[0myd\u001b[0m\u001b[0;34m,\u001b[0m \u001b[0moffsets\u001b[0m \u001b[0;34m=\u001b[0m \u001b[0mself\u001b[0m\u001b[0;34m.\u001b[0m\u001b[0mget_extent_offsets\u001b[0m\u001b[0;34m(\u001b[0m\u001b[0mrenderer\u001b[0m\u001b[0;34m)\u001b[0m\u001b[0;34m\u001b[0m\u001b[0m\n\u001b[0;32m--> 270\u001b[0;31m         \u001b[0mpx\u001b[0m\u001b[0;34m,\u001b[0m \u001b[0mpy\u001b[0m \u001b[0;34m=\u001b[0m \u001b[0mself\u001b[0m\u001b[0;34m.\u001b[0m\u001b[0mget_offset\u001b[0m\u001b[0;34m(\u001b[0m\u001b[0mw\u001b[0m\u001b[0;34m,\u001b[0m \u001b[0mh\u001b[0m\u001b[0;34m,\u001b[0m \u001b[0mxd\u001b[0m\u001b[0;34m,\u001b[0m \u001b[0myd\u001b[0m\u001b[0;34m,\u001b[0m \u001b[0mrenderer\u001b[0m\u001b[0;34m)\u001b[0m\u001b[0;34m\u001b[0m\u001b[0m\n\u001b[0m\u001b[1;32m    271\u001b[0m         \u001b[0;32mreturn\u001b[0m \u001b[0mmtransforms\u001b[0m\u001b[0;34m.\u001b[0m\u001b[0mBbox\u001b[0m\u001b[0;34m.\u001b[0m\u001b[0mfrom_bounds\u001b[0m\u001b[0;34m(\u001b[0m\u001b[0mpx\u001b[0m \u001b[0;34m-\u001b[0m \u001b[0mxd\u001b[0m\u001b[0;34m,\u001b[0m \u001b[0mpy\u001b[0m \u001b[0;34m-\u001b[0m \u001b[0myd\u001b[0m\u001b[0;34m,\u001b[0m \u001b[0mw\u001b[0m\u001b[0;34m,\u001b[0m \u001b[0mh\u001b[0m\u001b[0;34m)\u001b[0m\u001b[0;34m\u001b[0m\u001b[0m\n\u001b[1;32m    272\u001b[0m \u001b[0;34m\u001b[0m\u001b[0m\n",
      "\u001b[0;32m/Users/quinntran/anaconda/lib/python2.7/site-packages/matplotlib/offsetbox.pyc\u001b[0m in \u001b[0;36mget_offset\u001b[0;34m(self, width, height, xdescent, ydescent, renderer)\u001b[0m\n\u001b[1;32m    219\u001b[0m         \"\"\"\n\u001b[1;32m    220\u001b[0m         \u001b[0;32mif\u001b[0m \u001b[0msix\u001b[0m\u001b[0;34m.\u001b[0m\u001b[0mcallable\u001b[0m\u001b[0;34m(\u001b[0m\u001b[0mself\u001b[0m\u001b[0;34m.\u001b[0m\u001b[0m_offset\u001b[0m\u001b[0;34m)\u001b[0m\u001b[0;34m:\u001b[0m\u001b[0;34m\u001b[0m\u001b[0m\n\u001b[0;32m--> 221\u001b[0;31m             \u001b[0;32mreturn\u001b[0m \u001b[0mself\u001b[0m\u001b[0;34m.\u001b[0m\u001b[0m_offset\u001b[0m\u001b[0;34m(\u001b[0m\u001b[0mwidth\u001b[0m\u001b[0;34m,\u001b[0m \u001b[0mheight\u001b[0m\u001b[0;34m,\u001b[0m \u001b[0mxdescent\u001b[0m\u001b[0;34m,\u001b[0m \u001b[0mydescent\u001b[0m\u001b[0;34m,\u001b[0m \u001b[0mrenderer\u001b[0m\u001b[0;34m)\u001b[0m\u001b[0;34m\u001b[0m\u001b[0m\n\u001b[0m\u001b[1;32m    222\u001b[0m         \u001b[0;32melse\u001b[0m\u001b[0;34m:\u001b[0m\u001b[0;34m\u001b[0m\u001b[0m\n\u001b[1;32m    223\u001b[0m             \u001b[0;32mreturn\u001b[0m \u001b[0mself\u001b[0m\u001b[0;34m.\u001b[0m\u001b[0m_offset\u001b[0m\u001b[0;34m\u001b[0m\u001b[0m\n",
      "\u001b[0;32m/Users/quinntran/anaconda/lib/python2.7/site-packages/matplotlib/legend.pyc\u001b[0m in \u001b[0;36m_findoffset_loc\u001b[0;34m(self, width, height, xdescent, ydescent, renderer)\u001b[0m\n\u001b[1;32m    446\u001b[0m             x, y = self._get_anchored_bbox(self._loc, bbox,\n\u001b[1;32m    447\u001b[0m                                            \u001b[0mself\u001b[0m\u001b[0;34m.\u001b[0m\u001b[0mget_bbox_to_anchor\u001b[0m\u001b[0;34m(\u001b[0m\u001b[0;34m)\u001b[0m\u001b[0;34m,\u001b[0m\u001b[0;34m\u001b[0m\u001b[0m\n\u001b[0;32m--> 448\u001b[0;31m                                            renderer)\n\u001b[0m\u001b[1;32m    449\u001b[0m \u001b[0;34m\u001b[0m\u001b[0m\n\u001b[1;32m    450\u001b[0m         \u001b[0;32mreturn\u001b[0m \u001b[0mx\u001b[0m \u001b[0;34m+\u001b[0m \u001b[0mxdescent\u001b[0m\u001b[0;34m,\u001b[0m \u001b[0my\u001b[0m \u001b[0;34m+\u001b[0m \u001b[0mydescent\u001b[0m\u001b[0;34m\u001b[0m\u001b[0m\n",
      "\u001b[0;32m/Users/quinntran/anaconda/lib/python2.7/site-packages/matplotlib/legend.pyc\u001b[0m in \u001b[0;36m_get_anchored_bbox\u001b[0;34m(self, loc, bbox, parentbbox, renderer)\u001b[0m\n\u001b[1;32m    889\u001b[0m             \u001b[0mdisplay\u001b[0m \u001b[0mcoordinates\u001b[0m\u001b[0;34m.\u001b[0m\u001b[0;34m\u001b[0m\u001b[0m\n\u001b[1;32m    890\u001b[0m         \"\"\"\n\u001b[0;32m--> 891\u001b[0;31m         \u001b[0;32massert\u001b[0m \u001b[0mloc\u001b[0m \u001b[0;32min\u001b[0m \u001b[0mrange\u001b[0m\u001b[0;34m(\u001b[0m\u001b[0;36m1\u001b[0m\u001b[0;34m,\u001b[0m \u001b[0;36m11\u001b[0m\u001b[0;34m)\u001b[0m  \u001b[0;31m# called only internally\u001b[0m\u001b[0;34m\u001b[0m\u001b[0m\n\u001b[0m\u001b[1;32m    892\u001b[0m \u001b[0;34m\u001b[0m\u001b[0m\n\u001b[1;32m    893\u001b[0m         \u001b[0mBEST\u001b[0m\u001b[0;34m,\u001b[0m \u001b[0mUR\u001b[0m\u001b[0;34m,\u001b[0m \u001b[0mUL\u001b[0m\u001b[0;34m,\u001b[0m \u001b[0mLL\u001b[0m\u001b[0;34m,\u001b[0m \u001b[0mLR\u001b[0m\u001b[0;34m,\u001b[0m \u001b[0mR\u001b[0m\u001b[0;34m,\u001b[0m \u001b[0mCL\u001b[0m\u001b[0;34m,\u001b[0m \u001b[0mCR\u001b[0m\u001b[0;34m,\u001b[0m \u001b[0mLC\u001b[0m\u001b[0;34m,\u001b[0m \u001b[0mUC\u001b[0m\u001b[0;34m,\u001b[0m \u001b[0mC\u001b[0m \u001b[0;34m=\u001b[0m \u001b[0mlist\u001b[0m\u001b[0;34m(\u001b[0m\u001b[0mxrange\u001b[0m\u001b[0;34m(\u001b[0m\u001b[0;36m11\u001b[0m\u001b[0;34m)\u001b[0m\u001b[0;34m)\u001b[0m\u001b[0;34m\u001b[0m\u001b[0m\n",
      "\u001b[0;31mAssertionError\u001b[0m: "
     ]
    },
    {
     "name": "stdout",
     "output_type": "stream",
     "text": [
      "Error in callback <function post_execute at 0x105a99d70> (for post_execute):\n"
     ]
    },
    {
     "ename": "AssertionError",
     "evalue": "",
     "output_type": "error",
     "traceback": [
      "\u001b[0;31m---------------------------------------------------------------------------\u001b[0m",
      "\u001b[0;31mAssertionError\u001b[0m                            Traceback (most recent call last)",
      "\u001b[0;32m/Users/quinntran/anaconda/lib/python2.7/site-packages/matplotlib/pyplot.pyc\u001b[0m in \u001b[0;36mpost_execute\u001b[0;34m()\u001b[0m\n\u001b[1;32m    145\u001b[0m             \u001b[0;32mdef\u001b[0m \u001b[0mpost_execute\u001b[0m\u001b[0;34m(\u001b[0m\u001b[0;34m)\u001b[0m\u001b[0;34m:\u001b[0m\u001b[0;34m\u001b[0m\u001b[0m\n\u001b[1;32m    146\u001b[0m                 \u001b[0;32mif\u001b[0m \u001b[0mmatplotlib\u001b[0m\u001b[0;34m.\u001b[0m\u001b[0mis_interactive\u001b[0m\u001b[0;34m(\u001b[0m\u001b[0;34m)\u001b[0m\u001b[0;34m:\u001b[0m\u001b[0;34m\u001b[0m\u001b[0m\n\u001b[0;32m--> 147\u001b[0;31m                     \u001b[0mdraw_all\u001b[0m\u001b[0;34m(\u001b[0m\u001b[0;34m)\u001b[0m\u001b[0;34m\u001b[0m\u001b[0m\n\u001b[0m\u001b[1;32m    148\u001b[0m \u001b[0;34m\u001b[0m\u001b[0m\n\u001b[1;32m    149\u001b[0m             \u001b[0;31m# IPython >= 2\u001b[0m\u001b[0;34m\u001b[0m\u001b[0;34m\u001b[0m\u001b[0m\n",
      "\u001b[0;32m/Users/quinntran/anaconda/lib/python2.7/site-packages/matplotlib/_pylab_helpers.pyc\u001b[0m in \u001b[0;36mdraw_all\u001b[0;34m(cls, force)\u001b[0m\n\u001b[1;32m    148\u001b[0m         \u001b[0;32mfor\u001b[0m \u001b[0mf_mgr\u001b[0m \u001b[0;32min\u001b[0m \u001b[0mcls\u001b[0m\u001b[0;34m.\u001b[0m\u001b[0mget_all_fig_managers\u001b[0m\u001b[0;34m(\u001b[0m\u001b[0;34m)\u001b[0m\u001b[0;34m:\u001b[0m\u001b[0;34m\u001b[0m\u001b[0m\n\u001b[1;32m    149\u001b[0m             \u001b[0;32mif\u001b[0m \u001b[0mforce\u001b[0m \u001b[0;32mor\u001b[0m \u001b[0mf_mgr\u001b[0m\u001b[0;34m.\u001b[0m\u001b[0mcanvas\u001b[0m\u001b[0;34m.\u001b[0m\u001b[0mfigure\u001b[0m\u001b[0;34m.\u001b[0m\u001b[0mstale\u001b[0m\u001b[0;34m:\u001b[0m\u001b[0;34m\u001b[0m\u001b[0m\n\u001b[0;32m--> 150\u001b[0;31m                 \u001b[0mf_mgr\u001b[0m\u001b[0;34m.\u001b[0m\u001b[0mcanvas\u001b[0m\u001b[0;34m.\u001b[0m\u001b[0mdraw_idle\u001b[0m\u001b[0;34m(\u001b[0m\u001b[0;34m)\u001b[0m\u001b[0;34m\u001b[0m\u001b[0m\n\u001b[0m\u001b[1;32m    151\u001b[0m \u001b[0;34m\u001b[0m\u001b[0m\n\u001b[1;32m    152\u001b[0m \u001b[0matexit\u001b[0m\u001b[0;34m.\u001b[0m\u001b[0mregister\u001b[0m\u001b[0;34m(\u001b[0m\u001b[0mGcf\u001b[0m\u001b[0;34m.\u001b[0m\u001b[0mdestroy_all\u001b[0m\u001b[0;34m)\u001b[0m\u001b[0;34m\u001b[0m\u001b[0m\n",
      "\u001b[0;32m/Users/quinntran/anaconda/lib/python2.7/site-packages/matplotlib/backend_bases.pyc\u001b[0m in \u001b[0;36mdraw_idle\u001b[0;34m(self, *args, **kwargs)\u001b[0m\n\u001b[1;32m   2024\u001b[0m         \u001b[0;32mif\u001b[0m \u001b[0;32mnot\u001b[0m \u001b[0mself\u001b[0m\u001b[0;34m.\u001b[0m\u001b[0m_is_idle_drawing\u001b[0m\u001b[0;34m:\u001b[0m\u001b[0;34m\u001b[0m\u001b[0m\n\u001b[1;32m   2025\u001b[0m             \u001b[0;32mwith\u001b[0m \u001b[0mself\u001b[0m\u001b[0;34m.\u001b[0m\u001b[0m_idle_draw_cntx\u001b[0m\u001b[0;34m(\u001b[0m\u001b[0;34m)\u001b[0m\u001b[0;34m:\u001b[0m\u001b[0;34m\u001b[0m\u001b[0m\n\u001b[0;32m-> 2026\u001b[0;31m                 \u001b[0mself\u001b[0m\u001b[0;34m.\u001b[0m\u001b[0mdraw\u001b[0m\u001b[0;34m(\u001b[0m\u001b[0;34m*\u001b[0m\u001b[0margs\u001b[0m\u001b[0;34m,\u001b[0m \u001b[0;34m**\u001b[0m\u001b[0mkwargs\u001b[0m\u001b[0;34m)\u001b[0m\u001b[0;34m\u001b[0m\u001b[0m\n\u001b[0m\u001b[1;32m   2027\u001b[0m \u001b[0;34m\u001b[0m\u001b[0m\n\u001b[1;32m   2028\u001b[0m     \u001b[0;32mdef\u001b[0m \u001b[0mdraw_cursor\u001b[0m\u001b[0;34m(\u001b[0m\u001b[0mself\u001b[0m\u001b[0;34m,\u001b[0m \u001b[0mevent\u001b[0m\u001b[0;34m)\u001b[0m\u001b[0;34m:\u001b[0m\u001b[0;34m\u001b[0m\u001b[0m\n",
      "\u001b[0;32m/Users/quinntran/anaconda/lib/python2.7/site-packages/matplotlib/backends/backend_agg.pyc\u001b[0m in \u001b[0;36mdraw\u001b[0;34m(self)\u001b[0m\n\u001b[1;32m    472\u001b[0m \u001b[0;34m\u001b[0m\u001b[0m\n\u001b[1;32m    473\u001b[0m         \u001b[0;32mtry\u001b[0m\u001b[0;34m:\u001b[0m\u001b[0;34m\u001b[0m\u001b[0m\n\u001b[0;32m--> 474\u001b[0;31m             \u001b[0mself\u001b[0m\u001b[0;34m.\u001b[0m\u001b[0mfigure\u001b[0m\u001b[0;34m.\u001b[0m\u001b[0mdraw\u001b[0m\u001b[0;34m(\u001b[0m\u001b[0mself\u001b[0m\u001b[0;34m.\u001b[0m\u001b[0mrenderer\u001b[0m\u001b[0;34m)\u001b[0m\u001b[0;34m\u001b[0m\u001b[0m\n\u001b[0m\u001b[1;32m    475\u001b[0m         \u001b[0;32mfinally\u001b[0m\u001b[0;34m:\u001b[0m\u001b[0;34m\u001b[0m\u001b[0m\n\u001b[1;32m    476\u001b[0m             \u001b[0mRendererAgg\u001b[0m\u001b[0;34m.\u001b[0m\u001b[0mlock\u001b[0m\u001b[0;34m.\u001b[0m\u001b[0mrelease\u001b[0m\u001b[0;34m(\u001b[0m\u001b[0;34m)\u001b[0m\u001b[0;34m\u001b[0m\u001b[0m\n",
      "\u001b[0;32m/Users/quinntran/anaconda/lib/python2.7/site-packages/matplotlib/artist.pyc\u001b[0m in \u001b[0;36mdraw_wrapper\u001b[0;34m(artist, renderer, *args, **kwargs)\u001b[0m\n\u001b[1;32m     59\u001b[0m     \u001b[0;32mdef\u001b[0m \u001b[0mdraw_wrapper\u001b[0m\u001b[0;34m(\u001b[0m\u001b[0martist\u001b[0m\u001b[0;34m,\u001b[0m \u001b[0mrenderer\u001b[0m\u001b[0;34m,\u001b[0m \u001b[0;34m*\u001b[0m\u001b[0margs\u001b[0m\u001b[0;34m,\u001b[0m \u001b[0;34m**\u001b[0m\u001b[0mkwargs\u001b[0m\u001b[0;34m)\u001b[0m\u001b[0;34m:\u001b[0m\u001b[0;34m\u001b[0m\u001b[0m\n\u001b[1;32m     60\u001b[0m         \u001b[0mbefore\u001b[0m\u001b[0;34m(\u001b[0m\u001b[0martist\u001b[0m\u001b[0;34m,\u001b[0m \u001b[0mrenderer\u001b[0m\u001b[0;34m)\u001b[0m\u001b[0;34m\u001b[0m\u001b[0m\n\u001b[0;32m---> 61\u001b[0;31m         \u001b[0mdraw\u001b[0m\u001b[0;34m(\u001b[0m\u001b[0martist\u001b[0m\u001b[0;34m,\u001b[0m \u001b[0mrenderer\u001b[0m\u001b[0;34m,\u001b[0m \u001b[0;34m*\u001b[0m\u001b[0margs\u001b[0m\u001b[0;34m,\u001b[0m \u001b[0;34m**\u001b[0m\u001b[0mkwargs\u001b[0m\u001b[0;34m)\u001b[0m\u001b[0;34m\u001b[0m\u001b[0m\n\u001b[0m\u001b[1;32m     62\u001b[0m         \u001b[0mafter\u001b[0m\u001b[0;34m(\u001b[0m\u001b[0martist\u001b[0m\u001b[0;34m,\u001b[0m \u001b[0mrenderer\u001b[0m\u001b[0;34m)\u001b[0m\u001b[0;34m\u001b[0m\u001b[0m\n\u001b[1;32m     63\u001b[0m \u001b[0;34m\u001b[0m\u001b[0m\n",
      "\u001b[0;32m/Users/quinntran/anaconda/lib/python2.7/site-packages/matplotlib/figure.pyc\u001b[0m in \u001b[0;36mdraw\u001b[0;34m(self, renderer)\u001b[0m\n\u001b[1;32m   1157\u001b[0m         \u001b[0mdsu\u001b[0m\u001b[0;34m.\u001b[0m\u001b[0msort\u001b[0m\u001b[0;34m(\u001b[0m\u001b[0mkey\u001b[0m\u001b[0;34m=\u001b[0m\u001b[0mitemgetter\u001b[0m\u001b[0;34m(\u001b[0m\u001b[0;36m0\u001b[0m\u001b[0;34m)\u001b[0m\u001b[0;34m)\u001b[0m\u001b[0;34m\u001b[0m\u001b[0m\n\u001b[1;32m   1158\u001b[0m         \u001b[0;32mfor\u001b[0m \u001b[0mzorder\u001b[0m\u001b[0;34m,\u001b[0m \u001b[0ma\u001b[0m\u001b[0;34m,\u001b[0m \u001b[0mfunc\u001b[0m\u001b[0;34m,\u001b[0m \u001b[0margs\u001b[0m \u001b[0;32min\u001b[0m \u001b[0mdsu\u001b[0m\u001b[0;34m:\u001b[0m\u001b[0;34m\u001b[0m\u001b[0m\n\u001b[0;32m-> 1159\u001b[0;31m             \u001b[0mfunc\u001b[0m\u001b[0;34m(\u001b[0m\u001b[0;34m*\u001b[0m\u001b[0margs\u001b[0m\u001b[0;34m)\u001b[0m\u001b[0;34m\u001b[0m\u001b[0m\n\u001b[0m\u001b[1;32m   1160\u001b[0m \u001b[0;34m\u001b[0m\u001b[0m\n\u001b[1;32m   1161\u001b[0m         \u001b[0mrenderer\u001b[0m\u001b[0;34m.\u001b[0m\u001b[0mclose_group\u001b[0m\u001b[0;34m(\u001b[0m\u001b[0;34m'figure'\u001b[0m\u001b[0;34m)\u001b[0m\u001b[0;34m\u001b[0m\u001b[0m\n",
      "\u001b[0;32m/Users/quinntran/anaconda/lib/python2.7/site-packages/matplotlib/artist.pyc\u001b[0m in \u001b[0;36mdraw_wrapper\u001b[0;34m(artist, renderer, *args, **kwargs)\u001b[0m\n\u001b[1;32m     59\u001b[0m     \u001b[0;32mdef\u001b[0m \u001b[0mdraw_wrapper\u001b[0m\u001b[0;34m(\u001b[0m\u001b[0martist\u001b[0m\u001b[0;34m,\u001b[0m \u001b[0mrenderer\u001b[0m\u001b[0;34m,\u001b[0m \u001b[0;34m*\u001b[0m\u001b[0margs\u001b[0m\u001b[0;34m,\u001b[0m \u001b[0;34m**\u001b[0m\u001b[0mkwargs\u001b[0m\u001b[0;34m)\u001b[0m\u001b[0;34m:\u001b[0m\u001b[0;34m\u001b[0m\u001b[0m\n\u001b[1;32m     60\u001b[0m         \u001b[0mbefore\u001b[0m\u001b[0;34m(\u001b[0m\u001b[0martist\u001b[0m\u001b[0;34m,\u001b[0m \u001b[0mrenderer\u001b[0m\u001b[0;34m)\u001b[0m\u001b[0;34m\u001b[0m\u001b[0m\n\u001b[0;32m---> 61\u001b[0;31m         \u001b[0mdraw\u001b[0m\u001b[0;34m(\u001b[0m\u001b[0martist\u001b[0m\u001b[0;34m,\u001b[0m \u001b[0mrenderer\u001b[0m\u001b[0;34m,\u001b[0m \u001b[0;34m*\u001b[0m\u001b[0margs\u001b[0m\u001b[0;34m,\u001b[0m \u001b[0;34m**\u001b[0m\u001b[0mkwargs\u001b[0m\u001b[0;34m)\u001b[0m\u001b[0;34m\u001b[0m\u001b[0m\n\u001b[0m\u001b[1;32m     62\u001b[0m         \u001b[0mafter\u001b[0m\u001b[0;34m(\u001b[0m\u001b[0martist\u001b[0m\u001b[0;34m,\u001b[0m \u001b[0mrenderer\u001b[0m\u001b[0;34m)\u001b[0m\u001b[0;34m\u001b[0m\u001b[0m\n\u001b[1;32m     63\u001b[0m \u001b[0;34m\u001b[0m\u001b[0m\n",
      "\u001b[0;32m/Users/quinntran/anaconda/lib/python2.7/site-packages/matplotlib/axes/_base.pyc\u001b[0m in \u001b[0;36mdraw\u001b[0;34m(self, renderer, inframe)\u001b[0m\n\u001b[1;32m   2322\u001b[0m \u001b[0;34m\u001b[0m\u001b[0m\n\u001b[1;32m   2323\u001b[0m         \u001b[0;32mfor\u001b[0m \u001b[0mzorder\u001b[0m\u001b[0;34m,\u001b[0m \u001b[0ma\u001b[0m \u001b[0;32min\u001b[0m \u001b[0mdsu\u001b[0m\u001b[0;34m:\u001b[0m\u001b[0;34m\u001b[0m\u001b[0m\n\u001b[0;32m-> 2324\u001b[0;31m             \u001b[0ma\u001b[0m\u001b[0;34m.\u001b[0m\u001b[0mdraw\u001b[0m\u001b[0;34m(\u001b[0m\u001b[0mrenderer\u001b[0m\u001b[0;34m)\u001b[0m\u001b[0;34m\u001b[0m\u001b[0m\n\u001b[0m\u001b[1;32m   2325\u001b[0m \u001b[0;34m\u001b[0m\u001b[0m\n\u001b[1;32m   2326\u001b[0m         \u001b[0mrenderer\u001b[0m\u001b[0;34m.\u001b[0m\u001b[0mclose_group\u001b[0m\u001b[0;34m(\u001b[0m\u001b[0;34m'axes'\u001b[0m\u001b[0;34m)\u001b[0m\u001b[0;34m\u001b[0m\u001b[0m\n",
      "\u001b[0;32m/Users/quinntran/anaconda/lib/python2.7/site-packages/matplotlib/artist.pyc\u001b[0m in \u001b[0;36mdraw_wrapper\u001b[0;34m(artist, renderer, *args, **kwargs)\u001b[0m\n\u001b[1;32m     59\u001b[0m     \u001b[0;32mdef\u001b[0m \u001b[0mdraw_wrapper\u001b[0m\u001b[0;34m(\u001b[0m\u001b[0martist\u001b[0m\u001b[0;34m,\u001b[0m \u001b[0mrenderer\u001b[0m\u001b[0;34m,\u001b[0m \u001b[0;34m*\u001b[0m\u001b[0margs\u001b[0m\u001b[0;34m,\u001b[0m \u001b[0;34m**\u001b[0m\u001b[0mkwargs\u001b[0m\u001b[0;34m)\u001b[0m\u001b[0;34m:\u001b[0m\u001b[0;34m\u001b[0m\u001b[0m\n\u001b[1;32m     60\u001b[0m         \u001b[0mbefore\u001b[0m\u001b[0;34m(\u001b[0m\u001b[0martist\u001b[0m\u001b[0;34m,\u001b[0m \u001b[0mrenderer\u001b[0m\u001b[0;34m)\u001b[0m\u001b[0;34m\u001b[0m\u001b[0m\n\u001b[0;32m---> 61\u001b[0;31m         \u001b[0mdraw\u001b[0m\u001b[0;34m(\u001b[0m\u001b[0martist\u001b[0m\u001b[0;34m,\u001b[0m \u001b[0mrenderer\u001b[0m\u001b[0;34m,\u001b[0m \u001b[0;34m*\u001b[0m\u001b[0margs\u001b[0m\u001b[0;34m,\u001b[0m \u001b[0;34m**\u001b[0m\u001b[0mkwargs\u001b[0m\u001b[0;34m)\u001b[0m\u001b[0;34m\u001b[0m\u001b[0m\n\u001b[0m\u001b[1;32m     62\u001b[0m         \u001b[0mafter\u001b[0m\u001b[0;34m(\u001b[0m\u001b[0martist\u001b[0m\u001b[0;34m,\u001b[0m \u001b[0mrenderer\u001b[0m\u001b[0;34m)\u001b[0m\u001b[0;34m\u001b[0m\u001b[0m\n\u001b[1;32m     63\u001b[0m \u001b[0;34m\u001b[0m\u001b[0m\n",
      "\u001b[0;32m/Users/quinntran/anaconda/lib/python2.7/site-packages/matplotlib/legend.pyc\u001b[0m in \u001b[0;36mdraw\u001b[0;34m(self, renderer)\u001b[0m\n\u001b[1;32m    468\u001b[0m         \u001b[0;31m# update the location and size of the legend. This needs to\u001b[0m\u001b[0;34m\u001b[0m\u001b[0;34m\u001b[0m\u001b[0m\n\u001b[1;32m    469\u001b[0m         \u001b[0;31m# be done in any case to clip the figure right.\u001b[0m\u001b[0;34m\u001b[0m\u001b[0;34m\u001b[0m\u001b[0m\n\u001b[0;32m--> 470\u001b[0;31m         \u001b[0mbbox\u001b[0m \u001b[0;34m=\u001b[0m \u001b[0mself\u001b[0m\u001b[0;34m.\u001b[0m\u001b[0m_legend_box\u001b[0m\u001b[0;34m.\u001b[0m\u001b[0mget_window_extent\u001b[0m\u001b[0;34m(\u001b[0m\u001b[0mrenderer\u001b[0m\u001b[0;34m)\u001b[0m\u001b[0;34m\u001b[0m\u001b[0m\n\u001b[0m\u001b[1;32m    471\u001b[0m         self.legendPatch.set_bounds(bbox.x0, bbox.y0,\n\u001b[1;32m    472\u001b[0m                                     bbox.width, bbox.height)\n",
      "\u001b[0;32m/Users/quinntran/anaconda/lib/python2.7/site-packages/matplotlib/offsetbox.pyc\u001b[0m in \u001b[0;36mget_window_extent\u001b[0;34m(self, renderer)\u001b[0m\n\u001b[1;32m    268\u001b[0m         '''\n\u001b[1;32m    269\u001b[0m         \u001b[0mw\u001b[0m\u001b[0;34m,\u001b[0m \u001b[0mh\u001b[0m\u001b[0;34m,\u001b[0m \u001b[0mxd\u001b[0m\u001b[0;34m,\u001b[0m \u001b[0myd\u001b[0m\u001b[0;34m,\u001b[0m \u001b[0moffsets\u001b[0m \u001b[0;34m=\u001b[0m \u001b[0mself\u001b[0m\u001b[0;34m.\u001b[0m\u001b[0mget_extent_offsets\u001b[0m\u001b[0;34m(\u001b[0m\u001b[0mrenderer\u001b[0m\u001b[0;34m)\u001b[0m\u001b[0;34m\u001b[0m\u001b[0m\n\u001b[0;32m--> 270\u001b[0;31m         \u001b[0mpx\u001b[0m\u001b[0;34m,\u001b[0m \u001b[0mpy\u001b[0m \u001b[0;34m=\u001b[0m \u001b[0mself\u001b[0m\u001b[0;34m.\u001b[0m\u001b[0mget_offset\u001b[0m\u001b[0;34m(\u001b[0m\u001b[0mw\u001b[0m\u001b[0;34m,\u001b[0m \u001b[0mh\u001b[0m\u001b[0;34m,\u001b[0m \u001b[0mxd\u001b[0m\u001b[0;34m,\u001b[0m \u001b[0myd\u001b[0m\u001b[0;34m,\u001b[0m \u001b[0mrenderer\u001b[0m\u001b[0;34m)\u001b[0m\u001b[0;34m\u001b[0m\u001b[0m\n\u001b[0m\u001b[1;32m    271\u001b[0m         \u001b[0;32mreturn\u001b[0m \u001b[0mmtransforms\u001b[0m\u001b[0;34m.\u001b[0m\u001b[0mBbox\u001b[0m\u001b[0;34m.\u001b[0m\u001b[0mfrom_bounds\u001b[0m\u001b[0;34m(\u001b[0m\u001b[0mpx\u001b[0m \u001b[0;34m-\u001b[0m \u001b[0mxd\u001b[0m\u001b[0;34m,\u001b[0m \u001b[0mpy\u001b[0m \u001b[0;34m-\u001b[0m \u001b[0myd\u001b[0m\u001b[0;34m,\u001b[0m \u001b[0mw\u001b[0m\u001b[0;34m,\u001b[0m \u001b[0mh\u001b[0m\u001b[0;34m)\u001b[0m\u001b[0;34m\u001b[0m\u001b[0m\n\u001b[1;32m    272\u001b[0m \u001b[0;34m\u001b[0m\u001b[0m\n",
      "\u001b[0;32m/Users/quinntran/anaconda/lib/python2.7/site-packages/matplotlib/offsetbox.pyc\u001b[0m in \u001b[0;36mget_offset\u001b[0;34m(self, width, height, xdescent, ydescent, renderer)\u001b[0m\n\u001b[1;32m    219\u001b[0m         \"\"\"\n\u001b[1;32m    220\u001b[0m         \u001b[0;32mif\u001b[0m \u001b[0msix\u001b[0m\u001b[0;34m.\u001b[0m\u001b[0mcallable\u001b[0m\u001b[0;34m(\u001b[0m\u001b[0mself\u001b[0m\u001b[0;34m.\u001b[0m\u001b[0m_offset\u001b[0m\u001b[0;34m)\u001b[0m\u001b[0;34m:\u001b[0m\u001b[0;34m\u001b[0m\u001b[0m\n\u001b[0;32m--> 221\u001b[0;31m             \u001b[0;32mreturn\u001b[0m \u001b[0mself\u001b[0m\u001b[0;34m.\u001b[0m\u001b[0m_offset\u001b[0m\u001b[0;34m(\u001b[0m\u001b[0mwidth\u001b[0m\u001b[0;34m,\u001b[0m \u001b[0mheight\u001b[0m\u001b[0;34m,\u001b[0m \u001b[0mxdescent\u001b[0m\u001b[0;34m,\u001b[0m \u001b[0mydescent\u001b[0m\u001b[0;34m,\u001b[0m \u001b[0mrenderer\u001b[0m\u001b[0;34m)\u001b[0m\u001b[0;34m\u001b[0m\u001b[0m\n\u001b[0m\u001b[1;32m    222\u001b[0m         \u001b[0;32melse\u001b[0m\u001b[0;34m:\u001b[0m\u001b[0;34m\u001b[0m\u001b[0m\n\u001b[1;32m    223\u001b[0m             \u001b[0;32mreturn\u001b[0m \u001b[0mself\u001b[0m\u001b[0;34m.\u001b[0m\u001b[0m_offset\u001b[0m\u001b[0;34m\u001b[0m\u001b[0m\n",
      "\u001b[0;32m/Users/quinntran/anaconda/lib/python2.7/site-packages/matplotlib/legend.pyc\u001b[0m in \u001b[0;36m_findoffset_loc\u001b[0;34m(self, width, height, xdescent, ydescent, renderer)\u001b[0m\n\u001b[1;32m    446\u001b[0m             x, y = self._get_anchored_bbox(self._loc, bbox,\n\u001b[1;32m    447\u001b[0m                                            \u001b[0mself\u001b[0m\u001b[0;34m.\u001b[0m\u001b[0mget_bbox_to_anchor\u001b[0m\u001b[0;34m(\u001b[0m\u001b[0;34m)\u001b[0m\u001b[0;34m,\u001b[0m\u001b[0;34m\u001b[0m\u001b[0m\n\u001b[0;32m--> 448\u001b[0;31m                                            renderer)\n\u001b[0m\u001b[1;32m    449\u001b[0m \u001b[0;34m\u001b[0m\u001b[0m\n\u001b[1;32m    450\u001b[0m         \u001b[0;32mreturn\u001b[0m \u001b[0mx\u001b[0m \u001b[0;34m+\u001b[0m \u001b[0mxdescent\u001b[0m\u001b[0;34m,\u001b[0m \u001b[0my\u001b[0m \u001b[0;34m+\u001b[0m \u001b[0mydescent\u001b[0m\u001b[0;34m\u001b[0m\u001b[0m\n",
      "\u001b[0;32m/Users/quinntran/anaconda/lib/python2.7/site-packages/matplotlib/legend.pyc\u001b[0m in \u001b[0;36m_get_anchored_bbox\u001b[0;34m(self, loc, bbox, parentbbox, renderer)\u001b[0m\n\u001b[1;32m    889\u001b[0m             \u001b[0mdisplay\u001b[0m \u001b[0mcoordinates\u001b[0m\u001b[0;34m.\u001b[0m\u001b[0;34m\u001b[0m\u001b[0m\n\u001b[1;32m    890\u001b[0m         \"\"\"\n\u001b[0;32m--> 891\u001b[0;31m         \u001b[0;32massert\u001b[0m \u001b[0mloc\u001b[0m \u001b[0;32min\u001b[0m \u001b[0mrange\u001b[0m\u001b[0;34m(\u001b[0m\u001b[0;36m1\u001b[0m\u001b[0;34m,\u001b[0m \u001b[0;36m11\u001b[0m\u001b[0;34m)\u001b[0m  \u001b[0;31m# called only internally\u001b[0m\u001b[0;34m\u001b[0m\u001b[0m\n\u001b[0m\u001b[1;32m    892\u001b[0m \u001b[0;34m\u001b[0m\u001b[0m\n\u001b[1;32m    893\u001b[0m         \u001b[0mBEST\u001b[0m\u001b[0;34m,\u001b[0m \u001b[0mUR\u001b[0m\u001b[0;34m,\u001b[0m \u001b[0mUL\u001b[0m\u001b[0;34m,\u001b[0m \u001b[0mLL\u001b[0m\u001b[0;34m,\u001b[0m \u001b[0mLR\u001b[0m\u001b[0;34m,\u001b[0m \u001b[0mR\u001b[0m\u001b[0;34m,\u001b[0m \u001b[0mCL\u001b[0m\u001b[0;34m,\u001b[0m \u001b[0mCR\u001b[0m\u001b[0;34m,\u001b[0m \u001b[0mLC\u001b[0m\u001b[0;34m,\u001b[0m \u001b[0mUC\u001b[0m\u001b[0;34m,\u001b[0m \u001b[0mC\u001b[0m \u001b[0;34m=\u001b[0m \u001b[0mlist\u001b[0m\u001b[0;34m(\u001b[0m\u001b[0mxrange\u001b[0m\u001b[0;34m(\u001b[0m\u001b[0;36m11\u001b[0m\u001b[0;34m)\u001b[0m\u001b[0;34m)\u001b[0m\u001b[0;34m\u001b[0m\u001b[0m\n",
      "\u001b[0;31mAssertionError\u001b[0m: "
     ]
    },
    {
     "ename": "AssertionError",
     "evalue": "",
     "output_type": "error",
     "traceback": [
      "\u001b[0;31m---------------------------------------------------------------------------\u001b[0m",
      "\u001b[0;31mAssertionError\u001b[0m                            Traceback (most recent call last)",
      "\u001b[0;32m/Users/quinntran/anaconda/lib/python2.7/site-packages/IPython/core/formatters.pyc\u001b[0m in \u001b[0;36m__call__\u001b[0;34m(self, obj)\u001b[0m\n\u001b[1;32m    335\u001b[0m                 \u001b[0;32mpass\u001b[0m\u001b[0;34m\u001b[0m\u001b[0m\n\u001b[1;32m    336\u001b[0m             \u001b[0;32melse\u001b[0m\u001b[0;34m:\u001b[0m\u001b[0;34m\u001b[0m\u001b[0m\n\u001b[0;32m--> 337\u001b[0;31m                 \u001b[0;32mreturn\u001b[0m \u001b[0mprinter\u001b[0m\u001b[0;34m(\u001b[0m\u001b[0mobj\u001b[0m\u001b[0;34m)\u001b[0m\u001b[0;34m\u001b[0m\u001b[0m\n\u001b[0m\u001b[1;32m    338\u001b[0m             \u001b[0;31m# Finally look for special method names\u001b[0m\u001b[0;34m\u001b[0m\u001b[0;34m\u001b[0m\u001b[0m\n\u001b[1;32m    339\u001b[0m             \u001b[0mmethod\u001b[0m \u001b[0;34m=\u001b[0m \u001b[0m_safe_get_formatter_method\u001b[0m\u001b[0;34m(\u001b[0m\u001b[0mobj\u001b[0m\u001b[0;34m,\u001b[0m \u001b[0mself\u001b[0m\u001b[0;34m.\u001b[0m\u001b[0mprint_method\u001b[0m\u001b[0;34m)\u001b[0m\u001b[0;34m\u001b[0m\u001b[0m\n",
      "\u001b[0;32m/Users/quinntran/anaconda/lib/python2.7/site-packages/IPython/core/pylabtools.pyc\u001b[0m in \u001b[0;36m<lambda>\u001b[0;34m(fig)\u001b[0m\n\u001b[1;32m    205\u001b[0m \u001b[0;34m\u001b[0m\u001b[0m\n\u001b[1;32m    206\u001b[0m     \u001b[0;32mif\u001b[0m \u001b[0;34m'png'\u001b[0m \u001b[0;32min\u001b[0m \u001b[0mformats\u001b[0m\u001b[0;34m:\u001b[0m\u001b[0;34m\u001b[0m\u001b[0m\n\u001b[0;32m--> 207\u001b[0;31m         \u001b[0mpng_formatter\u001b[0m\u001b[0;34m.\u001b[0m\u001b[0mfor_type\u001b[0m\u001b[0;34m(\u001b[0m\u001b[0mFigure\u001b[0m\u001b[0;34m,\u001b[0m \u001b[0;32mlambda\u001b[0m \u001b[0mfig\u001b[0m\u001b[0;34m:\u001b[0m \u001b[0mprint_figure\u001b[0m\u001b[0;34m(\u001b[0m\u001b[0mfig\u001b[0m\u001b[0;34m,\u001b[0m \u001b[0;34m'png'\u001b[0m\u001b[0;34m,\u001b[0m \u001b[0;34m**\u001b[0m\u001b[0mkwargs\u001b[0m\u001b[0;34m)\u001b[0m\u001b[0;34m)\u001b[0m\u001b[0;34m\u001b[0m\u001b[0m\n\u001b[0m\u001b[1;32m    208\u001b[0m     \u001b[0;32mif\u001b[0m \u001b[0;34m'retina'\u001b[0m \u001b[0;32min\u001b[0m \u001b[0mformats\u001b[0m \u001b[0;32mor\u001b[0m \u001b[0;34m'png2x'\u001b[0m \u001b[0;32min\u001b[0m \u001b[0mformats\u001b[0m\u001b[0;34m:\u001b[0m\u001b[0;34m\u001b[0m\u001b[0m\n\u001b[1;32m    209\u001b[0m         \u001b[0mpng_formatter\u001b[0m\u001b[0;34m.\u001b[0m\u001b[0mfor_type\u001b[0m\u001b[0;34m(\u001b[0m\u001b[0mFigure\u001b[0m\u001b[0;34m,\u001b[0m \u001b[0;32mlambda\u001b[0m \u001b[0mfig\u001b[0m\u001b[0;34m:\u001b[0m \u001b[0mretina_figure\u001b[0m\u001b[0;34m(\u001b[0m\u001b[0mfig\u001b[0m\u001b[0;34m,\u001b[0m \u001b[0;34m**\u001b[0m\u001b[0mkwargs\u001b[0m\u001b[0;34m)\u001b[0m\u001b[0;34m)\u001b[0m\u001b[0;34m\u001b[0m\u001b[0m\n",
      "\u001b[0;32m/Users/quinntran/anaconda/lib/python2.7/site-packages/IPython/core/pylabtools.pyc\u001b[0m in \u001b[0;36mprint_figure\u001b[0;34m(fig, fmt, bbox_inches, **kwargs)\u001b[0m\n\u001b[1;32m    115\u001b[0m \u001b[0;34m\u001b[0m\u001b[0m\n\u001b[1;32m    116\u001b[0m     \u001b[0mbytes_io\u001b[0m \u001b[0;34m=\u001b[0m \u001b[0mBytesIO\u001b[0m\u001b[0;34m(\u001b[0m\u001b[0;34m)\u001b[0m\u001b[0;34m\u001b[0m\u001b[0m\n\u001b[0;32m--> 117\u001b[0;31m     \u001b[0mfig\u001b[0m\u001b[0;34m.\u001b[0m\u001b[0mcanvas\u001b[0m\u001b[0;34m.\u001b[0m\u001b[0mprint_figure\u001b[0m\u001b[0;34m(\u001b[0m\u001b[0mbytes_io\u001b[0m\u001b[0;34m,\u001b[0m \u001b[0;34m**\u001b[0m\u001b[0mkw\u001b[0m\u001b[0;34m)\u001b[0m\u001b[0;34m\u001b[0m\u001b[0m\n\u001b[0m\u001b[1;32m    118\u001b[0m     \u001b[0mdata\u001b[0m \u001b[0;34m=\u001b[0m \u001b[0mbytes_io\u001b[0m\u001b[0;34m.\u001b[0m\u001b[0mgetvalue\u001b[0m\u001b[0;34m(\u001b[0m\u001b[0;34m)\u001b[0m\u001b[0;34m\u001b[0m\u001b[0m\n\u001b[1;32m    119\u001b[0m     \u001b[0;32mif\u001b[0m \u001b[0mfmt\u001b[0m \u001b[0;34m==\u001b[0m \u001b[0;34m'svg'\u001b[0m\u001b[0;34m:\u001b[0m\u001b[0;34m\u001b[0m\u001b[0m\n",
      "\u001b[0;32m/Users/quinntran/anaconda/lib/python2.7/site-packages/matplotlib/backend_bases.pyc\u001b[0m in \u001b[0;36mprint_figure\u001b[0;34m(self, filename, dpi, facecolor, edgecolor, orientation, format, **kwargs)\u001b[0m\n\u001b[1;32m   2178\u001b[0m                     \u001b[0morientation\u001b[0m\u001b[0;34m=\u001b[0m\u001b[0morientation\u001b[0m\u001b[0;34m,\u001b[0m\u001b[0;34m\u001b[0m\u001b[0m\n\u001b[1;32m   2179\u001b[0m                     \u001b[0mdryrun\u001b[0m\u001b[0;34m=\u001b[0m\u001b[0mTrue\u001b[0m\u001b[0;34m,\u001b[0m\u001b[0;34m\u001b[0m\u001b[0m\n\u001b[0;32m-> 2180\u001b[0;31m                     **kwargs)\n\u001b[0m\u001b[1;32m   2181\u001b[0m                 \u001b[0mrenderer\u001b[0m \u001b[0;34m=\u001b[0m \u001b[0mself\u001b[0m\u001b[0;34m.\u001b[0m\u001b[0mfigure\u001b[0m\u001b[0;34m.\u001b[0m\u001b[0m_cachedRenderer\u001b[0m\u001b[0;34m\u001b[0m\u001b[0m\n\u001b[1;32m   2182\u001b[0m                 \u001b[0mbbox_inches\u001b[0m \u001b[0;34m=\u001b[0m \u001b[0mself\u001b[0m\u001b[0;34m.\u001b[0m\u001b[0mfigure\u001b[0m\u001b[0;34m.\u001b[0m\u001b[0mget_tightbbox\u001b[0m\u001b[0;34m(\u001b[0m\u001b[0mrenderer\u001b[0m\u001b[0;34m)\u001b[0m\u001b[0;34m\u001b[0m\u001b[0m\n",
      "\u001b[0;32m/Users/quinntran/anaconda/lib/python2.7/site-packages/matplotlib/backends/backend_agg.pyc\u001b[0m in \u001b[0;36mprint_png\u001b[0;34m(self, filename_or_obj, *args, **kwargs)\u001b[0m\n\u001b[1;32m    525\u001b[0m \u001b[0;34m\u001b[0m\u001b[0m\n\u001b[1;32m    526\u001b[0m     \u001b[0;32mdef\u001b[0m \u001b[0mprint_png\u001b[0m\u001b[0;34m(\u001b[0m\u001b[0mself\u001b[0m\u001b[0;34m,\u001b[0m \u001b[0mfilename_or_obj\u001b[0m\u001b[0;34m,\u001b[0m \u001b[0;34m*\u001b[0m\u001b[0margs\u001b[0m\u001b[0;34m,\u001b[0m \u001b[0;34m**\u001b[0m\u001b[0mkwargs\u001b[0m\u001b[0;34m)\u001b[0m\u001b[0;34m:\u001b[0m\u001b[0;34m\u001b[0m\u001b[0m\n\u001b[0;32m--> 527\u001b[0;31m         \u001b[0mFigureCanvasAgg\u001b[0m\u001b[0;34m.\u001b[0m\u001b[0mdraw\u001b[0m\u001b[0;34m(\u001b[0m\u001b[0mself\u001b[0m\u001b[0;34m)\u001b[0m\u001b[0;34m\u001b[0m\u001b[0m\n\u001b[0m\u001b[1;32m    528\u001b[0m         \u001b[0mrenderer\u001b[0m \u001b[0;34m=\u001b[0m \u001b[0mself\u001b[0m\u001b[0;34m.\u001b[0m\u001b[0mget_renderer\u001b[0m\u001b[0;34m(\u001b[0m\u001b[0;34m)\u001b[0m\u001b[0;34m\u001b[0m\u001b[0m\n\u001b[1;32m    529\u001b[0m         \u001b[0moriginal_dpi\u001b[0m \u001b[0;34m=\u001b[0m \u001b[0mrenderer\u001b[0m\u001b[0;34m.\u001b[0m\u001b[0mdpi\u001b[0m\u001b[0;34m\u001b[0m\u001b[0m\n",
      "\u001b[0;32m/Users/quinntran/anaconda/lib/python2.7/site-packages/matplotlib/backends/backend_agg.pyc\u001b[0m in \u001b[0;36mdraw\u001b[0;34m(self)\u001b[0m\n\u001b[1;32m    472\u001b[0m \u001b[0;34m\u001b[0m\u001b[0m\n\u001b[1;32m    473\u001b[0m         \u001b[0;32mtry\u001b[0m\u001b[0;34m:\u001b[0m\u001b[0;34m\u001b[0m\u001b[0m\n\u001b[0;32m--> 474\u001b[0;31m             \u001b[0mself\u001b[0m\u001b[0;34m.\u001b[0m\u001b[0mfigure\u001b[0m\u001b[0;34m.\u001b[0m\u001b[0mdraw\u001b[0m\u001b[0;34m(\u001b[0m\u001b[0mself\u001b[0m\u001b[0;34m.\u001b[0m\u001b[0mrenderer\u001b[0m\u001b[0;34m)\u001b[0m\u001b[0;34m\u001b[0m\u001b[0m\n\u001b[0m\u001b[1;32m    475\u001b[0m         \u001b[0;32mfinally\u001b[0m\u001b[0;34m:\u001b[0m\u001b[0;34m\u001b[0m\u001b[0m\n\u001b[1;32m    476\u001b[0m             \u001b[0mRendererAgg\u001b[0m\u001b[0;34m.\u001b[0m\u001b[0mlock\u001b[0m\u001b[0;34m.\u001b[0m\u001b[0mrelease\u001b[0m\u001b[0;34m(\u001b[0m\u001b[0;34m)\u001b[0m\u001b[0;34m\u001b[0m\u001b[0m\n",
      "\u001b[0;32m/Users/quinntran/anaconda/lib/python2.7/site-packages/matplotlib/artist.pyc\u001b[0m in \u001b[0;36mdraw_wrapper\u001b[0;34m(artist, renderer, *args, **kwargs)\u001b[0m\n\u001b[1;32m     59\u001b[0m     \u001b[0;32mdef\u001b[0m \u001b[0mdraw_wrapper\u001b[0m\u001b[0;34m(\u001b[0m\u001b[0martist\u001b[0m\u001b[0;34m,\u001b[0m \u001b[0mrenderer\u001b[0m\u001b[0;34m,\u001b[0m \u001b[0;34m*\u001b[0m\u001b[0margs\u001b[0m\u001b[0;34m,\u001b[0m \u001b[0;34m**\u001b[0m\u001b[0mkwargs\u001b[0m\u001b[0;34m)\u001b[0m\u001b[0;34m:\u001b[0m\u001b[0;34m\u001b[0m\u001b[0m\n\u001b[1;32m     60\u001b[0m         \u001b[0mbefore\u001b[0m\u001b[0;34m(\u001b[0m\u001b[0martist\u001b[0m\u001b[0;34m,\u001b[0m \u001b[0mrenderer\u001b[0m\u001b[0;34m)\u001b[0m\u001b[0;34m\u001b[0m\u001b[0m\n\u001b[0;32m---> 61\u001b[0;31m         \u001b[0mdraw\u001b[0m\u001b[0;34m(\u001b[0m\u001b[0martist\u001b[0m\u001b[0;34m,\u001b[0m \u001b[0mrenderer\u001b[0m\u001b[0;34m,\u001b[0m \u001b[0;34m*\u001b[0m\u001b[0margs\u001b[0m\u001b[0;34m,\u001b[0m \u001b[0;34m**\u001b[0m\u001b[0mkwargs\u001b[0m\u001b[0;34m)\u001b[0m\u001b[0;34m\u001b[0m\u001b[0m\n\u001b[0m\u001b[1;32m     62\u001b[0m         \u001b[0mafter\u001b[0m\u001b[0;34m(\u001b[0m\u001b[0martist\u001b[0m\u001b[0;34m,\u001b[0m \u001b[0mrenderer\u001b[0m\u001b[0;34m)\u001b[0m\u001b[0;34m\u001b[0m\u001b[0m\n\u001b[1;32m     63\u001b[0m \u001b[0;34m\u001b[0m\u001b[0m\n",
      "\u001b[0;32m/Users/quinntran/anaconda/lib/python2.7/site-packages/matplotlib/figure.pyc\u001b[0m in \u001b[0;36mdraw\u001b[0;34m(self, renderer)\u001b[0m\n\u001b[1;32m   1157\u001b[0m         \u001b[0mdsu\u001b[0m\u001b[0;34m.\u001b[0m\u001b[0msort\u001b[0m\u001b[0;34m(\u001b[0m\u001b[0mkey\u001b[0m\u001b[0;34m=\u001b[0m\u001b[0mitemgetter\u001b[0m\u001b[0;34m(\u001b[0m\u001b[0;36m0\u001b[0m\u001b[0;34m)\u001b[0m\u001b[0;34m)\u001b[0m\u001b[0;34m\u001b[0m\u001b[0m\n\u001b[1;32m   1158\u001b[0m         \u001b[0;32mfor\u001b[0m \u001b[0mzorder\u001b[0m\u001b[0;34m,\u001b[0m \u001b[0ma\u001b[0m\u001b[0;34m,\u001b[0m \u001b[0mfunc\u001b[0m\u001b[0;34m,\u001b[0m \u001b[0margs\u001b[0m \u001b[0;32min\u001b[0m \u001b[0mdsu\u001b[0m\u001b[0;34m:\u001b[0m\u001b[0;34m\u001b[0m\u001b[0m\n\u001b[0;32m-> 1159\u001b[0;31m             \u001b[0mfunc\u001b[0m\u001b[0;34m(\u001b[0m\u001b[0;34m*\u001b[0m\u001b[0margs\u001b[0m\u001b[0;34m)\u001b[0m\u001b[0;34m\u001b[0m\u001b[0m\n\u001b[0m\u001b[1;32m   1160\u001b[0m \u001b[0;34m\u001b[0m\u001b[0m\n\u001b[1;32m   1161\u001b[0m         \u001b[0mrenderer\u001b[0m\u001b[0;34m.\u001b[0m\u001b[0mclose_group\u001b[0m\u001b[0;34m(\u001b[0m\u001b[0;34m'figure'\u001b[0m\u001b[0;34m)\u001b[0m\u001b[0;34m\u001b[0m\u001b[0m\n",
      "\u001b[0;32m/Users/quinntran/anaconda/lib/python2.7/site-packages/matplotlib/artist.pyc\u001b[0m in \u001b[0;36mdraw_wrapper\u001b[0;34m(artist, renderer, *args, **kwargs)\u001b[0m\n\u001b[1;32m     59\u001b[0m     \u001b[0;32mdef\u001b[0m \u001b[0mdraw_wrapper\u001b[0m\u001b[0;34m(\u001b[0m\u001b[0martist\u001b[0m\u001b[0;34m,\u001b[0m \u001b[0mrenderer\u001b[0m\u001b[0;34m,\u001b[0m \u001b[0;34m*\u001b[0m\u001b[0margs\u001b[0m\u001b[0;34m,\u001b[0m \u001b[0;34m**\u001b[0m\u001b[0mkwargs\u001b[0m\u001b[0;34m)\u001b[0m\u001b[0;34m:\u001b[0m\u001b[0;34m\u001b[0m\u001b[0m\n\u001b[1;32m     60\u001b[0m         \u001b[0mbefore\u001b[0m\u001b[0;34m(\u001b[0m\u001b[0martist\u001b[0m\u001b[0;34m,\u001b[0m \u001b[0mrenderer\u001b[0m\u001b[0;34m)\u001b[0m\u001b[0;34m\u001b[0m\u001b[0m\n\u001b[0;32m---> 61\u001b[0;31m         \u001b[0mdraw\u001b[0m\u001b[0;34m(\u001b[0m\u001b[0martist\u001b[0m\u001b[0;34m,\u001b[0m \u001b[0mrenderer\u001b[0m\u001b[0;34m,\u001b[0m \u001b[0;34m*\u001b[0m\u001b[0margs\u001b[0m\u001b[0;34m,\u001b[0m \u001b[0;34m**\u001b[0m\u001b[0mkwargs\u001b[0m\u001b[0;34m)\u001b[0m\u001b[0;34m\u001b[0m\u001b[0m\n\u001b[0m\u001b[1;32m     62\u001b[0m         \u001b[0mafter\u001b[0m\u001b[0;34m(\u001b[0m\u001b[0martist\u001b[0m\u001b[0;34m,\u001b[0m \u001b[0mrenderer\u001b[0m\u001b[0;34m)\u001b[0m\u001b[0;34m\u001b[0m\u001b[0m\n\u001b[1;32m     63\u001b[0m \u001b[0;34m\u001b[0m\u001b[0m\n",
      "\u001b[0;32m/Users/quinntran/anaconda/lib/python2.7/site-packages/matplotlib/axes/_base.pyc\u001b[0m in \u001b[0;36mdraw\u001b[0;34m(self, renderer, inframe)\u001b[0m\n\u001b[1;32m   2322\u001b[0m \u001b[0;34m\u001b[0m\u001b[0m\n\u001b[1;32m   2323\u001b[0m         \u001b[0;32mfor\u001b[0m \u001b[0mzorder\u001b[0m\u001b[0;34m,\u001b[0m \u001b[0ma\u001b[0m \u001b[0;32min\u001b[0m \u001b[0mdsu\u001b[0m\u001b[0;34m:\u001b[0m\u001b[0;34m\u001b[0m\u001b[0m\n\u001b[0;32m-> 2324\u001b[0;31m             \u001b[0ma\u001b[0m\u001b[0;34m.\u001b[0m\u001b[0mdraw\u001b[0m\u001b[0;34m(\u001b[0m\u001b[0mrenderer\u001b[0m\u001b[0;34m)\u001b[0m\u001b[0;34m\u001b[0m\u001b[0m\n\u001b[0m\u001b[1;32m   2325\u001b[0m \u001b[0;34m\u001b[0m\u001b[0m\n\u001b[1;32m   2326\u001b[0m         \u001b[0mrenderer\u001b[0m\u001b[0;34m.\u001b[0m\u001b[0mclose_group\u001b[0m\u001b[0;34m(\u001b[0m\u001b[0;34m'axes'\u001b[0m\u001b[0;34m)\u001b[0m\u001b[0;34m\u001b[0m\u001b[0m\n",
      "\u001b[0;32m/Users/quinntran/anaconda/lib/python2.7/site-packages/matplotlib/artist.pyc\u001b[0m in \u001b[0;36mdraw_wrapper\u001b[0;34m(artist, renderer, *args, **kwargs)\u001b[0m\n\u001b[1;32m     59\u001b[0m     \u001b[0;32mdef\u001b[0m \u001b[0mdraw_wrapper\u001b[0m\u001b[0;34m(\u001b[0m\u001b[0martist\u001b[0m\u001b[0;34m,\u001b[0m \u001b[0mrenderer\u001b[0m\u001b[0;34m,\u001b[0m \u001b[0;34m*\u001b[0m\u001b[0margs\u001b[0m\u001b[0;34m,\u001b[0m \u001b[0;34m**\u001b[0m\u001b[0mkwargs\u001b[0m\u001b[0;34m)\u001b[0m\u001b[0;34m:\u001b[0m\u001b[0;34m\u001b[0m\u001b[0m\n\u001b[1;32m     60\u001b[0m         \u001b[0mbefore\u001b[0m\u001b[0;34m(\u001b[0m\u001b[0martist\u001b[0m\u001b[0;34m,\u001b[0m \u001b[0mrenderer\u001b[0m\u001b[0;34m)\u001b[0m\u001b[0;34m\u001b[0m\u001b[0m\n\u001b[0;32m---> 61\u001b[0;31m         \u001b[0mdraw\u001b[0m\u001b[0;34m(\u001b[0m\u001b[0martist\u001b[0m\u001b[0;34m,\u001b[0m \u001b[0mrenderer\u001b[0m\u001b[0;34m,\u001b[0m \u001b[0;34m*\u001b[0m\u001b[0margs\u001b[0m\u001b[0;34m,\u001b[0m \u001b[0;34m**\u001b[0m\u001b[0mkwargs\u001b[0m\u001b[0;34m)\u001b[0m\u001b[0;34m\u001b[0m\u001b[0m\n\u001b[0m\u001b[1;32m     62\u001b[0m         \u001b[0mafter\u001b[0m\u001b[0;34m(\u001b[0m\u001b[0martist\u001b[0m\u001b[0;34m,\u001b[0m \u001b[0mrenderer\u001b[0m\u001b[0;34m)\u001b[0m\u001b[0;34m\u001b[0m\u001b[0m\n\u001b[1;32m     63\u001b[0m \u001b[0;34m\u001b[0m\u001b[0m\n",
      "\u001b[0;32m/Users/quinntran/anaconda/lib/python2.7/site-packages/matplotlib/legend.pyc\u001b[0m in \u001b[0;36mdraw\u001b[0;34m(self, renderer)\u001b[0m\n\u001b[1;32m    468\u001b[0m         \u001b[0;31m# update the location and size of the legend. This needs to\u001b[0m\u001b[0;34m\u001b[0m\u001b[0;34m\u001b[0m\u001b[0m\n\u001b[1;32m    469\u001b[0m         \u001b[0;31m# be done in any case to clip the figure right.\u001b[0m\u001b[0;34m\u001b[0m\u001b[0;34m\u001b[0m\u001b[0m\n\u001b[0;32m--> 470\u001b[0;31m         \u001b[0mbbox\u001b[0m \u001b[0;34m=\u001b[0m \u001b[0mself\u001b[0m\u001b[0;34m.\u001b[0m\u001b[0m_legend_box\u001b[0m\u001b[0;34m.\u001b[0m\u001b[0mget_window_extent\u001b[0m\u001b[0;34m(\u001b[0m\u001b[0mrenderer\u001b[0m\u001b[0;34m)\u001b[0m\u001b[0;34m\u001b[0m\u001b[0m\n\u001b[0m\u001b[1;32m    471\u001b[0m         self.legendPatch.set_bounds(bbox.x0, bbox.y0,\n\u001b[1;32m    472\u001b[0m                                     bbox.width, bbox.height)\n",
      "\u001b[0;32m/Users/quinntran/anaconda/lib/python2.7/site-packages/matplotlib/offsetbox.pyc\u001b[0m in \u001b[0;36mget_window_extent\u001b[0;34m(self, renderer)\u001b[0m\n\u001b[1;32m    268\u001b[0m         '''\n\u001b[1;32m    269\u001b[0m         \u001b[0mw\u001b[0m\u001b[0;34m,\u001b[0m \u001b[0mh\u001b[0m\u001b[0;34m,\u001b[0m \u001b[0mxd\u001b[0m\u001b[0;34m,\u001b[0m \u001b[0myd\u001b[0m\u001b[0;34m,\u001b[0m \u001b[0moffsets\u001b[0m \u001b[0;34m=\u001b[0m \u001b[0mself\u001b[0m\u001b[0;34m.\u001b[0m\u001b[0mget_extent_offsets\u001b[0m\u001b[0;34m(\u001b[0m\u001b[0mrenderer\u001b[0m\u001b[0;34m)\u001b[0m\u001b[0;34m\u001b[0m\u001b[0m\n\u001b[0;32m--> 270\u001b[0;31m         \u001b[0mpx\u001b[0m\u001b[0;34m,\u001b[0m \u001b[0mpy\u001b[0m \u001b[0;34m=\u001b[0m \u001b[0mself\u001b[0m\u001b[0;34m.\u001b[0m\u001b[0mget_offset\u001b[0m\u001b[0;34m(\u001b[0m\u001b[0mw\u001b[0m\u001b[0;34m,\u001b[0m \u001b[0mh\u001b[0m\u001b[0;34m,\u001b[0m \u001b[0mxd\u001b[0m\u001b[0;34m,\u001b[0m \u001b[0myd\u001b[0m\u001b[0;34m,\u001b[0m \u001b[0mrenderer\u001b[0m\u001b[0;34m)\u001b[0m\u001b[0;34m\u001b[0m\u001b[0m\n\u001b[0m\u001b[1;32m    271\u001b[0m         \u001b[0;32mreturn\u001b[0m \u001b[0mmtransforms\u001b[0m\u001b[0;34m.\u001b[0m\u001b[0mBbox\u001b[0m\u001b[0;34m.\u001b[0m\u001b[0mfrom_bounds\u001b[0m\u001b[0;34m(\u001b[0m\u001b[0mpx\u001b[0m \u001b[0;34m-\u001b[0m \u001b[0mxd\u001b[0m\u001b[0;34m,\u001b[0m \u001b[0mpy\u001b[0m \u001b[0;34m-\u001b[0m \u001b[0myd\u001b[0m\u001b[0;34m,\u001b[0m \u001b[0mw\u001b[0m\u001b[0;34m,\u001b[0m \u001b[0mh\u001b[0m\u001b[0;34m)\u001b[0m\u001b[0;34m\u001b[0m\u001b[0m\n\u001b[1;32m    272\u001b[0m \u001b[0;34m\u001b[0m\u001b[0m\n",
      "\u001b[0;32m/Users/quinntran/anaconda/lib/python2.7/site-packages/matplotlib/offsetbox.pyc\u001b[0m in \u001b[0;36mget_offset\u001b[0;34m(self, width, height, xdescent, ydescent, renderer)\u001b[0m\n\u001b[1;32m    219\u001b[0m         \"\"\"\n\u001b[1;32m    220\u001b[0m         \u001b[0;32mif\u001b[0m \u001b[0msix\u001b[0m\u001b[0;34m.\u001b[0m\u001b[0mcallable\u001b[0m\u001b[0;34m(\u001b[0m\u001b[0mself\u001b[0m\u001b[0;34m.\u001b[0m\u001b[0m_offset\u001b[0m\u001b[0;34m)\u001b[0m\u001b[0;34m:\u001b[0m\u001b[0;34m\u001b[0m\u001b[0m\n\u001b[0;32m--> 221\u001b[0;31m             \u001b[0;32mreturn\u001b[0m \u001b[0mself\u001b[0m\u001b[0;34m.\u001b[0m\u001b[0m_offset\u001b[0m\u001b[0;34m(\u001b[0m\u001b[0mwidth\u001b[0m\u001b[0;34m,\u001b[0m \u001b[0mheight\u001b[0m\u001b[0;34m,\u001b[0m \u001b[0mxdescent\u001b[0m\u001b[0;34m,\u001b[0m \u001b[0mydescent\u001b[0m\u001b[0;34m,\u001b[0m \u001b[0mrenderer\u001b[0m\u001b[0;34m)\u001b[0m\u001b[0;34m\u001b[0m\u001b[0m\n\u001b[0m\u001b[1;32m    222\u001b[0m         \u001b[0;32melse\u001b[0m\u001b[0;34m:\u001b[0m\u001b[0;34m\u001b[0m\u001b[0m\n\u001b[1;32m    223\u001b[0m             \u001b[0;32mreturn\u001b[0m \u001b[0mself\u001b[0m\u001b[0;34m.\u001b[0m\u001b[0m_offset\u001b[0m\u001b[0;34m\u001b[0m\u001b[0m\n",
      "\u001b[0;32m/Users/quinntran/anaconda/lib/python2.7/site-packages/matplotlib/legend.pyc\u001b[0m in \u001b[0;36m_findoffset_loc\u001b[0;34m(self, width, height, xdescent, ydescent, renderer)\u001b[0m\n\u001b[1;32m    446\u001b[0m             x, y = self._get_anchored_bbox(self._loc, bbox,\n\u001b[1;32m    447\u001b[0m                                            \u001b[0mself\u001b[0m\u001b[0;34m.\u001b[0m\u001b[0mget_bbox_to_anchor\u001b[0m\u001b[0;34m(\u001b[0m\u001b[0;34m)\u001b[0m\u001b[0;34m,\u001b[0m\u001b[0;34m\u001b[0m\u001b[0m\n\u001b[0;32m--> 448\u001b[0;31m                                            renderer)\n\u001b[0m\u001b[1;32m    449\u001b[0m \u001b[0;34m\u001b[0m\u001b[0m\n\u001b[1;32m    450\u001b[0m         \u001b[0;32mreturn\u001b[0m \u001b[0mx\u001b[0m \u001b[0;34m+\u001b[0m \u001b[0mxdescent\u001b[0m\u001b[0;34m,\u001b[0m \u001b[0my\u001b[0m \u001b[0;34m+\u001b[0m \u001b[0mydescent\u001b[0m\u001b[0;34m\u001b[0m\u001b[0m\n",
      "\u001b[0;32m/Users/quinntran/anaconda/lib/python2.7/site-packages/matplotlib/legend.pyc\u001b[0m in \u001b[0;36m_get_anchored_bbox\u001b[0;34m(self, loc, bbox, parentbbox, renderer)\u001b[0m\n\u001b[1;32m    889\u001b[0m             \u001b[0mdisplay\u001b[0m \u001b[0mcoordinates\u001b[0m\u001b[0;34m.\u001b[0m\u001b[0;34m\u001b[0m\u001b[0m\n\u001b[1;32m    890\u001b[0m         \"\"\"\n\u001b[0;32m--> 891\u001b[0;31m         \u001b[0;32massert\u001b[0m \u001b[0mloc\u001b[0m \u001b[0;32min\u001b[0m \u001b[0mrange\u001b[0m\u001b[0;34m(\u001b[0m\u001b[0;36m1\u001b[0m\u001b[0;34m,\u001b[0m \u001b[0;36m11\u001b[0m\u001b[0;34m)\u001b[0m  \u001b[0;31m# called only internally\u001b[0m\u001b[0;34m\u001b[0m\u001b[0m\n\u001b[0m\u001b[1;32m    892\u001b[0m \u001b[0;34m\u001b[0m\u001b[0m\n\u001b[1;32m    893\u001b[0m         \u001b[0mBEST\u001b[0m\u001b[0;34m,\u001b[0m \u001b[0mUR\u001b[0m\u001b[0;34m,\u001b[0m \u001b[0mUL\u001b[0m\u001b[0;34m,\u001b[0m \u001b[0mLL\u001b[0m\u001b[0;34m,\u001b[0m \u001b[0mLR\u001b[0m\u001b[0;34m,\u001b[0m \u001b[0mR\u001b[0m\u001b[0;34m,\u001b[0m \u001b[0mCL\u001b[0m\u001b[0;34m,\u001b[0m \u001b[0mCR\u001b[0m\u001b[0;34m,\u001b[0m \u001b[0mLC\u001b[0m\u001b[0;34m,\u001b[0m \u001b[0mUC\u001b[0m\u001b[0;34m,\u001b[0m \u001b[0mC\u001b[0m \u001b[0;34m=\u001b[0m \u001b[0mlist\u001b[0m\u001b[0;34m(\u001b[0m\u001b[0mxrange\u001b[0m\u001b[0;34m(\u001b[0m\u001b[0;36m11\u001b[0m\u001b[0;34m)\u001b[0m\u001b[0;34m)\u001b[0m\u001b[0;34m\u001b[0m\u001b[0m\n",
      "\u001b[0;31mAssertionError\u001b[0m: "
     ]
    },
    {
     "data": {
      "text/plain": [
       "<matplotlib.figure.Figure at 0x118e39ed0>"
      ]
     },
     "metadata": {},
     "output_type": "display_data"
    }
   ],
   "source": [
    "figure(figsize=(4,3))\n",
    "tick_params(axis='both', which='major', labelsize=12)\n",
    "tick_params(axis='both', which='minor', labelsize=12)\n",
    "\n",
    "    \n",
    "train_mean = np.nanmean(train_hist, axis=1)/N\n",
    "test_mean = test_hist.mean(axis=1)/N\n",
    "#random_mean = random_hist.mean(axis=1)/N\n",
    "\n",
    "train_std = np.nanstd(train_hist, axis=1)/N #/ (arange(len(train_mean))+1) ** 0.5\n",
    "test_std = test_hist.std(axis=1)/N #/ testpast2.shape[0]**0.5\n",
    "#random_std = random_hist.std(axis=1)/N #/ testpast2.shape[0]**0.5\n",
    "\n",
    "ntrain_x = arange(len(train_mean))+1\n",
    "\n",
    "plot([0, 1700], [0, 0], 'k')\n",
    "\n",
    "plot(ntrain_x, train_mean, c='b', lw=2, label='Train')\n",
    "plot(ntrain_x, test_mean, c='g', lw=2, label='Test')\n",
    "#plot(ntrain_x, random_mean, c='r', lw=2, label='Random')\n",
    "\n",
    "fill_between(ntrain_x, train_mean-train_std, train_mean+train_std, facecolor='b', alpha=0.1)\n",
    "fill_between(ntrain_x, test_mean-test_std, test_mean+test_std, facecolor='g', alpha=0.1)\n",
    "#fill_between(ntrain_x, random_mean-random_std, random_mean+random_std, facecolor='r', alpha=0.2)\n",
    "\n",
    "legend(loc=legend,fontsize=12)\n",
    "\n",
    "xlabel('Number Training Examples',fontsize=16)\n",
    "ylabel('Feature Similarity',fontsize=16)\n",
    "title('Dictionary, Regularized',fontsize=16)\n",
    "\n",
    "xlim([0, 1700])\n",
    "\n",
    "\n",
    "plt.tight_layout()\n",
    "\n",
    "fname =  ('figures/encoding_resonance_170314-trigram_dict-reg-N=' + str(N) + '-W=' + str(len(trainpres1)) \n",
    "          + '-' + time.strftime('%y%m%d'))\n",
    "print fname\n",
    "\n",
    "plt.savefig(fname + '.png', transparent=True)\n",
    "plt.savefig(fname + '.eps', transparent=True)"
   ]
  },
  {
   "cell_type": "code",
   "execution_count": 79,
   "metadata": {
    "collapsed": false
   },
   "outputs": [
    {
     "ename": "NameError",
     "evalue": "name 'perceptron_map_train' is not defined",
     "output_type": "error",
     "traceback": [
      "\u001b[0;31m---------------------------------------------------------------------------\u001b[0m",
      "\u001b[0;31mNameError\u001b[0m                                 Traceback (most recent call last)",
      "\u001b[0;32m<ipython-input-79-1a820d4513c6>\u001b[0m in \u001b[0;36m<module>\u001b[0;34m()\u001b[0m\n\u001b[0;32m----> 1\u001b[0;31m \u001b[0mtotal_vec\u001b[0m \u001b[0;34m=\u001b[0m \u001b[0mperceptron_map_train\u001b[0m\u001b[0;34m(\u001b[0m\u001b[0mencoded\u001b[0m\u001b[0;34m)\u001b[0m\u001b[0;34m\u001b[0m\u001b[0m\n\u001b[0m",
      "\u001b[0;31mNameError\u001b[0m: name 'perceptron_map_train' is not defined"
     ]
    }
   ],
   "source": [
    "total_vec = perceptron_map_train(encoded)"
   ]
  },
  {
   "cell_type": "code",
   "execution_count": 27,
   "metadata": {
    "collapsed": false
   },
   "outputs": [
    {
     "ename": "NameError",
     "evalue": "name 'words' is not defined",
     "output_type": "error",
     "traceback": [
      "\u001b[0;31m---------------------------------------------------------------------------\u001b[0m",
      "\u001b[0;31mNameError\u001b[0m                                 Traceback (most recent call last)",
      "\u001b[0;32m<ipython-input-27-aaaee36454ee>\u001b[0m in \u001b[0;36m<module>\u001b[0;34m()\u001b[0m\n\u001b[1;32m      1\u001b[0m \u001b[0midx\u001b[0m \u001b[0;34m=\u001b[0m \u001b[0;36m51\u001b[0m\u001b[0;34m\u001b[0m\u001b[0m\n\u001b[0;32m----> 2\u001b[0;31m \u001b[0;32mprint\u001b[0m \u001b[0mwords\u001b[0m\u001b[0;34m[\u001b[0m\u001b[0midx\u001b[0m\u001b[0;34m]\u001b[0m\u001b[0;34m,\u001b[0m \u001b[0mpast_tense\u001b[0m\u001b[0;34m[\u001b[0m\u001b[0midx\u001b[0m\u001b[0;34m]\u001b[0m\u001b[0;34m\u001b[0m\u001b[0m\n\u001b[0m\u001b[1;32m      3\u001b[0m \u001b[0mnp\u001b[0m\u001b[0;34m.\u001b[0m\u001b[0mdot\u001b[0m\u001b[0;34m(\u001b[0m\u001b[0mtotal_vec\u001b[0m \u001b[0;34m*\u001b[0m \u001b[0mencoded\u001b[0m\u001b[0;34m[\u001b[0m\u001b[0midx\u001b[0m\u001b[0;34m]\u001b[0m\u001b[0;34m[\u001b[0m\u001b[0;36m0\u001b[0m\u001b[0;34m]\u001b[0m\u001b[0;34m,\u001b[0m \u001b[0mencoded\u001b[0m\u001b[0;34m[\u001b[0m\u001b[0midx\u001b[0m\u001b[0;34m]\u001b[0m\u001b[0;34m[\u001b[0m\u001b[0;36m1\u001b[0m\u001b[0;34m]\u001b[0m\u001b[0;34m)\u001b[0m\u001b[0;34m\u001b[0m\u001b[0m\n\u001b[1;32m      4\u001b[0m \u001b[0;34m\u001b[0m\u001b[0m\n\u001b[1;32m      5\u001b[0m \u001b[0mbound_vec\u001b[0m \u001b[0;34m=\u001b[0m \u001b[0mtotal_vec\u001b[0m \u001b[0;34m*\u001b[0m \u001b[0mencoded\u001b[0m\u001b[0;34m[\u001b[0m\u001b[0midx\u001b[0m\u001b[0;34m]\u001b[0m\u001b[0;34m[\u001b[0m\u001b[0;36m0\u001b[0m\u001b[0;34m]\u001b[0m\u001b[0;34m\u001b[0m\u001b[0m\n",
      "\u001b[0;31mNameError\u001b[0m: name 'words' is not defined"
     ]
    }
   ],
   "source": [
    "idx = 51\n",
    "print words[idx], past_tense[idx]\n",
    "np.dot(total_vec * encoded[idx][0], encoded[idx][1])\n",
    "\n",
    "bound_vec = total_vec * encoded[idx][0]"
   ]
  },
  {
   "cell_type": "code",
   "execution_count": 28,
   "metadata": {
    "collapsed": false
   },
   "outputs": [
    {
     "ename": "NameError",
     "evalue": "name 'words' is not defined",
     "output_type": "error",
     "traceback": [
      "\u001b[0;31m---------------------------------------------------------------------------\u001b[0m",
      "\u001b[0;31mNameError\u001b[0m                                 Traceback (most recent call last)",
      "\u001b[0;32m<ipython-input-28-30a13e9a2496>\u001b[0m in \u001b[0;36m<module>\u001b[0;34m()\u001b[0m\n\u001b[0;32m----> 1\u001b[0;31m \u001b[0midx\u001b[0m \u001b[0;34m=\u001b[0m \u001b[0mfind\u001b[0m\u001b[0;34m(\u001b[0m\u001b[0;34m[\u001b[0m\u001b[0mw\u001b[0m\u001b[0;34m==\u001b[0m\u001b[0;34m'leap'\u001b[0m \u001b[0;32mfor\u001b[0m \u001b[0mw\u001b[0m \u001b[0;32min\u001b[0m \u001b[0mwords\u001b[0m\u001b[0;34m]\u001b[0m\u001b[0;34m)\u001b[0m\u001b[0;34m[\u001b[0m\u001b[0;36m0\u001b[0m\u001b[0;34m]\u001b[0m\u001b[0;34m\u001b[0m\u001b[0m\n\u001b[0m\u001b[1;32m      2\u001b[0m \u001b[0;34m\u001b[0m\u001b[0m\n\u001b[1;32m      3\u001b[0m \u001b[0;32mprint\u001b[0m \u001b[0mwords\u001b[0m\u001b[0;34m[\u001b[0m\u001b[0midx\u001b[0m\u001b[0;34m]\u001b[0m\u001b[0;34m,\u001b[0m \u001b[0mpast_tense\u001b[0m\u001b[0;34m[\u001b[0m\u001b[0midx\u001b[0m\u001b[0;34m]\u001b[0m\u001b[0;34m\u001b[0m\u001b[0m\n\u001b[1;32m      4\u001b[0m \u001b[0mnp\u001b[0m\u001b[0;34m.\u001b[0m\u001b[0mdot\u001b[0m\u001b[0;34m(\u001b[0m\u001b[0mtotal_vec\u001b[0m \u001b[0;34m*\u001b[0m \u001b[0mencoded\u001b[0m\u001b[0;34m[\u001b[0m\u001b[0midx\u001b[0m\u001b[0;34m]\u001b[0m\u001b[0;34m[\u001b[0m\u001b[0;36m0\u001b[0m\u001b[0;34m]\u001b[0m\u001b[0;34m,\u001b[0m \u001b[0mencoded\u001b[0m\u001b[0;34m[\u001b[0m\u001b[0midx\u001b[0m\u001b[0;34m]\u001b[0m\u001b[0;34m[\u001b[0m\u001b[0;36m1\u001b[0m\u001b[0;34m]\u001b[0m\u001b[0;34m)\u001b[0m\u001b[0;34m\u001b[0m\u001b[0m\n\u001b[1;32m      5\u001b[0m \u001b[0mbound_vec\u001b[0m \u001b[0;34m=\u001b[0m \u001b[0mtotal_vec\u001b[0m \u001b[0;34m*\u001b[0m \u001b[0mencoded\u001b[0m\u001b[0;34m[\u001b[0m\u001b[0midx\u001b[0m\u001b[0;34m]\u001b[0m\u001b[0;34m[\u001b[0m\u001b[0;36m0\u001b[0m\u001b[0;34m]\u001b[0m\u001b[0;34m\u001b[0m\u001b[0m\n",
      "\u001b[0;31mNameError\u001b[0m: name 'words' is not defined"
     ]
    }
   ],
   "source": [
    "idx = find([w=='leap' for w in words])[0]\n",
    "\n",
    "print words[idx], past_tense[idx]\n",
    "np.dot(total_vec * encoded[idx][0], encoded[idx][1])\n",
    "bound_vec = total_vec * encoded[idx][0]\n"
   ]
  },
  {
   "cell_type": "code",
   "execution_count": 29,
   "metadata": {
    "collapsed": true
   },
   "outputs": [],
   "source": [
    "from pylab import *\n",
    "\n",
    "def ngram_encode(ngram_str, letter_vecs, alph):\n",
    "    vec = np.zeros(letter_vecs.shape[1])\n",
    "    \n",
    "    full_str = '#' + ngram_str + '.'\n",
    "    \n",
    "    \n",
    "    for il, l in enumerate(full_str[:-2]):\n",
    "        trivec = letter_vecs[alph.find(full_str[il]), :]\n",
    "        for c3 in range(1, 3):\n",
    "            trivec = trivec * np.roll(letter_vecs[alph.find(full_str[il+c3]), :], c3)\n",
    "            \n",
    "        vec += trivec\n",
    "    return vec\n",
    "\n",
    "def ngram_encode_cl(ngram_str, letter_vecs, alph):\n",
    "    vec = ngram_encode(ngram_str, letter_vecs, alph)\n",
    "    \n",
    "    return 2* (vec + 0.1*(np.random.rand(letter_vecs.shape[1])-0.5) > 0) - 1\n",
    "    "
   ]
  },
  {
   "cell_type": "code",
   "execution_count": 30,
   "metadata": {
    "collapsed": false
   },
   "outputs": [
    {
     "ename": "NameError",
     "evalue": "name 'perceptron_map_train' is not defined",
     "output_type": "error",
     "traceback": [
      "\u001b[0;31m---------------------------------------------------------------------------\u001b[0m",
      "\u001b[0;31mNameError\u001b[0m                                 Traceback (most recent call last)",
      "\u001b[0;32m<ipython-input-30-162826d3d26d>\u001b[0m in \u001b[0;36m<module>\u001b[0;34m()\u001b[0m\n\u001b[1;32m      3\u001b[0m \u001b[0mM\u001b[0m\u001b[0;34m=\u001b[0m\u001b[0mmen\u001b[0m\u001b[0;34m-\u001b[0m\u001b[0mmst\u001b[0m\u001b[0;34m\u001b[0m\u001b[0m\n\u001b[1;32m      4\u001b[0m \u001b[0;34m\u001b[0m\u001b[0m\n\u001b[0;32m----> 5\u001b[0;31m \u001b[0mtotal_vec\u001b[0m \u001b[0;34m=\u001b[0m \u001b[0mperceptron_map_train\u001b[0m\u001b[0;34m(\u001b[0m\u001b[0mencoded\u001b[0m\u001b[0;34m[\u001b[0m\u001b[0mmst\u001b[0m\u001b[0;34m:\u001b[0m\u001b[0mmen\u001b[0m\u001b[0;34m]\u001b[0m\u001b[0;34m)\u001b[0m\u001b[0;34m\u001b[0m\u001b[0m\n\u001b[0m",
      "\u001b[0;31mNameError\u001b[0m: name 'perceptron_map_train' is not defined"
     ]
    }
   ],
   "source": [
    "mst=0\n",
    "men=900\n",
    "M=men-mst\n",
    "\n",
    "total_vec = perceptron_map_train(encoded[mst:men])"
   ]
  },
  {
   "cell_type": "code",
   "execution_count": 31,
   "metadata": {
    "collapsed": false
   },
   "outputs": [
    {
     "ename": "NameError",
     "evalue": "name 'words' is not defined",
     "output_type": "error",
     "traceback": [
      "\u001b[0;31m---------------------------------------------------------------------------\u001b[0m",
      "\u001b[0;31mNameError\u001b[0m                                 Traceback (most recent call last)",
      "\u001b[0;32m<ipython-input-31-417b4f6be6ff>\u001b[0m in \u001b[0;36m<module>\u001b[0;34m()\u001b[0m\n\u001b[1;32m      1\u001b[0m \u001b[0midx\u001b[0m \u001b[0;34m=\u001b[0m \u001b[0;36m51\u001b[0m\u001b[0;34m\u001b[0m\u001b[0m\n\u001b[0;32m----> 2\u001b[0;31m \u001b[0;32mprint\u001b[0m \u001b[0mwords\u001b[0m\u001b[0;34m[\u001b[0m\u001b[0midx\u001b[0m\u001b[0;34m]\u001b[0m\u001b[0;34m,\u001b[0m \u001b[0mpast_tense\u001b[0m\u001b[0;34m[\u001b[0m\u001b[0midx\u001b[0m\u001b[0;34m]\u001b[0m\u001b[0;34m\u001b[0m\u001b[0m\n\u001b[0m\u001b[1;32m      3\u001b[0m \u001b[0mnp\u001b[0m\u001b[0;34m.\u001b[0m\u001b[0mdot\u001b[0m\u001b[0;34m(\u001b[0m\u001b[0mtotal_vec\u001b[0m \u001b[0;34m*\u001b[0m \u001b[0mencoded\u001b[0m\u001b[0;34m[\u001b[0m\u001b[0midx\u001b[0m\u001b[0;34m]\u001b[0m\u001b[0;34m[\u001b[0m\u001b[0;36m0\u001b[0m\u001b[0;34m]\u001b[0m\u001b[0;34m,\u001b[0m \u001b[0mencoded\u001b[0m\u001b[0;34m[\u001b[0m\u001b[0midx\u001b[0m\u001b[0;34m]\u001b[0m\u001b[0;34m[\u001b[0m\u001b[0;36m1\u001b[0m\u001b[0;34m]\u001b[0m\u001b[0;34m)\u001b[0m\u001b[0;34m\u001b[0m\u001b[0m\n",
      "\u001b[0;31mNameError\u001b[0m: name 'words' is not defined"
     ]
    }
   ],
   "source": [
    "idx = 51\n",
    "print words[idx], past_tense[idx]\n",
    "np.dot(total_vec * encoded[idx][0], encoded[idx][1])"
   ]
  },
  {
   "cell_type": "code",
   "execution_count": 32,
   "metadata": {
    "collapsed": false
   },
   "outputs": [
    {
     "ename": "NameError",
     "evalue": "name 'RI_past' is not defined",
     "output_type": "error",
     "traceback": [
      "\u001b[0;31m---------------------------------------------------------------------------\u001b[0m",
      "\u001b[0;31mNameError\u001b[0m                                 Traceback (most recent call last)",
      "\u001b[0;32m<ipython-input-32-2bdfc0c59eee>\u001b[0m in \u001b[0;36m<module>\u001b[0;34m()\u001b[0m\n\u001b[0;32m----> 1\u001b[0;31m \u001b[0mletter_vecs\u001b[0m \u001b[0;34m=\u001b[0m \u001b[0mRI_past\u001b[0m\u001b[0;34m\u001b[0m\u001b[0m\n\u001b[0m\u001b[1;32m      2\u001b[0m \u001b[0;31m#letter_vecs = 2 * (np.random.randn(D, N) < 0) - 1\u001b[0m\u001b[0;34m\u001b[0m\u001b[0;34m\u001b[0m\u001b[0m\n\u001b[1;32m      3\u001b[0m \u001b[0;34m\u001b[0m\u001b[0m\n\u001b[1;32m      4\u001b[0m \u001b[0;34m\u001b[0m\u001b[0m\n\u001b[1;32m      5\u001b[0m \u001b[0;31m#ngram_str = 'powers'\u001b[0m\u001b[0;34m\u001b[0m\u001b[0;34m\u001b[0m\u001b[0m\n",
      "\u001b[0;31mNameError\u001b[0m: name 'RI_past' is not defined"
     ]
    }
   ],
   "source": [
    "letter_vecs = RI_past\n",
    "#letter_vecs = 2 * (np.random.randn(D, N) < 0) - 1\n",
    "\n",
    "\n",
    "#ngram_str = 'powers'\n",
    "#bound_vec = ngram_encode(ngram_str, letter_vecs, alph)\n",
    "#bound_vec = ngram_encode_cl(ngram_str, letter_vecs, alph)\n",
    "\n",
    "# initializing the states as random works just as well as the intention, which\n",
    "# is to initialize as the superposition of all D states.\n",
    "l0_state = np.random.randn(N)\n",
    "l1_state = np.random.randn(N)\n",
    "l2_state = np.random.randn(N)\n",
    "l3_state = np.random.randn(N)\n",
    "l4_state = np.random.randn(N)\n",
    "l5_state = np.random.randn(N)\n",
    "l6_state = np.random.randn(N)\n",
    "l7_state = np.random.randn(N)\n",
    "\n",
    "l1_state = np.dot(letter_vecs.T, np.dot(l1_state, letter_vecs.T))\n",
    "l2_state = np.dot(letter_vecs.T, np.dot(l2_state, letter_vecs.T))\n",
    "l3_state = np.dot(letter_vecs.T, np.dot(l3_state, letter_vecs.T))\n",
    "l4_state = np.dot(letter_vecs.T, np.dot(l4_state, letter_vecs.T))\n",
    "l5_state = np.dot(letter_vecs.T, np.dot(l5_state, letter_vecs.T))\n",
    "l6_state = np.dot(letter_vecs.T, np.dot(l6_state, letter_vecs.T))\n",
    "l7_state = np.dot(letter_vecs.T, np.dot(l7_state, letter_vecs.T))\n",
    "\n",
    "# the clipping non-linearity will lead to arbitrary norms, so need to keep vector normalized\n",
    "l1_state = l1_state/norm(l1_state)\n",
    "l2_state = l2_state/norm(l2_state)\n",
    "l3_state = l3_state/norm(l3_state)\n",
    "l4_state = l4_state/norm(l4_state)\n",
    "l5_state = l5_state/norm(l5_state)\n",
    "l6_state = l6_state/norm(l6_state)\n",
    "l7_state = l7_state/norm(l7_state)\n",
    "\n",
    "# we know the first letter\n",
    "l0_state = letter_vecs[alphabet.find('#'), :]\n",
    "\n",
    "\n",
    "n_steps = 100\n",
    "\n",
    "l1_coef_hist = np.zeros((n_steps, D))\n",
    "l2_coef_hist = np.zeros((n_steps, D))\n",
    "l3_coef_hist = np.zeros((n_steps, D))\n",
    "l4_coef_hist = np.zeros((n_steps, D))\n",
    "l5_coef_hist = np.zeros((n_steps, D))\n",
    "l6_coef_hist = np.zeros((n_steps, D))\n",
    "l7_coef_hist = np.zeros((n_steps, D))"
   ]
  },
  {
   "cell_type": "code",
   "execution_count": 33,
   "metadata": {
    "collapsed": false
   },
   "outputs": [],
   "source": [
    "for i in range(n_steps):\n",
    "    l1_coef_hist[i, :] = np.dot(letter_vecs, l1_state)\n",
    "    l2_coef_hist[i, :] = np.dot(letter_vecs, l2_state)\n",
    "    l3_coef_hist[i, :] = np.dot(letter_vecs, l3_state)\n",
    "    l4_coef_hist[i, :] = np.dot(letter_vecs, l4_state)\n",
    "    l5_coef_hist[i, :] = np.dot(letter_vecs, l5_state)\n",
    "    l6_coef_hist[i, :] = np.dot(letter_vecs, l6_state)\n",
    "    l7_coef_hist[i, :] = np.dot(letter_vecs, l7_state)\n",
    "\n",
    "    ## Need to make sure that the largest absolute value is always positive,\n",
    "    ## because the unbinding inference can flip 2 and be the same\n",
    "    \n",
    "    mx1idx = np.argmax(np.abs(l1_coef_hist[i,:]))\n",
    "    l1_state = l1_state * np.sign(l1_coef_hist[i, mx1idx])\n",
    "    #l1_coef_hist[i, :] *= np.sign(l1_coef_hist[i, mx1idx])\n",
    "    \n",
    "    mx2idx = np.argmax(np.abs(l2_coef_hist[i,:]))\n",
    "    l2_state = l2_state *  np.sign(l2_coef_hist[i, mx2idx])\n",
    "    #l2_coef_hist[i, :] *= np.sign(l2_coef_hist[i, mx1idx])\n",
    "    \n",
    "    mx3idx = np.argmax(np.abs(l3_coef_hist[i,:]))\n",
    "    l3_state = l3_state * np.sign(l3_coef_hist[i, mx3idx])\n",
    "    #l3_coef_hist[i, :] *= np.sign(l3_coef_hist[i, mx1idx])\n",
    "    \n",
    "    mx4idx = np.argmax(np.abs(l4_coef_hist[i,:]))\n",
    "    l4_state = l4_state * np.sign(l4_coef_hist[i, mx4idx])\n",
    "    #l4_coef_hist[i, :] *= np.sign(l4_coef_hist[i, mx1idx])\n",
    "    \n",
    "    mx5idx = np.argmax(np.abs(l5_coef_hist[i,:]))\n",
    "    l5_state = l5_state * np.sign(l5_coef_hist[i, mx5idx])\n",
    "    #l5_coef_hist[i, :] *= np.sign(l5_coef_hist[i, mx1idx])\n",
    "    \n",
    "    mx6idx = np.argmax(np.abs(l6_coef_hist[i,:]))\n",
    "    l6_state = l6_state * np.sign(l6_coef_hist[i, mx6idx])\n",
    "    #l6_coef_hist[i, :] *= np.sign(l6_coef_hist[i, mx1idx])\n",
    "    \n",
    "    mx7idx = np.argmax(np.abs(l7_coef_hist[i,:]))\n",
    "    l7_state = l7_state * np.sign(l7_coef_hist[i, mx7idx])\n",
    "    #l7_coef_hist[i, :] *= np.sign(l7_coef_hist[i, mx1idx])\n",
    "    \n",
    "    \n",
    "    l1d = (np.roll(bound_vec * l0_state * np.roll(l2_state, 2), -1) +\n",
    "          bound_vec * np.roll(l2_state, 1) * np.roll(l3_state, 2)) / 2\n",
    "\n",
    "    l2d = (np.roll(bound_vec * l0_state * np.roll(l1_state, 1), -2) +\n",
    "            np.roll(bound_vec * l1_state * np.roll(l3_state, 2), -1) +\n",
    "              bound_vec * np.roll(l3_state, 1) * np.roll(l4_state, 2)) / 3\n",
    "\n",
    "    l3d = (np.roll(bound_vec * l2_state * np.roll(l4_state, 2), -1) +\n",
    "           np.roll(bound_vec * l1_state * np.roll(l2_state, 1), -2) +\n",
    "              bound_vec * np.roll(l4_state, 1) * np.roll(l5_state, 2)) / 3\n",
    "    \n",
    "    l4d = (np.roll(bound_vec * l2_state * np.roll(l3_state, 1), -2) +\n",
    "            np.roll(bound_vec * l3_state * np.roll(l5_state, 2), -1) +\n",
    "              bound_vec * np.roll(l5_state, 1) * np.roll(l6_state, 2)) / 3\n",
    "\n",
    "    l5d = (np.roll(bound_vec * l4_state * np.roll(l6_state, 2), -1) +\n",
    "           np.roll(bound_vec * l3_state * np.roll(l4_state, 1), -2) +\n",
    "              bound_vec * np.roll(l6_state, 1) * np.roll(l7_state, 2)) / 3\n",
    "    \n",
    "    l6d = (np.roll(bound_vec * l5_state * np.roll(l7_state, 2), -1) +\n",
    "           np.roll(bound_vec * l4_state * np.roll(l5_state, 1), -2)) / 2\n",
    "    \n",
    "    l7d = (np.roll(bound_vec * l5_state * np.roll(l6_state, 1), -2))\n",
    "\n",
    "    l1_state = np.dot(letter_vecs.T, np.dot(l1d, letter_vecs.T)/N)\n",
    "    l2_state = np.dot(letter_vecs.T, np.dot(l2d, letter_vecs.T)/N)\n",
    "    l3_state = np.dot(letter_vecs.T, np.dot(l3d, letter_vecs.T)/N)\n",
    "    l4_state = np.dot(letter_vecs.T, np.dot(l4d, letter_vecs.T)/N)\n",
    "    l5_state = np.dot(letter_vecs.T, np.dot(l5d, letter_vecs.T)/N)\n",
    "    l6_state = np.dot(letter_vecs.T, np.dot(l6d, letter_vecs.T)/N)\n",
    "    l7_state = np.dot(letter_vecs.T, np.dot(l7d, letter_vecs.T)/N)\n",
    "\n",
    "\n",
    "    l1_state = l1_state/norm(l1_state)\n",
    "    l2_state = l2_state/norm(l2_state)\n",
    "    l3_state = l3_state/norm(l3_state)\n",
    "    l4_state = l4_state/norm(l4_state)\n",
    "    l5_state = l5_state/norm(l5_state)\n",
    "    l6_state = l6_state/norm(l6_state)\n",
    "    l7_state = l7_state/norm(l7_state)\n",
    "\n"
   ]
  },
  {
   "cell_type": "code",
   "execution_count": 34,
   "metadata": {
    "collapsed": false
   },
   "outputs": [
    {
     "name": "stdout",
     "output_type": "stream",
     "text": [
      "needede\n"
     ]
    },
    {
     "ename": "NameError",
     "evalue": "name 'words' is not defined",
     "output_type": "error",
     "traceback": [
      "\u001b[0;31m---------------------------------------------------------------------------\u001b[0m",
      "\u001b[0;31mNameError\u001b[0m                                 Traceback (most recent call last)",
      "\u001b[0;32m<ipython-input-34-46fed158e541>\u001b[0m in \u001b[0;36m<module>\u001b[0;34m()\u001b[0m\n\u001b[1;32m     57\u001b[0m \u001b[0mtitle\u001b[0m\u001b[0;34m(\u001b[0m\u001b[0mresult\u001b[0m\u001b[0;34m)\u001b[0m\u001b[0;34m\u001b[0m\u001b[0m\n\u001b[1;32m     58\u001b[0m \u001b[0;34m\u001b[0m\u001b[0m\n\u001b[0;32m---> 59\u001b[0;31m \u001b[0mfname\u001b[0m \u001b[0;34m=\u001b[0m \u001b[0;34m'encoding_resonance_170314-res_example-'\u001b[0m \u001b[0;34m+\u001b[0m \u001b[0mwords\u001b[0m\u001b[0;34m[\u001b[0m\u001b[0midx\u001b[0m\u001b[0;34m]\u001b[0m \u001b[0;34m+\u001b[0m \u001b[0;34m'-N='\u001b[0m  \u001b[0;34m+\u001b[0m \u001b[0mstr\u001b[0m\u001b[0;34m(\u001b[0m\u001b[0mN\u001b[0m\u001b[0;34m)\u001b[0m \u001b[0;34m+\u001b[0m \u001b[0;34m'-M='\u001b[0m \u001b[0;34m+\u001b[0m \u001b[0mstr\u001b[0m\u001b[0;34m(\u001b[0m\u001b[0mM\u001b[0m\u001b[0;34m)\u001b[0m \u001b[0;34m+\u001b[0m \u001b[0;34m'-n'\u001b[0m \u001b[0;34m+\u001b[0m \u001b[0mtime\u001b[0m\u001b[0;34m.\u001b[0m\u001b[0mstrftime\u001b[0m\u001b[0;34m(\u001b[0m\u001b[0;34m'%y%m%d'\u001b[0m\u001b[0;34m)\u001b[0m\u001b[0;34m\u001b[0m\u001b[0m\n\u001b[0m\u001b[1;32m     60\u001b[0m \u001b[0;32mprint\u001b[0m \u001b[0mfname\u001b[0m\u001b[0;34m\u001b[0m\u001b[0m\n\u001b[1;32m     61\u001b[0m \u001b[0;34m\u001b[0m\u001b[0m\n",
      "\u001b[0;31mNameError\u001b[0m: name 'words' is not defined"
     ]
    },
    {
     "data": {
      "image/png": "[encoded data removed]",
      "text/plain": [
       "<matplotlib.figure.Figure at 0x11f4321d0>"
      ]
     },
     "metadata": {},
     "output_type": "display_data"
    }
   ],
   "source": [
    "figure(figsize=(16,3))\n",
    "cols = get_cmap('copper', n_steps)\n",
    "xv = arange(0, len(alph), 3)\n",
    "alph = np.array(list(alphabet))\n",
    "lv = alph[xv]\n",
    "\n",
    "for i in range(n_steps):\n",
    "    ax=subplot(171)\n",
    "    plot(-l1_coef_hist[i,:], lw=3, c=cols(i))\n",
    "    ax.set_xticks(xv)\n",
    "    ax.set_xticklabels(lv)\n",
    "    \n",
    "    ax=subplot(172)\n",
    "    plot(-l2_coef_hist[i,:], lw=3, c=cols(i))\n",
    "    ax.set_xticks(xv)\n",
    "    ax.set_xticklabels(lv)\n",
    "\n",
    "    ax=subplot(173)\n",
    "    plot(-l3_coef_hist[i,:], lw=3, c=cols(i))\n",
    "    ax.set_xticks(xv)\n",
    "    ax.set_xticklabels(lv)\n",
    "    \n",
    "    ax=subplot(174)\n",
    "    plot(-l4_coef_hist[i,:], lw=3, c=cols(i))\n",
    "    ax.set_xticks(xv)\n",
    "    ax.set_xticklabels(lv)\n",
    "\n",
    "    ax=subplot(175)\n",
    "    plot(-l5_coef_hist[i,:], lw=3, c=cols(i))\n",
    "    ax.set_xticks(xv)\n",
    "    ax.set_xticklabels(lv)\n",
    "    \n",
    "    ax=subplot(176)\n",
    "    plot(-l6_coef_hist[i,:], lw=3, c=cols(i))\n",
    "    ax.set_xticks(xv)\n",
    "    ax.set_xticklabels(lv)\n",
    "\n",
    "    ax=subplot(177)\n",
    "    plot(-l7_coef_hist[i,:], lw=3, c=cols(i))\n",
    "    ax.set_xticks(xv)\n",
    "    ax.set_xticklabels(lv)\n",
    "    \n",
    "    \n",
    "    \n",
    "l1 = alph[np.argmax(np.abs(l1_coef_hist[-1,:]))]\n",
    "l2 = alph[np.argmax(np.abs(l2_coef_hist[-1,:]))]\n",
    "l3 = alph[np.argmax(np.abs(l3_coef_hist[-1,:]))]\n",
    "l4 = alph[np.argmax(np.abs(l4_coef_hist[-1,:]))]\n",
    "l5 = alph[np.argmax(np.abs(l5_coef_hist[-1,:]))]\n",
    "l6 = alph[np.argmax(np.abs(l6_coef_hist[-1,:]))]\n",
    "l7 = alph[np.argmax(np.abs(l7_coef_hist[-1,:]))]\n",
    "\n",
    "result = l1+l2+l3+l4+l5+l6+l7\n",
    "print result\n",
    "\n",
    "subplot(174)\n",
    "title(result)\n",
    "\n",
    "fname = 'encoding_resonance_170314-res_example-' + words[idx] + '-N='  + str(N) + '-M=' + str(M) + '-n' + time.strftime('%y%m%d')\n",
    "print fname\n",
    "\n",
    "savefig(fname + '.eps', format='eps', transparent=True)\n",
    "savefig(fname + '.png', format='png', transparent=True)\n"
   ]
  },
  {
   "cell_type": "code",
   "execution_count": 35,
   "metadata": {
    "collapsed": true
   },
   "outputs": [],
   "source": [
    "from tempfile import NamedTemporaryFile\n",
    "from matplotlib import animation\n",
    "\n",
    "from matplotlib.collections import LineCollection, CircleCollection\n",
    "\n",
    "\n",
    "VIDEO_TAG = \"\"\"<video controls>\n",
    " <source src=\"data:video/x-m4v;base64,{0}\" type=\"video/mp4\">\n",
    " Your browser does not support the video tag.\n",
    "</video>\"\"\"\n",
    "\n",
    "def anim_to_html(anim):\n",
    "    if not hasattr(anim, '_encoded_video'):\n",
    "        with NamedTemporaryFile(suffix='.mp4') as f:\n",
    "            anim.save(f.name, fps=20, extra_args=['-vcodec', 'libx264'])\n",
    "            video = open(f.name, \"rb\").read()\n",
    "        anim._encoded_video = video.encode(\"base64\")\n",
    "    \n",
    "    return VIDEO_TAG.format(anim._encoded_video)\n",
    "\n",
    "from IPython.display import HTML\n",
    "\n",
    "def display_animation(anim):\n",
    "    plt.close(anim._fig)\n",
    "    return HTML(anim_to_html(anim))"
   ]
  },
  {
   "cell_type": "code",
   "execution_count": 36,
   "metadata": {
    "collapsed": false
   },
   "outputs": [
    {
     "data": {
      "text/plain": [
       "<matplotlib.text.Text at 0x112e6a690>"
      ]
     },
     "execution_count": 36,
     "metadata": {},
     "output_type": "execute_result"
    },
    {
     "data": {
      "image/png": "[encoded data removed]",
      "text/plain": [
       "<matplotlib.figure.Figure at 0x110cbc810>"
      ]
     },
     "metadata": {},
     "output_type": "display_data"
    }
   ],
   "source": [
    "fh = figure(figsize=(16,3))\n",
    "fh.clf()\n",
    "cols = get_cmap('copper', n_steps)\n",
    "xv = arange(0, len(alph), 3)\n",
    "alphabet = np.array(list(alph))\n",
    "lv = alphabet[xv]\n",
    "\n",
    "ax1=fh.add_subplot(171)\n",
    "ax2=fh.add_subplot(172)\n",
    "ax3=fh.add_subplot(173)\n",
    "ax4=fh.add_subplot(174)\n",
    "ax5=fh.add_subplot(175)\n",
    "ax6=fh.add_subplot(176)\n",
    "ax7=fh.add_subplot(177)\n",
    "\n",
    "ax1.set_xticks(xv)\n",
    "ax1.set_xticklabels(lv)\n",
    "\n",
    "ax2.set_xticks(xv)\n",
    "ax2.set_xticklabels(lv)\n",
    "\n",
    "ax3.set_xticks(xv)\n",
    "ax3.set_xticklabels(lv)\n",
    "\n",
    "ax4.set_xticks(xv)\n",
    "ax4.set_xticklabels(lv)\n",
    "\n",
    "ax5.set_xticks(xv)\n",
    "ax5.set_xticklabels(lv)\n",
    "\n",
    "ax6.set_xticks(xv)\n",
    "ax6.set_xticklabels(lv)\n",
    "\n",
    "ax7.set_xticks(xv)\n",
    "ax7.set_xticklabels(lv)\n",
    "    \n",
    "\n",
    "ax1.plot(l1_coef_hist[0,:], lw=3, c=cols(0))\n",
    "ax2.plot(l2_coef_hist[0,:], lw=3, c=cols(0))\n",
    "ax3.plot(l3_coef_hist[0,:], lw=3, c=cols(0))\n",
    "ax4.plot(l4_coef_hist[0,:], lw=3, c=cols(0))\n",
    "ax5.plot(l5_coef_hist[0,:], lw=3, c=cols(0))\n",
    "ax6.plot(l6_coef_hist[0,:], lw=3, c=cols(0))\n",
    "ax7.plot(l7_coef_hist[0,:], lw=3, c=cols(0))\n",
    "\n",
    "\n",
    "l1 = alph[np.argmax(np.abs(l1_coef_hist[0,:]))]\n",
    "l2 = alph[np.argmax(np.abs(l2_coef_hist[0,:]))]\n",
    "l3 = alph[np.argmax(np.abs(l3_coef_hist[0,:]))]\n",
    "l4 = alph[np.argmax(np.abs(l4_coef_hist[0,:]))]\n",
    "l5 = alph[np.argmax(np.abs(l5_coef_hist[0,:]))]\n",
    "l6 = alph[np.argmax(np.abs(l6_coef_hist[0,:]))]\n",
    "l7 = alph[np.argmax(np.abs(l7_coef_hist[0,:]))]\n",
    "\n",
    "result = l1+l2+l3+l4+l5+l6+l7\n",
    "ax4.set_title(result)\n",
    "\n"
   ]
  },
  {
   "cell_type": "code",
   "execution_count": 37,
   "metadata": {
    "collapsed": false
   },
   "outputs": [
    {
     "ename": "NameError",
     "evalue": "name 'words' is not defined",
     "output_type": "error",
     "traceback": [
      "\u001b[0;31m---------------------------------------------------------------------------\u001b[0m",
      "\u001b[0;31mNameError\u001b[0m                                 Traceback (most recent call last)",
      "\u001b[0;32m<ipython-input-37-746612e679e9>\u001b[0m in \u001b[0;36m<module>\u001b[0;34m()\u001b[0m\n\u001b[1;32m     87\u001b[0m \u001b[0manim\u001b[0m \u001b[0;34m=\u001b[0m \u001b[0manimation\u001b[0m\u001b[0;34m.\u001b[0m\u001b[0mFuncAnimation\u001b[0m\u001b[0;34m(\u001b[0m\u001b[0mfh\u001b[0m\u001b[0;34m,\u001b[0m \u001b[0manimate_cl\u001b[0m\u001b[0;34m,\u001b[0m \u001b[0mframes\u001b[0m\u001b[0;34m=\u001b[0m\u001b[0;36m300\u001b[0m\u001b[0;34m,\u001b[0m \u001b[0mblit\u001b[0m\u001b[0;34m=\u001b[0m\u001b[0mFalse\u001b[0m\u001b[0;34m)\u001b[0m\u001b[0;34m\u001b[0m\u001b[0m\n\u001b[1;32m     88\u001b[0m \u001b[0;31m#display_animation(anim)\u001b[0m\u001b[0;34m\u001b[0m\u001b[0;34m\u001b[0m\u001b[0m\n\u001b[0;32m---> 89\u001b[0;31m \u001b[0mfname\u001b[0m \u001b[0;34m=\u001b[0m \u001b[0;34m'encoding_resonance_170314-resonance_animation-clear-'\u001b[0m  \u001b[0;34m+\u001b[0m \u001b[0mwords\u001b[0m\u001b[0;34m[\u001b[0m\u001b[0midx\u001b[0m\u001b[0;34m]\u001b[0m \u001b[0;34m+\u001b[0m \u001b[0;34m'-N='\u001b[0m  \u001b[0;34m+\u001b[0m \u001b[0mstr\u001b[0m\u001b[0;34m(\u001b[0m\u001b[0mN\u001b[0m\u001b[0;34m)\u001b[0m \u001b[0;34m+\u001b[0m \u001b[0;34m'-M='\u001b[0m \u001b[0;34m+\u001b[0m \u001b[0mstr\u001b[0m\u001b[0;34m(\u001b[0m\u001b[0mM\u001b[0m\u001b[0;34m)\u001b[0m \u001b[0;34m+\u001b[0m \u001b[0;34m'-n'\u001b[0m \u001b[0;34m+\u001b[0m \u001b[0mtime\u001b[0m\u001b[0;34m.\u001b[0m\u001b[0mstrftime\u001b[0m\u001b[0;34m(\u001b[0m\u001b[0;34m'%y%m%d'\u001b[0m\u001b[0;34m)\u001b[0m \u001b[0;34m+\u001b[0m \u001b[0;34m'.mp4'\u001b[0m\u001b[0;34m\u001b[0m\u001b[0m\n\u001b[0m\u001b[1;32m     90\u001b[0m \u001b[0;32mprint\u001b[0m \u001b[0mfname\u001b[0m\u001b[0;34m\u001b[0m\u001b[0m\n\u001b[1;32m     91\u001b[0m \u001b[0manim\u001b[0m\u001b[0;34m.\u001b[0m\u001b[0msave\u001b[0m\u001b[0;34m(\u001b[0m\u001b[0mfname\u001b[0m\u001b[0;34m,\u001b[0m \u001b[0mfps\u001b[0m\u001b[0;34m=\u001b[0m\u001b[0;36m10\u001b[0m\u001b[0;34m,\u001b[0m \u001b[0mextra_args\u001b[0m\u001b[0;34m=\u001b[0m\u001b[0;34m[\u001b[0m\u001b[0;34m'-vcodec'\u001b[0m\u001b[0;34m,\u001b[0m \u001b[0;34m'libx264'\u001b[0m\u001b[0;34m]\u001b[0m\u001b[0;34m)\u001b[0m\u001b[0;34m\u001b[0m\u001b[0m\n",
      "\u001b[0;31mNameError\u001b[0m: name 'words' is not defined"
     ]
    }
   ],
   "source": [
    "def animate_cl(i):\n",
    "    #tstart =time.time()\n",
    "\n",
    "    ax1.clear()\n",
    "    ax2.clear()\n",
    "    ax3.clear()\n",
    "    ax4.clear()\n",
    "    ax5.clear()\n",
    "    ax6.clear()\n",
    "    ax7.clear()\n",
    "    \n",
    "    ax1.plot(-l1_coef_hist[i,:], lw=3, c=cols(i))\n",
    "    ax2.plot(-l2_coef_hist[i,:], lw=3, c=cols(i))\n",
    "    ax3.plot(-l3_coef_hist[i,:], lw=3, c=cols(i))\n",
    "    ax4.plot(-l4_coef_hist[i,:], lw=3, c=cols(i))\n",
    "    ax5.plot(-l5_coef_hist[i,:], lw=3, c=cols(i))\n",
    "    ax6.plot(-l6_coef_hist[i,:], lw=3, c=cols(i))\n",
    "    ax7.plot(-l7_coef_hist[i,:], lw=3, c=cols(i))\n",
    "\n",
    "    \n",
    "    l1 = alph[np.argmax(np.abs(l1_coef_hist[i,:]))]\n",
    "    l2 = alph[np.argmax(np.abs(l2_coef_hist[i,:]))]\n",
    "    l3 = alph[np.argmax(np.abs(l3_coef_hist[i,:]))]\n",
    "    l4 = alph[np.argmax(np.abs(l4_coef_hist[i,:]))]\n",
    "    l5 = alph[np.argmax(np.abs(l5_coef_hist[i,:]))]\n",
    "    l6 = alph[np.argmax(np.abs(l6_coef_hist[i,:]))]\n",
    "    l7 = alph[np.argmax(np.abs(l7_coef_hist[i,:]))]\n",
    "\n",
    "    #result = l1+l2+l3+l4+l5+l6+l7\n",
    "    #ax4.set_title(result)\n",
    "    \n",
    "    ax1.set_title(l1)\n",
    "    ax2.set_title(l2)\n",
    "    ax3.set_title(l3)\n",
    "    ax4.set_title(l4)\n",
    "    ax5.set_title(l5)\n",
    "    ax6.set_title(l6)\n",
    "    ax7.set_title(l7)\n",
    "    \n",
    "    ax1.set_xticks(xv)\n",
    "    ax1.set_xticklabels(lv)\n",
    "    ax1.set_yticks([])\n",
    "\n",
    "    ax2.set_xticks(xv)\n",
    "    ax2.set_xticklabels(lv)\n",
    "    ax2.set_yticks([])\n",
    "\n",
    "    ax3.set_xticks(xv)\n",
    "    ax3.set_xticklabels(lv)\n",
    "    ax3.set_yticks([])\n",
    "    \n",
    "    ax4.set_xticks(xv)\n",
    "    ax4.set_xticklabels(lv)\n",
    "    ax4.set_yticks([])\n",
    "    \n",
    "    ax5.set_xticks(xv)\n",
    "    ax5.set_xticklabels(lv)\n",
    "    ax5.set_yticks([])\n",
    "    \n",
    "    ax6.set_xticks(xv)\n",
    "    ax6.set_xticklabels(lv)\n",
    "    ax6.set_yticks([])\n",
    "    \n",
    "    ax7.set_xticks(xv)\n",
    "    ax7.set_xticklabels(lv)\n",
    "    ax7.set_yticks([])\n",
    "    \n",
    "    ax1.set_xlim([0, len(alph)])\n",
    "    ax1.set_ylim([-300, 400])\n",
    "    ax2.set_xlim([0, len(alph)])\n",
    "    ax2.set_ylim([-300, 400])\n",
    "    ax3.set_xlim([0, len(alph)])\n",
    "    ax3.set_ylim([-300, 400])\n",
    "    ax4.set_xlim([0, len(alph)])\n",
    "    ax4.set_ylim([-300, 400])\n",
    "    ax5.set_xlim([0, len(alph)])\n",
    "    ax5.set_ylim([-300, 400])\n",
    "    ax6.set_xlim([0, len(alph)])\n",
    "    ax6.set_ylim([-300, 400])\n",
    "    ax7.set_xlim([0, len(alph)])\n",
    "    ax7.set_ylim([-300, 400])\n",
    "    \n",
    "    \n",
    "    print i,\n",
    "\n",
    "tanim = time.time()\n",
    "anim = animation.FuncAnimation(fh, animate_cl, frames=300, blit=False)\n",
    "#display_animation(anim)\n",
    "fname = 'encoding_resonance_170314-resonance_animation-clear-'  + words[idx] + '-N='  + str(N) + '-M=' + str(M) + '-n' + time.strftime('%y%m%d') + '.mp4'\n",
    "print fname\n",
    "anim.save(fname, fps=10, extra_args=['-vcodec', 'libx264'])\n",
    "print ('\\ntotal time: %2.2f ms' % (1000*(time.time() - tanim)))\n"
   ]
  },
  {
   "cell_type": "code",
   "execution_count": 38,
   "metadata": {
    "collapsed": false
   },
   "outputs": [
    {
     "ename": "NameError",
     "evalue": "name 'words' is not defined",
     "output_type": "error",
     "traceback": [
      "\u001b[0;31m---------------------------------------------------------------------------\u001b[0m",
      "\u001b[0;31mNameError\u001b[0m                                 Traceback (most recent call last)",
      "\u001b[0;32m<ipython-input-38-493392554155>\u001b[0m in \u001b[0;36m<module>\u001b[0;34m()\u001b[0m\n\u001b[1;32m     33\u001b[0m \u001b[0mtanim\u001b[0m \u001b[0;34m=\u001b[0m \u001b[0mtime\u001b[0m\u001b[0;34m.\u001b[0m\u001b[0mtime\u001b[0m\u001b[0;34m(\u001b[0m\u001b[0;34m)\u001b[0m\u001b[0;34m\u001b[0m\u001b[0m\n\u001b[1;32m     34\u001b[0m \u001b[0manim\u001b[0m \u001b[0;34m=\u001b[0m \u001b[0manimation\u001b[0m\u001b[0;34m.\u001b[0m\u001b[0mFuncAnimation\u001b[0m\u001b[0;34m(\u001b[0m\u001b[0mfh\u001b[0m\u001b[0;34m,\u001b[0m \u001b[0manimate\u001b[0m\u001b[0;34m,\u001b[0m \u001b[0mframes\u001b[0m\u001b[0;34m=\u001b[0m\u001b[0;36m300\u001b[0m\u001b[0;34m,\u001b[0m \u001b[0mblit\u001b[0m\u001b[0;34m=\u001b[0m\u001b[0mFalse\u001b[0m\u001b[0;34m)\u001b[0m\u001b[0;34m\u001b[0m\u001b[0m\n\u001b[0;32m---> 35\u001b[0;31m \u001b[0mfname\u001b[0m \u001b[0;34m=\u001b[0m \u001b[0;34m'encoding_resonance_170314-resonance_animation-'\u001b[0m  \u001b[0;34m+\u001b[0m \u001b[0mwords\u001b[0m\u001b[0;34m[\u001b[0m\u001b[0midx\u001b[0m\u001b[0;34m]\u001b[0m \u001b[0;34m+\u001b[0m \u001b[0;34m'-N='\u001b[0m  \u001b[0;34m+\u001b[0m \u001b[0mstr\u001b[0m\u001b[0;34m(\u001b[0m\u001b[0mN\u001b[0m\u001b[0;34m)\u001b[0m \u001b[0;34m+\u001b[0m \u001b[0;34m'-M='\u001b[0m \u001b[0;34m+\u001b[0m \u001b[0mstr\u001b[0m\u001b[0;34m(\u001b[0m\u001b[0mM\u001b[0m\u001b[0;34m)\u001b[0m \u001b[0;34m+\u001b[0m \u001b[0;34m'-n'\u001b[0m \u001b[0;34m+\u001b[0m \u001b[0mtime\u001b[0m\u001b[0;34m.\u001b[0m\u001b[0mstrftime\u001b[0m\u001b[0;34m(\u001b[0m\u001b[0;34m'%y%m%d'\u001b[0m\u001b[0;34m)\u001b[0m \u001b[0;34m+\u001b[0m \u001b[0;34m'.mp4'\u001b[0m\u001b[0;34m\u001b[0m\u001b[0m\n\u001b[0m\u001b[1;32m     36\u001b[0m \u001b[0;32mprint\u001b[0m \u001b[0mfname\u001b[0m\u001b[0;34m\u001b[0m\u001b[0m\n\u001b[1;32m     37\u001b[0m \u001b[0manim\u001b[0m\u001b[0;34m.\u001b[0m\u001b[0msave\u001b[0m\u001b[0;34m(\u001b[0m\u001b[0mfname\u001b[0m\u001b[0;34m,\u001b[0m \u001b[0mfps\u001b[0m\u001b[0;34m=\u001b[0m\u001b[0;36m10\u001b[0m\u001b[0;34m,\u001b[0m \u001b[0mextra_args\u001b[0m\u001b[0;34m=\u001b[0m\u001b[0;34m[\u001b[0m\u001b[0;34m'-vcodec'\u001b[0m\u001b[0;34m,\u001b[0m \u001b[0;34m'libx264'\u001b[0m\u001b[0;34m]\u001b[0m\u001b[0;34m)\u001b[0m\u001b[0;34m\u001b[0m\u001b[0m\n",
      "\u001b[0;31mNameError\u001b[0m: name 'words' is not defined"
     ]
    }
   ],
   "source": [
    "def animate(i):\n",
    "    #tstart =time.time()\n",
    "\n",
    "    #ax1.clear()\n",
    "    #ax2.clear()\n",
    "    #ax3.clear()\n",
    "    #ax4.clear()\n",
    "    #ax5.clear()\n",
    "    #ax6.clear()\n",
    "    #ax7.clear()\n",
    "    \n",
    "    ax1.plot(l1_coef_hist[i,:], lw=3, c=cols(i))\n",
    "    ax2.plot(l2_coef_hist[i,:], lw=3, c=cols(i))\n",
    "    ax3.plot(l3_coef_hist[i,:], lw=3, c=cols(i))\n",
    "    ax4.plot(l4_coef_hist[i,:], lw=3, c=cols(i))\n",
    "    ax5.plot(l5_coef_hist[i,:], lw=3, c=cols(i))\n",
    "    ax6.plot(l6_coef_hist[i,:], lw=3, c=cols(i))\n",
    "    ax7.plot(l7_coef_hist[i,:], lw=3, c=cols(i))\n",
    "\n",
    "    \n",
    "    l1 = alph[np.argmax(np.abs(l1_coef_hist[i,:]))]\n",
    "    l2 = alph[np.argmax(np.abs(l2_coef_hist[i,:]))]\n",
    "    l3 = alph[np.argmax(np.abs(l3_coef_hist[i,:]))]\n",
    "    l4 = alph[np.argmax(np.abs(l4_coef_hist[i,:]))]\n",
    "    l5 = alph[np.argmax(np.abs(l5_coef_hist[i,:]))]\n",
    "    l6 = alph[np.argmax(np.abs(l6_coef_hist[i,:]))]\n",
    "    l7 = alph[np.argmax(np.abs(l7_coef_hist[i,:]))]\n",
    "\n",
    "    result = l1+l2+l3+l4+l5+l6+l7\n",
    "    ax4.set_title(result)\n",
    "    print i,\n",
    "\n",
    "tanim = time.time()\n",
    "anim = animation.FuncAnimation(fh, animate, frames=300, blit=False)\n",
    "fname = 'encoding_resonance_170314-resonance_animation-'  + words[idx] + '-N='  + str(N) + '-M=' + str(M) + '-n' + time.strftime('%y%m%d') + '.mp4'\n",
    "print fname\n",
    "anim.save(fname, fps=10, extra_args=['-vcodec', 'libx264'])\n",
    "\n",
    "print ('\\ntotal time: %2.2f ms' % (1000*(time.time() - tanim)))\n"
   ]
  },
  {
   "cell_type": "code",
   "execution_count": null,
   "metadata": {
    "collapsed": true
   },
   "outputs": [],
   "source": []
  },
  {
   "cell_type": "code",
   "execution_count": null,
   "metadata": {
    "collapsed": false
   },
   "outputs": [],
   "source": []
  },
  {
   "cell_type": "code",
   "execution_count": 39,
   "metadata": {
    "collapsed": false
   },
   "outputs": [
    {
     "ename": "NameError",
     "evalue": "name 'read_csv' is not defined",
     "output_type": "error",
     "traceback": [
      "\u001b[0;31m---------------------------------------------------------------------------\u001b[0m",
      "\u001b[0;31mNameError\u001b[0m                                 Traceback (most recent call last)",
      "\u001b[0;32m<ipython-input-39-8f1a6f3aa38f>\u001b[0m in \u001b[0;36m<module>\u001b[0;34m()\u001b[0m\n\u001b[0;32m----> 1\u001b[0;31m \u001b[0mirreg\u001b[0m \u001b[0;34m=\u001b[0m \u001b[0mread_csv\u001b[0m\u001b[0;34m(\u001b[0m\u001b[0;34m\"wickle_train/irregular_verbs.csv\"\u001b[0m\u001b[0;34m)\u001b[0m\u001b[0;34m\u001b[0m\u001b[0m\n\u001b[0m\u001b[1;32m      2\u001b[0m \u001b[0;34m\u001b[0m\u001b[0m\n\u001b[1;32m      3\u001b[0m \u001b[0mnp\u001b[0m\u001b[0;34m.\u001b[0m\u001b[0mrandom\u001b[0m\u001b[0;34m.\u001b[0m\u001b[0mshuffle\u001b[0m\u001b[0;34m(\u001b[0m\u001b[0mirreg\u001b[0m\u001b[0;34m)\u001b[0m\u001b[0;34m\u001b[0m\u001b[0m\n\u001b[1;32m      4\u001b[0m \u001b[0;34m\u001b[0m\u001b[0m\n\u001b[1;32m      5\u001b[0m \u001b[0mirreg_past_tense\u001b[0m\u001b[0;34m,\u001b[0m \u001b[0mirreg_words\u001b[0m \u001b[0;34m=\u001b[0m \u001b[0;34m[\u001b[0m\u001b[0;34m]\u001b[0m\u001b[0;34m,\u001b[0m \u001b[0;34m[\u001b[0m\u001b[0;34m]\u001b[0m\u001b[0;34m\u001b[0m\u001b[0m\n",
      "\u001b[0;31mNameError\u001b[0m: name 'read_csv' is not defined"
     ]
    }
   ],
   "source": [
    "irreg = read_csv(\"wickle_train/irregular_verbs.csv\")\n",
    "\n",
    "np.random.shuffle(irreg)\n",
    "\n",
    "irreg_past_tense, irreg_words = [], []\n",
    "for row in irreg:\n",
    "    irreg_words.append(row[0])\n",
    "    irreg_past_tense.append(row[1])\n",
    "    \n",
    "    \n",
    "test_irreg_past_tense = irreg_past_tense[:30]\n",
    "test_irreg_words = irreg_words[:30]\n",
    "\n",
    "irreg_past_tense = irreg_past_tense[30:]\n",
    "irreg_words = irreg_words[30:]"
   ]
  },
  {
   "cell_type": "code",
   "execution_count": 40,
   "metadata": {
    "collapsed": false
   },
   "outputs": [
    {
     "ename": "NameError",
     "evalue": "name 'test_irreg_words' is not defined",
     "output_type": "error",
     "traceback": [
      "\u001b[0;31m---------------------------------------------------------------------------\u001b[0m",
      "\u001b[0;31mNameError\u001b[0m                                 Traceback (most recent call last)",
      "\u001b[0;32m<ipython-input-40-224d38bffac6>\u001b[0m in \u001b[0;36m<module>\u001b[0;34m()\u001b[0m\n\u001b[0;32m----> 1\u001b[0;31m \u001b[0;32mprint\u001b[0m \u001b[0mtest_irreg_words\u001b[0m\u001b[0;34m\u001b[0m\u001b[0m\n\u001b[0m",
      "\u001b[0;31mNameError\u001b[0m: name 'test_irreg_words' is not defined"
     ]
    }
   ],
   "source": [
    "print test_irreg_words"
   ]
  },
  {
   "cell_type": "code",
   "execution_count": 41,
   "metadata": {
    "collapsed": false
   },
   "outputs": [
    {
     "ename": "NameError",
     "evalue": "name 'encodes' is not defined",
     "output_type": "error",
     "traceback": [
      "\u001b[0;31m---------------------------------------------------------------------------\u001b[0m",
      "\u001b[0;31mNameError\u001b[0m                                 Traceback (most recent call last)",
      "\u001b[0;32m<ipython-input-41-7bb819f923f7>\u001b[0m in \u001b[0;36m<module>\u001b[0;34m()\u001b[0m\n\u001b[1;32m      1\u001b[0m \u001b[0;31m# train and test with only irregular verbs\u001b[0m\u001b[0;34m\u001b[0m\u001b[0;34m\u001b[0m\u001b[0m\n\u001b[0;32m----> 2\u001b[0;31m \u001b[0mirreg_encoded\u001b[0m \u001b[0;34m=\u001b[0m \u001b[0mencodes\u001b[0m\u001b[0;34m(\u001b[0m\u001b[0mirreg_words\u001b[0m\u001b[0;34m,\u001b[0m \u001b[0mirreg_past_tense\u001b[0m\u001b[0;34m)\u001b[0m\u001b[0;34m\u001b[0m\u001b[0m\n\u001b[0m\u001b[1;32m      3\u001b[0m \u001b[0mtest_irreg_encoded\u001b[0m \u001b[0;34m=\u001b[0m \u001b[0mencodes\u001b[0m\u001b[0;34m(\u001b[0m\u001b[0mtest_irreg_words\u001b[0m\u001b[0;34m,\u001b[0m \u001b[0mtest_irreg_past_tense\u001b[0m\u001b[0;34m)\u001b[0m\u001b[0;34m\u001b[0m\u001b[0m\n",
      "\u001b[0;31mNameError\u001b[0m: name 'encodes' is not defined"
     ]
    }
   ],
   "source": [
    "# train and test with only irregular verbs\n",
    "irreg_encoded = encodes(irreg_words, irreg_past_tense)\n",
    "test_irreg_encoded = encodes(test_irreg_words, test_irreg_past_tense)"
   ]
  },
  {
   "cell_type": "code",
   "execution_count": 42,
   "metadata": {
    "collapsed": false
   },
   "outputs": [
    {
     "ename": "NameError",
     "evalue": "name 'graph' is not defined",
     "output_type": "error",
     "traceback": [
      "\u001b[0;31m---------------------------------------------------------------------------\u001b[0m",
      "\u001b[0;31mNameError\u001b[0m                                 Traceback (most recent call last)",
      "\u001b[0;32m<ipython-input-42-63603e4f0524>\u001b[0m in \u001b[0;36m<module>\u001b[0;34m()\u001b[0m\n\u001b[0;32m----> 1\u001b[0;31m \u001b[0mgraph\u001b[0m\u001b[0;34m(\u001b[0m\u001b[0mperceptron_map_train\u001b[0m\u001b[0;34m,\u001b[0m \u001b[0mirreg_encoded\u001b[0m\u001b[0;34m,\u001b[0m \u001b[0mtest_irreg_encoded\u001b[0m\u001b[0;34m)\u001b[0m\u001b[0;34m\u001b[0m\u001b[0m\n\u001b[0m",
      "\u001b[0;31mNameError\u001b[0m: name 'graph' is not defined"
     ]
    }
   ],
   "source": [
    "graph(perceptron_map_train, irreg_encoded, test_irreg_encoded)"
   ]
  },
  {
   "cell_type": "code",
   "execution_count": 43,
   "metadata": {
    "collapsed": false
   },
   "outputs": [
    {
     "ename": "NameError",
     "evalue": "name 'irreg_encoded' is not defined",
     "output_type": "error",
     "traceback": [
      "\u001b[0;31m---------------------------------------------------------------------------\u001b[0m",
      "\u001b[0;31mNameError\u001b[0m                                 Traceback (most recent call last)",
      "\u001b[0;32m<ipython-input-43-d179aabbb2d3>\u001b[0m in \u001b[0;36m<module>\u001b[0;34m()\u001b[0m\n\u001b[1;32m      1\u001b[0m \u001b[0;31m# train and test appended to regular verbs\u001b[0m\u001b[0;34m\u001b[0m\u001b[0;34m\u001b[0m\u001b[0m\n\u001b[0;32m----> 2\u001b[0;31m \u001b[0mall_encoded\u001b[0m \u001b[0;34m=\u001b[0m \u001b[0mirreg_encoded\u001b[0m \u001b[0;34m+\u001b[0m \u001b[0mencoded\u001b[0m\u001b[0;34m\u001b[0m\u001b[0m\n\u001b[0m\u001b[1;32m      3\u001b[0m \u001b[0;34m\u001b[0m\u001b[0m\n\u001b[1;32m      4\u001b[0m \u001b[0mall_past_words\u001b[0m \u001b[0;34m=\u001b[0m \u001b[0mirreg_past_tense\u001b[0m \u001b[0;34m+\u001b[0m \u001b[0mpast_tense\u001b[0m\u001b[0;34m\u001b[0m\u001b[0m\n\u001b[1;32m      5\u001b[0m \u001b[0;34m\u001b[0m\u001b[0m\n",
      "\u001b[0;31mNameError\u001b[0m: name 'irreg_encoded' is not defined"
     ]
    }
   ],
   "source": [
    "# train and test appended to regular verbs\n",
    "all_encoded = irreg_encoded + encoded\n",
    "\n",
    "all_past_words = irreg_past_tense + past_tense\n",
    "\n",
    "test_all_encoded = test_irreg_encoded + test_encoded\n",
    "\n",
    "all_words = irreg_words + words\n",
    "\n",
    "all_test_words = test_irreg_words + test_words\n",
    "all_past_test_words = test_irreg_past_tense + test_past_tense\n",
    "\n",
    "M = len(all_encoded)\n",
    "\n",
    "total_vec = perceptron_map_train(all_encoded)"
   ]
  },
  {
   "cell_type": "code",
   "execution_count": 44,
   "metadata": {
    "collapsed": false
   },
   "outputs": [
    {
     "ename": "NameError",
     "evalue": "name 'irreg_encoded' is not defined",
     "output_type": "error",
     "traceback": [
      "\u001b[0;31m---------------------------------------------------------------------------\u001b[0m",
      "\u001b[0;31mNameError\u001b[0m                                 Traceback (most recent call last)",
      "\u001b[0;32m<ipython-input-44-9bb484d101f8>\u001b[0m in \u001b[0;36m<module>\u001b[0;34m()\u001b[0m\n\u001b[1;32m      1\u001b[0m \u001b[0;34m\u001b[0m\u001b[0m\n\u001b[0;32m----> 2\u001b[0;31m \u001b[0mM\u001b[0m \u001b[0;34m=\u001b[0m \u001b[0mlen\u001b[0m\u001b[0;34m(\u001b[0m\u001b[0mirreg_encoded\u001b[0m\u001b[0;34m)\u001b[0m\u001b[0;34m\u001b[0m\u001b[0m\n\u001b[0m\u001b[1;32m      3\u001b[0m \u001b[0;34m\u001b[0m\u001b[0m\n\u001b[1;32m      4\u001b[0m \u001b[0mtotal_vec\u001b[0m \u001b[0;34m=\u001b[0m \u001b[0mperceptron_map_train\u001b[0m\u001b[0;34m(\u001b[0m\u001b[0mirreg_encoded\u001b[0m\u001b[0;34m)\u001b[0m\u001b[0;34m\u001b[0m\u001b[0m\n",
      "\u001b[0;31mNameError\u001b[0m: name 'irreg_encoded' is not defined"
     ]
    }
   ],
   "source": [
    "\n",
    "M = len(irreg_encoded)\n",
    "\n",
    "total_vec = perceptron_map_train(irreg_encoded)"
   ]
  },
  {
   "cell_type": "code",
   "execution_count": 45,
   "metadata": {
    "collapsed": false
   },
   "outputs": [
    {
     "ename": "NameError",
     "evalue": "name 'all_words' is not defined",
     "output_type": "error",
     "traceback": [
      "\u001b[0;31m---------------------------------------------------------------------------\u001b[0m",
      "\u001b[0;31mNameError\u001b[0m                                 Traceback (most recent call last)",
      "\u001b[0;32m<ipython-input-45-5837f82e1c70>\u001b[0m in \u001b[0;36m<module>\u001b[0;34m()\u001b[0m\n\u001b[1;32m      1\u001b[0m \u001b[0midx\u001b[0m \u001b[0;34m=\u001b[0m \u001b[0;36m540\u001b[0m\u001b[0;34m\u001b[0m\u001b[0m\n\u001b[0;32m----> 2\u001b[0;31m \u001b[0;32mprint\u001b[0m \u001b[0mall_words\u001b[0m\u001b[0;34m[\u001b[0m\u001b[0midx\u001b[0m\u001b[0;34m]\u001b[0m\u001b[0;34m,\u001b[0m \u001b[0mall_past_words\u001b[0m\u001b[0;34m[\u001b[0m\u001b[0midx\u001b[0m\u001b[0;34m]\u001b[0m\u001b[0;34m\u001b[0m\u001b[0m\n\u001b[0m\u001b[1;32m      3\u001b[0m \u001b[0mnp\u001b[0m\u001b[0;34m.\u001b[0m\u001b[0mdot\u001b[0m\u001b[0;34m(\u001b[0m\u001b[0mtotal_vec\u001b[0m \u001b[0;34m*\u001b[0m \u001b[0mall_encoded\u001b[0m\u001b[0;34m[\u001b[0m\u001b[0midx\u001b[0m\u001b[0;34m]\u001b[0m\u001b[0;34m[\u001b[0m\u001b[0;36m0\u001b[0m\u001b[0;34m]\u001b[0m\u001b[0;34m,\u001b[0m \u001b[0mall_encoded\u001b[0m\u001b[0;34m[\u001b[0m\u001b[0midx\u001b[0m\u001b[0;34m]\u001b[0m\u001b[0;34m[\u001b[0m\u001b[0;36m1\u001b[0m\u001b[0;34m]\u001b[0m\u001b[0;34m)\u001b[0m\u001b[0;34m\u001b[0m\u001b[0m\n",
      "\u001b[0;31mNameError\u001b[0m: name 'all_words' is not defined"
     ]
    }
   ],
   "source": [
    "idx = 540\n",
    "print all_words[idx], all_past_words[idx]\n",
    "np.dot(total_vec * all_encoded[idx][0], all_encoded[idx][1])"
   ]
  },
  {
   "cell_type": "code",
   "execution_count": 46,
   "metadata": {
    "collapsed": false
   },
   "outputs": [
    {
     "ename": "NameError",
     "evalue": "name 'irreg_words' is not defined",
     "output_type": "error",
     "traceback": [
      "\u001b[0;31m---------------------------------------------------------------------------\u001b[0m",
      "\u001b[0;31mNameError\u001b[0m                                 Traceback (most recent call last)",
      "\u001b[0;32m<ipython-input-46-6cac73e88f54>\u001b[0m in \u001b[0;36m<module>\u001b[0;34m()\u001b[0m\n\u001b[0;32m----> 1\u001b[0;31m \u001b[0;32mprint\u001b[0m \u001b[0mzip\u001b[0m\u001b[0;34m(\u001b[0m\u001b[0mirreg_words\u001b[0m\u001b[0;34m,\u001b[0m \u001b[0mirreg_past_tense\u001b[0m\u001b[0;34m)\u001b[0m\u001b[0;34m\u001b[0m\u001b[0m\n\u001b[0m",
      "\u001b[0;31mNameError\u001b[0m: name 'irreg_words' is not defined"
     ]
    }
   ],
   "source": [
    "print zip(irreg_words, irreg_past_tense)"
   ]
  },
  {
   "cell_type": "code",
   "execution_count": 47,
   "metadata": {
    "collapsed": false
   },
   "outputs": [
    {
     "ename": "NameError",
     "evalue": "name 'irreg_past_tense' is not defined",
     "output_type": "error",
     "traceback": [
      "\u001b[0;31m---------------------------------------------------------------------------\u001b[0m",
      "\u001b[0;31mNameError\u001b[0m                                 Traceback (most recent call last)",
      "\u001b[0;32m<ipython-input-47-960025276898>\u001b[0m in \u001b[0;36m<module>\u001b[0;34m()\u001b[0m\n\u001b[0;32m----> 1\u001b[0;31m \u001b[0;32mprint\u001b[0m \u001b[0mirreg_past_tense\u001b[0m\u001b[0;34m\u001b[0m\u001b[0m\n\u001b[0m",
      "\u001b[0;31mNameError\u001b[0m: name 'irreg_past_tense' is not defined"
     ]
    }
   ],
   "source": [
    "print irreg_past_tense"
   ]
  },
  {
   "cell_type": "code",
   "execution_count": 48,
   "metadata": {
    "collapsed": false
   },
   "outputs": [
    {
     "ename": "NameError",
     "evalue": "name 'test_irreg_words' is not defined",
     "output_type": "error",
     "traceback": [
      "\u001b[0;31m---------------------------------------------------------------------------\u001b[0m",
      "\u001b[0;31mNameError\u001b[0m                                 Traceback (most recent call last)",
      "\u001b[0;32m<ipython-input-48-224d38bffac6>\u001b[0m in \u001b[0;36m<module>\u001b[0;34m()\u001b[0m\n\u001b[0;32m----> 1\u001b[0;31m \u001b[0;32mprint\u001b[0m \u001b[0mtest_irreg_words\u001b[0m\u001b[0;34m\u001b[0m\u001b[0m\n\u001b[0m",
      "\u001b[0;31mNameError\u001b[0m: name 'test_irreg_words' is not defined"
     ]
    }
   ],
   "source": [
    "print test_irreg_words"
   ]
  },
  {
   "cell_type": "code",
   "execution_count": 49,
   "metadata": {
    "collapsed": false
   },
   "outputs": [
    {
     "ename": "NameError",
     "evalue": "name 'test_irreg_past_tense' is not defined",
     "output_type": "error",
     "traceback": [
      "\u001b[0;31m---------------------------------------------------------------------------\u001b[0m",
      "\u001b[0;31mNameError\u001b[0m                                 Traceback (most recent call last)",
      "\u001b[0;32m<ipython-input-49-46e4fab78662>\u001b[0m in \u001b[0;36m<module>\u001b[0;34m()\u001b[0m\n\u001b[0;32m----> 1\u001b[0;31m \u001b[0;32mprint\u001b[0m \u001b[0mtest_irreg_past_tense\u001b[0m\u001b[0;34m\u001b[0m\u001b[0m\n\u001b[0m",
      "\u001b[0;31mNameError\u001b[0m: name 'test_irreg_past_tense' is not defined"
     ]
    }
   ],
   "source": [
    "print test_irreg_past_tense"
   ]
  },
  {
   "cell_type": "code",
   "execution_count": 50,
   "metadata": {
    "collapsed": false
   },
   "outputs": [
    {
     "ename": "NameError",
     "evalue": "name 'irreg_words' is not defined",
     "output_type": "error",
     "traceback": [
      "\u001b[0;31m---------------------------------------------------------------------------\u001b[0m",
      "\u001b[0;31mNameError\u001b[0m                                 Traceback (most recent call last)",
      "\u001b[0;32m<ipython-input-50-9c6a34d51106>\u001b[0m in \u001b[0;36m<module>\u001b[0;34m()\u001b[0m\n\u001b[1;32m      1\u001b[0m \u001b[0midx\u001b[0m \u001b[0;34m=\u001b[0m \u001b[0;36m49\u001b[0m\u001b[0;34m\u001b[0m\u001b[0m\n\u001b[1;32m      2\u001b[0m \u001b[0;34m\u001b[0m\u001b[0m\n\u001b[0;32m----> 3\u001b[0;31m \u001b[0;32mprint\u001b[0m \u001b[0mirreg_words\u001b[0m\u001b[0;34m[\u001b[0m\u001b[0midx\u001b[0m\u001b[0;34m]\u001b[0m\u001b[0;34m,\u001b[0m \u001b[0mirreg_past_tense\u001b[0m\u001b[0;34m[\u001b[0m\u001b[0midx\u001b[0m\u001b[0;34m]\u001b[0m\u001b[0;34m\u001b[0m\u001b[0m\n\u001b[0m\u001b[1;32m      4\u001b[0m \u001b[0mnp\u001b[0m\u001b[0;34m.\u001b[0m\u001b[0mdot\u001b[0m\u001b[0;34m(\u001b[0m\u001b[0mtotal_vec\u001b[0m \u001b[0;34m*\u001b[0m \u001b[0mirreg_encoded\u001b[0m\u001b[0;34m[\u001b[0m\u001b[0midx\u001b[0m\u001b[0;34m]\u001b[0m\u001b[0;34m[\u001b[0m\u001b[0;36m0\u001b[0m\u001b[0;34m]\u001b[0m\u001b[0;34m,\u001b[0m \u001b[0mirreg_encoded\u001b[0m\u001b[0;34m[\u001b[0m\u001b[0midx\u001b[0m\u001b[0;34m]\u001b[0m\u001b[0;34m[\u001b[0m\u001b[0;36m1\u001b[0m\u001b[0;34m]\u001b[0m\u001b[0;34m)\u001b[0m\u001b[0;34m\u001b[0m\u001b[0m\n",
      "\u001b[0;31mNameError\u001b[0m: name 'irreg_words' is not defined"
     ]
    }
   ],
   "source": [
    "idx = 49\n",
    "\n",
    "print irreg_words[idx], irreg_past_tense[idx]\n",
    "np.dot(total_vec * irreg_encoded[idx][0], irreg_encoded[idx][1])"
   ]
  },
  {
   "cell_type": "code",
   "execution_count": 51,
   "metadata": {
    "collapsed": false
   },
   "outputs": [
    {
     "ename": "NameError",
     "evalue": "name 'test_irreg_words' is not defined",
     "output_type": "error",
     "traceback": [
      "\u001b[0;31m---------------------------------------------------------------------------\u001b[0m",
      "\u001b[0;31mNameError\u001b[0m                                 Traceback (most recent call last)",
      "\u001b[0;32m<ipython-input-51-a62fb723c107>\u001b[0m in \u001b[0;36m<module>\u001b[0;34m()\u001b[0m\n\u001b[0;32m----> 1\u001b[0;31m \u001b[0;32mfor\u001b[0m \u001b[0midx\u001b[0m \u001b[0;32min\u001b[0m \u001b[0mrange\u001b[0m\u001b[0;34m(\u001b[0m\u001b[0mlen\u001b[0m\u001b[0;34m(\u001b[0m\u001b[0mtest_irreg_words\u001b[0m\u001b[0;34m)\u001b[0m\u001b[0;34m)\u001b[0m\u001b[0;34m:\u001b[0m\u001b[0;34m\u001b[0m\u001b[0m\n\u001b[0m\u001b[1;32m      2\u001b[0m     \u001b[0;32mprint\u001b[0m \u001b[0mtest_irreg_words\u001b[0m\u001b[0;34m[\u001b[0m\u001b[0midx\u001b[0m\u001b[0;34m]\u001b[0m\u001b[0;34m,\u001b[0m \u001b[0mtest_irreg_past_tense\u001b[0m\u001b[0;34m[\u001b[0m\u001b[0midx\u001b[0m\u001b[0;34m]\u001b[0m\u001b[0;34m,\u001b[0m \u001b[0mnp\u001b[0m\u001b[0;34m.\u001b[0m\u001b[0mdot\u001b[0m\u001b[0;34m(\u001b[0m\u001b[0mtotal_vec\u001b[0m \u001b[0;34m*\u001b[0m \u001b[0mtest_irreg_encoded\u001b[0m\u001b[0;34m[\u001b[0m\u001b[0midx\u001b[0m\u001b[0;34m]\u001b[0m\u001b[0;34m[\u001b[0m\u001b[0;36m0\u001b[0m\u001b[0;34m]\u001b[0m\u001b[0;34m,\u001b[0m \u001b[0mtest_irreg_encoded\u001b[0m\u001b[0;34m[\u001b[0m\u001b[0midx\u001b[0m\u001b[0;34m]\u001b[0m\u001b[0;34m[\u001b[0m\u001b[0;36m1\u001b[0m\u001b[0;34m]\u001b[0m\u001b[0;34m)\u001b[0m\u001b[0;34m\u001b[0m\u001b[0m\n",
      "\u001b[0;31mNameError\u001b[0m: name 'test_irreg_words' is not defined"
     ]
    }
   ],
   "source": [
    "for idx in range(len(test_irreg_words)):\n",
    "    print test_irreg_words[idx], test_irreg_past_tense[idx], np.dot(total_vec * test_irreg_encoded[idx][0], test_irreg_encoded[idx][1])"
   ]
  },
  {
   "cell_type": "code",
   "execution_count": 52,
   "metadata": {
    "collapsed": false,
    "scrolled": true
   },
   "outputs": [
    {
     "ename": "NameError",
     "evalue": "name 'test_irreg_words' is not defined",
     "output_type": "error",
     "traceback": [
      "\u001b[0;31m---------------------------------------------------------------------------\u001b[0m",
      "\u001b[0;31mNameError\u001b[0m                                 Traceback (most recent call last)",
      "\u001b[0;32m<ipython-input-52-967da3cc935c>\u001b[0m in \u001b[0;36m<module>\u001b[0;34m()\u001b[0m\n\u001b[1;32m      1\u001b[0m \u001b[0midx\u001b[0m \u001b[0;34m=\u001b[0m \u001b[0;36m16\u001b[0m\u001b[0;34m\u001b[0m\u001b[0m\n\u001b[0;32m----> 2\u001b[0;31m \u001b[0;32mprint\u001b[0m \u001b[0mtest_irreg_words\u001b[0m\u001b[0;34m[\u001b[0m\u001b[0midx\u001b[0m\u001b[0;34m]\u001b[0m\u001b[0;34m,\u001b[0m \u001b[0mtest_irreg_past_tense\u001b[0m\u001b[0;34m[\u001b[0m\u001b[0midx\u001b[0m\u001b[0;34m]\u001b[0m\u001b[0;34m\u001b[0m\u001b[0m\n\u001b[0m\u001b[1;32m      3\u001b[0m \u001b[0;32mprint\u001b[0m \u001b[0mnp\u001b[0m\u001b[0;34m.\u001b[0m\u001b[0mdot\u001b[0m\u001b[0;34m(\u001b[0m\u001b[0mtotal_vec\u001b[0m \u001b[0;34m*\u001b[0m \u001b[0mtest_irreg_encoded\u001b[0m\u001b[0;34m[\u001b[0m\u001b[0midx\u001b[0m\u001b[0;34m]\u001b[0m\u001b[0;34m[\u001b[0m\u001b[0;36m0\u001b[0m\u001b[0;34m]\u001b[0m\u001b[0;34m,\u001b[0m \u001b[0mtest_irreg_encoded\u001b[0m\u001b[0;34m[\u001b[0m\u001b[0midx\u001b[0m\u001b[0;34m]\u001b[0m\u001b[0;34m[\u001b[0m\u001b[0;36m1\u001b[0m\u001b[0;34m]\u001b[0m\u001b[0;34m)\u001b[0m\u001b[0;34m\u001b[0m\u001b[0m\n",
      "\u001b[0;31mNameError\u001b[0m: name 'test_irreg_words' is not defined"
     ]
    }
   ],
   "source": [
    "idx = 16\n",
    "print test_irreg_words[idx], test_irreg_past_tense[idx]\n",
    "print np.dot(total_vec * test_irreg_encoded[idx][0], test_irreg_encoded[idx][1])"
   ]
  },
  {
   "cell_type": "code",
   "execution_count": 53,
   "metadata": {
    "collapsed": false,
    "scrolled": true
   },
   "outputs": [
    {
     "ename": "NameError",
     "evalue": "name 'test_irreg_words' is not defined",
     "output_type": "error",
     "traceback": [
      "\u001b[0;31m---------------------------------------------------------------------------\u001b[0m",
      "\u001b[0;31mNameError\u001b[0m                                 Traceback (most recent call last)",
      "\u001b[0;32m<ipython-input-53-89bfae390fea>\u001b[0m in \u001b[0;36m<module>\u001b[0;34m()\u001b[0m\n\u001b[1;32m      1\u001b[0m \u001b[0midx\u001b[0m \u001b[0;34m=\u001b[0m \u001b[0;36m2\u001b[0m\u001b[0;34m\u001b[0m\u001b[0m\n\u001b[1;32m      2\u001b[0m \u001b[0;34m\u001b[0m\u001b[0m\n\u001b[0;32m----> 3\u001b[0;31m \u001b[0;32mprint\u001b[0m \u001b[0mtest_irreg_words\u001b[0m\u001b[0;34m[\u001b[0m\u001b[0midx\u001b[0m\u001b[0;34m]\u001b[0m\u001b[0;34m,\u001b[0m \u001b[0mtest_irreg_past_tense\u001b[0m\u001b[0;34m[\u001b[0m\u001b[0midx\u001b[0m\u001b[0;34m]\u001b[0m\u001b[0;34m\u001b[0m\u001b[0m\n\u001b[0m\u001b[1;32m      4\u001b[0m \u001b[0;34m\u001b[0m\u001b[0m\n\u001b[1;32m      5\u001b[0m \u001b[0mnp\u001b[0m\u001b[0;34m.\u001b[0m\u001b[0mdot\u001b[0m\u001b[0;34m(\u001b[0m\u001b[0mtotal_vec\u001b[0m \u001b[0;34m*\u001b[0m \u001b[0mtest_irreg_encoded\u001b[0m\u001b[0;34m[\u001b[0m\u001b[0midx\u001b[0m\u001b[0;34m]\u001b[0m\u001b[0;34m[\u001b[0m\u001b[0;36m0\u001b[0m\u001b[0;34m]\u001b[0m\u001b[0;34m,\u001b[0m \u001b[0mtest_irreg_encoded\u001b[0m\u001b[0;34m[\u001b[0m\u001b[0midx\u001b[0m\u001b[0;34m]\u001b[0m\u001b[0;34m[\u001b[0m\u001b[0;36m1\u001b[0m\u001b[0;34m]\u001b[0m\u001b[0;34m)\u001b[0m\u001b[0;34m\u001b[0m\u001b[0m\n",
      "\u001b[0;31mNameError\u001b[0m: name 'test_irreg_words' is not defined"
     ]
    }
   ],
   "source": [
    "idx = 2\n",
    "\n",
    "print test_irreg_words[idx], test_irreg_past_tense[idx]\n",
    "\n",
    "np.dot(total_vec * test_irreg_encoded[idx][0], test_irreg_encoded[idx][1])"
   ]
  },
  {
   "cell_type": "code",
   "execution_count": 54,
   "metadata": {
    "collapsed": false
   },
   "outputs": [
    {
     "ename": "NameError",
     "evalue": "name 'total_vec' is not defined",
     "output_type": "error",
     "traceback": [
      "\u001b[0;31m---------------------------------------------------------------------------\u001b[0m",
      "\u001b[0;31mNameError\u001b[0m                                 Traceback (most recent call last)",
      "\u001b[0;32m<ipython-input-54-aa43fa91e201>\u001b[0m in \u001b[0;36m<module>\u001b[0;34m()\u001b[0m\n\u001b[0;32m----> 1\u001b[0;31m \u001b[0mbound_vec\u001b[0m \u001b[0;34m=\u001b[0m \u001b[0mtotal_vec\u001b[0m \u001b[0;34m*\u001b[0m \u001b[0mall_encoded\u001b[0m\u001b[0;34m[\u001b[0m\u001b[0midx\u001b[0m\u001b[0;34m]\u001b[0m\u001b[0;34m[\u001b[0m\u001b[0;36m0\u001b[0m\u001b[0;34m]\u001b[0m\u001b[0;34m\u001b[0m\u001b[0m\n\u001b[0m",
      "\u001b[0;31mNameError\u001b[0m: name 'total_vec' is not defined"
     ]
    }
   ],
   "source": [
    "bound_vec = total_vec * all_encoded[idx][0]\n"
   ]
  },
  {
   "cell_type": "code",
   "execution_count": 55,
   "metadata": {
    "collapsed": false
   },
   "outputs": [
    {
     "ename": "NameError",
     "evalue": "name 'total_vec' is not defined",
     "output_type": "error",
     "traceback": [
      "\u001b[0;31m---------------------------------------------------------------------------\u001b[0m",
      "\u001b[0;31mNameError\u001b[0m                                 Traceback (most recent call last)",
      "\u001b[0;32m<ipython-input-55-562a24176551>\u001b[0m in \u001b[0;36m<module>\u001b[0;34m()\u001b[0m\n\u001b[0;32m----> 1\u001b[0;31m \u001b[0mbound_vec\u001b[0m \u001b[0;34m=\u001b[0m \u001b[0mtotal_vec\u001b[0m \u001b[0;34m*\u001b[0m \u001b[0mirreg_encoded\u001b[0m\u001b[0;34m[\u001b[0m\u001b[0midx\u001b[0m\u001b[0;34m]\u001b[0m\u001b[0;34m[\u001b[0m\u001b[0;36m0\u001b[0m\u001b[0;34m]\u001b[0m\u001b[0;34m\u001b[0m\u001b[0m\n\u001b[0m\u001b[1;32m      2\u001b[0m \u001b[0mall_words\u001b[0m \u001b[0;34m=\u001b[0m \u001b[0mirreg_words\u001b[0m\u001b[0;34m\u001b[0m\u001b[0m\n",
      "\u001b[0;31mNameError\u001b[0m: name 'total_vec' is not defined"
     ]
    }
   ],
   "source": [
    "bound_vec = total_vec * irreg_encoded[idx][0]\n",
    "all_words = irreg_words"
   ]
  },
  {
   "cell_type": "code",
   "execution_count": 56,
   "metadata": {
    "collapsed": false
   },
   "outputs": [
    {
     "ename": "NameError",
     "evalue": "name 'total_vec' is not defined",
     "output_type": "error",
     "traceback": [
      "\u001b[0;31m---------------------------------------------------------------------------\u001b[0m",
      "\u001b[0;31mNameError\u001b[0m                                 Traceback (most recent call last)",
      "\u001b[0;32m<ipython-input-56-50f0ce9b0655>\u001b[0m in \u001b[0;36m<module>\u001b[0;34m()\u001b[0m\n\u001b[0;32m----> 1\u001b[0;31m \u001b[0mbound_vec\u001b[0m \u001b[0;34m=\u001b[0m \u001b[0mtotal_vec\u001b[0m \u001b[0;34m*\u001b[0m \u001b[0mtest_irreg_encoded\u001b[0m\u001b[0;34m[\u001b[0m\u001b[0midx\u001b[0m\u001b[0;34m]\u001b[0m\u001b[0;34m[\u001b[0m\u001b[0;36m0\u001b[0m\u001b[0;34m]\u001b[0m\u001b[0;34m\u001b[0m\u001b[0m\n\u001b[0m\u001b[1;32m      2\u001b[0m \u001b[0mall_words\u001b[0m \u001b[0;34m=\u001b[0m \u001b[0mtest_irreg_words\u001b[0m\u001b[0;34m\u001b[0m\u001b[0m\n",
      "\u001b[0;31mNameError\u001b[0m: name 'total_vec' is not defined"
     ]
    }
   ],
   "source": [
    "bound_vec = total_vec * test_irreg_encoded[idx][0]\n",
    "all_words = test_irreg_words"
   ]
  },
  {
   "cell_type": "code",
   "execution_count": 57,
   "metadata": {
    "collapsed": false
   },
   "outputs": [
    {
     "ename": "NameError",
     "evalue": "name 'RI_past' is not defined",
     "output_type": "error",
     "traceback": [
      "\u001b[0;31m---------------------------------------------------------------------------\u001b[0m",
      "\u001b[0;31mNameError\u001b[0m                                 Traceback (most recent call last)",
      "\u001b[0;32m<ipython-input-57-4180dc5d758d>\u001b[0m in \u001b[0;36m<module>\u001b[0;34m()\u001b[0m\n\u001b[0;32m----> 1\u001b[0;31m \u001b[0mletter_vecs\u001b[0m \u001b[0;34m=\u001b[0m \u001b[0mRI_past\u001b[0m\u001b[0;34m\u001b[0m\u001b[0m\n\u001b[0m\u001b[1;32m      2\u001b[0m \u001b[0;31m#letter_vecs = 2 * (np.random.randn(D, N) < 0) - 1\u001b[0m\u001b[0;34m\u001b[0m\u001b[0;34m\u001b[0m\u001b[0m\n\u001b[1;32m      3\u001b[0m \u001b[0;34m\u001b[0m\u001b[0m\n\u001b[1;32m      4\u001b[0m \u001b[0;34m\u001b[0m\u001b[0m\n\u001b[1;32m      5\u001b[0m \u001b[0;31m#ngram_str = 'powers'\u001b[0m\u001b[0;34m\u001b[0m\u001b[0;34m\u001b[0m\u001b[0m\n",
      "\u001b[0;31mNameError\u001b[0m: name 'RI_past' is not defined"
     ]
    }
   ],
   "source": [
    "letter_vecs = RI_past\n",
    "#letter_vecs = 2 * (np.random.randn(D, N) < 0) - 1\n",
    "\n",
    "\n",
    "#ngram_str = 'powers'\n",
    "#bound_vec = ngram_encode(ngram_str, letter_vecs, alph)\n",
    "#bound_vec = ngram_encode_cl(ngram_str, letter_vecs, alph)\n",
    "\n",
    "# initializing the states as random works just as well as the intention, which\n",
    "# is to initialize as the superposition of all D states.\n",
    "l0_state = np.random.randn(N)\n",
    "l1_state = np.random.randn(N)\n",
    "l2_state = np.random.randn(N)\n",
    "l3_state = np.random.randn(N)\n",
    "l4_state = np.random.randn(N)\n",
    "l5_state = np.random.randn(N)\n",
    "l6_state = np.random.randn(N)\n",
    "l7_state = np.random.randn(N)\n",
    "\n",
    "l1_state = np.dot(letter_vecs.T, np.dot(l1_state, letter_vecs.T))\n",
    "l2_state = np.dot(letter_vecs.T, np.dot(l2_state, letter_vecs.T))\n",
    "l3_state = np.dot(letter_vecs.T, np.dot(l3_state, letter_vecs.T))\n",
    "l4_state = np.dot(letter_vecs.T, np.dot(l4_state, letter_vecs.T))\n",
    "l5_state = np.dot(letter_vecs.T, np.dot(l5_state, letter_vecs.T))\n",
    "l6_state = np.dot(letter_vecs.T, np.dot(l6_state, letter_vecs.T))\n",
    "l7_state = np.dot(letter_vecs.T, np.dot(l7_state, letter_vecs.T))\n",
    "\n",
    "# the clipping non-linearity will lead to arbitrary norms, so need to keep vector normalized\n",
    "l1_state = l1_state/norm(l1_state)\n",
    "l2_state = l2_state/norm(l2_state)\n",
    "l3_state = l3_state/norm(l3_state)\n",
    "l4_state = l4_state/norm(l4_state)\n",
    "l5_state = l5_state/norm(l5_state)\n",
    "l6_state = l6_state/norm(l6_state)\n",
    "l7_state = l7_state/norm(l7_state)\n",
    "\n",
    "# we know the first letter\n",
    "l0_state = letter_vecs[alphabet.find('#'), :]\n",
    "\n",
    "\n",
    "n_steps = 50\n",
    "\n",
    "l1_coef_hist = np.zeros((n_steps, D))\n",
    "l2_coef_hist = np.zeros((n_steps, D))\n",
    "l3_coef_hist = np.zeros((n_steps, D))\n",
    "l4_coef_hist = np.zeros((n_steps, D))\n",
    "l5_coef_hist = np.zeros((n_steps, D))\n",
    "l6_coef_hist = np.zeros((n_steps, D))\n",
    "l7_coef_hist = np.zeros((n_steps, D))"
   ]
  },
  {
   "cell_type": "code",
   "execution_count": 58,
   "metadata": {
    "collapsed": false
   },
   "outputs": [],
   "source": [
    "for i in range(n_steps):\n",
    "    l1_coef_hist[i, :] = np.dot(letter_vecs, l1_state)\n",
    "    l2_coef_hist[i, :] = np.dot(letter_vecs, l2_state)\n",
    "    l3_coef_hist[i, :] = np.dot(letter_vecs, l3_state)\n",
    "    l4_coef_hist[i, :] = np.dot(letter_vecs, l4_state)\n",
    "    l5_coef_hist[i, :] = np.dot(letter_vecs, l5_state)\n",
    "    l6_coef_hist[i, :] = np.dot(letter_vecs, l6_state)\n",
    "    l7_coef_hist[i, :] = np.dot(letter_vecs, l7_state)\n",
    "\n",
    "    ## Need to make sure that the largest absolute value is always positive,\n",
    "    ## because the unbinding inference can flip 2 and be the same\n",
    "    \n",
    "    mx1idx = np.argmax(np.abs(l1_coef_hist[i,:]))\n",
    "    l1_state = l1_state * np.sign(l1_coef_hist[i, mx1idx])\n",
    "    #l1_coef_hist[i, :] *= np.sign(l1_coef_hist[i, mx1idx])\n",
    "    \n",
    "    mx2idx = np.argmax(np.abs(l2_coef_hist[i,:]))\n",
    "    l2_state = l2_state *  np.sign(l2_coef_hist[i, mx2idx])\n",
    "    #l2_coef_hist[i, :] *= np.sign(l2_coef_hist[i, mx1idx])\n",
    "    \n",
    "    mx3idx = np.argmax(np.abs(l3_coef_hist[i,:]))\n",
    "    l3_state = l3_state * np.sign(l3_coef_hist[i, mx3idx])\n",
    "    #l3_coef_hist[i, :] *= np.sign(l3_coef_hist[i, mx1idx])\n",
    "    \n",
    "    mx4idx = np.argmax(np.abs(l4_coef_hist[i,:]))\n",
    "    l4_state = l4_state * np.sign(l4_coef_hist[i, mx4idx])\n",
    "    #l4_coef_hist[i, :] *= np.sign(l4_coef_hist[i, mx1idx])\n",
    "    \n",
    "    mx5idx = np.argmax(np.abs(l5_coef_hist[i,:]))\n",
    "    l5_state = l5_state * np.sign(l5_coef_hist[i, mx5idx])\n",
    "    #l5_coef_hist[i, :] *= np.sign(l5_coef_hist[i, mx1idx])\n",
    "    \n",
    "    mx6idx = np.argmax(np.abs(l6_coef_hist[i,:]))\n",
    "    l6_state = l6_state * np.sign(l6_coef_hist[i, mx6idx])\n",
    "    #l6_coef_hist[i, :] *= np.sign(l6_coef_hist[i, mx1idx])\n",
    "    \n",
    "    mx7idx = np.argmax(np.abs(l7_coef_hist[i,:]))\n",
    "    l7_state = l7_state * np.sign(l7_coef_hist[i, mx7idx])\n",
    "    #l7_coef_hist[i, :] *= np.sign(l7_coef_hist[i, mx1idx])\n",
    "    \n",
    "    \n",
    "    l1d = (np.roll(bound_vec * l0_state * np.roll(l2_state, 2), -1) +\n",
    "          bound_vec * np.roll(l2_state, 1) * np.roll(l3_state, 2)) / 2\n",
    "\n",
    "    l2d = (np.roll(bound_vec * l0_state * np.roll(l1_state, 1), -2) +\n",
    "            np.roll(bound_vec * l1_state * np.roll(l3_state, 2), -1) +\n",
    "              bound_vec * np.roll(l3_state, 1) * np.roll(l4_state, 2)) / 3\n",
    "\n",
    "    l3d = (np.roll(bound_vec * l2_state * np.roll(l4_state, 2), -1) +\n",
    "           np.roll(bound_vec * l1_state * np.roll(l2_state, 1), -2) +\n",
    "              bound_vec * np.roll(l4_state, 1) * np.roll(l5_state, 2)) / 3\n",
    "    \n",
    "    l4d = (np.roll(bound_vec * l2_state * np.roll(l3_state, 1), -2) +\n",
    "            np.roll(bound_vec * l3_state * np.roll(l5_state, 2), -1) +\n",
    "              bound_vec * np.roll(l5_state, 1) * np.roll(l6_state, 2)) / 3\n",
    "\n",
    "    l5d = (np.roll(bound_vec * l4_state * np.roll(l6_state, 2), -1) +\n",
    "           np.roll(bound_vec * l3_state * np.roll(l4_state, 1), -2) +\n",
    "              bound_vec * np.roll(l6_state, 1) * np.roll(l7_state, 2)) / 3\n",
    "    \n",
    "    l6d = (np.roll(bound_vec * l5_state * np.roll(l7_state, 2), -1) +\n",
    "           np.roll(bound_vec * l4_state * np.roll(l5_state, 1), -2)) / 2\n",
    "    \n",
    "    l7d = (np.roll(bound_vec * l5_state * np.roll(l6_state, 1), -2))\n",
    "\n",
    "    l1_state = np.dot(letter_vecs.T, np.dot(l1d, letter_vecs.T)/N)\n",
    "    l2_state = np.dot(letter_vecs.T, np.dot(l2d, letter_vecs.T)/N)\n",
    "    l3_state = np.dot(letter_vecs.T, np.dot(l3d, letter_vecs.T)/N)\n",
    "    l4_state = np.dot(letter_vecs.T, np.dot(l4d, letter_vecs.T)/N)\n",
    "    l5_state = np.dot(letter_vecs.T, np.dot(l5d, letter_vecs.T)/N)\n",
    "    l6_state = np.dot(letter_vecs.T, np.dot(l6d, letter_vecs.T)/N)\n",
    "    l7_state = np.dot(letter_vecs.T, np.dot(l7d, letter_vecs.T)/N)\n",
    "\n",
    "\n",
    "    l1_state = l1_state/norm(l1_state)\n",
    "    l2_state = l2_state/norm(l2_state)\n",
    "    l3_state = l3_state/norm(l3_state)\n",
    "    l4_state = l4_state/norm(l4_state)\n",
    "    l5_state = l5_state/norm(l5_state)\n",
    "    l6_state = l6_state/norm(l6_state)\n",
    "    l7_state = l7_state/norm(l7_state)\n",
    "\n"
   ]
  },
  {
   "cell_type": "code",
   "execution_count": 59,
   "metadata": {
    "collapsed": false
   },
   "outputs": [
    {
     "name": "stdout",
     "output_type": "stream",
     "text": [
      "needede\n"
     ]
    },
    {
     "ename": "NameError",
     "evalue": "name 'all_words' is not defined",
     "output_type": "error",
     "traceback": [
      "\u001b[0;31m---------------------------------------------------------------------------\u001b[0m",
      "\u001b[0;31mNameError\u001b[0m                                 Traceback (most recent call last)",
      "\u001b[0;32m<ipython-input-59-afaec1563f6c>\u001b[0m in \u001b[0;36m<module>\u001b[0;34m()\u001b[0m\n\u001b[1;32m     58\u001b[0m \u001b[0mtitle\u001b[0m\u001b[0;34m(\u001b[0m\u001b[0mresult\u001b[0m\u001b[0;34m)\u001b[0m\u001b[0;34m\u001b[0m\u001b[0m\n\u001b[1;32m     59\u001b[0m \u001b[0;34m\u001b[0m\u001b[0m\n\u001b[0;32m---> 60\u001b[0;31m \u001b[0mfname\u001b[0m \u001b[0;34m=\u001b[0m \u001b[0;34m'encoding_resonance_170314-res_example-all-'\u001b[0m \u001b[0;34m+\u001b[0m \u001b[0mall_words\u001b[0m\u001b[0;34m[\u001b[0m\u001b[0midx\u001b[0m\u001b[0;34m]\u001b[0m \u001b[0;34m+\u001b[0m \u001b[0;34m'-N='\u001b[0m  \u001b[0;34m+\u001b[0m \u001b[0mstr\u001b[0m\u001b[0;34m(\u001b[0m\u001b[0mN\u001b[0m\u001b[0;34m)\u001b[0m \u001b[0;34m+\u001b[0m \u001b[0;34m'-M='\u001b[0m \u001b[0;34m+\u001b[0m \u001b[0mstr\u001b[0m\u001b[0;34m(\u001b[0m\u001b[0mM\u001b[0m\u001b[0;34m)\u001b[0m \u001b[0;34m+\u001b[0m \u001b[0;34m'-n'\u001b[0m \u001b[0;34m+\u001b[0m \u001b[0mtime\u001b[0m\u001b[0;34m.\u001b[0m\u001b[0mstrftime\u001b[0m\u001b[0;34m(\u001b[0m\u001b[0;34m'%y%m%d'\u001b[0m\u001b[0;34m)\u001b[0m\u001b[0;34m\u001b[0m\u001b[0m\n\u001b[0m\u001b[1;32m     61\u001b[0m \u001b[0;32mprint\u001b[0m \u001b[0mfname\u001b[0m\u001b[0;34m\u001b[0m\u001b[0m\n\u001b[1;32m     62\u001b[0m \u001b[0;34m\u001b[0m\u001b[0m\n",
      "\u001b[0;31mNameError\u001b[0m: name 'all_words' is not defined"
     ]
    },
    {
     "data": {
      "image/png": "[encoded data removed]",
      "text/plain": [
       "<matplotlib.figure.Figure at 0x110d96f50>"
      ]
     },
     "metadata": {},
     "output_type": "display_data"
    }
   ],
   "source": [
    "figure(figsize=(16,3))\n",
    "cols = get_cmap('copper', n_steps)\n",
    "xv = arange(0, len(alph), 3)\n",
    "alph = np.array(list(alphabet))\n",
    "\n",
    "lv = alph[xv]\n",
    "\n",
    "for i in range(n_steps):\n",
    "    ax=subplot(171)\n",
    "    plot(-l1_coef_hist[i,:], lw=3, c=cols(i))\n",
    "    ax.set_xticks(xv)\n",
    "    ax.set_xticklabels(lv)\n",
    "    \n",
    "    ax=subplot(172)\n",
    "    plot(-l2_coef_hist[i,:], lw=3, c=cols(i))\n",
    "    ax.set_xticks(xv)\n",
    "    ax.set_xticklabels(lv)\n",
    "\n",
    "    ax=subplot(173)\n",
    "    plot(-l3_coef_hist[i,:], lw=3, c=cols(i))\n",
    "    ax.set_xticks(xv)\n",
    "    ax.set_xticklabels(lv)\n",
    "    \n",
    "    ax=subplot(174)\n",
    "    plot(-l4_coef_hist[i,:], lw=3, c=cols(i))\n",
    "    ax.set_xticks(xv)\n",
    "    ax.set_xticklabels(lv)\n",
    "\n",
    "    ax=subplot(175)\n",
    "    plot(-l5_coef_hist[i,:], lw=3, c=cols(i))\n",
    "    ax.set_xticks(xv)\n",
    "    ax.set_xticklabels(lv)\n",
    "    \n",
    "    ax=subplot(176)\n",
    "    plot(-l6_coef_hist[i,:], lw=3, c=cols(i))\n",
    "    ax.set_xticks(xv)\n",
    "    ax.set_xticklabels(lv)\n",
    "\n",
    "    ax=subplot(177)\n",
    "    plot(-l7_coef_hist[i,:], lw=3, c=cols(i))\n",
    "    ax.set_xticks(xv)\n",
    "    ax.set_xticklabels(lv)\n",
    "    \n",
    "    \n",
    "    \n",
    "l1 = alph[np.argmax(np.abs(l1_coef_hist[-1,:]))]\n",
    "l2 = alph[np.argmax(np.abs(l2_coef_hist[-1,:]))]\n",
    "l3 = alph[np.argmax(np.abs(l3_coef_hist[-1,:]))]\n",
    "l4 = alph[np.argmax(np.abs(l4_coef_hist[-1,:]))]\n",
    "l5 = alph[np.argmax(np.abs(l5_coef_hist[-1,:]))]\n",
    "l6 = alph[np.argmax(np.abs(l6_coef_hist[-1,:]))]\n",
    "l7 = alph[np.argmax(np.abs(l7_coef_hist[-1,:]))]\n",
    "\n",
    "result = l1+l2+l3+l4+l5+l6+l7\n",
    "print result\n",
    "\n",
    "subplot(174)\n",
    "title(result)\n",
    "\n",
    "fname = 'encoding_resonance_170314-res_example-all-' + all_words[idx] + '-N='  + str(N) + '-M=' + str(M) + '-n' + time.strftime('%y%m%d')\n",
    "print fname\n",
    "\n",
    "savefig(fname + '.eps', format='eps', transparent=True)\n",
    "savefig(fname + '.png', format='png', transparent=True)\n"
   ]
  },
  {
   "cell_type": "code",
   "execution_count": null,
   "metadata": {
    "collapsed": true
   },
   "outputs": [],
   "source": []
  }
 ],
 "metadata": {
  "kernelspec": {
   "display_name": "Python 2",
   "language": "python",
   "name": "python2"
  },
  "language_info": {
   "codemirror_mode": {
    "name": "ipython",
    "version": 2
   },
   "file_extension": ".py",
   "mimetype": "text/x-python",
   "name": "python",
   "nbconvert_exporter": "python",
   "pygments_lexer": "ipython2",
   "version": "2.7.11"
  }
 },
 "nbformat": 4,
 "nbformat_minor": 0
}
