{
 "cells": [
  {
   "cell_type": "code",
   "execution_count": 72,
   "metadata": {},
   "outputs": [],
   "source": [
    "import os\n",
    "import csv\n",
    "import numpy as np\n",
    "import utils\n",
    "import hrr_utils\n",
    "import RM_utils\n",
    "import res_utils as ru\n",
    "import Regression_utils as r_utils\n",
    "import time\n",
    "import random\n",
    "import scipy\n",
    "import sklearn\n",
    "\n",
    "from scipy import spatial\n",
    "from scipy.spatial import distance\n",
    "from sklearn import linear_model\n",
    "from sklearn.kernel_ridge import KernelRidge\n",
    "from sklearn.linear_model import SGDRegressor\n",
    "from matplotlib import pyplot as plt\n",
    "from matplotlib.collections import LineCollection\n",
    "%matplotlib inline\n",
    "\n",
    "cwd = os.getcwd()\n",
    "\n",
    "alph = 'abcdefghijklmnopqrstuvwxyz#.'\n",
    "N=2000\n",
    "D = len(alph)\n",
    "dic1 = letter_vecs = 2 * (np.random.randn(D, N) < 0) - 1\n",
    "dic2 = letter_vecs = 2 * (np.random.randn(D, N) < 0) - 1\n"
   ]
  },
  {
   "cell_type": "code",
   "execution_count": 73,
   "metadata": {
    "collapsed": true
   },
   "outputs": [],
   "source": [
    "def shuffle(arr):\n",
    "    indices = [i for i in range(len(arr))]\n",
    "    random.shuffle(indices)\n",
    "    newarr = [arr[i] for i in indices]\n",
    "    return newarr\n",
    "    \n",
    "reg_pres, reg_past, reg_freq = utils.GetRegularVerbs(frequency=1)\n",
    "irreg_pres, irreg_past, irreg_freq = utils.GetIrregularVerbs(frequency=1)\n",
    "\n",
    "regular = zip(reg_pres, reg_past, reg_freq)\n",
    "irregular = zip(irreg_pres, irreg_past, irreg_freq)\n",
    "\n",
    "train_frac = 2/3.0\n",
    "\n",
    "irregular_train_idx = int(train_frac*len(irreg_pres))\n",
    "train_irreg = shuffle(irregular[0:irregular_train_idx])\n",
    "\n",
    "regular_train_idx = 1700 - len(train_irreg) \n",
    "train_reg = shuffle(regular[0:regular_train_idx])\n",
    "\n",
    "test_reg = shuffle(regular[regular_train_idx:])\n",
    "test_irreg = shuffle(irregular[irregular_train_idx:])\n",
    "\n",
    "train_all = shuffle(train_reg + train_irreg)\n",
    "test_all = shuffle(test_reg + test_irreg)\n"
   ]
  },
  {
   "cell_type": "code",
   "execution_count": 74,
   "metadata": {
    "collapsed": true
   },
   "outputs": [],
   "source": [
    "trainX, trainpres1, trainpres2, trainpast1, trainpast2 = RM_utils.genX(train_all, N, dic1, dic2, alph)\n",
    "testX, testpres1, testpres2, testpast1, testpast2 = RM_utils.genX(test_all, N, dic1, dic2, alph)\n",
    "\n",
    "regtrainX, regtrainpres1, regtrainpres2, regtrainpast1, regtrainpast2 = RM_utils.genX(train_reg, N, dic1, dic2, alph)\n",
    "regtestX, regtestpres1, regtestpres2, regtestpast1, regtestpast2 = RM_utils.genX(test_reg, N, dic1, dic2, alph)\n",
    "\n",
    "irregtrainX, irregtrainpres1, irregtrainpres2, irregtrainpast1, irregtrainpast2 = RM_utils.genX(train_irreg, N, dic1, dic2, alph)\n",
    "irregtestX, irregtestpres1, irregtestpres2, irregtestpast1, irregtestpast2 = RM_utils.genX(test_irreg, N, dic1, dic2, alph)"
   ]
  },
  {
   "cell_type": "code",
   "execution_count": 143,
   "metadata": {},
   "outputs": [
    {
     "name": "stdout",
     "output_type": "stream",
     "text": [
      "[('sail', 'sailed', 6), ('wish', 'wished', 87)]\n",
      "[-1.  1.]\n"
     ]
    }
   ],
   "source": [
    "num_words = 2\n",
    "m = np.zeros(N)\n",
    "\n",
    "for i in range(num_words):\n",
    "    bound_vec = trainpres1[i] * np.multiply(trainpres1[i], trainpast2[i]-trainpres2[i]) + trainpres2[i]\n",
    "print train_all[:num_words]\n",
    "print np.unique(bound_vec)"
   ]
  },
  {
   "cell_type": "code",
   "execution_count": 144,
   "metadata": {},
   "outputs": [],
   "source": [
    "def state_setup(state_length, letter_vecs, N, D, n_steps):\n",
    "    states = []\n",
    "    coef_hists = []\n",
    "    \n",
    "    for i in range(state_length):\n",
    "        states.append(np.random.randn(N))\n",
    "    \n",
    "    for i in range(1, state_length-1):\n",
    "        states[i] = np.dot(letter_vecs.T, np.dot(states[i], letter_vecs.T))\n",
    "\n",
    "    for i in range(1, state_length-1):\n",
    "        states[i] = states[i]/np.linalg.norm(states[i])\n",
    "\n",
    "    states[0] = letter_vecs[alph.find('#'), :]\n",
    "    states[state_length-1] = letter_vecs[alph.find('.'), :]\n",
    "    \n",
    "    for i in range(1, state_length-1):\n",
    "        coef_hists.append(np.zeros((n_steps, D)))\n",
    "        \n",
    "    return states, coef_hists\n",
    "\n",
    "def res_decode(bound_vec, vecs=dic2, max_steps=500, state_length=10):\n",
    "    states, hists = state_setup(state_length, vecs, N, D, max_steps)\n",
    "    th_vec = bound_vec.copy()\n",
    "\n",
    "    for i in range(max_steps):       \n",
    "        all_converged = np.zeros(len(vecs))\n",
    "        \n",
    "        for j in range(1, state_length-1):\n",
    "            hists[j-1][i, :] = np.dot(vecs, states[j])\n",
    "            if i > 1:\n",
    "                all_converged[j-1] = np.allclose(hists[j-1][i,:], hists[j-1][i-1, :],\n",
    "                                                atol=5, rtol=5)\n",
    "                \n",
    "            if j == 1:\n",
    "                ljd = (np.roll(th_vec * states[0] * np.roll(states[j+1], 2), -1) +\n",
    "                  th_vec * np.roll(states[j+1], 1) * np.roll(states[j+2], 2)) / 2\n",
    "            elif 1 < j < state_length-2:\n",
    "                ljd = (np.roll(th_vec * states[j-2] * np.roll(states[j-1], 1), -2) +\n",
    "                    np.roll(th_vec * states[j-1] * np.roll(states[j+1], 2), -1) +\n",
    "                      th_vec * np.roll(states[j+1], 1) * np.roll(states[j+2], 2)) / 3\n",
    "            else:\n",
    "                ljd = (np.roll(th_vec * states[j-1] * np.roll(states[j+1], 2), -1) +\n",
    "                   np.roll(th_vec * states[j-2] * np.roll(states[j-1], 1), -2)) / 2\n",
    "\n",
    "            states[j] = np.dot(vecs.T, np.dot(ljd, vecs.T)/N) + 1.0*states[j]\n",
    "        \n",
    "        bv = states[0] * np.roll(states[1],1) * np.roll(states[2],2) \n",
    "              \n",
    "        for j in range(1, state_length-2):\n",
    "            bv += states[j] * np.roll(states[j+1],1) * np.roll(states[j+2],2) \n",
    "\n",
    "        th_vec = bound_vec - bv\n",
    "        \n",
    "        if np.all(all_converged):\n",
    "            print 'converged:', i\n",
    "            break\n",
    "    print ('i', i)\n",
    "    return hists, i\n",
    "\n",
    "def resplot():\n",
    "    figure(figsize=(10,3))\n",
    "    cols = get_cmap('copper', min(500,n_steps))\n",
    "    for i in range(min(500,n_steps)):\n",
    "        subplot(131)\n",
    "        plot(coef_hists[0][i,:], lw=3, c=cols(i))\n",
    "        subplot(132)\n",
    "        plot(coef_hists[1][i,:], lw=3, c=cols(i))\n",
    "        subplot(133)\n",
    "        plot(coef_hists[2][i,:], lw=3, c=cols(i))\n",
    "\n",
    "    pred = ''\n",
    "    for i in range(len(coef_hists)):\n",
    "        pred += alph[np.argmax(np.abs(coef_hists[i][-1,:]))]\n",
    "\n",
    "    print (word, pred)\n",
    "\n",
    "def explain_all(bound_vec, N=N, D=D, state_length=10, vecs=dic2):\n",
    "    explained_vec = np.zeros(N)\n",
    "    xhists_total = []\n",
    "    nsteps_total = []\n",
    "    coefs_total = []\n",
    "    max_steps = int(np.round(np.var(bound_vec)))\n",
    "    print \"Steps: \", max_steps\n",
    "    \n",
    "    for ct in range(max_steps):\n",
    "        query = bound_vec - explained_vec;\n",
    "        \n",
    "        print \"Var: \", np.var(query)\n",
    "        \n",
    "        x_hists, nsteps = res_decode(query, vecs, 500)\n",
    "        xhists_total.append(x_hists)\n",
    "        nsteps_total.append(nsteps)\n",
    "\n",
    "        ex_vec = np.ones(N)\n",
    "        coefs = []\n",
    "        \n",
    "        pred = ''\n",
    "        for i in range(len(x_hists)):\n",
    "            coefs.append(alph[np.argmax(np.abs(x_hists[i][-1,:]))])\n",
    "            pred += coefs[i]\n",
    "        ex_vec = RM_utils.ngram_encode_cl(pred, vecs, alph)\n",
    "        \n",
    "        coefs_total.append(coefs)\n",
    "        explained_vec += ex_vec\n",
    "\n",
    "        #plt.figure(figsize=(10,3))\n",
    "        #ru.resplot_im(x_hists, nsteps)\n",
    "        print ('pred', pred)\n",
    "    return xhists_total, nsteps_total, coefs_total\n"
   ]
  },
  {
   "cell_type": "code",
   "execution_count": 145,
   "metadata": {},
   "outputs": [
    {
     "name": "stdout",
     "output_type": "stream",
     "text": [
      "Steps:  1\n",
      "Var:  0.999999\n",
      "('i', 499)\n",
      "('pred', 'wishpish')\n"
     ]
    }
   ],
   "source": [
    "xhists_total, nsteps_total, coefs_total = explain_all(bound_vec)"
   ]
  },
  {
   "cell_type": "code",
   "execution_count": 105,
   "metadata": {},
   "outputs": [
    {
     "name": "stdout",
     "output_type": "stream",
     "text": [
      "2041.47133232\n"
     ]
    }
   ],
   "source": [
    "print np.max(xhists_total)"
   ]
  },
  {
   "cell_type": "code",
   "execution_count": null,
   "metadata": {
    "collapsed": true
   },
   "outputs": [],
   "source": []
  }
 ],
 "metadata": {
  "kernelspec": {
   "display_name": "Python 2",
   "language": "python",
   "name": "python2"
  },
  "language_info": {
   "codemirror_mode": {
    "name": "ipython",
    "version": 2
   },
   "file_extension": ".py",
   "mimetype": "text/x-python",
   "name": "python",
   "nbconvert_exporter": "python",
   "pygments_lexer": "ipython2",
   "version": "2.7.13"
  }
 },
 "nbformat": 4,
 "nbformat_minor": 2
}
