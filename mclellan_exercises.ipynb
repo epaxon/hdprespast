{
 "cells": [
  {
   "cell_type": "code",
   "execution_count": 4,
   "metadata": {
    "collapsed": false
   },
   "outputs": [],
   "source": [
    "import string\n",
    "import utils\n",
    "import random\n",
    "import scipy\n",
    "import numpy as np\n",
    "import matplotlib.pyplot as plt\n",
    "import sklearn.metrics as metrics\n",
    "import pickle\n",
    "\n",
    "from scipy import optimize\n",
    "from utils import random_idx\n",
    "from utils import utils\n",
    "from utils import lang_vectors_utils as lvu\n",
    "%matplotlib inline\n",
    "\n",
    "alphabet = string.lowercase + ' _#'\n",
    "k = 500\n",
    "N = 1000\n",
    "NUM_CLASSES = 2\n",
    "cluster_sizes = [1, 2, 3]\n",
    "ordered = 1\n",
    "alphabet = string.lowercase + ' '\n",
    "RI_letters = random_idx.generate_letter_id_vectors(N, k, alphabet)\n",
    "\n",
    "\n",
    "def read_examples(filepath):\n",
    "    examples = []\n",
    "    with open(filepath, \"r\") as f:\n",
    "        for line in f:\n",
    "            for word in line.split():\n",
    "                examples.append(word)\n",
    "    return examples\n",
    "\n",
    "def wicklefeaturize(past_tense_word, cluster_size=3):\n",
    "    \"\"\"\n",
    "    Create a wicklefeature matrix (for mapping) and vector (for computations).\n",
    "    only trigrams (cluster_size of size 3).\n",
    "    Save the matrix.\n",
    "    \n",
    "    _ j u\n",
    "    j u m\n",
    "    u m p\n",
    "    m p #\n",
    "\n",
    "    \"\"\"\n",
    "    word = \"_\" + past_tense_word + \"#\"\n",
    "    wicklefeatures = np.zeros((len(word)-cluster_size,N))\n",
    "    for i in range(len(word)-cluster_size):\n",
    "        ngram = word[i:i+cluster_size]\n",
    "        wicklefeatures[i,:] = random_idx.id_vector(N, ngram, alphabet, RI_letters,ordered)\n",
    "    wicklefeature = np.sum(wicklefeatures, axis=0)\n",
    "    return wicklefeatures, wicklefeature\n",
    "    \n",
    "def save_wicklefeaturize(past_tense_word, cluster_size, filepath=\"wickle_train/\"):\n",
    "    wicklefeatures, wicklefeature = wicklefeaturize(past_tense_word, cluster_size)\n",
    "\n",
    "    pickle.dump(wicklefeatures, open(filepath+\"/matrix/\"+past_tense_word, \"wb\"))\n",
    "    pickle.dump(wicklefeature, open(filepath+\"/vector/\"+past_tense_word, \"wb\"))\n",
    "    \n",
    "    return wicklefeatures, wicklefeature\n",
    "\n",
    "# decode(\"_augmented#\", wicklefeatures)\n",
    "# not tested yet \n",
    "def decode(label, wicklematrix):\n",
    "    #wicklefeatures, wicklefeature = wicklefeaturize(label+\"ed\", cluster_size)\n",
    "    underscore = random_idx.id_vector(N, \"_\", alphabet, RI_letters,ordered)\n",
    "    pound = random_idx.id_vector(N, \"#\", alphabet, RI_letters,ordered)\n",
    "    lettervec = random_idx.id_vector(N, \" \", alphabet, RI_letters,ordered)\n",
    "    previous = wicklematrix[wicklmatrix.shape[0]] - pound\n",
    "    \n",
    "    for i in range(len(label)-2,-1,-1):\n",
    "        if i == 0:\n",
    "            current = wicklematrx[i] - underscore\n",
    "            lettervec = current - np.roll(lettervec)\n",
    "        else:\n",
    "            current = np.rollaxis(wicklematrix[i],0)\n",
    "            lettervec = current - previous\n",
    "            previous = current\n",
    "        \n",
    "        # how to determine if they are close??? want to be the same letter\n",
    "        print \"label letter vec\"\n",
    "        print lettervec\n",
    "        print \"letter vec\"\n",
    "        # inefficient\n",
    "        print random_idx.id_vector(N, label[i], alphabet, RI_letters,ordered)\n",
    "        \n",
    "def get_training_set(folderpath=\"wickle_train/\", verbtype=\"ed\",filepath=\"ed.txt\"):\n",
    "    past = read_examples(folderpath+verbtype+\"sets/\"+ filepath)\n",
    "    X = np.zeros((len(past),N))\n",
    "    Xmatrix = []\n",
    "    # bc all the words in the training set are ed verbs rn. lmao\n",
    "    labelstrain = read_examples(folderpath+verbtype+\"labels/\"+filepath)\n",
    "    for i in range(len(past)):\n",
    "        X[i,:] = pickle.load(open(folderpath+verbtype+\"/vector/\"+past[i], \"r\"))\n",
    "        Xmatrix.append(pickle.load(open(folderpath+verbtype+\"/matrix/\"+past[i], \"r\")))\n",
    "    return Xmatrix, X, labelstrain\n",
    "    \n",
    "def get_test_set(filepath):\n",
    "    Y = [] # wicklefeatures of the test set\n",
    "    y_labels = [] # 0 for not -ed verb, 1 for -ed verb"
   ]
  },
  {
   "cell_type": "code",
   "execution_count": 5,
   "metadata": {
    "collapsed": false
   },
   "outputs": [],
   "source": [
    "def closed_form_train(X_train, y_train, reg=0):\n",
    "    ''' Build a model from X_train -> y_train '''\n",
    "    xtx = X_train.T.dot(X_train)\n",
    "    return scipy.linalg.solve(xtx + reg*np.eye(xtx.shape[0]), X_train.T.dot(y_train), sym_pos=True)\n",
    "\n",
    "def one_hot(labels_train):\n",
    "    '''Convert present tense labels to vector'''\n",
    "    y = np.zeros((len(labels_train), N))\n",
    "    for i in range(len(labels_train)):\n",
    "        y[i] = random_idx.id_vector(N, labels_train[i], alphabet, RI_letters,ordered)\n",
    "    return y\n",
    "\n",
    "def wickled_one_hot(labels_train, cluster_size=3):\n",
    "    y = np.zeros((len(labels_train), N))\n",
    "    for i in range(len(labels_train)):\n",
    "        # may have to offset labels_train[i] to account for labels_train[i] + \"ed\"\n",
    "        y[i] = wicklefeaturize(labels_train[i], cluster_size)[1]\n",
    "    return y\n",
    "\n",
    "def predict(model, X):\n",
    "    ''' From model and data points, output prediction vectors '''\n",
    "    return np.argmax(X.dot(model), axis=1)\n",
    "        \n",
    "def accuracy_score(labelstrain, predlabelstrain):\n",
    "    \"\"\"this is where I do the decoding\"\"\"\n",
    "    # turn labelstrain into wicklefeature matrix\n",
    "    # start subtracting from predlabelstrain letter by letter\n",
    "    # decode(labelstrain, predlabelstrain)\n",
    "    results = []\n",
    "    #print predlabelstrain[1]\n",
    "    for i in range(len(labelstrain)):\n",
    "        results.append((labelstrain[i],labelstrain[predlabelstrain[i]]))\n",
    "    return results\n",
    "    "
   ]
  },
  {
   "cell_type": "code",
   "execution_count": 3,
   "metadata": {
    "collapsed": true
   },
   "outputs": [],
   "source": [
    "# demo\n",
    "edsets = [\"ed.txt\", \"ed10000.txt\", \"ed5000.txt\", \"ed3000.txt\", \"ed1000.txt\"]\n",
    "edlabels = [\"ed.txt\", \"ed10000.txt\", \"ed5000.txt\", \"ed3000.txt\", \"ed1000.txt\"]\n",
    "# oh shit -ed verbs are actually -d and -ed verbs in the same bag of words. i'm keeping them as the same class\n",
    "# wicklefeaturize verbs\n",
    "\n",
    "examples = read_examples(\"wickle_train/edsets/ed1000.txt\")\n",
    "for example in examples:\n",
    "    save_wicklefeaturize(example, 3, filepath=\"wickle_train/ed/\")\n",
    "\n",
    "Xmatrix, Xtrain, labelstrain = get_training_set(\"wickle_train/\", \"ed\", \"ed1000.txt\")"
   ]
  },
  {
   "cell_type": "code",
   "execution_count": 6,
   "metadata": {
    "collapsed": false
   },
   "outputs": [
    {
     "data": {
      "text/plain": [
       "'\\nytrain = one_hot(labelstrain)\\nmodel = closed_form_train(Xtrain, ytrain, reg=0.1)\\npred_labels_train = decoded_predict(model, Xtrain, Xmatrix)\\naccuracy = accuracy_score(labelstrain, pred_labels_train)\\nprint accuracy\\n\\nwytrain = wickled_one_hot(labelstrain)\\nwmodel = closed_form_train(Xtrain, wytrain, reg=0.1)\\nwpred_labels_train = decoded_predict(wmodel, Xtrain, Xmatrix)\\nwaccuracy = accuracy_score(labelstrain, wpred_labels_train)\\nprint waccuracy\\n'"
      ]
     },
     "execution_count": 6,
     "metadata": {},
     "output_type": "execute_result"
    }
   ],
   "source": [
    "# test decoding. decoding doesn't account for verbs <= length 2. we just know what they are. don't need to predict\n",
    "#wicklefeatures, wicklefeature = wicklefeaturize(\"augmented\", cluster_size=3)\n",
    "# so wicklefeature should map to wicklefeatures (dict or index)\n",
    "#decoded = decode(\"_augmented#\", wicklefeatures)\n"
   ]
  },
  {
   "cell_type": "code",
   "execution_count": 15,
   "metadata": {
    "collapsed": false
   },
   "outputs": [
    {
     "name": "stdout",
     "output_type": "stream",
     "text": [
      "[('wist', 'befring'), ('soberiz', 'pshaw'), ('revegetat', 'pock'), ('finess', 'jeep'), ('impersonaliz', 'scrumm'), ('cuss', 'leech'), ('overag', 'meddl'), ('retailor', 'retighten'), ('barrag', 'truffl'), ('clott', 'studi'), ('nonlead', 'inclasp'), ('disclaim', 'quoin'), ('knarr', 'trichiniz'), ('sparkplugg', 'irradiat'), ('demount', 'reshow'), ('croon', 'cuss'), ('mutini', 'geometris'), ('pigg', 'calqu'), ('attract', 'stylis'), ('flench', 'furbish'), ('institutionalis', 'loiter'), ('unanswer', 'nonrestrict'), ('monograph', 'canoniz'), ('unmew', 'utter'), ('clank', 'oversophisticat'), ('can', 'maim'), ('demot', 'proselytis'), ('devel', 'overweigh'), ('defilad', 'skiddoo'), ('discas', 'reprimand'), ('wrack', 'flood'), ('empanell', 'consummat'), ('swiv', 'midsiz'), ('unend', 'banquet'), ('engird', 'fang'), ('photodissociat', 'underf'), ('malfunction', 'cuss'), ('stabb', 'semifinish'), ('uncoordinat', 'dint'), ('hord', 'cooey'), ('differentiat', 'inflect'), ('beslim', 'stammer'), ('reformatt', 'blemish'), ('fritt', 'accomplish'), ('streel', 'spool'), ('concav', 'reimagin'), ('broil', 'overtask'), ('misgovern', 'impearl'), ('persist', 'poop'), ('waver', 'retrimm'), ('knoll', 'cameo'), ('acylat', 'preclud'), ('fester', 'balloon'), ('comment', 'echo'), ('begird', 'backpedal'), ('theatricaliz', 'remediat'), ('dayb', 'redubb'), ('stereograph', 'honi'), ('increment', 'bl'), ('detick', 'inarch'), ('eclips', 'premold'), ('transmogrifi', 'bemurmur'), ('gormandiz', 'plonk'), ('chart', 'rap'), ('stringhalt', 'chickenheart'), ('sail', 'deathb'), ('scrap', 'plung'), ('snuggl', 'overb'), ('mill', 'brattic'), ('humbugg', 'collimat'), ('dangl', 'catt'), ('unlist', 'inoculat'), ('deferr', 'petal'), ('contribut', 'unleaven'), ('reharden', 'thermoform'), ('leav', 'mobb'), ('dimeriz', 'quoin'), ('localiz', 'uncoalesc'), ('negat', 'cock'), ('paw', 'reconquer'), ('noncomputeriz', 'repartition'), ('superabound', 'gyr'), ('raven', 'serif'), ('misjudg', 'irradiat'), ('quieten', 'criticis'), ('noncertificat', 'flatb'), ('dumbfounder', 'recomb'), ('outpric', 'mentor'), ('coy', 'fink'), ('fissur', 'authoriz'), ('report', 'climb'), ('lawyer', 'engird'), ('auction', 'adapt'), ('fink', 'rap'), ('affiliat', 'romp'), ('outpray', 'refilter'), ('splint', 'scoff'), ('natur', 'standardiz'), ('unblock', 'crutch'), ('misregister', 'introspect'), ('climb', 'paw'), ('catt', 'departmentaliz'), ('transfix', 'caper'), ('incriminat', 'interknitt'), ('adumbrat', 'pock'), ('catalyz', 'mobb'), ('yclep', 'uncompound'), ('sledd', 'scowl'), ('cannonball', 'unclutter'), ('resilver', 'dolli'), ('ow', 'enregister'), ('overtask', 'draft'), ('trolli', 'suppl'), ('explain', 'sensationaliz'), ('presteriliz', 'unmask'), ('scoff', 'grim'), ('detassell', 'outtrick'), ('premold', 'pluck'), ('nonautomat', 'octupl'), ('carpetwe', 'embow'), ('photodisintegrat', 'reenact'), ('junket', 'flatb'), ('escot', 'canopi'), ('reverenc', 'reactivat'), ('herald', 'cock'), ('roust', 'proselytis'), ('etiolat', 'pshaw'), ('suffocat', 'clott'), ('standardiz', 'articulat'), ('mir', 'show'), ('circumstanc', 'hyperlink'), ('underprivileg', 'shelv'), ('canoniz', 'outsmil'), ('highball', 'chickenheart'), ('diadem', 'embosk'), ('menac', 'overweigh'), ('flubb', 'graeciz'), ('gash', 'unreconstruct'), ('liquifi', 'outscold'), ('chequer', 'remount'), ('enflam', 'dirl'), ('lock', 'blemish'), ('unaffiliat', 'reclin'), ('grim', 'stabb'), ('fam', 'negat'), ('mislocat', 'substitut'), ('plung', 'slubber'), ('outscold', 'reimagin'), ('cajol', 'standardiz'), ('honi', 'pressur'), ('implead', 'emulsifi'), ('leap', 'grim'), ('unreconstruct', 'undeform'), ('preshow', 'queu'), ('disharmoniz', 'overtipp'), ('poop', 'spor'), ('sideburn', 'caddi'), ('organiz', 'forearm'), ('dint', 'brattic'), ('oppugn', 'backhand'), ('nitrat', 'forearm'), ('unting', 'banquet'), ('boldfac', 'studi'), ('prelimit', 'pressur'), ('blarney', 'suffocat'), ('reimagin', 'perish'), ('liven', 'mislight'), ('speel', 'resilver'), ('fuzz', 'overweigh'), ('groan', 'resin'), ('unmask', 'assur'), ('shirk', 'liberalis'), ('hoodoo', 'dangl'), ('reconsecrat', 'unyean'), ('straightbr', 'perfum'), ('retool', 'befring'), ('dar', 'enroot'), ('tangl', 'snogg'), ('dignifi', 'adhibit'), ('backpedal', 'inclasp'), ('riprapp', 'doil'), ('cluck', 'unyean'), ('gabell', 'dar'), ('broach', 'transfix'), ('exposit', 'damag'), ('shor', 'crutch'), ('assimilat', 'disyok'), ('disrat', 'modernis'), ('minimiz', 'chaperon'), ('outlaw', 'wood'), ('overciviliz', 'dignifi'), ('macadamiz', 'studi'), ('destin', 'repeal'), ('twin', 'cuss'), ('overexploit', 'ignifi'), ('footfault', 'insnar'), ('impark', 'resilver'), ('entrust', 'empanell'), ('trellis', 'pranc'), ('endeavour', 'impersonaliz'), ('romp', 'impersonaliz'), ('sallow', 'list'), ('disubstitut', 'criticis'), ('calv', 'list'), ('imbodi', 'bulldoz'), ('repartition', 'stumm'), ('repatriat', 'quieten'), ('kirn', 'lacquey'), ('stockpil', 'unreconstruct'), ('welcom', 'ignifi'), ('dream', 'shitt'), ('profan', 'disentangl'), ('mump', 'pigg'), ('scrummag', 'natur'), ('outweari', 'brainwash'), ('ensky', 'outsmil'), ('enfac', 'figg'), ('inclasp', 'engird'), ('bootstrapp', 'spor'), ('unsaddl', 'cuss'), ('conn', 'ow'), ('novelis', 'brail'), ('deav', 'departmentaliz'), ('offload', 'liven'), ('interb', 'moss'), ('wal', 'arabiz'), ('repris', 'unsear'), ('matur', 'mim'), ('reenter', 'persist'), ('introspect', 'augur'), ('royster', 'activat'), ('guil', 'uncompound'), ('spirall', 'reexplor'), ('inoculat', 'novelis'), ('pshaw', 'fatigu'), ('gunkhol', 'outroar'), ('mispric', 'teat'), ('mammer', 'dar'), ('wood', 'gavott'), ('cooey', 'cherish'), ('thron', 'jounc'), ('drivell', 'etiolat'), ('bemadam', 'fever'), ('reexplor', 'novelis'), ('overtighten', 'spirall'), ('brais', 'credential'), ('kirtl', 'reinjur'), ('undevelop', 'miscatalog'), ('despiritualiz', 'streel'), ('glutt', 'structuraliz'), ('underlapp', 'demount'), ('liberalis', 'brigad'), ('photolyz', 'derail'), ('outgnaw', 'canopi'), ('tower', 'defilad'), ('armour', 'constrict'), ('caucuss', 'inoculat'), ('outsmil', 'gyr'), ('addict', 'smirch'), ('gyr', 'reaffirm'), ('uninfluenc', 'shirk'), ('noncolor', 'inflect'), ('queu', 'retighten'), ('blush', 'offload'), ('inpour', 'vaniti'), ('preced', 'flatb'), ('alkylat', 'doil'), ('ooh', 'photolyz'), ('structuraliz', 'disharmoniz'), ('antevert', 'rebre'), ('snak', 'overweigh'), ('outgeneral', 'unanswer'), ('overb', 'plicat'), ('displeas', 'renest'), ('preerect', 'theatricaliz'), ('blind', 'outsoar'), ('emulsifi', 'platiniz'), ('maladminister', 'cajol'), ('outspell', 'poop'), ('flood', 'fatigu'), ('outpass', 'unblock'), ('unarmor', 'nitrat'), ('collocat', 'detach'), ('valoriz', 'cipher'), ('descant', 'spool'), ('squash', 'leav'), ('flichter', 'misassembl'), ('assur', 'bemurmur'), ('threaten', 'babi'), ('corelat', 'dignifi'), ('wigwagg', 'etiolat'), ('tinkl', 'enervat'), ('crown', 'unintend'), ('sumpwe', 'reprimand'), ('weevil', 'disrat'), ('misaton', 'show'), ('audition', 'drov'), ('indow', 'fatigu'), ('ear', 'soak'), ('dibbl', 'assur'), ('henna', 'semifinish'), ('uncompound', 'deoxygenat'), ('shelv', 'reconquer'), ('plicat', 'disclaim'), ('reprimand', 'thron'), ('bat', 'bemuddl'), ('compet', 'masturbat'), ('reavail', 'spong'), ('cohost', 'maim'), ('repeal', 'theologis'), ('renumber', 'suppl'), ('bemurmur', 'straightbr'), ('denn', 'freehand'), ('decrepitat', 'mill'), ('bre', 'counterfir'), ('checkrow', 'semifinish'), ('unfill', 'chirr'), ('disfigur', 'exculpat'), ('diazotiz', 'coy'), ('shopp', 'retrogress'), ('superharden', 'overcorrect'), ('semifinish', 'brut'), ('oversophisticat', 'meddl'), ('salli', 'blemish'), ('infring', 'tranquilliz'), ('mast', 'toast'), ('renovat', 'facelift'), ('betroth', 'clarifi'), ('motoris', 'liquat'), ('bitt', 'oppugn'), ('tir', 'list'), ('duckwalk', 'adumbrat'), ('phosphatiz', 'recommission'), ('need', 'cuss'), ('list', 'leech'), ('horsewe', 'deworm'), ('discomfort', 'obnubilat'), ('shriev', 'hirsl'), ('rummag', 'crown'), ('purebr', 'reinjur'), ('bous', 'untrammel'), ('frown', 'derogat'), ('italianiz', 'capsiz'), ('stultifi', 'overtim'), ('rectifi', 'flatb'), ('azotis', 'queu'), ('cholecystectomiz', 'cluck'), ('default', 'outsnor'), ('legat', 'unreconstruct'), ('comanag', 'uncoalesc'), ('lung', 'irradiat'), ('cipher', 'wick'), ('reordain', 'recalculat'), ('show', 'enregister'), ('morph', 'reverb'), ('yenn', 'blemish'), ('wallop', 'pillori'), ('disport', 'parrot'), ('insnar', 'extenuat'), ('foretoken', 'natur'), ('blasphem', 'lurch'), ('deriv', 'modernis'), ('unintend', 'banquet'), ('interweav', 'fantasis'), ('fever', 'bre'), ('lipstick', 'remediat'), ('allse', 'prelimit'), ('overcorrect', 'entrust'), ('candlelight', 'unarmor'), ('doz', 'befring'), ('chirr', 'discomfort'), ('overregulat', 'drivell'), ('constrict', 'tin'), ('benight', 'clarifi'), ('mudcapp', 'counterfir'), ('slim', 'show'), ('credential', 'flitter'), ('promenad', 'misreport'), ('soak', 'adventur'), ('arpeggiat', 'activat'), ('heliograph', 'honi'), ('pearl', 'bemurmur'), ('recommend', 'institutionalis'), ('unannounc', 'caper'), ('absorb', 'outsmil'), ('parasitis', 'specialis'), ('soldier', 'unannounc'), ('unmold', 'ballast'), ('lett', 'mim'), ('pixilat', 'outsnor'), ('sacculat', 'crat'), ('miscalculat', 'reverb'), ('disjoint', 'enchas'), ('blackmail', 'truncat'), ('conced', 'departmentaliz'), ('resonat', 'reenter'), ('retrogress', 'pixilat'), ('figg', 'jounc'), ('reverifi', 'detassell'), ('unlevell', 'reconsecrat'), ('enchas', 'woman'), ('spool', 'reconquer'), ('befring', 'bilg'), ('sufflat', 'preerect'), ('inurn', 'crutch'), ('sing', 'leav'), ('overclean', 'resilver'), ('metriciz', 'gross'), ('calqu', 'imbodi'), ('unperform', 'lock'), ('purg', 'munch'), ('recommission', 'utter'), ('reclin', 'flichter'), ('conglobat', 'unleaven'), ('loiter', 'reenact'), ('mammock', 'demot'), ('augur', 'faradis'), ('outbulk', 'reclin'), ('heckl', 'soak'), ('dick', 'studi'), ('hound', 'grappl'), ('deed', 'remeasur'), ('doil', 'overtim'), ('bullshitt', 'balloon'), ('click', 'besmutt'), ('remount', 'armour'), ('clangor', 'report'), ('cockbill', 'criticis'), ('stumm', 'phosphatiz'), ('skirmish', 'prewarn'), ('reconvey', 'mammer'), ('teat', 'plann'), ('touch', 'retrimm'), ('cap', 'facelift'), ('emplan', 'ask'), ('avuls', 'accomplish'), ('pock', 'enfac'), ('telecommut', 'uncak'), ('tramp', 'thol'), ('stammer', 'slim'), ('untrammel', 'hyperciviliz'), ('outroar', 'bat'), ('bach', 'knarr'), ('affront', 'refilter'), ('blister', 'cluck'), ('misreport', 'increment'), ('fiberiz', 'deadpann'), ('blanch', 'trichiniz'), ('obnubilat', 'affront'), ('hobnail', 'unattun'), ('curlicu', 'leap'), ('aveng', 'photolyz'), ('lurch', 'gash'), ('exculpat', 'recommission'), ('flank', 'moisturiz'), ('repos', 'thron'), ('board', 'derogat'), ('sachet', 'divert'), ('serif', 'sepulcher'), ('clarifi', 'brattic'), ('beclogg', 'outliv'), ('hamm', 'begrimm'), ('reconven', 'squash'), ('bl', 'truncat'), ('enspher', 'inarch'), ('dray', 'enplan'), ('supercool', 'bruit'), ('smirch', 'sacculat'), ('resign', 'crumbl'), ('germaniz', 'snogg'), ('pressur', 'skirmish'), ('nogg', 'becrowd'), ('fang', 'skimp'), ('arcuat', 'hirsl'), ('stellifi', 'balloon'), ('drov', 'jounc'), ('pillori', 'rebuff'), ('cordon', 'uncoalesc'), ('outmuscl', 'dignifi'), ('falcat', 'authoriz'), ('overcentraliz', 'rebalanc'), ('roll', 'reclin'), ('invigorat', 'barrag'), ('kit', 'begrimm'), ('brainwash', 'consol'), ('inmesh', 'legat'), ('nonregulat', 'ear'), ('patent', 'tangl'), ('estat', 'timber'), ('tomcatt', 'sacculat'), ('reprogramm', 'fondl'), ('becrowd', 'monograph'), ('demand', 'uncoordinat'), ('proselytis', 'sufflat'), ('unlocaliz', 'pock'), ('cohobat', 'unintend'), ('plann', 'locomot'), ('adventur', 'balloon'), ('adapt', 'fink'), ('ask', 'bradd'), ('dirl', 'unmask'), ('zigg', 'reaffirm'), ('mortifi', 'stereograph'), ('unbutton', 'groan'), ('fudg', 'unintend'), ('windl', 'sepulcher'), ('encash', 'channell'), ('outjump', 'balloon'), ('unheal', 'crutch'), ('fondl', 'touch'), ('hypostatiz', 'pargett'), ('unsubstantiat', 'panel'), ('disyok', 'maim'), ('munch', 'sepulcher'), ('outsnor', 'touch'), ('moss', 'nonrestrict'), ('begrimm', 'replung'), ('tar', 'repeal'), ('pastor', 'outgnaw'), ('spong', 'unintend'), ('gasconad', 'unting'), ('overweigh', 'believ'), ('tutoy', 'inthron'), ('dolli', 'dialogu'), ('criticis', 'unyean'), ('upcurv', 'cre'), ('roof', 'derogat'), ('chuck', 'cavalier'), ('unleaven', 'oversuppli'), ('parl', 'unkennel'), ('mislight', 'overtipp'), ('sensationaliz', 'fang'), ('outearn', 'reavail'), ('besmutt', 'arpeggiat'), ('flitter', 'stok'), ('masculiniz', 'overweigh'), ('harangu', 'suppl'), ('refilter', 'tomcatt'), ('regal', 'remeasur'), ('work', 'studi'), ('unmelt', 'preerect'), ('gavott', 'repris'), ('divert', 'substitut'), ('copolymeriz', 'underf'), ('contemplat', 'preclud'), ('ferret', 'wigwagg'), ('scowl', 'enroot'), ('man', 'standardiz'), ('demonis', 'underf'), ('derogat', 'oppugn'), ('wont', 'mim'), ('baulk', 'bilg'), ('catcall', 'avuls'), ('hyperciviliz', 'devel'), ('reactivat', 'transmogrifi'), ('counterpoint', 'chuck'), ('pother', 'unreconstruct'), ('hunker', 'mispric'), ('thol', 'bat'), ('actuat', 'lengthen'), ('nasaliz', 'rubberneck'), ('condition', 'rectifi'), ('disfavor', 'disrat'), ('expostulat', 'unperform'), ('desexualiz', 'increment'), ('departmentaliz', 'spirall'), ('lacquey', 'bous'), ('mordant', 'weevil'), ('trust', 'adhibit'), ('brin', 'geometris'), ('babi', 'undevelop'), ('damag', 'reshow'), ('mim', 'reconvey'), ('intitul', 'mentor'), ('tranquilliz', 'photodissociat'), ('borat', 'timber'), ('mummifi', 'unbosom'), ('ooz', 'assur'), ('freebas', 'dialogu'), ('wend', 'locomot'), ('percuss', 'plung'), ('outsham', 'bat'), ('suppl', 'utter'), ('trichiniz', 'unclutter'), ('toast', 'outsoar'), ('firewe', 'reprimand'), ('unpil', 'ignifi'), ('supp', 'macadamiz'), ('boil', 'outsnor'), ('bistr', 'straightbr'), ('thirl', 'assur'), ('march', 'repeal'), ('deworm', 'furbish'), ('plonk', 'bilg'), ('diviniz', 'cameo'), ('misrul', 'displeas'), ('seam', 'unmew'), ('midsiz', 'disjoint'), ('petal', 'detick'), ('rubberneck', 'heliograph'), ('pargett', 'enfac'), ('quoin', 'overweigh'), ('prewrapp', 'detassell'), ('rescind', 'preerect'), ('disseminat', 'disubstitut'), ('echo', 'moonfac'), ('detract', 'openmouth'), ('unyean', 'utter'), ('holyston', 'pos'), ('progg', 'rap'), ('backhand', 'oversuppli'), ('scrumm', 'counterpoint'), ('towhead', 'audition'), ('redubb', 'cuss'), ('outliv', 'regroom'), ('woman', 'quarter'), ('chaperon', 'irradiat'), ('feminis', 'scratch'), ('rotat', 'serif'), ('bemuddl', 'unleaven'), ('retighten', 'mislight'), ('bradd', 'overturn'), ('portray', 'prov'), ('keel', 'repeal'), ('irradiat', 'xerox'), ('replat', 'outjump'), ('wrath', 'spirall'), ('dialogu', 'comanag'), ('spectacl', 'sleeken'), ('giftwrapp', 'junket'), ('straightjacket', 'caucuss'), ('espous', 'embrittl'), ('exorcis', 'refilter'), ('bubblehead', 'kit'), ('rescal', 'transfix'), ('lub', 'cherish'), ('cock', 'impersonaliz'), ('polymeris', 'putter'), ('ballast', 'wrath'), ('pos', 'noncertificat'), ('resin', 'quieten'), ('grandstand', 'conced'), ('cluster', 'collimat'), ('firm', 'fawn'), ('overgraz', 'enflam'), ('ashlar', 'unintend'), ('articulat', 'goad'), ('graeciz', 'begrimm'), ('abscess', 'begrimm'), ('forgather', 'invest'), ('furbish', 'replung'), ('outtrick', 'remediat'), ('enregister', 'liquifi'), ('misl', 'thron'), ('reshow', 'unmelt'), ('stylis', 'skimp'), ('mother', 'overtask'), ('reaccus', 'intromitt'), ('bruit', 'gavott'), ('truncat', 'pother'), ('deoxygenat', 'intitul'), ('cre', 'stultifi'), ('balloon', 'allse'), ('shitt', 'uninfluenc'), ('inwrapp', 'fondl'), ('emulat', 'footfault'), ('skiddoo', 'spectacl'), ('brazen', 'unlevell'), ('unvalu', 'capsiz'), ('caper', 'prespecifi'), ('attorn', 'drov'), ('subven', 'quieten'), ('ruffl', 'man'), ('unseparat', 'flichter'), ('beflower', 'blunt'), ('pluck', 'ow'), ('dishearten', 'catalog'), ('resketch', 'sideburn'), ('ponder', 'spool'), ('shrivell', 'departmentaliz'), ('beblood', 'bullshitt'), ('pinch', 'clack'), ('preclud', 'recommission'), ('brigad', 'uncompound'), ('mildew', 'blanch'), ('spicat', 'catcall'), ('rook', 'ow'), ('substitut', 'arpeggiat'), ('brail', 'noncolor'), ('brattic', 'unreconstruct'), ('terrac', 'scrumm'), ('moralis', 'studi'), ('embosk', 'conglobat'), ('epigrammatiz', 'cajol'), ('hutch', 'theologis'), ('derail', 'natur'), ('nonhandicapp', 'noninfest'), ('rebuff', 'canker'), ('annualiz', 'demot'), ('bench', 'reenact'), ('rehang', 'reenter'), ('channell', 'desexualiz'), ('stok', 'structuraliz'), ('depopulat', 'reinjur'), ('tiller', 'mildew'), ('rais', 'snogg'), ('moonfac', 'stabb'), ('undeform', 'salli'), ('disentangl', 'gash'), ('nonmatriculat', 'assur'), ('spor', 'rap'), ('routiniz', 'trolli'), ('consummat', 'bl'), ('reconquer', 'squash'), ('brut', 'derail'), ('slubber', 'uncoordinat'), ('pickeer', 'unquot'), ('despis', 'unmew'), ('frazzl', 'nondiversifi'), ('unbosom', 'truncat'), ('cantilever', 'benight'), ('rap', 'activat'), ('unclutter', 'ponder'), ('collimat', 'entrust'), ('alphabetiz', 'dayb'), ('authoriz', 'bous'), ('oblig', 'adumbrat'), ('result', 'dolli'), ('unquot', 'outweari'), ('doglegg', 'pargett'), ('nondiversifi', 'infring'), ('underestimat', 'outspell'), ('brachiat', 'institutionalis'), ('unkennel', 'outlaw'), ('concatenat', 'alkylat'), ('canopi', 'assur'), ('off', 'tomcatt'), ('backhaul', 'outpray'), ('perfum', 'nonrestrict'), ('downshift', 'redubb'), ('grip', 'nondiversifi'), ('quibbl', 'detach'), ('bowell', 'unlocaliz'), ('snogg', 'capsiz'), ('panel', 'fritt'), ('parrot', 'hobnail'), ('humbl', 'ferret'), ('cavalier', 'shrivell'), ('enplan', 'militat'), ('mislearn', 'increment'), ('nonrestrict', 'quieten'), ('reinstitut', 'scuttl'), ('nonirrigat', 'attract'), ('basifi', 'soldier'), ('stoutheart', 'hyperciviliz'), ('smash', 'persecut'), ('locomot', 'dick'), ('explicat', 'reaccus'), ('forearm', 'hyperciviliz'), ('jounc', 'abscis'), ('prov', 'cuss'), ('extenuat', 'basifi'), ('abscis', 'doz'), ('fatten', 'maim'), ('centrifug', 'grim'), ('premier', 'petal'), ('regroom', 'cordon'), ('desugar', 'strangulat'), ('scuttl', 'fissur'), ('carnifi', 'cooey'), ('canker', 'unsham'), ('dott', 'wend'), ('innervat', 'lett'), ('oxygenat', 'unanswer'), ('utter', 'maim'), ('facelift', 'menac'), ('sandal', 'dishearten'), ('underf', 'skimp'), ('estreat', 'unsham'), ('crutch', 'replat'), ('aroynt', 'baulk'), ('reestimat', 'celebrat'), ('garment', 'exorcis'), ('emend', 'outsham'), ('uncak', 'chickenheart'), ('sleeken', 'unannounc'), ('skimp', 'ponder'), ('hawk', 'stook'), ('cleav', 'begrimm'), ('hirsl', 'dangl'), ('maim', 'outtrick'), ('deathb', 'ballast'), ('invest', 'caddi'), ('interknitt', 'encash'), ('truffl', 'reaffirm'), ('overdetermin', 'thermoform'), ('nonconcurr', 'tin'), ('congest', 'sumpwe'), ('immunocompromis', 'vitiat'), ('deleav', 'backhaul'), ('fasten', 'forearm'), ('unshipp', 'truncat'), ('cottonse', 'nonlead'), ('trepann', 'leav'), ('decision', 'bulldoz'), ('beam', 'straightbr'), ('stook', 'blunt'), ('spad', 'irradiat'), ('openmouth', 'threaten'), ('goad', 'pigg'), ('conferr', 'bemurmur'), ('overturn', 'studi'), ('recomb', 'diviniz'), ('embrittl', 'unend'), ('clack', 'fever'), ('inquiet', 'augur'), ('liquat', 'copolymeriz'), ('grift', 'bruit'), ('activat', 'allse'), ('putter', 'tir'), ('xerox', 'dibbl'), ('bemedall', 'sacculat'), ('dot', 'truncat'), ('fawn', 'gyr'), ('quarter', 'embrittl'), ('reverb', 'firewe'), ('manur', 'riprapp'), ('align', 'flitter'), ('bicycl', 'undevelop'), ('timber', 'organiz'), ('recalculat', 'firewe'), ('inflect', 'divert'), ('freehand', 'mummifi'), ('adhibit', 'clack'), ('ball', 'knarr'), ('grappl', 'engird'), ('brib', 'institutionalis'), ('crat', 'tomcatt'), ('deadpann', 'conn'), ('ramrodd', 'fink'), ('mobb', 'besmutt'), ('retrimm', 'thron'), ('flatb', 'preerect'), ('ruck', 'click'), ('retun', 'soak'), ('miscatalog', 'disyok'), ('fatigu', 'unadmitt'), ('pranc', 'hyperlink'), ('unattun', 'footfault'), ('thermoform', 'noncertificat'), ('prespecifi', 'rebre'), ('blemish', 'descant'), ('unhallow', 'betroth'), ('caddi', 'maul'), ('noninfest', 'repartition'), ('skew', 'ponder'), ('refuel', 'climb'), ('solv', 'gasconad'), ('platiniz', 'parrot'), ('bluff', 'stammer'), ('inscrib', 'defilad'), ('bilg', 'mentor'), ('masturbat', 'rectifi'), ('counterfir', 'unquot'), ('milksh', 'stereograph'), ('overorganiz', 'petall'), ('lisp', 'preerect'), ('hinder', 'engorg'), ('pedicl', 'dot'), ('copyright', 'ignifi'), ('speck', 'maim'), ('coalsh', 'reinstitut'), ('lengthen', 'outpull'), ('gratifi', 'benight'), ('chickenheart', 'pixilat'), ('bulldoz', 'timber'), ('eradiat', 'scrummag'), ('reaffirm', 'assimilat'), ('mentor', 'overfavor'), ('petall', 'prespecifi'), ('featherhead', 'shor'), ('impearl', 'feminis'), ('outpull', 'auction'), ('celebrat', 'banquet'), ('reenact', 'thron'), ('scrimp', 'befring'), ('enroot', 'ponder'), ('immunoprecipitat', 'routiniz'), ('overdar', 'shitt'), ('replung', 'crutch'), ('ax', 'kirn'), ('draft', 'hyperlink'), ('blunt', 'soldier'), ('renest', 'reconquer'), ('unsear', 'decision'), ('moisturiz', 'befring'), ('hyperlink', 'brais'), ('swoosh', 'mammer'), ('specialis', 'remediat'), ('linse', 'incriminat'), ('persecut', 'lacquey'), ('intromitt', 'substitut'), ('leotard', 'cadg'), ('faradis', 'inurn'), ('overtipp', 'spirall'), ('bunker', 'gasconad'), ('foment', 'escot'), ('impact', 'enplan'), ('studi', 'utter'), ('banquet', 'timber'), ('accomplish', 'kirn'), ('crumbl', 'incit'), ('vitiat', 'dialogu'), ('unadmitt', 'toast'), ('barnstorm', 'chirr'), ('geometris', 'blackmail'), ('arabiz', 'engird'), ('subsaturat', 'noncomputeriz'), ('denounc', 'dot'), ('engorg', 'skimp'), ('reinjur', 'lett'), ('remediat', 'superharden'), ('bend', 'underlapp'), ('cramm', 'regroom'), ('misassembl', 'show'), ('capsiz', 'copyright'), ('redefi', 'channell'), ('rebalanc', 'beclogg'), ('perish', 'preempt'), ('dictat', 'speck'), ('sepulcher', 'outsham'), ('cherish', 'nonlead'), ('oppos', 'pearl'), ('preelect', 'riprapp'), ('prewarn', 'deoxygenat'), ('wick', 'enregister'), ('scratch', 'milksh'), ('jeep', 'hord'), ('tin', 'croon'), ('consol', 'interb'), ('lollygagg', 'outroar'), ('militat', 'parasitis'), ('marbl', 'unintend'), ('inthron', 'plann'), ('overstrew', 'rebalanc'), ('enervat', 'bunker'), ('leech', 'spicat'), ('catalog', 'mobb'), ('modernis', 'unend'), ('outsoar', 'kirn'), ('sanctifi', 'gunkhol'), ('incit', 'noncertificat'), ('overload', 'outgeneral'), ('moult', 'utter'), ('inflam', 'suffocat'), ('demystifi', 'hord'), ('overfavor', 'azotis'), ('oversuppli', 'unanswer'), ('remeasur', 'ruck'), ('believ', 'affront'), ('detach', 'midsiz'), ('fantasis', 'overtipp'), ('embow', 'thol'), ('rebre', 'unintend'), ('colocat', 'refilter'), ('remitt', 'bubblehead'), ('incarnadin', 'reimagin'), ('vaniti', 'natur'), ('inarch', 'hyperciviliz'), ('uncoalesc', 'fawn'), ('maul', 'quieten'), ('footslogg', 'unanticipat'), ('gell', 'utter'), ('unequall', 'arabiz'), ('cameo', 'maim'), ('obeliz', 'rap'), ('unanticipat', 'ensky'), ('allow', 'retool'), ('theologis', 'overtask'), ('preempt', 'engorg'), ('overtim', 'minimiz'), ('butter', 'report'), ('divid', 'reconven'), ('crevass', 'jounc'), ('socket', 'adapt'), ('ignifi', 'undeform'), ('cadg', 'skimp'), ('unsham', 'rap'), ('gross', 'underlapp'), ('revolt', 'reshow'), ('reconfigur', 'reverb'), ('grid', 'caucuss'), ('sandbagg', 'promenad'), ('strangulat', 'crat'), ('octupl', 'impark'), ('fuel', 'scratch'), ('meddl', 'stook'), ('explor', 'consummat'), ('unclaim', 'aveng'), ('misshap', 'drov')]\n"
     ]
    }
   ],
   "source": [
    "# results look awful. let's try the wicklefeature version of one hot encoding\n",
    "ytrain = wickled_one_hot(labelstrain)\n",
    "model = closed_form_train(Xtrain, ytrain, reg=0.1)\n",
    "pred_labels_train = predict(model, Xtrain)\n",
    "accuracy = accuracy_score(labelstrain, pred_labels_train)\n",
    "print accuracy\n",
    "#print(\"Train accuracy: {0}\".format(accuracy_score(labelstrain, pred_labels_train)))"
   ]
  },
  {
   "cell_type": "code",
   "execution_count": 12,
   "metadata": {
    "collapsed": false
   },
   "outputs": [
    {
     "name": "stdout",
     "output_type": "stream",
     "text": [
      "[('wist', 'congest'), ('soberiz', 'superabound'), ('revegetat', 'outgnaw'), ('finess', 'fudg'), ('impersonaliz', 'departmentaliz'), ('cuss', 'pastor'), ('overag', 'outgnaw'), ('retailor', 'waver'), ('barrag', 'stook'), ('clott', 'blarney'), ('nonlead', 'unsaddl'), ('disclaim', 'polymeris'), ('knarr', 'plann'), ('sparkplugg', 'germaniz'), ('demount', 'polymeris'), ('croon', 'demystifi'), ('mutini', 'pillori'), ('pigg', 'paw'), ('attract', 'strangulat'), ('flench', 'unhallow'), ('institutionalis', 'unintend'), ('unanswer', 'impersonaliz'), ('monograph', 'moult'), ('unmew', 'flubb'), ('clank', 'impersonaliz'), ('can', 'waver'), ('demot', 'waver'), ('devel', 'impersonaliz'), ('defilad', 'basifi'), ('discas', 'strangulat'), ('wrack', 'sacculat'), ('empanell', 'stockpil'), ('swiv', 'grappl'), ('unend', 'unmelt'), ('engird', 'rehang'), ('photodissociat', 'inflam'), ('malfunction', 'basifi'), ('stabb', 'panel'), ('uncoordinat', 'unclaim'), ('hord', 'studi'), ('differentiat', 'unsaddl'), ('beslim', 'stockpil'), ('reformatt', 'hobnail'), ('fritt', 'pillori'), ('streel', 'patent'), ('concav', 'hyperlink'), ('broil', 'unshipp'), ('misgovern', 'collimat'), ('persist', 'leotard'), ('waver', 'bulldoz'), ('knoll', 'begrimm'), ('acylat', 'unintend'), ('fester', 'plicat'), ('comment', 'manur'), ('begird', 'bradd'), ('theatricaliz', 'unlocaliz'), ('dayb', 'pillori'), ('stereograph', 'diazotiz'), ('increment', 'reavail'), ('detick', 'outsham'), ('eclips', 'blister'), ('transmogrifi', 'unintend'), ('gormandiz', 'forearm'), ('chart', 'off'), ('stringhalt', 'congest'), ('sail', 'stoutheart'), ('scrap', 'comment'), ('snuggl', 'basifi'), ('mill', 'thron'), ('humbugg', 'outearn'), ('dangl', 'inarch'), ('unlist', 'moisturiz'), ('deferr', 'hunker'), ('contribut', 'unpil'), ('reharden', 'horsewe'), ('leav', 'divid'), ('dimeriz', 'tangl'), ('localiz', 'retrimm'), ('negat', 'broil'), ('paw', 'outsham'), ('noncomputeriz', 'flubb'), ('superabound', 'entrust'), ('raven', 'disfigur'), ('misjudg', 'repeal'), ('quieten', 'bradd'), ('noncertificat', 'fang'), ('dumbfounder', 'grappl'), ('outpric', 'unclaim'), ('coy', 'ruffl'), ('fissur', 'foment'), ('report', 'pedicl'), ('lawyer', 'blister'), ('auction', 'ramrodd'), ('fink', 'calqu'), ('affiliat', 'clarifi'), ('outpray', 'outpray'), ('splint', 'waver'), ('natur', 'beclogg'), ('unblock', 'leotard'), ('misregister', 'footslogg'), ('climb', 'fudg'), ('catt', 'fang'), ('transfix', 'studi'), ('incriminat', 'underlapp'), ('adumbrat', 'repris'), ('catalyz', 'disfigur'), ('yclep', 'collimat'), ('sledd', 'outbulk'), ('cannonball', 'redefi'), ('resilver', 'retool'), ('ow', 'detach'), ('overtask', 'fang'), ('trolli', 'grift'), ('explain', 'diadem'), ('presteriliz', 'diadem'), ('scoff', 'unintend'), ('detassell', 'leap'), ('premold', 'diadem'), ('nonautomat', 'unattun'), ('carpetwe', 'disrat'), ('photodisintegrat', 'clarifi'), ('junket', 'unclaim'), ('escot', 'miscatalog'), ('reverenc', 'strangulat'), ('herald', 'repatriat'), ('roust', 'misaton'), ('etiolat', 'redefi'), ('suffocat', 'germaniz'), ('standardiz', 'outpray'), ('mir', 'off'), ('circumstanc', 'consol'), ('underprivileg', 'escot'), ('canoniz', 'hyperlink'), ('highball', 'moisturiz'), ('diadem', 'pastor'), ('menac', 'unlocaliz'), ('flubb', 'knoll'), ('gash', 'prelimit'), ('liquifi', 'unhallow'), ('chequer', 'outsnor'), ('enflam', 'hyperlink'), ('lock', 'divid'), ('unaffiliat', 'conn'), ('grim', 'unintend'), ('fam', 'moonfac'), ('mislocat', 'unintend'), ('plung', 'parasitis'), ('outscold', 'estreat'), ('cajol', 'enfac'), ('honi', 'unclaim'), ('implead', 'outsnor'), ('leap', 'actuat'), ('unreconstruct', 'stringhalt'), ('preshow', 'undeform'), ('disharmoniz', 'brail'), ('poop', 'paw'), ('sideburn', 'leotard'), ('organiz', 'pedicl'), ('dint', 'hyperlink'), ('oppugn', 'stockpil'), ('nitrat', 'blunt'), ('unting', 'estreat'), ('boldfac', 'rehang'), ('prelimit', 'stringhalt'), ('blarney', 'scoff'), ('reimagin', 'moisturiz'), ('liven', 'reimagin'), ('speel', 'blarney'), ('fuzz', 'encash'), ('groan', 'pigg'), ('unmask', 'diadem'), ('shirk', 'unlocaliz'), ('hoodoo', 'brib'), ('reconsecrat', 'hyperlink'), ('straightbr', 'liquat'), ('retool', 'brattic'), ('dar', 'remount'), ('tangl', 'fudg'), ('dignifi', 'germaniz'), ('backpedal', 'demystifi'), ('riprapp', 'abscess'), ('cluck', 'leap'), ('gabell', 'trust'), ('broach', 'pedicl'), ('exposit', 'unintend'), ('shor', 'forearm'), ('assimilat', 'outpray'), ('disrat', 'forearm'), ('minimiz', 'grappl'), ('outlaw', 'junket'), ('overciviliz', 'moonfac'), ('macadamiz', 'plicat'), ('destin', 'diadem'), ('twin', 'unintend'), ('overexploit', 'pedicl'), ('footfault', 'off'), ('impark', 'wrack'), ('entrust', 'pillori'), ('trellis', 'broil'), ('endeavour', 'truncat'), ('romp', 'outgnaw'), ('sallow', 'abscess'), ('disubstitut', 'unfill'), ('calv', 'premier'), ('imbodi', 'germaniz'), ('repartition', 'encash'), ('repatriat', 'pastor'), ('kirn', 'noninfest'), ('stockpil', 'reaffirm'), ('welcom', 'demystifi'), ('dream', 'dibbl'), ('profan', 'unlocaliz'), ('mump', 'misassembl'), ('scrummag', 'brattic'), ('outweari', 'redefi'), ('ensky', 'unlocaliz'), ('enfac', 'junket'), ('inclasp', 'recalculat'), ('bootstrapp', 'comment'), ('unsaddl', 'displeas'), ('conn', 'conglobat'), ('novelis', 'hyperlink'), ('deav', 'departmentaliz'), ('offload', 'stoutheart'), ('interb', 'pastor'), ('wal', 'rehang'), ('repris', 'knoll'), ('matur', 'truffl'), ('reenter', 'knoll'), ('introspect', 'moisturiz'), ('royster', 'truncat'), ('guil', 'forearm'), ('spirall', 'ramrodd'), ('inoculat', 'abscess'), ('pshaw', 'assur'), ('gunkhol', 'doil'), ('mispric', 'inarch'), ('mammer', 'bubblehead'), ('wood', 'unclaim'), ('cooey', 'innervat'), ('thron', 'dumbfounder'), ('drivell', 'ramrodd'), ('bemadam', 'inquiet'), ('reexplor', 'fondl'), ('overtighten', 'hunker'), ('brais', 'outsham'), ('kirtl', 'repeal'), ('undevelop', 'abscess'), ('despiritualiz', 'superabound'), ('glutt', 'sacculat'), ('underlapp', 'outearn'), ('liberalis', 'unlocaliz'), ('photolyz', 'flubb'), ('outgnaw', 'unlocaliz'), ('tower', 'canker'), ('armour', 'overdetermin'), ('caucuss', 'skew'), ('outsmil', 'brin'), ('addict', 'scoff'), ('gyr', 'repeal'), ('uninfluenc', 'truncat'), ('noncolor', 'impersonaliz'), ('queu', 'blarney'), ('blush', 'abscess'), ('inpour', 'portray'), ('preced', 'ramrodd'), ('alkylat', 'unclaim'), ('ooh', 'brail'), ('structuraliz', 'stoutheart'), ('antevert', 'fondl'), ('snak', 'unclaim'), ('outgeneral', 'annualiz'), ('overb', 'knoll'), ('displeas', 'fang'), ('preerect', 'hyperlink'), ('blind', 'auction'), ('emulsifi', 'forearm'), ('maladminister', 'unshipp'), ('outspell', 'oversophisticat'), ('flood', 'unshipp'), ('outpass', 'begird'), ('unarmor', 'clarifi'), ('collocat', 'pillori'), ('valoriz', 'comment'), ('descant', 'horsewe'), ('squash', 'hyperlink'), ('flichter', 'horsewe'), ('assur', 'reaccus'), ('threaten', 'desexualiz'), ('corelat', 'conglobat'), ('wigwagg', 'foment'), ('tinkl', 'begird'), ('crown', 'basifi'), ('sumpwe', 'hunker'), ('weevil', 'brib'), ('misaton', 'antevert'), ('audition', 'basifi'), ('indow', 'sacculat'), ('ear', 'deferr'), ('dibbl', 'escot'), ('henna', 'flood'), ('uncompound', 'truncat'), ('shelv', 'escot'), ('plicat', 'mildew'), ('reprimand', 'thron'), ('bat', 'fink'), ('compet', 'brin'), ('reavail', 'downshift'), ('cohost', 'unintend'), ('repeal', 'uncak'), ('renumber', 'forearm'), ('bemurmur', 'inflam'), ('denn', 'preclud'), ('decrepitat', 'fasten'), ('bre', 'fink'), ('checkrow', 'redefi'), ('unfill', 'theologis'), ('disfigur', 'rectifi'), ('diazotiz', 'prewrapp'), ('shopp', 'hunker'), ('superharden', 'disfigur'), ('semifinish', 'borat'), ('oversophisticat', 'patent'), ('salli', 'prelimit'), ('infring', 'hyperlink'), ('mast', 'cameo'), ('renovat', 'hinder'), ('betroth', 'recommission'), ('motoris', 'rummag'), ('bitt', 'patent'), ('tir', 'engorg'), ('duckwalk', 'doil'), ('phosphatiz', 'theologis'), ('need', 'unintend'), ('list', 'mordant'), ('horsewe', 'menac'), ('discomfort', 'spad'), ('shriev', 'reimagin'), ('rummag', 'immunoprecipitat'), ('purebr', 'truncat'), ('bous', 'leap'), ('frown', 'novelis'), ('italianiz', 'clarifi'), ('stultifi', 'reaccus'), ('rectifi', 'pillori'), ('azotis', 'reimagin'), ('cholecystectomiz', 'sacculat'), ('default', 'catalog'), ('legat', 'plicat'), ('comanag', 'reaffirm'), ('lung', 'chuck'), ('cipher', 'superabound'), ('reordain', 'premier'), ('show', 'unlocaliz'), ('morph', 'enspher'), ('yenn', 'unattun'), ('wallop', 'knoll'), ('disport', 'truncat'), ('insnar', 'flitter'), ('foretoken', 'plann'), ('blasphem', 'estreat'), ('deriv', 'betroth'), ('unintend', 'fang'), ('interweav', 'doil'), ('fever', 'sacculat'), ('lipstick', 'superabound'), ('allse', 'keel'), ('overcorrect', 'departmentaliz'), ('candlelight', 'moisturiz'), ('doz', 'disfigur'), ('chirr', 'redefi'), ('overregulat', 'tower'), ('constrict', 'basifi'), ('benight', 'trepann'), ('mudcapp', 'fink'), ('slim', 'renest'), ('credential', 'unintend'), ('promenad', 'unshipp'), ('soak', 'sacculat'), ('arpeggiat', 'conglobat'), ('heliograph', 'disyok'), ('pearl', 'wrack'), ('recommend', 'fasten'), ('unannounc', 'ramrodd'), ('absorb', 'moisturiz'), ('parasitis', 'abscess'), ('soldier', 'misaton'), ('unmold', 'reimagin'), ('lett', 'mildew'), ('pixilat', 'rais'), ('sacculat', 'outbulk'), ('miscalculat', 'abscess'), ('disjoint', 'leap'), ('blackmail', 'lett'), ('conced', 'repeal'), ('resonat', 'junket'), ('retrogress', 'prewrapp'), ('figg', 'firm'), ('reverifi', 'germaniz'), ('unlevell', 'misaton'), ('enchas', 'ramrodd'), ('spool', 'outsham'), ('befring', 'repeal'), ('sufflat', 'lett'), ('inurn', 'moisturiz'), ('sing', 'calqu'), ('overclean', 'petal'), ('metriciz', 'vitiat'), ('calqu', 'leav'), ('unperform', 'rummag'), ('purg', 'diadem'), ('recommission', 'blunt'), ('reclin', 'uninfluenc'), ('conglobat', 'truncat'), ('loiter', 'junket'), ('mammock', 'metriciz'), ('augur', 'impersonaliz'), ('outbulk', 'flitter'), ('heckl', 'inarch'), ('dick', 'gell'), ('hound', 'detach'), ('deed', 'canker'), ('doil', 'heliograph'), ('bullshitt', 'plicat'), ('click', 'beflower'), ('remount', 'riprapp'), ('clangor', 'motoris'), ('cockbill', 'recomb'), ('stumm', 'reimagin'), ('skirmish', 'strangulat'), ('reconvey', 'brattic'), ('teat', 'blarney'), ('touch', 'prewrapp'), ('cap', 'leotard'), ('emplan', 'grift'), ('avuls', 'cajol'), ('pock', 'bend'), ('telecommut', 'strangulat'), ('tramp', 'fasten'), ('stammer', 'departmentaliz'), ('untrammel', 'outgnaw'), ('outroar', 'stringhalt'), ('bach', 'outgnaw'), ('affront', 'polymeris'), ('blister', 'doil'), ('misreport', 'flubb'), ('fiberiz', 'renovat'), ('blanch', 'etiolat'), ('obnubilat', 'detach'), ('hobnail', 'hyperlink'), ('curlicu', 'detach'), ('aveng', 'collimat'), ('lurch', 'unclaim'), ('exculpat', 'premold'), ('flank', 'reconfigur'), ('repos', 'moonfac'), ('board', 'knoll'), ('sachet', 'etiolat'), ('serif', 'snuggl'), ('clarifi', 'stammer'), ('beclogg', 'hobnail'), ('hamm', 'germaniz'), ('reconven', 'departmentaliz'), ('bl', 'preclud'), ('enspher', 'premier'), ('dray', 'scowl'), ('supercool', 'reimagin'), ('smirch', 'collimat'), ('resign', 'soldier'), ('germaniz', 'crown'), ('pressur', 'unarmor'), ('nogg', 'immunoprecipitat'), ('fang', 'escot'), ('arcuat', 'forearm'), ('stellifi', 'basifi'), ('drov', 'sanctifi'), ('pillori', 'stook'), ('cordon', 'thirl'), ('outmuscl', 'unintend'), ('falcat', 'fester'), ('overcentraliz', 'unsaddl'), ('roll', 'incarnadin'), ('invigorat', 'sacculat'), ('kit', 'fondl'), ('brainwash', 'reordain'), ('inmesh', 'plann'), ('nonregulat', 'brattic'), ('patent', 'departmentaliz'), ('estat', 'unmelt'), ('tomcatt', 'foment'), ('reprogramm', 'unsaddl'), ('becrowd', 'utter'), ('demand', 'proselytis'), ('proselytis', 'redefi'), ('unlocaliz', 'brin'), ('cohobat', 'departmentaliz'), ('plann', 'unlocaliz'), ('adventur', 'basifi'), ('adapt', 'catalog'), ('ask', 'remediat'), ('dirl', 'parasitis'), ('zigg', 'redefi'), ('mortifi', 'foment'), ('unbutton', 'doil'), ('fudg', 'departmentaliz'), ('windl', 'hobnail'), ('encash', 'rehang'), ('outjump', 'rummag'), ('unheal', 'mim'), ('fondl', 'unhallow'), ('hypostatiz', 'moisturiz'), ('unsubstantiat', 'departmentaliz'), ('disyok', 'unintend'), ('munch', 'paw'), ('outsnor', 'reconquer'), ('moss', 'trepann'), ('begrimm', 'spool'), ('tar', 'inarch'), ('pastor', 'bradd'), ('spong', 'unlevell'), ('gasconad', 'spool'), ('overweigh', 'scowl'), ('tutoy', 'blarney'), ('dolli', 'leotard'), ('criticis', 'oversophisticat'), ('upcurv', 'moisturiz'), ('roof', 'deoxygenat'), ('chuck', 'intromitt'), ('unleaven', 'remediat'), ('parl', 'recommission'), ('mislight', 'inflam'), ('sensationaliz', 'retun'), ('outearn', 'inarch'), ('besmutt', 'abscess'), ('flitter', 'downshift'), ('masculiniz', 'unfill'), ('harangu', 'horsewe'), ('refilter', 'prelimit'), ('regal', 'unattun'), ('work', 'freebas'), ('unmelt', 'stok'), ('gavott', 'unclaim'), ('divert', 'unequall'), ('copolymeriz', 'comment'), ('contemplat', 'entrust'), ('ferret', 'motoris'), ('scowl', 'hobnail'), ('man', 'squash'), ('demonis', 'grappl'), ('derogat', 'canker'), ('wont', 'canker'), ('baulk', 'downshift'), ('catcall', 'liberalis'), ('hyperciviliz', 'foment'), ('reactivat', 'plann'), ('counterpoint', 'stringhalt'), ('pother', 'strangulat'), ('hunker', 'unmelt'), ('thol', 'hinder'), ('actuat', 'truncat'), ('nasaliz', 'unmelt'), ('condition', 'outgnaw'), ('disfavor', 'redefi'), ('expostulat', 'hinder'), ('desexualiz', 'escot'), ('departmentaliz', 'sandbagg'), ('lacquey', 'sacculat'), ('mordant', 'zigg'), ('trust', 'unlocaliz'), ('brin', 'pillori'), ('babi', 'polymeris'), ('damag', 'roof'), ('mim', 'horsewe'), ('intitul', 'conn'), ('tranquilliz', 'superabound'), ('borat', 'moisturiz'), ('mummifi', 'disfigur'), ('ooz', 'ruffl'), ('freebas', 'redefi'), ('wend', 'oversophisticat'), ('percuss', 'inarch'), ('outsham', 'riprapp'), ('suppl', 'epigrammatiz'), ('trichiniz', 'truffl'), ('toast', 'impersonaliz'), ('firewe', 'impersonaliz'), ('unpil', 'unintend'), ('supp', 'junket'), ('boil', 'unlevell'), ('bistr', 'superabound'), ('thirl', 'germaniz'), ('march', 'beflower'), ('deworm', 'hyperlink'), ('plonk', 'forearm'), ('diviniz', 'sacculat'), ('misrul', 'obeliz'), ('seam', 'sacculat'), ('midsiz', 'riprapp'), ('petal', 'off'), ('rubberneck', 'abscess'), ('pargett', 'forearm'), ('quoin', 'unlocaliz'), ('prewrapp', 'germaniz'), ('rescind', 'doil'), ('disseminat', 'basifi'), ('echo', 'diadem'), ('detract', 'brail'), ('unyean', 'unhallow'), ('holyston', 'basifi'), ('progg', 'resin'), ('backhand', 'scowl'), ('scrumm', 'flubb'), ('towhead', 'remediat'), ('redubb', 'stockpil'), ('outliv', 'conglobat'), ('woman', 'paw'), ('chaperon', 'retool'), ('feminis', 'outsnor'), ('rotat', 'outpray'), ('bemuddl', 'trepann'), ('retighten', 'unmelt'), ('bradd', 'boldfac'), ('portray', 'incarnadin'), ('keel', 'queu'), ('irradiat', 'unlocaliz'), ('replat', 'liquifi'), ('wrath', 'fasten'), ('dialogu', 'unlevell'), ('spectacl', 'inarch'), ('giftwrapp', 'resin'), ('straightjacket', 'impersonaliz'), ('espous', 'embrittl'), ('exorcis', 'unhallow'), ('bubblehead', 'resin'), ('rescal', 'unsaddl'), ('lub', 'bend'), ('cock', 'stockpil'), ('polymeris', 'unclaim'), ('ballast', 'wrack'), ('pos', 'embosk'), ('resin', 'reaffirm'), ('grandstand', 'polymeris'), ('cluster', 'repris'), ('firm', 'liquifi'), ('overgraz', 'unmelt'), ('ashlar', 'figg'), ('articulat', 'spool'), ('graeciz', 'embrittl'), ('abscess', 'misassembl'), ('forgather', 'portray'), ('furbish', 'auction'), ('outtrick', 'cap'), ('enregister', 'unintend'), ('misl', 'catalog'), ('reshow', 'escot'), ('stylis', 'junket'), ('mother', 'prewrapp'), ('reaccus', 'impersonaliz'), ('bruit', 'hyperlink'), ('truncat', 'noninfest'), ('deoxygenat', 'redefi'), ('cre', 'polymeris'), ('balloon', 'bubblehead'), ('shitt', 'flitter'), ('inwrapp', 'underlapp'), ('emulat', 'moult'), ('skiddoo', 'embrittl'), ('brazen', 'overdetermin'), ('unvalu', 'hyperlink'), ('caper', 'reaccus'), ('attorn', 'spool'), ('subven', 'holyston'), ('ruffl', 'waver'), ('unseparat', 'unlocaliz'), ('beflower', 'misassembl'), ('pluck', 'skew'), ('dishearten', 'abscess'), ('resketch', 'repris'), ('ponder', 'valoriz'), ('shrivell', 'bowell'), ('beblood', 'garment'), ('pinch', 'rummag'), ('preclud', 'begrimm'), ('brigad', 'forearm'), ('mildew', 'intromitt'), ('spicat', 'plicat'), ('rook', 'basifi'), ('substitut', 'leotard'), ('brail', 'annualiz'), ('brattic', 'deed'), ('terrac', 'noninfest'), ('moralis', 'riprapp'), ('embosk', 'escot'), ('epigrammatiz', 'escot'), ('hutch', 'liquat'), ('derail', 'rummag'), ('nonhandicapp', 'menac'), ('rebuff', 'allse'), ('annualiz', 'hinder'), ('bench', 'estreat'), ('rehang', 'contribut'), ('channell', 'conglobat'), ('stok', 'diadem'), ('depopulat', 'blarney'), ('tiller', 'uninfluenc'), ('rais', 'replung'), ('moonfac', 'unmelt'), ('undeform', 'congest'), ('disentangl', 'moisturiz'), ('nonmatriculat', 'pillori'), ('spor', 'junket'), ('routiniz', 'basifi'), ('consummat', 'preclud'), ('reconquer', 'unmelt'), ('brut', 'horsewe'), ('slubber', 'pillori'), ('pickeer', 'interweav'), ('despis', 'antevert'), ('frazzl', 'invest'), ('unbosom', 'hyperlink'), ('cantilever', 'mummifi'), ('rap', 'poop'), ('unclutter', 'stok'), ('collimat', 'unhallow'), ('alphabetiz', 'fang'), ('authoriz', 'unsaddl'), ('oblig', 'hobnail'), ('result', 'butter'), ('unquot', 'offload'), ('doglegg', 'doil'), ('nondiversifi', 'freebas'), ('underestimat', 'engorg'), ('brachiat', 'remediat'), ('unkennel', 'substitut'), ('concatenat', 'demystifi'), ('canopi', 'abscess'), ('off', 'repeal'), ('backhaul', 'demystifi'), ('perfum', 'hinder'), ('downshift', 'cameo'), ('grip', 'noninfest'), ('quibbl', 'collimat'), ('bowell', 'basifi'), ('snogg', 'renest'), ('panel', 'overdetermin'), ('parrot', 'unmelt'), ('humbl', 'pickeer'), ('cavalier', 'inflam'), ('enplan', 'figg'), ('mislearn', 'foment'), ('nonrestrict', 'remediat'), ('reinstitut', 'proselytis'), ('nonirrigat', 'moult'), ('basifi', 'hyperlink'), ('stoutheart', 'brail'), ('smash', 'broil'), ('locomot', 'unintend'), ('explicat', 'sacculat'), ('forearm', 'flubb'), ('jounc', 'knoll'), ('prov', 'stoutheart'), ('extenuat', 'oblig'), ('abscis', 'disyok'), ('fatten', 'truncat'), ('centrifug', 'knoll'), ('premier', 'blister'), ('regroom', 'gross'), ('desugar', 'unintend'), ('scuttl', 'diadem'), ('carnifi', 'metriciz'), ('canker', 'sacculat'), ('dott', 'paw'), ('innervat', 'smirch'), ('oxygenat', 'horsewe'), ('utter', 'escot'), ('facelift', 'renumber'), ('sandal', 'brattic'), ('underf', 'flood'), ('estreat', 'redefi'), ('crutch', 'pedicl'), ('aroynt', 'remediat'), ('reestimat', 'junket'), ('garment', 'scrap'), ('emend', 'escot'), ('uncak', 'brazen'), ('sleeken', 'germaniz'), ('skimp', 'rehang'), ('hawk', 'mildew'), ('cleav', 'inflam'), ('hirsl', 'resin'), ('maim', 'thron'), ('deathb', 'unintend'), ('invest', 'brazen'), ('interknitt', 'repatriat'), ('truffl', 'moisturiz'), ('overdetermin', 'forearm'), ('nonconcurr', 'freebas'), ('congest', 'misaton'), ('immunocompromis', 'drov'), ('deleav', 'canker'), ('fasten', 'outsham'), ('unshipp', 'unmelt'), ('cottonse', 'redefi'), ('trepann', 'spad'), ('decision', 'teat'), ('beam', 'transmogrifi'), ('stook', 'comment'), ('spad', 'unmelt'), ('openmouth', 'unshipp'), ('goad', 'uninfluenc'), ('conferr', 'unclaim'), ('overturn', 'noninfest'), ('recomb', 'paw'), ('embrittl', 'estreat'), ('clack', 'disrat'), ('inquiet', 'renumber'), ('liquat', 'deed'), ('grift', 'escot'), ('activat', 'sacculat'), ('putter', 'paw'), ('xerox', 'outpray'), ('bemedall', 'utter'), ('dot', 'preclud'), ('fawn', 'lipstick'), ('quarter', 'congest'), ('reverb', 'comment'), ('manur', 'leap'), ('align', 'flubb'), ('bicycl', 'liberalis'), ('timber', 'comment'), ('recalculat', 'stockpil'), ('inflect', 'tower'), ('freehand', 'stook'), ('adhibit', 'unlocaliz'), ('ball', 'embosk'), ('grappl', 'moonfac'), ('brib', 'timber'), ('crat', 'allse'), ('deadpann', 'underlapp'), ('ramrodd', 'rummag'), ('mobb', 'retrogress'), ('retrimm', 'escot'), ('flatb', 'stok'), ('ruck', 'preclud'), ('retun', 'reestimat'), ('miscatalog', 'plicat'), ('fatigu', 'sacculat'), ('pranc', 'unsaddl'), ('unattun', 'misassembl'), ('thermoform', 'redefi'), ('prespecifi', 'basifi'), ('blemish', 'redefi'), ('unhallow', 'unintend'), ('caddi', 'oversophisticat'), ('noninfest', 'outearn'), ('skew', 'repeal'), ('refuel', 'horsewe'), ('solv', 'skew'), ('platiniz', 'deed'), ('bluff', 'departmentaliz'), ('inscrib', 'hunker'), ('bilg', 'repatriat'), ('masturbat', 'grid'), ('counterfir', 'innervat'), ('milksh', 'flubb'), ('overorganiz', 'estreat'), ('lisp', 'rehang'), ('hinder', 'departmentaliz'), ('pedicl', 'demystifi'), ('copyright', 'catalog'), ('speck', 'germaniz'), ('coalsh', 'germaniz'), ('lengthen', 'fasten'), ('gratifi', 'mildew'), ('chickenheart', 'liquifi'), ('bulldoz', 'unintend'), ('eradiat', 'sacculat'), ('reaffirm', 'superabound'), ('mentor', 'moult'), ('petall', 'rehang'), ('featherhead', 'pock'), ('impearl', 'unequall'), ('outpull', 'antevert'), ('celebrat', 'despiritualiz'), ('reenact', 'flubb'), ('scrimp', 'pillori'), ('enroot', 'stringhalt'), ('immunoprecipitat', 'repatriat'), ('overdar', 'featherhead'), ('replung', 'fasten'), ('ax', 'oversophisticat'), ('draft', 'cap'), ('blunt', 'canker'), ('renest', 'flubb'), ('unsear', 'stringhalt'), ('moisturiz', 'slubber'), ('hyperlink', 'junket'), ('swoosh', 'unsaddl'), ('specialis', 'plicat'), ('linse', 'fasten'), ('persecut', 'outgnaw'), ('intromitt', 'departmentaliz'), ('leotard', 'pillori'), ('faradis', 'uninfluenc'), ('overtipp', 'skew'), ('bunker', 'plicat'), ('foment', 'deed'), ('impact', 'uncoalesc'), ('studi', 'deav'), ('banquet', 'junket'), ('accomplish', 'repeal'), ('crumbl', 'fam'), ('vitiat', 'paw'), ('unadmitt', 'collimat'), ('barnstorm', 'pillori'), ('geometris', 'rehang'), ('arabiz', 'outsham'), ('subsaturat', 'unfill'), ('denounc', 'unintend'), ('engorg', 'strangulat'), ('reinjur', 'misassembl'), ('remediat', 'diadem'), ('bend', 'grift'), ('cramm', 'conglobat'), ('misassembl', 'departmentaliz'), ('capsiz', 'theologis'), ('redefi', 'incarnadin'), ('rebalanc', 'remount'), ('perish', 'inarch'), ('dictat', 'reconquer'), ('sepulcher', 'pedicl'), ('cherish', 'germaniz'), ('oppos', 'unseparat'), ('preelect', 'reconquer'), ('prewarn', 'collimat'), ('wick', 'embrittl'), ('scratch', 'liquifi'), ('jeep', 'featherhead'), ('tin', 'liquifi'), ('consol', 'supercool'), ('lollygagg', 'hunker'), ('militat', 'brattic'), ('marbl', 'obeliz'), ('inthron', 'hinder'), ('overstrew', 'reaffirm'), ('enervat', 'unmelt'), ('leech', 'mordant'), ('catalog', 'sacculat'), ('modernis', 'noncertificat'), ('outsoar', 'parasitis'), ('sanctifi', 'inarch'), ('incit', 'intromitt'), ('overload', 'underlapp'), ('moult', 'unintend'), ('inflam', 'disyok'), ('demystifi', 'weevil'), ('overfavor', 'renovat'), ('oversuppli', 'leotard'), ('remeasur', 'unintend'), ('believ', 'basifi'), ('detach', 'stringhalt'), ('fantasis', 'brattic'), ('embow', 'hinder'), ('rebre', 'diadem'), ('colocat', 'beflower'), ('remitt', 'menac'), ('incarnadin', 'hamm'), ('vaniti', 'inflam'), ('inarch', 'liberalis'), ('uncoalesc', 'junket'), ('maul', 'moonfac'), ('footslogg', 'brazen'), ('gell', 'reconquer'), ('unequall', 'brattic'), ('cameo', 'broil'), ('obeliz', 'junket'), ('unanticipat', 'disfigur'), ('allow', 'liberalis'), ('theologis', 'escot'), ('preempt', 'deed'), ('overtim', 'smash'), ('butter', 'consol'), ('divid', 'recommission'), ('crevass', 'stok'), ('socket', 'leap'), ('ignifi', 'mildew'), ('cadg', 'escot'), ('unsham', 'hunker'), ('gross', 'intromitt'), ('revolt', 'liquifi'), ('reconfigur', 'trepann'), ('grid', 'featherhead'), ('sandbagg', 'deed'), ('strangulat', 'hyperlink'), ('octupl', 'unsaddl'), ('fuel', 'recalculat'), ('meddl', 'brattic'), ('explor', 'weevil'), ('unclaim', 'flubb'), ('misshap', 'unmelt')]\n"
     ]
    }
   ],
   "source": [
    "ytrain = one_hot(labelstrain)\n",
    "model = closed_form_train(Xtrain, ytrain, reg=0.1)\n",
    "pred_labels_train = predict(model, Xtrain)\n",
    "accuracy = accuracy_score(labelstrain, pred_labels_train)\n",
    "print accuracy\n",
    "#print(\"Train accuracy: {0}\".format(accuracy_score(labelstrain, pred_labels_train)))"
   ]
  },
  {
   "cell_type": "code",
   "execution_count": null,
   "metadata": {
    "collapsed": true
   },
   "outputs": [],
   "source": [
    "# DO NOT GO BELOW THIS ARGH"
   ]
  },
  {
   "cell_type": "code",
   "execution_count": 46,
   "metadata": {
    "collapsed": true
   },
   "outputs": [],
   "source": [
    "# stage 2. initial prediction\n",
    "# https://github.com/stephencwelch/Neural-Networks-Demystified\n",
    "#New complete class, with changes:\n",
    "class Neural_Network(object):\n",
    "    def __init__(self, Lambda=0):        \n",
    "        #Define Hyperparameters\n",
    "        self.inputLayerSize = 2\n",
    "        self.outputLayerSize = 1\n",
    "        self.hiddenLayerSize = 3\n",
    "        \n",
    "        #Weights (parameters)\n",
    "        self.W1 = np.random.randn(self.inputLayerSize,self.hiddenLayerSize)\n",
    "        self.W2 = np.random.randn(self.hiddenLayerSize,self.outputLayerSize)\n",
    "        \n",
    "        #Regularization Parameter:\n",
    "        self.Lambda = Lambda\n",
    "        \n",
    "    def forward(self, X):\n",
    "        #Propogate inputs though network\n",
    "        self.z2 = np.dot(X, self.W1)\n",
    "        self.a2 = self.sigmoid(self.z2)\n",
    "        self.z3 = np.dot(self.a2, self.W2)\n",
    "        yHat = self.sigmoid(self.z3) \n",
    "        return yHat\n",
    "        \n",
    "    def sigmoid(self, z):\n",
    "        #Apply sigmoid activation function to scalar, vector, or matrix\n",
    "        return 1/(1+np.exp(-z))\n",
    "    \n",
    "    def sigmoidPrime(self,z):\n",
    "        #Gradient of sigmoid\n",
    "        return np.exp(-z)/((1+np.exp(-z))**2)\n",
    "    \n",
    "    def costFunction(self, X, y):\n",
    "        #Compute cost for given X,y, use weights already stored in class.\n",
    "        self.yHat = self.forward(X)\n",
    "        J = 0.5*sum((y-self.yHat)**2)/X.shape[0] + (self.Lambda/2)*(np.sum(self.W1**2)+np.sum(self.W2**2))\n",
    "        return J\n",
    "        \n",
    "    def costFunctionPrime(self, X, y):\n",
    "        #Compute derivative with respect to W and W2 for a given X and y:\n",
    "        self.yHat = self.forward(X)\n",
    "        \n",
    "        delta3 = np.multiply(-(y-self.yHat), self.sigmoidPrime(self.z3))\n",
    "        #Add gradient of regularization term:\n",
    "        dJdW2 = np.dot(self.a2.T, delta3)/X.shape[0] + self.Lambda*self.W2\n",
    "        \n",
    "        delta2 = np.dot(delta3, self.W2.T)*self.sigmoidPrime(self.z2)\n",
    "        #Add gradient of regularization term:\n",
    "        dJdW1 = np.dot(X.T, delta2)/X.shape[0] + self.Lambda*self.W1\n",
    "        \n",
    "        return dJdW1, dJdW2\n",
    "    \n",
    "    #Helper functions for interacting with other methods/classes\n",
    "    def getParams(self):\n",
    "        #Get W1 and W2 Rolled into vector:\n",
    "        params = np.concatenate((self.W1.ravel(), self.W2.ravel()))\n",
    "        return params\n",
    "    \n",
    "    def setParams(self, params):\n",
    "        #Set W1 and W2 using single parameter vector:\n",
    "        W1_start = 0\n",
    "        W1_end = self.hiddenLayerSize*self.inputLayerSize\n",
    "        self.W1 = np.reshape(params[W1_start:W1_end], \\\n",
    "                             (self.inputLayerSize, self.hiddenLayerSize))\n",
    "        W2_end = W1_end + self.hiddenLayerSize*self.outputLayerSize\n",
    "        self.W2 = np.reshape(params[W1_end:W2_end], \\\n",
    "                             (self.hiddenLayerSize, self.outputLayerSize))\n",
    "        \n",
    "    def computeGradients(self, X, y):\n",
    "        dJdW1, dJdW2 = self.costFunctionPrime(X, y)\n",
    "        return np.concatenate((dJdW1.ravel(), dJdW2.ravel()))\n",
    "    \n",
    "##Need to modify trainer class a bit to check testing error during training:\n",
    "class trainer(object):\n",
    "    def __init__(self, N):\n",
    "        #Make Local reference to network:\n",
    "        self.N = N\n",
    "        \n",
    "    def callbackF(self, params):\n",
    "        self.N.setParams(params)\n",
    "        self.J.append(self.N.costFunction(self.X, self.y))\n",
    "        self.testJ.append(self.N.costFunction(self.testX, self.testY))\n",
    "        \n",
    "    def costFunctionWrapper(self, params, X, y):\n",
    "        self.N.setParams(params)\n",
    "        cost = self.N.costFunction(X, y)\n",
    "        grad = self.N.computeGradients(X,y)\n",
    "        \n",
    "        return cost, grad\n",
    "        \n",
    "    def train(self, trainX, trainY, testX, testY):\n",
    "        #Make an internal variable for the callback function:\n",
    "        self.X = trainX\n",
    "        self.y = trainY\n",
    "        \n",
    "        self.testX = testX\n",
    "        self.testY = testY\n",
    "\n",
    "        #Make empty list to store training costs:\n",
    "        self.J = []\n",
    "        self.testJ = []\n",
    "        \n",
    "        params0 = self.N.getParams()\n",
    "\n",
    "        options = {'maxiter': 200, 'disp' : True}\n",
    "        _res = optimize.minimize(self.costFunctionWrapper, params0, jac=True, method='BFGS', \\\n",
    "                                 args=(trainX, trainY), options=options, callback=self.callbackF)\n",
    "\n",
    "        self.N.setParams(_res.x)\n",
    "        self.optimizationResults = _res\n"
   ]
  },
  {
   "cell_type": "code",
   "execution_count": 52,
   "metadata": {
    "collapsed": false
   },
   "outputs": [
    {
     "name": "stdout",
     "output_type": "stream",
     "text": [
      "(10, 10000)\n",
      "(10, 1)\n"
     ]
    }
   ],
   "source": [
    "# ed is type 1, non ed is type 0\n",
    "X = get_training_set(10, \"wickle_train/\", \"ed\", \"ed.txt\")\n",
    "y = np.ones((10,1))\n",
    "print X.shape\n",
    "print y.shape"
   ]
  },
  {
   "cell_type": "code",
   "execution_count": 48,
   "metadata": {
    "collapsed": true
   },
   "outputs": [],
   "source": [
    "#Lambda: regularization parameter\n",
    "NN = Neural_Network(Lambda=0.0001)"
   ]
  },
  {
   "cell_type": "code",
   "execution_count": 49,
   "metadata": {
    "collapsed": true
   },
   "outputs": [],
   "source": [
    "T = trainer(NN)"
   ]
  },
  {
   "cell_type": "code",
   "execution_count": 50,
   "metadata": {
    "collapsed": false
   },
   "outputs": [
    {
     "ename": "MemoryError",
     "evalue": "",
     "output_type": "error",
     "traceback": [
      "\u001b[0;31m---------------------------------------------------------------------------\u001b[0m",
      "\u001b[0;31mMemoryError\u001b[0m                               Traceback (most recent call last)",
      "\u001b[0;32m<ipython-input-50-76c0e4cfeaea>\u001b[0m in \u001b[0;36m<module>\u001b[0;34m()\u001b[0m\n\u001b[0;32m----> 1\u001b[0;31m \u001b[0mT\u001b[0m\u001b[0;34m.\u001b[0m\u001b[0mtrain\u001b[0m\u001b[0;34m(\u001b[0m\u001b[0mX\u001b[0m\u001b[0;34m,\u001b[0m\u001b[0my\u001b[0m\u001b[0;34m)\u001b[0m\u001b[0;34m\u001b[0m\u001b[0m\n\u001b[0m",
      "\u001b[0;32m<ipython-input-46-deaa32e47f7c>\u001b[0m in \u001b[0;36mtrain\u001b[0;34m(self, X, y)\u001b[0m\n\u001b[1;32m    118\u001b[0m \u001b[0;34m\u001b[0m\u001b[0m\n\u001b[1;32m    119\u001b[0m         \u001b[0moptions\u001b[0m \u001b[0;34m=\u001b[0m \u001b[0;34m{\u001b[0m\u001b[0;34m'maxiter'\u001b[0m\u001b[0;34m:\u001b[0m \u001b[0;36m200\u001b[0m\u001b[0;34m,\u001b[0m \u001b[0;34m'disp'\u001b[0m \u001b[0;34m:\u001b[0m \u001b[0mTrue\u001b[0m\u001b[0;34m}\u001b[0m\u001b[0;34m\u001b[0m\u001b[0m\n\u001b[0;32m--> 120\u001b[0;31m         \u001b[0m_res\u001b[0m \u001b[0;34m=\u001b[0m \u001b[0moptimize\u001b[0m\u001b[0;34m.\u001b[0m\u001b[0mminimize\u001b[0m\u001b[0;34m(\u001b[0m\u001b[0mself\u001b[0m\u001b[0;34m.\u001b[0m\u001b[0mcostFunctionWrapper\u001b[0m\u001b[0;34m,\u001b[0m \u001b[0mparams0\u001b[0m\u001b[0;34m,\u001b[0m \u001b[0mjac\u001b[0m\u001b[0;34m=\u001b[0m\u001b[0mTrue\u001b[0m\u001b[0;34m,\u001b[0m \u001b[0mmethod\u001b[0m\u001b[0;34m=\u001b[0m\u001b[0;34m'BFGS'\u001b[0m\u001b[0;34m,\u001b[0m                                  \u001b[0margs\u001b[0m\u001b[0;34m=\u001b[0m\u001b[0;34m(\u001b[0m\u001b[0mX\u001b[0m\u001b[0;34m,\u001b[0m \u001b[0my\u001b[0m\u001b[0;34m)\u001b[0m\u001b[0;34m,\u001b[0m \u001b[0moptions\u001b[0m\u001b[0;34m=\u001b[0m\u001b[0moptions\u001b[0m\u001b[0;34m,\u001b[0m \u001b[0mcallback\u001b[0m\u001b[0;34m=\u001b[0m\u001b[0mself\u001b[0m\u001b[0;34m.\u001b[0m\u001b[0mcallbackF\u001b[0m\u001b[0;34m)\u001b[0m\u001b[0;34m\u001b[0m\u001b[0m\n\u001b[0m\u001b[1;32m    121\u001b[0m \u001b[0;34m\u001b[0m\u001b[0m\n\u001b[1;32m    122\u001b[0m         \u001b[0mself\u001b[0m\u001b[0;34m.\u001b[0m\u001b[0mN\u001b[0m\u001b[0;34m.\u001b[0m\u001b[0msetParams\u001b[0m\u001b[0;34m(\u001b[0m\u001b[0m_res\u001b[0m\u001b[0;34m.\u001b[0m\u001b[0mx\u001b[0m\u001b[0;34m)\u001b[0m\u001b[0;34m\u001b[0m\u001b[0m\n",
      "\u001b[0;32m/Users/quinntran/anaconda/lib/python2.7/site-packages/scipy/optimize/_minimize.pyc\u001b[0m in \u001b[0;36mminimize\u001b[0;34m(fun, x0, args, method, jac, hess, hessp, bounds, constraints, tol, callback, options)\u001b[0m\n\u001b[1;32m    442\u001b[0m         \u001b[0;32mreturn\u001b[0m \u001b[0m_minimize_cg\u001b[0m\u001b[0;34m(\u001b[0m\u001b[0mfun\u001b[0m\u001b[0;34m,\u001b[0m \u001b[0mx0\u001b[0m\u001b[0;34m,\u001b[0m \u001b[0margs\u001b[0m\u001b[0;34m,\u001b[0m \u001b[0mjac\u001b[0m\u001b[0;34m,\u001b[0m \u001b[0mcallback\u001b[0m\u001b[0;34m,\u001b[0m \u001b[0;34m**\u001b[0m\u001b[0moptions\u001b[0m\u001b[0;34m)\u001b[0m\u001b[0;34m\u001b[0m\u001b[0m\n\u001b[1;32m    443\u001b[0m     \u001b[0;32melif\u001b[0m \u001b[0mmeth\u001b[0m \u001b[0;34m==\u001b[0m \u001b[0;34m'bfgs'\u001b[0m\u001b[0;34m:\u001b[0m\u001b[0;34m\u001b[0m\u001b[0m\n\u001b[0;32m--> 444\u001b[0;31m         \u001b[0;32mreturn\u001b[0m \u001b[0m_minimize_bfgs\u001b[0m\u001b[0;34m(\u001b[0m\u001b[0mfun\u001b[0m\u001b[0;34m,\u001b[0m \u001b[0mx0\u001b[0m\u001b[0;34m,\u001b[0m \u001b[0margs\u001b[0m\u001b[0;34m,\u001b[0m \u001b[0mjac\u001b[0m\u001b[0;34m,\u001b[0m \u001b[0mcallback\u001b[0m\u001b[0;34m,\u001b[0m \u001b[0;34m**\u001b[0m\u001b[0moptions\u001b[0m\u001b[0;34m)\u001b[0m\u001b[0;34m\u001b[0m\u001b[0m\n\u001b[0m\u001b[1;32m    445\u001b[0m     \u001b[0;32melif\u001b[0m \u001b[0mmeth\u001b[0m \u001b[0;34m==\u001b[0m \u001b[0;34m'newton-cg'\u001b[0m\u001b[0;34m:\u001b[0m\u001b[0;34m\u001b[0m\u001b[0m\n\u001b[1;32m    446\u001b[0m         return _minimize_newtoncg(fun, x0, args, jac, hess, hessp, callback,\n",
      "\u001b[0;32m/Users/quinntran/anaconda/lib/python2.7/site-packages/scipy/optimize/optimize.pyc\u001b[0m in \u001b[0;36m_minimize_bfgs\u001b[0;34m(fun, x0, args, jac, callback, gtol, norm, eps, maxiter, disp, return_all, **unknown_options)\u001b[0m\n\u001b[1;32m    914\u001b[0m     \u001b[0mk\u001b[0m \u001b[0;34m=\u001b[0m \u001b[0;36m0\u001b[0m\u001b[0;34m\u001b[0m\u001b[0m\n\u001b[1;32m    915\u001b[0m     \u001b[0mN\u001b[0m \u001b[0;34m=\u001b[0m \u001b[0mlen\u001b[0m\u001b[0;34m(\u001b[0m\u001b[0mx0\u001b[0m\u001b[0;34m)\u001b[0m\u001b[0;34m\u001b[0m\u001b[0m\n\u001b[0;32m--> 916\u001b[0;31m     \u001b[0mI\u001b[0m \u001b[0;34m=\u001b[0m \u001b[0mnumpy\u001b[0m\u001b[0;34m.\u001b[0m\u001b[0meye\u001b[0m\u001b[0;34m(\u001b[0m\u001b[0mN\u001b[0m\u001b[0;34m,\u001b[0m \u001b[0mdtype\u001b[0m\u001b[0;34m=\u001b[0m\u001b[0mint\u001b[0m\u001b[0;34m)\u001b[0m\u001b[0;34m\u001b[0m\u001b[0m\n\u001b[0m\u001b[1;32m    917\u001b[0m     \u001b[0mHk\u001b[0m \u001b[0;34m=\u001b[0m \u001b[0mI\u001b[0m\u001b[0;34m\u001b[0m\u001b[0m\n\u001b[1;32m    918\u001b[0m \u001b[0;34m\u001b[0m\u001b[0m\n",
      "\u001b[0;32m/Users/quinntran/anaconda/lib/python2.7/site-packages/numpy/lib/twodim_base.pyc\u001b[0m in \u001b[0;36meye\u001b[0;34m(N, M, k, dtype)\u001b[0m\n\u001b[1;32m    231\u001b[0m     \u001b[0;32mif\u001b[0m \u001b[0mM\u001b[0m \u001b[0;32mis\u001b[0m \u001b[0mNone\u001b[0m\u001b[0;34m:\u001b[0m\u001b[0;34m\u001b[0m\u001b[0m\n\u001b[1;32m    232\u001b[0m         \u001b[0mM\u001b[0m \u001b[0;34m=\u001b[0m \u001b[0mN\u001b[0m\u001b[0;34m\u001b[0m\u001b[0m\n\u001b[0;32m--> 233\u001b[0;31m     \u001b[0mm\u001b[0m \u001b[0;34m=\u001b[0m \u001b[0mzeros\u001b[0m\u001b[0;34m(\u001b[0m\u001b[0;34m(\u001b[0m\u001b[0mN\u001b[0m\u001b[0;34m,\u001b[0m \u001b[0mM\u001b[0m\u001b[0;34m)\u001b[0m\u001b[0;34m,\u001b[0m \u001b[0mdtype\u001b[0m\u001b[0;34m=\u001b[0m\u001b[0mdtype\u001b[0m\u001b[0;34m)\u001b[0m\u001b[0;34m\u001b[0m\u001b[0m\n\u001b[0m\u001b[1;32m    234\u001b[0m     \u001b[0;32mif\u001b[0m \u001b[0mk\u001b[0m \u001b[0;34m>=\u001b[0m \u001b[0mM\u001b[0m\u001b[0;34m:\u001b[0m\u001b[0;34m\u001b[0m\u001b[0m\n\u001b[1;32m    235\u001b[0m         \u001b[0;32mreturn\u001b[0m \u001b[0mm\u001b[0m\u001b[0;34m\u001b[0m\u001b[0m\n",
      "\u001b[0;31mMemoryError\u001b[0m: "
     ]
    }
   ],
   "source": [
    "T.train(X,y)"
   ]
  },
  {
   "cell_type": "code",
   "execution_count": null,
   "metadata": {
    "collapsed": true
   },
   "outputs": [],
   "source": [
    "plot(T.J)\n",
    "grid(1)\n",
    "xlabel('Iterations')\n",
    "ylabel('Cost')"
   ]
  },
  {
   "cell_type": "code",
   "execution_count": null,
   "metadata": {
    "collapsed": true
   },
   "outputs": [],
   "source": [
    "NN.costFunctionPrime(X,y)"
   ]
  },
  {
   "cell_type": "code",
   "execution_count": null,
   "metadata": {
    "collapsed": true
   },
   "outputs": [],
   "source": [
    "NN.forward(X)"
   ]
  },
  {
   "cell_type": "code",
   "execution_count": null,
   "metadata": {
    "collapsed": true
   },
   "outputs": [],
   "source": [
    "y"
   ]
  },
  {
   "cell_type": "code",
   "execution_count": null,
   "metadata": {
    "collapsed": true
   },
   "outputs": [],
   "source": [
    "#Plot cost during training:\n",
    "plot(T.J)\n",
    "plot(T.testJ)\n",
    "grid(1)\n",
    "xlabel('Iterations')\n",
    "ylabel('Cost')"
   ]
  },
  {
   "cell_type": "code",
   "execution_count": null,
   "metadata": {
    "collapsed": true
   },
   "outputs": [],
   "source": [
    "#Make sure our gradients our correct after making changes:\n",
    "numgrad = computeNumericalGradient(NN, X, y)\n",
    "grad = NN.computeGradients(X,y)"
   ]
  },
  {
   "cell_type": "code",
   "execution_count": null,
   "metadata": {
    "collapsed": true
   },
   "outputs": [],
   "source": [
    "#Should be less than 1e-8:\n",
    "norm(grad-numgrad)/norm(grad+numgrad)"
   ]
  },
  {
   "cell_type": "code",
   "execution_count": 4,
   "metadata": {
    "collapsed": false
   },
   "outputs": [
    {
     "name": "stdout",
     "output_type": "stream",
     "text": [
      "['arose', 'awoke', 'was', 'bore', 'beat', 'became', 'began', 'bent', 'bet', 'bit', 'bled', 'blew', 'broke', 'brought', 'built', 'burned', 'burst', 'bought', 'caught', 'chose', 'clung', 'came', 'cost', 'crept', 'cut', 'dealt', 'dug', 'dived', 'did', 'drew', 'dreamed', 'drank', 'drove', 'ate', 'fell', 'fed', 'felt', 'fought', 'found', 'fitted', 'fled', 'flung', 'flew', 'forbade', 'forgot', 'forgave', 'forwent', 'froze', 'got', 'gave', 'went', 'ground', 'grew', 'hanged', 'had', 'heard', 'hid', 'hit', 'held', 'hurt', 'kept', 'kneeled', 'knitted', 'knew', 'laid', 'led', 'leaped', 'left', 'lent', 'let', 'lay', 'lighted', 'lost', 'made', 'meant', 'met', 'paid', 'proved', 'put', 'quit', 'read', 'rode', 'rang', 'rose', 'ran', 'sawed', 'said', 'saw', 'sought', 'sold', 'sent', 'set', 'sewed', 'shook', 'shaved', 'sheared', 'shined', 'shot', 'showed', 'shrank', 'shut', 'sang', 'sank', 'sat', 'slew', 'slept', 'slid', 'sneaked', 'spoke', 'sped', 'spent', 'spilled', 'spun', 'spat', 'split', 'spread', 'sprang', 'stood', 'stole', 'stuck', 'stung', 'stank', 'strewed', 'struck', 'strived', 'swore', 'swept', 'swam', 'swung', 'took', 'taught', 'tore', 'told', 'thought', 'thrived', 'threw', 'underwent', 'understood', 'upset', 'waked', 'wore', 'wove', 'wept', 'won', 'wound', 'withdrew', 'wrung', 'wrote']\n"
     ]
    },
    {
     "ename": "ValueError",
     "evalue": "could not broadcast input array from shape (10000) into shape (3)",
     "output_type": "error",
     "traceback": [
      "\u001b[0;31m---------------------------------------------------------------------------\u001b[0m",
      "\u001b[0;31mValueError\u001b[0m                                Traceback (most recent call last)",
      "\u001b[0;32m<ipython-input-4-05f833154e0e>\u001b[0m in \u001b[0;36m<module>\u001b[0;34m()\u001b[0m\n\u001b[1;32m     61\u001b[0m \u001b[0;32mprint\u001b[0m \u001b[0msimple_past\u001b[0m\u001b[0;34m\u001b[0m\u001b[0m\n\u001b[1;32m     62\u001b[0m \u001b[0;32mfor\u001b[0m \u001b[0mword\u001b[0m \u001b[0;32min\u001b[0m \u001b[0msimple_past\u001b[0m\u001b[0;34m:\u001b[0m\u001b[0;34m\u001b[0m\u001b[0m\n\u001b[0;32m---> 63\u001b[0;31m     \u001b[0mwicklefeaturize\u001b[0m\u001b[0;34m(\u001b[0m\u001b[0mword\u001b[0m\u001b[0;34m,\u001b[0m \u001b[0;36m3\u001b[0m\u001b[0;34m)\u001b[0m\u001b[0;34m\u001b[0m\u001b[0m\n\u001b[0m\u001b[1;32m     64\u001b[0m \u001b[0;34m\u001b[0m\u001b[0m\n\u001b[1;32m     65\u001b[0m \u001b[0;31m# -ed type\u001b[0m\u001b[0;34m\u001b[0m\u001b[0;34m\u001b[0m\u001b[0m\n",
      "\u001b[0;32m<ipython-input-4-05f833154e0e>\u001b[0m in \u001b[0;36mwicklefeaturize\u001b[0;34m(past_tense_word, cluster_size)\u001b[0m\n\u001b[1;32m     48\u001b[0m     \u001b[0;32mfor\u001b[0m \u001b[0mi\u001b[0m \u001b[0;32min\u001b[0m \u001b[0mrange\u001b[0m\u001b[0;34m(\u001b[0m\u001b[0mlen\u001b[0m\u001b[0;34m(\u001b[0m\u001b[0mword\u001b[0m\u001b[0;34m)\u001b[0m\u001b[0;34m-\u001b[0m\u001b[0mcluster_size\u001b[0m\u001b[0;34m)\u001b[0m\u001b[0;34m:\u001b[0m\u001b[0;34m\u001b[0m\u001b[0m\n\u001b[1;32m     49\u001b[0m         \u001b[0mngram\u001b[0m \u001b[0;34m=\u001b[0m \u001b[0mword\u001b[0m\u001b[0;34m[\u001b[0m\u001b[0mi\u001b[0m\u001b[0;34m:\u001b[0m\u001b[0mi\u001b[0m\u001b[0;34m+\u001b[0m\u001b[0mcluster_size\u001b[0m\u001b[0;34m]\u001b[0m\u001b[0;34m\u001b[0m\u001b[0m\n\u001b[0;32m---> 50\u001b[0;31m         \u001b[0mwicklefeatures\u001b[0m\u001b[0;34m[\u001b[0m\u001b[0mi\u001b[0m\u001b[0;34m,\u001b[0m\u001b[0;34m:\u001b[0m\u001b[0;34m]\u001b[0m \u001b[0;34m=\u001b[0m \u001b[0mrandom_idx\u001b[0m\u001b[0;34m.\u001b[0m\u001b[0mid_vector\u001b[0m\u001b[0;34m(\u001b[0m\u001b[0mN\u001b[0m\u001b[0;34m,\u001b[0m \u001b[0mngram\u001b[0m\u001b[0;34m,\u001b[0m \u001b[0malphabet\u001b[0m\u001b[0;34m,\u001b[0m \u001b[0mRI_letters\u001b[0m\u001b[0;34m,\u001b[0m\u001b[0mordered\u001b[0m\u001b[0;34m=\u001b[0m\u001b[0;36m0\u001b[0m\u001b[0;34m)\u001b[0m\u001b[0;34m\u001b[0m\u001b[0m\n\u001b[0m\u001b[1;32m     51\u001b[0m     \u001b[0mwicklefeature\u001b[0m \u001b[0;34m=\u001b[0m \u001b[0mnp\u001b[0m\u001b[0;34m.\u001b[0m\u001b[0msum\u001b[0m\u001b[0;34m(\u001b[0m\u001b[0mwicklefeatures\u001b[0m\u001b[0;34m,\u001b[0m \u001b[0maxis\u001b[0m\u001b[0;34m=\u001b[0m\u001b[0;36m0\u001b[0m\u001b[0;34m)\u001b[0m\u001b[0;34m\u001b[0m\u001b[0m\n\u001b[1;32m     52\u001b[0m     \u001b[0mpickle\u001b[0m\u001b[0;34m.\u001b[0m\u001b[0mdump\u001b[0m\u001b[0;34m(\u001b[0m\u001b[0mwicklefeatures\u001b[0m\u001b[0;34m,\u001b[0m \u001b[0mopen\u001b[0m\u001b[0;34m(\u001b[0m\u001b[0;34m\"wickel_training/typed/\"\u001b[0m\u001b[0;34m+\u001b[0m\u001b[0mpast_tense_word\u001b[0m\u001b[0;34m+\u001b[0m\u001b[0;34m\".p\"\u001b[0m\u001b[0;34m,\u001b[0m \u001b[0;34m\"wb\"\u001b[0m\u001b[0;34m)\u001b[0m\u001b[0;34m)\u001b[0m\u001b[0;34m\u001b[0m\u001b[0m\n",
      "\u001b[0;31mValueError\u001b[0m: could not broadcast input array from shape (10000) into shape (3)"
     ]
    }
   ],
   "source": [
    "\n",
    "\n",
    "\"\"\"\n",
    "is an ed verb, then add -ed. \n",
    "\n",
    "so what is the recovery: a direct mapping of word + ed -> word + ed - ed\n",
    "if you have an ed verb but you don't know what necessarily that word is, ...\n",
    "ex) given an ed verb with just its wicklevector\n",
    "\n",
    "\n",
    "\n",
    "\n",
    "the problem with recover is with irregular verbs.\n",
    "\n",
    "\n",
    "# test set is now different\n",
    "# someone clean up test_tense.txt.....\n",
    "test_simple_past = read_examples(\"test_simple_past.txt\")\n",
    "test_tense = read_examples(\"test_tense.txt\")\n",
    "\n",
    "test_simple_present = read_examples(\"test_simple_present.txt\")\n",
    "test_simple_past = read_examples(\"test_simple_past.txt\")\n",
    "\n",
    "\n",
    "# stage 2. predicting tense (regularized, less correct)\n",
    "\n",
    "http://www.myenglishteacher.net/irregular_verbs.html\n",
    "given these few examples, basically 1 example for every rule,\n",
    "generate the past tense for a test word\n",
    "test_tense.txt\n",
    "frequency isn't relevant here because all verbs have frequency ~1\n",
    "\n",
    "n = len(simple_past)\n",
    "d = 10000\n",
    "mu, var = 0, .015\n",
    "noise = np.random.normal(mu, sqrt(var), (n,d))\n",
    "\n",
    "# need the reference for the past tense part of every word argh\n",
    "for i in range(n):\n",
    "    word_hypervec(simple_present[i], alphabet, d)\n",
    "    word_hypervec(simple_past[i], alphabet, d)\n",
    "# model W = weight vectors that represent the part of the word that makes the tense pattern\n",
    "\n",
    "# stage 3. predicting tense, usually correct\n",
    "\n",
    "pg 8 mclellan\n",
    "feature vectors by one hot encoding.\n",
    "how to determine if a verb is irregular or regular. it seems like a specific mapping for irregular. \n",
    "other than -ed and tense endings, what kind of patterns are we using to estimate a verb to a tense?\n",
    "\n",
    "\n",
    "\n",
    "are we running linear regression where the elements of weight vector (every type of tense) determined by gaussians?\n",
    "what would an activation/threshold be?\n",
    "pg 9\n",
    "\n",
    "pg 11: sounds like we're gradient descending\n",
    "\n",
    "One hot encoding means can only store N linearly independent sets of patterns. can introduce noise from a gaussian \n",
    "hyperparameters mu = 0 and variance to have each set represent a general rule so can store more patterns. \n",
    "rule of 78 wat.\n",
    "pg 14\n",
    "\n",
    "enforce logarithmic growth for adding patterns of regular verbs\n",
    "pg 15\n",
    "\n",
    "A scheme which meets the first criterion, but not the second, is the scheme proposed by Wickelgren 0969) .\n",
    "He suggested that words\n",
    "should be represented as sequences of context-sensitive phoneme units\n",
    "which represent each phone in a word as a triple, consisting of the phone itself, its predecessor, and its successor.\n",
    "Notationally, we write each Wickelphone as a triple of phonemes, consisting of the central phoneme,\n",
    "subscripted on the left by its predecessor and on the right by its successor. \n",
    "A phoneme occur- ring at the beginning of a word is preceded by a special symbol (#) standing for the word boundary; \n",
    "pg 18\n",
    "\n",
    "Though the Wickelphones in a word are not strictly position specific , \n",
    "it turns out that (a) few words contain more than one occurrence of any given Wickelphone, \n",
    "and (b) there are no two words we know of that consist of the same sequence of Wickel- phones. \n",
    "For example Islitl and Isiltl contain no Wickelphones in common.\n",
    "One nice property of Wickelphones is that they capture enough of the context in which a phoneme \n",
    "occurs to provide a sufficient basis for differentiating between the different cases of the \n",
    "past-tense rule and for characterizing the contextual variables that determine the subregulari- ties \n",
    "among the irregular past-tense verbs. For example, the word-final phoneme that \n",
    "determines whether we should add Idl, It I or rdl forming the regular past. \n",
    "And it is the sequence iN # which transformed to aN # in the ing ang pattern found in words like sing.\n",
    "The trouble with the Wickelphone solution is that there are too many of them, and they are too specific\n",
    "pg 19\n",
    "\n",
    "for neural net:\n",
    "activation function: sigmoid, wickelphone, relu\n",
    "\n",
    "hat the model captures the basic three-stage pattern of acquisi- tion.\n",
    ". That the model captures most aspects of differences in per- formance on different types of regular and irregular verbs.\n",
    ". That the model is capable of responding appropriately to verbs it has never seen before , as well as to regular and irregular verbs actually experienced during training.\n",
    "The more frequent a verb is, the more likely it is to be a regular verb. \n",
    "pg 25\n",
    "Divide irregular verbs into 9 classes:\n",
    "\n",
    "Verbs that do not change at all to form the past tense.\n",
    "\n",
    "Verbs that change to a final /d/ to /t/ to form the past tense.\n",
    "\n",
    "Verbs that undergo an internal vowel change and also add a final /t/ or /d/.\n",
    "\n",
    "Verbs that undergo an internal vowel change and also a final /t/ or /d/.\n",
    "\n",
    "Verbs that undergo an internal vowel change whose stems end in a dental.\n",
    "\n",
    "Verbs that undergo a an internal vowel change of /i/ or /a/ to /^/.\n",
    "\n",
    "Verbs that undergo a an internal vowel change of /i/ to /a/.\n",
    "\n",
    "All other verbs that undergo an internal vowel change.\n",
    "\n",
    "All verbs that undergo a vowel change and that end in a dipthongal sequence.\n",
    "\n",
    "Divide regular verbs into 3 categories: \n",
    "those ending in a vowel or voiced consonant, which take a /d/ to form the past tense\n",
    "those ending in a voiceless consonant, which take a /d/\n",
    "those ending in /t/ or /d/, which take a final /^d/ to form the past tense\n",
    "\n",
    "how clearly the same patterns evident in the Bybee and Slobin data. Verbs ending in t/d always show a stronger no-change response and a weaker regularized response than those not ending in t/d. During the very early stages of learning, however, the regularized response is stronger than the no-change response-even the verb does end with t/d. This suggests that the generalization that the past tense of tld verbs is formed by adding /^d/ is stronger than the generalization that verbs ending in t/d should not have an ending added. However, as learning proceeds, this secondary generalization is made (though for only a subset of the tl d verbs , as we shall see), and the simulation shows the same interaction that Bybee and Slobin 0982) found iri their preschoolers.\n",
    "\n",
    " pg 35\n",
    "\n",
    "Erroneous no-change responses are clearly stronger for both regular\n",
    "\n",
    "and irregular t/d verbs. that the erroneous no-change responses are stronger for the t/d verbs than for the other types of irregular verbs\n",
    "\n",
    " pg 36\n",
    "\n",
    "\n",
    "\n",
    "Type 1. to have the least errors of irregular verbs\n",
    "\n",
    "Probability of regularization: (base+ed + past+ed) / (base+ed + past+ed + correct)\n",
    "\n",
    "\n",
    "\n",
    "Model should be sensitive to word frequency. guessing that we’re doing some lda shit haha. Their model was always given the present and past tenses together.\n",
    "\n",
    "pg 41\n",
    "\n",
    "\n",
    "\n",
    "pg 42 : Intuition on verb patterns. too much to write lmao\n",
    "\n",
    "pg 43\n",
    "\n",
    "pg 45: response as in what kind of pattern will the past tense version of the verb take. response strength as in frequency of this specific transformation (kind of pattern)\n",
    "\n",
    "pg 46: Examine model’s performance by\n",
    "\n",
    "Overall degree of transfer: how accurately the model generates the correct features of the new verbs.\n",
    "\n",
    " Unconstrained responses: model should not try out a certain set of past tenses for every verb, but should actually estimate the correct tense from a set of all tense patterns (so word patterns not necessarily tenses/ tenses of that word) ???\n",
    "\n",
    "\n",
    "\n",
    "\n",
    "\n",
    "\n",
    "\n",
    "\n",
    "\n",
    "\n",
    "\n",
    "\n",
    "\"\"\"\n",
    "\n"
   ]
  },
  {
   "cell_type": "code",
   "execution_count": null,
   "metadata": {
    "collapsed": true
   },
   "outputs": [],
   "source": []
  }
 ],
 "metadata": {
  "kernelspec": {
   "display_name": "Python 2",
   "language": "python",
   "name": "python2"
  },
  "language_info": {
   "codemirror_mode": {
    "name": "ipython",
    "version": 2
   },
   "file_extension": ".py",
   "mimetype": "text/x-python",
   "name": "python",
   "nbconvert_exporter": "python",
   "pygments_lexer": "ipython2",
   "version": "2.7.11"
  }
 },
 "nbformat": 4,
 "nbformat_minor": 0
}
