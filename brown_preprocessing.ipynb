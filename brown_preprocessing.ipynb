{
 "cells": [
  {
   "cell_type": "code",
   "execution_count": 2,
   "metadata": {
    "collapsed": false
   },
   "outputs": [
    {
     "name": "stdout",
     "output_type": "stream",
     "text": [
      "showing info http://www.nltk.org/nltk_data/\n"
     ]
    },
    {
     "data": {
      "text/plain": [
       "True"
      ]
     },
     "execution_count": 2,
     "metadata": {},
     "output_type": "execute_result"
    }
   ],
   "source": [
    "# to work with phonemes: http://www.nltk.org/_modules/nltk/corpus/reader/cmudict.html\n",
    "# from nltk.corpus import brown\n",
    "# from nltk.corpus import cmudict\n",
    "import nltk\n",
    "nltk.download()"
   ]
  },
  {
   "cell_type": "code",
   "execution_count": 1,
   "metadata": {
    "collapsed": false
   },
   "outputs": [],
   "source": [
    "import csv\n",
    "import nltk\n",
    "from nltk.corpus import brown\n",
    "universal_brown_tagged = brown.tagged_words(tagset='universal')\n",
    "verb_tagged = [(a, b) for (a, b) in universal_brown_tagged if str(b) == \"VERB\"]\n",
    "verb_fd = nltk.FreqDist(word for (word, tag) in verb_tagged)\n",
    "#print verb_fd\n",
    "#print verb_fd.most_common() #list with same dimensions\n",
    "data = [[str(tup[0]), str(tup[1])] for tup in verb_fd.most_common()]\n",
    "             \n",
    "with open('brown_tagged.csv', 'w') as mycsvfile:\n",
    "    thedatawriter = csv.writer(mycsvfile)\n",
    "    for row in data:\n",
    "        thedatawriter.writerow(row)"
   ]
  },
  {
   "cell_type": "code",
   "execution_count": null,
   "metadata": {
    "collapsed": true
   },
   "outputs": [],
   "source": [
    "# heavily used < 1 sd, moderately used < 2sd, least used >= 2sd\n"
   ]
  }
 ],
 "metadata": {
  "kernelspec": {
   "display_name": "Python 2",
   "language": "python",
   "name": "python2"
  },
  "language_info": {
   "codemirror_mode": {
    "name": "ipython",
    "version": 2
   },
   "file_extension": ".py",
   "mimetype": "text/x-python",
   "name": "python",
   "nbconvert_exporter": "python",
   "pygments_lexer": "ipython2",
   "version": "2.7.11"
  }
 },
 "nbformat": 4,
 "nbformat_minor": 0
}
