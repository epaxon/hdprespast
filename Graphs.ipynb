{
 "cells": [
  {
   "cell_type": "code",
   "execution_count": 2,
   "metadata": {
    "collapsed": true
   },
   "outputs": [],
   "source": [
    "import numpy as np\n",
    "import utils\n",
    "import hrr_utils\n",
    "import matplotlib.pyplot as plt\n",
    "%matplotlib inline\n"
   ]
  },
  {
   "cell_type": "code",
   "execution_count": 3,
   "metadata": {
    "collapsed": true
   },
   "outputs": [],
   "source": [
    "\n",
    "past, present, freq = utils.GetRegularVerbs(True)\n",
    "N = 1000"
   ]
  },
  {
   "cell_type": "code",
   "execution_count": 4,
   "metadata": {},
   "outputs": [],
   "source": [
    "dic = hrr_utils.GenerateDefaultDictionary(N)\n",
    "past, present, freq = utils.Shuffle(past, present, freq)\n",
    "test_present = present[:int(len(present)*.2)]\n",
    "test_past = past[:int(len(present)*.2)]\n",
    "\n",
    "train_present=present[int(len(present)*.2):]\n",
    "train_past=past[int(len(present)*.2):]"
   ]
  },
  {
   "cell_type": "code",
   "execution_count": 5,
   "metadata": {
    "collapsed": true
   },
   "outputs": [],
   "source": [
    "def sign_sim(v1, v2):\n",
    "    return np.dot(np.sign(v1), np.sign(v2))/N"
   ]
  },
  {
   "cell_type": "markdown",
   "metadata": {},
   "source": [
    "## Graph 1:\n",
    "N = 1k\n",
    "Unregularized GetRVClipHash\n",
    "\n",
    "One pass over data"
   ]
  },
  {
   "cell_type": "code",
   "execution_count": 39,
   "metadata": {},
   "outputs": [
    {
     "name": "stdout",
     "output_type": "stream",
     "text": [
      "1000.0\n",
      "1\n",
      "1200.0\n",
      "1452.0\n",
      "1520.0\n",
      "2296.0\n",
      "1706.0\n",
      "1786.0\n",
      "2272.0\n",
      "3052.0\n",
      "3226.0\n",
      "898.0\n",
      "3356.0\n",
      "3988.0\n",
      "4518.0\n",
      "4686.0\n",
      "4302.0\n",
      "4686.0\n",
      "5294.0\n",
      "5194.0\n",
      "5426.0\n",
      "6874.0\n",
      "6266.0\n",
      "6802.0\n",
      "7334.0\n",
      "6542.0\n",
      "5108.0\n",
      "6160.0\n",
      "7884.0\n",
      "9224.0\n",
      "7250.0\n",
      "8274.0\n",
      "7614.0\n",
      "7770.0\n",
      "7470.0\n",
      "11506.0\n",
      "11130.0\n",
      "12566.0\n",
      "1382.0\n",
      "10410.0\n",
      "11882.0\n",
      "11378.0\n",
      "6110.0\n",
      "10822.0\n",
      "11822.0\n",
      "13690.0\n",
      "13460.0\n",
      "14848.0\n",
      "11278.0\n",
      "13338.0\n"
     ]
    }
   ],
   "source": [
    "train_mean = []\n",
    "train_std = []\n",
    "test_mean = []\n",
    "test_std = []\n",
    "\n",
    "total_vec = np.zeros(N)\n",
    "\n",
    "# One Pass\n",
    "# train \n",
    "train_past, train_present = utils.Shuffle(train_past, train_present)\n",
    "for _ in range(train_past.shape[0]):\n",
    "    if _%50 == 49:\n",
    "        break\n",
    "    if _%100 == 1:\n",
    "        print _\n",
    "        values = []\n",
    "        for j in range(len(test_past)):\n",
    "            # Test, generalization set\n",
    "            past_vec = hrr_utils.GetRVClipHash(test_past[j], dic)\n",
    "            pres_vec = hrr_utils.GetRVClipHash(test_present[j], dic)\n",
    "\n",
    "            pred_pres = np.sign(np.multiply(past_vec, total_vec))\n",
    "            # Clipped\n",
    "            pred = sign_sim(pred_pres, pres_vec)\n",
    "            values.append(pred)\n",
    "        values = np.array(values)\n",
    "        test_mean.append(values.mean())\n",
    "        test_std.append(values.std())\n",
    "        \n",
    "        values = []\n",
    "        for k in range(_):\n",
    "            # Train, already seen set\n",
    "            past_vec = hrr_utils.GetRVClipHash(train_past[k], dic)\n",
    "            past_vec = hrr_utils.GetRVClipHash(train_present[k], dic)\n",
    "            \n",
    "            pred_pres = np.multiply(past_vec, total_vec)\n",
    "            # Clipped\n",
    "            pred = sign_sim(pred_pres, pres_vec)\n",
    "            values.append(pred)\n",
    "        values = np.array(values)\n",
    "        train_mean.append(values.mean())\n",
    "        train_std.append(values.std())\n",
    "            \n",
    "    past_vec = hrr_utils.GetRVClipHash(train_past[_], dic)\n",
    "    pres_vec = hrr_utils.GetRVClipHash(train_present[_], dic)\n",
    "    total_vec += np.multiply(pres_vec, past_vec)\n",
    "    print (total_vec*pres_vec).dot(past_vec)\n"
   ]
  },
  {
   "cell_type": "code",
   "execution_count": 34,
   "metadata": {},
   "outputs": [
    {
     "name": "stdout",
     "output_type": "stream",
     "text": [
      "1000.0\n"
     ]
    }
   ],
   "source": [
    "\n"
   ]
  },
  {
   "cell_type": "code",
   "execution_count": null,
   "metadata": {
    "collapsed": true
   },
   "outputs": [],
   "source": []
  }
 ],
 "metadata": {
  "kernelspec": {
   "display_name": "Python 2",
   "language": "python",
   "name": "python2"
  },
  "language_info": {
   "codemirror_mode": {
    "name": "ipython",
    "version": 2
   },
   "file_extension": ".py",
   "mimetype": "text/x-python",
   "name": "python",
   "nbconvert_exporter": "python",
   "pygments_lexer": "ipython2",
   "version": "2.7.13"
  }
 },
 "nbformat": 4,
 "nbformat_minor": 1
}
