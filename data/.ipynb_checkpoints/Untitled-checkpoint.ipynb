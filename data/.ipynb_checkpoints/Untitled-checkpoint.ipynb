{
 "cells": [
  {
   "cell_type": "code",
   "execution_count": 28,
   "metadata": {
    "collapsed": false
   },
   "outputs": [],
   "source": [
    "w = open('irregular_verbs.csv').read().strip().split()\n",
    "\n",
    "f = open('irregular_verbs_cleaned.csv', 'w')\n",
    "\n",
    "for i in w:\n",
    "    t = i.split(',')\n",
    "    f.write(t[0]+','+t[1]+'\\n')\n",
    "\n",
    "f.close()\n",
    "    \n"
   ]
  },
  {
   "cell_type": "code",
   "execution_count": 36,
   "metadata": {
    "collapsed": false
   },
   "outputs": [],
   "source": [
    "f1 = open('past-ed10000.txt').read().strip().split(\" \")\n",
    "f2 = open('present-ed10000.txt').read().strip().split(\" \")\n",
    "\n",
    "w = open(\"regular_verbs_clean.csv\", 'w')\n",
    "\n",
    "set1 = set()\n",
    "set2 = set()\n",
    "\n",
    "def check_in_set(string, sett):\n",
    "    for i in range(len(string)-2):\n",
    "        s = string[i:i+3]\n",
    "        if s in sett:\n",
    "            return True\n",
    "    return False\n",
    "\n",
    "def add_to_set(string, sett):\n",
    "    for i in range(len(string)-2):\n",
    "        s = string[i:i+3]\n",
    "        sett.add(s)\n",
    "        if s in sett:\n",
    "            return True\n",
    "    return False\n",
    "        \n",
    "\n",
    "for i in range(len(f1)):\n",
    "    present = f2[i]\n",
    "    past = f1[i]\n",
    "    \n",
    "    if not check_in_set(present, set1) and not check_in_set(past, set2):\n",
    "        add_to_set(present, set1)\n",
    "        add_to_set(past, set2)\n",
    "        w.write(present+\",\"+past+\"\\n\")\n",
    "        continue\n",
    "    "
   ]
  },
  {
   "cell_type": "code",
   "execution_count": null,
   "metadata": {
    "collapsed": true
   },
   "outputs": [],
   "source": []
  },
  {
   "cell_type": "code",
   "execution_count": 47,
   "metadata": {
    "collapsed": false
   },
   "outputs": [],
   "source": [
    "import utils\n",
    "import hrr_utils"
   ]
  },
  {
   "cell_type": "code",
   "execution_count": 48,
   "metadata": {
    "collapsed": false
   },
   "outputs": [],
   "source": [
    "words = utils.LoadLatentSpace()"
   ]
  },
  {
   "cell_type": "code",
   "execution_count": null,
   "metadata": {
    "collapsed": true
   },
   "outputs": [],
   "source": []
  },
  {
   "cell_type": "code",
   "execution_count": 52,
   "metadata": {
    "collapsed": false
   },
   "outputs": [
    {
     "data": {
      "text/plain": [
       "{'a': array([-1, -1, -1, ...,  1, -1, -1]),\n",
       " 'b': array([-1,  1,  1, ...,  1, -1,  1]),\n",
       " 'c': array([ 1, -1,  1, ..., -1,  1, -1])}"
      ]
     },
     "execution_count": 52,
     "metadata": {},
     "output_type": "execute_result"
    }
   ],
   "source": [
    "dic = hrr_utils.GenerateDictionary()"
   ]
  },
  {
   "cell_type": "code",
   "execution_count": 55,
   "metadata": {
    "collapsed": false
   },
   "outputs": [
    {
     "ename": "AttributeError",
     "evalue": "'module' object has no attribute 'lowercase_ascii'",
     "output_type": "error",
     "traceback": [
      "\u001b[0;31m---------------------------------------------------------------------------\u001b[0m",
      "\u001b[0;31mAttributeError\u001b[0m                            Traceback (most recent call last)",
      "\u001b[0;32m<ipython-input-55-fdcc49e8eb5f>\u001b[0m in \u001b[0;36m<module>\u001b[0;34m()\u001b[0m\n\u001b[1;32m      1\u001b[0m \u001b[0;32mimport\u001b[0m \u001b[0mstring\u001b[0m\u001b[0;34m\u001b[0m\u001b[0m\n\u001b[0;32m----> 2\u001b[0;31m \u001b[0mstring\u001b[0m\u001b[0;34m.\u001b[0m\u001b[0mlowercase_ascii\u001b[0m\u001b[0;34m\u001b[0m\u001b[0m\n\u001b[0m",
      "\u001b[0;31mAttributeError\u001b[0m: 'module' object has no attribute 'lowercase_ascii'"
     ]
    }
   ],
   "source": [
    "import string\n",
    "string.ascii_lowercase"
   ]
  },
  {
   "cell_type": "code",
   "execution_count": null,
   "metadata": {
    "collapsed": true
   },
   "outputs": [],
   "source": []
  }
 ],
 "metadata": {
  "kernelspec": {
   "display_name": "Python 2",
   "language": "python",
   "name": "python2"
  },
  "language_info": {
   "codemirror_mode": {
    "name": "ipython",
    "version": 2
   },
   "file_extension": ".py",
   "mimetype": "text/x-python",
   "name": "python",
   "nbconvert_exporter": "python",
   "pygments_lexer": "ipython2",
   "version": "2.7.11"
  }
 },
 "nbformat": 4,
 "nbformat_minor": 0
}
