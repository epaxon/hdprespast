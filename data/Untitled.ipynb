{
 "cells": [
  {
   "cell_type": "code",
   "execution_count": 28,
   "metadata": {
    "collapsed": false
   },
   "outputs": [],
   "source": [
    "w = open('irregular_verbs.csv').read().strip().split()\n",
    "\n",
    "f = open('irregular_verbs_cleaned.csv', 'w')\n",
    "\n",
    "for i in w:\n",
    "    t = i.split(',')\n",
    "    f.write(t[0]+','+t[1]+'\\n')\n",
    "\n",
    "f.close()\n",
    "    \n"
   ]
  },
  {
   "cell_type": "code",
   "execution_count": 36,
   "metadata": {
    "collapsed": false
   },
   "outputs": [],
   "source": [
    "f1 = open('past-ed10000.txt').read().strip().split(\" \")\n",
    "f2 = open('present-ed10000.txt').read().strip().split(\" \")\n",
    "\n",
    "w = open(\"regular_verbs_clean.csv\", 'w')\n",
    "\n",
    "set1 = set()\n",
    "set2 = set()\n",
    "\n",
    "def check_in_set(string, sett):\n",
    "    for i in range(len(string)-2):\n",
    "        s = string[i:i+3]\n",
    "        if s in sett:\n",
    "            return True\n",
    "    return False\n",
    "\n",
    "def add_to_set(string, sett):\n",
    "    for i in range(len(string)-2):\n",
    "        s = string[i:i+3]\n",
    "        sett.add(s)\n",
    "        if s in sett:\n",
    "            return True\n",
    "    return False\n",
    "        \n",
    "\n",
    "for i in range(len(f1)):\n",
    "    present = f2[i]\n",
    "    past = f1[i]\n",
    "    \n",
    "    if not check_in_set(present, set1) and not check_in_set(past, set2):\n",
    "        add_to_set(present, set1)\n",
    "        add_to_set(past, set2)\n",
    "        w.write(present+\",\"+past+\"\\n\")\n",
    "        continue\n",
    "    "
   ]
  },
  {
   "cell_type": "code",
   "execution_count": null,
   "metadata": {
    "collapsed": true
   },
   "outputs": [],
   "source": []
  },
  {
   "cell_type": "code",
   "execution_count": 2,
   "metadata": {
    "collapsed": false
   },
   "outputs": [],
   "source": [
    "import utils\n",
    "import hrr_utils\n",
    "import numpy as np"
   ]
  },
  {
   "cell_type": "code",
   "execution_count": 3,
   "metadata": {
    "collapsed": false
   },
   "outputs": [],
   "source": [
    "words = utils.LoadLatentSpace()\n",
    "N = 10000"
   ]
  },
  {
   "cell_type": "code",
   "execution_count": null,
   "metadata": {
    "collapsed": true
   },
   "outputs": [],
   "source": []
  },
  {
   "cell_type": "code",
   "execution_count": 4,
   "metadata": {
    "collapsed": false
   },
   "outputs": [],
   "source": [
    "dic = hrr_utils.GenerateDefaultDictionary()"
   ]
  },
  {
   "cell_type": "code",
   "execution_count": 6,
   "metadata": {
    "collapsed": false
   },
   "outputs": [
    {
     "name": "stdout",
     "output_type": "stream",
     "text": [
      "(16, 10000)\n"
     ]
    }
   ],
   "source": [
    "n = np.zeros((len(words), N))\n",
    "\n",
    "for i in np.arange(len(words)):\n",
    "    n[i, :] = hrr_utils.GetRVClip(words[i], dic)"
   ]
  },
  {
   "cell_type": "code",
   "execution_count": 8,
   "metadata": {
    "collapsed": false
   },
   "outputs": [],
   "source": [
    "u, s, v = np.linalg.svd(n, full_matrices=False)"
   ]
  },
  {
   "cell_type": "code",
   "execution_count": 11,
   "metadata": {
    "collapsed": false
   },
   "outputs": [
    {
     "data": {
      "text/plain": [
       "array([ 163.80885728,  137.25554593,  129.14150238,  113.48116503,\n",
       "        100.44449104,   96.94481042,   92.60178135,   87.5698535 ,\n",
       "         85.89364279,   84.63379081,   80.76675772,   78.89070729,\n",
       "         76.93111408,   75.7818668 ,   74.2087266 ,   67.71467873])"
      ]
     },
     "execution_count": 11,
     "metadata": {},
     "output_type": "execute_result"
    }
   ],
   "source": []
  },
  {
   "cell_type": "code",
   "execution_count": null,
   "metadata": {
    "collapsed": true
   },
   "outputs": [],
   "source": []
  }
 ],
 "metadata": {
  "kernelspec": {
   "display_name": "Python 2",
   "language": "python",
   "name": "python2"
  },
  "language_info": {
   "codemirror_mode": {
    "name": "ipython",
    "version": 2
   },
   "file_extension": ".py",
   "mimetype": "text/x-python",
   "name": "python",
   "nbconvert_exporter": "python",
   "pygments_lexer": "ipython2",
   "version": "2.7.11"
  }
 },
 "nbformat": 4,
 "nbformat_minor": 0
}
