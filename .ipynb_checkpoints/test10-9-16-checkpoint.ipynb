{
 "cells": [
  {
   "cell_type": "code",
   "execution_count": 1,
   "metadata": {
    "collapsed": true
   },
   "outputs": [],
   "source": [
    "import numpy as np\n",
    "import math\n",
    "import matplotlib.pyplot as plt\n",
    "import string\n",
    "import random\n",
    "import scipy\n",
    "\n",
    "from matplotlib import pyplot as plt\n",
    "from matplotlib.collections import LineCollection\n",
    "%matplotlib inline\n",
    "\n",
    "from sklearn import linear_model\n",
    "from sklearn.metrics import accuracy_score\n",
    "\n",
    "N = 1000\n",
    "alphabet = string.ascii_lowercase + '#' + '.'\n",
    "D = len(alphabet)\n",
    "z = np.ones(N)\n",
    "\n",
    "# past is encoded\n",
    "past_tense = open(\"wickle_train/ed1000.txt\", 'r').read().strip().split()\n",
    "words = [pt[:len(pt)-2] for pt in past_tense]\n",
    "\n",
    "test_past_tense = past_tense[:100]\n",
    "test_words = words[:100]\n",
    "\n",
    "past_tense = past_tense[100:]\n",
    "words = words[100:]\n",
    "\n",
    "\n",
    "RI_pres = np.random.rand(D, N)\n",
    "RI_pres = np.where(RI_pres>0.5, 1, -1)\n",
    "\n",
    "RI_past = np.random.rand(D, N)\n",
    "RI_past = np.where(RI_past>0.5, 1, -1)"
   ]
  },
  {
   "cell_type": "code",
   "execution_count": 2,
   "metadata": {
    "collapsed": true
   },
   "outputs": [],
   "source": [
    "def encode(s, RI, cluster_size=3):\n",
    "    s = \"#\"+s+\".\"\n",
    "    #global RI\n",
    "    #global N\n",
    "    #global D\n",
    "    #global alphabet\n",
    "    z = np.zeros(N)\n",
    "    count = 0\n",
    "    for i in range(len(s)-cluster_size):\n",
    "        count += 1\n",
    "        l = np.ones(N)\n",
    "        for j in s[i:i+cluster_size]:\n",
    "            l = np.multiply(RI[alphabet.index(j), :], l)\n",
    "            l = np.roll(l, 1)\n",
    "        z += l\n",
    "\n",
    "    return 2*(z + 0.1*(np.random.rand(N) - 0.5) > 0) - 1#np.where(z/count > 0, 1, -1)\n",
    "\n",
    "def encodes(words, past_tense):\n",
    "    seen = []\n",
    "    for i in range(len(words)):\n",
    "        enc = encode(words[i], RI_pres, 3)\n",
    "        enc_past = encode(past_tense[i], RI_past, 3)\n",
    "        seen.append((enc, enc_past))\n",
    "    #plt.figure()\n",
    "    #plt.plot(enc[:50])\n",
    "    #print enc.shape\n",
    "    return seen\n",
    "\n",
    "def map_train(encoded, reg=1):\n",
    "    total_vec = np.zeros(N) #psi\n",
    "    for i in range(len(encoded)):\n",
    "        total_vec += np.multiply(encoded[i][0], encoded[i][1])\n",
    "    return total_vec\n",
    "\n",
    "def perceptron_map_train(encoded):\n",
    "    total_vec = np.zeros(N) #psi\n",
    "    for i in range(len(encoded)):\n",
    "        # if predict correctly, add to total_vec with a smaller weight\n",
    "        train_pred, random_pred = predict(total_vec, [encoded[i]])\n",
    "        if train_pred > random_pred:\n",
    "            total_vec += ((N-train_pred)/float(N)) * np.multiply(encoded[i][0], encoded[i][1])\n",
    "        else:\n",
    "            total_vec += np.multiply(encoded[i][0], encoded[i][1])\n",
    "    return total_vec\n",
    "\n",
    "def predict(model, encoded):\n",
    "    data1, data3 = np.zeros(len(encoded)), np.zeros(len(encoded))\n",
    "    total1, total3, count = 0, 0, 0\n",
    "    \n",
    "    random_vecs = np.random.randn(len(encoded), N)\n",
    "    \n",
    "    for j in range(len(encoded)):\n",
    "        pair = encoded[j]\n",
    "        sim1 = np.dot(np.multiply(model, pair[0]), pair[1])\n",
    "        total1 += sim1\n",
    "\n",
    "        sim3 = np.dot(np.multiply(model, random_vecs[j,:]), pair[0])\n",
    "        total3 += sim3\n",
    "\n",
    "        count += 1\n",
    "        data1[j] = sim1 #total1/float(count)\n",
    "        data3[j] = sim3 #total3/float(count)\n",
    "\n",
    "    return data1, data3\n",
    "\n",
    "    #plt.figure()\n",
    "    #plt.plot(data1, label=\"Average pairwise similarity\")\n",
    "    #plt.ylabel(\"Average similarity per vector\")\n",
    "    #plt.xlabel(\"Number of words in model vector\")\n",
    "    #plt.plot(data3, label=\"Random pairwise similarity\")\n",
    "    #plt.legend(loc=1,prop={'size':10})\n",
    "    #plt.show()\n",
    "    "
   ]
  },
  {
   "cell_type": "code",
   "execution_count": 3,
   "metadata": {
    "collapsed": true
   },
   "outputs": [],
   "source": [
    "encoded = encodes(words, past_tense)\n",
    "test_encoded = encodes(test_words, test_past_tense)\n",
    "\n",
    "def graph(train_func):\n",
    "    test_m = np.arange(1, len(encoded), 1)\n",
    "\n",
    "    train_dot = np.zeros_like(test_m)\n",
    "    test_dot = np.zeros_like(test_m) # np.zeros(test_m.shape)\n",
    "    random_dot = np.zeros_like(test_m)\n",
    "\n",
    "    for im, m in enumerate(test_m):\n",
    "        map_model = train_func(encoded[:int(m)])\n",
    "        d1, d3 = predict(map_model, encoded[:int(m)])\n",
    "        d2, d4 = predict(map_model, test_encoded)\n",
    "        train_dot[im] = d1.mean()\n",
    "        test_dot[im] = d2.mean()\n",
    "        random_dot[im] = d3.mean()\n",
    "\n",
    "    plt.figure()\n",
    "    plt.plot(test_m, train_dot)\n",
    "    plt.plot(test_m, random_dot)\n",
    "    plt.plot(test_m, test_dot)\n",
    "    plt.show()"
   ]
  },
  {
   "cell_type": "code",
   "execution_count": 4,
   "metadata": {
    "collapsed": false
   },
   "outputs": [
    {
     "data": {
      "image/png": "[encoded data removed]",
      "text/plain": [
       "<matplotlib.figure.Figure at 0x103ab9290>"
      ]
     },
     "metadata": {},
     "output_type": "display_data"
    }
   ],
   "source": [
    "graph(perceptron_map_train)"
   ]
  },
  {
   "cell_type": "code",
   "execution_count": null,
   "metadata": {
    "collapsed": true
   },
   "outputs": [],
   "source": []
  }
 ],
 "metadata": {
  "kernelspec": {
   "display_name": "Python 2",
   "language": "python",
   "name": "python2"
  },
  "language_info": {
   "codemirror_mode": {
    "name": "ipython",
    "version": 2
   },
   "file_extension": ".py",
   "mimetype": "text/x-python",
   "name": "python",
   "nbconvert_exporter": "python",
   "pygments_lexer": "ipython2",
   "version": "2.7.11"
  }
 },
 "nbformat": 4,
 "nbformat_minor": 0
}
