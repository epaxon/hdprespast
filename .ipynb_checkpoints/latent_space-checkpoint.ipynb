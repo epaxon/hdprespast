{
 "cells": [
  {
   "cell_type": "code",
   "execution_count": 3,
   "metadata": {
    "collapsed": false
   },
   "outputs": [
    {
     "name": "stdout",
     "output_type": "stream",
     "text": [
      "['jump', 'bump', 'thump', 'clump', 'lump', 'dump', 'break', 'streak', 'peak', 'creak', 'speak', 'some', 'become', 'come', 'welcome', 'google', 'goggle', 'toggle', 'boggle', 'was', 'were', 'been', 'catch', 'latch', 'snatch', 'dispatch', 'mismatch', 'bite', 'ignite', 'incite', 'forget', 'forgo', 'forclose']\n",
      "ngram_length 2\n",
      "(33, 1000)\n",
      "((33, 33), (33,), (1000, 1000))\n",
      "(33, 2) (2, 2) (2, 1000) (2, 1000)\n",
      "(33, 3) (3, 3) (3, 1000) (3, 1000)\n"
     ]
    },
    {
     "data": {
      "image/png": "[encoded data removed]",
      "text/plain": [
       "<matplotlib.figure.Figure at 0x110816f90>"
      ]
     },
     "metadata": {},
     "output_type": "display_data"
    },
    {
     "data": {
      "image/png": "[encoded data removed]",
      "text/plain": [
       "<matplotlib.figure.Figure at 0x111902690>"
      ]
     },
     "metadata": {},
     "output_type": "display_data"
    },
    {
     "ename": "NameError",
     "evalue": "name 'time' is not defined",
     "output_type": "error",
     "traceback": [
      "\u001b[0;31m---------------------------------------------------------------------------\u001b[0m",
      "\u001b[0;31mNameError\u001b[0m                                 Traceback (most recent call last)",
      "\u001b[0;32m<ipython-input-3-a2f63e1ae7a3>\u001b[0m in \u001b[0;36m<module>\u001b[0;34m()\u001b[0m\n\u001b[1;32m     81\u001b[0m     \u001b[0mplt\u001b[0m\u001b[0;34m.\u001b[0m\u001b[0mshow\u001b[0m\u001b[0;34m(\u001b[0m\u001b[0;34m)\u001b[0m\u001b[0;34m\u001b[0m\u001b[0m\n\u001b[1;32m     82\u001b[0m     fname =  ('figures/latent_space-ngram_length=' + str(ngram_length) + '-N=' + str(N) + '-W=' + str(num_words) \n\u001b[0;32m---> 83\u001b[0;31m           + '-' + time.strftime('%y%m%d'))\n\u001b[0m\u001b[1;32m     84\u001b[0m     \u001b[0;32mprint\u001b[0m \u001b[0mfname\u001b[0m\u001b[0;34m\u001b[0m\u001b[0m\n\u001b[1;32m     85\u001b[0m \u001b[0;34m\u001b[0m\u001b[0m\n",
      "\u001b[0;31mNameError\u001b[0m: name 'time' is not defined"
     ]
    }
   ],
   "source": [
    "import time\n",
    "import csv\n",
    "import numpy as np\n",
    "import math\n",
    "import matplotlib.pyplot as plt\n",
    "import string\n",
    "import random\n",
    "import scipy\n",
    "from matplotlib import *\n",
    "from matplotlib import pyplot as plt\n",
    "from mpl_toolkits.mplot3d import Axes3D\n",
    "from matplotlib.collections import LineCollection\n",
    "%matplotlib inline\n",
    "\n",
    "from sklearn import linear_model\n",
    "from sklearn.metrics import accuracy_score\n",
    "\n",
    "N = 1000\n",
    "alphabet = string.ascii_lowercase + '#' + '.'\n",
    "D = len(alphabet)\n",
    "z = np.ones(N)\n",
    "\n",
    "RI_pres = np.random.rand(D, N)\n",
    "RI_pres = np.where(RI_pres>0.5, 1, -1)\n",
    "\n",
    "RI_past = np.random.rand(D, N)\n",
    "RI_past = np.where(RI_past>0.5, 1, -1)\n",
    "\n",
    "def ngram_encode(ngram_str, letter_vecs, window=3):\n",
    "    vec = np.zeros(letter_vecs.shape[1])\n",
    "    full_str = '#' + ngram_str + '.'\n",
    "    for il, l in enumerate(full_str[:-(window-1)]):\n",
    "        trivec = letter_vecs[alphabet.find(full_str[il]), :]\n",
    "        for c3 in range(1, window):\n",
    "            trivec = trivec * np.roll(letter_vecs[alphabet.find(full_str[il+c3]), :], c3)\n",
    "            \n",
    "        vec += trivec\n",
    "    return vec\n",
    "\n",
    "def ngram_encode_cl(ngram_str, letter_vecs, window=3):\n",
    "    vec = np.zeros(letter_vecs.shape[1])\n",
    "    full_str = '#' + ngram_str + '.'\n",
    "    for il, l in enumerate(full_str[:-(window-1)]):\n",
    "        trivec = letter_vecs[alphabet.find(full_str[il]), :]\n",
    "        for c3 in range(1, window):\n",
    "            trivec = trivec * np.roll(letter_vecs[alphabet.find(full_str[il+c3]), :], c3)     \n",
    "        vec += trivec\n",
    "    return 2* (vec + 0.1*(np.random.rand(letter_vecs.shape[1])-0.5) < 0) - 1\n",
    "\n",
    "words = open(\"data/cleaned/latent_space.txt\",\"r\").read().split()\n",
    "print words\n",
    "num_words = len(words)\n",
    "data_matrix = np.zeros((num_words, N))\n",
    "ngram_lengths = [2, 3, 4]\n",
    "\n",
    "for ngram_length in ngram_lengths:\n",
    "    print \"ngram_length %d\" % ngram_length\n",
    "    for i in range(num_words):\n",
    "        data_matrix[i] = ngram_encode_cl(words[i], RI_pres, ngram_length)\n",
    "    print data_matrix.shape\n",
    "\n",
    "    ds = [2, 3]\n",
    "\n",
    "    U, s, V = np.linalg.svd(data_matrix, full_matrices=True)\n",
    "    print (U.shape, s.shape, V.shape) \n",
    "    pca_data = []\n",
    "    for d in ds:\n",
    "        Ud = U[:, :d]\n",
    "        Sd = s[:d]*np.eye(d)\n",
    "        Vd = V[:d, :]\n",
    "        SdVd = np.dot(Sd, Vd)\n",
    "        print Ud.shape, Sd.shape, Vd.shape, SdVd.shape\n",
    "        pca_data.append(Ud)\n",
    "    # 2d\n",
    "    fig, ax = plt.subplots(figsize=(4,3))\n",
    "    ax.scatter(pca_data[0][:,0], pca_data[0][:,1])\n",
    "    for i, txt in enumerate(words):\n",
    "        ax.annotate(txt, (pca_data[0][i,0], pca_data[0][i,1]))\n",
    "\n",
    "    plt.figure()\n",
    "    plt.scatter(pca_data[0][:,0], pca_data[0][:,1])\n",
    "    plt.show()\n",
    "    fname =  ('figures/latent_space-ngram_length=' + str(ngram_length) + '-N=' + str(N) + '-W=' + str(num_words) \n",
    "          + '-' + time.strftime('%y%m%d'))\n",
    "    print fname\n",
    "\n",
    "    plt.savefig(fname + '.png', transparent=True)\n",
    "    plt.savefig(fname + '.eps', transparent=True)\n",
    "\n",
    "    #3d\n",
    "    fig = pylab.figure(figsize=(4,3))\n",
    "    ax = Axes3D(fig)\n",
    "    for i in range(num_words):\n",
    "        ax.scatter(pca_data[1][i,0], pca_data[1][i,1], pca_data[1][i,2]) \n",
    "        ax.text(pca_data[1][i,0], pca_data[1][i,1], pca_data[1][i,2],  '%s' % (words[i]), size=8, zorder=1, color='k') \n",
    "\n",
    "    ax.set_xlabel('x')\n",
    "    ax.set_ylabel('y')\n",
    "    ax.set_zlabel('z')\n",
    "    pyplot.show()\n",
    "\n",
    "    fig = plt.figure(figsize=(5,5))\n",
    "    ax = fig.add_subplot(111, projection='3d')\n",
    "    ax.scatter(pca_data[1][:,0], pca_data[1][:,1], pca_data[1][:,2])\n",
    "\n",
    "    plt.show()\n",
    "    fname =  ('figures/latent_space-words-3d-ngram_length=' + str(ngram_length) + '-N=' + str(N) + '-W=' + str(num_words) \n",
    "          + '-' + time.strftime('%y%m%d'))\n",
    "    print fname\n",
    "\n",
    "    plt.savefig(fname + '.png', transparent=True)\n",
    "    plt.savefig(fname + '.eps', transparent=True)"
   ]
  },
  {
   "cell_type": "code",
   "execution_count": null,
   "metadata": {
    "collapsed": true
   },
   "outputs": [],
   "source": []
  },
  {
   "cell_type": "code",
   "execution_count": null,
   "metadata": {
    "collapsed": true
   },
   "outputs": [],
   "source": []
  }
 ],
 "metadata": {
  "kernelspec": {
   "display_name": "Python 2",
   "language": "python",
   "name": "python2"
  },
  "language_info": {
   "codemirror_mode": {
    "name": "ipython",
    "version": 2
   },
   "file_extension": ".py",
   "mimetype": "text/x-python",
   "name": "python",
   "nbconvert_exporter": "python",
   "pygments_lexer": "ipython2",
   "version": "2.7.11"
  }
 },
 "nbformat": 4,
 "nbformat_minor": 0
}
