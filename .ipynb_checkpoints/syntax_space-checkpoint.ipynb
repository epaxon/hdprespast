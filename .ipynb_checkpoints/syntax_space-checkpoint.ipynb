{
 "cells": [
  {
   "cell_type": "code",
   "execution_count": 1,
   "metadata": {
    "collapsed": false
   },
   "outputs": [
    {
     "name": "stdout",
     "output_type": "stream",
     "text": [
      "height has been deprecated.\n",
      "\n",
      "2016-09-16 13:07\n"
     ]
    }
   ],
   "source": [
    "from nltk.tokenize import RegexpTokenizer\n",
    "from nltk.stem.porter import PorterStemmer\n",
    "from gensim import corpora, models\n",
    "from stop_words import get_stop_words\n",
    "#from scipy import sparse\n",
    "from scipy import spatial\n",
    "import gensim\n",
    "import utils\n",
    "import sys\n",
    "import string\n",
    "import numpy as np\n",
    "import matplotlib.pyplot as plt\n",
    "import scipy.io as scio\n",
    "from mpl_toolkits import mplot3d\n",
    "from mpl_toolkits.mplot3d import Axes3D\n",
    "from utils import random_idx\n",
    "from utils import utils\n",
    "from utils import lang_vectors_utils as lvu\n",
    "from utils import documents\n",
    "%matplotlib inline\n",
    "\n",
    "num_topics = 50\n",
    "passes = 20\n",
    "#topn = 10\n",
    "k = 5000\n",
    "N = 10000\n",
    "# cluster_sizes is mapping to n-gram size\n",
    "# cluster_sz in random_idx referring to specific element (int) in cluster_sizes, array\n",
    "cluster_sizes = [1, 2, 3, 4, 5, 6, 7, 8]\n",
    "ordered = 1\n",
    "#assuming this is the alphabet bc of precedent in generate_text.py\n",
    "#alph = 'abc' \n",
    "alphabet = string.lowercase + ' '\n",
    "RI_letters = random_idx.generate_letter_id_vectors(N, k, alphabet)\n",
    "# words should be unique? (such as permutations)\n",
    "# number of words added in a syntax vector\n",
    "syntax_granularities = [1000,2000,3000,4000,5000,6000,7000,8000,9000,10000]\n",
    "lower_n_cutoff = .85"
   ]
  },
  {
   "cell_type": "code",
   "execution_count": 26,
   "metadata": {
    "collapsed": true
   },
   "outputs": [],
   "source": [
    "def vectorize_documents(documents):\n",
    "    vectors = {}\n",
    "    for doc in documents:\n",
    "        for word in doc:\n",
    "            vectors[word] = random_idx.id_vector(N, word, alphabet, RI_letters)\n",
    "    return vectors\n",
    "\n",
    "def similarity_matrix(dictionary,id_to_word):\n",
    "    \"\"\"\n",
    "    calculate cosine similarity of every word\n",
    "    \"\"\"\n",
    "    num_words = len(id_to_word)\n",
    "    sm = np.zeros((num_words,num_words))\n",
    "    cutoff_index = int(lower_n_cutoff*num_words)\n",
    "    cutoff = float(\"inf\")\n",
    "\n",
    "    for row in range(0,num_words):\n",
    "        for col in range(0,num_words):\n",
    "            sm[row][col] = np.dot(np.transpose(dictionary[id_to_word[row]][0]), dictionary[id_to_word[col]][0])\n",
    "        # find the 85% smallest element in array\n",
    "        cutoff = min(cutoff, np.partition(sm[row], cutoff_index)[cutoff_index])\n",
    "    return sm, cutoff\n",
    "\n",
    "def syntax_space(similarity_matrix, vectorized_dictionary, id_to_word):\n",
    "    \"\"\"\n",
    "    number of granularities of words encoded per syntax vector x number of tokens x N\n",
    "    index in numpy array on axis \"number of tokens\" equivalent to token id\n",
    "    http://stackoverflow.com/questions/6910641/how-to-get-indices-of-n-maximum-values-in-a-numpy-array\n",
    "    \"\"\"\n",
    "    num_tokens = similarity_matrix.shape[0]\n",
    "    matrices = np.zeros((len(syntax_granularities), num_tokens, N))\n",
    "    for gran_i in range(len(syntax_granularities)):\n",
    "        for row in range(num_tokens):\n",
    "            granularity = min(syntax_granularities[gran_i],num_tokens)\n",
    "            most_similar_indices = np.argpartition(similarity_matrix[row],-granularity)[-granularity:]\n",
    "            \n",
    "            for key in most_similar_indices:\n",
    "                matrices[gran_i][row] = np.add(matrices[gran_i][row],vectorized_dictionary[id_to_word[key]][0])\n",
    "    return matrices"
   ]
  },
  {
   "cell_type": "code",
   "execution_count": 3,
   "metadata": {
    "collapsed": true
   },
   "outputs": [],
   "source": [
    "# run tests\n",
    "def accuracy_syntax(test_files, tokenized_test_documents, dictionary, vectorized_dictionary, syntaxed_space, cutoff, syntax_granularities):\n",
    "    token_to_id = dictionary.token2id\n",
    "    accuracy_per_granularity = np.zeros((len(test_files),syntaxed_space.shape[0]))\n",
    "    for i in range(len(test_files)):\n",
    "        test_tokens = tokenized_test_documents[i]\n",
    "        for gran_i in range(len(syntax_granularities)):\n",
    "            for test_token in test_tokens:\n",
    "                #number of granularities of words encoded per syntax vector x number of tokens x N\n",
    "                #N, dictionary[i], alphabet, RI_letters\n",
    "                prediction_vector = np.dot(np.transpose(random_idx.id_vector(N, test_token, alphabet, RI_letters)), syntaxed_space[gran_i])\n",
    "                prediction_id = np.argmax(prediction_vector)\n",
    "                # if test token is inside dictionary\n",
    "                if test_token in token_to_id.keys():\n",
    "                    if prediction_id == token_to_id[test_token]:\n",
    "                        accuracy_per_granularity[i][gran_i]+=1\n",
    "                # account for new tokens and similarity not identity\n",
    "                # >= bottom 85% cutoff for same vector group from similarity matrix\n",
    "                elif prediction_vector >= cutoff:\n",
    "                    accuracy_per_granularity[i][gran_i]+=1\n",
    "            accuracy_per_granularity[i] /= syntax_granularities[gran_i]\n",
    "    return accuracy_per_granularity\n"
   ]
  },
  {
   "cell_type": "code",
   "execution_count": 4,
   "metadata": {
    "collapsed": true
   },
   "outputs": [],
   "source": [
    "def graphing_3d():\n",
    "    # each vector maps to the test_token. dots graphs but mappings can printed\n",
    "    fig = plt.figure()\n",
    "    ax = fig.add_subplot(111, projection='3d')\n",
    "\n",
    "    xs =[1,2,3,4,5,6,7,8,9,10]\n",
    "    ys =[5,6,2,3,13,4,1,2,4,8]\n",
    "    zs =[2,3,3,3,5,7,9,11,9,10]\n",
    "\n",
    "    xt =[-1,-2,-3,-4,-5,-6,-7,8,-9,-10]\n",
    "    yt =[-5,-6,-2,-3,-13,-4,-1,2,-4,-8]\n",
    "    zt =[-2,-3,-3,-3,-5,-7,9,-11,-9,-10]\n",
    "\n",
    "    ax.scatter(xs, ys, zs, c='r', marker='o')\n",
    "    ax.scatter(xt, yt, zt, c='b', marker='^')\n",
    "\n",
    "    ax.set_xlabel('X Label')\n",
    "    ax.set_ylabel('Y Label')\n",
    "    ax.set_zlabel('Z Label')\n",
    "\n",
    "    plt.show()\n",
    "\n",
    "def graphing_2d(test_files, syntax_granularities, accuracy_per_granularity):\n",
    "    for i in range(accuracy_per_granularity.shape[0]):\n",
    "        print test_files[i]\n",
    "        fig = plt.figure()\n",
    "        ax = fig.add_subplot(11, projection='2d')\n",
    "        ax.scatter(syntax_granularities, accuracy_per_granularity[i], c='r', marker='o')\n",
    "\n",
    "        ax.set_xlabel('granularity')\n",
    "        ax.set_ylabel('accuracy %')\n",
    "\n",
    "        plt.show()"
   ]
  },
  {
   "cell_type": "code",
   "execution_count": 5,
   "metadata": {
    "collapsed": true
   },
   "outputs": [],
   "source": [
    "# create sample documents\n",
    "raw_path = \"raw_texts/texts_english/\"\n",
    "preprocessed_path = \"preprocessed_texts/english/\"\n",
    "training_preprocessed_path = \"preprocessed_texts/english/with_spaces/\"\n",
    "\n",
    "training_files = [\"a_christmas_carol.txt\", \"alice_in_wonderland.txt\"]\n",
    "# this is for testing accuracy against the \n",
    "# actual stream that will be the test input\n",
    "test_files = [\"hamlet_english.txt\", \"percy_addleshaw.txt\"]"
   ]
  },
  {
   "cell_type": "code",
   "execution_count": 6,
   "metadata": {
    "collapsed": false
   },
   "outputs": [],
   "source": [
    "training_doc_set = documents.create_doc_set(training_preprocessed_path, training_files)\n",
    "test_doc_set = documents.create_doc_set(preprocessed_path, test_files)\n",
    "\n",
    "training_documents = [doc.split() for doc in training_doc_set]\n",
    "test_documents = [doc.split() for doc in test_doc_set]\n",
    "\n",
    "\n"
   ]
  },
  {
   "cell_type": "code",
   "execution_count": 21,
   "metadata": {
    "collapsed": false
   },
   "outputs": [],
   "source": [
    "vectorized_dictionary = vectorize_documents(training_documents)\n",
    "id_to_word = {}\n",
    "words = vectorized_dictionary.keys()\n",
    "for i in range(len(words)):\n",
    "    id_to_word[i] = words[i]"
   ]
  },
  {
   "cell_type": "code",
   "execution_count": 27,
   "metadata": {
    "collapsed": false
   },
   "outputs": [],
   "source": [
    "# similarity matrix\n",
    "sm, syntax_cutoff = similarity_matrix(vectorized_dictionary, id_to_word)"
   ]
  },
  {
   "cell_type": "code",
   "execution_count": 29,
   "metadata": {
    "collapsed": false
   },
   "outputs": [
    {
     "ename": "KeyboardInterrupt",
     "evalue": "",
     "output_type": "error",
     "traceback": [
      "\u001b[0;31m---------------------------------------------------------------------------\u001b[0m",
      "\u001b[0;31mKeyboardInterrupt\u001b[0m                         Traceback (most recent call last)",
      "\u001b[0;32m<ipython-input-29-9f876d400328>\u001b[0m in \u001b[0;36m<module>\u001b[0;34m()\u001b[0m\n\u001b[0;32m----> 1\u001b[0;31m \u001b[0msyntaxed_space\u001b[0m \u001b[0;34m=\u001b[0m \u001b[0msyntax_space\u001b[0m\u001b[0;34m(\u001b[0m\u001b[0msm\u001b[0m\u001b[0;34m,\u001b[0m \u001b[0mvectorized_dictionary\u001b[0m\u001b[0;34m,\u001b[0m \u001b[0mid_to_word\u001b[0m\u001b[0;34m)\u001b[0m\u001b[0;34m\u001b[0m\u001b[0m\n\u001b[0m",
      "\u001b[0;32m<ipython-input-26-bf6ce0470ef2>\u001b[0m in \u001b[0;36msyntax_space\u001b[0;34m(similarity_matrix, vectorized_dictionary, id_to_word)\u001b[0m\n\u001b[1;32m     36\u001b[0m \u001b[0;34m\u001b[0m\u001b[0m\n\u001b[1;32m     37\u001b[0m             \u001b[0;32mfor\u001b[0m \u001b[0mkey\u001b[0m \u001b[0;32min\u001b[0m \u001b[0mmost_similar_indices\u001b[0m\u001b[0;34m:\u001b[0m\u001b[0;34m\u001b[0m\u001b[0m\n\u001b[0;32m---> 38\u001b[0;31m                 \u001b[0mmatrices\u001b[0m\u001b[0;34m[\u001b[0m\u001b[0mgran_i\u001b[0m\u001b[0;34m]\u001b[0m\u001b[0;34m[\u001b[0m\u001b[0mrow\u001b[0m\u001b[0;34m]\u001b[0m \u001b[0;34m=\u001b[0m \u001b[0mnp\u001b[0m\u001b[0;34m.\u001b[0m\u001b[0madd\u001b[0m\u001b[0;34m(\u001b[0m\u001b[0mmatrices\u001b[0m\u001b[0;34m[\u001b[0m\u001b[0mgran_i\u001b[0m\u001b[0;34m]\u001b[0m\u001b[0;34m[\u001b[0m\u001b[0mrow\u001b[0m\u001b[0;34m]\u001b[0m\u001b[0;34m,\u001b[0m\u001b[0mvectorized_dictionary\u001b[0m\u001b[0;34m[\u001b[0m\u001b[0mid_to_word\u001b[0m\u001b[0;34m[\u001b[0m\u001b[0mkey\u001b[0m\u001b[0;34m]\u001b[0m\u001b[0;34m]\u001b[0m\u001b[0;34m[\u001b[0m\u001b[0;36m0\u001b[0m\u001b[0;34m]\u001b[0m\u001b[0;34m)\u001b[0m\u001b[0;34m\u001b[0m\u001b[0m\n\u001b[0m\u001b[1;32m     39\u001b[0m     \u001b[0;32mreturn\u001b[0m \u001b[0mmatrices\u001b[0m\u001b[0;34m\u001b[0m\u001b[0m\n",
      "\u001b[0;31mKeyboardInterrupt\u001b[0m: "
     ]
    }
   ],
   "source": [
    "syntaxed_space = syntax_space(sm, vectorized_dictionary, id_to_word) "
   ]
  },
  {
   "cell_type": "code",
   "execution_count": null,
   "metadata": {
    "collapsed": true
   },
   "outputs": [],
   "source": [
    "accuracy_per_granularity = accuracy_syntax(test_files, test_documents, dictionary, vectorized_dictionary, syntaxed_space, cutoff, syntax_granularities)"
   ]
  },
  {
   "cell_type": "code",
   "execution_count": null,
   "metadata": {
    "collapsed": true
   },
   "outputs": [],
   "source": [
    "graphing_2d(test_files, syntax_granularities, accuracy_per_granularity)"
   ]
  }
 ],
 "metadata": {
  "kernelspec": {
   "display_name": "Python 2",
   "language": "python",
   "name": "python2"
  },
  "language_info": {
   "codemirror_mode": {
    "name": "ipython",
    "version": 2
   },
   "file_extension": ".py",
   "mimetype": "text/x-python",
   "name": "python",
   "nbconvert_exporter": "python",
   "pygments_lexer": "ipython2",
   "version": "2.7.11"
  }
 },
 "nbformat": 4,
 "nbformat_minor": 0
}
