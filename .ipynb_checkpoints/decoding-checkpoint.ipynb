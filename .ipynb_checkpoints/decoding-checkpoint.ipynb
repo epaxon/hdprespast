{
 "cells": [
  {
   "cell_type": "code",
   "execution_count": 21,
   "metadata": {
    "collapsed": false
   },
   "outputs": [],
   "source": [
    "import numpy as np\n",
    "import math\n",
    "import matplotlib.pyplot as plt\n",
    "import string\n",
    "import random\n",
    "import scipy\n",
    "\n",
    "from matplotlib import pyplot as plt\n",
    "from matplotlib.collections import LineCollection\n",
    "%matplotlib inline\n",
    "\n",
    "from sklearn import linear_model\n",
    "from sklearn.metrics import accuracy_score\n",
    "\n",
    "N = 1000\n",
    "alphabet = string.ascii_lowercase + '#' + '.'\n",
    "D = len(alphabet)\n",
    "z = np.ones(N)\n",
    "\n",
    "# past is encoded\n",
    "past_tense = open(\"wickle_train/ed1000.txt\", 'r').read().strip().split()\n",
    "words = [pt[:len(pt)-2] for pt in past_tense]\n",
    "\n",
    "test_past_tense = past_tense[:100]\n",
    "test_words = words[:100]\n",
    "\n",
    "past_tense = past_tense[100:]\n",
    "words = words[100:]\n",
    "\n",
    "\n",
    "RI_pres = np.random.rand(D, N)\n",
    "RI_pres = np.where(RI_pres>0.5, 1, -1)\n",
    "\n",
    "RI_past = np.random.rand(D, N)\n",
    "RI_past = np.where(RI_past>0.5, 1, -1)\n",
    "\n",
    "def encode(s, RI, cluster_size=3):\n",
    "    s = \"#\"+s+\".\"\n",
    "    #global RI\n",
    "    #global N\n",
    "    #global D\n",
    "    #global alphabet\n",
    "    z = np.zeros(N)\n",
    "    count = 0\n",
    "    for i in range(len(s)-cluster_size):\n",
    "        count += 1\n",
    "        l = np.ones(N)\n",
    "        for j in s[i:i+cluster_size]:\n",
    "            l = np.multiply(RI[alphabet.index(j), :], l)\n",
    "            l = np.roll(l, 1)\n",
    "        z += l\n",
    "\n",
    "    return 2*(z + 0.1*(np.random.rand(N) - 0.5) > 0) - 1#np.where(z/count > 0, 1, -1)\n",
    "\n",
    "def encodes(words, past_tense):\n",
    "    seen = []\n",
    "    for i in range(len(words)):\n",
    "        enc = encode(words[i], RI_pres, 3)\n",
    "        enc_past = encode(past_tense[i], RI_past, 3)\n",
    "        seen.append((enc, enc_past))\n",
    "    #plt.figure()\n",
    "    #plt.plot(enc[:50])\n",
    "    #print enc.shape\n",
    "    return seen\n",
    "\n",
    "def map_train(encoded, reg=1):\n",
    "    total_vec = np.zeros(N) #psi\n",
    "    for i in range(len(encoded)):\n",
    "        total_vec += np.multiply(encoded[i][0], encoded[i][1])\n",
    "    return total_vec\n",
    "\n",
    "def perceptron_map_train(encoded):\n",
    "    total_vec = np.zeros(N) #psi\n",
    "    for i in range(len(encoded)):\n",
    "        # if predict correctly, add to total_vec with a smaller weight\n",
    "        train_pred, random_pred = predict(total_vec, [encoded[i]])\n",
    "        if train_pred > random_pred:\n",
    "            total_vec += ((N-train_pred)/float(N)) * np.multiply(encoded[i][0], encoded[i][1])\n",
    "        else:\n",
    "            total_vec += np.multiply(encoded[i][0], encoded[i][1])\n",
    "    return total_vec\n",
    "\n",
    "def predict(model, encoded):\n",
    "    data1, data3 = np.zeros(len(encoded)), np.zeros(len(encoded))\n",
    "    total1, total3, count = 0, 0, 0\n",
    "    \n",
    "    random_vecs = np.random.randn(len(encoded), N)\n",
    "    \n",
    "    for j in range(len(encoded)):\n",
    "        pair = encoded[j]\n",
    "        sim1 = np.dot(np.multiply(model, pair[0]), pair[1])\n",
    "        total1 += sim1\n",
    "\n",
    "        sim3 = np.dot(np.multiply(model, random_vecs[j,:]), pair[0])\n",
    "        total3 += sim3\n",
    "\n",
    "        count += 1\n",
    "        data1[j] = sim1 #total1/float(count)\n",
    "        data3[j] = sim3 #total3/float(count)\n",
    "\n",
    "    return data1, data3\n",
    "\n",
    "def graph(train_func, encoded, test_encoded):\n",
    "    test_m = np.arange(1, len(encoded), 1)\n",
    "\n",
    "    train_dot = np.zeros_like(test_m)\n",
    "    test_dot = np.zeros_like(test_m) # np.zeros(test_m.shape)\n",
    "    random_dot = np.zeros_like(test_m)\n",
    "\n",
    "    for im, m in enumerate(test_m):\n",
    "        map_model = train_func(encoded[:int(m)])\n",
    "        d1, d3 = predict(map_model, encoded[:int(m)])\n",
    "        d2, d4 = predict(map_model, test_encoded)\n",
    "        train_dot[im] = d1.mean()\n",
    "        test_dot[im] = d2.mean()\n",
    "        random_dot[im] = d3.mean()\n",
    "\n",
    "    plt.figure()\n",
    "    plt.plot(test_m, train_dot)\n",
    "    plt.plot(test_m, random_dot)\n",
    "    plt.plot(test_m, test_dot)\n",
    "    plt.show()\n"
   ]
  },
  {
   "cell_type": "code",
   "execution_count": 4,
   "metadata": {
    "collapsed": false
   },
   "outputs": [
    {
     "data": {
      "image/png": "[encoded data removed]",
      "text/plain": [
       "<matplotlib.figure.Figure at 0x10412c710>"
      ]
     },
     "metadata": {},
     "output_type": "display_data"
    }
   ],
   "source": [
    "encoded = encodes(words, past_tense)\n",
    "test_encoded = encodes(test_words, test_past_tense)\n",
    "\n",
    "#graph(perceptron_map_train, encoded, test_encoded)"
   ]
  },
  {
   "cell_type": "code",
   "execution_count": 17,
   "metadata": {
    "collapsed": false
   },
   "outputs": [],
   "source": [
    "from __future__ import division\n",
    "\n",
    "from pylab import *\n",
    "import scipy\n",
    "import time\n",
    "\n",
    "#import imnet_utils as imut\n",
    "import sklearn\n",
    "from sklearn.decomposition import PCA, FastICA, TruncatedSVD, NMF\n",
    "\n",
    "%matplotlib inline\n",
    "\n",
    "plt.rcParams.update({'axes.titlesize': 'xx-large'})\n",
    "plt.rcParams.update({'axes.labelsize': 'xx-large'})\n",
    "plt.rcParams.update({'xtick.labelsize': 'x-large', 'ytick.labelsize': 'x-large'})\n",
    "plt.rcParams.update({'legend.fontsize': 'x-large'})\n",
    "plt.rcParams.update({'text.usetex': True})"
   ]
  },
  {
   "cell_type": "code",
   "execution_count": 24,
   "metadata": {
    "collapsed": false
   },
   "outputs": [
    {
     "ename": "SyntaxError",
     "evalue": "invalid syntax (<ipython-input-24-f27f98316157>, line 51)",
     "output_type": "error",
     "traceback": [
      "\u001b[0;36m  File \u001b[0;32m\"<ipython-input-24-f27f98316157>\"\u001b[0;36m, line \u001b[0;32m51\u001b[0m\n\u001b[0;31m    else:\u001b[0m\n\u001b[0m       ^\u001b[0m\n\u001b[0;31mSyntaxError\u001b[0m\u001b[0;31m:\u001b[0m invalid syntax\n"
     ]
    }
   ],
   "source": [
    "\"\"\"\n",
    "Xhat1 = 2 terms. the first step, \n",
    "the hats can be random (sum of all possible letters-all letters \n",
    "have uniform probablity)\n",
    "Xhatrest = 3 terms.\n",
    "-make an estimator for each Xhati. then can decode\n",
    "-ran over and over. may have to worry about how many letters you have.\n",
    "-the more iterations the better the prediction. so the next letters will be decoded correctly with a higher probability. every iteration this is going to get more refined. an iteration is definited as the calculation for Xhat (over entire word) - have to know how many letters you have.\n",
    "-paxon’s non linearity is the clipping. apply clipping.\n",
    "\"\"\"\n",
    "def encode_Xhat(Xhat, cluster_size=3):\n",
    "    z = np.zeros(N)\n",
    "    for i in range(len(s)-cluster_size):\n",
    "        l = np.ones(N)\n",
    "        for j in s[i:i+cluster_size]:\n",
    "            l = np.multiply(Xhat[j], l)\n",
    "            l = np.roll(l, 1)\n",
    "        z += l\n",
    "\n",
    "    return 2*(z + 0.1*(np.random.rand(N) - 0.5) > 0) - 1\n",
    "\n",
    "def map_train(encoded, reg=1):\n",
    "    total_vec = np.zeros(N) #psi\n",
    "    for i in range(len(encoded)):\n",
    "        total_vec += np.multiply(encoded[i][0], encoded[i][1])\n",
    "    return total_vec\n",
    "\n",
    "\"\"\"\n",
    "really we could decode either or. I chose past\n",
    "\"\"\"\n",
    "present, past = words[0], past_tense[0]\n",
    "x = encode(past, RI_past, cluster_size=3)\n",
    "Xhat = np.zeros((len(past), N))\n",
    "Xhat[:] = np.sum(RI_past)\n",
    "C = encode_Xhat(Xhat, cluster_size=3)\n",
    "\"\"\"\n",
    "we know that the encoded word is past, so we're going to check \n",
    "similarity at every iteration\n",
    "\"\"\"\n",
    "num_iters = 10\n",
    "test_m = np.arange(1, num_iters, 1)\n",
    "train_dot = np.zeros_like(test_m)\n",
    "random_dot = np.zeros_like(test_m)\n",
    "random_vecs = np.random.randn(num_iters, N)\n",
    "for im, m in enumerate(test_m):\n",
    "    for i in range(1,Xhat.shape(0)):\n",
    "        if i == 1:\n",
    "            Xhat[i] = np.roll(x, 1)*(#*C*np.roll(Xhat[i+1], 2))+\n",
    "            x*(C*Xhat[i-1]*np.roll(Xhat[i+1], 2))+\n",
    "            Xhat[i]\n",
    "        else:\n",
    "            Xhat[i] = np.roll(x, 1)*(C*Xhat[i-1]*np.roll(Xhat[i],1))*np.roll(Xhat[i+1],2))+\n",
    "                x*(C*np.roll(Xhat[i-1],1)*np.roll(Xhat[i+1],2))+\n",
    "                x*(C*np.roll(Xhat[i+1],2)*np.roll(Xhat[i+2],3))+\n",
    "                Xhat[i]\n",
    "    pred = encode_Xhat(Xhat)\n",
    "    train_dot[im] = x.dot(pred)\n",
    "    random_dot[im] = x.dot(random_vecs[im,:])\n",
    "    C -= encode_Xhat(Xhat, cluster_size=3)\n",
    "\n",
    "plt.figure()\n",
    "plt.plot(test_m, train_dot)\n",
    "plt.plot(test_m, random_dot)\n",
    "plt.show()"
   ]
  },
  {
   "cell_type": "code",
   "execution_count": 20,
   "metadata": {
    "collapsed": false
   },
   "outputs": [
    {
     "data": {
      "image/png": "[encoded data removed]",
      "text/plain": [
       "<matplotlib.figure.Figure at 0x11291de90>"
      ]
     },
     "metadata": {},
     "output_type": "display_data"
    },
    {
     "data": {
      "image/png": "[encoded data removed]",
      "text/plain": [
       "<matplotlib.figure.Figure at 0x11291d410>"
      ]
     },
     "metadata": {},
     "output_type": "display_data"
    },
    {
     "data": {
      "image/png": "[encoded data removed]",
      "text/plain": [
       "<matplotlib.figure.Figure at 0x112d2d110>"
      ]
     },
     "metadata": {},
     "output_type": "display_data"
    }
   ],
   "source": [
    "N = 1000\n",
    "\"\"\"\n",
    "We are going to set up two sets of symbols -- one set that, say, \n",
    "represents objects (obj_vecs) 26 letters + # + .\n",
    "and another that represents transformations (trf_vecs) - \n",
    "although i think our transformations are different. i think it's just 1 or 2 transformations \n",
    "    -roll, clip\n",
    "\"\"\"\n",
    "objD = 28\n",
    "obj_vecs = 2 * (np.random.randn(objD, N) < 0) - 1\n",
    "\"\"\"\n",
    "What we expect is that symbols chosen from each set are bound together by multiplication, \n",
    "and the goal is to find the original two vectors. So in this case, recover the first trigram.\n",
    "\"\"\"\n",
    "present, past = words[0], past_tense[0]\n",
    "# bc it's just an -ed verb lol\n",
    "encoded_present = encode(present[:2], obj_vecs, cluster_size=3)\n",
    "encoded_past = encode(present[:2], obj_vecs, cluster_size=3)\n",
    "trf_vec = map_train([encoded_present, encoded_past])\n",
    "bound_vec = encoded_present * trf_vec\n",
    "\n",
    "x_coef = np.dot(obj_vecs, trf_vec.sum(axis=0) * bound_vec)\n",
    "t_coef = np.dot(trf_vec, obj_vecs.sum(axis=0) * bound_vec)\n",
    "\n",
    "\"\"\"\n",
    "We can now decode the result and figure out the original vectors that were bound together.\n",
    "Fucked up.\n",
    "\"\"\"\n",
    "figure(figsize=(10,4))\n",
    "\n",
    "subplot(121)\n",
    "plot(x_coef * N)\n",
    "ylim([-0.2, 1.2])\n",
    "\n",
    "subplot(122)\n",
    "plot(t_coef * N)\n",
    "ylim([-0.2, 1.2])\n",
    "yticks([])\n",
    "\n",
    "plt.tight_layout()\n",
    "\n",
    "xc_sum = np.dot(N*x_coef.T, obj_vecs) # our new guess is based on the coefficients from the frist step\n",
    "tc_sum = np.dot(N*t_coef.T, trf_vec)\n",
    "x_coef2 = np.dot(obj_vecs, tc_sum * bound_vec)\n",
    "t_coef2 = np.dot(trf_vec, xc_sum * bound_vec)\n",
    "\n",
    "figure(figsize=(10,4))\n",
    "\n",
    "subplot(121)\n",
    "plot(x_coef2 * N)\n",
    "ylim([-0.2, 1.2])\n",
    "\n",
    "subplot(122)\n",
    "plot(t_coef2 * N)\n",
    "ylim([-0.2, 1.2])\n",
    "yticks([])\n",
    "\n",
    "plt.tight_layout()\n",
    "\n",
    "xc_sum = np.dot(N*x_coef2.T, obj_vecs)\n",
    "tc_sum = np.dot(N*t_coef2.T, trf_vec)\n",
    "x_coef2 = np.dot(obj_vecs, tc_sum * bound_vec)\n",
    "t_coef2 = np.dot(trf_vec, xc_sum * bound_vec)\n",
    "\n",
    "figure(figsize=(10,4))\n",
    "\n",
    "subplot(121)\n",
    "plot(x_coef2 * N)\n",
    "\n",
    "subplot(122)\n",
    "plot(t_coef2 * N)\n",
    "yticks([])\n",
    "\n",
    "plt.tight_layout()"
   ]
  },
  {
   "cell_type": "code",
   "execution_count": null,
   "metadata": {
    "collapsed": true
   },
   "outputs": [],
   "source": [
    "# Resonance Attractors for Unbinding Inference\n",
    "# uhhhh"
   ]
  }
 ],
 "metadata": {
  "kernelspec": {
   "display_name": "Python 2",
   "language": "python",
   "name": "python2"
  },
  "language_info": {
   "codemirror_mode": {
    "name": "ipython",
    "version": 2
   },
   "file_extension": ".py",
   "mimetype": "text/x-python",
   "name": "python",
   "nbconvert_exporter": "python",
   "pygments_lexer": "ipython2",
   "version": "2.7.11"
  }
 },
 "nbformat": 4,
 "nbformat_minor": 0
}
