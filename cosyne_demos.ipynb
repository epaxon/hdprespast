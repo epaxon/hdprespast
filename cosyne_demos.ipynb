{
 "cells": [
  {
   "cell_type": "code",
   "execution_count": 210,
   "metadata": {
    "collapsed": true
   },
   "outputs": [],
   "source": [
    "import os\n",
    "import csv\n",
    "import numpy as np\n",
    "import utils\n",
    "import hrr_utils\n",
    "import time\n",
    "import random\n",
    "import scipy\n",
    "import sklearn\n",
    "\n",
    "from __future__ import division\n",
    "from pylab import *\n",
    "from scipy import spatial\n",
    "from scipy.spatial import distance\n",
    "from matplotlib import pyplot as plt\n",
    "from matplotlib.collections import LineCollection\n",
    "%matplotlib inline\n",
    "from sklearn.decomposition import PCA, FastICA, TruncatedSVD, NMF\n",
    "from scipy import stats\n",
    "\n",
    "%matplotlib inline\n",
    "\n",
    "plt.rcParams.update({'axes.titlesize': 'xx-large'})\n",
    "plt.rcParams.update({'axes.labelsize': 'xx-large'})\n",
    "plt.rcParams.update({'xtick.labelsize': 'x-large', 'ytick.labelsize': 'x-large'})\n",
    "plt.rcParams.update({'legend.fontsize': 'x-large'})\n",
    "plt.rcParams.update({'text.usetex': True})\n",
    "\n",
    "\n",
    "cwd = os.getcwd()\n",
    "\n",
    "\n",
    "alph = 'abcdefghijklmnopqrstuvwxyz#.'\n",
    "N=6000\n",
    "D = len(alph)\n",
    "dic1 = letter_vecs1 = 2 * (np.random.randn(D, N) < 0) - 1\n",
    "dic2 = letter_vecs2 = 2 * (np.random.randn(D, N) < 0) - 1\n",
    "\n",
    "\n",
    "def read_verbs(url):\n",
    "    keys = ['low', 'medium', 'high']\n",
    "    verbs = {key: [] for key in keys}\n",
    "    \n",
    "    with open(url, 'rb') as csvfile:\n",
    "        reader = csv.reader(csvfile, delimiter=',')\n",
    "        curr_verbs = []\n",
    "        i = 0\n",
    "        for row in reader:\n",
    "            if row[0] in keys:\n",
    "                curr_verbs = verbs[row[0]]\n",
    "            else:\n",
    "                curr_verbs.append([row[0], row[1]])\n",
    "            i+=1\n",
    "    return verbs\n",
    "\n",
    "def ngram_encode(ngram_str, letter_vecs):\n",
    "    vec = np.zeros(letter_vecs.shape[1])\n",
    "    \n",
    "    full_str = '#' + ngram_str + '.'\n",
    "    \n",
    "    \n",
    "    for il, l in enumerate(full_str[:-2]):\n",
    "        trivec = letter_vecs[alph.find(full_str[il]), :]\n",
    "        for c3 in range(1, 3):\n",
    "            trivec = trivec * np.roll(letter_vecs[alph.find(full_str[il+c3]), :], c3)\n",
    "            \n",
    "        vec += trivec\n",
    "    return vec\n",
    "\n",
    "def ngram_encode_cl(ngram_str, letter_vecs):\n",
    "    vec = ngram_encode(ngram_str, letter_vecs)\n",
    "    \n",
    "    return 2* (vec + 0.1*(np.random.rand(letter_vecs.shape[1])-0.5) > 0) - 1\n",
    "\n",
    "def genX(verbs):\n",
    "    X = np.zeros((len(verbs), N)) # Exclusively difference PAST1-PRES1\n",
    "    PRES1 = np.zeros((len(verbs), N))\n",
    "    PRES2 = np.zeros((len(verbs), N))\n",
    "    PAST1 = np.zeros((len(verbs), N))\n",
    "    PAST2 = np.zeros((len(verbs), N))\n",
    "    \n",
    "    for m in range(len(verbs)):\n",
    "        pair = verbs[m]\n",
    "        PRES1[m] = ngram_encode_cl(pair[1], dic1)\n",
    "        PRES2[m] = ngram_encode_cl(pair[1], dic2)\n",
    "        PAST1[m] = ngram_encode_cl(pair[0], dic1)\n",
    "        PAST2[m] = ngram_encode_cl(pair[0], dic2)\n",
    "#         print(pair[0], np.sum(PRES1[m]), pair[1], np.sum(PRES2[m]))\n",
    "        \n",
    "    #X = np.where(PAST1-PRES1 > 0, 1, -1)\n",
    "    X = PAST1-PRES1\n",
    "    return X, PRES1, PRES2, PAST1, PAST2\n",
    "\n",
    "def gen_verb_set(verbs, freq_sizes):\n",
    "    keys = ['high', 'medium', 'low']\n",
    "    verb_set_keys = ['dif', 'pres1', 'pres2', 'past1', 'past2']\n",
    "    size = sum([freq_sizes[freq] for freq in keys])    \n",
    "    verb_set = {key: np.zeros((size, N)) for key in verb_set_keys}\n",
    "    i = 0\n",
    "    verbs_to_encode = []\n",
    "    for freq in keys:\n",
    "        size = freq_sizes[freq]\n",
    "        indices = list(np.random.choice(len(verbs[freq]), size, replace=False))\n",
    "        verbs_to_encode += [verbs[freq][index] for index in indices]\n",
    "        \n",
    "    verb_set['dif'], verb_set['pres1'], verb_set['pres2'], verb_set['past1'], verb_set['past2'] = genX(verbs_to_encode)\n",
    "\n",
    "    return verb_set, verbs_to_encode\n",
    "\n",
    "def train_diff(tv, past2, present1, present2, sim):\n",
    "    tv += np.multiply(present1, past2-present2)\n",
    "    return tv\n",
    "\n",
    "def reg_train_diff(tv, past2, present1, present2, sim):\n",
    "    pred = np.multiply(tv, present1) + present2\n",
    "    tv += ((N-sim(pred, past2))/float(N)) * np.multiply(past2-present2, present1)\n",
    "    return tv\n",
    "\n",
    "def closed_train(Past, Present):\n",
    "    return np.dot(np.linalg.pinv(Present), Past)\n",
    "\n",
    "def cap_closed_train(Past, Present):\n",
    "    return np.dot(np.linalg.pinv(Present,rcond=5e-2), Past)\n",
    "\n",
    "def sim(x, y, dist=None):\n",
    "    if len(x.shape) == 1 or len(y.shape)==1:\n",
    "        return np.dot(x, y)\n",
    "    return np.sum(np.multiply(x, y), axis=1)\n",
    "\n",
    "def compare(pred, past2):\n",
    "    acc = 0\n",
    "    indices = []\n",
    "    for i in range(pred.shape[0]):\n",
    "        sims = sim(past2, pred[i])\n",
    "        predi = np.argmax(sims)\n",
    "        acc += i == predi\n",
    "        indices.append((i, predi))\n",
    "    return acc/float(past2.shape[0]), indices\n",
    "        \n",
    "def round_to_tick(number):\n",
    "    \"\"\"Round a number to the closest half integer.\"\"\"\n",
    "    return round(number * 2) / 2\n",
    "\n",
    "def graph_onetype(x, y, ystd, accuracy, title=None, xlabel='number of words', ylabel='average dot product', legend='upper left'):   \n",
    "    plt.figure(1)\n",
    "    plt.subplot(211)\n",
    "\n",
    "    plt.tick_params(axis='both', which='major', labelsize=12)\n",
    "    plt.tick_params(axis='both', which='minor', labelsize=12)\n",
    "\n",
    "    start = round_to_tick(min(y) - max(ystd))\n",
    "    end = round_to_tick(max(y) + max(ystd))\n",
    "    \n",
    "    ystd = np.clip(ystd, max(-8, start-.5), min(8, end+.5))\n",
    "    plt.plot(x, y, c='b', lw=2, label='Train')\n",
    "    plt.fill_between(x, y-ystd, y+ystd, facecolor='b', alpha=0.1)\n",
    "    plt.legend(loc=legend,fontsize=12)\n",
    "\n",
    "    plt.xlabel('Number Training Examples',fontsize=16)\n",
    "    plt.ylabel('Feature Similarity',fontsize=16)\n",
    "#     plt.title(title,fontsize=16)\n",
    "    plt.tight_layout()\n",
    "    \n",
    "    plt.subplot(212)\n",
    "    plt.plot(x, accuracy)\n",
    "    plt.xlabel('Number Training Examples',fontsize=16)\n",
    "    plt.ylabel('Accuracy',fontsize=16)\n",
    "\n",
    "\n",
    "def graph(x, y1, y2, y1std, y2std, accuracy, irreg_accuracy, title=None, xlabel='number of words', ylabel='average dot product', legend='upper left'):   \n",
    "    plt.figure(1)\n",
    "    plt.subplot(211)\n",
    "    plt.tick_params(axis='both', which='major', labelsize=12)\n",
    "    plt.tick_params(axis='both', which='minor', labelsize=12)\n",
    "    \n",
    "    start = round_to_tick(min(min(y1), min(y2)) - max(max(y1std),max(y2std)))\n",
    "    end = round_to_tick(max(max(y1), max(y2)) + max(max(y1std),max(y2std)))\n",
    "    \n",
    "    y1std = np.clip(y1std, max(-8, start-.5), min(8, end+.5))\n",
    "    y2std = np.clip(y2std, max(-8, start-.5), min(8, end+.5))\n",
    "    \n",
    "\n",
    "    plt.plot(x, y1, c='b', lw=2, label='Regular')\n",
    "    plt.plot(x, y2, c='g', lw=2, label='Irregular')\n",
    "\n",
    "    plt.fill_between(x, y1-y1std, y1+y1std, facecolor='b', alpha=0.1)\n",
    "    plt.fill_between(x, y2-y2std, y2+y2std, facecolor='g', alpha=0.1)\n",
    "    \n",
    "#     plt.fill_between(x, y2-y2std, y2+y2std, color='none', alpha=0.3, hatch=\"////\", edgecolor=\"g\")\n",
    "\n",
    "\n",
    "    plt.legend(loc=legend,fontsize=12)\n",
    "\n",
    "    plt.xlabel('Number Training Examples',fontsize=16)\n",
    "    plt.ylabel('Feature Similarity',fontsize=16)\n",
    "#     plt.title(title,fontsize=16)\n",
    "\n",
    "    plt.tight_layout()\n",
    "\n",
    "    plt.subplot(212)\n",
    "    plt.plot(x, accuracy, c='b', label='Regular')\n",
    "    plt.plot(x, irreg_accuracy, c='g', label='Irregular')\n",
    "    plt.xlabel('Number Training Examples',fontsize=16)\n",
    "    plt.ylabel('Accuracy',fontsize=16)\n",
    "    plt.legend(loc=legend,fontsize=12)"
   ]
  },
  {
   "cell_type": "code",
   "execution_count": 211,
   "metadata": {
    "collapsed": true
   },
   "outputs": [],
   "source": [
    "# todo: create training and test set of verb pairs for resonance attractor\n",
    "irreg_verbs1 = read_verbs('data/cleaned/R&M_irregular.csv')\n",
    "irreg_verbs2 = read_verbs('data/cleaned/Brown_irregular_std=1.csv')\n",
    "reg_verbs = read_verbs('data/cleaned/Brown_regular_std=0.25.csv')\n"
   ]
  },
  {
   "cell_type": "code",
   "execution_count": 212,
   "metadata": {},
   "outputs": [
    {
     "name": "stdout",
     "output_type": "stream",
     "text": [
      "('high', 8)\n",
      "('medium', 217)\n",
      "('low', 49)\n"
     ]
    }
   ],
   "source": [
    "\n",
    "irreg_verbs = irreg_verbs1\n",
    "\n",
    "for freq, tenses in irreg_verbs2.items():\n",
    "    irreg_verbs[freq] += tenses\n",
    "    \n",
    "for k, v in irreg_verbs.items():\n",
    "    print (k, len(v))\n",
    "    \n",
    "comb_verbs = reg_verbs\n",
    "for freq, tenses in irreg_verbs.items():\n",
    "    comb_verbs[freq] += tenses"
   ]
  },
  {
   "cell_type": "code",
   "execution_count": 213,
   "metadata": {},
   "outputs": [
    {
     "name": "stdout",
     "output_type": "stream",
     "text": [
      "('high', 8)\n",
      "('medium', 217)\n",
      "('low', 49)\n",
      "('high', 260)\n",
      "('medium', 1590)\n",
      "('low', 871)\n"
     ]
    }
   ],
   "source": [
    "for k, v in irreg_verbs.items():\n",
    "    print (k, len(v))\n",
    "    \n",
    "for k, v in reg_verbs.items():\n",
    "    print (k, len(v))"
   ]
  },
  {
   "cell_type": "code",
   "execution_count": 214,
   "metadata": {
    "collapsed": true
   },
   "outputs": [],
   "source": [
    "\"\"\"\n",
    "10 high freq\n",
    "410 med freq\n",
    "86 low freq\n",
    "\n",
    "irregular\n",
    "8 high freq\n",
    "76 med freq\n",
    "14 low freq\n",
    "\n",
    "regular\n",
    "2 high freq\n",
    "334 med freq\n",
    "72 low freq \n",
    "\"\"\"\n",
    "# irreg_freqs = {'high': 8, 'medium': 76, 'low': 14}\n",
    "# reg_freqs = {'high': 2, 'medium': 334, 'low': 72}\n",
    "# comb_freqs = {'high': 10, 'medium': 410, 'low': 86}\n",
    "\n",
    "irreg_freqs = {'high': 2, 'medium': 2, 'low': 2}\n",
    "reg_freqs = {'high': 2, 'medium': 2, 'low': 2}\n",
    "comb_freqs = {'high': 2, 'medium': 2, 'low': 2}\n",
    "\n",
    "irreg_vecs, irreg_verbs = gen_verb_set(irreg_verbs, irreg_freqs)\n",
    "reg_vecs, reg_verbs = gen_verb_set(reg_verbs, reg_freqs)\n",
    "comb_vecs, comb_verbs = gen_verb_set(comb_verbs, comb_freqs)"
   ]
  },
  {
   "cell_type": "code",
   "execution_count": 215,
   "metadata": {
    "collapsed": true
   },
   "outputs": [],
   "source": [
    "# todo: create input vectors (online difference algo and regression) for resonance attractor\n",
    "def diff_trigram_dict_onetype(past2, pres1, pres2, train_func=train_diff, similarity=sim):\n",
    "    psi = np.zeros(N)\n",
    "    psi = train_func(psi, past2[0], pres1[0], pres2[0], similarity)\n",
    "    \n",
    "    x = np.arange(1, pres1.shape[0]+1, 1)\n",
    "    y = np.zeros(pres1.shape[0])\n",
    "    ystd = np.zeros(pres1.shape[0])\n",
    "    accuracy = np.zeros(pres1.shape[0])\n",
    "    for k in range(1,past2.shape[0]):\n",
    "        pred = np.multiply(psi, pres1[:k])/float(N) + pres2[:k]\n",
    "        sim1 = sim(pred, past2[:k])\n",
    "        \n",
    "        y[k] = sim1.mean()\n",
    "        ystd[k] = np.nanstd(sim1, axis=0)\n",
    "        accuracy[k], indices = compare(pred, past2[:k])\n",
    "\n",
    "        psi = train_func(psi, past2[k], pres1[k], pres2[k], similarity)\n",
    "    return psi, x,y,ystd,accuracy\n",
    "\n"
   ]
  },
  {
   "cell_type": "code",
   "execution_count": 216,
   "metadata": {},
   "outputs": [
    {
     "name": "stdout",
     "output_type": "stream",
     "text": [
      "figures/unregularized_trigam_dict-N=6000-W=6-171101\n"
     ]
    },
    {
     "data": {
      "image/png": "[encoded data removed]",
      "text/plain": [
       "<matplotlib.figure.Figure at 0x7fa7ea68d690>"
      ]
     },
     "metadata": {},
     "output_type": "display_data"
    }
   ],
   "source": [
    "diff_psi_irreg,x,y,ystd,accuracy = diff_trigram_dict_onetype(irreg_vecs['past2'], irreg_vecs['past1'], irreg_vecs['pres2'])\n",
    "title = 'unregularized'\n",
    "legend = 'upper left'\n",
    "graph_onetype(x,y,ystd,accuracy,title=title,legend=legend)\n",
    "fname =  ('figures/'+title+'_trigam_dict-N=' + str(N) + '-W=' + str(y.shape[0]) \n",
    "          + '-' + time.strftime('%y%m%d'))\n",
    "print fname\n",
    "\n",
    "plt.savefig(fname + '.png', transparent=True)\n",
    "plt.savefig(fname + '.eps', transparent=True)"
   ]
  },
  {
   "cell_type": "code",
   "execution_count": 217,
   "metadata": {},
   "outputs": [
    {
     "name": "stdout",
     "output_type": "stream",
     "text": [
      "figures/unregularized_trigam_dict-N=6000-W=6-171101\n"
     ]
    },
    {
     "data": {
      "image/png": "[encoded data removed]",
      "text/plain": [
       "<matplotlib.figure.Figure at 0x7fa7eaa164d0>"
      ]
     },
     "metadata": {},
     "output_type": "display_data"
    }
   ],
   "source": [
    "diff_psi_reg, x,y,ystd,accuracy = diff_trigram_dict_onetype(reg_vecs['past2'], reg_vecs['past1'], reg_vecs['pres2'])\n",
    "title = 'unregularized'\n",
    "legend = 'upper left'\n",
    "graph_onetype(x,y,ystd,accuracy,title=title,legend=legend)\n",
    "fname =  ('figures/'+title+'_trigam_dict-N=' + str(N) + '-W=' + str(y.shape[0]) \n",
    "          + '-' + time.strftime('%y%m%d'))\n",
    "print fname\n",
    "\n",
    "plt.savefig(fname + '.png', transparent=True)\n",
    "plt.savefig(fname + '.eps', transparent=True)"
   ]
  },
  {
   "cell_type": "code",
   "execution_count": 218,
   "metadata": {},
   "outputs": [
    {
     "name": "stdout",
     "output_type": "stream",
     "text": [
      "figures/regularized_trigam_dict-N=6000-W=6-171101\n"
     ]
    },
    {
     "data": {
      "image/png": "[encoded data removed]",
      "text/plain": [
       "<matplotlib.figure.Figure at 0x7fa7b7c67090>"
      ]
     },
     "metadata": {},
     "output_type": "display_data"
    }
   ],
   "source": [
    "regularized_diff_psi_irreg,x,y,ystd,accuracy = diff_trigram_dict_onetype(irreg_vecs['past2'], irreg_vecs['past1'], irreg_vecs['pres2'], reg_train_diff)\n",
    "title = 'regularized'\n",
    "legend = 'upper left'\n",
    "graph_onetype(x,y,ystd,accuracy,title=title,legend=legend)\n",
    "fname =  ('figures/'+title+'_trigam_dict-N=' + str(N) + '-W=' + str(y.shape[0]) \n",
    "          + '-' + time.strftime('%y%m%d'))\n",
    "print fname\n",
    "\n",
    "plt.savefig(fname + '.png', transparent=True)\n",
    "plt.savefig(fname + '.eps', transparent=True)"
   ]
  },
  {
   "cell_type": "code",
   "execution_count": 219,
   "metadata": {},
   "outputs": [
    {
     "name": "stdout",
     "output_type": "stream",
     "text": [
      "figures/regularized_trigam_dict-N=6000-W=6-171101\n"
     ]
    },
    {
     "data": {
      "image/png": "[encoded data removed]",
      "text/plain": [
       "<matplotlib.figure.Figure at 0x7fa7ab2bd810>"
      ]
     },
     "metadata": {},
     "output_type": "display_data"
    }
   ],
   "source": [
    "regularized_diff_psi_reg, x,y,ystd,accuracy = diff_trigram_dict_onetype(reg_vecs['past2'], reg_vecs['past1'], reg_vecs['pres2'], reg_train_diff)\n",
    "title = 'regularized'\n",
    "legend = 'upper left'\n",
    "graph_onetype(x,y,ystd,accuracy,title=title,legend=legend)\n",
    "fname =  ('figures/'+title+'_trigam_dict-N=' + str(N) + '-W=' + str(y.shape[0]) \n",
    "          + '-' + time.strftime('%y%m%d'))\n",
    "print fname\n",
    "\n",
    "plt.savefig(fname + '.png', transparent=True)\n",
    "plt.savefig(fname + '.eps', transparent=True)"
   ]
  },
  {
   "cell_type": "code",
   "execution_count": 220,
   "metadata": {
    "collapsed": true
   },
   "outputs": [],
   "source": [
    "def diff_trigram_dict(comb_past2, comb_pres1, comb_pres2, irreg_past2, irreg_pres1, irreg_pres2, train_func=train_diff, similarity=sim):\n",
    "    psi = np.zeros(N)\n",
    "    psi = train_func(psi, comb_past2[0], comb_pres1[0], comb_pres2[0], similarity)\n",
    "\n",
    "    x = np.arange(1, comb_pres1.shape[0]+1, 1)\n",
    "    y1 = np.zeros(comb_pres1.shape[0])\n",
    "    y2 = np.zeros(comb_pres1.shape[0])\n",
    "    y1std = np.zeros(comb_pres1.shape[0])\n",
    "    y2std = np.zeros(comb_pres1.shape[0])\n",
    "\n",
    "    accuracy = np.zeros(comb_pres1.shape[0])\n",
    "    irreg_accuracy = np.zeros(comb_pres1.shape[0])\n",
    "\n",
    "    for k in range(1,comb_past2.shape[0]):\n",
    "        pred = np.multiply(psi, comb_pres1[:k]) + comb_pres2[:k]\n",
    "        irreg_pred = np.multiply(psi, irreg_pres1) + irreg_pres2\n",
    "\n",
    "        sim1 = sim(pred, comb_past2[:k])\n",
    "        sim2 = sim(irreg_pred, irreg_past2)\n",
    "\n",
    "        y1[k] = sim1.mean()\n",
    "        y2[k] = sim2.mean()\n",
    "        y1std[k] = np.nanstd(sim1, axis=0)\n",
    "        y2std[k] = np.nanstd(sim2, axis=0)\n",
    "        accuracy[k], indices = compare(pred, comb_past2[:k])\n",
    "        irreg_accuracy[k], irreg_indices = compare(irreg_pred, irreg_past2[:k])\n",
    "\n",
    "        psi = train_func(psi, comb_past2[k], comb_pres1[k], comb_pres2[k], similarity)\n",
    "    return psi,x,y1,y2,y1std,y2std, accuracy, irreg_accuracy\n"
   ]
  },
  {
   "cell_type": "code",
   "execution_count": 221,
   "metadata": {},
   "outputs": [
    {
     "name": "stdout",
     "output_type": "stream",
     "text": [
      "figures/unregularized_trigam_dict-N=6000-W=6-171101\n"
     ]
    },
    {
     "data": {
      "image/png": "[encoded data removed]",
      "text/plain": [
       "<matplotlib.figure.Figure at 0x7fa7aa821a50>"
      ]
     },
     "metadata": {},
     "output_type": "display_data"
    }
   ],
   "source": [
    "diff_psi,x,y1,y2,y1std,y2std,accuracy, irreg_accuracy = diff_trigram_dict(comb_vecs['past2'], \n",
    "                                                                 comb_vecs['pres1'],\n",
    "                                                                 comb_vecs['pres2'],\n",
    "                                                                 irreg_vecs['past2'],\n",
    "                                                                 irreg_vecs['pres1'],\n",
    "                                                                 irreg_vecs['pres2'])\n",
    "title = 'unregularized'\n",
    "legend = 'upper left'\n",
    "graph(x,y1,y2,y1std,y2std,accuracy,irreg_accuracy, title=title,legend=legend)\n",
    "fname =  ('figures/'+title+'_trigam_dict-N=' + str(N) + '-W=' + str(y.shape[0]) \n",
    "          + '-' + time.strftime('%y%m%d'))\n",
    "print fname\n",
    "\n",
    "plt.savefig(fname + '.png', transparent=True)\n",
    "plt.savefig(fname + '.eps', transparent=True)"
   ]
  },
  {
   "cell_type": "code",
   "execution_count": 222,
   "metadata": {},
   "outputs": [
    {
     "name": "stdout",
     "output_type": "stream",
     "text": [
      "figures/regularized_trigam_dict-N=6000-W=6-171101\n"
     ]
    },
    {
     "data": {
      "image/png": "[encoded data removed]",
      "text/plain": [
       "<matplotlib.figure.Figure at 0x7fa7e9bd1ad0>"
      ]
     },
     "metadata": {},
     "output_type": "display_data"
    }
   ],
   "source": [
    "regularized_diff_psi, x,y1,y2,y1std,y2std,accuracy, irreg_accuracy = diff_trigram_dict(comb_vecs['past2'], \n",
    "                                                                 comb_vecs['pres1'],\n",
    "                                                                 comb_vecs['pres2'],\n",
    "                                                                 irreg_vecs['past2'],\n",
    "                                                                 irreg_vecs['pres1'],\n",
    "                                                                 irreg_vecs['pres2'],\n",
    "                                                                 reg_train_diff\n",
    "                                                                )\n",
    "title = 'regularized'\n",
    "legend = 'upper left'\n",
    "graph(x,y1,y2,y1std,y2std,accuracy,irreg_accuracy, title=title,legend=legend)\n",
    "fname =  ('figures/'+title+'_trigam_dict-N=' + str(N) + '-W=' + str(y.shape[0]) \n",
    "          + '-' + time.strftime('%y%m%d'))\n",
    "print fname\n",
    "\n",
    "plt.savefig(fname + '.png', transparent=True)\n",
    "plt.savefig(fname + '.eps', transparent=True)"
   ]
  },
  {
   "cell_type": "code",
   "execution_count": 223,
   "metadata": {
    "collapsed": true
   },
   "outputs": [],
   "source": [
    "# def closed_train(Past, Present):\n",
    "#     return np.dot(np.linalg.pinv(Present), Past)\n",
    "\n",
    "# def cap_closed_train(Past, Present):\n",
    "#     return np.dot(np.linalg.pinv(Present,rcond=5e-2), Past)\n",
    "\n",
    "def diff_trigram_regress_onetype(past1, pres1, past2, pres2, train_func=closed_train):\n",
    "    x = np.arange(1, pres1.shape[0]+1, 1)\n",
    "    y = np.zeros(pres1.shape[0])\n",
    "    ystd = np.zeros(pres1.shape[0])\n",
    "    accuracy = np.zeros(pres1.shape[0])\n",
    "\n",
    "    for i in range(1, x.shape[0]):\n",
    "        k = x[i]\n",
    "        W = train_func(past2[:k]-pres2[:k], pres1[:k])\n",
    "        pred = pres1[:k].dot(W) + pres2[:k]\n",
    "\n",
    "        sim1 = sim(pred, past2[:k])\n",
    "\n",
    "        y[i] = sim1.mean()/N\n",
    "        ystd[i] = np.nanstd(sim1, axis=0)/N\n",
    "        accuracy[i], indices = compare(pred, past2[:k])\n",
    "        \n",
    "    W = train_func(past2-pres2, pres1)\n",
    "    return W, x,y,ystd,accuracy\n",
    "\n",
    "\n",
    "def diff_trigram_regress(comb_past1,\n",
    "                         comb_pres1,\n",
    "                         comb_past2,\n",
    "                         comb_pres2,\n",
    "                         irreg_past2,\n",
    "                         irreg_pres2,\n",
    "                         irreg_pres1,\n",
    "                         train_func=closed_train):\n",
    "    x = np.arange(1, comb_past1.shape[0], 10)\n",
    "    y1 = np.zeros(x.shape[0])\n",
    "    y2 = np.zeros(x.shape[0])\n",
    "    y1std = np.zeros(x.shape[0])\n",
    "    y2std = np.zeros(x.shape[0])\n",
    "    accuracy = np.zeros(x.shape[0])\n",
    "    irreg_accuracy = np.zeros(x.shape[0])\n",
    "    for i in range(1, x.shape[0]):#trainpres1.shape[0]):\n",
    "        k = x[i]\n",
    "        W = closed_train(comb_past2[:k]-comb_pres2[:k], comb_pres1[:k])\n",
    "        comb_pred = comb_pres1[:k].dot(W) + comb_pres2[:k]\n",
    "        irreg_pred = irreg_pres1.dot(W) + irreg_pres2\n",
    "\n",
    "        sim1 = sim(comb_pred, comb_past2[:k])\n",
    "        sim2 = sim(irreg_pred, irreg_past2)\n",
    "\n",
    "        y1[i] = sim1.mean()/N\n",
    "        y1std[i] = np.nanstd(sim1, axis=0)/N\n",
    "        y2[i] = sim2.mean()/N\n",
    "        y2std[i] = np.nanstd(sim2, axis=0)/N\n",
    "\n",
    "        accuracy[i], indices = compare(comb_pred, comb_past2[:k])\n",
    "        irreg_accuracy[i], irreg_indices = compare(irreg_pred, irreg_past2)\n",
    "\n",
    "    W = closed_train(comb_past2-comb_pres2, comb_pres1)\n",
    "    return W,x,y1,y2,y1std,y2std, accuracy, irreg_accuracy\n"
   ]
  },
  {
   "cell_type": "code",
   "execution_count": 224,
   "metadata": {},
   "outputs": [
    {
     "name": "stdout",
     "output_type": "stream",
     "text": [
      "figures/regression regular_trigam_dict-N=6000-W=6-171101\n"
     ]
    },
    {
     "data": {
      "image/png": "[encoded data removed]",
      "text/plain": [
       "<matplotlib.figure.Figure at 0x7fa7ea68d710>"
      ]
     },
     "metadata": {},
     "output_type": "display_data"
    }
   ],
   "source": [
    "W_reg,x,y,ystd,accuracy = diff_trigram_regress_onetype(reg_vecs['past1'], reg_vecs['pres1'], reg_vecs['past2'], reg_vecs['pres2'])\n",
    "title = 'regression regular'\n",
    "legend = 'upper left'\n",
    "graph_onetype(x,y,ystd,accuracy,title=title,legend=legend)\n",
    "fname =  ('figures/'+title+'_trigam_dict-N=' + str(N) + '-W=' + str(y.shape[0]) \n",
    "          + '-' + time.strftime('%y%m%d'))\n",
    "print fname\n",
    "\n",
    "plt.savefig(fname + '.png', transparent=True)\n",
    "plt.savefig(fname + '.eps', transparent=True)"
   ]
  },
  {
   "cell_type": "code",
   "execution_count": 225,
   "metadata": {},
   "outputs": [
    {
     "name": "stdout",
     "output_type": "stream",
     "text": [
      "figures/regression irregular_trigam_dict-N=6000-W=6-171101\n"
     ]
    },
    {
     "data": {
      "image/png": "[encoded data removed]",
      "text/plain": [
       "<matplotlib.figure.Figure at 0x7fa7ec8d3e10>"
      ]
     },
     "metadata": {},
     "output_type": "display_data"
    }
   ],
   "source": [
    "W_irreg,x,y,ystd,accuracy = diff_trigram_regress_onetype(irreg_vecs['past1'], irreg_vecs['pres1'], irreg_vecs['past2'], irreg_vecs['pres2'])\n",
    "title = 'regression irregular'\n",
    "legend = 'upper left'\n",
    "graph_onetype(x,y,ystd,accuracy,title=title,legend=legend)\n",
    "fname =  ('figures/'+title+'_trigam_dict-N=' + str(N) + '-W=' + str(y.shape[0]) \n",
    "          + '-' + time.strftime('%y%m%d'))\n",
    "print fname\n",
    "\n",
    "plt.savefig(fname + '.png', transparent=True)\n",
    "plt.savefig(fname + '.eps', transparent=True)"
   ]
  },
  {
   "cell_type": "code",
   "execution_count": 226,
   "metadata": {},
   "outputs": [
    {
     "name": "stdout",
     "output_type": "stream",
     "text": [
      "figures/regression-diff_unregularized_closedform_trigam-N=6000-171101\n"
     ]
    },
    {
     "data": {
      "image/png": "[encoded data removed]",
      "text/plain": [
       "<matplotlib.figure.Figure at 0x7fa7ab1d6690>"
      ]
     },
     "metadata": {},
     "output_type": "display_data"
    }
   ],
   "source": [
    "W_comb,x,y1,y2,y1std,y2std, accuracy, irreg_accuracy = diff_trigram_regress(comb_vecs['past1'],\n",
    "                                                                       comb_vecs['pres1'],\n",
    "                                                                       comb_vecs['past2'],\n",
    "                                                                       comb_vecs['pres2'],\n",
    "                                                                       irreg_vecs['past2'],\n",
    "                                                                       irreg_vecs['pres2'],\n",
    "                                                                       irreg_vecs['pres1']\n",
    "                                                                      )\n",
    "\n",
    "graph(x,y1,y2,y1std,y2std,accuracy, irreg_accuracy, title=\"diff-unregularized\")\n",
    "\n",
    "fname =  ('figures/regression-diff_unregularized_closedform_trigam-N=' + str(N)\n",
    "          + '-' + time.strftime('%y%m%d'))\n",
    "print fname\n",
    "\n",
    "plt.savefig(fname + '.png', transparent=True)\n",
    "plt.savefig(fname + '.eps', transparent=True)"
   ]
  },
  {
   "cell_type": "code",
   "execution_count": 227,
   "metadata": {},
   "outputs": [
    {
     "name": "stdout",
     "output_type": "stream",
     "text": [
      "((1,), (1,), (1,), (1,), (1,), (1,), (1,))\n"
     ]
    }
   ],
   "source": [
    "print (x.shape, y1.shape, y2.shape, y1std.shape, y2std.shape, accuracy.shape, irreg_accuracy.shape)"
   ]
  },
  {
   "cell_type": "code",
   "execution_count": 228,
   "metadata": {
    "collapsed": true
   },
   "outputs": [],
   "source": [
    "# todo: output reconstructions of verb in proper tense for resonance attractor\n",
    "inputs = [ \n",
    "    diff_psi_irreg,\n",
    "    diff_psi_reg,\n",
    "    diff_psi,\n",
    "    regularized_diff_psi_irreg,\n",
    "    regularized_diff_psi_reg,\n",
    "    regularized_diff_psi,\n",
    "    W_reg,\n",
    "    W_irreg,\n",
    "    W_comb\n",
    "]\n",
    "    \n"
   ]
  },
  {
   "cell_type": "code",
   "execution_count": 229,
   "metadata": {
    "collapsed": true
   },
   "outputs": [],
   "source": [
    "# PAST PRESENT TENSE DIFFERENCE\n",
    "def create_bound_vecs(verbs, vecs, N):\n",
    "    present_strs = [pair[0] for pair in verbs]\n",
    "    past_strs = [pair[1] for pair in verbs]\n",
    "    bound_vec = np.zeros(N)\n",
    "    regularized_bound_vec = np.zeros(N)\n",
    "    for i in range(len(past_strs)):\n",
    "        past1 = vecs['past1'][i]\n",
    "        pres1 = vecs['pres1'][i]\n",
    "        past2 = vecs['past2'][i]\n",
    "        pres2 = vecs['pres2'][i]\n",
    "        bound_diff = pres1 * (past2 - pres2)\n",
    "        pred = regularized_bound_vec*pres1 + pres2\n",
    "\n",
    "        regularized_bound_vec += ((N-sim(pred, past1))/float(N)) * bound_diff\n",
    "        bound_vec += bound_diff\n",
    "            \n",
    "    return bound_vec, regularized_bound_vec, present_strs, past_strs\n",
    "\n",
    "irreg_boundvec, regularized_irreg_boundvec, irreg_present_strs, irreg_past_strs = create_bound_vecs(irreg_verbs, irreg_vecs, N)\n",
    "reg_boundvec, regularized_reg_boundvec, reg_present_strs, reg_past_strs = create_bound_vecs(reg_verbs, reg_vecs, N)\n",
    "comb_boundvec, regularized_comb_boundvec, comb_present_strs, comb_past_strs = create_bound_vecs(comb_verbs, comb_vecs, N)\n",
    "\n",
    "n_steps = 100"
   ]
  },
  {
   "cell_type": "code",
   "execution_count": 230,
   "metadata": {
    "collapsed": true
   },
   "outputs": [],
   "source": [
    "def state_setup(state_length, letter_vecs, N, D, n_steps):\n",
    "    states = []\n",
    "    coef_hists = []\n",
    "    \n",
    "    for i in range(state_length):\n",
    "        states.append(np.random.randn(N))\n",
    "    \n",
    "    for i in range(1, state_length-1):\n",
    "        states[i] = np.dot(letter_vecs.T, np.dot(states[i], letter_vecs.T))\n",
    "\n",
    "    for i in range(1, state_length-1):\n",
    "        states[i] = states[i]/norm(states[i])\n",
    "\n",
    "    states[0] = letter_vecs[alph.find('#'), :]\n",
    "    states[state_length-1] = letter_vecs[alph.find('.'), :]\n",
    "    \n",
    "    for i in range(1, state_length-1):\n",
    "        coef_hists.append(np.zeros((n_steps, D)))\n",
    "    \n",
    "    return states, coef_hists\n",
    "\n",
    "def iterate(bound_vec, states, coef_hists, state_length, letter_vecs, N, D, n_steps):\n",
    "    for i in range(n_steps):\n",
    "        for j in range(1, state_length-1):\n",
    "            coef_hists[j-1][i, :] = np.dot(letter_vecs, states[j])\n",
    "            ## Need to make sure that the largest absolute value is always positive,\n",
    "            ## because the unbinding inference can flip 2 and be the same\n",
    "\n",
    "            mxidx = np.argmax(np.abs(coef_hists[j-1][i,:]))\n",
    "            states[j] *= np.sign(coef_hists[j-1][i, mxidx])\n",
    "            \n",
    "            if j == 1:\n",
    "                ljd = (np.roll(bound_vec * states[0] * np.roll(states[j+1], 2), -1) +\n",
    "                  bound_vec * np.roll(states[j+1], 1) * np.roll(states[j+2], 2)) / 2\n",
    "            elif 1 < j < state_length-2:\n",
    "                ljd = (np.roll(bound_vec * states[j-2] * np.roll(states[j-1], 1), -2) +\n",
    "                    np.roll(bound_vec * states[j-1] * np.roll(states[j+1], 2), -1) +\n",
    "                      bound_vec * np.roll(states[j+1], 1) * np.roll(states[j+2], 2)) / 3\n",
    "            else:\n",
    "                ljd = (np.roll(bound_vec * states[j-1] * np.roll(states[j+1], 2), -1) +\n",
    "                   np.roll(bound_vec * states[j-2] * np.roll(states[j-1], 1), -2)) / 2\n",
    "#             print ('iterate', (np.dot(ljd, letter_vecs.T)/N).shape, letter_vecs.T.shape)\n",
    "            states[j] = np.dot(letter_vecs.T, np.dot(ljd, letter_vecs.T)/N)\n",
    "            states[j] = states[j]/norm(states[j])\n",
    "\n",
    "    return states, coef_hists"
   ]
  },
  {
   "cell_type": "code",
   "execution_count": 231,
   "metadata": {
    "collapsed": true
   },
   "outputs": [],
   "source": [
    "def predict(bound_vec, pres_vec1, pres_vec2, word_length, dic1, N, D, nsteps, linreg=False):\n",
    "    if linreg:\n",
    "        pred_vec = pres_vec1.dot(bound_vec) + pres_vec2\n",
    "    else:\n",
    "        pred_vec = pres_vec1 * bound_vec + pres_vec2\n",
    "\n",
    "    states, coef_hists = state_setup(word_length+2, dic1, N, D, n_steps)\n",
    "    print ('state_setup', len(states), states[0].shape, coef_hists[0].shape)\n",
    "    print ('pred_vec', pred_vec.shape)\n",
    "    states, coef_hists = iterate(pred_vec, states, coef_hists, word_length+2, dic1, N, D, n_steps)\n",
    "\n",
    "#     figure(figsize=(10,3))\n",
    "#     cols = get_cmap('copper', min(50,n_steps))\n",
    "#     for i in range(min(50,n_steps)):\n",
    "#         subplot(131)\n",
    "#         plot(coef_hists[0][i,:], lw=3, c=cols(i))\n",
    "#         subplot(132)\n",
    "#         plot(coef_hists[1][i,:], lw=3, c=cols(i))\n",
    "#         subplot(133)\n",
    "#         plot(coef_hists[2][i,:], lw=3, c=cols(i))\n",
    "\n",
    "    pred = ''\n",
    "    for i in range(len(coef_hists)):\n",
    "        pred += alph[np.argmax(np.abs(coef_hists[i][-1,:]))]\n",
    "\n",
    "    return pred"
   ]
  },
  {
   "cell_type": "code",
   "execution_count": 232,
   "metadata": {},
   "outputs": [
    {
     "name": "stdout",
     "output_type": "stream",
     "text": [
      "('state_setup', 6, (6000,), (100, 28))\n",
      "('pred_vec', (6000,))\n",
      "('came', 'lssi')\n",
      "('state_setup', 5, (6000,), (100, 28))\n",
      "('pred_vec', (6000,))\n",
      "('had', '#lr')\n",
      "('state_setup', 5, (6000,), (100, 28))\n",
      "('pred_vec', (6000,))\n",
      "('fed', 'ipi')\n",
      "('state_setup', 7, (6000,), (100, 28))\n",
      "('pred_vec', (6000,))\n",
      "('shook', 'lycbi')\n",
      "('state_setup', 7, (6000,), (100, 28))\n",
      "('pred_vec', (6000,))\n",
      "('undid', 'kongl')\n",
      "('state_setup', 6, (6000,), (100, 28))\n",
      "('pred_vec', (6000,))\n",
      "('shed', 'qrk#')\n"
     ]
    }
   ],
   "source": [
    "# predict a word in bound_vec\n",
    "# unregularized bind\n",
    "\n",
    "bound_vecs = [ \n",
    "    diff_psi_irreg,\n",
    "    diff_psi_reg,\n",
    "    diff_psi,\n",
    "    regularized_diff_psi_irreg,\n",
    "    regularized_diff_psi_reg,\n",
    "    regularized_diff_psi\n",
    "]\n",
    "bound_matrices = [\n",
    "    W_reg,\n",
    "    W_irreg,\n",
    "    W_comb\n",
    "]\n",
    "nsteps = 100\n",
    "# for bound_vec in bound_vecs:\n",
    "# these two bound_vecs are essentially the same. May have a problem with too many verbs\n",
    "bound_vec = bound_vecs[0]\n",
    "bound_vec = irreg_boundvec\n",
    "for i in range(len(irreg_past_strs)):\n",
    "    pred = predict(bound_vec, irreg_vecs['pres1'][i], irreg_vecs['pres2'][i], len(irreg_past_strs[i]), dic1, N, D, nsteps)\n",
    "    print (irreg_past_strs[i], pred)\n"
   ]
  },
  {
   "cell_type": "code",
   "execution_count": null,
   "metadata": {
    "collapsed": true
   },
   "outputs": [],
   "source": [
    "# predict a word NOT in bound_vec"
   ]
  }
 ],
 "metadata": {
  "kernelspec": {
   "display_name": "Python 2",
   "language": "python",
   "name": "python2"
  },
  "language_info": {
   "codemirror_mode": {
    "name": "ipython",
    "version": 2
   },
   "file_extension": ".py",
   "mimetype": "text/x-python",
   "name": "python",
   "nbconvert_exporter": "python",
   "pygments_lexer": "ipython2",
   "version": "2.7.13"
  }
 },
 "nbformat": 4,
 "nbformat_minor": 2
}
