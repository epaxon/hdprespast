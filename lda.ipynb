{
 "cells": [
  {
   "cell_type": "code",
   "execution_count": 5,
   "metadata": {
    "collapsed": true
   },
   "outputs": [],
   "source": [
    "import csv\n",
    "import string\n",
    "import sys, itertools\n",
    "import random\n",
    "import numpy as np\n",
    "import matplotlib.pyplot as plt\n",
    "import matplotlib.cm as cm\n",
    "from mpl_toolkits.mplot3d import Axes3D\n",
    "from sklearn.discriminant_analysis import LinearDiscriminantAnalysis\n",
    "from sklearn.metrics import accuracy_score\n",
    "\n",
    "N = 1000\n",
    "alphabet = string.ascii_lowercase + '#' + '.'\n",
    "D = len(alphabet)\n",
    "z = np.ones(N)\n",
    "\n",
    "RI_pres = np.random.rand(D, N)\n",
    "RI_pres = np.where(RI_pres>0.5, 1, -1)\n",
    "\n",
    "RI_past = np.random.rand(D, N)\n",
    "RI_past = np.where(RI_past>0.5, 1, -1)\n",
    "\n",
    "def read_csv(filepath):\n",
    "    category2word = {}\n",
    "    key = 0\n",
    "    present, past = [], []\n",
    "    num_words = 0\n",
    "    with open(filepath, 'rb') as csvfile:\n",
    "        reader = csv.reader(csvfile, delimiter=',')\n",
    "        for row in reader:\n",
    "            if row[0] == \"#\":\n",
    "                category2word[key] = [present, past]\n",
    "                key += 1;\n",
    "                present, past = [], []\n",
    "            else:\n",
    "                present.append(row[0])\n",
    "                past.append(row[1])\n",
    "            num_words += 1\n",
    "    return category2word, num_words\n",
    "\n",
    "def ngram_encode_cl(ngram_str, letter_vecs, window=3):\n",
    "    vec = np.zeros(letter_vecs.shape[1])\n",
    "    full_str = '#' + ngram_str + '.'\n",
    "    for il, l in enumerate(full_str[:-(window-1)]):\n",
    "        trivec = letter_vecs[alphabet.find(full_str[il]), :]\n",
    "        for c3 in range(1, window):\n",
    "            trivec = trivec * np.roll(letter_vecs[alphabet.find(full_str[il+c3]), :], c3)\n",
    "        vec += trivec\n",
    "    return 2* (vec + 0.1*(np.random.rand(letter_vecs.shape[1])-0.5) < 0) - 1\n",
    "\n"
   ]
  },
  {
   "cell_type": "code",
   "execution_count": 6,
   "metadata": {
    "collapsed": true
   },
   "outputs": [],
   "source": [
    "irreg_category2word, irreg_num_words = read_csv(\"data/cleaned/irregular_verbs_final_categorize.csv\")\n",
    "reg_category2word, reg_num_words = read_csv(\"data/cleaned/regular_verbs_clean_categorize_small.csv\")"
   ]
  },
  {
   "cell_type": "code",
   "execution_count": 2,
   "metadata": {
    "collapsed": false
   },
   "outputs": [],
   "source": [
    "\n",
    "\n",
    "\n",
    "\n",
    "\n",
    "\n",
    "\n",
    "def plot_2D(X, y, num_classes):\n",
    "    d = 2\n",
    "    U, s, V = np.linalg.svd(X, full_matrices=True)\n",
    "    print (U.shape, s.shape, V.shape) \n",
    "\n",
    "    Ud = U[:, :d]\n",
    "    Sd = s[:d]*np.eye(d)\n",
    "    Vd = V[:d, :]\n",
    "    SdVd = np.dot(Sd, Vd)\n",
    "    print Ud.shape, Sd.shape, Vd.shape, SdVd.shape\n",
    "    reduced_X = Ud\n",
    "        \n",
    "    colors = cm.rainbow(np.linspace(0, 1, num_classes))\n",
    "    print colors\n",
    "    plt.figure()\n",
    "    plt.scatter(reduced_X[:,0], reduced_X[:,1], color = colors[y.astype(int)])\n",
    "    plt.show()\n",
    "    \"\"\"\n",
    "\n",
    "    colors = cm.rainbow(np.linspace(0, 1, num_classes))\n",
    "\n",
    "    fig = plt.figure()\n",
    "    for i, row in data.iterrows():\n",
    "        plt.scatter(proj[0], proj[1], color = \n",
    "                    plotlabels[row[self.labelcol]])\n",
    "    plt.show()\n",
    "    \"\"\"\n",
    "    \n",
    "\"\"\"\n",
    "http://scikit-learn.org/stable/modules/generated/sklearn.discriminant_analysis.LinearDiscriminantAnalysis.html\n",
    "\n",
    "irregular verbs are in own classes separated by first letter\n",
    "regular verbs are in own classes separated by rules: #d, #ed, #**ed, #, #?\n",
    "\"\"\""
   ]
  },
  {
   "cell_type": "code",
   "execution_count": 3,
   "metadata": {
    "collapsed": false
   },
   "outputs": [
    {
     "name": "stderr",
     "output_type": "stream",
     "text": [
      "/Users/quinntran/anaconda/lib/python2.7/site-packages/sklearn/discriminant_analysis.py:453: UserWarning: The priors do not sum to 1. Renormalizing\n",
      "  UserWarning)\n",
      "/Users/quinntran/anaconda/lib/python2.7/site-packages/sklearn/discriminant_analysis.py:387: UserWarning: Variables are collinear.\n",
      "  warnings.warn(\"Variables are collinear.\")\n"
     ]
    },
    {
     "name": "stdout",
     "output_type": "stream",
     "text": [
      "((104, 1000), (104,))\n",
      "[ 1.]\n",
      "[ 0.  0.  0.  0.  0.  0.  0.  0.  0.  0.  0.  0.  0.  0.  0.  0.  0.  0.\n",
      "  0.  0.  0.  0.  0.  0.  0.  0.  0.  0.  0.  0.  0.  0.  0.  0.  0.  0.\n",
      "  0.  0.  1.  1.  1.  1.  1.  1.  1.  1.  1.  1.  1.  1.  1.  1.  1.  1.\n",
      "  1.  1.  1.  1.  1.  1.  1.  1.  1.  1.  1.  1.  1.  1.  1.  1.  1.  1.\n",
      "  1.  1.  1.  1.  1.  1.  1.  1.  1.  1.  1.  1.  1.  1.  1.  1.  1.  1.\n",
      "  1.  1.  1.  1.  1.  1.  1.  1.  1.  1.  1.  1.  1.  1.]\n",
      "0.903846153846\n"
     ]
    },
    {
     "name": "stderr",
     "output_type": "stream",
     "text": [
      "/Users/quinntran/anaconda/lib/python2.7/site-packages/sklearn/utils/validation.py:386: DeprecationWarning: Passing 1d arrays as data is deprecated in 0.17 and willraise ValueError in 0.19. Reshape your data either using X.reshape(-1, 1) if your data has a single feature or X.reshape(1, -1) if it contains a single sample.\n",
      "  DeprecationWarning)\n"
     ]
    }
   ],
   "source": [
    "print (regular_X.shape, regular_y.shape)\n",
    "regular_clf = LinearDiscriminantAnalysis(n_components=4, store_covariance=True)\n",
    "regular_clf.fit(regular_X, regular_y)\n",
    "print(regular_clf.predict(np.random.random(N)))\n",
    "#test_indices = np.random.choice(regular_X.shape[0], 20, replace=False)\n",
    "regular_y_pred = regular_clf.predict(regular_X)#regular_X[test_indices])\n",
    "print regular_y_pred\n",
    "print accuracy_score(regular_y, regular_y_pred)"
   ]
  },
  {
   "cell_type": "code",
   "execution_count": 4,
   "metadata": {
    "collapsed": false
   },
   "outputs": [
    {
     "name": "stdout",
     "output_type": "stream",
     "text": [
      "[ 7.]\n",
      "[ 0.  0.  0.  0.  0.  0.  0.  0.  0.  0.  0.  0.  0.  0.  0.  0.  0.  0.\n",
      "  1.  1.  1.  1.  1.  1.  1.  1.  1.  1.  2.  2.  2.  2.  2.  2.  2.  2.\n",
      "  2.  2.  2.  2.  2.  2.  2.  2.  2.  2.  2.  2.  2.  2.  2.  2.  2.  2.\n",
      "  2.  2.  2.  2.  2.  2.  3.  3.  3.  3.  3.  3.  3.  3.  3.  3.  3.  3.\n",
      "  3.  3.  3.  3.  4.  4.  4.  4.  4.  4.  4.  4.  4.  4.  4.  4.  4.  4.\n",
      "  4.  4.  4.  4.  4.  4.  4.  4.  4.  4.  4.  4.  4.  4.  4.  4.  4.  4.\n",
      "  4.  4.  4.  4.  4.  4.  4.  4.  4.  4.  4.  4.  5.  5.  5.  5.  5.  5.\n",
      "  5.  5.  6.  6.  6.  6.  6.  6.  6.  6.  6.  6.  6.  6.  7.  7.  7.  7.\n",
      "  7.  7.  7.  7.  7.  7.  7.  7.  7.  7.  7.  7.  7.  7.  7.  7.  7.  7.\n",
      "  7.  7.  7.  7.  7.  7.  7.  7.  7.  7.  7.  7.  7.  7.  0.  0.  0.  0.\n",
      "  0.  0.  0.  0.  0.  0.  0.  0.]\n",
      "[ 1.  1.  1.  1.  1.  1.  1.  1.  1.  1.  1.  1.  1.  1.  1.  1.  1.  1.\n",
      "  1.  1.  1.  1.  1.  1.  1.  1.  1.  1.  1.  1.  1.  1.  1.  1.  1.  1.\n",
      "  0.  1.  1.  1.  1.  1.  1.  1.  1.  1.  1.  1.  1.  1.  1.  1.  1.  1.\n",
      "  1.  1.  1.  1.  1.  1.  1.  1.  1.  1.  1.  1.  1.  1.  1.  1.  1.  1.\n",
      "  1.  1.  1.  1.  1.  1.  1.  1.  1.  1.  1.  1.  1.  1.  1.  1.  1.  1.\n",
      "  1.  1.  1.  1.  1.  1.  1.  1.  1.  1.  1.  1.  0.  1.  1.  1.  1.  0.\n",
      "  1.  1.  1.  1.  1.  1.  1.  1.  1.  1.  1.  1.  1.  1.  1.  1.  1.  1.\n",
      "  1.  1.  1.  1.  1.  1.  1.  1.  1.  1.  1.  1.  1.  1.  1.  1.  1.  1.\n",
      "  1.  1.  1.  1.  1.  1.  1.  1.  0.  1.  1.  1.  1.  1.  1.  1.  1.  1.\n",
      "  1.  1.  1.  1.  1.  1.  1.  1.  1.  1.  1.  1.  1.  1.  1.  1.  1.  1.\n",
      "  1.  1.  1.  1.  1.  1.  1.  1.]\n",
      "0.0531914893617\n"
     ]
    },
    {
     "name": "stderr",
     "output_type": "stream",
     "text": [
      "/Users/quinntran/anaconda/lib/python2.7/site-packages/sklearn/utils/validation.py:386: DeprecationWarning: Passing 1d arrays as data is deprecated in 0.17 and willraise ValueError in 0.19. Reshape your data either using X.reshape(-1, 1) if your data has a single feature or X.reshape(1, -1) if it contains a single sample.\n",
      "  DeprecationWarning)\n"
     ]
    }
   ],
   "source": [
    "# so arbitrarily assigned rules for irregular verbs don't work lmao. \n",
    "# should every irregular verb just get its own rule?\n",
    "irregular_clf = LinearDiscriminantAnalysis(n_components=9, store_covariance=True)\n",
    "irregular_clf.fit(irregular_X, irregular_y)\n",
    "print(irregular_clf.predict(np.random.random(N)))\n",
    "irregular_y_pred = regular_clf.predict(irregular_X)\n",
    "print irregular_y\n",
    "print irregular_y_pred\n",
    "print accuracy_score(irregular_y, irregular_y_pred)"
   ]
  },
  {
   "cell_type": "code",
   "execution_count": 7,
   "metadata": {
    "collapsed": false
   },
   "outputs": [
    {
     "name": "stdout",
     "output_type": "stream",
     "text": [
      "((104, 104), (104,), (1000, 1000))\n",
      "(104, 2) (2, 2) (2, 1000) (2, 1000)\n"
     ]
    }
   ],
   "source": [
    "d = 2\n",
    "U, s, V = np.linalg.svd(regular_X, full_matrices=True)\n",
    "print (U.shape, s.shape, V.shape) \n",
    "\n",
    "Ud = U[:, :d]\n",
    "Sd = s[:d]*np.eye(d)\n",
    "Vd = V[:d, :]\n",
    "SdVd = np.dot(Sd, Vd)\n",
    "print Ud.shape, Sd.shape, Vd.shape, SdVd.shape\n",
    "reduced_X = Ud"
   ]
  },
  {
   "cell_type": "code",
   "execution_count": null,
   "metadata": {
    "collapsed": true
   },
   "outputs": [],
   "source": [
    "# why is graphing so slow!?\n",
    "plt.figure()\n",
    "plt.scatter(reduced_X[:,0], reduced_X[:,1])\n",
    "plt.show()"
   ]
  },
  {
   "cell_type": "code",
   "execution_count": null,
   "metadata": {
    "collapsed": true
   },
   "outputs": [],
   "source": []
  }
 ],
 "metadata": {
  "kernelspec": {
   "display_name": "Python 2",
   "language": "python",
   "name": "python2"
  },
  "language_info": {
   "codemirror_mode": {
    "name": "ipython",
    "version": 2
   },
   "file_extension": ".py",
   "mimetype": "text/x-python",
   "name": "python",
   "nbconvert_exporter": "python",
   "pygments_lexer": "ipython2",
   "version": "2.7.11"
  }
 },
 "nbformat": 4,
 "nbformat_minor": 0
}
