{
 "cells": [
  {
   "cell_type": "code",
   "execution_count": 1,
   "metadata": {
    "collapsed": false
   },
   "outputs": [
    {
     "name": "stdout",
     "output_type": "stream",
     "text": [
      "[(0, u'0.014*beat + 0.014*bust + 0.014*devel'), (1, u'0.013*dibbl + 0.013*dray + 0.013*alkyl'), (2, u'0.012*dream + 0.012*divert + 0.012*fever'), (3, u'0.015*quit + 0.015*honi + 0.015*shred'), (4, u'0.012*bit + 0.012*leav + 0.012*inpour'), (5, u'0.013*saw + 0.013*menac + 0.013*wood'), (6, u'0.013*bled + 0.013*raven + 0.013*dint'), (7, u'0.026*let + 0.019*sing + 0.013*legat'), (8, u'0.013*emulsifi + 0.013*reenter + 0.013*slime'), (9, u'0.013*bereav + 0.013*stereograph + 0.013*overag')]\n"
     ]
    }
   ],
   "source": [
    "import csv\n",
    "import gensim\n",
    "\n",
    "from stop_words import get_stop_words\n",
    "from nltk.stem.porter import PorterStemmer\n",
    "from gensim import corpora, models\n",
    "\n",
    "en_stop = get_stop_words('en')\n",
    "p_stemmer = PorterStemmer()\n",
    "\n",
    "# run lda on words themselves\n",
    "# https://rstudio-pubs-static.s3.amazonaws.com/79360_850b2a69980c4488b1db95987a24867a.html\n",
    "# whoops. didn't work\n",
    "def read_docs(filepath):\n",
    "    docs = []\n",
    "    with open(filepath, \"rb\") as csvfile:\n",
    "        reader = csv.reader(csvfile, delimiter=\",\")\n",
    "        for row in reader:\n",
    "            docs.append([row[0],row[1]])\n",
    "    return docs\n",
    "\n",
    "doc_set = read_docs(\"data/cleaned/regular_verbs_clean.csv\")\n",
    "doc_set += read_docs(\"data/cleaned/irregular_verbs_clean.csv\")\n",
    "\n",
    "num_docs = len(doc_set)\n",
    "texts = []\n",
    "for i in range(num_docs):\n",
    "    # remove stop words from tokens\n",
    "    # stem token\n",
    "    texts.append([p_stemmer.stem(t) for t in doc_set[i] if not t in en_stop])\n",
    "\n",
    "dictionary = corpora.Dictionary(texts)\n",
    "# corpus is a document-term matrix.  a list of vectors equal to the number of documents. \n",
    "# In each document vector is a series of tuples\n",
    "corpus = [dictionary.doc2bow(text) for text in texts]\n",
    "ldamodel = gensim.models.ldamodel.LdaModel(corpus, num_topics=10, id2word = dictionary, passes=20)\n",
    "print(ldamodel.print_topics(num_topics=10, num_words=3))"
   ]
  },
  {
   "cell_type": "code",
   "execution_count": 2,
   "metadata": {
    "collapsed": false
   },
   "outputs": [],
   "source": [
    "import csv\n",
    "import string\n",
    "import sys, itertools\n",
    "import random\n",
    "import numpy as np\n",
    "import matplotlib.pyplot as plt\n",
    "import matplotlib.cm as cm\n",
    "from mpl_toolkits.mplot3d import Axes3D\n",
    "from sklearn.discriminant_analysis import LinearDiscriminantAnalysis\n",
    "from sklearn.metrics import accuracy_score\n",
    "\n",
    "N = 1000\n",
    "alphabet = string.ascii_lowercase + '#' + '.'\n",
    "D = len(alphabet)\n",
    "z = np.ones(N)\n",
    "\n",
    "RI_pres = np.random.rand(D, N)\n",
    "RI_pres = np.where(RI_pres>0.5, 1, -1)\n",
    "\n",
    "RI_past = np.random.rand(D, N)\n",
    "RI_past = np.where(RI_past>0.5, 1, -1)\n",
    "\n",
    "def ngram_encode(ngram_str, letter_vecs, window=3):\n",
    "    vec = np.zeros(letter_vecs.shape[1])\n",
    "    full_str = '#' + ngram_str + '.'\n",
    "    for il, l in enumerate(full_str[:-(window-1)]):\n",
    "        trivec = letter_vecs[alphabet.find(full_str[il]), :]\n",
    "        for c3 in range(1, window):\n",
    "            trivec = trivec * np.roll(letter_vecs[alphabet.find(full_str[il+c3]), :], c3)\n",
    "        vec += trivec\n",
    "    return vec\n",
    "\n",
    "def ngram_encode_cl(ngram_str, letter_vecs, window=3):\n",
    "    vec = np.zeros(letter_vecs.shape[1])\n",
    "    full_str = '#' + ngram_str + '.'\n",
    "    for il, l in enumerate(full_str[:-(window-1)]):\n",
    "        trivec = letter_vecs[alphabet.find(full_str[il]), :]\n",
    "        for c3 in range(1, window):\n",
    "            trivec = trivec * np.roll(letter_vecs[alphabet.find(full_str[il+c3]), :], c3)\n",
    "        vec += trivec\n",
    "    return 2* (vec + 0.1*(np.random.rand(letter_vecs.shape[1])-0.5) < 0) - 1\n",
    "\n",
    "\n",
    "\n",
    "def read_csv(filepath):\n",
    "    # lists of lists where each sublist corresponds to rule\n",
    "    pres, past = {}, {}\n",
    "    key = 0\n",
    "    num_words = 0\n",
    "    with open(filepath, \"rb\") as csvfile:\n",
    "        reader = csv.reader(csvfile, delimiter=\",\")\n",
    "        sub_pres, sub_past = [], []\n",
    "        for row in reader:\n",
    "            if \"#\" in row[0]:\n",
    "                pres[key], past[key] = sub_pres, sub_past\n",
    "                sub_pres, sub_past = [], []\n",
    "                key += 1\n",
    "            else:\n",
    "                sub_pres.append(ngram_encode_cl(row[0], RI_pres, 3))\n",
    "                sub_past.append(ngram_encode_cl(row[1], RI_past, 3))\n",
    "                num_words += 2\n",
    "                \n",
    "    X = np.zeros((num_words-4, N))\n",
    "    y = np.zeros(num_words-4)\n",
    "    num_classes = len(pres.keys())\n",
    "\n",
    "    j = 0\n",
    "    for i in range(num_classes):\n",
    "        for pres_vec in pres[i]:\n",
    "            X[j] = pres_vec\n",
    "            y[j] = i\n",
    "            j += 1\n",
    "        for past_vec in past[i]:\n",
    "            X[j] = past_vec\n",
    "            y[j] = i\n",
    "            j += 1\n",
    "        \n",
    "        #print i\n",
    "    return X, y, num_classes\n",
    "\n",
    "def plot_proj_2D(X, y, num_classes):\n",
    "    d = 2\n",
    "    U, s, V = np.linalg.svd(X, full_matrices=True)\n",
    "    print (U.shape, s.shape, V.shape) \n",
    "\n",
    "    Ud = U[:, :d]\n",
    "    Sd = s[:d]*np.eye(d)\n",
    "    Vd = V[:d, :]\n",
    "    SdVd = np.dot(Sd, Vd)\n",
    "    print Ud.shape, Sd.shape, Vd.shape, SdVd.shape\n",
    "    reduced_X = Ud\n",
    "        \n",
    "    colors = cm.rainbow(np.linspace(0, 1, num_classes))\n",
    "    print colors\n",
    "    plt.figure()\n",
    "    plt.scatter(reduced_X[:,0], reduced_X[:,1], color = colors[y.astype(int)])\n",
    "    plt.show()\n",
    "    \"\"\"\n",
    "\n",
    "    colors = cm.rainbow(np.linspace(0, 1, num_classes))\n",
    "\n",
    "    fig = plt.figure()\n",
    "    for i, row in data.iterrows():\n",
    "        plt.scatter(proj[0], proj[1], color = \n",
    "                    plotlabels[row[self.labelcol]])\n",
    "    plt.show()\n",
    "    \"\"\"\n",
    "    \n",
    "\"\"\"\n",
    "http://scikit-learn.org/stable/modules/generated/sklearn.discriminant_analysis.LinearDiscriminantAnalysis.html\n",
    "\n",
    "irregular verbs are in own classes separated by first letter\n",
    "regular verbs are in own classes separated by rules: #d, #ed, #**ed, #, #?\n",
    "\"\"\"\n",
    "regular_X, regular_y, regular_num_classes = read_csv(\"data/cleaned/regular_verbs_clean_categorize_small.csv\")\n",
    "irregular_X, irregular_y, irregular_num_classes = read_csv(\"data/cleaned/irregular_verbs_final_categorize.csv\")"
   ]
  },
  {
   "cell_type": "code",
   "execution_count": 5,
   "metadata": {
    "collapsed": false
   },
   "outputs": [
    {
     "name": "stdout",
     "output_type": "stream",
     "text": [
      "((104, 1000), (104,))\n",
      "[ 1.]\n",
      "[ 0.  0.  0.  0.  0.  0.  0.  0.  0.  0.  0.  0.  0.  0.  0.  0.  0.  0.\n",
      "  0.  0.  0.  0.  0.  0.  0.  0.  0.  0.  0.  0.  0.  0.  0.  0.  0.  0.\n",
      "  0.  0.  1.  1.  1.  1.  1.  1.  1.  1.  1.  1.  1.  1.  1.  1.  1.  1.\n",
      "  1.  1.  1.  1.  1.  1.  1.  1.  1.  1.  1.  1.  1.  1.  1.  1.  1.  1.\n",
      "  1.  1.  1.  1.  1.  1.  1.  1.  1.  1.  1.  1.  1.  1.  1.  1.  1.  1.\n",
      "  1.  1.  1.  1.  1.  1.  1.  1.  1.  1.  1.  1.  1.  1.]\n",
      "0.903846153846\n"
     ]
    },
    {
     "name": "stderr",
     "output_type": "stream",
     "text": [
      "/Users/quinntran/anaconda/lib/python2.7/site-packages/sklearn/utils/validation.py:386: DeprecationWarning: Passing 1d arrays as data is deprecated in 0.17 and willraise ValueError in 0.19. Reshape your data either using X.reshape(-1, 1) if your data has a single feature or X.reshape(1, -1) if it contains a single sample.\n",
      "  DeprecationWarning)\n"
     ]
    }
   ],
   "source": [
    "print (regular_X.shape, regular_y.shape)\n",
    "regular_clf = LinearDiscriminantAnalysis(n_components=4, store_covariance=True)\n",
    "regular_clf.fit(regular_X, regular_y)\n",
    "print(regular_clf.predict(np.random.random(N)))\n",
    "#test_indices = np.random.choice(regular_X.shape[0], 20, replace=False)\n",
    "regular_y_pred = regular_clf.predict(regular_X)#regular_X[test_indices])\n",
    "print regular_y_pred\n",
    "print accuracy_score(regular_y, regular_y_pred)"
   ]
  },
  {
   "cell_type": "code",
   "execution_count": 6,
   "metadata": {
    "collapsed": false
   },
   "outputs": [
    {
     "name": "stdout",
     "output_type": "stream",
     "text": [
      "[ 2.]\n",
      "[ 0.  0.  0.  0.  0.  0.  0.  0.  0.  0.  0.  0.  0.  0.  0.  0.  0.  0.\n",
      "  1.  1.  1.  1.  1.  1.  1.  1.  1.  1.  2.  2.  2.  2.  2.  2.  2.  2.\n",
      "  2.  2.  2.  2.  2.  2.  2.  2.  2.  2.  2.  2.  2.  2.  2.  2.  2.  2.\n",
      "  2.  2.  2.  2.  2.  2.  3.  3.  3.  3.  3.  3.  3.  3.  3.  3.  3.  3.\n",
      "  3.  3.  3.  3.  4.  4.  4.  4.  4.  4.  4.  4.  4.  4.  4.  4.  4.  4.\n",
      "  4.  4.  4.  4.  4.  4.  4.  4.  4.  4.  4.  4.  4.  4.  4.  4.  4.  4.\n",
      "  4.  4.  4.  4.  4.  4.  4.  4.  4.  4.  4.  4.  5.  5.  5.  5.  5.  5.\n",
      "  5.  5.  6.  6.  6.  6.  6.  6.  6.  6.  6.  6.  6.  6.  7.  7.  7.  7.\n",
      "  7.  7.  7.  7.  7.  7.  7.  7.  7.  7.  7.  7.  7.  7.  7.  7.  7.  7.\n",
      "  7.  7.  7.  7.  7.  7.  7.  7.  7.  7.  7.  7.  7.  7.  0.  0.  0.  0.\n",
      "  0.  0.  0.  0.  0.  0.  0.  0.]\n",
      "[ 1.  1.  1.  1.  1.  1.  1.  1.  1.  1.  1.  1.  1.  1.  1.  1.  1.  1.\n",
      "  1.  1.  1.  1.  1.  1.  1.  1.  1.  1.  1.  1.  1.  1.  1.  1.  1.  1.\n",
      "  0.  1.  1.  1.  1.  1.  1.  1.  1.  1.  1.  1.  1.  1.  1.  1.  1.  1.\n",
      "  1.  1.  1.  1.  1.  1.  0.  1.  1.  1.  1.  1.  1.  1.  1.  1.  1.  1.\n",
      "  1.  1.  1.  1.  1.  1.  1.  1.  1.  1.  1.  1.  1.  1.  1.  1.  1.  1.\n",
      "  1.  1.  1.  1.  1.  1.  1.  1.  1.  1.  1.  1.  0.  1.  1.  1.  1.  1.\n",
      "  1.  1.  1.  1.  1.  1.  1.  1.  1.  0.  1.  1.  1.  1.  1.  1.  1.  1.\n",
      "  1.  1.  1.  1.  1.  1.  1.  1.  1.  1.  1.  1.  1.  1.  1.  1.  1.  1.\n",
      "  1.  1.  1.  1.  1.  1.  1.  1.  1.  1.  1.  1.  1.  1.  1.  1.  1.  1.\n",
      "  1.  1.  1.  1.  1.  1.  1.  1.  1.  1.  1.  1.  1.  1.  1.  1.  1.  1.\n",
      "  1.  1.  1.  1.  1.  1.  1.  1.]\n",
      "0.0531914893617\n"
     ]
    },
    {
     "name": "stderr",
     "output_type": "stream",
     "text": [
      "/Users/quinntran/anaconda/lib/python2.7/site-packages/sklearn/utils/validation.py:386: DeprecationWarning: Passing 1d arrays as data is deprecated in 0.17 and willraise ValueError in 0.19. Reshape your data either using X.reshape(-1, 1) if your data has a single feature or X.reshape(1, -1) if it contains a single sample.\n",
      "  DeprecationWarning)\n"
     ]
    }
   ],
   "source": [
    "# so arbitrarily assigned rules for irregular verbs don't work lmao. \n",
    "# should every irregular verb just get its own rule?\n",
    "irregular_clf = LinearDiscriminantAnalysis(n_components=9, store_covariance=True)\n",
    "irregular_clf.fit(irregular_X, irregular_y)\n",
    "print(irregular_clf.predict(np.random.random(N)))\n",
    "irregular_y_pred = regular_clf.predict(irregular_X)\n",
    "print irregular_y\n",
    "print irregular_y_pred\n",
    "print accuracy_score(irregular_y, irregular_y_pred)"
   ]
  },
  {
   "cell_type": "code",
   "execution_count": 7,
   "metadata": {
    "collapsed": false
   },
   "outputs": [
    {
     "name": "stdout",
     "output_type": "stream",
     "text": [
      "((104, 104), (104,), (1000, 1000))\n",
      "(104, 2) (2, 2) (2, 1000) (2, 1000)\n"
     ]
    }
   ],
   "source": [
    "d = 2\n",
    "U, s, V = np.linalg.svd(regular_X, full_matrices=True)\n",
    "print (U.shape, s.shape, V.shape) \n",
    "\n",
    "Ud = U[:, :d]\n",
    "Sd = s[:d]*np.eye(d)\n",
    "Vd = V[:d, :]\n",
    "SdVd = np.dot(Sd, Vd)\n",
    "print Ud.shape, Sd.shape, Vd.shape, SdVd.shape\n",
    "reduced_X = Ud"
   ]
  },
  {
   "cell_type": "code",
   "execution_count": null,
   "metadata": {
    "collapsed": true
   },
   "outputs": [],
   "source": [
    "# why is graphing so slow!?\n",
    "plt.figure()\n",
    "plt.scatter(reduced_X[:,0], reduced_X[:,1])\n",
    "plt.show()"
   ]
  },
  {
   "cell_type": "code",
   "execution_count": null,
   "metadata": {
    "collapsed": true
   },
   "outputs": [],
   "source": []
  }
 ],
 "metadata": {
  "kernelspec": {
   "display_name": "Python 2",
   "language": "python",
   "name": "python2"
  },
  "language_info": {
   "codemirror_mode": {
    "name": "ipython",
    "version": 2
   },
   "file_extension": ".py",
   "mimetype": "text/x-python",
   "name": "python",
   "nbconvert_exporter": "python",
   "pygments_lexer": "ipython2",
   "version": "2.7.11"
  }
 },
 "nbformat": 4,
 "nbformat_minor": 0
}
